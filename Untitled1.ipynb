{
 "cells": [
  {
   "cell_type": "code",
   "execution_count": 2,
   "metadata": {},
   "outputs": [],
   "source": [
    "def game():\n",
    "    print(\"random game입니다. 단어를 입력하시면 그 단어들을 먼저 보여주고, 그 중에 임의로 저희가 선택합니다, 저희가 선택한 단어를 맞추시면 됩니다. level은 1과 2로 나눠져 있고, 2단계는 문장 하나를 입력하시면 됩니다. 문장 중 단어를 저희가 선택하겠습니다. 그러면 그 단어를 맞춰 주세요\")\n",
    "\n",
    "    fruit=[]\n",
    "    print(\"스페이스나 엔터 치면 멈춤!ㅋ\")\n",
    "\n",
    "\n",
    "    while True:\n",
    "        f = input(\"단어를 입력하세여 : \")\n",
    "        if f == '' or f.isspace():\n",
    "          if len(fruit) > 1:\n",
    "            break\n",
    "          else:\n",
    "            print('단어수가 작아요, 다시 입력 해주세요')\n",
    "            continue\n",
    "        else :\n",
    "            fruit.append(f)\n",
    "    print(\"단어들은:\",fruit)\n",
    "\n",
    "    import random\n",
    "    i=random.choice(fruit)\n",
    "    print(i)\n",
    "    while True:  \n",
    "      word= input('뭘까요?')\n",
    "      if word == i:\n",
    "        print('올ㅋ')\n",
    "        break\n",
    "      else:\n",
    "        word= input('뭘까요?')\n",
    "        continue\n",
    "\n",
    "    answer= input('한판 더?')\n",
    "\n",
    "    print('$'*70)\n",
    "    print('$'*70)\n",
    "\n",
    "    print(\"random game\")\n",
    "\n",
    "    fruit=[]\n",
    "    print(\"스페이스나 엔터 치면 멈춤!ㅋ\")\n",
    "\n",
    "\n",
    "    while True:\n",
    "        f = input(\"문장을 입력하세여 : \")\n",
    "        fruit = f.split()\n",
    "\n",
    "        if len(fruit) >= 2:\n",
    "            print(\"단어들은:\",fruit)\n",
    "            break\n",
    "        elif len(fruit)<2:\n",
    "            print('단어수가 작아요, 다시 입력 해주세요')\n",
    "            continue\n",
    "\n",
    "\n",
    "\n",
    "    import random\n",
    "    i=random.choice(fruit)\n",
    "    print(i)\n",
    "    while True:  \n",
    "      word= input('뭘까요?')\n",
    "      if word == i:\n",
    "        print('올ㅋ')\n",
    "        break\n",
    "      else:\n",
    "        word= input('뭘까요?')\n",
    "        continue\n",
    "\n",
    "    answer= input('한판 더?')\n",
    "\n",
    "    print('$'*70)"
   ]
  },
  {
   "cell_type": "code",
   "execution_count": 7,
   "metadata": {},
   "outputs": [],
   "source": [
    "def goORnot():\n",
    "    while(1):\n",
    "        i = input(\"게임을 계속하기 원하면 y, 아니면 n을 입력하세요 : \")\n",
    "        if i == '0' or i == '1':\n",
    "            return i\n",
    "        else:\n",
    "            print(\"다시 입력하시오! \")"
   ]
  },
  {
   "cell_type": "code",
   "execution_count": 8,
   "metadata": {},
   "outputs": [
    {
     "name": "stdin",
     "output_type": "stream",
     "text": [
      "게임을 계속하기 원하면 1, 아니면 0을 입력하세요 :  1\n"
     ]
    },
    {
     "name": "stdout",
     "output_type": "stream",
     "text": [
      "게임을 다시 진행합니다.\n"
     ]
    },
    {
     "name": "stdin",
     "output_type": "stream",
     "text": [
      "게임을 계속하기 원하면 1, 아니면 0을 입력하세요 :  0\n"
     ]
    },
    {
     "name": "stdout",
     "output_type": "stream",
     "text": [
      "게임을 종료합니다.\n"
     ]
    }
   ],
   "source": [
    "switch = ''\n",
    "while(1):\n",
    "    #game()\n",
    "    switch = goORnot()\n",
    "    \n",
    "    if switch == '0':\n",
    "        print(\"게임을 종료합니다.\")\n",
    "        break\n",
    "    else:\n",
    "        print(\"게임을 다시 진행합니다.\")\n",
    "    "
   ]
  },
  {
   "cell_type": "code",
   "execution_count": null,
   "metadata": {},
   "outputs": [],
   "source": []
  }
 ],
 "metadata": {
  "kernelspec": {
   "display_name": "Python 3",
   "language": "python",
   "name": "python3"
  },
  "language_info": {
   "codemirror_mode": {
    "name": "ipython",
    "version": 3
   },
   "file_extension": ".py",
   "mimetype": "text/x-python",
   "name": "python",
   "nbconvert_exporter": "python",
   "pygments_lexer": "ipython3",
   "version": "3.6.8"
  }
 },
 "nbformat": 4,
 "nbformat_minor": 2
}
