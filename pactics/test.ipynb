{
 "cells": [
  {
   "cell_type": "code",
   "execution_count": 5,
   "metadata": {},
   "outputs": [
    {
     "name": "stdout",
     "output_type": "stream",
     "text": [
      "CACCCCCUUACGUCGACCAGAUGCGAUGAAGAGGUGUGGGGUGCACGUACUAUAUCUGGUUUUCUGUUUCAUGGACCAACAGACUAUUUAUGCUGGACUCUGACCAAAUCACUGAAGUAUCCUCUCCUCGACUUGUGUCCUGGGGUACCUGAGUUCCUUGUUGAAAUCGUUAGCCUAUACGUGGUGUGGCAUUUCCUGACUUCUAUGAGGGCGUUCCAUAAUGAGUUCCCCGGCAAAUUCUGCUCUGAGAGAAUCACGCGUAUCAGACACUGAGCCCAUACUAAUGCAGCGGUCUGCCCCAAGUUGACCCGCGAAUAGAAAAGUUAAACAAUGCAGUCUUUACUAUGCUGACAGGAUGCAUUGGGCCCGUCAGAAUUUGUGUACCUCUCCUGGUCAACGGAAGGCAUACUCUAACGUCCCUUGGGUAUGCAAUCCCCCGACAGGGCAGAUCCUAAUUUUCUUACACGGCCAGCAGGACGAUACUCCAUGAGUCCACCUAGCCUUACGAGUAACAACCUCUGUCCCCCUAUAAGUUCUACGCGGACGUCAAGAUGCAGUGCCCUUCUUACCGCGACCCGGGCAUGACCUUAGUGAUAGCAUAAUCAUUAGUGCAGCGGUUUUCUUAAGUCGUGGGGAUAUAUGUCUCGGUCAUGCACAGUUAAUUCAAGGAAGGUUGGACCCUGAGAACUGCCAGGAUAUCGCGAAUAUGGGCAAAUCGAUAAGGCCACAAAUGUAUCCUCUUUAGGGGCUAUCUGAUAGAGAGAUCUACUAUUCGAAAUCAGUGAUAUGUUGAGGCGUCGAUCGCAUAGUCGAAGUAUAUCGCGUGGAGCGGGGCUAAUGGAGGCACUGCCAUGCUGCAAGACGGCCCCCCUUAGUUUGUAACUUUCUGAGAAGACUACCCAUAGCCCAUUU\n",
      "\n"
     ]
    }
   ],
   "source": [
    "def DNAtoRNA(datain):\n",
    "    df = open(\"/Users/ksmpooh/Downloads/%s\"%datain,\"r\")\n",
    "    line = df.readline()\n",
    "    return line.replace(\"T\",\"U\")\n",
    "\n",
    "print(DNAtoRNA('rosalind_rna.txt'))\n"
   ]
  },
  {
   "cell_type": "code",
   "execution_count": 14,
   "metadata": {},
   "outputs": [
    {
     "name": "stdout",
     "output_type": "stream",
     "text": [
      "GACTACTGGGTAGGCGTAGAAAGTTAGATGCACAACTCATAGTTGGTTTCGCAATCCGCCGACTCGTAAAAAGTTGTCGACCTACCGGGATAAACCCACTAACTGTGATGTTTACGCCAGATACTTCCTTGCGACATTACCGTAGGATTGCTAGTTATATACAAAACACCCCTTTAGGCAAGACACTCGCTAGCATTGGTCAGCTGCCAATTGTCATCGGGATGCGATACGTAACATAGCGCTAACACCATTTGTTAAGGACGGAGCGACATATTGACCCTCGACCGCGATCGACCCGACATCCATGAAGCATGTTACCTTTTTAGGTGACAACACATCTACCCCGGTAGTATATCTCACATTCGCAGAAAGTCTTTTGTCGGGGCATAGTAAGTTAACTTAGTAGCCGTGGAATCGGCAACCCGAGTCAACGTGGAAGAGGACGCTCCCGGGGCCTCCGATGCTTACTCCGTTCTGTGGGAACGGGGCCCTGCGACTAGTTCTCGCATGGTGGGCGCTGGGCTCTTCATTAATCGGCTCACGTATACCCCCGATGGTGGTTCCGTTTAAATCTCAGTCTTCACTTGCGAGCCTGCGCGCCTTGCGTTGTTCCTCGACCCGCACGACATGTAAACGCATATGGGAGTGTTGTCTGTGTCCTAAGTCGCCGCCCATATACTACCTAAGATGAAATATGGTGTATTTTATGTGAGCCGTATCTTTACTGAGATAACCGGCGTATTGGGACTTCTTAAACCTGTCTGAGCTCAGCGAGAAACAGCATCCGGGTCAGCCCGGGCGTCCG\n"
     ]
    }
   ],
   "source": [
    "def covert_complement(datain):\n",
    "    df = open(\"/Users/ksmpooh/Downloads/%s\"%datain,\"r\")\n",
    "    line = df.readline().strip()\n",
    "    tmp = line[::-1]\n",
    "    out = \"\"\n",
    "    for i in tmp:\n",
    "        if i == \"A\":\n",
    "            out = out + \"T\"\n",
    "        elif i == \"T\":\n",
    "            out = out + \"A\"\n",
    "        elif i == \"C\":\n",
    "            out = out + \"G\"\n",
    "        else:\n",
    "            out = out + \"C\"\n",
    "    return out\n",
    "\n",
    "print(covert_complement(\"rosalind_revc.txt\"))"
   ]
  },
  {
   "cell_type": "code",
   "execution_count": 8,
   "metadata": {},
   "outputs": [
    {
     "data": {
      "text/plain": "'4321'"
     },
     "execution_count": 8,
     "metadata": {},
     "output_type": "execute_result"
    }
   ],
   "source": [
    "a = \"1234\"\n",
    "a[::-1]"
   ]
  },
  {
   "cell_type": "code",
   "execution_count": null,
   "metadata": {},
   "outputs": [],
   "source": []
  }
 ],
 "metadata": {
  "kernelspec": {
   "display_name": "Python 3.8.13 64-bit ('anaconda3': virtualenv)",
   "metadata": {
    "interpreter": {
     "hash": "0c6b25a2ab5e3205a444af4f5a64e29752114153bd45700a2f23b8ddc4fdb0ec"
    }
   },
   "name": "python3"
  },
  "language_info": {
   "codemirror_mode": {
    "name": "ipython",
    "version": 3
   },
   "file_extension": ".py",
   "mimetype": "text/x-python",
   "name": "python",
   "nbconvert_exporter": "python",
   "pygments_lexer": "ipython3",
   "version": "3.8.13"
  },
  "orig_nbformat": 2
 },
 "nbformat": 4,
 "nbformat_minor": 2
}