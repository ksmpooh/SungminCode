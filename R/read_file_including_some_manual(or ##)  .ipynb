{
 "cells": [
  {
   "cell_type": "code",
   "execution_count": null,
   "metadata": {},
   "outputs": [],
   "source": [
    "#There are 2 lines of manual in input file. So it is to make dataframe without ones."
   ]
  },
  {
   "cell_type": "code",
   "execution_count": 3,
   "metadata": {},
   "outputs": [
    {
     "data": {
      "text/html": [
       "<table>\n",
       "<thead><tr><th scope=col>V1</th><th scope=col>V2</th><th scope=col>V3</th><th scope=col>V4</th><th scope=col>V5</th><th scope=col>V6</th><th scope=col>V7</th><th scope=col>V8</th><th scope=col>V9</th><th scope=col>V10</th><th scope=col>...</th><th scope=col>V27</th><th scope=col>V28</th><th scope=col>V29</th><th scope=col>V30</th><th scope=col>V31</th><th scope=col>V32</th><th scope=col>V33</th><th scope=col>V34</th><th scope=col>V35</th><th scope=col>V36</th></tr></thead>\n",
       "<tbody>\n",
       "\t<tr><td>AAR2          </td><td>AAR2          </td><td>NM_001271874.1</td><td>protein_coding</td><td> 6            </td><td>33            </td><td>58            </td><td> 2419         </td><td>0             </td><td>95            </td><td>...           </td><td>1             </td><td>0             </td><td> 8            </td><td>0             </td><td>1             </td><td>0             </td><td>0             </td><td>0             </td><td>24            </td><td>372           </td></tr>\n",
       "\t<tr><td>AAR2          </td><td>AAR2          </td><td>NM_015511.4   </td><td>protein_coding</td><td> 7            </td><td>34            </td><td>58            </td><td> 2419         </td><td>0             </td><td>95            </td><td>...           </td><td>1             </td><td>1             </td><td> 5            </td><td>0             </td><td>1             </td><td>0             </td><td>0             </td><td>0             </td><td>24            </td><td>372           </td></tr>\n",
       "\t<tr><td>ABALON        </td><td>ABALON        </td><td>NR_131907.1   </td><td>              </td><td> 0            </td><td> 0            </td><td> 0            </td><td>  995         </td><td>0             </td><td> 0            </td><td>...           </td><td>0             </td><td>0             </td><td> 0            </td><td>0             </td><td>0             </td><td>0             </td><td>0             </td><td>0             </td><td> 0            </td><td>360           </td></tr>\n",
       "\t<tr><td>ABHD12        </td><td>ABHD12        </td><td>NM_001042472.2</td><td>protein_coding</td><td>13            </td><td>60            </td><td>69            </td><td> 9980         </td><td>0             </td><td>58            </td><td>...           </td><td>1             </td><td>2             </td><td>24            </td><td>0             </td><td>4             </td><td>1             </td><td>0             </td><td>0             </td><td>37            </td><td>630           </td></tr>\n",
       "\t<tr><td>ABHD12        </td><td>ABHD12        </td><td>NM_015600.4   </td><td>protein_coding</td><td>13            </td><td>60            </td><td>70            </td><td>10575         </td><td>0             </td><td>22            </td><td>...           </td><td>2             </td><td>2             </td><td>23            </td><td>0             </td><td>5             </td><td>0             </td><td>0             </td><td>0             </td><td>37            </td><td>630           </td></tr>\n",
       "\t<tr><td>ABHD16B       </td><td>ABHD16B       </td><td>NM_080622.3   </td><td>protein_coding</td><td>12            </td><td>56            </td><td>92            </td><td> 1175         </td><td>0             </td><td> 2            </td><td>...           </td><td>0             </td><td>0             </td><td> 0            </td><td>0             </td><td>6             </td><td>0             </td><td>0             </td><td>0             </td><td>54            </td><td>538           </td></tr>\n",
       "</tbody>\n",
       "</table>\n"
      ],
      "text/latex": [
       "\\begin{tabular}{r|llllllllllllllllllllllllllllllllllll}\n",
       " V1 & V2 & V3 & V4 & V5 & V6 & V7 & V8 & V9 & V10 & ... & V27 & V28 & V29 & V30 & V31 & V32 & V33 & V34 & V35 & V36\\\\\n",
       "\\hline\n",
       "\t AAR2             & AAR2             & NM\\_001271874.1 & protein\\_coding &  6               & 33               & 58               &  2419            & 0                & 95               & ...              & 1                & 0                &  8               & 0                & 1                & 0                & 0                & 0                & 24               & 372             \\\\\n",
       "\t AAR2             & AAR2             & NM\\_015511.4    & protein\\_coding &  7               & 34               & 58               &  2419            & 0                & 95               & ...              & 1                & 1                &  5               & 0                & 1                & 0                & 0                & 0                & 24               & 372             \\\\\n",
       "\t ABALON           & ABALON           & NR\\_131907.1    &                  &  0               &  0               &  0               &   995            & 0                &  0               & ...              & 0                & 0                &  0               & 0                & 0                & 0                & 0                & 0                &  0               & 360             \\\\\n",
       "\t ABHD12           & ABHD12           & NM\\_001042472.2 & protein\\_coding & 13               & 60               & 69               &  9980            & 0                & 58               & ...              & 1                & 2                & 24               & 0                & 4                & 1                & 0                & 0                & 37               & 630             \\\\\n",
       "\t ABHD12           & ABHD12           & NM\\_015600.4    & protein\\_coding & 13               & 60               & 70               & 10575            & 0                & 22               & ...              & 2                & 2                & 23               & 0                & 5                & 0                & 0                & 0                & 37               & 630             \\\\\n",
       "\t ABHD16B          & ABHD16B          & NM\\_080622.3    & protein\\_coding & 12               & 56               & 92               &  1175            & 0                &  2               & ...              & 0                & 0                &  0               & 0                & 6                & 0                & 0                & 0                & 54               & 538             \\\\\n",
       "\\end{tabular}\n"
      ],
      "text/markdown": [
       "\n",
       "| V1 | V2 | V3 | V4 | V5 | V6 | V7 | V8 | V9 | V10 | ... | V27 | V28 | V29 | V30 | V31 | V32 | V33 | V34 | V35 | V36 |\n",
       "|---|---|---|---|---|---|---|---|---|---|---|---|---|---|---|---|---|---|---|---|---|\n",
       "| AAR2           | AAR2           | NM_001271874.1 | protein_coding |  6             | 33             | 58             |  2419          | 0              | 95             | ...            | 1              | 0              |  8             | 0              | 1              | 0              | 0              | 0              | 24             | 372            |\n",
       "| AAR2           | AAR2           | NM_015511.4    | protein_coding |  7             | 34             | 58             |  2419          | 0              | 95             | ...            | 1              | 1              |  5             | 0              | 1              | 0              | 0              | 0              | 24             | 372            |\n",
       "| ABALON         | ABALON         | NR_131907.1    |                |  0             |  0             |  0             |   995          | 0              |  0             | ...            | 0              | 0              |  0             | 0              | 0              | 0              | 0              | 0              |  0             | 360            |\n",
       "| ABHD12         | ABHD12         | NM_001042472.2 | protein_coding | 13             | 60             | 69             |  9980          | 0              | 58             | ...            | 1              | 2              | 24             | 0              | 4              | 1              | 0              | 0              | 37             | 630            |\n",
       "| ABHD12         | ABHD12         | NM_015600.4    | protein_coding | 13             | 60             | 70             | 10575          | 0              | 22             | ...            | 2              | 2              | 23             | 0              | 5              | 0              | 0              | 0              | 37             | 630            |\n",
       "| ABHD16B        | ABHD16B        | NM_080622.3    | protein_coding | 12             | 56             | 92             |  1175          | 0              |  2             | ...            | 0              | 0              |  0             | 0              | 6              | 0              | 0              | 0              | 54             | 538            |\n",
       "\n"
      ],
      "text/plain": [
       "  V1      V2      V3             V4             V5 V6 V7 V8    V9 V10 ... V27\n",
       "1 AAR2    AAR2    NM_001271874.1 protein_coding  6 33 58  2419 0  95  ... 1  \n",
       "2 AAR2    AAR2    NM_015511.4    protein_coding  7 34 58  2419 0  95  ... 1  \n",
       "3 ABALON  ABALON  NR_131907.1                    0  0  0   995 0   0  ... 0  \n",
       "4 ABHD12  ABHD12  NM_001042472.2 protein_coding 13 60 69  9980 0  58  ... 1  \n",
       "5 ABHD12  ABHD12  NM_015600.4    protein_coding 13 60 70 10575 0  22  ... 2  \n",
       "6 ABHD16B ABHD16B NM_080622.3    protein_coding 12 56 92  1175 0   2  ... 0  \n",
       "  V28 V29 V30 V31 V32 V33 V34 V35 V36\n",
       "1 0    8  0   1   0   0   0   24  372\n",
       "2 1    5  0   1   0   0   0   24  372\n",
       "3 0    0  0   0   0   0   0    0  360\n",
       "4 2   24  0   4   1   0   0   37  630\n",
       "5 2   23  0   5   0   0   0   37  630\n",
       "6 0    0  0   6   0   0   0   54  538"
      ]
     },
     "metadata": {},
     "output_type": "display_data"
    }
   ],
   "source": [
    "\n",
    "a <- read.table(\"c:/Users/user/Desktop/snpEff_summary_genome20.genes.txt\",sep = '\\t')\n",
    "\n",
    "head(a)"
   ]
  },
  {
   "cell_type": "code",
   "execution_count": 5,
   "metadata": {},
   "outputs": [
    {
     "data": {
      "text/html": [
       "'#GeneName\\tGeneId\\tTranscriptId\\tBioType\\tvariants_impact_HIGH\\tvariants_impact_LOW\\tvariants_impact_MODERATE\\tvariants_impact_MODIFIER\\tvariants_effect_3_prime_UTR_truncation\\tvariants_effect_3_prime_UTR_variant\\tvariants_effect_5_prime_UTR_premature_start_codon_gain_variant\\tvariants_effect_5_prime_UTR_truncation\\tvariants_effect_5_prime_UTR_variant\\tvariants_effect_conservative_inframe_deletion\\tvariants_effect_conservative_inframe_insertion\\tvariants_effect_disruptive_inframe_deletion\\tvariants_effect_disruptive_inframe_insertion\\tvariants_effect_downstream_gene_variant\\tvariants_effect_exon_loss_variant\\tvariants_effect_frameshift_variant\\tvariants_effect_initiator_codon_variant\\tvariants_effect_intron_variant\\tvariants_effect_missense_variant\\tvariants_effect_non_coding_transcript_exon_variant\\tvariants_effect_non_coding_transcript_variant\\tvariants_effect_protein_protein_contact\\tvariants_effect_splice_acceptor_variant\\tvariants_effect_splice_donor_variant\\tvariants_effect_splice_region_variant\\tvariants_effect_start_lost\\tvariants_effect_stop_gained\\tvariants_effect_stop_lost\\tvariants_effect_stop_retained_variant\\tvariants_effect_structural_interaction_variant\\tvariants_effect_synonymous_variant\\tvariants_effect_upstream_gene_variant'"
      ],
      "text/latex": [
       "'\\#GeneName\\textbackslash{}tGeneId\\textbackslash{}tTranscriptId\\textbackslash{}tBioType\\textbackslash{}tvariants\\_impact\\_HIGH\\textbackslash{}tvariants\\_impact\\_LOW\\textbackslash{}tvariants\\_impact\\_MODERATE\\textbackslash{}tvariants\\_impact\\_MODIFIER\\textbackslash{}tvariants\\_effect\\_3\\_prime\\_UTR\\_truncation\\textbackslash{}tvariants\\_effect\\_3\\_prime\\_UTR\\_variant\\textbackslash{}tvariants\\_effect\\_5\\_prime\\_UTR\\_premature\\_start\\_codon\\_gain\\_variant\\textbackslash{}tvariants\\_effect\\_5\\_prime\\_UTR\\_truncation\\textbackslash{}tvariants\\_effect\\_5\\_prime\\_UTR\\_variant\\textbackslash{}tvariants\\_effect\\_conservative\\_inframe\\_deletion\\textbackslash{}tvariants\\_effect\\_conservative\\_inframe\\_insertion\\textbackslash{}tvariants\\_effect\\_disruptive\\_inframe\\_deletion\\textbackslash{}tvariants\\_effect\\_disruptive\\_inframe\\_insertion\\textbackslash{}tvariants\\_effect\\_downstream\\_gene\\_variant\\textbackslash{}tvariants\\_effect\\_exon\\_loss\\_variant\\textbackslash{}tvariants\\_effect\\_frameshift\\_variant\\textbackslash{}tvariants\\_effect\\_initiator\\_codon\\_variant\\textbackslash{}tvariants\\_effect\\_intron\\_variant\\textbackslash{}tvariants\\_effect\\_missense\\_variant\\textbackslash{}tvariants\\_effect\\_non\\_coding\\_transcript\\_exon\\_variant\\textbackslash{}tvariants\\_effect\\_non\\_coding\\_transcript\\_variant\\textbackslash{}tvariants\\_effect\\_protein\\_protein\\_contact\\textbackslash{}tvariants\\_effect\\_splice\\_acceptor\\_variant\\textbackslash{}tvariants\\_effect\\_splice\\_donor\\_variant\\textbackslash{}tvariants\\_effect\\_splice\\_region\\_variant\\textbackslash{}tvariants\\_effect\\_start\\_lost\\textbackslash{}tvariants\\_effect\\_stop\\_gained\\textbackslash{}tvariants\\_effect\\_stop\\_lost\\textbackslash{}tvariants\\_effect\\_stop\\_retained\\_variant\\textbackslash{}tvariants\\_effect\\_structural\\_interaction\\_variant\\textbackslash{}tvariants\\_effect\\_synonymous\\_variant\\textbackslash{}tvariants\\_effect\\_upstream\\_gene\\_variant'"
      ],
      "text/markdown": [
       "'#GeneName\\tGeneId\\tTranscriptId\\tBioType\\tvariants_impact_HIGH\\tvariants_impact_LOW\\tvariants_impact_MODERATE\\tvariants_impact_MODIFIER\\tvariants_effect_3_prime_UTR_truncation\\tvariants_effect_3_prime_UTR_variant\\tvariants_effect_5_prime_UTR_premature_start_codon_gain_variant\\tvariants_effect_5_prime_UTR_truncation\\tvariants_effect_5_prime_UTR_variant\\tvariants_effect_conservative_inframe_deletion\\tvariants_effect_conservative_inframe_insertion\\tvariants_effect_disruptive_inframe_deletion\\tvariants_effect_disruptive_inframe_insertion\\tvariants_effect_downstream_gene_variant\\tvariants_effect_exon_loss_variant\\tvariants_effect_frameshift_variant\\tvariants_effect_initiator_codon_variant\\tvariants_effect_intron_variant\\tvariants_effect_missense_variant\\tvariants_effect_non_coding_transcript_exon_variant\\tvariants_effect_non_coding_transcript_variant\\tvariants_effect_protein_protein_contact\\tvariants_effect_splice_acceptor_variant\\tvariants_effect_splice_donor_variant\\tvariants_effect_splice_region_variant\\tvariants_effect_start_lost\\tvariants_effect_stop_gained\\tvariants_effect_stop_lost\\tvariants_effect_stop_retained_variant\\tvariants_effect_structural_interaction_variant\\tvariants_effect_synonymous_variant\\tvariants_effect_upstream_gene_variant'"
      ],
      "text/plain": [
       "[1] \"#GeneName\\tGeneId\\tTranscriptId\\tBioType\\tvariants_impact_HIGH\\tvariants_impact_LOW\\tvariants_impact_MODERATE\\tvariants_impact_MODIFIER\\tvariants_effect_3_prime_UTR_truncation\\tvariants_effect_3_prime_UTR_variant\\tvariants_effect_5_prime_UTR_premature_start_codon_gain_variant\\tvariants_effect_5_prime_UTR_truncation\\tvariants_effect_5_prime_UTR_variant\\tvariants_effect_conservative_inframe_deletion\\tvariants_effect_conservative_inframe_insertion\\tvariants_effect_disruptive_inframe_deletion\\tvariants_effect_disruptive_inframe_insertion\\tvariants_effect_downstream_gene_variant\\tvariants_effect_exon_loss_variant\\tvariants_effect_frameshift_variant\\tvariants_effect_initiator_codon_variant\\tvariants_effect_intron_variant\\tvariants_effect_missense_variant\\tvariants_effect_non_coding_transcript_exon_variant\\tvariants_effect_non_coding_transcript_variant\\tvariants_effect_protein_protein_contact\\tvariants_effect_splice_acceptor_variant\\tvariants_effect_splice_donor_variant\\tvariants_effect_splice_region_variant\\tvariants_effect_start_lost\\tvariants_effect_stop_gained\\tvariants_effect_stop_lost\\tvariants_effect_stop_retained_variant\\tvariants_effect_structural_interaction_variant\\tvariants_effect_synonymous_variant\\tvariants_effect_upstream_gene_variant\""
      ]
     },
     "metadata": {},
     "output_type": "display_data"
    }
   ],
   "source": [
    "b <- readLines(\"c:/Users/user/Desktop/snpEff_summary_genome20.genes.txt\",n = 2)[2]\n",
    "b"
   ]
  },
  {
   "cell_type": "code",
   "execution_count": 6,
   "metadata": {},
   "outputs": [
    {
     "data": {
      "text/html": [
       "<ol class=list-inline>\n",
       "\t<li>'GeneName'</li>\n",
       "\t<li>'GeneId'</li>\n",
       "\t<li>'TranscriptId'</li>\n",
       "\t<li>'BioType'</li>\n",
       "\t<li>'variants_impact_HIGH'</li>\n",
       "\t<li>'variants_impact_LOW'</li>\n",
       "\t<li>'variants_impact_MODERATE'</li>\n",
       "\t<li>'variants_impact_MODIFIER'</li>\n",
       "\t<li>'variants_effect_3_prime_UTR_truncation'</li>\n",
       "\t<li>'variants_effect_3_prime_UTR_variant'</li>\n",
       "\t<li>'variants_effect_5_prime_UTR_premature_start_codon_gain_variant'</li>\n",
       "\t<li>'variants_effect_5_prime_UTR_truncation'</li>\n",
       "\t<li>'variants_effect_5_prime_UTR_variant'</li>\n",
       "\t<li>'variants_effect_conservative_inframe_deletion'</li>\n",
       "\t<li>'variants_effect_conservative_inframe_insertion'</li>\n",
       "\t<li>'variants_effect_disruptive_inframe_deletion'</li>\n",
       "\t<li>'variants_effect_disruptive_inframe_insertion'</li>\n",
       "\t<li>'variants_effect_downstream_gene_variant'</li>\n",
       "\t<li>'variants_effect_exon_loss_variant'</li>\n",
       "\t<li>'variants_effect_frameshift_variant'</li>\n",
       "\t<li>'variants_effect_initiator_codon_variant'</li>\n",
       "\t<li>'variants_effect_intron_variant'</li>\n",
       "\t<li>'variants_effect_missense_variant'</li>\n",
       "\t<li>'variants_effect_non_coding_transcript_exon_variant'</li>\n",
       "\t<li>'variants_effect_non_coding_transcript_variant'</li>\n",
       "\t<li>'variants_effect_protein_protein_contact'</li>\n",
       "\t<li>'variants_effect_splice_acceptor_variant'</li>\n",
       "\t<li>'variants_effect_splice_donor_variant'</li>\n",
       "\t<li>'variants_effect_splice_region_variant'</li>\n",
       "\t<li>'variants_effect_start_lost'</li>\n",
       "\t<li>'variants_effect_stop_gained'</li>\n",
       "\t<li>'variants_effect_stop_lost'</li>\n",
       "\t<li>'variants_effect_stop_retained_variant'</li>\n",
       "\t<li>'variants_effect_structural_interaction_variant'</li>\n",
       "\t<li>'variants_effect_synonymous_variant'</li>\n",
       "\t<li>'variants_effect_upstream_gene_variant'</li>\n",
       "</ol>\n"
      ],
      "text/latex": [
       "\\begin{enumerate*}\n",
       "\\item 'GeneName'\n",
       "\\item 'GeneId'\n",
       "\\item 'TranscriptId'\n",
       "\\item 'BioType'\n",
       "\\item 'variants\\_impact\\_HIGH'\n",
       "\\item 'variants\\_impact\\_LOW'\n",
       "\\item 'variants\\_impact\\_MODERATE'\n",
       "\\item 'variants\\_impact\\_MODIFIER'\n",
       "\\item 'variants\\_effect\\_3\\_prime\\_UTR\\_truncation'\n",
       "\\item 'variants\\_effect\\_3\\_prime\\_UTR\\_variant'\n",
       "\\item 'variants\\_effect\\_5\\_prime\\_UTR\\_premature\\_start\\_codon\\_gain\\_variant'\n",
       "\\item 'variants\\_effect\\_5\\_prime\\_UTR\\_truncation'\n",
       "\\item 'variants\\_effect\\_5\\_prime\\_UTR\\_variant'\n",
       "\\item 'variants\\_effect\\_conservative\\_inframe\\_deletion'\n",
       "\\item 'variants\\_effect\\_conservative\\_inframe\\_insertion'\n",
       "\\item 'variants\\_effect\\_disruptive\\_inframe\\_deletion'\n",
       "\\item 'variants\\_effect\\_disruptive\\_inframe\\_insertion'\n",
       "\\item 'variants\\_effect\\_downstream\\_gene\\_variant'\n",
       "\\item 'variants\\_effect\\_exon\\_loss\\_variant'\n",
       "\\item 'variants\\_effect\\_frameshift\\_variant'\n",
       "\\item 'variants\\_effect\\_initiator\\_codon\\_variant'\n",
       "\\item 'variants\\_effect\\_intron\\_variant'\n",
       "\\item 'variants\\_effect\\_missense\\_variant'\n",
       "\\item 'variants\\_effect\\_non\\_coding\\_transcript\\_exon\\_variant'\n",
       "\\item 'variants\\_effect\\_non\\_coding\\_transcript\\_variant'\n",
       "\\item 'variants\\_effect\\_protein\\_protein\\_contact'\n",
       "\\item 'variants\\_effect\\_splice\\_acceptor\\_variant'\n",
       "\\item 'variants\\_effect\\_splice\\_donor\\_variant'\n",
       "\\item 'variants\\_effect\\_splice\\_region\\_variant'\n",
       "\\item 'variants\\_effect\\_start\\_lost'\n",
       "\\item 'variants\\_effect\\_stop\\_gained'\n",
       "\\item 'variants\\_effect\\_stop\\_lost'\n",
       "\\item 'variants\\_effect\\_stop\\_retained\\_variant'\n",
       "\\item 'variants\\_effect\\_structural\\_interaction\\_variant'\n",
       "\\item 'variants\\_effect\\_synonymous\\_variant'\n",
       "\\item 'variants\\_effect\\_upstream\\_gene\\_variant'\n",
       "\\end{enumerate*}\n"
      ],
      "text/markdown": [
       "1. 'GeneName'\n",
       "2. 'GeneId'\n",
       "3. 'TranscriptId'\n",
       "4. 'BioType'\n",
       "5. 'variants_impact_HIGH'\n",
       "6. 'variants_impact_LOW'\n",
       "7. 'variants_impact_MODERATE'\n",
       "8. 'variants_impact_MODIFIER'\n",
       "9. 'variants_effect_3_prime_UTR_truncation'\n",
       "10. 'variants_effect_3_prime_UTR_variant'\n",
       "11. 'variants_effect_5_prime_UTR_premature_start_codon_gain_variant'\n",
       "12. 'variants_effect_5_prime_UTR_truncation'\n",
       "13. 'variants_effect_5_prime_UTR_variant'\n",
       "14. 'variants_effect_conservative_inframe_deletion'\n",
       "15. 'variants_effect_conservative_inframe_insertion'\n",
       "16. 'variants_effect_disruptive_inframe_deletion'\n",
       "17. 'variants_effect_disruptive_inframe_insertion'\n",
       "18. 'variants_effect_downstream_gene_variant'\n",
       "19. 'variants_effect_exon_loss_variant'\n",
       "20. 'variants_effect_frameshift_variant'\n",
       "21. 'variants_effect_initiator_codon_variant'\n",
       "22. 'variants_effect_intron_variant'\n",
       "23. 'variants_effect_missense_variant'\n",
       "24. 'variants_effect_non_coding_transcript_exon_variant'\n",
       "25. 'variants_effect_non_coding_transcript_variant'\n",
       "26. 'variants_effect_protein_protein_contact'\n",
       "27. 'variants_effect_splice_acceptor_variant'\n",
       "28. 'variants_effect_splice_donor_variant'\n",
       "29. 'variants_effect_splice_region_variant'\n",
       "30. 'variants_effect_start_lost'\n",
       "31. 'variants_effect_stop_gained'\n",
       "32. 'variants_effect_stop_lost'\n",
       "33. 'variants_effect_stop_retained_variant'\n",
       "34. 'variants_effect_structural_interaction_variant'\n",
       "35. 'variants_effect_synonymous_variant'\n",
       "36. 'variants_effect_upstream_gene_variant'\n",
       "\n",
       "\n"
      ],
      "text/plain": [
       " [1] \"GeneName\"                                                      \n",
       " [2] \"GeneId\"                                                        \n",
       " [3] \"TranscriptId\"                                                  \n",
       " [4] \"BioType\"                                                       \n",
       " [5] \"variants_impact_HIGH\"                                          \n",
       " [6] \"variants_impact_LOW\"                                           \n",
       " [7] \"variants_impact_MODERATE\"                                      \n",
       " [8] \"variants_impact_MODIFIER\"                                      \n",
       " [9] \"variants_effect_3_prime_UTR_truncation\"                        \n",
       "[10] \"variants_effect_3_prime_UTR_variant\"                           \n",
       "[11] \"variants_effect_5_prime_UTR_premature_start_codon_gain_variant\"\n",
       "[12] \"variants_effect_5_prime_UTR_truncation\"                        \n",
       "[13] \"variants_effect_5_prime_UTR_variant\"                           \n",
       "[14] \"variants_effect_conservative_inframe_deletion\"                 \n",
       "[15] \"variants_effect_conservative_inframe_insertion\"                \n",
       "[16] \"variants_effect_disruptive_inframe_deletion\"                   \n",
       "[17] \"variants_effect_disruptive_inframe_insertion\"                  \n",
       "[18] \"variants_effect_downstream_gene_variant\"                       \n",
       "[19] \"variants_effect_exon_loss_variant\"                             \n",
       "[20] \"variants_effect_frameshift_variant\"                            \n",
       "[21] \"variants_effect_initiator_codon_variant\"                       \n",
       "[22] \"variants_effect_intron_variant\"                                \n",
       "[23] \"variants_effect_missense_variant\"                              \n",
       "[24] \"variants_effect_non_coding_transcript_exon_variant\"            \n",
       "[25] \"variants_effect_non_coding_transcript_variant\"                 \n",
       "[26] \"variants_effect_protein_protein_contact\"                       \n",
       "[27] \"variants_effect_splice_acceptor_variant\"                       \n",
       "[28] \"variants_effect_splice_donor_variant\"                          \n",
       "[29] \"variants_effect_splice_region_variant\"                         \n",
       "[30] \"variants_effect_start_lost\"                                    \n",
       "[31] \"variants_effect_stop_gained\"                                   \n",
       "[32] \"variants_effect_stop_lost\"                                     \n",
       "[33] \"variants_effect_stop_retained_variant\"                         \n",
       "[34] \"variants_effect_structural_interaction_variant\"                \n",
       "[35] \"variants_effect_synonymous_variant\"                            \n",
       "[36] \"variants_effect_upstream_gene_variant\"                         "
      ]
     },
     "metadata": {},
     "output_type": "display_data"
    }
   ],
   "source": [
    "c <- gsub(\"#\",\"\",b)   # 파일에 있는 # --> \"\" 빈공간으로 바꾸기\n",
    "d <- strsplit(c,\"\\t\") # 다시 그 string을 \\t로 구분\n",
    "e =a\n",
    "colnames(e)<-unlist(d) #list type으로 되어 있는 d 를 unlist 해준다!\n",
    "\n",
    "colnames(e)"
   ]
  }
 ],
 "metadata": {
  "kernelspec": {
   "display_name": "R",
   "language": "R",
   "name": "ir"
  },
  "language_info": {
   "codemirror_mode": "r",
   "file_extension": ".r",
   "mimetype": "text/x-r-source",
   "name": "R",
   "pygments_lexer": "r",
   "version": "3.6.0"
  }
 },
 "nbformat": 4,
 "nbformat_minor": 2
}
