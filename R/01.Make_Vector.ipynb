{
 "cells": [
  {
   "cell_type": "code",
   "execution_count": 4,
   "metadata": {},
   "outputs": [
    {
     "ename": "ERROR",
     "evalue": "Error in parse(text = x, srcfile = src): <text>:2:3: 예상하지 못한 문자열 상수(string constant)입니다.\n7: array()\n8: '\n     ^\n",
     "output_type": "error",
     "traceback": [
      "Error in parse(text = x, srcfile = src): <text>:2:3: 예상하지 못한 문자열 상수(string constant)입니다.\n7: array()\n8: '\n     ^\nTraceback:\n"
     ]
    }
   ],
   "source": [
    "#Control vactor\n",
    "'''\n",
    "seq()\n",
    "rep()\n",
    "cbind(), rbind()\n",
    "matrix()\n",
    "array()\n",
    "'''\n"
   ]
  },
  {
   "cell_type": "code",
   "execution_count": 8,
   "metadata": {},
   "outputs": [],
   "source": [
    "#vector\n",
    "x<-c(1,3,5,7,9,2,4,6,8,10)"
   ]
  },
  {
   "cell_type": "code",
   "execution_count": null,
   "metadata": {},
   "outputs": [],
   "source": []
  }
 ],
 "metadata": {
  "kernelspec": {
   "display_name": "R",
   "language": "R",
   "name": "ir"
  },
  "language_info": {
   "codemirror_mode": "r",
   "file_extension": ".r",
   "mimetype": "text/x-r-source",
   "name": "R",
   "pygments_lexer": "r",
   "version": "3.6.0"
  }
 },
 "nbformat": 4,
 "nbformat_minor": 2
}
