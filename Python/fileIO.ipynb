{
 "cells": [
  {
   "cell_type": "code",
   "execution_count": 1,
   "metadata": {},
   "outputs": [],
   "source": [
    "import os,gzip"
   ]
  },
  {
   "cell_type": "code",
   "execution_count": null,
   "metadata": {},
   "outputs": [],
   "source": [
    "class fileIO():\n",
    "    def __init__(self,wdir):\n",
    "        if os.path.exists(wdir) & os.path.isdir(wdir):\n",
    "            print(\"Directory exist\")\n",
    "            return\n",
    "        else:\n",
    "            print(\"mkdir\")\n",
    "            #os.system(\"mkdir \" + wdir)\n",
    "            os.mkdir(wdir)\n",
    "    \n",
    "    def fileRead(self, fileIn):\n",
    "        fileList = open(fileIn, 'r')\n",
    "        inData = [f.replace('\\r','').replace('\\n','') for f in fileList]\n",
    "        \n",
    "        return inData\n",
    "    \n",
    "    def gzRead(self,fileIn):\n",
    "        \n",
    "        fileList = gzip.open(fileIn,'r')\n",
    "        inData = [f.replace('\\r','').replace('\\n','') for f in fileList]\n",
    "        \n",
    "        return inData\n",
    "    \n",
    "    def fileWrite(self,writeData, fileOut):\n",
    "        outFile = open(fileOut,'w')\n",
    "        \n",
    "        for i in writeData:\n",
    "            outFile.write(i + '\\n')\n",
    "        outFile.close()\n",
    "        \n",
    "        \n",
    "    def file_list(self,path,typeof):\n",
    "        \n",
    "        \n",
    "    "
   ]
  }
 ],
 "metadata": {
  "kernelspec": {
   "display_name": "Python 3",
   "language": "python",
   "name": "python3"
  },
  "language_info": {
   "codemirror_mode": {
    "name": "ipython",
    "version": 3
   },
   "file_extension": ".py",
   "mimetype": "text/x-python",
   "name": "python",
   "nbconvert_exporter": "python",
   "pygments_lexer": "ipython3",
   "version": "3.6.8"
  }
 },
 "nbformat": 4,
 "nbformat_minor": 2
}
