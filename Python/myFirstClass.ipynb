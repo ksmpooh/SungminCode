{
 "cells": [
  {
   "cell_type": "code",
   "execution_count": 1,
   "metadata": {},
   "outputs": [],
   "source": [
    "class FourCal:\n",
    "    def __init__(self,a,b):\n",
    "        print(\"success to make fourCal object\")\n",
    "        self.a =a\n",
    "        self.b =b\n",
    "    def setdata(self,x,y):\n",
    "        self.a = x\n",
    "        self.b = y\n",
    "    \n",
    "    def add(self):\n",
    "        print(self.a+self.b)\n",
    "    \n",
    "    def mul(self):\n",
    "        print(self.a*self.b)\n",
    "    \n",
    "    def sub(self):\n",
    "        print(self.a - self.b)\n",
    "    \n",
    "    def div(self):\n",
    "        print(self.a / self.b)\n",
    "        \n"
   ]
  },
  {
   "cell_type": "code",
   "execution_count": 2,
   "metadata": {},
   "outputs": [],
   "source": [
    "'''\n",
    "why inheritance use?\n",
    "module화 되어 있는 class 같은 경우 변경하거나 추가하기 힘들다.\n",
    "그래서 inheritance를 이용하여 사용자가 쉽게 추가 할 수 있다. \n",
    "\n",
    "'''\n",
    "\n",
    "class MoreFourCal(FourCal):\n",
    "    def pow(self):\n",
    "        print(self.a ** self.b)"
   ]
  },
  {
   "cell_type": "code",
   "execution_count": 3,
   "metadata": {},
   "outputs": [
    {
     "name": "stdout",
     "output_type": "stream",
     "text": [
      "success to make fourCal object\n",
      "6\n",
      "8\n",
      "2\n",
      "2.0\n"
     ]
    }
   ],
   "source": [
    "a = FourCal(4,2)\n",
    "a.setdata(4,2)\n",
    "a.add()\n",
    "a.mul()\n",
    "a.sub()\n",
    "a.div()\n"
   ]
  },
  {
   "cell_type": "code",
   "execution_count": 4,
   "metadata": {},
   "outputs": [],
   "source": [
    "class MoreFourCal(FourCal):\n",
    "    def pow(self):\n",
    "        print(self.a ** self.b)"
   ]
  },
  {
   "cell_type": "code",
   "execution_count": 9,
   "metadata": {},
   "outputs": [
    {
     "name": "stdout",
     "output_type": "stream",
     "text": [
      "success to make fourCal object\n",
      "6\n",
      "16\n"
     ]
    }
   ],
   "source": [
    "b = MoreFourCal(4,2)\n",
    "b.add()\n",
    "b.pow()\n"
   ]
  },
  {
   "cell_type": "code",
   "execution_count": 10,
   "metadata": {},
   "outputs": [],
   "source": [
    "#override\n",
    "class SafeFourCal(FourCal):\n",
    "    def div(self):\n",
    "        if self.b == 0:\n",
    "            return 0\n",
    "        else:\n",
    "            print(self.a/self.b)\n",
    "            "
   ]
  },
  {
   "cell_type": "code",
   "execution_count": 11,
   "metadata": {},
   "outputs": [
    {
     "name": "stdout",
     "output_type": "stream",
     "text": [
      "2.0\n"
     ]
    }
   ],
   "source": [
    "b.div()"
   ]
  },
  {
   "cell_type": "code",
   "execution_count": null,
   "metadata": {},
   "outputs": [],
   "source": []
  }
 ],
 "metadata": {
  "kernelspec": {
   "display_name": "Python 3",
   "language": "python",
   "name": "python3"
  },
  "language_info": {
   "codemirror_mode": {
    "name": "ipython",
    "version": 3
   },
   "file_extension": ".py",
   "mimetype": "text/x-python",
   "name": "python",
   "nbconvert_exporter": "python",
   "pygments_lexer": "ipython3",
   "version": "3.6.8"
  }
 },
 "nbformat": 4,
 "nbformat_minor": 2
}
