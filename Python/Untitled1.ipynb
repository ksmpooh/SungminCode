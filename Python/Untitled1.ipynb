{
 "cells": [
  {
   "cell_type": "code",
   "execution_count": 1,
   "metadata": {},
   "outputs": [],
   "source": [
    "import os,glob"
   ]
  },
  {
   "cell_type": "code",
   "execution_count": 4,
   "metadata": {},
   "outputs": [],
   "source": [
    "fileList = glob.glob(\"c:/Users/user/Desktop/KCDC/Gastric/*\")"
   ]
  },
  {
   "cell_type": "code",
   "execution_count": 5,
   "metadata": {},
   "outputs": [
    {
     "data": {
      "text/plain": [
       "['c:/Users/user/Desktop/KCDC/Gastric\\\\2nd_QC_cel_file_list',\n",
       " 'c:/Users/user/Desktop/KCDC/Gastric\\\\2nd_QC_cel_file_list.txt',\n",
       " 'c:/Users/user/Desktop/KCDC/Gastric\\\\cel_file_list.txt',\n",
       " 'c:/Users/user/Desktop/KCDC/Gastric\\\\last_2nd_QC',\n",
       " 'c:/Users/user/Desktop/KCDC/Gastric\\\\merge_rmSample_1stQC.txt',\n",
       " 'c:/Users/user/Desktop/KCDC/Gastric\\\\PCA',\n",
       " 'c:/Users/user/Desktop/KCDC/Gastric\\\\plink',\n",
       " 'c:/Users/user/Desktop/KCDC/Gastric\\\\plot',\n",
       " 'c:/Users/user/Desktop/KCDC/Gastric\\\\plot.r',\n",
       " 'c:/Users/user/Desktop/KCDC/Gastric\\\\plotDATA',\n",
       " 'c:/Users/user/Desktop/KCDC/Gastric\\\\PPT',\n",
       " 'c:/Users/user/Desktop/KCDC/Gastric\\\\QC',\n",
       " 'c:/Users/user/Desktop/KCDC/Gastric\\\\Ref',\n",
       " 'c:/Users/user/Desktop/KCDC/Gastric\\\\Summary.xlsx']"
      ]
     },
     "execution_count": 5,
     "metadata": {},
     "output_type": "execute_result"
    }
   ],
   "source": [
    "fileList"
   ]
  },
  {
   "cell_type": "code",
   "execution_count": null,
   "metadata": {},
   "outputs": [],
   "source": [
    "flie_"
   ]
  }
 ],
 "metadata": {
  "kernelspec": {
   "display_name": "Python 3",
   "language": "python",
   "name": "python3"
  },
  "language_info": {
   "codemirror_mode": {
    "name": "ipython",
    "version": 3
   },
   "file_extension": ".py",
   "mimetype": "text/x-python",
   "name": "python",
   "nbconvert_exporter": "python",
   "pygments_lexer": "ipython3",
   "version": "3.6.8"
  }
 },
 "nbformat": 4,
 "nbformat_minor": 2
}
