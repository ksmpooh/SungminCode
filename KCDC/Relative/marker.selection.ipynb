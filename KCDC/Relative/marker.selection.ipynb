{
 "cells": [
  {
   "cell_type": "code",
   "execution_count": 1,
   "metadata": {},
   "outputs": [],
   "source": [
    "## marker selection from identical snp list\n"
   ]
  },
  {
   "cell_type": "code",
   "execution_count": 82,
   "metadata": {},
   "outputs": [],
   "source": [
    "import math\n",
    "wDir = \"/Users/ksmpooh/Desktop/KCDC/FinalKing_JG/2023/\"\n",
    "df = open(wDir + \"snplist.with.chrpos.v2.txt\",\"r\")\n",
    "out = open(wDir + \"marker.selection.withpatent.inkchip.txt\",\"w\")\n",
    "ref = open(\"/Users/ksmpooh/Desktop/KCDC/GWAS/Axiom_KORV1_1.na35.annot.extract.txt\",\"r\")"
   ]
  },
  {
   "cell_type": "code",
   "execution_count": 83,
   "metadata": {},
   "outputs": [
    {
     "name": "stdout",
     "output_type": "stream",
     "text": [
      "['Probe_Set_ID', 'Affy_SNP_ID', 'dbSNP_RS_ID', 'Chromosome', 'Physical_Position', 'Strand', 'Cytoband', 'Allele_A', 'Allele_B', 'Ref_Allele', 'Alt_Allele', 'Position_End', 'Flank']\n"
     ]
    },
    {
     "data": {
      "text/plain": "'\\ndf\\n  V1        V2 V3 V4         V5\\n1  1  14527850  C  T   rs515603\\n2  1 105736860  A  G rs10785736\\n3  1 190004990  C  T rs10920379\\n4  1 192883411  T  C  rs7527185\\n'"
     },
     "execution_count": 83,
     "metadata": {},
     "output_type": "execute_result"
    }
   ],
   "source": [
    "ref_header = ref.readline()\n",
    "ref_header = ref_header.replace(\"\\n\",\"\").split(\"\\t\")\n",
    "print(ref_header)\n",
    "'''\n",
    "df\n",
    "  V1        V2 V3 V4         V5\n",
    "1  1  14527850  C  T   rs515603\n",
    "2  1 105736860  A  G rs10785736\n",
    "3  1 190004990  C  T rs10920379\n",
    "4  1 192883411  T  C  rs7527185\n",
    "'''"
   ]
  },
  {
   "cell_type": "code",
   "execution_count": 84,
   "metadata": {},
   "outputs": [],
   "source": [
    "ref = ref.readlines()\n",
    "ref_dic = {}\n",
    "ref_rslist = []\n",
    "out.write(\"Raw_rsID\\tonKBA\\tchrom\\tpos\\tdict\\tTarget_rsID2\\tTarget_pos\\n\")\n",
    "df = df.readlines()\n",
    "\n",
    "for i in ref:\n",
    "    tmp = i.split(\"\\t\")\n",
    "    ref_dic[tmp[2]] = [tmp[3],tmp[4]]\n",
    "    #ref_dic[tmp[3]] = {'pos':tmp[4],'rs'=tmp[2]}\n",
    "    ref_rslist.append(tmp[2])\n",
    "\n",
    "#for i in df[0:2]:\n",
    "for i in df:\n",
    "    chrom,pos,ref,alt,rs = i.replace(\"\\n\",\"\").split(\"\\t\")\n",
    "    t_dist = 0\n",
    "    t_rsID = 0\n",
    "    #pos_df = []\n",
    "    #rs_df = []\n",
    "    if rs in ref_rslist:\n",
    "        out.write(\"%s\\t%s\\t%s\\t%s\\t%s\\t%s\\t%s\\n\"%(rs,\"1\",chrom,pos,\"0\",rs,pos))\n",
    "    else:\n",
    "        pos_df = [ref_dic[a][1] for a in ref_dic if ref_dic[a][0] == chrom]\n",
    "        #rs_df = [ref_dic[a][0] for a in ref_dic if ref_dic[a][0] == chrom]\n",
    "        rs_df = [a for a in ref_dic if ref_dic[a][0] == chrom]\n",
    "        dist_df = [abs(int(int(a) - int(pos))) for a in pos_df]\n",
    "        idx = dist_df.index(min(dist_df))\n",
    "        out.write(\"%s\\t%s\\t%s\\t%s\\t%s\\t%s\\t%s\\n\"%(rs,\"0\",chrom,pos,dist_df[idx],rs_df[idx],pos_df[idx]))\n",
    "\n",
    "\n",
    "out.close()\n",
    "\n",
    "        \n",
    "        \n",
    "\n",
    "\n",
    "\n"
   ]
  },
  {
   "cell_type": "code",
   "execution_count": 72,
   "metadata": {},
   "outputs": [
    {
     "ename": "SyntaxError",
     "evalue": "invalid syntax (1397541644.py, line 5)",
     "output_type": "error",
     "traceback": [
      "\u001b[0;36m  Input \u001b[0;32mIn [72]\u001b[0;36m\u001b[0m\n\u001b[0;31m    ref_dic.\u001b[0m\n\u001b[0m            ^\u001b[0m\n\u001b[0;31mSyntaxError\u001b[0m\u001b[0;31m:\u001b[0m invalid syntax\n"
     ]
    }
   ],
   "source": [
    "for i,j in enumerate(ref_dic):\n",
    "    if i == 5:\n",
    "        break\n",
    "    print(ref_dic[j])\n",
    "ref_dic."
   ]
  },
  {
   "cell_type": "code",
   "execution_count": 49,
   "metadata": {},
   "outputs": [
    {
     "name": "stdout",
     "output_type": "stream",
     "text": [
      "dict_keys([1, 2, 3, 4, 5])\n",
      "1\n",
      "2\n",
      "3\n",
      "4\n",
      "5\n"
     ]
    },
    {
     "data": {
      "text/plain": "[3, 5]"
     },
     "execution_count": 49,
     "metadata": {},
     "output_type": "execute_result"
    }
   ],
   "source": [
    "a = {1:\"123\",2:'222',3:'111',4:'333',5:'111'}\n",
    "print(a.keys())\n",
    "#b = [x[][0] for x in a.keys]\n",
    "#b\n",
    "for i in a:\n",
    "    print(i)\n",
    "\n",
    "b = [i for i in a if a[i] == '111']\n",
    "b"
   ]
  },
  {
   "cell_type": "code",
   "execution_count": 78,
   "metadata": {},
   "outputs": [
    {
     "name": "stdout",
     "output_type": "stream",
     "text": [
      "['24922129', '225924711', '81232434', '247765146', '180180669']\n",
      "['1\\t14527850\\tC\\tT\\trs515603\\n', '1\\t105736860\\tA\\tG\\trs10785736\\n']\n",
      "1\t14527850\tC\tT\trs515603\n",
      "1\t105736860\tA\tG\trs10785736\n",
      "[23922129, 224924711, 80232434, 246765146, 179180669]\n"
     ]
    },
    {
     "data": {
      "text/plain": "0"
     },
     "execution_count": 78,
     "metadata": {},
     "output_type": "execute_result"
    }
   ],
   "source": [
    "print(pos_df[0:5])\n",
    "print(df[0:2])\n",
    "for i in df[0:2]:\n",
    "    print(i.replace(\"\\n\",\"\"))\n",
    "pos = 1000000\n",
    "a = [abs(int(int(a) - 1000000)) for a in pos_df[0:5]]\n",
    "print(a)\n",
    "a.index(min(a))\n"
   ]
  },
  {
   "cell_type": "code",
   "execution_count": null,
   "metadata": {},
   "outputs": [],
   "source": []
  }
 ],
 "metadata": {
  "kernelspec": {
   "display_name": "Python 3.8.13 64-bit ('base': conda)",
   "metadata": {
    "interpreter": {
     "hash": "0c6b25a2ab5e3205a444af4f5a64e29752114153bd45700a2f23b8ddc4fdb0ec"
    }
   },
   "name": "python3"
  },
  "language_info": {
   "codemirror_mode": {
    "name": "ipython",
    "version": 3
   },
   "file_extension": ".py",
   "mimetype": "text/x-python",
   "name": "python",
   "nbconvert_exporter": "python",
   "pygments_lexer": "ipython3",
   "version": "3.8.13"
  },
  "orig_nbformat": 2
 },
 "nbformat": 4,
 "nbformat_minor": 2
}