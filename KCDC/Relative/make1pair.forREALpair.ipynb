{
 "cells": [
  {
   "cell_type": "code",
   "execution_count": 1,
   "metadata": {},
   "outputs": [],
   "source": [
    "#### relavie real pair data preprocessing\n",
    "# ID1 ID2 FS\n",
    "# ID3 ID4 MZ\n",
    "# ID2 ID1 FS\n",
    "# ID4 ID3 MZ\n",
    "##--> \n",
    "# ID1 ID2 FS\n",
    "# ID3 ID4 MZ"
   ]
  },
  {
   "cell_type": "code",
   "execution_count": 8,
   "metadata": {},
   "outputs": [],
   "source": [
    "import os,glob"
   ]
  },
  {
   "cell_type": "code",
   "execution_count": 20,
   "metadata": {},
   "outputs": [],
   "source": [
    "wDir =\"/Users/ksmpooh/Desktop/KCDC/FinalKing_JG/2022_new/\"\n",
    "#\"/Desktop/KCDC/FinalKing_JG/2022_new/real_pair.txt\"\n",
    "#KCHIP_ID2 KCHIP_ID1 Rela_Pair KCHIP_ID1.type KCHIP_ID2.type\n",
    "#NIH19KT0001 NIH19KT6295 PO LR LD\n",
    "#NIH19KT0002 NIH19KT6296 FS LR LD"
   ]
  },
  {
   "cell_type": "code",
   "execution_count": 22,
   "metadata": {},
   "outputs": [],
   "source": [
    "def main():\n",
    "    inData = open(wDir + \"real_pair.txt\",\"r\")\n",
    "    out = open(wDir + \"read_pair_v2.txt\",\"w\")\n",
    "    tmp = []\n",
    "    inData = [s.replace(\"\\n\",\"\") for s in inData]\n",
    "    out.write(inData[0] + \"\\n\")\n",
    "    for line in inData[1:]:\n",
    "        #print(line.split())\n",
    "        \n",
    "        ID1,ID2,pair,t1,t2 = line.split()\n",
    "        if ID1 in tmp:\n",
    "            continue\n",
    "        tmp.append(ID1)\n",
    "        tmp.append(ID2)\n",
    "        out.write(line+\"\\n\")\n",
    "    out.close()\n",
    "    \n",
    "main()\n",
    "        \n",
    "    "
   ]
  },
  {
   "cell_type": "code",
   "execution_count": 11,
   "metadata": {},
   "outputs": [
    {
     "ename": "FileNotFoundError",
     "evalue": "[Errno 2] No such file or directory: '~/Desktop/KCDC/FinalKing_JG/2022_new/real_pair.txt'",
     "output_type": "error",
     "traceback": [
      "\u001b[0;31m---------------------------------------------------------------------------\u001b[0m",
      "\u001b[0;31mFileNotFoundError\u001b[0m                         Traceback (most recent call last)",
      "\u001b[0;32m<ipython-input-11-c55bb42cb1ff>\u001b[0m in \u001b[0;36m<module>\u001b[0;34m\u001b[0m\n\u001b[0;32m----> 1\u001b[0;31m \u001b[0mtest\u001b[0m \u001b[0;34m=\u001b[0m \u001b[0mopen\u001b[0m\u001b[0;34m(\u001b[0m\u001b[0;34m\"~/Desktop/KCDC/FinalKing_JG/2022_new/real_pair.txt\"\u001b[0m\u001b[0;34m,\u001b[0m\u001b[0;34m\"r\"\u001b[0m\u001b[0;34m)\u001b[0m\u001b[0;34m\u001b[0m\u001b[0;34m\u001b[0m\u001b[0m\n\u001b[0m\u001b[1;32m      2\u001b[0m \u001b[0mprint\u001b[0m\u001b[0;34m(\u001b[0m\u001b[0mtest\u001b[0m\u001b[0;34m.\u001b[0m\u001b[0mreadline\u001b[0m\u001b[0;34m(\u001b[0m\u001b[0;34m)\u001b[0m\u001b[0;34m)\u001b[0m\u001b[0;34m\u001b[0m\u001b[0;34m\u001b[0m\u001b[0m\n",
      "\u001b[0;31mFileNotFoundError\u001b[0m: [Errno 2] No such file or directory: '~/Desktop/KCDC/FinalKing_JG/2022_new/real_pair.txt'"
     ]
    }
   ],
   "source": []
  },
  {
   "cell_type": "code",
   "execution_count": null,
   "metadata": {},
   "outputs": [],
   "source": []
  }
 ],
 "metadata": {
  "kernelspec": {
   "display_name": "Python [conda env:kcdc]",
   "language": "python",
   "name": "conda-env-kcdc-py"
  },
  "language_info": {
   "codemirror_mode": {
    "name": "ipython",
    "version": 3
   },
   "file_extension": ".py",
   "mimetype": "text/x-python",
   "name": "python",
   "nbconvert_exporter": "python",
   "pygments_lexer": "ipython3",
   "version": "3.8.5"
  }
 },
 "nbformat": 4,
 "nbformat_minor": 4
}
