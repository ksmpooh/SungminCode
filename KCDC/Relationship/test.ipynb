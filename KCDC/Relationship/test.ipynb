{
 "cells": [
  {
   "cell_type": "code",
   "execution_count": 2,
   "metadata": {},
   "outputs": [
    {
     "data": {
      "text/plain": "{'NIH1': ['NIH2', 'FS'], 'NIH3': ['NIH4', 'PO']}"
     },
     "execution_count": 2,
     "metadata": {},
     "output_type": "execute_result"
    }
   ],
   "source": [
    "ref = [[\"NIH1\",\"NIH2\",\"FS\"],[\"NIH3\",\"NIH4\",\"PO\"]]\n",
    "ref_dic = {s[0]:[s[1],s[2]] for s in ref}\n",
    "ref_dic"
   ]
  },
  {
   "cell_type": "code",
   "execution_count": 5,
   "metadata": {},
   "outputs": [
    {
     "name": "stdout",
     "output_type": "stream",
     "text": [
      "{'NIH1': ['NIH2', 'FS'], 'NIH3': ['NIH4', 'PO'], 'NIH2': ['NIH1', 'FS'], 'NIH4': ['NIH3', 'PO']}\n"
     ]
    }
   ],
   "source": [
    "ref = [[\"NIH1\",\"NIH2\",\"FS\"],[\"NIH3\",\"NIH4\",\"PO\"]]\n",
    "ref_dic = {s[0]:[s[1],s[2]] for s in ref}\n",
    "for s in ref:\n",
    "    ref_dic[s[1]] =  [s[0],s[2]]\n",
    "\n",
    "print(ref_dic)\n",
    "\n"
   ]
  },
  {
   "cell_type": "code",
   "execution_count": null,
   "metadata": {},
   "outputs": [],
   "source": []
  }
 ],
 "metadata": {
  "kernelspec": {
   "display_name": "Python 3.8.5 64-bit ('anaconda3': virtualenv)",
   "metadata": {
    "interpreter": {
     "hash": "0c6b25a2ab5e3205a444af4f5a64e29752114153bd45700a2f23b8ddc4fdb0ec"
    }
   },
   "name": "python3"
  },
  "language_info": {
   "codemirror_mode": {
    "name": "ipython",
    "version": 3
   },
   "file_extension": ".py",
   "mimetype": "text/x-python",
   "name": "python",
   "nbconvert_exporter": "python",
   "pygments_lexer": "ipython3",
   "version": "3.8.5"
  },
  "orig_nbformat": 2
 },
 "nbformat": 4,
 "nbformat_minor": 2
}