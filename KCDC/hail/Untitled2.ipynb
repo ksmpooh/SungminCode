{
 "cells": [
  {
   "cell_type": "code",
   "execution_count": 1,
   "id": "83d4ea16-582c-498b-bbf6-1158b3202997",
   "metadata": {},
   "outputs": [
    {
     "data": {
      "text/html": [
       "\n",
       "    <div class=\"bk-root\">\n",
       "        <a href=\"https://bokeh.org\" target=\"_blank\" class=\"bk-logo bk-logo-small bk-logo-notebook\"></a>\n",
       "        <span id=\"1001\">Loading BokehJS ...</span>\n",
       "    </div>"
      ]
     },
     "metadata": {},
     "output_type": "display_data"
    },
    {
     "data": {
      "application/javascript": [
       "\n",
       "(function(root) {\n",
       "  function now() {\n",
       "    return new Date();\n",
       "  }\n",
       "\n",
       "  var force = true;\n",
       "\n",
       "  if (typeof root._bokeh_onload_callbacks === \"undefined\" || force === true) {\n",
       "    root._bokeh_onload_callbacks = [];\n",
       "    root._bokeh_is_loading = undefined;\n",
       "  }\n",
       "\n",
       "  var JS_MIME_TYPE = 'application/javascript';\n",
       "  var HTML_MIME_TYPE = 'text/html';\n",
       "  var EXEC_MIME_TYPE = 'application/vnd.bokehjs_exec.v0+json';\n",
       "  var CLASS_NAME = 'output_bokeh rendered_html';\n",
       "\n",
       "  /**\n",
       "   * Render data to the DOM node\n",
       "   */\n",
       "  function render(props, node) {\n",
       "    var script = document.createElement(\"script\");\n",
       "    node.appendChild(script);\n",
       "  }\n",
       "\n",
       "  /**\n",
       "   * Handle when an output is cleared or removed\n",
       "   */\n",
       "  function handleClearOutput(event, handle) {\n",
       "    var cell = handle.cell;\n",
       "\n",
       "    var id = cell.output_area._bokeh_element_id;\n",
       "    var server_id = cell.output_area._bokeh_server_id;\n",
       "    // Clean up Bokeh references\n",
       "    if (id != null && id in Bokeh.index) {\n",
       "      Bokeh.index[id].model.document.clear();\n",
       "      delete Bokeh.index[id];\n",
       "    }\n",
       "\n",
       "    if (server_id !== undefined) {\n",
       "      // Clean up Bokeh references\n",
       "      var cmd = \"from bokeh.io.state import curstate; print(curstate().uuid_to_server['\" + server_id + \"'].get_sessions()[0].document.roots[0]._id)\";\n",
       "      cell.notebook.kernel.execute(cmd, {\n",
       "        iopub: {\n",
       "          output: function(msg) {\n",
       "            var id = msg.content.text.trim();\n",
       "            if (id in Bokeh.index) {\n",
       "              Bokeh.index[id].model.document.clear();\n",
       "              delete Bokeh.index[id];\n",
       "            }\n",
       "          }\n",
       "        }\n",
       "      });\n",
       "      // Destroy server and session\n",
       "      var cmd = \"import bokeh.io.notebook as ion; ion.destroy_server('\" + server_id + \"')\";\n",
       "      cell.notebook.kernel.execute(cmd);\n",
       "    }\n",
       "  }\n",
       "\n",
       "  /**\n",
       "   * Handle when a new output is added\n",
       "   */\n",
       "  function handleAddOutput(event, handle) {\n",
       "    var output_area = handle.output_area;\n",
       "    var output = handle.output;\n",
       "\n",
       "    // limit handleAddOutput to display_data with EXEC_MIME_TYPE content only\n",
       "    if ((output.output_type != \"display_data\") || (!output.data.hasOwnProperty(EXEC_MIME_TYPE))) {\n",
       "      return\n",
       "    }\n",
       "\n",
       "    var toinsert = output_area.element.find(\".\" + CLASS_NAME.split(' ')[0]);\n",
       "\n",
       "    if (output.metadata[EXEC_MIME_TYPE][\"id\"] !== undefined) {\n",
       "      toinsert[toinsert.length - 1].firstChild.textContent = output.data[JS_MIME_TYPE];\n",
       "      // store reference to embed id on output_area\n",
       "      output_area._bokeh_element_id = output.metadata[EXEC_MIME_TYPE][\"id\"];\n",
       "    }\n",
       "    if (output.metadata[EXEC_MIME_TYPE][\"server_id\"] !== undefined) {\n",
       "      var bk_div = document.createElement(\"div\");\n",
       "      bk_div.innerHTML = output.data[HTML_MIME_TYPE];\n",
       "      var script_attrs = bk_div.children[0].attributes;\n",
       "      for (var i = 0; i < script_attrs.length; i++) {\n",
       "        toinsert[toinsert.length - 1].firstChild.setAttribute(script_attrs[i].name, script_attrs[i].value);\n",
       "      }\n",
       "      // store reference to server id on output_area\n",
       "      output_area._bokeh_server_id = output.metadata[EXEC_MIME_TYPE][\"server_id\"];\n",
       "    }\n",
       "  }\n",
       "\n",
       "  function register_renderer(events, OutputArea) {\n",
       "\n",
       "    function append_mime(data, metadata, element) {\n",
       "      // create a DOM node to render to\n",
       "      var toinsert = this.create_output_subarea(\n",
       "        metadata,\n",
       "        CLASS_NAME,\n",
       "        EXEC_MIME_TYPE\n",
       "      );\n",
       "      this.keyboard_manager.register_events(toinsert);\n",
       "      // Render to node\n",
       "      var props = {data: data, metadata: metadata[EXEC_MIME_TYPE]};\n",
       "      render(props, toinsert[toinsert.length - 1]);\n",
       "      element.append(toinsert);\n",
       "      return toinsert\n",
       "    }\n",
       "\n",
       "    /* Handle when an output is cleared or removed */\n",
       "    events.on('clear_output.CodeCell', handleClearOutput);\n",
       "    events.on('delete.Cell', handleClearOutput);\n",
       "\n",
       "    /* Handle when a new output is added */\n",
       "    events.on('output_added.OutputArea', handleAddOutput);\n",
       "\n",
       "    /**\n",
       "     * Register the mime type and append_mime function with output_area\n",
       "     */\n",
       "    OutputArea.prototype.register_mime_type(EXEC_MIME_TYPE, append_mime, {\n",
       "      /* Is output safe? */\n",
       "      safe: true,\n",
       "      /* Index of renderer in `output_area.display_order` */\n",
       "      index: 0\n",
       "    });\n",
       "  }\n",
       "\n",
       "  // register the mime type if in Jupyter Notebook environment and previously unregistered\n",
       "  if (root.Jupyter !== undefined) {\n",
       "    var events = require('base/js/events');\n",
       "    var OutputArea = require('notebook/js/outputarea').OutputArea;\n",
       "\n",
       "    if (OutputArea.prototype.mime_types().indexOf(EXEC_MIME_TYPE) == -1) {\n",
       "      register_renderer(events, OutputArea);\n",
       "    }\n",
       "  }\n",
       "\n",
       "  \n",
       "  if (typeof (root._bokeh_timeout) === \"undefined\" || force === true) {\n",
       "    root._bokeh_timeout = Date.now() + 5000;\n",
       "    root._bokeh_failed_load = false;\n",
       "  }\n",
       "\n",
       "  var NB_LOAD_WARNING = {'data': {'text/html':\n",
       "     \"<div style='background-color: #fdd'>\\n\"+\n",
       "     \"<p>\\n\"+\n",
       "     \"BokehJS does not appear to have successfully loaded. If loading BokehJS from CDN, this \\n\"+\n",
       "     \"may be due to a slow or bad network connection. Possible fixes:\\n\"+\n",
       "     \"</p>\\n\"+\n",
       "     \"<ul>\\n\"+\n",
       "     \"<li>re-rerun `output_notebook()` to attempt to load from CDN again, or</li>\\n\"+\n",
       "     \"<li>use INLINE resources instead, as so:</li>\\n\"+\n",
       "     \"</ul>\\n\"+\n",
       "     \"<code>\\n\"+\n",
       "     \"from bokeh.resources import INLINE\\n\"+\n",
       "     \"output_notebook(resources=INLINE)\\n\"+\n",
       "     \"</code>\\n\"+\n",
       "     \"</div>\"}};\n",
       "\n",
       "  function display_loaded() {\n",
       "    var el = document.getElementById(\"1001\");\n",
       "    if (el != null) {\n",
       "      el.textContent = \"BokehJS is loading...\";\n",
       "    }\n",
       "    if (root.Bokeh !== undefined) {\n",
       "      if (el != null) {\n",
       "        el.textContent = \"BokehJS \" + root.Bokeh.version + \" successfully loaded.\";\n",
       "      }\n",
       "    } else if (Date.now() < root._bokeh_timeout) {\n",
       "      setTimeout(display_loaded, 100)\n",
       "    }\n",
       "  }\n",
       "\n",
       "\n",
       "  function run_callbacks() {\n",
       "    try {\n",
       "      root._bokeh_onload_callbacks.forEach(function(callback) {\n",
       "        if (callback != null)\n",
       "          callback();\n",
       "      });\n",
       "    } finally {\n",
       "      delete root._bokeh_onload_callbacks\n",
       "    }\n",
       "    console.debug(\"Bokeh: all callbacks have finished\");\n",
       "  }\n",
       "\n",
       "  function load_libs(css_urls, js_urls, callback) {\n",
       "    if (css_urls == null) css_urls = [];\n",
       "    if (js_urls == null) js_urls = [];\n",
       "\n",
       "    root._bokeh_onload_callbacks.push(callback);\n",
       "    if (root._bokeh_is_loading > 0) {\n",
       "      console.debug(\"Bokeh: BokehJS is being loaded, scheduling callback at\", now());\n",
       "      return null;\n",
       "    }\n",
       "    if (js_urls == null || js_urls.length === 0) {\n",
       "      run_callbacks();\n",
       "      return null;\n",
       "    }\n",
       "    console.debug(\"Bokeh: BokehJS not loaded, scheduling load and callback at\", now());\n",
       "    root._bokeh_is_loading = css_urls.length + js_urls.length;\n",
       "\n",
       "    function on_load() {\n",
       "      root._bokeh_is_loading--;\n",
       "      if (root._bokeh_is_loading === 0) {\n",
       "        console.debug(\"Bokeh: all BokehJS libraries/stylesheets loaded\");\n",
       "        run_callbacks()\n",
       "      }\n",
       "    }\n",
       "\n",
       "    function on_error() {\n",
       "      console.error(\"failed to load \" + url);\n",
       "    }\n",
       "\n",
       "    for (var i = 0; i < css_urls.length; i++) {\n",
       "      var url = css_urls[i];\n",
       "      const element = document.createElement(\"link\");\n",
       "      element.onload = on_load;\n",
       "      element.onerror = on_error;\n",
       "      element.rel = \"stylesheet\";\n",
       "      element.type = \"text/css\";\n",
       "      element.href = url;\n",
       "      console.debug(\"Bokeh: injecting link tag for BokehJS stylesheet: \", url);\n",
       "      document.body.appendChild(element);\n",
       "    }\n",
       "\n",
       "    for (var i = 0; i < js_urls.length; i++) {\n",
       "      var url = js_urls[i];\n",
       "      var element = document.createElement('script');\n",
       "      element.onload = on_load;\n",
       "      element.onerror = on_error;\n",
       "      element.async = false;\n",
       "      element.src = url;\n",
       "      console.debug(\"Bokeh: injecting script tag for BokehJS library: \", url);\n",
       "      document.head.appendChild(element);\n",
       "    }\n",
       "  };var element = document.getElementById(\"1001\");\n",
       "  if (element == null) {\n",
       "    console.error(\"Bokeh: ERROR: autoload.js configured with elementid '1001' but no matching script tag was found. \")\n",
       "    return false;\n",
       "  }\n",
       "\n",
       "  function inject_raw_css(css) {\n",
       "    const element = document.createElement(\"style\");\n",
       "    element.appendChild(document.createTextNode(css));\n",
       "    document.body.appendChild(element);\n",
       "  }\n",
       "\n",
       "  \n",
       "  var js_urls = [\"https://cdn.pydata.org/bokeh/release/bokeh-1.4.0.min.js\", \"https://cdn.pydata.org/bokeh/release/bokeh-widgets-1.4.0.min.js\", \"https://cdn.pydata.org/bokeh/release/bokeh-tables-1.4.0.min.js\", \"https://cdn.pydata.org/bokeh/release/bokeh-gl-1.4.0.min.js\"];\n",
       "  var css_urls = [];\n",
       "  \n",
       "\n",
       "  var inline_js = [\n",
       "    function(Bokeh) {\n",
       "      Bokeh.set_log_level(\"info\");\n",
       "    },\n",
       "    function(Bokeh) {\n",
       "    \n",
       "    \n",
       "    }\n",
       "  ];\n",
       "\n",
       "  function run_inline_js() {\n",
       "    \n",
       "    if (root.Bokeh !== undefined || force === true) {\n",
       "      \n",
       "    for (var i = 0; i < inline_js.length; i++) {\n",
       "      inline_js[i].call(root, root.Bokeh);\n",
       "    }\n",
       "    if (force === true) {\n",
       "        display_loaded();\n",
       "      }} else if (Date.now() < root._bokeh_timeout) {\n",
       "      setTimeout(run_inline_js, 100);\n",
       "    } else if (!root._bokeh_failed_load) {\n",
       "      console.log(\"Bokeh: BokehJS failed to load within specified timeout.\");\n",
       "      root._bokeh_failed_load = true;\n",
       "    } else if (force !== true) {\n",
       "      var cell = $(document.getElementById(\"1001\")).parents('.cell').data().cell;\n",
       "      cell.output_area.append_execute_result(NB_LOAD_WARNING)\n",
       "    }\n",
       "\n",
       "  }\n",
       "\n",
       "  if (root._bokeh_is_loading === 0) {\n",
       "    console.debug(\"Bokeh: BokehJS loaded, going straight to plotting\");\n",
       "    run_inline_js();\n",
       "  } else {\n",
       "    load_libs(css_urls, js_urls, function() {\n",
       "      console.debug(\"Bokeh: BokehJS plotting callback run at\", now());\n",
       "      run_inline_js();\n",
       "    });\n",
       "  }\n",
       "}(window));"
      ],
      "application/vnd.bokehjs_load.v0+json": "\n(function(root) {\n  function now() {\n    return new Date();\n  }\n\n  var force = true;\n\n  if (typeof root._bokeh_onload_callbacks === \"undefined\" || force === true) {\n    root._bokeh_onload_callbacks = [];\n    root._bokeh_is_loading = undefined;\n  }\n\n  \n\n  \n  if (typeof (root._bokeh_timeout) === \"undefined\" || force === true) {\n    root._bokeh_timeout = Date.now() + 5000;\n    root._bokeh_failed_load = false;\n  }\n\n  var NB_LOAD_WARNING = {'data': {'text/html':\n     \"<div style='background-color: #fdd'>\\n\"+\n     \"<p>\\n\"+\n     \"BokehJS does not appear to have successfully loaded. If loading BokehJS from CDN, this \\n\"+\n     \"may be due to a slow or bad network connection. Possible fixes:\\n\"+\n     \"</p>\\n\"+\n     \"<ul>\\n\"+\n     \"<li>re-rerun `output_notebook()` to attempt to load from CDN again, or</li>\\n\"+\n     \"<li>use INLINE resources instead, as so:</li>\\n\"+\n     \"</ul>\\n\"+\n     \"<code>\\n\"+\n     \"from bokeh.resources import INLINE\\n\"+\n     \"output_notebook(resources=INLINE)\\n\"+\n     \"</code>\\n\"+\n     \"</div>\"}};\n\n  function display_loaded() {\n    var el = document.getElementById(\"1001\");\n    if (el != null) {\n      el.textContent = \"BokehJS is loading...\";\n    }\n    if (root.Bokeh !== undefined) {\n      if (el != null) {\n        el.textContent = \"BokehJS \" + root.Bokeh.version + \" successfully loaded.\";\n      }\n    } else if (Date.now() < root._bokeh_timeout) {\n      setTimeout(display_loaded, 100)\n    }\n  }\n\n\n  function run_callbacks() {\n    try {\n      root._bokeh_onload_callbacks.forEach(function(callback) {\n        if (callback != null)\n          callback();\n      });\n    } finally {\n      delete root._bokeh_onload_callbacks\n    }\n    console.debug(\"Bokeh: all callbacks have finished\");\n  }\n\n  function load_libs(css_urls, js_urls, callback) {\n    if (css_urls == null) css_urls = [];\n    if (js_urls == null) js_urls = [];\n\n    root._bokeh_onload_callbacks.push(callback);\n    if (root._bokeh_is_loading > 0) {\n      console.debug(\"Bokeh: BokehJS is being loaded, scheduling callback at\", now());\n      return null;\n    }\n    if (js_urls == null || js_urls.length === 0) {\n      run_callbacks();\n      return null;\n    }\n    console.debug(\"Bokeh: BokehJS not loaded, scheduling load and callback at\", now());\n    root._bokeh_is_loading = css_urls.length + js_urls.length;\n\n    function on_load() {\n      root._bokeh_is_loading--;\n      if (root._bokeh_is_loading === 0) {\n        console.debug(\"Bokeh: all BokehJS libraries/stylesheets loaded\");\n        run_callbacks()\n      }\n    }\n\n    function on_error() {\n      console.error(\"failed to load \" + url);\n    }\n\n    for (var i = 0; i < css_urls.length; i++) {\n      var url = css_urls[i];\n      const element = document.createElement(\"link\");\n      element.onload = on_load;\n      element.onerror = on_error;\n      element.rel = \"stylesheet\";\n      element.type = \"text/css\";\n      element.href = url;\n      console.debug(\"Bokeh: injecting link tag for BokehJS stylesheet: \", url);\n      document.body.appendChild(element);\n    }\n\n    for (var i = 0; i < js_urls.length; i++) {\n      var url = js_urls[i];\n      var element = document.createElement('script');\n      element.onload = on_load;\n      element.onerror = on_error;\n      element.async = false;\n      element.src = url;\n      console.debug(\"Bokeh: injecting script tag for BokehJS library: \", url);\n      document.head.appendChild(element);\n    }\n  };var element = document.getElementById(\"1001\");\n  if (element == null) {\n    console.error(\"Bokeh: ERROR: autoload.js configured with elementid '1001' but no matching script tag was found. \")\n    return false;\n  }\n\n  function inject_raw_css(css) {\n    const element = document.createElement(\"style\");\n    element.appendChild(document.createTextNode(css));\n    document.body.appendChild(element);\n  }\n\n  \n  var js_urls = [\"https://cdn.pydata.org/bokeh/release/bokeh-1.4.0.min.js\", \"https://cdn.pydata.org/bokeh/release/bokeh-widgets-1.4.0.min.js\", \"https://cdn.pydata.org/bokeh/release/bokeh-tables-1.4.0.min.js\", \"https://cdn.pydata.org/bokeh/release/bokeh-gl-1.4.0.min.js\"];\n  var css_urls = [];\n  \n\n  var inline_js = [\n    function(Bokeh) {\n      Bokeh.set_log_level(\"info\");\n    },\n    function(Bokeh) {\n    \n    \n    }\n  ];\n\n  function run_inline_js() {\n    \n    if (root.Bokeh !== undefined || force === true) {\n      \n    for (var i = 0; i < inline_js.length; i++) {\n      inline_js[i].call(root, root.Bokeh);\n    }\n    if (force === true) {\n        display_loaded();\n      }} else if (Date.now() < root._bokeh_timeout) {\n      setTimeout(run_inline_js, 100);\n    } else if (!root._bokeh_failed_load) {\n      console.log(\"Bokeh: BokehJS failed to load within specified timeout.\");\n      root._bokeh_failed_load = true;\n    } else if (force !== true) {\n      var cell = $(document.getElementById(\"1001\")).parents('.cell').data().cell;\n      cell.output_area.append_execute_result(NB_LOAD_WARNING)\n    }\n\n  }\n\n  if (root._bokeh_is_loading === 0) {\n    console.debug(\"Bokeh: BokehJS loaded, going straight to plotting\");\n    run_inline_js();\n  } else {\n    load_libs(css_urls, js_urls, function() {\n      console.debug(\"Bokeh: BokehJS plotting callback run at\", now());\n      run_inline_js();\n    });\n  }\n}(window));"
     },
     "metadata": {},
     "output_type": "display_data"
    }
   ],
   "source": [
    "import hail as hl\n",
    "from hail.plot import show\n",
    "from pprint import pprint\n",
    "hl.plot.output_notebook()"
   ]
  },
  {
   "cell_type": "code",
   "execution_count": 2,
   "id": "c3a236d9-05cd-47bb-b76f-b352955ed5d6",
   "metadata": {},
   "outputs": [
    {
     "name": "stderr",
     "output_type": "stream",
     "text": [
      "WARNING: An illegal reflective access operation has occurred\n",
      "WARNING: Illegal reflective access by org.apache.spark.unsafe.Platform (file:/opt/homebrew/lib/python3.9/site-packages/pyspark/jars/spark-unsafe_2.12-3.1.3.jar) to constructor java.nio.DirectByteBuffer(long,int)\n",
      "WARNING: Please consider reporting this to the maintainers of org.apache.spark.unsafe.Platform\n",
      "WARNING: Use --illegal-access=warn to enable warnings of further illegal reflective access operations\n",
      "WARNING: All illegal access operations will be denied in a future release\n"
     ]
    },
    {
     "name": "stdout",
     "output_type": "stream",
     "text": [
      "2023-02-24 10:18:03.566 WARN  NativeCodeLoader:60 - Unable to load native-hadoop library for your platform... using builtin-java classes where applicable\n"
     ]
    },
    {
     "name": "stderr",
     "output_type": "stream",
     "text": [
      "Setting default log level to \"WARN\".\n",
      "To adjust logging level use sc.setLogLevel(newLevel). For SparkR, use setLogLevel(newLevel).\n",
      "Running on Apache Spark version 3.1.3\n",
      "SparkUI available at http://192.168.nate.com:4040\n",
      "Welcome to\n",
      "     __  __     <>__\n",
      "    / /_/ /__  __/ /\n",
      "   / __  / _ `/ / /\n",
      "  /_/ /_/\\_,_/_/_/   version 0.2.109-b71b065e4bb6\n",
      "LOGGING: writing to /Users/ksmpooh/git/SungminCode/KCDC/hail/hail-20230224-1018-0.2.109-b71b065e4bb6.log\n"
     ]
    }
   ],
   "source": [
    "hl.init()"
   ]
  },
  {
   "cell_type": "code",
   "execution_count": 3,
   "id": "92d7d093-f3c0-4840-bc9c-5d74c4533df1",
   "metadata": {},
   "outputs": [],
   "source": [
    "wDir = \"/Users/ksmpooh/Desktop/KCDC/hail/data/NODAT_toy/2nd_beforeQCed/\"\n",
    "#mt = hl.import_plink(bed=wDir+\"JG.KR.2nd.bed\",bim=wDir+\"JG.KR.2nd.bim\",fam=wDir+\"JG.KR.2nd.fam\",reference_genome='GRCh37').write(wDir + \"../nodat_toy.mt\",overwrite=True)\n",
    "mt = hl.read_matrix_table(wDir +\"../nodat_toy.mt\")"
   ]
  },
  {
   "cell_type": "code",
   "execution_count": 4,
   "id": "706cff78-d151-41e5-a327-e4cd126c89b4",
   "metadata": {},
   "outputs": [
    {
     "data": {
      "text/html": [
       "<table><thead><tr><td style=\"white-space: nowrap; max-width: 500px; overflow: hidden; text-overflow: ellipsis; \" colspan=\"1\"><div style=\"text-align: left;\"></div></td><td style=\"white-space: nowrap; max-width: 500px; overflow: hidden; text-overflow: ellipsis; \" colspan=\"1\"><div style=\"text-align: left;\"></div></td><td style=\"white-space: nowrap; max-width: 500px; overflow: hidden; text-overflow: ellipsis; \" colspan=\"1\"><div style=\"text-align: left;\"></div></td><td style=\"white-space: nowrap; max-width: 500px; overflow: hidden; text-overflow: ellipsis; \" colspan=\"1\"><div style=\"text-align: left;\"></div></td><td style=\"white-space: nowrap; max-width: 500px; overflow: hidden; text-overflow: ellipsis; \" colspan=\"1\"><div style=\"text-align: left;\"></div></td><td style=\"white-space: nowrap; max-width: 500px; overflow: hidden; text-overflow: ellipsis; \" colspan=\"1\"><div style=\"text-align: left;\"></div></td></tr><tr><td style=\"white-space: nowrap; max-width: 500px; overflow: hidden; text-overflow: ellipsis; \" colspan=\"1\"><div style=\"text-align: left;\"></div></td><td style=\"white-space: nowrap; max-width: 500px; overflow: hidden; text-overflow: ellipsis; \" colspan=\"1\"><div style=\"text-align: left;\"></div></td><td style=\"white-space: nowrap; max-width: 500px; overflow: hidden; text-overflow: ellipsis; \" colspan=\"1\"><div style=\"text-align: left;border-bottom: solid 2px #000; padding-bottom: 5px\">&#x27;NIH19KT0022&#x27;</div></td><td style=\"white-space: nowrap; max-width: 500px; overflow: hidden; text-overflow: ellipsis; \" colspan=\"1\"><div style=\"text-align: left;border-bottom: solid 2px #000; padding-bottom: 5px\">&#x27;NIH19KT0023&#x27;</div></td><td style=\"white-space: nowrap; max-width: 500px; overflow: hidden; text-overflow: ellipsis; \" colspan=\"1\"><div style=\"text-align: left;border-bottom: solid 2px #000; padding-bottom: 5px\">&#x27;NIH19KT0024&#x27;</div></td><td style=\"white-space: nowrap; max-width: 500px; overflow: hidden; text-overflow: ellipsis; \" colspan=\"1\"><div style=\"text-align: left;border-bottom: solid 2px #000; padding-bottom: 5px\">&#x27;NIH19KT0025&#x27;</div></td></tr><tr><td style=\"white-space: nowrap; max-width: 500px; overflow: hidden; text-overflow: ellipsis; \" colspan=\"1\"><div style=\"text-align: left;border-bottom: solid 2px #000; padding-bottom: 5px\">locus</div></td><td style=\"white-space: nowrap; max-width: 500px; overflow: hidden; text-overflow: ellipsis; \" colspan=\"1\"><div style=\"text-align: left;border-bottom: solid 2px #000; padding-bottom: 5px\">alleles</div></td><td style=\"white-space: nowrap; max-width: 500px; overflow: hidden; text-overflow: ellipsis; \" colspan=\"1\"><div style=\"text-align: left;border-bottom: solid 2px #000; padding-bottom: 5px\">GT</div></td><td style=\"white-space: nowrap; max-width: 500px; overflow: hidden; text-overflow: ellipsis; \" colspan=\"1\"><div style=\"text-align: left;border-bottom: solid 2px #000; padding-bottom: 5px\">GT</div></td><td style=\"white-space: nowrap; max-width: 500px; overflow: hidden; text-overflow: ellipsis; \" colspan=\"1\"><div style=\"text-align: left;border-bottom: solid 2px #000; padding-bottom: 5px\">GT</div></td><td style=\"white-space: nowrap; max-width: 500px; overflow: hidden; text-overflow: ellipsis; \" colspan=\"1\"><div style=\"text-align: left;border-bottom: solid 2px #000; padding-bottom: 5px\">GT</div></td></tr><tr><td style=\"white-space: nowrap; max-width: 500px; overflow: hidden; text-overflow: ellipsis; text-align: left;\">locus&lt;GRCh37&gt;</td><td style=\"white-space: nowrap; max-width: 500px; overflow: hidden; text-overflow: ellipsis; text-align: left;\">array&lt;str&gt;</td><td style=\"white-space: nowrap; max-width: 500px; overflow: hidden; text-overflow: ellipsis; text-align: left;\">call</td><td style=\"white-space: nowrap; max-width: 500px; overflow: hidden; text-overflow: ellipsis; text-align: left;\">call</td><td style=\"white-space: nowrap; max-width: 500px; overflow: hidden; text-overflow: ellipsis; text-align: left;\">call</td><td style=\"white-space: nowrap; max-width: 500px; overflow: hidden; text-overflow: ellipsis; text-align: left;\">call</td></tr>\n",
       "</thead><tbody><tr><td style=\"white-space: nowrap; max-width: 500px; overflow: hidden; text-overflow: ellipsis; \">1:69610</td><td style=\"white-space: nowrap; max-width: 500px; overflow: hidden; text-overflow: ellipsis; \">[&quot;B&quot;,&quot;A&quot;]</td><td style=\"white-space: nowrap; max-width: 500px; overflow: hidden; text-overflow: ellipsis; \">0/0</td><td style=\"white-space: nowrap; max-width: 500px; overflow: hidden; text-overflow: ellipsis; \">0/0</td><td style=\"white-space: nowrap; max-width: 500px; overflow: hidden; text-overflow: ellipsis; \">0/0</td><td style=\"white-space: nowrap; max-width: 500px; overflow: hidden; text-overflow: ellipsis; \">0/0</td></tr>\n",
       "<tr><td style=\"white-space: nowrap; max-width: 500px; overflow: hidden; text-overflow: ellipsis; \">1:601141</td><td style=\"white-space: nowrap; max-width: 500px; overflow: hidden; text-overflow: ellipsis; \">[&quot;B&quot;,&quot;A&quot;]</td><td style=\"white-space: nowrap; max-width: 500px; overflow: hidden; text-overflow: ellipsis; \">0/0</td><td style=\"white-space: nowrap; max-width: 500px; overflow: hidden; text-overflow: ellipsis; \">0/0</td><td style=\"white-space: nowrap; max-width: 500px; overflow: hidden; text-overflow: ellipsis; \">0/1</td><td style=\"white-space: nowrap; max-width: 500px; overflow: hidden; text-overflow: ellipsis; \">0/0</td></tr>\n",
       "<tr><td style=\"white-space: nowrap; max-width: 500px; overflow: hidden; text-overflow: ellipsis; \">1:720240</td><td style=\"white-space: nowrap; max-width: 500px; overflow: hidden; text-overflow: ellipsis; \">[&quot;B&quot;,&quot;A&quot;]</td><td style=\"white-space: nowrap; max-width: 500px; overflow: hidden; text-overflow: ellipsis; \">0/1</td><td style=\"white-space: nowrap; max-width: 500px; overflow: hidden; text-overflow: ellipsis; \">0/0</td><td style=\"white-space: nowrap; max-width: 500px; overflow: hidden; text-overflow: ellipsis; \">0/1</td><td style=\"white-space: nowrap; max-width: 500px; overflow: hidden; text-overflow: ellipsis; \">0/0</td></tr>\n",
       "<tr><td style=\"white-space: nowrap; max-width: 500px; overflow: hidden; text-overflow: ellipsis; \">1:721576</td><td style=\"white-space: nowrap; max-width: 500px; overflow: hidden; text-overflow: ellipsis; \">[&quot;B&quot;,&quot;0&quot;]</td><td style=\"white-space: nowrap; max-width: 500px; overflow: hidden; text-overflow: ellipsis; \">0/0</td><td style=\"white-space: nowrap; max-width: 500px; overflow: hidden; text-overflow: ellipsis; \">0/0</td><td style=\"white-space: nowrap; max-width: 500px; overflow: hidden; text-overflow: ellipsis; \">0/0</td><td style=\"white-space: nowrap; max-width: 500px; overflow: hidden; text-overflow: ellipsis; \">0/0</td></tr>\n",
       "<tr><td style=\"white-space: nowrap; max-width: 500px; overflow: hidden; text-overflow: ellipsis; \">1:729957</td><td style=\"white-space: nowrap; max-width: 500px; overflow: hidden; text-overflow: ellipsis; \">[&quot;A&quot;,&quot;B&quot;]</td><td style=\"white-space: nowrap; max-width: 500px; overflow: hidden; text-overflow: ellipsis; \">0/0</td><td style=\"white-space: nowrap; max-width: 500px; overflow: hidden; text-overflow: ellipsis; \">0/0</td><td style=\"white-space: nowrap; max-width: 500px; overflow: hidden; text-overflow: ellipsis; \">0/0</td><td style=\"white-space: nowrap; max-width: 500px; overflow: hidden; text-overflow: ellipsis; \">0/1</td></tr>\n",
       "</tbody></table><p style=\"background: #fdd; padding: 0.4em;\">showing top 5 rows</p>\n",
       "<p style=\"background: #fdd; padding: 0.4em;\">showing the first 4 of 1864 columns</p>\n"
      ],
      "text/plain": [
       "+---------------+------------+------------------+------------------+\n",
       "| locus         | alleles    | 'NIH19KT0022'.GT | 'NIH19KT0023'.GT |\n",
       "+---------------+------------+------------------+------------------+\n",
       "| locus<GRCh37> | array<str> | call             | call             |\n",
       "+---------------+------------+------------------+------------------+\n",
       "| 1:69610       | [\"B\",\"A\"]  | 0/0              | 0/0              |\n",
       "| 1:601141      | [\"B\",\"A\"]  | 0/0              | 0/0              |\n",
       "| 1:720240      | [\"B\",\"A\"]  | 0/1              | 0/0              |\n",
       "| 1:721576      | [\"B\",\"0\"]  | 0/0              | 0/0              |\n",
       "| 1:729957      | [\"A\",\"B\"]  | 0/0              | 0/0              |\n",
       "+---------------+------------+------------------+------------------+\n",
       "\n",
       "+------------------+------------------+\n",
       "| 'NIH19KT0024'.GT | 'NIH19KT0025'.GT |\n",
       "+------------------+------------------+\n",
       "| call             | call             |\n",
       "+------------------+------------------+\n",
       "| 0/0              | 0/0              |\n",
       "| 0/1              | 0/0              |\n",
       "| 0/1              | 0/0              |\n",
       "| 0/0              | 0/0              |\n",
       "| 0/0              | 0/1              |\n",
       "+------------------+------------------+\n",
       "showing top 5 rows\n",
       "showing the first 4 of 1864 columns"
      ]
     },
     "metadata": {},
     "output_type": "display_data"
    },
    {
     "data": {
      "text/html": [
       "<table><thead><tr><td style=\"white-space: nowrap; max-width: 500px; overflow: hidden; text-overflow: ellipsis; \" colspan=\"1\"><div style=\"text-align: left;\"></div></td><td style=\"white-space: nowrap; max-width: 500px; overflow: hidden; text-overflow: ellipsis; \" colspan=\"1\"><div style=\"text-align: left;\"></div></td><td style=\"white-space: nowrap; max-width: 500px; overflow: hidden; text-overflow: ellipsis; \" colspan=\"1\"><div style=\"text-align: left;\"></div></td><td style=\"white-space: nowrap; max-width: 500px; overflow: hidden; text-overflow: ellipsis; \" colspan=\"1\"><div style=\"text-align: left;\"></div></td><td style=\"white-space: nowrap; max-width: 500px; overflow: hidden; text-overflow: ellipsis; \" colspan=\"1\"><div style=\"text-align: left;\"></div></td><td style=\"white-space: nowrap; max-width: 500px; overflow: hidden; text-overflow: ellipsis; \" colspan=\"1\"><div style=\"text-align: left;\"></div></td></tr><tr><td style=\"white-space: nowrap; max-width: 500px; overflow: hidden; text-overflow: ellipsis; \" colspan=\"1\"><div style=\"text-align: left;border-bottom: solid 2px #000; padding-bottom: 5px\">s</div></td><td style=\"white-space: nowrap; max-width: 500px; overflow: hidden; text-overflow: ellipsis; \" colspan=\"1\"><div style=\"text-align: left;border-bottom: solid 2px #000; padding-bottom: 5px\">fam_id</div></td><td style=\"white-space: nowrap; max-width: 500px; overflow: hidden; text-overflow: ellipsis; \" colspan=\"1\"><div style=\"text-align: left;border-bottom: solid 2px #000; padding-bottom: 5px\">pat_id</div></td><td style=\"white-space: nowrap; max-width: 500px; overflow: hidden; text-overflow: ellipsis; \" colspan=\"1\"><div style=\"text-align: left;border-bottom: solid 2px #000; padding-bottom: 5px\">mat_id</div></td><td style=\"white-space: nowrap; max-width: 500px; overflow: hidden; text-overflow: ellipsis; \" colspan=\"1\"><div style=\"text-align: left;border-bottom: solid 2px #000; padding-bottom: 5px\">is_female</div></td><td style=\"white-space: nowrap; max-width: 500px; overflow: hidden; text-overflow: ellipsis; \" colspan=\"1\"><div style=\"text-align: left;border-bottom: solid 2px #000; padding-bottom: 5px\">is_case</div></td></tr><tr><td style=\"white-space: nowrap; max-width: 500px; overflow: hidden; text-overflow: ellipsis; text-align: left;\">str</td><td style=\"white-space: nowrap; max-width: 500px; overflow: hidden; text-overflow: ellipsis; text-align: left;\">str</td><td style=\"white-space: nowrap; max-width: 500px; overflow: hidden; text-overflow: ellipsis; text-align: left;\">str</td><td style=\"white-space: nowrap; max-width: 500px; overflow: hidden; text-overflow: ellipsis; text-align: left;\">str</td><td style=\"white-space: nowrap; max-width: 500px; overflow: hidden; text-overflow: ellipsis; text-align: left;\">bool</td><td style=\"white-space: nowrap; max-width: 500px; overflow: hidden; text-overflow: ellipsis; text-align: left;\">bool</td></tr>\n",
       "</thead><tbody><tr><td style=\"white-space: nowrap; max-width: 500px; overflow: hidden; text-overflow: ellipsis; \">&quot;NIH19KT0022&quot;</td><td style=\"white-space: nowrap; max-width: 500px; overflow: hidden; text-overflow: ellipsis; \">&quot;NIH19KT0022&quot;</td><td style=\"white-space: nowrap; max-width: 500px; overflow: hidden; text-overflow: ellipsis; \">NA</td><td style=\"white-space: nowrap; max-width: 500px; overflow: hidden; text-overflow: ellipsis; \">NA</td><td style=\"white-space: nowrap; max-width: 500px; overflow: hidden; text-overflow: ellipsis; \">True</td><td style=\"white-space: nowrap; max-width: 500px; overflow: hidden; text-overflow: ellipsis; \">False</td></tr>\n",
       "<tr><td style=\"white-space: nowrap; max-width: 500px; overflow: hidden; text-overflow: ellipsis; \">&quot;NIH19KT0023&quot;</td><td style=\"white-space: nowrap; max-width: 500px; overflow: hidden; text-overflow: ellipsis; \">&quot;NIH19KT0023&quot;</td><td style=\"white-space: nowrap; max-width: 500px; overflow: hidden; text-overflow: ellipsis; \">NA</td><td style=\"white-space: nowrap; max-width: 500px; overflow: hidden; text-overflow: ellipsis; \">NA</td><td style=\"white-space: nowrap; max-width: 500px; overflow: hidden; text-overflow: ellipsis; \">True</td><td style=\"white-space: nowrap; max-width: 500px; overflow: hidden; text-overflow: ellipsis; \">False</td></tr>\n",
       "<tr><td style=\"white-space: nowrap; max-width: 500px; overflow: hidden; text-overflow: ellipsis; \">&quot;NIH19KT0024&quot;</td><td style=\"white-space: nowrap; max-width: 500px; overflow: hidden; text-overflow: ellipsis; \">&quot;NIH19KT0024&quot;</td><td style=\"white-space: nowrap; max-width: 500px; overflow: hidden; text-overflow: ellipsis; \">NA</td><td style=\"white-space: nowrap; max-width: 500px; overflow: hidden; text-overflow: ellipsis; \">NA</td><td style=\"white-space: nowrap; max-width: 500px; overflow: hidden; text-overflow: ellipsis; \">False</td><td style=\"white-space: nowrap; max-width: 500px; overflow: hidden; text-overflow: ellipsis; \">False</td></tr>\n",
       "<tr><td style=\"white-space: nowrap; max-width: 500px; overflow: hidden; text-overflow: ellipsis; \">&quot;NIH19KT0025&quot;</td><td style=\"white-space: nowrap; max-width: 500px; overflow: hidden; text-overflow: ellipsis; \">&quot;NIH19KT0025&quot;</td><td style=\"white-space: nowrap; max-width: 500px; overflow: hidden; text-overflow: ellipsis; \">NA</td><td style=\"white-space: nowrap; max-width: 500px; overflow: hidden; text-overflow: ellipsis; \">NA</td><td style=\"white-space: nowrap; max-width: 500px; overflow: hidden; text-overflow: ellipsis; \">False</td><td style=\"white-space: nowrap; max-width: 500px; overflow: hidden; text-overflow: ellipsis; \">False</td></tr>\n",
       "<tr><td style=\"white-space: nowrap; max-width: 500px; overflow: hidden; text-overflow: ellipsis; \">&quot;NIH19KT0026&quot;</td><td style=\"white-space: nowrap; max-width: 500px; overflow: hidden; text-overflow: ellipsis; \">&quot;NIH19KT0026&quot;</td><td style=\"white-space: nowrap; max-width: 500px; overflow: hidden; text-overflow: ellipsis; \">NA</td><td style=\"white-space: nowrap; max-width: 500px; overflow: hidden; text-overflow: ellipsis; \">NA</td><td style=\"white-space: nowrap; max-width: 500px; overflow: hidden; text-overflow: ellipsis; \">True</td><td style=\"white-space: nowrap; max-width: 500px; overflow: hidden; text-overflow: ellipsis; \">False</td></tr>\n",
       "</tbody></table><p style=\"background: #fdd; padding: 0.4em;\">showing top 5 rows</p>\n"
      ],
      "text/plain": [
       "+---------------+---------------+--------+--------+-----------+---------+\n",
       "| s             | fam_id        | pat_id | mat_id | is_female | is_case |\n",
       "+---------------+---------------+--------+--------+-----------+---------+\n",
       "| str           | str           | str    | str    |      bool |    bool |\n",
       "+---------------+---------------+--------+--------+-----------+---------+\n",
       "| \"NIH19KT0022\" | \"NIH19KT0022\" | NA     | NA     |      True |   False |\n",
       "| \"NIH19KT0023\" | \"NIH19KT0023\" | NA     | NA     |      True |   False |\n",
       "| \"NIH19KT0024\" | \"NIH19KT0024\" | NA     | NA     |     False |   False |\n",
       "| \"NIH19KT0025\" | \"NIH19KT0025\" | NA     | NA     |     False |   False |\n",
       "| \"NIH19KT0026\" | \"NIH19KT0026\" | NA     | NA     |      True |   False |\n",
       "+---------------+---------------+--------+--------+-----------+---------+\n",
       "showing top 5 rows"
      ]
     },
     "metadata": {},
     "output_type": "display_data"
    },
    {
     "data": {
      "text/html": [
       "<table><thead><tr><td style=\"white-space: nowrap; max-width: 500px; overflow: hidden; text-overflow: ellipsis; \" colspan=\"1\"><div style=\"text-align: left;\"></div></td><td style=\"white-space: nowrap; max-width: 500px; overflow: hidden; text-overflow: ellipsis; \" colspan=\"1\"><div style=\"text-align: left;\"></div></td><td style=\"white-space: nowrap; max-width: 500px; overflow: hidden; text-overflow: ellipsis; \" colspan=\"1\"><div style=\"text-align: left;\"></div></td><td style=\"white-space: nowrap; max-width: 500px; overflow: hidden; text-overflow: ellipsis; \" colspan=\"1\"><div style=\"text-align: left;\"></div></td></tr><tr><td style=\"white-space: nowrap; max-width: 500px; overflow: hidden; text-overflow: ellipsis; \" colspan=\"1\"><div style=\"text-align: left;border-bottom: solid 2px #000; padding-bottom: 5px\">locus</div></td><td style=\"white-space: nowrap; max-width: 500px; overflow: hidden; text-overflow: ellipsis; \" colspan=\"1\"><div style=\"text-align: left;border-bottom: solid 2px #000; padding-bottom: 5px\">alleles</div></td><td style=\"white-space: nowrap; max-width: 500px; overflow: hidden; text-overflow: ellipsis; \" colspan=\"1\"><div style=\"text-align: left;border-bottom: solid 2px #000; padding-bottom: 5px\">rsid</div></td><td style=\"white-space: nowrap; max-width: 500px; overflow: hidden; text-overflow: ellipsis; \" colspan=\"1\"><div style=\"text-align: left;border-bottom: solid 2px #000; padding-bottom: 5px\">cm_position</div></td></tr><tr><td style=\"white-space: nowrap; max-width: 500px; overflow: hidden; text-overflow: ellipsis; text-align: left;\">locus&lt;GRCh37&gt;</td><td style=\"white-space: nowrap; max-width: 500px; overflow: hidden; text-overflow: ellipsis; text-align: left;\">array&lt;str&gt;</td><td style=\"white-space: nowrap; max-width: 500px; overflow: hidden; text-overflow: ellipsis; text-align: left;\">str</td><td style=\"white-space: nowrap; max-width: 500px; overflow: hidden; text-overflow: ellipsis; text-align: left;\">float64</td></tr>\n",
       "</thead><tbody><tr><td style=\"white-space: nowrap; max-width: 500px; overflow: hidden; text-overflow: ellipsis; \">1:69610</td><td style=\"white-space: nowrap; max-width: 500px; overflow: hidden; text-overflow: ellipsis; \">[&quot;B&quot;,&quot;A&quot;]</td><td style=\"white-space: nowrap; max-width: 500px; overflow: hidden; text-overflow: ellipsis; \">&quot;AX-100005102&quot;</td><td style=\"white-space: nowrap; max-width: 500px; overflow: hidden; text-overflow: ellipsis; \">0.00e+00</td></tr>\n",
       "<tr><td style=\"white-space: nowrap; max-width: 500px; overflow: hidden; text-overflow: ellipsis; \">1:601141</td><td style=\"white-space: nowrap; max-width: 500px; overflow: hidden; text-overflow: ellipsis; \">[&quot;B&quot;,&quot;A&quot;]</td><td style=\"white-space: nowrap; max-width: 500px; overflow: hidden; text-overflow: ellipsis; \">&quot;AX-114117266&quot;</td><td style=\"white-space: nowrap; max-width: 500px; overflow: hidden; text-overflow: ellipsis; \">0.00e+00</td></tr>\n",
       "<tr><td style=\"white-space: nowrap; max-width: 500px; overflow: hidden; text-overflow: ellipsis; \">1:720240</td><td style=\"white-space: nowrap; max-width: 500px; overflow: hidden; text-overflow: ellipsis; \">[&quot;B&quot;,&quot;A&quot;]</td><td style=\"white-space: nowrap; max-width: 500px; overflow: hidden; text-overflow: ellipsis; \">&quot;AX-32104085&quot;</td><td style=\"white-space: nowrap; max-width: 500px; overflow: hidden; text-overflow: ellipsis; \">0.00e+00</td></tr>\n",
       "<tr><td style=\"white-space: nowrap; max-width: 500px; overflow: hidden; text-overflow: ellipsis; \">1:721576</td><td style=\"white-space: nowrap; max-width: 500px; overflow: hidden; text-overflow: ellipsis; \">[&quot;B&quot;,&quot;0&quot;]</td><td style=\"white-space: nowrap; max-width: 500px; overflow: hidden; text-overflow: ellipsis; \">&quot;AX-113426524&quot;</td><td style=\"white-space: nowrap; max-width: 500px; overflow: hidden; text-overflow: ellipsis; \">0.00e+00</td></tr>\n",
       "<tr><td style=\"white-space: nowrap; max-width: 500px; overflow: hidden; text-overflow: ellipsis; \">1:729957</td><td style=\"white-space: nowrap; max-width: 500px; overflow: hidden; text-overflow: ellipsis; \">[&quot;A&quot;,&quot;B&quot;]</td><td style=\"white-space: nowrap; max-width: 500px; overflow: hidden; text-overflow: ellipsis; \">&quot;AX-37361815&quot;</td><td style=\"white-space: nowrap; max-width: 500px; overflow: hidden; text-overflow: ellipsis; \">0.00e+00</td></tr>\n",
       "</tbody></table><p style=\"background: #fdd; padding: 0.4em;\">showing top 5 rows</p>\n"
      ],
      "text/plain": [
       "+---------------+------------+----------------+-------------+\n",
       "| locus         | alleles    | rsid           | cm_position |\n",
       "+---------------+------------+----------------+-------------+\n",
       "| locus<GRCh37> | array<str> | str            |     float64 |\n",
       "+---------------+------------+----------------+-------------+\n",
       "| 1:69610       | [\"B\",\"A\"]  | \"AX-100005102\" |    0.00e+00 |\n",
       "| 1:601141      | [\"B\",\"A\"]  | \"AX-114117266\" |    0.00e+00 |\n",
       "| 1:720240      | [\"B\",\"A\"]  | \"AX-32104085\"  |    0.00e+00 |\n",
       "| 1:721576      | [\"B\",\"0\"]  | \"AX-113426524\" |    0.00e+00 |\n",
       "| 1:729957      | [\"A\",\"B\"]  | \"AX-37361815\"  |    0.00e+00 |\n",
       "+---------------+------------+----------------+-------------+\n",
       "showing top 5 rows"
      ]
     },
     "metadata": {},
     "output_type": "display_data"
    },
    {
     "data": {
      "text/html": [
       "<table><thead><tr><td style=\"white-space: nowrap; max-width: 500px; overflow: hidden; text-overflow: ellipsis; \" colspan=\"1\"><div style=\"text-align: left;\"></div></td><td style=\"white-space: nowrap; max-width: 500px; overflow: hidden; text-overflow: ellipsis; \" colspan=\"1\"><div style=\"text-align: left;\"></div></td></tr><tr><td style=\"white-space: nowrap; max-width: 500px; overflow: hidden; text-overflow: ellipsis; \" colspan=\"1\"><div style=\"text-align: left;border-bottom: solid 2px #000; padding-bottom: 5px\">locus</div></td><td style=\"white-space: nowrap; max-width: 500px; overflow: hidden; text-overflow: ellipsis; \" colspan=\"1\"><div style=\"text-align: left;border-bottom: solid 2px #000; padding-bottom: 5px\">alleles</div></td></tr><tr><td style=\"white-space: nowrap; max-width: 500px; overflow: hidden; text-overflow: ellipsis; text-align: left;\">locus&lt;GRCh37&gt;</td><td style=\"white-space: nowrap; max-width: 500px; overflow: hidden; text-overflow: ellipsis; text-align: left;\">array&lt;str&gt;</td></tr>\n",
       "</thead><tbody><tr><td style=\"white-space: nowrap; max-width: 500px; overflow: hidden; text-overflow: ellipsis; \">1:69610</td><td style=\"white-space: nowrap; max-width: 500px; overflow: hidden; text-overflow: ellipsis; \">[&quot;B&quot;,&quot;A&quot;]</td></tr>\n",
       "<tr><td style=\"white-space: nowrap; max-width: 500px; overflow: hidden; text-overflow: ellipsis; \">1:601141</td><td style=\"white-space: nowrap; max-width: 500px; overflow: hidden; text-overflow: ellipsis; \">[&quot;B&quot;,&quot;A&quot;]</td></tr>\n",
       "<tr><td style=\"white-space: nowrap; max-width: 500px; overflow: hidden; text-overflow: ellipsis; \">1:720240</td><td style=\"white-space: nowrap; max-width: 500px; overflow: hidden; text-overflow: ellipsis; \">[&quot;B&quot;,&quot;A&quot;]</td></tr>\n",
       "<tr><td style=\"white-space: nowrap; max-width: 500px; overflow: hidden; text-overflow: ellipsis; \">1:721576</td><td style=\"white-space: nowrap; max-width: 500px; overflow: hidden; text-overflow: ellipsis; \">[&quot;B&quot;,&quot;0&quot;]</td></tr>\n",
       "<tr><td style=\"white-space: nowrap; max-width: 500px; overflow: hidden; text-overflow: ellipsis; \">1:729957</td><td style=\"white-space: nowrap; max-width: 500px; overflow: hidden; text-overflow: ellipsis; \">[&quot;A&quot;,&quot;B&quot;]</td></tr>\n",
       "</tbody></table><p style=\"background: #fdd; padding: 0.4em;\">showing top 5 rows</p>\n"
      ],
      "text/plain": [
       "+---------------+------------+\n",
       "| locus         | alleles    |\n",
       "+---------------+------------+\n",
       "| locus<GRCh37> | array<str> |\n",
       "+---------------+------------+\n",
       "| 1:69610       | [\"B\",\"A\"]  |\n",
       "| 1:601141      | [\"B\",\"A\"]  |\n",
       "| 1:720240      | [\"B\",\"A\"]  |\n",
       "| 1:721576      | [\"B\",\"0\"]  |\n",
       "| 1:729957      | [\"A\",\"B\"]  |\n",
       "+---------------+------------+\n",
       "showing top 5 rows"
      ]
     },
     "metadata": {},
     "output_type": "display_data"
    }
   ],
   "source": [
    "mt.show(5)\n",
    "mt.col.show(5)\n",
    "mt.row.show(5)\n",
    "mt.locus.show(5)"
   ]
  },
  {
   "cell_type": "code",
   "execution_count": 5,
   "id": "fae4e8e2-2898-47d6-913d-6bfdf4121633",
   "metadata": {},
   "outputs": [
    {
     "name": "stderr",
     "output_type": "stream",
     "text": [
      "2023-02-24 10:18:17.224 Hail: INFO: wrote table with 799318 rows in 1 partition to /tmp/persist_tableixwfQWGKVy\n",
      "2023-02-24 10:18:17.635 Hail: INFO: Reading table without type imputation\n",
      "  Loading field 'probeset_id' as type str (not specified)\n"
     ]
    },
    {
     "name": "stdout",
     "output_type": "stream",
     "text": [
      "----------------------------------------\n",
      "Global fields:\n",
      "    None\n",
      "----------------------------------------\n",
      "Row fields:\n",
      "    'probeset_id': str \n",
      "----------------------------------------\n",
      "Key: ['probeset_id']\n",
      "----------------------------------------\n"
     ]
    },
    {
     "name": "stderr",
     "output_type": "stream",
     "text": [
      "[Stage 10:>                                                         (0 + 1) / 1]\r"
     ]
    },
    {
     "data": {
      "text/html": [
       "<table><thead><tr><td style=\"white-space: nowrap; max-width: 500px; overflow: hidden; text-overflow: ellipsis; \" colspan=\"1\"><div style=\"text-align: left;\"></div></td></tr><tr><td style=\"white-space: nowrap; max-width: 500px; overflow: hidden; text-overflow: ellipsis; \" colspan=\"1\"><div style=\"text-align: left;border-bottom: solid 2px #000; padding-bottom: 5px\">probeset_id</div></td></tr><tr><td style=\"white-space: nowrap; max-width: 500px; overflow: hidden; text-overflow: ellipsis; text-align: left;\">str</td></tr>\n",
       "</thead><tbody><tr><td style=\"white-space: nowrap; max-width: 500px; overflow: hidden; text-overflow: ellipsis; \">&quot;AFFX-KIT-000001&quot;</td></tr>\n",
       "<tr><td style=\"white-space: nowrap; max-width: 500px; overflow: hidden; text-overflow: ellipsis; \">&quot;AFFX-KIT-000002&quot;</td></tr>\n",
       "<tr><td style=\"white-space: nowrap; max-width: 500px; overflow: hidden; text-overflow: ellipsis; \">&quot;AFFX-KIT-000003&quot;</td></tr>\n",
       "<tr><td style=\"white-space: nowrap; max-width: 500px; overflow: hidden; text-overflow: ellipsis; \">&quot;AFFX-KIT-000004&quot;</td></tr>\n",
       "<tr><td style=\"white-space: nowrap; max-width: 500px; overflow: hidden; text-overflow: ellipsis; \">&quot;AFFX-KIT-000008&quot;</td></tr>\n",
       "</tbody></table><p style=\"background: #fdd; padding: 0.4em;\">showing top 5 rows</p>\n"
      ],
      "text/plain": [
       "+-------------------+\n",
       "| probeset_id       |\n",
       "+-------------------+\n",
       "| str               |\n",
       "+-------------------+\n",
       "| \"AFFX-KIT-000001\" |\n",
       "| \"AFFX-KIT-000002\" |\n",
       "| \"AFFX-KIT-000003\" |\n",
       "| \"AFFX-KIT-000004\" |\n",
       "| \"AFFX-KIT-000008\" |\n",
       "+-------------------+\n",
       "showing top 5 rows"
      ]
     },
     "metadata": {},
     "output_type": "display_data"
    }
   ],
   "source": [
    "snpolisher = hl.import_table(\"/Users/ksmpooh/Desktop/KCDC/hail/data/NODAT_toy/2nd_beforeQCed/Recommended.ps\").key_by('probeset_id')\n",
    "snpolisher.describe()\n",
    "snpolisher.show(5)"
   ]
  },
  {
   "cell_type": "code",
   "execution_count": 6,
   "id": "92be9b80-083a-46d0-b948-b8483d447578",
   "metadata": {},
   "outputs": [],
   "source": [
    "mt = mt.annotate_rows(snpolisher = snpolisher[mt.row.rsid])"
   ]
  },
  {
   "cell_type": "code",
   "execution_count": 7,
   "id": "eb89ed8c-1989-4439-94d9-456757319203",
   "metadata": {},
   "outputs": [
    {
     "data": {
      "text/html": [
       "<table><thead><tr><td style=\"white-space: nowrap; max-width: 500px; overflow: hidden; text-overflow: ellipsis; \" colspan=\"1\"><div style=\"text-align: left;\"></div></td><td style=\"white-space: nowrap; max-width: 500px; overflow: hidden; text-overflow: ellipsis; \" colspan=\"1\"><div style=\"text-align: left;\"></div></td><td style=\"white-space: nowrap; max-width: 500px; overflow: hidden; text-overflow: ellipsis; \" colspan=\"1\"><div style=\"text-align: left;\"></div></td><td style=\"white-space: nowrap; max-width: 500px; overflow: hidden; text-overflow: ellipsis; \" colspan=\"1\"><div style=\"text-align: left;\"></div></td><td style=\"white-space: nowrap; max-width: 500px; overflow: hidden; text-overflow: ellipsis; \" colspan=\"0\"><div style=\"text-align: left;\"></div></td></tr><tr><td style=\"white-space: nowrap; max-width: 500px; overflow: hidden; text-overflow: ellipsis; \" colspan=\"1\"><div style=\"text-align: left;\"></div></td><td style=\"white-space: nowrap; max-width: 500px; overflow: hidden; text-overflow: ellipsis; \" colspan=\"1\"><div style=\"text-align: left;\"></div></td><td style=\"white-space: nowrap; max-width: 500px; overflow: hidden; text-overflow: ellipsis; \" colspan=\"1\"><div style=\"text-align: left;\"></div></td><td style=\"white-space: nowrap; max-width: 500px; overflow: hidden; text-overflow: ellipsis; \" colspan=\"1\"><div style=\"text-align: left;\"></div></td><td style=\"white-space: nowrap; max-width: 500px; overflow: hidden; text-overflow: ellipsis; \" colspan=\"0\"><div style=\"text-align: left;border-bottom: solid 2px #000; padding-bottom: 5px\">snpolisher</div></td></tr><tr><td style=\"white-space: nowrap; max-width: 500px; overflow: hidden; text-overflow: ellipsis; \" colspan=\"1\"><div style=\"text-align: left;border-bottom: solid 2px #000; padding-bottom: 5px\">locus</div></td><td style=\"white-space: nowrap; max-width: 500px; overflow: hidden; text-overflow: ellipsis; \" colspan=\"1\"><div style=\"text-align: left;border-bottom: solid 2px #000; padding-bottom: 5px\">alleles</div></td><td style=\"white-space: nowrap; max-width: 500px; overflow: hidden; text-overflow: ellipsis; \" colspan=\"1\"><div style=\"text-align: left;border-bottom: solid 2px #000; padding-bottom: 5px\">rsid</div></td><td style=\"white-space: nowrap; max-width: 500px; overflow: hidden; text-overflow: ellipsis; \" colspan=\"1\"><div style=\"text-align: left;border-bottom: solid 2px #000; padding-bottom: 5px\">cm_position</div></td></tr><tr><td style=\"white-space: nowrap; max-width: 500px; overflow: hidden; text-overflow: ellipsis; text-align: left;\">locus&lt;GRCh37&gt;</td><td style=\"white-space: nowrap; max-width: 500px; overflow: hidden; text-overflow: ellipsis; text-align: left;\">array&lt;str&gt;</td><td style=\"white-space: nowrap; max-width: 500px; overflow: hidden; text-overflow: ellipsis; text-align: left;\">str</td><td style=\"white-space: nowrap; max-width: 500px; overflow: hidden; text-overflow: ellipsis; text-align: left;\">float64</td></tr>\n",
       "</thead><tbody><tr><td style=\"white-space: nowrap; max-width: 500px; overflow: hidden; text-overflow: ellipsis; \">1:69610</td><td style=\"white-space: nowrap; max-width: 500px; overflow: hidden; text-overflow: ellipsis; \">[&quot;B&quot;,&quot;A&quot;]</td><td style=\"white-space: nowrap; max-width: 500px; overflow: hidden; text-overflow: ellipsis; \">&quot;AX-100005102&quot;</td><td style=\"white-space: nowrap; max-width: 500px; overflow: hidden; text-overflow: ellipsis; \">0.00e+00</td></tr>\n",
       "<tr><td style=\"white-space: nowrap; max-width: 500px; overflow: hidden; text-overflow: ellipsis; \">1:601141</td><td style=\"white-space: nowrap; max-width: 500px; overflow: hidden; text-overflow: ellipsis; \">[&quot;B&quot;,&quot;A&quot;]</td><td style=\"white-space: nowrap; max-width: 500px; overflow: hidden; text-overflow: ellipsis; \">&quot;AX-114117266&quot;</td><td style=\"white-space: nowrap; max-width: 500px; overflow: hidden; text-overflow: ellipsis; \">0.00e+00</td></tr>\n",
       "<tr><td style=\"white-space: nowrap; max-width: 500px; overflow: hidden; text-overflow: ellipsis; \">1:720240</td><td style=\"white-space: nowrap; max-width: 500px; overflow: hidden; text-overflow: ellipsis; \">[&quot;B&quot;,&quot;A&quot;]</td><td style=\"white-space: nowrap; max-width: 500px; overflow: hidden; text-overflow: ellipsis; \">&quot;AX-32104085&quot;</td><td style=\"white-space: nowrap; max-width: 500px; overflow: hidden; text-overflow: ellipsis; \">0.00e+00</td></tr>\n",
       "<tr><td style=\"white-space: nowrap; max-width: 500px; overflow: hidden; text-overflow: ellipsis; \">1:721576</td><td style=\"white-space: nowrap; max-width: 500px; overflow: hidden; text-overflow: ellipsis; \">[&quot;B&quot;,&quot;0&quot;]</td><td style=\"white-space: nowrap; max-width: 500px; overflow: hidden; text-overflow: ellipsis; \">&quot;AX-113426524&quot;</td><td style=\"white-space: nowrap; max-width: 500px; overflow: hidden; text-overflow: ellipsis; \">0.00e+00</td></tr>\n",
       "<tr><td style=\"white-space: nowrap; max-width: 500px; overflow: hidden; text-overflow: ellipsis; \">1:729957</td><td style=\"white-space: nowrap; max-width: 500px; overflow: hidden; text-overflow: ellipsis; \">[&quot;A&quot;,&quot;B&quot;]</td><td style=\"white-space: nowrap; max-width: 500px; overflow: hidden; text-overflow: ellipsis; \">&quot;AX-37361815&quot;</td><td style=\"white-space: nowrap; max-width: 500px; overflow: hidden; text-overflow: ellipsis; \">0.00e+00</td></tr>\n",
       "</tbody></table><p style=\"background: #fdd; padding: 0.4em;\">showing top 5 rows</p>\n"
      ],
      "text/plain": [
       "+---------------+------------+----------------+-------------+\n",
       "| locus         | alleles    | rsid           | cm_position |\n",
       "+---------------+------------+----------------+-------------+\n",
       "| locus<GRCh37> | array<str> | str            |     float64 |\n",
       "+---------------+------------+----------------+-------------+\n",
       "| 1:69610       | [\"B\",\"A\"]  | \"AX-100005102\" |    0.00e+00 |\n",
       "| 1:601141      | [\"B\",\"A\"]  | \"AX-114117266\" |    0.00e+00 |\n",
       "| 1:720240      | [\"B\",\"A\"]  | \"AX-32104085\"  |    0.00e+00 |\n",
       "| 1:721576      | [\"B\",\"0\"]  | \"AX-113426524\" |    0.00e+00 |\n",
       "| 1:729957      | [\"A\",\"B\"]  | \"AX-37361815\"  |    0.00e+00 |\n",
       "+---------------+------------+----------------+-------------+\n",
       "showing top 5 rows"
      ]
     },
     "metadata": {},
     "output_type": "display_data"
    },
    {
     "name": "stderr",
     "output_type": "stream",
     "text": [
      "2023-02-24 10:18:25.190 Hail: INFO: Ordering unsorted dataset with network shuffle\n",
      "2023-02-24 10:18:26.761 Hail: INFO: Coerced sorted dataset          (0 + 1) / 1]\n",
      "2023-02-24 10:18:38.477 Hail: INFO: Ordering unsorted dataset with network shuffle\n",
      "[Stage 19:================================================>       (20 + 3) / 23]\r"
     ]
    },
    {
     "data": {
      "text/html": [
       "<p>827783 records.</p><b>snpolisher</b> (<i>struct with 0 fields</i>):<ul><table><tbody><tr><td>Non-missing</td><td>799317 (96.56%)</td></tr><tr><td>Missing</td><td>28466 (3.44%)</td></tr></tbody></table></ul>"
      ],
      "text/plain": [
       "\n",
       "827783 records.\n",
       "\n",
       "- snpolisher (struct with 0 fields):\n",
       "  Non-missing: 799317 (96.56%)\n",
       "      Missing: 28466 (3.44%)"
      ]
     },
     "metadata": {},
     "output_type": "display_data"
    }
   ],
   "source": [
    "mt.row.show(5)\n",
    "mt.row.snpolisher.summarize()"
   ]
  },
  {
   "cell_type": "code",
   "execution_count": 8,
   "id": "f92da071-b41a-423b-8e77-bb522795f5df",
   "metadata": {},
   "outputs": [
    {
     "name": "stdout",
     "output_type": "stream",
     "text": [
      "Before SNPolisher : Samples: 1864  Variants: 827783\n"
     ]
    },
    {
     "name": "stderr",
     "output_type": "stream",
     "text": [
      "2023-02-24 10:18:56.742 Hail: INFO: Ordering unsorted dataset with network shuffle\n",
      "2023-02-24 10:18:58.111 Hail: INFO: Coerced sorted dataset          (0 + 1) / 1]\n",
      "2023-02-24 10:19:07.423 Hail: INFO: Ordering unsorted dataset with network shuffle\n",
      "[Stage 26:======================================>                 (16 + 7) / 23]\r"
     ]
    },
    {
     "name": "stdout",
     "output_type": "stream",
     "text": [
      "After SNPolisher : Samples: 1864  Variants: 799317\n"
     ]
    },
    {
     "name": "stderr",
     "output_type": "stream",
     "text": [
      "[Stage 26:===========================================>            (18 + 5) / 23]\r"
     ]
    }
   ],
   "source": [
    "print('Before SNPolisher : Samples: %d  Variants: %d' % (mt.count_cols(), mt.count_rows()))\n",
    "mt = mt.filter_rows(hl.is_missing(mt.row.snpolisher),keep=False)\n",
    "print('After SNPolisher : Samples: %d  Variants: %d' % (mt.count_cols(), mt.count_rows()))"
   ]
  },
  {
   "cell_type": "code",
   "execution_count": 9,
   "id": "c9c3541d-6448-4aa6-b067-ee0b91f91c4f",
   "metadata": {},
   "outputs": [
    {
     "name": "stdout",
     "output_type": "stream",
     "text": [
      "--------------------------------------------------------\n",
      "Type:\n",
      "        struct {\n",
      "        s: str, \n",
      "        fam_id: str, \n",
      "        pat_id: str, \n",
      "        mat_id: str, \n",
      "        is_female: bool, \n",
      "        is_case: bool\n",
      "    }\n",
      "--------------------------------------------------------\n",
      "Source:\n",
      "    <hail.matrixtable.MatrixTable object at 0x15ef41520>\n",
      "Index:\n",
      "    ['column']\n",
      "--------------------------------------------------------\n"
     ]
    }
   ],
   "source": [
    "mt.col.describe()"
   ]
  },
  {
   "cell_type": "code",
   "execution_count": 10,
   "id": "79cd597b-2608-4885-b6bd-88d7f911642c",
   "metadata": {},
   "outputs": [],
   "source": [
    "mt = hl.sample_qc(mt)"
   ]
  },
  {
   "cell_type": "code",
   "execution_count": 11,
   "id": "ac0a1d57-6ed6-4268-a133-f0d1b57241b3",
   "metadata": {},
   "outputs": [
    {
     "name": "stdout",
     "output_type": "stream",
     "text": [
      "--------------------------------------------------------\n",
      "Type:\n",
      "        struct {\n",
      "        s: str, \n",
      "        fam_id: str, \n",
      "        pat_id: str, \n",
      "        mat_id: str, \n",
      "        is_female: bool, \n",
      "        is_case: bool, \n",
      "        sample_qc: struct {\n",
      "            call_rate: float64, \n",
      "            n_called: int64, \n",
      "            n_not_called: int64, \n",
      "            n_filtered: int64, \n",
      "            n_hom_ref: int64, \n",
      "            n_het: int64, \n",
      "            n_hom_var: int64, \n",
      "            n_non_ref: int64, \n",
      "            n_singleton: int64, \n",
      "            n_snp: int64, \n",
      "            n_insertion: int64, \n",
      "            n_deletion: int64, \n",
      "            n_transition: int64, \n",
      "            n_transversion: int64, \n",
      "            n_star: int64, \n",
      "            r_ti_tv: float64, \n",
      "            r_het_hom_var: float64, \n",
      "            r_insertion_deletion: float64\n",
      "        }\n",
      "    }\n",
      "--------------------------------------------------------\n",
      "Source:\n",
      "    <hail.matrixtable.MatrixTable object at 0x16c74d3a0>\n",
      "Index:\n",
      "    ['column']\n",
      "--------------------------------------------------------\n"
     ]
    }
   ],
   "source": [
    "mt.col.describe()"
   ]
  },
  {
   "cell_type": "code",
   "execution_count": 12,
   "id": "36de929a-75e2-4543-811a-6224ffdc3387",
   "metadata": {},
   "outputs": [
    {
     "name": "stderr",
     "output_type": "stream",
     "text": [
      "2023-02-24 10:19:25.822 Hail: INFO: Ordering unsorted dataset with network shuffle\n",
      "2023-02-24 10:19:27.322 Hail: INFO: Coerced sorted dataset          (0 + 1) / 1]\n",
      "2023-02-24 10:19:36.467 Hail: INFO: Ordering unsorted dataset with network shuffle\n",
      "2023-02-24 10:20:02.690 Hail: INFO: Ordering unsorted dataset with network shuffle\n",
      "2023-02-24 10:20:04.032 Hail: INFO: Coerced sorted dataset          (0 + 1) / 1]\n",
      "2023-02-24 10:20:12.486 Hail: INFO: Ordering unsorted dataset with network shuffle\n",
      "[Stage 41:===================================================>    (21 + 2) / 23]\r"
     ]
    },
    {
     "data": {
      "text/html": [
       "\n",
       "\n",
       "\n",
       "\n",
       "\n",
       "\n",
       "  <div class=\"bk-root\" id=\"11faa221-7676-428d-90c0-ee36da7607a8\" data-root-id=\"1002\"></div>\n"
      ]
     },
     "metadata": {},
     "output_type": "display_data"
    },
    {
     "data": {
      "application/javascript": [
       "(function(root) {\n",
       "  function embed_document(root) {\n",
       "    \n",
       "  var docs_json = {\"84d6266b-2833-4ec3-b9b9-93ee7518d7fa\":{\"roots\":{\"references\":[{\"attributes\":{\"background_fill_color\":{\"value\":\"#EEEEEE\"},\"below\":[{\"id\":\"1012\",\"type\":\"LinearAxis\"}],\"center\":[{\"id\":\"1016\",\"type\":\"Grid\"},{\"id\":\"1021\",\"type\":\"Grid\"},{\"id\":\"1046\",\"type\":\"Legend\"}],\"left\":[{\"id\":\"1017\",\"type\":\"LinearAxis\"}],\"renderers\":[{\"id\":\"1038\",\"type\":\"GlyphRenderer\"}],\"title\":null,\"toolbar\":{\"id\":\"1028\",\"type\":\"Toolbar\"},\"x_range\":{\"id\":\"1004\",\"type\":\"Range1d\"},\"x_scale\":{\"id\":\"1008\",\"type\":\"LinearScale\"},\"y_range\":{\"id\":\"1006\",\"type\":\"DataRange1d\"},\"y_scale\":{\"id\":\"1010\",\"type\":\"LinearScale\"}},\"id\":\"1002\",\"subtype\":\"Figure\",\"type\":\"Plot\"},{\"attributes\":{\"dimension\":1,\"ticker\":{\"id\":\"1018\",\"type\":\"BasicTicker\"}},\"id\":\"1021\",\"type\":\"Grid\"},{\"attributes\":{},\"id\":\"1026\",\"type\":\"ResetTool\"},{\"attributes\":{\"axis_label\":\"Missing Rate\",\"formatter\":{\"id\":\"1041\",\"type\":\"BasicTickFormatter\"},\"ticker\":{\"id\":\"1013\",\"type\":\"BasicTicker\"}},\"id\":\"1012\",\"type\":\"LinearAxis\"},{\"attributes\":{\"bottom\":{\"value\":0},\"fill_color\":{\"value\":\"#1f77b4\"},\"left\":{\"field\":\"left\"},\"right\":{\"field\":\"right\"},\"top\":{\"field\":\"top\"}},\"id\":\"1036\",\"type\":\"Quad\"},{\"attributes\":{\"callback\":null,\"data\":{\"left\":[0.00028899673095905687,0.0008864568125036753,0.0014839168940482938,0.0020813769755929122,0.0026788370571375307,0.003276297138682149,0.0038737572202267676,0.004471217301771386,0.0050686773833160045,0.005666137464860623,0.0062635975464052415,0.00686105762794986,0.007458517709494478,0.008055977791039098,0.008653437872583715,0.009250897954128333,0.009848358035672952,0.010445818117217572,0.011043278198762189,0.011640738280306807,0.012238198361851426,0.012835658443396045,0.013433118524940663,0.01403057860648528,0.0146280386880299,0.01522549876957452,0.01582295885111914,0.016420418932663754,0.017017879014208374,0.017615339095752993,0.01821279917729761,0.018810259258842228,0.019407719340386848,0.020005179421931467,0.020602639503476086,0.021200099585020702,0.02179755966656532,0.02239501974810994,0.022992479829654557,0.023589939911199176,0.024187399992743795,0.024784860074288415,0.025382320155833034,0.02597978023737765,0.02657724031892227,0.02717470040046689,0.027772160482011504,0.028369620563556124,0.028967080645100743,0.029564540726645362],\"right\":[0.0008864568125036753,0.0014839168940482938,0.0020813769755929122,0.0026788370571375307,0.003276297138682149,0.0038737572202267676,0.004471217301771386,0.0050686773833160045,0.005666137464860623,0.0062635975464052415,0.00686105762794986,0.007458517709494478,0.008055977791039098,0.008653437872583715,0.009250897954128333,0.009848358035672952,0.010445818117217572,0.011043278198762189,0.011640738280306807,0.012238198361851426,0.012835658443396045,0.013433118524940663,0.01403057860648528,0.0146280386880299,0.01522549876957452,0.01582295885111914,0.016420418932663754,0.017017879014208374,0.017615339095752993,0.01821279917729761,0.018810259258842228,0.019407719340386848,0.020005179421931467,0.020602639503476086,0.021200099585020702,0.02179755966656532,0.02239501974810994,0.022992479829654557,0.023589939911199176,0.024187399992743795,0.024784860074288415,0.025382320155833034,0.02597978023737765,0.02657724031892227,0.02717470040046689,0.027772160482011504,0.028369620563556124,0.028967080645100743,0.029564540726645362,0.03016200080818998],\"top\":[184,352,350,301,177,87,47,49,43,37,33,26,24,26,21,10,12,11,6,11,6,8,0,5,4,1,7,3,1,1,2,3,2,2,1,1,1,2,0,2,0,1,1,1,0,0,0,0,1,1]},\"selected\":{\"id\":\"1053\",\"type\":\"Selection\"},\"selection_policy\":{\"id\":\"1054\",\"type\":\"UnionRenderers\"}},\"id\":\"1035\",\"type\":\"ColumnDataSource\"},{\"attributes\":{\"callback\":null,\"end\":0.031655651012051526,\"start\":-0.0012046534729024895},\"id\":\"1004\",\"type\":\"Range1d\"},{\"attributes\":{\"source\":{\"id\":\"1035\",\"type\":\"ColumnDataSource\"}},\"id\":\"1039\",\"type\":\"CDSView\"},{\"attributes\":{},\"id\":\"1013\",\"type\":\"BasicTicker\"},{\"attributes\":{\"axis_label\":\"Frequency\",\"formatter\":{\"id\":\"1043\",\"type\":\"BasicTickFormatter\"},\"ticker\":{\"id\":\"1018\",\"type\":\"BasicTicker\"}},\"id\":\"1017\",\"type\":\"LinearAxis\"},{\"attributes\":{},\"id\":\"1041\",\"type\":\"BasicTickFormatter\"},{\"attributes\":{\"overlay\":{\"id\":\"1045\",\"type\":\"BoxAnnotation\"}},\"id\":\"1024\",\"type\":\"BoxZoomTool\"},{\"attributes\":{},\"id\":\"1027\",\"type\":\"HelpTool\"},{\"attributes\":{\"data_source\":{\"id\":\"1035\",\"type\":\"ColumnDataSource\"},\"glyph\":{\"id\":\"1036\",\"type\":\"Quad\"},\"hover_glyph\":null,\"muted_glyph\":null,\"nonselection_glyph\":{\"id\":\"1037\",\"type\":\"Quad\"},\"selection_glyph\":null,\"view\":{\"id\":\"1039\",\"type\":\"CDSView\"}},\"id\":\"1038\",\"type\":\"GlyphRenderer\"},{\"attributes\":{},\"id\":\"1022\",\"type\":\"PanTool\"},{\"attributes\":{},\"id\":\"1053\",\"type\":\"Selection\"},{\"attributes\":{\"callback\":null},\"id\":\"1006\",\"type\":\"DataRange1d\"},{\"attributes\":{\"bottom\":{\"value\":0},\"fill_alpha\":{\"value\":0.1},\"fill_color\":{\"value\":\"#1f77b4\"},\"left\":{\"field\":\"left\"},\"line_alpha\":{\"value\":0.1},\"line_color\":{\"value\":\"#1f77b4\"},\"right\":{\"field\":\"right\"},\"top\":{\"field\":\"top\"}},\"id\":\"1037\",\"type\":\"Quad\"},{\"attributes\":{},\"id\":\"1025\",\"type\":\"SaveTool\"},{\"attributes\":{\"label\":{\"value\":\"Missing Rate\"},\"renderers\":[{\"id\":\"1038\",\"type\":\"GlyphRenderer\"}]},\"id\":\"1047\",\"type\":\"LegendItem\"},{\"attributes\":{\"bottom_units\":\"screen\",\"fill_alpha\":{\"value\":0.5},\"fill_color\":{\"value\":\"lightgrey\"},\"left_units\":\"screen\",\"level\":\"overlay\",\"line_alpha\":{\"value\":1.0},\"line_color\":{\"value\":\"black\"},\"line_dash\":[4,4],\"line_width\":{\"value\":2},\"render_mode\":\"css\",\"right_units\":\"screen\",\"top_units\":\"screen\"},\"id\":\"1045\",\"type\":\"BoxAnnotation\"},{\"attributes\":{},\"id\":\"1043\",\"type\":\"BasicTickFormatter\"},{\"attributes\":{\"active_drag\":\"auto\",\"active_inspect\":\"auto\",\"active_multi\":null,\"active_scroll\":\"auto\",\"active_tap\":\"auto\",\"tools\":[{\"id\":\"1022\",\"type\":\"PanTool\"},{\"id\":\"1023\",\"type\":\"WheelZoomTool\"},{\"id\":\"1024\",\"type\":\"BoxZoomTool\"},{\"id\":\"1025\",\"type\":\"SaveTool\"},{\"id\":\"1026\",\"type\":\"ResetTool\"},{\"id\":\"1027\",\"type\":\"HelpTool\"}]},\"id\":\"1028\",\"type\":\"Toolbar\"},{\"attributes\":{},\"id\":\"1010\",\"type\":\"LinearScale\"},{\"attributes\":{},\"id\":\"1054\",\"type\":\"UnionRenderers\"},{\"attributes\":{},\"id\":\"1008\",\"type\":\"LinearScale\"},{\"attributes\":{\"items\":[{\"id\":\"1047\",\"type\":\"LegendItem\"}]},\"id\":\"1046\",\"type\":\"Legend\"},{\"attributes\":{\"ticker\":{\"id\":\"1013\",\"type\":\"BasicTicker\"}},\"id\":\"1016\",\"type\":\"Grid\"},{\"attributes\":{},\"id\":\"1023\",\"type\":\"WheelZoomTool\"},{\"attributes\":{},\"id\":\"1018\",\"type\":\"BasicTicker\"}],\"root_ids\":[\"1002\"]},\"title\":\"Bokeh Application\",\"version\":\"1.4.0\"}};\n",
       "  var render_items = [{\"docid\":\"84d6266b-2833-4ec3-b9b9-93ee7518d7fa\",\"roots\":{\"1002\":\"11faa221-7676-428d-90c0-ee36da7607a8\"}}];\n",
       "  root.Bokeh.embed.embed_items_notebook(docs_json, render_items);\n",
       "\n",
       "  }\n",
       "  if (root.Bokeh !== undefined) {\n",
       "    embed_document(root);\n",
       "  } else {\n",
       "    var attempts = 0;\n",
       "    var timer = setInterval(function(root) {\n",
       "      if (root.Bokeh !== undefined) {\n",
       "        clearInterval(timer);\n",
       "        embed_document(root);\n",
       "      } else {\n",
       "        attempts++;\n",
       "        if (attempts > 100) {\n",
       "          clearInterval(timer);\n",
       "          console.log(\"Bokeh: ERROR: Unable to run BokehJS code because BokehJS library is missing\");\n",
       "        }\n",
       "      }\n",
       "    }, 10, root)\n",
       "  }\n",
       "})(window);"
      ],
      "application/vnd.bokehjs_exec.v0+json": ""
     },
     "metadata": {
      "application/vnd.bokehjs_exec.v0+json": {
       "id": "1002"
      }
     },
     "output_type": "display_data"
    }
   ],
   "source": [
    "p = hl.plot.histogram(1-mt.sample_qc.call_rate,legend='Missing Rate')\n",
    "show(p)"
   ]
  },
  {
   "cell_type": "code",
   "execution_count": 13,
   "id": "73d1d832-e4bd-45a6-9910-7e759d0e9245",
   "metadata": {},
   "outputs": [
    {
     "name": "stderr",
     "output_type": "stream",
     "text": [
      "2023-02-24 10:20:39.556 Hail: INFO: Ordering unsorted dataset with network shuffle\n",
      "2023-02-24 10:20:40.936 Hail: INFO: Coerced sorted dataset          (0 + 1) / 1]\n",
      "2023-02-24 10:20:49.208 Hail: INFO: Ordering unsorted dataset with network shuffle\n",
      "[Stage 49:==============================================>         (19 + 4) / 23]\r"
     ]
    },
    {
     "data": {
      "text/html": [
       "<table><thead><tr><td style=\"white-space: nowrap; max-width: 500px; overflow: hidden; text-overflow: ellipsis; \" colspan=\"1\"><div style=\"text-align: left;\"></div></td><td style=\"white-space: nowrap; max-width: 500px; overflow: hidden; text-overflow: ellipsis; \" colspan=\"18\"><div style=\"text-align: left;\"></div></td></tr><tr><td style=\"white-space: nowrap; max-width: 500px; overflow: hidden; text-overflow: ellipsis; \" colspan=\"1\"><div style=\"text-align: left;\"></div></td><td style=\"white-space: nowrap; max-width: 500px; overflow: hidden; text-overflow: ellipsis; \" colspan=\"18\"><div style=\"text-align: left;border-bottom: solid 2px #000; padding-bottom: 5px\">sample_qc</div></td></tr><tr><td style=\"white-space: nowrap; max-width: 500px; overflow: hidden; text-overflow: ellipsis; \" colspan=\"1\"><div style=\"text-align: left;border-bottom: solid 2px #000; padding-bottom: 5px\">s</div></td><td style=\"white-space: nowrap; max-width: 500px; overflow: hidden; text-overflow: ellipsis; \" colspan=\"1\"><div style=\"text-align: left;border-bottom: solid 2px #000; padding-bottom: 5px\">call_rate</div></td><td style=\"white-space: nowrap; max-width: 500px; overflow: hidden; text-overflow: ellipsis; \" colspan=\"1\"><div style=\"text-align: left;border-bottom: solid 2px #000; padding-bottom: 5px\">n_called</div></td><td style=\"white-space: nowrap; max-width: 500px; overflow: hidden; text-overflow: ellipsis; \" colspan=\"1\"><div style=\"text-align: left;border-bottom: solid 2px #000; padding-bottom: 5px\">n_not_called</div></td><td style=\"white-space: nowrap; max-width: 500px; overflow: hidden; text-overflow: ellipsis; \" colspan=\"1\"><div style=\"text-align: left;border-bottom: solid 2px #000; padding-bottom: 5px\">n_filtered</div></td><td style=\"white-space: nowrap; max-width: 500px; overflow: hidden; text-overflow: ellipsis; \" colspan=\"1\"><div style=\"text-align: left;border-bottom: solid 2px #000; padding-bottom: 5px\">n_hom_ref</div></td><td style=\"white-space: nowrap; max-width: 500px; overflow: hidden; text-overflow: ellipsis; \" colspan=\"1\"><div style=\"text-align: left;border-bottom: solid 2px #000; padding-bottom: 5px\">n_het</div></td><td style=\"white-space: nowrap; max-width: 500px; overflow: hidden; text-overflow: ellipsis; \" colspan=\"1\"><div style=\"text-align: left;border-bottom: solid 2px #000; padding-bottom: 5px\">n_hom_var</div></td><td style=\"white-space: nowrap; max-width: 500px; overflow: hidden; text-overflow: ellipsis; \" colspan=\"1\"><div style=\"text-align: left;border-bottom: solid 2px #000; padding-bottom: 5px\">n_non_ref</div></td><td style=\"white-space: nowrap; max-width: 500px; overflow: hidden; text-overflow: ellipsis; \" colspan=\"1\"><div style=\"text-align: left;border-bottom: solid 2px #000; padding-bottom: 5px\">n_singleton</div></td><td style=\"white-space: nowrap; max-width: 500px; overflow: hidden; text-overflow: ellipsis; \" colspan=\"1\"><div style=\"text-align: left;border-bottom: solid 2px #000; padding-bottom: 5px\">n_snp</div></td><td style=\"white-space: nowrap; max-width: 500px; overflow: hidden; text-overflow: ellipsis; \" colspan=\"1\"><div style=\"text-align: left;border-bottom: solid 2px #000; padding-bottom: 5px\">n_insertion</div></td><td style=\"white-space: nowrap; max-width: 500px; overflow: hidden; text-overflow: ellipsis; \" colspan=\"1\"><div style=\"text-align: left;border-bottom: solid 2px #000; padding-bottom: 5px\">n_deletion</div></td><td style=\"white-space: nowrap; max-width: 500px; overflow: hidden; text-overflow: ellipsis; \" colspan=\"1\"><div style=\"text-align: left;border-bottom: solid 2px #000; padding-bottom: 5px\">n_transition</div></td><td style=\"white-space: nowrap; max-width: 500px; overflow: hidden; text-overflow: ellipsis; \" colspan=\"1\"><div style=\"text-align: left;border-bottom: solid 2px #000; padding-bottom: 5px\">n_transversion</div></td><td style=\"white-space: nowrap; max-width: 500px; overflow: hidden; text-overflow: ellipsis; \" colspan=\"1\"><div style=\"text-align: left;border-bottom: solid 2px #000; padding-bottom: 5px\">n_star</div></td><td style=\"white-space: nowrap; max-width: 500px; overflow: hidden; text-overflow: ellipsis; \" colspan=\"1\"><div style=\"text-align: left;border-bottom: solid 2px #000; padding-bottom: 5px\">r_ti_tv</div></td><td style=\"white-space: nowrap; max-width: 500px; overflow: hidden; text-overflow: ellipsis; \" colspan=\"1\"><div style=\"text-align: left;border-bottom: solid 2px #000; padding-bottom: 5px\">r_het_hom_var</div></td><td style=\"white-space: nowrap; max-width: 500px; overflow: hidden; text-overflow: ellipsis; \" colspan=\"1\"><div style=\"text-align: left;border-bottom: solid 2px #000; padding-bottom: 5px\">r_insertion_deletion</div></td></tr><tr><td style=\"white-space: nowrap; max-width: 500px; overflow: hidden; text-overflow: ellipsis; text-align: left;\">str</td><td style=\"white-space: nowrap; max-width: 500px; overflow: hidden; text-overflow: ellipsis; text-align: left;\">float64</td><td style=\"white-space: nowrap; max-width: 500px; overflow: hidden; text-overflow: ellipsis; text-align: left;\">int64</td><td style=\"white-space: nowrap; max-width: 500px; overflow: hidden; text-overflow: ellipsis; text-align: left;\">int64</td><td style=\"white-space: nowrap; max-width: 500px; overflow: hidden; text-overflow: ellipsis; text-align: left;\">int64</td><td style=\"white-space: nowrap; max-width: 500px; overflow: hidden; text-overflow: ellipsis; text-align: left;\">int64</td><td style=\"white-space: nowrap; max-width: 500px; overflow: hidden; text-overflow: ellipsis; text-align: left;\">int64</td><td style=\"white-space: nowrap; max-width: 500px; overflow: hidden; text-overflow: ellipsis; text-align: left;\">int64</td><td style=\"white-space: nowrap; max-width: 500px; overflow: hidden; text-overflow: ellipsis; text-align: left;\">int64</td><td style=\"white-space: nowrap; max-width: 500px; overflow: hidden; text-overflow: ellipsis; text-align: left;\">int64</td><td style=\"white-space: nowrap; max-width: 500px; overflow: hidden; text-overflow: ellipsis; text-align: left;\">int64</td><td style=\"white-space: nowrap; max-width: 500px; overflow: hidden; text-overflow: ellipsis; text-align: left;\">int64</td><td style=\"white-space: nowrap; max-width: 500px; overflow: hidden; text-overflow: ellipsis; text-align: left;\">int64</td><td style=\"white-space: nowrap; max-width: 500px; overflow: hidden; text-overflow: ellipsis; text-align: left;\">int64</td><td style=\"white-space: nowrap; max-width: 500px; overflow: hidden; text-overflow: ellipsis; text-align: left;\">int64</td><td style=\"white-space: nowrap; max-width: 500px; overflow: hidden; text-overflow: ellipsis; text-align: left;\">int64</td><td style=\"white-space: nowrap; max-width: 500px; overflow: hidden; text-overflow: ellipsis; text-align: left;\">float64</td><td style=\"white-space: nowrap; max-width: 500px; overflow: hidden; text-overflow: ellipsis; text-align: left;\">float64</td><td style=\"white-space: nowrap; max-width: 500px; overflow: hidden; text-overflow: ellipsis; text-align: left;\">float64</td></tr>\n",
       "</thead><tbody><tr><td style=\"white-space: nowrap; max-width: 500px; overflow: hidden; text-overflow: ellipsis; \">&quot;NIH19KT0022&quot;</td><td style=\"white-space: nowrap; max-width: 500px; overflow: hidden; text-overflow: ellipsis; \">9.91e-01</td><td style=\"white-space: nowrap; max-width: 500px; overflow: hidden; text-overflow: ellipsis; \">792435</td><td style=\"white-space: nowrap; max-width: 500px; overflow: hidden; text-overflow: ellipsis; \">6882</td><td style=\"white-space: nowrap; max-width: 500px; overflow: hidden; text-overflow: ellipsis; \">0</td><td style=\"white-space: nowrap; max-width: 500px; overflow: hidden; text-overflow: ellipsis; \">646525</td><td style=\"white-space: nowrap; max-width: 500px; overflow: hidden; text-overflow: ellipsis; \">122699</td><td style=\"white-space: nowrap; max-width: 500px; overflow: hidden; text-overflow: ellipsis; \">23211</td><td style=\"white-space: nowrap; max-width: 500px; overflow: hidden; text-overflow: ellipsis; \">145910</td><td style=\"white-space: nowrap; max-width: 500px; overflow: hidden; text-overflow: ellipsis; \">12</td><td style=\"white-space: nowrap; max-width: 500px; overflow: hidden; text-overflow: ellipsis; \">0</td><td style=\"white-space: nowrap; max-width: 500px; overflow: hidden; text-overflow: ellipsis; \">0</td><td style=\"white-space: nowrap; max-width: 500px; overflow: hidden; text-overflow: ellipsis; \">0</td><td style=\"white-space: nowrap; max-width: 500px; overflow: hidden; text-overflow: ellipsis; \">0</td><td style=\"white-space: nowrap; max-width: 500px; overflow: hidden; text-overflow: ellipsis; \">0</td><td style=\"white-space: nowrap; max-width: 500px; overflow: hidden; text-overflow: ellipsis; \">0</td><td style=\"white-space: nowrap; max-width: 500px; overflow: hidden; text-overflow: ellipsis; \">NA</td><td style=\"white-space: nowrap; max-width: 500px; overflow: hidden; text-overflow: ellipsis; \">5.29e+00</td><td style=\"white-space: nowrap; max-width: 500px; overflow: hidden; text-overflow: ellipsis; \">NA</td></tr>\n",
       "<tr><td style=\"white-space: nowrap; max-width: 500px; overflow: hidden; text-overflow: ellipsis; \">&quot;NIH19KT0023&quot;</td><td style=\"white-space: nowrap; max-width: 500px; overflow: hidden; text-overflow: ellipsis; \">9.88e-01</td><td style=\"white-space: nowrap; max-width: 500px; overflow: hidden; text-overflow: ellipsis; \">789776</td><td style=\"white-space: nowrap; max-width: 500px; overflow: hidden; text-overflow: ellipsis; \">9541</td><td style=\"white-space: nowrap; max-width: 500px; overflow: hidden; text-overflow: ellipsis; \">0</td><td style=\"white-space: nowrap; max-width: 500px; overflow: hidden; text-overflow: ellipsis; \">643735</td><td style=\"white-space: nowrap; max-width: 500px; overflow: hidden; text-overflow: ellipsis; \">122910</td><td style=\"white-space: nowrap; max-width: 500px; overflow: hidden; text-overflow: ellipsis; \">23131</td><td style=\"white-space: nowrap; max-width: 500px; overflow: hidden; text-overflow: ellipsis; \">146041</td><td style=\"white-space: nowrap; max-width: 500px; overflow: hidden; text-overflow: ellipsis; \">11</td><td style=\"white-space: nowrap; max-width: 500px; overflow: hidden; text-overflow: ellipsis; \">0</td><td style=\"white-space: nowrap; max-width: 500px; overflow: hidden; text-overflow: ellipsis; \">0</td><td style=\"white-space: nowrap; max-width: 500px; overflow: hidden; text-overflow: ellipsis; \">0</td><td style=\"white-space: nowrap; max-width: 500px; overflow: hidden; text-overflow: ellipsis; \">0</td><td style=\"white-space: nowrap; max-width: 500px; overflow: hidden; text-overflow: ellipsis; \">0</td><td style=\"white-space: nowrap; max-width: 500px; overflow: hidden; text-overflow: ellipsis; \">0</td><td style=\"white-space: nowrap; max-width: 500px; overflow: hidden; text-overflow: ellipsis; \">NA</td><td style=\"white-space: nowrap; max-width: 500px; overflow: hidden; text-overflow: ellipsis; \">5.31e+00</td><td style=\"white-space: nowrap; max-width: 500px; overflow: hidden; text-overflow: ellipsis; \">NA</td></tr>\n",
       "<tr><td style=\"white-space: nowrap; max-width: 500px; overflow: hidden; text-overflow: ellipsis; \">&quot;NIH19KT0024&quot;</td><td style=\"white-space: nowrap; max-width: 500px; overflow: hidden; text-overflow: ellipsis; \">9.92e-01</td><td style=\"white-space: nowrap; max-width: 500px; overflow: hidden; text-overflow: ellipsis; \">792685</td><td style=\"white-space: nowrap; max-width: 500px; overflow: hidden; text-overflow: ellipsis; \">6632</td><td style=\"white-space: nowrap; max-width: 500px; overflow: hidden; text-overflow: ellipsis; \">0</td><td style=\"white-space: nowrap; max-width: 500px; overflow: hidden; text-overflow: ellipsis; \">651633</td><td style=\"white-space: nowrap; max-width: 500px; overflow: hidden; text-overflow: ellipsis; \">114186</td><td style=\"white-space: nowrap; max-width: 500px; overflow: hidden; text-overflow: ellipsis; \">26866</td><td style=\"white-space: nowrap; max-width: 500px; overflow: hidden; text-overflow: ellipsis; \">141052</td><td style=\"white-space: nowrap; max-width: 500px; overflow: hidden; text-overflow: ellipsis; \">9</td><td style=\"white-space: nowrap; max-width: 500px; overflow: hidden; text-overflow: ellipsis; \">0</td><td style=\"white-space: nowrap; max-width: 500px; overflow: hidden; text-overflow: ellipsis; \">0</td><td style=\"white-space: nowrap; max-width: 500px; overflow: hidden; text-overflow: ellipsis; \">0</td><td style=\"white-space: nowrap; max-width: 500px; overflow: hidden; text-overflow: ellipsis; \">0</td><td style=\"white-space: nowrap; max-width: 500px; overflow: hidden; text-overflow: ellipsis; \">0</td><td style=\"white-space: nowrap; max-width: 500px; overflow: hidden; text-overflow: ellipsis; \">0</td><td style=\"white-space: nowrap; max-width: 500px; overflow: hidden; text-overflow: ellipsis; \">NA</td><td style=\"white-space: nowrap; max-width: 500px; overflow: hidden; text-overflow: ellipsis; \">4.25e+00</td><td style=\"white-space: nowrap; max-width: 500px; overflow: hidden; text-overflow: ellipsis; \">NA</td></tr>\n",
       "<tr><td style=\"white-space: nowrap; max-width: 500px; overflow: hidden; text-overflow: ellipsis; \">&quot;NIH19KT0025&quot;</td><td style=\"white-space: nowrap; max-width: 500px; overflow: hidden; text-overflow: ellipsis; \">9.93e-01</td><td style=\"white-space: nowrap; max-width: 500px; overflow: hidden; text-overflow: ellipsis; \">794088</td><td style=\"white-space: nowrap; max-width: 500px; overflow: hidden; text-overflow: ellipsis; \">5229</td><td style=\"white-space: nowrap; max-width: 500px; overflow: hidden; text-overflow: ellipsis; \">0</td><td style=\"white-space: nowrap; max-width: 500px; overflow: hidden; text-overflow: ellipsis; \">652489</td><td style=\"white-space: nowrap; max-width: 500px; overflow: hidden; text-overflow: ellipsis; \">114730</td><td style=\"white-space: nowrap; max-width: 500px; overflow: hidden; text-overflow: ellipsis; \">26869</td><td style=\"white-space: nowrap; max-width: 500px; overflow: hidden; text-overflow: ellipsis; \">141599</td><td style=\"white-space: nowrap; max-width: 500px; overflow: hidden; text-overflow: ellipsis; \">21</td><td style=\"white-space: nowrap; max-width: 500px; overflow: hidden; text-overflow: ellipsis; \">0</td><td style=\"white-space: nowrap; max-width: 500px; overflow: hidden; text-overflow: ellipsis; \">0</td><td style=\"white-space: nowrap; max-width: 500px; overflow: hidden; text-overflow: ellipsis; \">0</td><td style=\"white-space: nowrap; max-width: 500px; overflow: hidden; text-overflow: ellipsis; \">0</td><td style=\"white-space: nowrap; max-width: 500px; overflow: hidden; text-overflow: ellipsis; \">0</td><td style=\"white-space: nowrap; max-width: 500px; overflow: hidden; text-overflow: ellipsis; \">0</td><td style=\"white-space: nowrap; max-width: 500px; overflow: hidden; text-overflow: ellipsis; \">NA</td><td style=\"white-space: nowrap; max-width: 500px; overflow: hidden; text-overflow: ellipsis; \">4.27e+00</td><td style=\"white-space: nowrap; max-width: 500px; overflow: hidden; text-overflow: ellipsis; \">NA</td></tr>\n",
       "<tr><td style=\"white-space: nowrap; max-width: 500px; overflow: hidden; text-overflow: ellipsis; \">&quot;NIH19KT0026&quot;</td><td style=\"white-space: nowrap; max-width: 500px; overflow: hidden; text-overflow: ellipsis; \">9.92e-01</td><td style=\"white-space: nowrap; max-width: 500px; overflow: hidden; text-overflow: ellipsis; \">792703</td><td style=\"white-space: nowrap; max-width: 500px; overflow: hidden; text-overflow: ellipsis; \">6614</td><td style=\"white-space: nowrap; max-width: 500px; overflow: hidden; text-overflow: ellipsis; \">0</td><td style=\"white-space: nowrap; max-width: 500px; overflow: hidden; text-overflow: ellipsis; \">647107</td><td style=\"white-space: nowrap; max-width: 500px; overflow: hidden; text-overflow: ellipsis; \">121904</td><td style=\"white-space: nowrap; max-width: 500px; overflow: hidden; text-overflow: ellipsis; \">23692</td><td style=\"white-space: nowrap; max-width: 500px; overflow: hidden; text-overflow: ellipsis; \">145596</td><td style=\"white-space: nowrap; max-width: 500px; overflow: hidden; text-overflow: ellipsis; \">5</td><td style=\"white-space: nowrap; max-width: 500px; overflow: hidden; text-overflow: ellipsis; \">0</td><td style=\"white-space: nowrap; max-width: 500px; overflow: hidden; text-overflow: ellipsis; \">0</td><td style=\"white-space: nowrap; max-width: 500px; overflow: hidden; text-overflow: ellipsis; \">0</td><td style=\"white-space: nowrap; max-width: 500px; overflow: hidden; text-overflow: ellipsis; \">0</td><td style=\"white-space: nowrap; max-width: 500px; overflow: hidden; text-overflow: ellipsis; \">0</td><td style=\"white-space: nowrap; max-width: 500px; overflow: hidden; text-overflow: ellipsis; \">0</td><td style=\"white-space: nowrap; max-width: 500px; overflow: hidden; text-overflow: ellipsis; \">NA</td><td style=\"white-space: nowrap; max-width: 500px; overflow: hidden; text-overflow: ellipsis; \">5.15e+00</td><td style=\"white-space: nowrap; max-width: 500px; overflow: hidden; text-overflow: ellipsis; \">NA</td></tr>\n",
       "</tbody></table><p style=\"background: #fdd; padding: 0.4em;\">showing top 5 rows</p>\n"
      ],
      "text/plain": [
       "+---------------+---------------------+--------------------+\n",
       "| s             | sample_qc.call_rate | sample_qc.n_called |\n",
       "+---------------+---------------------+--------------------+\n",
       "| str           |             float64 |              int64 |\n",
       "+---------------+---------------------+--------------------+\n",
       "| \"NIH19KT0022\" |            9.91e-01 |             792435 |\n",
       "| \"NIH19KT0023\" |            9.88e-01 |             789776 |\n",
       "| \"NIH19KT0024\" |            9.92e-01 |             792685 |\n",
       "| \"NIH19KT0025\" |            9.93e-01 |             794088 |\n",
       "| \"NIH19KT0026\" |            9.92e-01 |             792703 |\n",
       "+---------------+---------------------+--------------------+\n",
       "\n",
       "+------------------------+----------------------+---------------------+\n",
       "| sample_qc.n_not_called | sample_qc.n_filtered | sample_qc.n_hom_ref |\n",
       "+------------------------+----------------------+---------------------+\n",
       "|                  int64 |                int64 |               int64 |\n",
       "+------------------------+----------------------+---------------------+\n",
       "|                   6882 |                    0 |              646525 |\n",
       "|                   9541 |                    0 |              643735 |\n",
       "|                   6632 |                    0 |              651633 |\n",
       "|                   5229 |                    0 |              652489 |\n",
       "|                   6614 |                    0 |              647107 |\n",
       "+------------------------+----------------------+---------------------+\n",
       "\n",
       "+-----------------+---------------------+---------------------+\n",
       "| sample_qc.n_het | sample_qc.n_hom_var | sample_qc.n_non_ref |\n",
       "+-----------------+---------------------+---------------------+\n",
       "|           int64 |               int64 |               int64 |\n",
       "+-----------------+---------------------+---------------------+\n",
       "|          122699 |               23211 |              145910 |\n",
       "|          122910 |               23131 |              146041 |\n",
       "|          114186 |               26866 |              141052 |\n",
       "|          114730 |               26869 |              141599 |\n",
       "|          121904 |               23692 |              145596 |\n",
       "+-----------------+---------------------+---------------------+\n",
       "\n",
       "+-----------------------+-----------------+-----------------------+\n",
       "| sample_qc.n_singleton | sample_qc.n_snp | sample_qc.n_insertion |\n",
       "+-----------------------+-----------------+-----------------------+\n",
       "|                 int64 |           int64 |                 int64 |\n",
       "+-----------------------+-----------------+-----------------------+\n",
       "|                    12 |               0 |                     0 |\n",
       "|                    11 |               0 |                     0 |\n",
       "|                     9 |               0 |                     0 |\n",
       "|                    21 |               0 |                     0 |\n",
       "|                     5 |               0 |                     0 |\n",
       "+-----------------------+-----------------+-----------------------+\n",
       "\n",
       "+----------------------+------------------------+--------------------------+\n",
       "| sample_qc.n_deletion | sample_qc.n_transition | sample_qc.n_transversion |\n",
       "+----------------------+------------------------+--------------------------+\n",
       "|                int64 |                  int64 |                    int64 |\n",
       "+----------------------+------------------------+--------------------------+\n",
       "|                    0 |                      0 |                        0 |\n",
       "|                    0 |                      0 |                        0 |\n",
       "|                    0 |                      0 |                        0 |\n",
       "|                    0 |                      0 |                        0 |\n",
       "|                    0 |                      0 |                        0 |\n",
       "+----------------------+------------------------+--------------------------+\n",
       "\n",
       "+------------------+-------------------+-------------------------+\n",
       "| sample_qc.n_star | sample_qc.r_ti_tv | sample_qc.r_het_hom_var |\n",
       "+------------------+-------------------+-------------------------+\n",
       "|            int64 |           float64 |                 float64 |\n",
       "+------------------+-------------------+-------------------------+\n",
       "|                0 |                NA |                5.29e+00 |\n",
       "|                0 |                NA |                5.31e+00 |\n",
       "|                0 |                NA |                4.25e+00 |\n",
       "|                0 |                NA |                4.27e+00 |\n",
       "|                0 |                NA |                5.15e+00 |\n",
       "+------------------+-------------------+-------------------------+\n",
       "\n",
       "+--------------------------------+\n",
       "| sample_qc.r_insertion_deletion |\n",
       "+--------------------------------+\n",
       "|                        float64 |\n",
       "+--------------------------------+\n",
       "|                             NA |\n",
       "|                             NA |\n",
       "|                             NA |\n",
       "|                             NA |\n",
       "|                             NA |\n",
       "+--------------------------------+\n",
       "showing top 5 rows"
      ]
     },
     "metadata": {},
     "output_type": "display_data"
    }
   ],
   "source": [
    "#mt.col.sample_qc.n_het.show(5)\n",
    "mt.col.sample_qc.show(5)"
   ]
  },
  {
   "cell_type": "code",
   "execution_count": 14,
   "id": "daff6a73-e8da-41d4-a2f8-47acfba47d20",
   "metadata": {},
   "outputs": [],
   "source": [
    "#HET=((het$N.NM. - het$O.HOM.)/het$N.NM.)*100\n",
    "#O(HOM)\tObserved number of homozygotes\n",
    "#E(HOM)\tExpected number of homozygotes\n",
    "#N(NM)\tNumber of (nonmissing, non-monomorphic) autosomal genotype observations\n",
    "#n_NM = mt.col.sample_qc.n_called - mt.col.sample_qc.n_singleton\n",
    "#mt1 = mt.col.sample_qc.annotate(het = ((mt.col.sample_qc.n_called - mt.col.sample_qc.n_singleton) - mt.col.sample_qc.n_hom_ref)/(mt.col.sample_qc.n_called - mt.col.sample_qc.n_singleton)*100)\n",
    "mt1 = mt.annotate_cols(het = ((mt.col.sample_qc.n_called - mt.col.sample_qc.n_singleton) - mt.col.sample_qc.n_hom_ref)/(mt.col.sample_qc.n_called - mt.col.sample_qc.n_singleton)*100)"
   ]
  },
  {
   "cell_type": "code",
   "execution_count": 15,
   "id": "1d5b1058-0628-4aaf-9ba6-e789eceda2c7",
   "metadata": {},
   "outputs": [
    {
     "name": "stderr",
     "output_type": "stream",
     "text": [
      "2023-02-24 10:21:48.761 Hail: INFO: Ordering unsorted dataset with network shuffle\n",
      "2023-02-24 10:21:50.092 Hail: INFO: Coerced sorted dataset          (0 + 1) / 1]\n",
      "2023-02-24 10:21:59.570 Hail: INFO: Ordering unsorted dataset with network shuffle\n",
      "[Stage 57:=====================================================>  (22 + 1) / 23]\r"
     ]
    },
    {
     "data": {
      "text/html": [
       "<table><thead><tr><td style=\"white-space: nowrap; max-width: 500px; overflow: hidden; text-overflow: ellipsis; \" colspan=\"1\"><div style=\"text-align: left;\"></div></td><td style=\"white-space: nowrap; max-width: 500px; overflow: hidden; text-overflow: ellipsis; \" colspan=\"1\"><div style=\"text-align: left;\"></div></td><td style=\"white-space: nowrap; max-width: 500px; overflow: hidden; text-overflow: ellipsis; \" colspan=\"1\"><div style=\"text-align: left;\"></div></td><td style=\"white-space: nowrap; max-width: 500px; overflow: hidden; text-overflow: ellipsis; \" colspan=\"1\"><div style=\"text-align: left;\"></div></td><td style=\"white-space: nowrap; max-width: 500px; overflow: hidden; text-overflow: ellipsis; \" colspan=\"1\"><div style=\"text-align: left;\"></div></td><td style=\"white-space: nowrap; max-width: 500px; overflow: hidden; text-overflow: ellipsis; \" colspan=\"1\"><div style=\"text-align: left;\"></div></td></tr><tr><td style=\"white-space: nowrap; max-width: 500px; overflow: hidden; text-overflow: ellipsis; \" colspan=\"1\"><div style=\"text-align: left;\"></div></td><td style=\"white-space: nowrap; max-width: 500px; overflow: hidden; text-overflow: ellipsis; \" colspan=\"1\"><div style=\"text-align: left;\"></div></td><td style=\"white-space: nowrap; max-width: 500px; overflow: hidden; text-overflow: ellipsis; \" colspan=\"1\"><div style=\"text-align: left;border-bottom: solid 2px #000; padding-bottom: 5px\">&#x27;NIH19KT0022&#x27;</div></td><td style=\"white-space: nowrap; max-width: 500px; overflow: hidden; text-overflow: ellipsis; \" colspan=\"1\"><div style=\"text-align: left;border-bottom: solid 2px #000; padding-bottom: 5px\">&#x27;NIH19KT0023&#x27;</div></td><td style=\"white-space: nowrap; max-width: 500px; overflow: hidden; text-overflow: ellipsis; \" colspan=\"1\"><div style=\"text-align: left;border-bottom: solid 2px #000; padding-bottom: 5px\">&#x27;NIH19KT0024&#x27;</div></td><td style=\"white-space: nowrap; max-width: 500px; overflow: hidden; text-overflow: ellipsis; \" colspan=\"1\"><div style=\"text-align: left;border-bottom: solid 2px #000; padding-bottom: 5px\">&#x27;NIH19KT0025&#x27;</div></td></tr><tr><td style=\"white-space: nowrap; max-width: 500px; overflow: hidden; text-overflow: ellipsis; \" colspan=\"1\"><div style=\"text-align: left;border-bottom: solid 2px #000; padding-bottom: 5px\">locus</div></td><td style=\"white-space: nowrap; max-width: 500px; overflow: hidden; text-overflow: ellipsis; \" colspan=\"1\"><div style=\"text-align: left;border-bottom: solid 2px #000; padding-bottom: 5px\">alleles</div></td><td style=\"white-space: nowrap; max-width: 500px; overflow: hidden; text-overflow: ellipsis; \" colspan=\"1\"><div style=\"text-align: left;border-bottom: solid 2px #000; padding-bottom: 5px\">GT</div></td><td style=\"white-space: nowrap; max-width: 500px; overflow: hidden; text-overflow: ellipsis; \" colspan=\"1\"><div style=\"text-align: left;border-bottom: solid 2px #000; padding-bottom: 5px\">GT</div></td><td style=\"white-space: nowrap; max-width: 500px; overflow: hidden; text-overflow: ellipsis; \" colspan=\"1\"><div style=\"text-align: left;border-bottom: solid 2px #000; padding-bottom: 5px\">GT</div></td><td style=\"white-space: nowrap; max-width: 500px; overflow: hidden; text-overflow: ellipsis; \" colspan=\"1\"><div style=\"text-align: left;border-bottom: solid 2px #000; padding-bottom: 5px\">GT</div></td></tr><tr><td style=\"white-space: nowrap; max-width: 500px; overflow: hidden; text-overflow: ellipsis; text-align: left;\">locus&lt;GRCh37&gt;</td><td style=\"white-space: nowrap; max-width: 500px; overflow: hidden; text-overflow: ellipsis; text-align: left;\">array&lt;str&gt;</td><td style=\"white-space: nowrap; max-width: 500px; overflow: hidden; text-overflow: ellipsis; text-align: left;\">call</td><td style=\"white-space: nowrap; max-width: 500px; overflow: hidden; text-overflow: ellipsis; text-align: left;\">call</td><td style=\"white-space: nowrap; max-width: 500px; overflow: hidden; text-overflow: ellipsis; text-align: left;\">call</td><td style=\"white-space: nowrap; max-width: 500px; overflow: hidden; text-overflow: ellipsis; text-align: left;\">call</td></tr>\n",
       "</thead><tbody><tr><td style=\"white-space: nowrap; max-width: 500px; overflow: hidden; text-overflow: ellipsis; \">1:69610</td><td style=\"white-space: nowrap; max-width: 500px; overflow: hidden; text-overflow: ellipsis; \">[&quot;B&quot;,&quot;A&quot;]</td><td style=\"white-space: nowrap; max-width: 500px; overflow: hidden; text-overflow: ellipsis; \">0/0</td><td style=\"white-space: nowrap; max-width: 500px; overflow: hidden; text-overflow: ellipsis; \">0/0</td><td style=\"white-space: nowrap; max-width: 500px; overflow: hidden; text-overflow: ellipsis; \">0/0</td><td style=\"white-space: nowrap; max-width: 500px; overflow: hidden; text-overflow: ellipsis; \">0/0</td></tr>\n",
       "<tr><td style=\"white-space: nowrap; max-width: 500px; overflow: hidden; text-overflow: ellipsis; \">1:601141</td><td style=\"white-space: nowrap; max-width: 500px; overflow: hidden; text-overflow: ellipsis; \">[&quot;B&quot;,&quot;A&quot;]</td><td style=\"white-space: nowrap; max-width: 500px; overflow: hidden; text-overflow: ellipsis; \">0/0</td><td style=\"white-space: nowrap; max-width: 500px; overflow: hidden; text-overflow: ellipsis; \">0/0</td><td style=\"white-space: nowrap; max-width: 500px; overflow: hidden; text-overflow: ellipsis; \">0/1</td><td style=\"white-space: nowrap; max-width: 500px; overflow: hidden; text-overflow: ellipsis; \">0/0</td></tr>\n",
       "<tr><td style=\"white-space: nowrap; max-width: 500px; overflow: hidden; text-overflow: ellipsis; \">1:720240</td><td style=\"white-space: nowrap; max-width: 500px; overflow: hidden; text-overflow: ellipsis; \">[&quot;B&quot;,&quot;A&quot;]</td><td style=\"white-space: nowrap; max-width: 500px; overflow: hidden; text-overflow: ellipsis; \">0/1</td><td style=\"white-space: nowrap; max-width: 500px; overflow: hidden; text-overflow: ellipsis; \">0/0</td><td style=\"white-space: nowrap; max-width: 500px; overflow: hidden; text-overflow: ellipsis; \">0/1</td><td style=\"white-space: nowrap; max-width: 500px; overflow: hidden; text-overflow: ellipsis; \">0/0</td></tr>\n",
       "<tr><td style=\"white-space: nowrap; max-width: 500px; overflow: hidden; text-overflow: ellipsis; \">1:721576</td><td style=\"white-space: nowrap; max-width: 500px; overflow: hidden; text-overflow: ellipsis; \">[&quot;B&quot;,&quot;0&quot;]</td><td style=\"white-space: nowrap; max-width: 500px; overflow: hidden; text-overflow: ellipsis; \">0/0</td><td style=\"white-space: nowrap; max-width: 500px; overflow: hidden; text-overflow: ellipsis; \">0/0</td><td style=\"white-space: nowrap; max-width: 500px; overflow: hidden; text-overflow: ellipsis; \">0/0</td><td style=\"white-space: nowrap; max-width: 500px; overflow: hidden; text-overflow: ellipsis; \">0/0</td></tr>\n",
       "<tr><td style=\"white-space: nowrap; max-width: 500px; overflow: hidden; text-overflow: ellipsis; \">1:729957</td><td style=\"white-space: nowrap; max-width: 500px; overflow: hidden; text-overflow: ellipsis; \">[&quot;A&quot;,&quot;B&quot;]</td><td style=\"white-space: nowrap; max-width: 500px; overflow: hidden; text-overflow: ellipsis; \">0/0</td><td style=\"white-space: nowrap; max-width: 500px; overflow: hidden; text-overflow: ellipsis; \">0/0</td><td style=\"white-space: nowrap; max-width: 500px; overflow: hidden; text-overflow: ellipsis; \">0/0</td><td style=\"white-space: nowrap; max-width: 500px; overflow: hidden; text-overflow: ellipsis; \">0/1</td></tr>\n",
       "</tbody></table><p style=\"background: #fdd; padding: 0.4em;\">showing top 5 rows</p>\n",
       "<p style=\"background: #fdd; padding: 0.4em;\">showing the first 4 of 1864 columns</p>\n"
      ],
      "text/plain": [
       "+---------------+------------+------------------+------------------+\n",
       "| locus         | alleles    | 'NIH19KT0022'.GT | 'NIH19KT0023'.GT |\n",
       "+---------------+------------+------------------+------------------+\n",
       "| locus<GRCh37> | array<str> | call             | call             |\n",
       "+---------------+------------+------------------+------------------+\n",
       "| 1:69610       | [\"B\",\"A\"]  | 0/0              | 0/0              |\n",
       "| 1:601141      | [\"B\",\"A\"]  | 0/0              | 0/0              |\n",
       "| 1:720240      | [\"B\",\"A\"]  | 0/1              | 0/0              |\n",
       "| 1:721576      | [\"B\",\"0\"]  | 0/0              | 0/0              |\n",
       "| 1:729957      | [\"A\",\"B\"]  | 0/0              | 0/0              |\n",
       "+---------------+------------+------------------+------------------+\n",
       "\n",
       "+------------------+------------------+\n",
       "| 'NIH19KT0024'.GT | 'NIH19KT0025'.GT |\n",
       "+------------------+------------------+\n",
       "| call             | call             |\n",
       "+------------------+------------------+\n",
       "| 0/0              | 0/0              |\n",
       "| 0/1              | 0/0              |\n",
       "| 0/1              | 0/0              |\n",
       "| 0/0              | 0/0              |\n",
       "| 0/0              | 0/1              |\n",
       "+------------------+------------------+\n",
       "showing top 5 rows\n",
       "showing the first 4 of 1864 columns"
      ]
     },
     "metadata": {},
     "output_type": "display_data"
    },
    {
     "name": "stderr",
     "output_type": "stream",
     "text": [
      "2023-02-24 10:22:11.184 Hail: INFO: Ordering unsorted dataset with network shuffle\n",
      "2023-02-24 10:22:12.539 Hail: INFO: Coerced sorted dataset          (0 + 1) / 1]\n",
      "2023-02-24 10:22:21.123 Hail: INFO: Ordering unsorted dataset with network shuffle\n",
      "[Stage 68:================================================>       (20 + 3) / 23]\r"
     ]
    },
    {
     "data": {
      "text/html": [
       "<table><thead><tr><td style=\"white-space: nowrap; max-width: 500px; overflow: hidden; text-overflow: ellipsis; \" colspan=\"1\"><div style=\"text-align: left;\"></div></td><td style=\"white-space: nowrap; max-width: 500px; overflow: hidden; text-overflow: ellipsis; \" colspan=\"1\"><div style=\"text-align: left;\"></div></td><td style=\"white-space: nowrap; max-width: 500px; overflow: hidden; text-overflow: ellipsis; \" colspan=\"1\"><div style=\"text-align: left;\"></div></td><td style=\"white-space: nowrap; max-width: 500px; overflow: hidden; text-overflow: ellipsis; \" colspan=\"1\"><div style=\"text-align: left;\"></div></td><td style=\"white-space: nowrap; max-width: 500px; overflow: hidden; text-overflow: ellipsis; \" colspan=\"1\"><div style=\"text-align: left;\"></div></td><td style=\"white-space: nowrap; max-width: 500px; overflow: hidden; text-overflow: ellipsis; \" colspan=\"1\"><div style=\"text-align: left;\"></div></td><td style=\"white-space: nowrap; max-width: 500px; overflow: hidden; text-overflow: ellipsis; \" colspan=\"18\"><div style=\"text-align: left;\"></div></td><td style=\"white-space: nowrap; max-width: 500px; overflow: hidden; text-overflow: ellipsis; \" colspan=\"1\"><div style=\"text-align: left;\"></div></td></tr><tr><td style=\"white-space: nowrap; max-width: 500px; overflow: hidden; text-overflow: ellipsis; \" colspan=\"1\"><div style=\"text-align: left;\"></div></td><td style=\"white-space: nowrap; max-width: 500px; overflow: hidden; text-overflow: ellipsis; \" colspan=\"1\"><div style=\"text-align: left;\"></div></td><td style=\"white-space: nowrap; max-width: 500px; overflow: hidden; text-overflow: ellipsis; \" colspan=\"1\"><div style=\"text-align: left;\"></div></td><td style=\"white-space: nowrap; max-width: 500px; overflow: hidden; text-overflow: ellipsis; \" colspan=\"1\"><div style=\"text-align: left;\"></div></td><td style=\"white-space: nowrap; max-width: 500px; overflow: hidden; text-overflow: ellipsis; \" colspan=\"1\"><div style=\"text-align: left;\"></div></td><td style=\"white-space: nowrap; max-width: 500px; overflow: hidden; text-overflow: ellipsis; \" colspan=\"1\"><div style=\"text-align: left;\"></div></td><td style=\"white-space: nowrap; max-width: 500px; overflow: hidden; text-overflow: ellipsis; \" colspan=\"18\"><div style=\"text-align: left;border-bottom: solid 2px #000; padding-bottom: 5px\">sample_qc</div></td><td style=\"white-space: nowrap; max-width: 500px; overflow: hidden; text-overflow: ellipsis; \" colspan=\"1\"><div style=\"text-align: left;\"></div></td></tr><tr><td style=\"white-space: nowrap; max-width: 500px; overflow: hidden; text-overflow: ellipsis; \" colspan=\"1\"><div style=\"text-align: left;border-bottom: solid 2px #000; padding-bottom: 5px\">s</div></td><td style=\"white-space: nowrap; max-width: 500px; overflow: hidden; text-overflow: ellipsis; \" colspan=\"1\"><div style=\"text-align: left;border-bottom: solid 2px #000; padding-bottom: 5px\">fam_id</div></td><td style=\"white-space: nowrap; max-width: 500px; overflow: hidden; text-overflow: ellipsis; \" colspan=\"1\"><div style=\"text-align: left;border-bottom: solid 2px #000; padding-bottom: 5px\">pat_id</div></td><td style=\"white-space: nowrap; max-width: 500px; overflow: hidden; text-overflow: ellipsis; \" colspan=\"1\"><div style=\"text-align: left;border-bottom: solid 2px #000; padding-bottom: 5px\">mat_id</div></td><td style=\"white-space: nowrap; max-width: 500px; overflow: hidden; text-overflow: ellipsis; \" colspan=\"1\"><div style=\"text-align: left;border-bottom: solid 2px #000; padding-bottom: 5px\">is_female</div></td><td style=\"white-space: nowrap; max-width: 500px; overflow: hidden; text-overflow: ellipsis; \" colspan=\"1\"><div style=\"text-align: left;border-bottom: solid 2px #000; padding-bottom: 5px\">is_case</div></td><td style=\"white-space: nowrap; max-width: 500px; overflow: hidden; text-overflow: ellipsis; \" colspan=\"1\"><div style=\"text-align: left;border-bottom: solid 2px #000; padding-bottom: 5px\">call_rate</div></td><td style=\"white-space: nowrap; max-width: 500px; overflow: hidden; text-overflow: ellipsis; \" colspan=\"1\"><div style=\"text-align: left;border-bottom: solid 2px #000; padding-bottom: 5px\">n_called</div></td><td style=\"white-space: nowrap; max-width: 500px; overflow: hidden; text-overflow: ellipsis; \" colspan=\"1\"><div style=\"text-align: left;border-bottom: solid 2px #000; padding-bottom: 5px\">n_not_called</div></td><td style=\"white-space: nowrap; max-width: 500px; overflow: hidden; text-overflow: ellipsis; \" colspan=\"1\"><div style=\"text-align: left;border-bottom: solid 2px #000; padding-bottom: 5px\">n_filtered</div></td><td style=\"white-space: nowrap; max-width: 500px; overflow: hidden; text-overflow: ellipsis; \" colspan=\"1\"><div style=\"text-align: left;border-bottom: solid 2px #000; padding-bottom: 5px\">n_hom_ref</div></td><td style=\"white-space: nowrap; max-width: 500px; overflow: hidden; text-overflow: ellipsis; \" colspan=\"1\"><div style=\"text-align: left;border-bottom: solid 2px #000; padding-bottom: 5px\">n_het</div></td><td style=\"white-space: nowrap; max-width: 500px; overflow: hidden; text-overflow: ellipsis; \" colspan=\"1\"><div style=\"text-align: left;border-bottom: solid 2px #000; padding-bottom: 5px\">n_hom_var</div></td><td style=\"white-space: nowrap; max-width: 500px; overflow: hidden; text-overflow: ellipsis; \" colspan=\"1\"><div style=\"text-align: left;border-bottom: solid 2px #000; padding-bottom: 5px\">n_non_ref</div></td><td style=\"white-space: nowrap; max-width: 500px; overflow: hidden; text-overflow: ellipsis; \" colspan=\"1\"><div style=\"text-align: left;border-bottom: solid 2px #000; padding-bottom: 5px\">n_singleton</div></td><td style=\"white-space: nowrap; max-width: 500px; overflow: hidden; text-overflow: ellipsis; \" colspan=\"1\"><div style=\"text-align: left;border-bottom: solid 2px #000; padding-bottom: 5px\">n_snp</div></td><td style=\"white-space: nowrap; max-width: 500px; overflow: hidden; text-overflow: ellipsis; \" colspan=\"1\"><div style=\"text-align: left;border-bottom: solid 2px #000; padding-bottom: 5px\">n_insertion</div></td><td style=\"white-space: nowrap; max-width: 500px; overflow: hidden; text-overflow: ellipsis; \" colspan=\"1\"><div style=\"text-align: left;border-bottom: solid 2px #000; padding-bottom: 5px\">n_deletion</div></td><td style=\"white-space: nowrap; max-width: 500px; overflow: hidden; text-overflow: ellipsis; \" colspan=\"1\"><div style=\"text-align: left;border-bottom: solid 2px #000; padding-bottom: 5px\">n_transition</div></td><td style=\"white-space: nowrap; max-width: 500px; overflow: hidden; text-overflow: ellipsis; \" colspan=\"1\"><div style=\"text-align: left;border-bottom: solid 2px #000; padding-bottom: 5px\">n_transversion</div></td><td style=\"white-space: nowrap; max-width: 500px; overflow: hidden; text-overflow: ellipsis; \" colspan=\"1\"><div style=\"text-align: left;border-bottom: solid 2px #000; padding-bottom: 5px\">n_star</div></td><td style=\"white-space: nowrap; max-width: 500px; overflow: hidden; text-overflow: ellipsis; \" colspan=\"1\"><div style=\"text-align: left;border-bottom: solid 2px #000; padding-bottom: 5px\">r_ti_tv</div></td><td style=\"white-space: nowrap; max-width: 500px; overflow: hidden; text-overflow: ellipsis; \" colspan=\"1\"><div style=\"text-align: left;border-bottom: solid 2px #000; padding-bottom: 5px\">r_het_hom_var</div></td><td style=\"white-space: nowrap; max-width: 500px; overflow: hidden; text-overflow: ellipsis; \" colspan=\"1\"><div style=\"text-align: left;border-bottom: solid 2px #000; padding-bottom: 5px\">r_insertion_deletion</div></td><td style=\"white-space: nowrap; max-width: 500px; overflow: hidden; text-overflow: ellipsis; \" colspan=\"1\"><div style=\"text-align: left;border-bottom: solid 2px #000; padding-bottom: 5px\">het</div></td></tr><tr><td style=\"white-space: nowrap; max-width: 500px; overflow: hidden; text-overflow: ellipsis; text-align: left;\">str</td><td style=\"white-space: nowrap; max-width: 500px; overflow: hidden; text-overflow: ellipsis; text-align: left;\">str</td><td style=\"white-space: nowrap; max-width: 500px; overflow: hidden; text-overflow: ellipsis; text-align: left;\">str</td><td style=\"white-space: nowrap; max-width: 500px; overflow: hidden; text-overflow: ellipsis; text-align: left;\">str</td><td style=\"white-space: nowrap; max-width: 500px; overflow: hidden; text-overflow: ellipsis; text-align: left;\">bool</td><td style=\"white-space: nowrap; max-width: 500px; overflow: hidden; text-overflow: ellipsis; text-align: left;\">bool</td><td style=\"white-space: nowrap; max-width: 500px; overflow: hidden; text-overflow: ellipsis; text-align: left;\">float64</td><td style=\"white-space: nowrap; max-width: 500px; overflow: hidden; text-overflow: ellipsis; text-align: left;\">int64</td><td style=\"white-space: nowrap; max-width: 500px; overflow: hidden; text-overflow: ellipsis; text-align: left;\">int64</td><td style=\"white-space: nowrap; max-width: 500px; overflow: hidden; text-overflow: ellipsis; text-align: left;\">int64</td><td style=\"white-space: nowrap; max-width: 500px; overflow: hidden; text-overflow: ellipsis; text-align: left;\">int64</td><td style=\"white-space: nowrap; max-width: 500px; overflow: hidden; text-overflow: ellipsis; text-align: left;\">int64</td><td style=\"white-space: nowrap; max-width: 500px; overflow: hidden; text-overflow: ellipsis; text-align: left;\">int64</td><td style=\"white-space: nowrap; max-width: 500px; overflow: hidden; text-overflow: ellipsis; text-align: left;\">int64</td><td style=\"white-space: nowrap; max-width: 500px; overflow: hidden; text-overflow: ellipsis; text-align: left;\">int64</td><td style=\"white-space: nowrap; max-width: 500px; overflow: hidden; text-overflow: ellipsis; text-align: left;\">int64</td><td style=\"white-space: nowrap; max-width: 500px; overflow: hidden; text-overflow: ellipsis; text-align: left;\">int64</td><td style=\"white-space: nowrap; max-width: 500px; overflow: hidden; text-overflow: ellipsis; text-align: left;\">int64</td><td style=\"white-space: nowrap; max-width: 500px; overflow: hidden; text-overflow: ellipsis; text-align: left;\">int64</td><td style=\"white-space: nowrap; max-width: 500px; overflow: hidden; text-overflow: ellipsis; text-align: left;\">int64</td><td style=\"white-space: nowrap; max-width: 500px; overflow: hidden; text-overflow: ellipsis; text-align: left;\">int64</td><td style=\"white-space: nowrap; max-width: 500px; overflow: hidden; text-overflow: ellipsis; text-align: left;\">float64</td><td style=\"white-space: nowrap; max-width: 500px; overflow: hidden; text-overflow: ellipsis; text-align: left;\">float64</td><td style=\"white-space: nowrap; max-width: 500px; overflow: hidden; text-overflow: ellipsis; text-align: left;\">float64</td><td style=\"white-space: nowrap; max-width: 500px; overflow: hidden; text-overflow: ellipsis; text-align: left;\">float64</td></tr>\n",
       "</thead><tbody><tr><td style=\"white-space: nowrap; max-width: 500px; overflow: hidden; text-overflow: ellipsis; \">&quot;NIH19KT0022&quot;</td><td style=\"white-space: nowrap; max-width: 500px; overflow: hidden; text-overflow: ellipsis; \">&quot;NIH19KT0022&quot;</td><td style=\"white-space: nowrap; max-width: 500px; overflow: hidden; text-overflow: ellipsis; \">NA</td><td style=\"white-space: nowrap; max-width: 500px; overflow: hidden; text-overflow: ellipsis; \">NA</td><td style=\"white-space: nowrap; max-width: 500px; overflow: hidden; text-overflow: ellipsis; \">True</td><td style=\"white-space: nowrap; max-width: 500px; overflow: hidden; text-overflow: ellipsis; \">False</td><td style=\"white-space: nowrap; max-width: 500px; overflow: hidden; text-overflow: ellipsis; \">9.91e-01</td><td style=\"white-space: nowrap; max-width: 500px; overflow: hidden; text-overflow: ellipsis; \">792435</td><td style=\"white-space: nowrap; max-width: 500px; overflow: hidden; text-overflow: ellipsis; \">6882</td><td style=\"white-space: nowrap; max-width: 500px; overflow: hidden; text-overflow: ellipsis; \">0</td><td style=\"white-space: nowrap; max-width: 500px; overflow: hidden; text-overflow: ellipsis; \">646525</td><td style=\"white-space: nowrap; max-width: 500px; overflow: hidden; text-overflow: ellipsis; \">122699</td><td style=\"white-space: nowrap; max-width: 500px; overflow: hidden; text-overflow: ellipsis; \">23211</td><td style=\"white-space: nowrap; max-width: 500px; overflow: hidden; text-overflow: ellipsis; \">145910</td><td style=\"white-space: nowrap; max-width: 500px; overflow: hidden; text-overflow: ellipsis; \">12</td><td style=\"white-space: nowrap; max-width: 500px; overflow: hidden; text-overflow: ellipsis; \">0</td><td style=\"white-space: nowrap; max-width: 500px; overflow: hidden; text-overflow: ellipsis; \">0</td><td style=\"white-space: nowrap; max-width: 500px; overflow: hidden; text-overflow: ellipsis; \">0</td><td style=\"white-space: nowrap; max-width: 500px; overflow: hidden; text-overflow: ellipsis; \">0</td><td style=\"white-space: nowrap; max-width: 500px; overflow: hidden; text-overflow: ellipsis; \">0</td><td style=\"white-space: nowrap; max-width: 500px; overflow: hidden; text-overflow: ellipsis; \">0</td><td style=\"white-space: nowrap; max-width: 500px; overflow: hidden; text-overflow: ellipsis; \">NA</td><td style=\"white-space: nowrap; max-width: 500px; overflow: hidden; text-overflow: ellipsis; \">5.29e+00</td><td style=\"white-space: nowrap; max-width: 500px; overflow: hidden; text-overflow: ellipsis; \">NA</td><td style=\"white-space: nowrap; max-width: 500px; overflow: hidden; text-overflow: ellipsis; \">1.84e+01</td></tr>\n",
       "<tr><td style=\"white-space: nowrap; max-width: 500px; overflow: hidden; text-overflow: ellipsis; \">&quot;NIH19KT0023&quot;</td><td style=\"white-space: nowrap; max-width: 500px; overflow: hidden; text-overflow: ellipsis; \">&quot;NIH19KT0023&quot;</td><td style=\"white-space: nowrap; max-width: 500px; overflow: hidden; text-overflow: ellipsis; \">NA</td><td style=\"white-space: nowrap; max-width: 500px; overflow: hidden; text-overflow: ellipsis; \">NA</td><td style=\"white-space: nowrap; max-width: 500px; overflow: hidden; text-overflow: ellipsis; \">True</td><td style=\"white-space: nowrap; max-width: 500px; overflow: hidden; text-overflow: ellipsis; \">False</td><td style=\"white-space: nowrap; max-width: 500px; overflow: hidden; text-overflow: ellipsis; \">9.88e-01</td><td style=\"white-space: nowrap; max-width: 500px; overflow: hidden; text-overflow: ellipsis; \">789776</td><td style=\"white-space: nowrap; max-width: 500px; overflow: hidden; text-overflow: ellipsis; \">9541</td><td style=\"white-space: nowrap; max-width: 500px; overflow: hidden; text-overflow: ellipsis; \">0</td><td style=\"white-space: nowrap; max-width: 500px; overflow: hidden; text-overflow: ellipsis; \">643735</td><td style=\"white-space: nowrap; max-width: 500px; overflow: hidden; text-overflow: ellipsis; \">122910</td><td style=\"white-space: nowrap; max-width: 500px; overflow: hidden; text-overflow: ellipsis; \">23131</td><td style=\"white-space: nowrap; max-width: 500px; overflow: hidden; text-overflow: ellipsis; \">146041</td><td style=\"white-space: nowrap; max-width: 500px; overflow: hidden; text-overflow: ellipsis; \">11</td><td style=\"white-space: nowrap; max-width: 500px; overflow: hidden; text-overflow: ellipsis; \">0</td><td style=\"white-space: nowrap; max-width: 500px; overflow: hidden; text-overflow: ellipsis; \">0</td><td style=\"white-space: nowrap; max-width: 500px; overflow: hidden; text-overflow: ellipsis; \">0</td><td style=\"white-space: nowrap; max-width: 500px; overflow: hidden; text-overflow: ellipsis; \">0</td><td style=\"white-space: nowrap; max-width: 500px; overflow: hidden; text-overflow: ellipsis; \">0</td><td style=\"white-space: nowrap; max-width: 500px; overflow: hidden; text-overflow: ellipsis; \">0</td><td style=\"white-space: nowrap; max-width: 500px; overflow: hidden; text-overflow: ellipsis; \">NA</td><td style=\"white-space: nowrap; max-width: 500px; overflow: hidden; text-overflow: ellipsis; \">5.31e+00</td><td style=\"white-space: nowrap; max-width: 500px; overflow: hidden; text-overflow: ellipsis; \">NA</td><td style=\"white-space: nowrap; max-width: 500px; overflow: hidden; text-overflow: ellipsis; \">1.85e+01</td></tr>\n",
       "<tr><td style=\"white-space: nowrap; max-width: 500px; overflow: hidden; text-overflow: ellipsis; \">&quot;NIH19KT0024&quot;</td><td style=\"white-space: nowrap; max-width: 500px; overflow: hidden; text-overflow: ellipsis; \">&quot;NIH19KT0024&quot;</td><td style=\"white-space: nowrap; max-width: 500px; overflow: hidden; text-overflow: ellipsis; \">NA</td><td style=\"white-space: nowrap; max-width: 500px; overflow: hidden; text-overflow: ellipsis; \">NA</td><td style=\"white-space: nowrap; max-width: 500px; overflow: hidden; text-overflow: ellipsis; \">False</td><td style=\"white-space: nowrap; max-width: 500px; overflow: hidden; text-overflow: ellipsis; \">False</td><td style=\"white-space: nowrap; max-width: 500px; overflow: hidden; text-overflow: ellipsis; \">9.92e-01</td><td style=\"white-space: nowrap; max-width: 500px; overflow: hidden; text-overflow: ellipsis; \">792685</td><td style=\"white-space: nowrap; max-width: 500px; overflow: hidden; text-overflow: ellipsis; \">6632</td><td style=\"white-space: nowrap; max-width: 500px; overflow: hidden; text-overflow: ellipsis; \">0</td><td style=\"white-space: nowrap; max-width: 500px; overflow: hidden; text-overflow: ellipsis; \">651633</td><td style=\"white-space: nowrap; max-width: 500px; overflow: hidden; text-overflow: ellipsis; \">114186</td><td style=\"white-space: nowrap; max-width: 500px; overflow: hidden; text-overflow: ellipsis; \">26866</td><td style=\"white-space: nowrap; max-width: 500px; overflow: hidden; text-overflow: ellipsis; \">141052</td><td style=\"white-space: nowrap; max-width: 500px; overflow: hidden; text-overflow: ellipsis; \">9</td><td style=\"white-space: nowrap; max-width: 500px; overflow: hidden; text-overflow: ellipsis; \">0</td><td style=\"white-space: nowrap; max-width: 500px; overflow: hidden; text-overflow: ellipsis; \">0</td><td style=\"white-space: nowrap; max-width: 500px; overflow: hidden; text-overflow: ellipsis; \">0</td><td style=\"white-space: nowrap; max-width: 500px; overflow: hidden; text-overflow: ellipsis; \">0</td><td style=\"white-space: nowrap; max-width: 500px; overflow: hidden; text-overflow: ellipsis; \">0</td><td style=\"white-space: nowrap; max-width: 500px; overflow: hidden; text-overflow: ellipsis; \">0</td><td style=\"white-space: nowrap; max-width: 500px; overflow: hidden; text-overflow: ellipsis; \">NA</td><td style=\"white-space: nowrap; max-width: 500px; overflow: hidden; text-overflow: ellipsis; \">4.25e+00</td><td style=\"white-space: nowrap; max-width: 500px; overflow: hidden; text-overflow: ellipsis; \">NA</td><td style=\"white-space: nowrap; max-width: 500px; overflow: hidden; text-overflow: ellipsis; \">1.78e+01</td></tr>\n",
       "<tr><td style=\"white-space: nowrap; max-width: 500px; overflow: hidden; text-overflow: ellipsis; \">&quot;NIH19KT0025&quot;</td><td style=\"white-space: nowrap; max-width: 500px; overflow: hidden; text-overflow: ellipsis; \">&quot;NIH19KT0025&quot;</td><td style=\"white-space: nowrap; max-width: 500px; overflow: hidden; text-overflow: ellipsis; \">NA</td><td style=\"white-space: nowrap; max-width: 500px; overflow: hidden; text-overflow: ellipsis; \">NA</td><td style=\"white-space: nowrap; max-width: 500px; overflow: hidden; text-overflow: ellipsis; \">False</td><td style=\"white-space: nowrap; max-width: 500px; overflow: hidden; text-overflow: ellipsis; \">False</td><td style=\"white-space: nowrap; max-width: 500px; overflow: hidden; text-overflow: ellipsis; \">9.93e-01</td><td style=\"white-space: nowrap; max-width: 500px; overflow: hidden; text-overflow: ellipsis; \">794088</td><td style=\"white-space: nowrap; max-width: 500px; overflow: hidden; text-overflow: ellipsis; \">5229</td><td style=\"white-space: nowrap; max-width: 500px; overflow: hidden; text-overflow: ellipsis; \">0</td><td style=\"white-space: nowrap; max-width: 500px; overflow: hidden; text-overflow: ellipsis; \">652489</td><td style=\"white-space: nowrap; max-width: 500px; overflow: hidden; text-overflow: ellipsis; \">114730</td><td style=\"white-space: nowrap; max-width: 500px; overflow: hidden; text-overflow: ellipsis; \">26869</td><td style=\"white-space: nowrap; max-width: 500px; overflow: hidden; text-overflow: ellipsis; \">141599</td><td style=\"white-space: nowrap; max-width: 500px; overflow: hidden; text-overflow: ellipsis; \">21</td><td style=\"white-space: nowrap; max-width: 500px; overflow: hidden; text-overflow: ellipsis; \">0</td><td style=\"white-space: nowrap; max-width: 500px; overflow: hidden; text-overflow: ellipsis; \">0</td><td style=\"white-space: nowrap; max-width: 500px; overflow: hidden; text-overflow: ellipsis; \">0</td><td style=\"white-space: nowrap; max-width: 500px; overflow: hidden; text-overflow: ellipsis; \">0</td><td style=\"white-space: nowrap; max-width: 500px; overflow: hidden; text-overflow: ellipsis; \">0</td><td style=\"white-space: nowrap; max-width: 500px; overflow: hidden; text-overflow: ellipsis; \">0</td><td style=\"white-space: nowrap; max-width: 500px; overflow: hidden; text-overflow: ellipsis; \">NA</td><td style=\"white-space: nowrap; max-width: 500px; overflow: hidden; text-overflow: ellipsis; \">4.27e+00</td><td style=\"white-space: nowrap; max-width: 500px; overflow: hidden; text-overflow: ellipsis; \">NA</td><td style=\"white-space: nowrap; max-width: 500px; overflow: hidden; text-overflow: ellipsis; \">1.78e+01</td></tr>\n",
       "<tr><td style=\"white-space: nowrap; max-width: 500px; overflow: hidden; text-overflow: ellipsis; \">&quot;NIH19KT0026&quot;</td><td style=\"white-space: nowrap; max-width: 500px; overflow: hidden; text-overflow: ellipsis; \">&quot;NIH19KT0026&quot;</td><td style=\"white-space: nowrap; max-width: 500px; overflow: hidden; text-overflow: ellipsis; \">NA</td><td style=\"white-space: nowrap; max-width: 500px; overflow: hidden; text-overflow: ellipsis; \">NA</td><td style=\"white-space: nowrap; max-width: 500px; overflow: hidden; text-overflow: ellipsis; \">True</td><td style=\"white-space: nowrap; max-width: 500px; overflow: hidden; text-overflow: ellipsis; \">False</td><td style=\"white-space: nowrap; max-width: 500px; overflow: hidden; text-overflow: ellipsis; \">9.92e-01</td><td style=\"white-space: nowrap; max-width: 500px; overflow: hidden; text-overflow: ellipsis; \">792703</td><td style=\"white-space: nowrap; max-width: 500px; overflow: hidden; text-overflow: ellipsis; \">6614</td><td style=\"white-space: nowrap; max-width: 500px; overflow: hidden; text-overflow: ellipsis; \">0</td><td style=\"white-space: nowrap; max-width: 500px; overflow: hidden; text-overflow: ellipsis; \">647107</td><td style=\"white-space: nowrap; max-width: 500px; overflow: hidden; text-overflow: ellipsis; \">121904</td><td style=\"white-space: nowrap; max-width: 500px; overflow: hidden; text-overflow: ellipsis; \">23692</td><td style=\"white-space: nowrap; max-width: 500px; overflow: hidden; text-overflow: ellipsis; \">145596</td><td style=\"white-space: nowrap; max-width: 500px; overflow: hidden; text-overflow: ellipsis; \">5</td><td style=\"white-space: nowrap; max-width: 500px; overflow: hidden; text-overflow: ellipsis; \">0</td><td style=\"white-space: nowrap; max-width: 500px; overflow: hidden; text-overflow: ellipsis; \">0</td><td style=\"white-space: nowrap; max-width: 500px; overflow: hidden; text-overflow: ellipsis; \">0</td><td style=\"white-space: nowrap; max-width: 500px; overflow: hidden; text-overflow: ellipsis; \">0</td><td style=\"white-space: nowrap; max-width: 500px; overflow: hidden; text-overflow: ellipsis; \">0</td><td style=\"white-space: nowrap; max-width: 500px; overflow: hidden; text-overflow: ellipsis; \">0</td><td style=\"white-space: nowrap; max-width: 500px; overflow: hidden; text-overflow: ellipsis; \">NA</td><td style=\"white-space: nowrap; max-width: 500px; overflow: hidden; text-overflow: ellipsis; \">5.15e+00</td><td style=\"white-space: nowrap; max-width: 500px; overflow: hidden; text-overflow: ellipsis; \">NA</td><td style=\"white-space: nowrap; max-width: 500px; overflow: hidden; text-overflow: ellipsis; \">1.84e+01</td></tr>\n",
       "</tbody></table><p style=\"background: #fdd; padding: 0.4em;\">showing top 5 rows</p>\n"
      ],
      "text/plain": [
       "+---------------+---------------+--------+--------+-----------+---------+\n",
       "| s             | fam_id        | pat_id | mat_id | is_female | is_case |\n",
       "+---------------+---------------+--------+--------+-----------+---------+\n",
       "| str           | str           | str    | str    |      bool |    bool |\n",
       "+---------------+---------------+--------+--------+-----------+---------+\n",
       "| \"NIH19KT0022\" | \"NIH19KT0022\" | NA     | NA     |      True |   False |\n",
       "| \"NIH19KT0023\" | \"NIH19KT0023\" | NA     | NA     |      True |   False |\n",
       "| \"NIH19KT0024\" | \"NIH19KT0024\" | NA     | NA     |     False |   False |\n",
       "| \"NIH19KT0025\" | \"NIH19KT0025\" | NA     | NA     |     False |   False |\n",
       "| \"NIH19KT0026\" | \"NIH19KT0026\" | NA     | NA     |      True |   False |\n",
       "+---------------+---------------+--------+--------+-----------+---------+\n",
       "\n",
       "+---------------------+--------------------+------------------------+\n",
       "| sample_qc.call_rate | sample_qc.n_called | sample_qc.n_not_called |\n",
       "+---------------------+--------------------+------------------------+\n",
       "|             float64 |              int64 |                  int64 |\n",
       "+---------------------+--------------------+------------------------+\n",
       "|            9.91e-01 |             792435 |                   6882 |\n",
       "|            9.88e-01 |             789776 |                   9541 |\n",
       "|            9.92e-01 |             792685 |                   6632 |\n",
       "|            9.93e-01 |             794088 |                   5229 |\n",
       "|            9.92e-01 |             792703 |                   6614 |\n",
       "+---------------------+--------------------+------------------------+\n",
       "\n",
       "+----------------------+---------------------+-----------------+\n",
       "| sample_qc.n_filtered | sample_qc.n_hom_ref | sample_qc.n_het |\n",
       "+----------------------+---------------------+-----------------+\n",
       "|                int64 |               int64 |           int64 |\n",
       "+----------------------+---------------------+-----------------+\n",
       "|                    0 |              646525 |          122699 |\n",
       "|                    0 |              643735 |          122910 |\n",
       "|                    0 |              651633 |          114186 |\n",
       "|                    0 |              652489 |          114730 |\n",
       "|                    0 |              647107 |          121904 |\n",
       "+----------------------+---------------------+-----------------+\n",
       "\n",
       "+---------------------+---------------------+-----------------------+\n",
       "| sample_qc.n_hom_var | sample_qc.n_non_ref | sample_qc.n_singleton |\n",
       "+---------------------+---------------------+-----------------------+\n",
       "|               int64 |               int64 |                 int64 |\n",
       "+---------------------+---------------------+-----------------------+\n",
       "|               23211 |              145910 |                    12 |\n",
       "|               23131 |              146041 |                    11 |\n",
       "|               26866 |              141052 |                     9 |\n",
       "|               26869 |              141599 |                    21 |\n",
       "|               23692 |              145596 |                     5 |\n",
       "+---------------------+---------------------+-----------------------+\n",
       "\n",
       "+-----------------+-----------------------+----------------------+\n",
       "| sample_qc.n_snp | sample_qc.n_insertion | sample_qc.n_deletion |\n",
       "+-----------------+-----------------------+----------------------+\n",
       "|           int64 |                 int64 |                int64 |\n",
       "+-----------------+-----------------------+----------------------+\n",
       "|               0 |                     0 |                    0 |\n",
       "|               0 |                     0 |                    0 |\n",
       "|               0 |                     0 |                    0 |\n",
       "|               0 |                     0 |                    0 |\n",
       "|               0 |                     0 |                    0 |\n",
       "+-----------------+-----------------------+----------------------+\n",
       "\n",
       "+------------------------+--------------------------+------------------+\n",
       "| sample_qc.n_transition | sample_qc.n_transversion | sample_qc.n_star |\n",
       "+------------------------+--------------------------+------------------+\n",
       "|                  int64 |                    int64 |            int64 |\n",
       "+------------------------+--------------------------+------------------+\n",
       "|                      0 |                        0 |                0 |\n",
       "|                      0 |                        0 |                0 |\n",
       "|                      0 |                        0 |                0 |\n",
       "|                      0 |                        0 |                0 |\n",
       "|                      0 |                        0 |                0 |\n",
       "+------------------------+--------------------------+------------------+\n",
       "\n",
       "+-------------------+-------------------------+--------------------------------+\n",
       "| sample_qc.r_ti_tv | sample_qc.r_het_hom_var | sample_qc.r_insertion_deletion |\n",
       "+-------------------+-------------------------+--------------------------------+\n",
       "|           float64 |                 float64 |                        float64 |\n",
       "+-------------------+-------------------------+--------------------------------+\n",
       "|                NA |                5.29e+00 |                             NA |\n",
       "|                NA |                5.31e+00 |                             NA |\n",
       "|                NA |                4.25e+00 |                             NA |\n",
       "|                NA |                4.27e+00 |                             NA |\n",
       "|                NA |                5.15e+00 |                             NA |\n",
       "+-------------------+-------------------------+--------------------------------+\n",
       "\n",
       "+----------+\n",
       "|      het |\n",
       "+----------+\n",
       "|  float64 |\n",
       "+----------+\n",
       "| 1.84e+01 |\n",
       "| 1.85e+01 |\n",
       "| 1.78e+01 |\n",
       "| 1.78e+01 |\n",
       "| 1.84e+01 |\n",
       "+----------+\n",
       "showing top 5 rows"
      ]
     },
     "metadata": {},
     "output_type": "display_data"
    }
   ],
   "source": [
    "#mt1.col.show(5)\n",
    "mt1.show(5)\n",
    "mt1.col.show(5)\n",
    "#mt2 = mt.col.sample_qc.annotate(mt1[])"
   ]
  },
  {
   "cell_type": "code",
   "execution_count": 16,
   "id": "87232071-cd3d-4945-9c08-4f0751e449c4",
   "metadata": {},
   "outputs": [
    {
     "name": "stderr",
     "output_type": "stream",
     "text": [
      "2023-02-24 10:23:21.067 Hail: INFO: Ordering unsorted dataset with network shuffle\n",
      "2023-02-24 10:23:22.430 Hail: INFO: Coerced sorted dataset          (0 + 1) / 1]\n",
      "2023-02-24 10:23:31.372 Hail: INFO: Ordering unsorted dataset with network shuffle\n",
      "[Stage 77:===================================================>    (21 + 2) / 23]\r"
     ]
    },
    {
     "data": {
      "text/html": [
       "\n",
       "\n",
       "\n",
       "\n",
       "\n",
       "\n",
       "  <div class=\"bk-root\" id=\"0d0c5d94-3e86-45e4-ace7-df6dd3cf51df\" data-root-id=\"1104\"></div>\n"
      ]
     },
     "metadata": {},
     "output_type": "display_data"
    },
    {
     "data": {
      "application/javascript": [
       "(function(root) {\n",
       "  function embed_document(root) {\n",
       "    \n",
       "  var docs_json = {\"d5a67aa9-3619-40d8-8d19-d41fa0b2d996\":{\"roots\":{\"references\":[{\"attributes\":{\"below\":[{\"id\":\"1114\",\"type\":\"LinearAxis\"}],\"center\":[{\"id\":\"1118\",\"type\":\"Grid\"},{\"id\":\"1123\",\"type\":\"Grid\"}],\"left\":[{\"id\":\"1119\",\"type\":\"LinearAxis\"},{\"id\":\"1155\",\"type\":\"Legend\"},{\"id\":\"1156\",\"type\":\"ColorBar\"}],\"plot_height\":800,\"plot_width\":800,\"renderers\":[{\"id\":\"1146\",\"type\":\"GlyphRenderer\"},{\"id\":\"1152\",\"type\":\"GlyphRenderer\"}],\"title\":null,\"toolbar\":{\"id\":\"1130\",\"type\":\"Toolbar\"},\"x_range\":{\"id\":\"1106\",\"type\":\"DataRange1d\"},\"x_scale\":{\"id\":\"1110\",\"type\":\"LinearScale\"},\"y_range\":{\"id\":\"1108\",\"type\":\"DataRange1d\"},\"y_scale\":{\"id\":\"1112\",\"type\":\"LinearScale\"}},\"id\":\"1104\",\"subtype\":\"Figure\",\"type\":\"Plot\"},{\"attributes\":{\"factors\":[\"true\",\"false\"],\"palette\":[\"#1f77b4\",\"#ff7f0e\",\"#2ca02c\",\"#d62728\",\"#9467bd\",\"#8c564b\",\"#e377c2\",\"#7f7f7f\",\"#bcbd22\",\"#17becf\"]},\"id\":\"1140\",\"type\":\"CategoricalColorMapper\"},{\"attributes\":{\"fill_alpha\":{\"value\":0.1},\"fill_color\":{\"value\":\"#1f77b4\"},\"line_alpha\":{\"value\":0.1},\"line_color\":{\"value\":\"#1f77b4\"},\"x\":{\"field\":\"x\"},\"y\":{\"field\":\"y\"}},\"id\":\"1145\",\"type\":\"Circle\"},{\"attributes\":{\"axis_label\":\"Missing rate\",\"formatter\":{\"id\":\"1168\",\"type\":\"BasicTickFormatter\"},\"ticker\":{\"id\":\"1120\",\"type\":\"BasicTicker\"}},\"id\":\"1119\",\"type\":\"LinearAxis\"},{\"attributes\":{\"label\":{\"value\":\"true\"},\"renderers\":[{\"id\":\"1152\",\"type\":\"GlyphRenderer\"}]},\"id\":\"1154\",\"type\":\"LegendItem\"},{\"attributes\":{\"filters\":[{\"id\":\"1141\",\"type\":\"GroupFilter\"}],\"source\":{\"id\":\"1139\",\"type\":\"ColumnDataSource\"}},\"id\":\"1142\",\"type\":\"CDSView\"},{\"attributes\":{},\"id\":\"1124\",\"type\":\"PanTool\"},{\"attributes\":{},\"id\":\"1120\",\"type\":\"BasicTicker\"},{\"attributes\":{\"column_name\":\"label\",\"group\":\"false\"},\"id\":\"1141\",\"type\":\"GroupFilter\"},{\"attributes\":{},\"id\":\"1172\",\"type\":\"Selection\"},{\"attributes\":{\"overlay\":{\"id\":\"1174\",\"type\":\"BoxAnnotation\"}},\"id\":\"1126\",\"type\":\"BoxZoomTool\"},{\"attributes\":{\"dimension\":1,\"ticker\":{\"id\":\"1120\",\"type\":\"BasicTicker\"}},\"id\":\"1123\",\"type\":\"Grid\"},{\"attributes\":{\"callback\":null},\"id\":\"1108\",\"type\":\"DataRange1d\"},{\"attributes\":{},\"id\":\"1166\",\"type\":\"BasicTickFormatter\"},{\"attributes\":{},\"id\":\"1129\",\"type\":\"HelpTool\"},{\"attributes\":{\"callback\":null},\"id\":\"1106\",\"type\":\"DataRange1d\"},{\"attributes\":{\"fill_color\":{\"field\":\"label\",\"transform\":{\"id\":\"1140\",\"type\":\"CategoricalColorMapper\"}},\"line_color\":{\"field\":\"label\",\"transform\":{\"id\":\"1140\",\"type\":\"CategoricalColorMapper\"}},\"x\":{\"field\":\"x\"},\"y\":{\"field\":\"y\"}},\"id\":\"1150\",\"type\":\"Circle\"},{\"attributes\":{},\"id\":\"1127\",\"type\":\"SaveTool\"},{\"attributes\":{},\"id\":\"1128\",\"type\":\"ResetTool\"},{\"attributes\":{},\"id\":\"1173\",\"type\":\"UnionRenderers\"},{\"attributes\":{},\"id\":\"1112\",\"type\":\"LinearScale\"},{\"attributes\":{},\"id\":\"1171\",\"type\":\"BasicTicker\"},{\"attributes\":{\"column_name\":\"label\",\"group\":\"true\"},\"id\":\"1147\",\"type\":\"GroupFilter\"},{\"attributes\":{\"callback\":null,\"tooltips\":[[\"x\",\"@x\"],[\"y\",\"@y\"],[\"label\",\"@label\"]]},\"id\":\"1138\",\"type\":\"HoverTool\"},{\"attributes\":{},\"id\":\"1125\",\"type\":\"WheelZoomTool\"},{\"attributes\":{\"active_drag\":\"auto\",\"active_inspect\":\"auto\",\"active_multi\":null,\"active_scroll\":\"auto\",\"active_tap\":\"auto\",\"tools\":[{\"id\":\"1124\",\"type\":\"PanTool\"},{\"id\":\"1125\",\"type\":\"WheelZoomTool\"},{\"id\":\"1126\",\"type\":\"BoxZoomTool\"},{\"id\":\"1127\",\"type\":\"SaveTool\"},{\"id\":\"1128\",\"type\":\"ResetTool\"},{\"id\":\"1129\",\"type\":\"HelpTool\"},{\"id\":\"1138\",\"type\":\"HoverTool\"}]},\"id\":\"1130\",\"type\":\"Toolbar\"},{\"attributes\":{\"bottom_units\":\"screen\",\"fill_alpha\":{\"value\":0.5},\"fill_color\":{\"value\":\"lightgrey\"},\"left_units\":\"screen\",\"level\":\"overlay\",\"line_alpha\":{\"value\":1.0},\"line_color\":{\"value\":\"black\"},\"line_dash\":[4,4],\"line_width\":{\"value\":2},\"render_mode\":\"css\",\"right_units\":\"screen\",\"top_units\":\"screen\"},\"id\":\"1174\",\"type\":\"BoxAnnotation\"},{\"attributes\":{\"axis_label\":\"Heterozygosity rate\",\"formatter\":{\"id\":\"1166\",\"type\":\"BasicTickFormatter\"},\"ticker\":{\"id\":\"1115\",\"type\":\"BasicTicker\"}},\"id\":\"1114\",\"type\":\"LinearAxis\"},{\"attributes\":{\"click_policy\":\"hide\",\"items\":[{\"id\":\"1153\",\"type\":\"LegendItem\"},{\"id\":\"1154\",\"type\":\"LegendItem\"}]},\"id\":\"1155\",\"type\":\"Legend\"},{\"attributes\":{\"filters\":[{\"id\":\"1147\",\"type\":\"GroupFilter\"}],\"source\":{\"id\":\"1139\",\"type\":\"ColumnDataSource\"}},\"id\":\"1148\",\"type\":\"CDSView\"},{\"attributes\":{\"ticker\":{\"id\":\"1115\",\"type\":\"BasicTicker\"}},\"id\":\"1118\",\"type\":\"Grid\"},{\"attributes\":{},\"id\":\"1115\",\"type\":\"BasicTicker\"},{\"attributes\":{\"color_mapper\":null,\"formatter\":{\"id\":\"1170\",\"type\":\"BasicTickFormatter\"},\"ticker\":{\"id\":\"1171\",\"type\":\"BasicTicker\"},\"visible\":false},\"id\":\"1156\",\"type\":\"ColorBar\"},{\"attributes\":{\"data_source\":{\"id\":\"1139\",\"type\":\"ColumnDataSource\"},\"glyph\":{\"id\":\"1144\",\"type\":\"Circle\"},\"hover_glyph\":null,\"muted_glyph\":null,\"nonselection_glyph\":{\"id\":\"1145\",\"type\":\"Circle\"},\"selection_glyph\":null,\"view\":{\"id\":\"1142\",\"type\":\"CDSView\"}},\"id\":\"1146\",\"type\":\"GlyphRenderer\"},{\"attributes\":{\"data_source\":{\"id\":\"1139\",\"type\":\"ColumnDataSource\"},\"glyph\":{\"id\":\"1150\",\"type\":\"Circle\"},\"hover_glyph\":null,\"muted_glyph\":null,\"nonselection_glyph\":{\"id\":\"1151\",\"type\":\"Circle\"},\"selection_glyph\":null,\"view\":{\"id\":\"1148\",\"type\":\"CDSView\"}},\"id\":\"1152\",\"type\":\"GlyphRenderer\"},{\"attributes\":{},\"id\":\"1170\",\"type\":\"BasicTickFormatter\"},{\"attributes\":{\"fill_color\":{\"field\":\"label\",\"transform\":{\"id\":\"1140\",\"type\":\"CategoricalColorMapper\"}},\"line_color\":{\"field\":\"label\",\"transform\":{\"id\":\"1140\",\"type\":\"CategoricalColorMapper\"}},\"x\":{\"field\":\"x\"},\"y\":{\"field\":\"y\"}},\"id\":\"1144\",\"type\":\"Circle\"},{\"attributes\":{\"callback\":null,\"data\":{\"index\":[0,1,2,3,4,5,6,7,8,9,10,11,12,13,14,15,16,17,18,19,20,21,22,23,24,25,26,27,28,29,30,31,32,33,34,35,36,37,38,39,40,41,42,43,44,45,46,47,48,49,50,51,52,53,54,55,56,57,58,59,60,61,62,63,64,65,66,67,68,69,70,71,72,73,74,75,76,77,78,79,80,81,82,83,84,85,86,87,88,89,90,91,92,93,94,95,96,97,98,99,100,101,102,103,104,105,106,107,108,109,110,111,112,113,114,115,116,117,118,119,120,121,122,123,124,125,126,127,128,129,130,131,132,133,134,135,136,137,138,139,140,141,142,143,144,145,146,147,148,149,150,151,152,153,154,155,156,157,158,159,160,161,162,163,164,165,166,167,168,169,170,171,172,173,174,175,176,177,178,179,180,181,182,183,184,185,186,187,188,189,190,191,192,193,194,195,196,197,198,199,200,201,202,203,204,205,206,207,208,209,210,211,212,213,214,215,216,217,218,219,220,221,222,223,224,225,226,227,228,229,230,231,232,233,234,235,236,237,238,239,240,241,242,243,244,245,246,247,248,249,250,251,252,253,254,255,256,257,258,259,260,261,262,263,264,265,266,267,268,269,270,271,272,273,274,275,276,277,278,279,280,281,282,283,284,285,286,287,288,289,290,291,292,293,294,295,296,297,298,299,300,301,302,303,304,305,306,307,308,309,310,311,312,313,314,315,316,317,318,319,320,321,322,323,324,325,326,327,328,329,330,331,332,333,334,335,336,337,338,339,340,341,342,343,344,345,346,347,348,349,350,351,352,353,354,355,356,357,358,359,360,361,362,363,364,365,366,367,368,369,370,371,372,373,374,375,376,377,378,379,380,381,382,383,384,385,386,387,388,389,390,391,392,393,394,395,396,397,398,399,400,401,402,403,404,405,406,407,408,409,410,411,412,413,414,415,416,417,418,419,420,421,422,423,424,425,426,427,428,429,430,431,432,433,434,435,436,437,438,439,440,441,442,443,444,445,446,447,448,449,450,451,452,453,454,455,456,457,458,459,460,461,462,463,464,465,466,467,468,469,470,471,472,473,474,475,476,477,478,479,480,481,482,483,484,485,486,487,488,489,490,491,492,493,494,495,496,497,498,499,500,501,502,503,504,505,506,507,508,509,510,511,512,513,514,515,516,517,518,519,520,521,522,523,524,525,526,527,528,529,530,531,532,533,534,535,536,537,538,539,540,541,542,543,544,545,546,547,548,549,550,551,552,553,554,555,556,557,558,559,560,561,562,563,564,565,566,567,568,569,570,571,572,573,574,575,576,577,578,579,580,581,582,583,584,585,586,587,588,589,590,591,592,593,594,595,596,597,598,599,600,601,602,603,604,605,606,607,608,609,610,611,612,613,614,615,616,617,618,619,620,621,622,623,624,625,626,627,628,629,630,631,632,633,634,635,636,637,638,639,640,641,642,643,644,645,646,647,648,649,650,651,652,653,654,655,656,657,658,659,660,661,662,663,664,665,666,667,668,669,670,671,672,673,674,675,676,677,678,679,680,681,682,683,684,685,686,687,688,689,690,691,692,693,694,695,696,697,698,699,700,701,702,703,704,705,706,707,708,709,710,711,712,713,714,715,716,717,718,719,720,721,722,723,724,725,726,727,728,729,730,731,732,733,734,735,736,737,738,739,740,741,742,743,744,745,746,747,748,749,750,751,752,753,754,755,756,757,758,759,760,761,762,763,764,765,766,767,768,769,770,771,772,773,774,775,776,777,778,779,780,781,782,783,784,785,786,787,788,789,790,791,792,793,794,795,796,797,798,799,800,801,802,803,804,805,806,807,808,809,810,811,812,813,814,815,816,817,818,819,820,821,822,823,824,825,826,827,828,829,830,831,832,833,834,835,836,837,838,839,840,841,842,843,844,845,846,847,848,849,850,851,852,853,854,855,856,857,858,859,860,861,862,863,864,865,866,867,868,869,870,871,872,873,874,875,876,877,878,879,880,881,882,883,884,885,886,887,888,889,890,891,892,893,894,895,896,897,898,899,900,901,902,903,904,905,906,907,908,909,910,911,912,913,914,915,916,917,918,919,920,921,922,923,924,925,926,927,928,929,930,931,932,933,934,935,936,937,938,939,940,941,942,943,944,945,946,947,948,949,950,951,952,953,954,955,956,957,958,959,960,961,962,963,964,965,966,967,968,969,970,971,972,973,974,975,976,977,978,979,980,981,982,983,984,985,986,987,988,989,990,991,992,993,994,995,996,997,998,999,1000,1001,1002,1003,1004,1005,1006,1007,1008,1009,1010,1011,1012,1013,1014,1015,1016],\"label\":[\"false\",\"false\",\"false\",\"false\",\"false\",\"false\",\"false\",\"false\",\"false\",\"false\",\"false\",\"false\",\"false\",\"false\",\"false\",\"false\",\"false\",\"false\",\"false\",\"false\",\"false\",\"false\",\"false\",\"false\",\"false\",\"false\",\"false\",\"false\",\"false\",\"false\",\"false\",\"false\",\"false\",\"false\",\"false\",\"false\",\"false\",\"false\",\"false\",\"false\",\"false\",\"false\",\"false\",\"false\",\"false\",\"false\",\"false\",\"false\",\"false\",\"false\",\"false\",\"false\",\"false\",\"false\",\"false\",\"false\",\"false\",\"false\",\"false\",\"false\",\"false\",\"false\",\"false\",\"false\",\"false\",\"false\",\"false\",\"false\",\"false\",\"false\",\"false\",\"false\",\"false\",\"false\",\"false\",\"false\",\"false\",\"false\",\"false\",\"false\",\"false\",\"false\",\"false\",\"false\",\"false\",\"false\",\"false\",\"false\",\"false\",\"false\",\"false\",\"false\",\"false\",\"false\",\"false\",\"false\",\"false\",\"false\",\"false\",\"false\",\"false\",\"false\",\"false\",\"false\",\"false\",\"false\",\"false\",\"false\",\"false\",\"false\",\"false\",\"false\",\"false\",\"false\",\"false\",\"false\",\"false\",\"false\",\"false\",\"false\",\"false\",\"false\",\"false\",\"false\",\"false\",\"false\",\"false\",\"false\",\"false\",\"false\",\"false\",\"false\",\"false\",\"false\",\"false\",\"false\",\"false\",\"false\",\"false\",\"false\",\"false\",\"false\",\"false\",\"false\",\"false\",\"false\",\"false\",\"false\",\"false\",\"false\",\"false\",\"false\",\"false\",\"false\",\"false\",\"false\",\"false\",\"false\",\"false\",\"false\",\"false\",\"false\",\"false\",\"false\",\"false\",\"false\",\"false\",\"false\",\"false\",\"false\",\"false\",\"false\",\"false\",\"false\",\"false\",\"false\",\"false\",\"false\",\"false\",\"false\",\"false\",\"false\",\"false\",\"false\",\"false\",\"false\",\"false\",\"false\",\"false\",\"false\",\"false\",\"false\",\"false\",\"false\",\"false\",\"false\",\"false\",\"false\",\"false\",\"false\",\"false\",\"false\",\"false\",\"false\",\"false\",\"false\",\"false\",\"false\",\"false\",\"false\",\"false\",\"false\",\"false\",\"false\",\"false\",\"false\",\"false\",\"false\",\"false\",\"false\",\"false\",\"false\",\"false\",\"false\",\"false\",\"false\",\"false\",\"false\",\"false\",\"false\",\"false\",\"false\",\"false\",\"false\",\"false\",\"false\",\"false\",\"false\",\"false\",\"false\",\"false\",\"false\",\"false\",\"false\",\"false\",\"false\",\"false\",\"false\",\"false\",\"false\",\"false\",\"false\",\"false\",\"false\",\"false\",\"false\",\"false\",\"false\",\"false\",\"false\",\"false\",\"false\",\"false\",\"false\",\"false\",\"false\",\"false\",\"false\",\"false\",\"false\",\"false\",\"false\",\"false\",\"false\",\"false\",\"false\",\"false\",\"false\",\"false\",\"false\",\"false\",\"false\",\"false\",\"false\",\"false\",\"false\",\"false\",\"false\",\"false\",\"false\",\"false\",\"false\",\"false\",\"false\",\"false\",\"false\",\"false\",\"false\",\"false\",\"false\",\"false\",\"false\",\"false\",\"false\",\"false\",\"false\",\"false\",\"false\",\"false\",\"false\",\"false\",\"false\",\"false\",\"false\",\"false\",\"false\",\"false\",\"false\",\"false\",\"false\",\"false\",\"false\",\"false\",\"false\",\"false\",\"false\",\"false\",\"false\",\"false\",\"false\",\"false\",\"false\",\"false\",\"false\",\"false\",\"false\",\"false\",\"false\",\"false\",\"false\",\"false\",\"false\",\"false\",\"false\",\"false\",\"false\",\"false\",\"false\",\"false\",\"false\",\"false\",\"false\",\"false\",\"false\",\"false\",\"false\",\"false\",\"false\",\"false\",\"false\",\"false\",\"false\",\"false\",\"false\",\"false\",\"false\",\"false\",\"false\",\"false\",\"false\",\"false\",\"false\",\"false\",\"false\",\"false\",\"false\",\"false\",\"false\",\"false\",\"false\",\"false\",\"false\",\"false\",\"false\",\"false\",\"false\",\"false\",\"false\",\"false\",\"false\",\"false\",\"false\",\"false\",\"false\",\"false\",\"false\",\"false\",\"false\",\"false\",\"false\",\"false\",\"false\",\"false\",\"false\",\"false\",\"false\",\"false\",\"false\",\"false\",\"false\",\"false\",\"false\",\"false\",\"false\",\"false\",\"false\",\"false\",\"false\",\"false\",\"false\",\"false\",\"false\",\"false\",\"false\",\"false\",\"false\",\"false\",\"false\",\"false\",\"false\",\"false\",\"false\",\"false\",\"false\",\"false\",\"false\",\"false\",\"false\",\"false\",\"false\",\"false\",\"false\",\"false\",\"false\",\"false\",\"false\",\"false\",\"false\",\"false\",\"false\",\"false\",\"false\",\"false\",\"false\",\"false\",\"false\",\"false\",\"false\",\"false\",\"false\",\"false\",\"false\",\"false\",\"false\",\"false\",\"false\",\"false\",\"false\",\"false\",\"false\",\"false\",\"false\",\"false\",\"false\",\"false\",\"false\",\"false\",\"false\",\"false\",\"false\",\"false\",\"false\",\"false\",\"false\",\"false\",\"false\",\"false\",\"false\",\"false\",\"false\",\"false\",\"false\",\"false\",\"false\",\"false\",\"false\",\"false\",\"false\",\"false\",\"false\",\"false\",\"false\",\"false\",\"false\",\"false\",\"false\",\"false\",\"false\",\"false\",\"false\",\"false\",\"false\",\"false\",\"false\",\"false\",\"false\",\"false\",\"false\",\"false\",\"false\",\"false\",\"false\",\"false\",\"false\",\"false\",\"false\",\"false\",\"false\",\"false\",\"false\",\"false\",\"false\",\"false\",\"false\",\"false\",\"false\",\"false\",\"false\",\"false\",\"false\",\"false\",\"false\",\"false\",\"false\",\"false\",\"false\",\"false\",\"false\",\"false\",\"false\",\"false\",\"false\",\"false\",\"false\",\"false\",\"false\",\"false\",\"false\",\"false\",\"false\",\"false\",\"false\",\"false\",\"false\",\"false\",\"false\",\"false\",\"false\",\"false\",\"false\",\"false\",\"false\",\"false\",\"false\",\"false\",\"false\",\"false\",\"false\",\"false\",\"false\",\"false\",\"false\",\"false\",\"false\",\"false\",\"false\",\"false\",\"false\",\"false\",\"false\",\"false\",\"false\",\"false\",\"false\",\"false\",\"false\",\"false\",\"false\",\"false\",\"false\",\"false\",\"false\",\"false\",\"false\",\"false\",\"false\",\"false\",\"false\",\"false\",\"false\",\"false\",\"false\",\"false\",\"false\",\"false\",\"false\",\"false\",\"false\",\"false\",\"false\",\"false\",\"false\",\"false\",\"false\",\"false\",\"false\",\"false\",\"false\",\"false\",\"false\",\"false\",\"false\",\"false\",\"false\",\"false\",\"false\",\"false\",\"false\",\"false\",\"false\",\"false\",\"false\",\"false\",\"false\",\"false\",\"false\",\"false\",\"false\",\"false\",\"false\",\"false\",\"false\",\"false\",\"false\",\"false\",\"false\",\"false\",\"false\",\"false\",\"false\",\"false\",\"false\",\"false\",\"false\",\"false\",\"false\",\"false\",\"false\",\"false\",\"false\",\"false\",\"false\",\"false\",\"false\",\"false\",\"false\",\"false\",\"false\",\"false\",\"false\",\"false\",\"false\",\"false\",\"false\",\"false\",\"false\",\"false\",\"false\",\"false\",\"false\",\"false\",\"false\",\"false\",\"false\",\"false\",\"false\",\"false\",\"false\",\"false\",\"false\",\"false\",\"false\",\"false\",\"false\",\"false\",\"false\",\"false\",\"false\",\"false\",\"false\",\"false\",\"false\",\"false\",\"false\",\"false\",\"false\",\"false\",\"false\",\"false\",\"false\",\"false\",\"false\",\"false\",\"false\",\"false\",\"false\",\"false\",\"false\",\"false\",\"false\",\"false\",\"false\",\"false\",\"false\",\"false\",\"false\",\"false\",\"false\",\"false\",\"false\",\"false\",\"false\",\"false\",\"false\",\"false\",\"false\",\"false\",\"false\",\"false\",\"false\",\"false\",\"false\",\"false\",\"false\",\"false\",\"false\",\"false\",\"false\",\"false\",\"false\",\"false\",\"false\",\"false\",\"false\",\"false\",\"false\",\"false\",\"false\",\"false\",\"false\",\"false\",\"false\",\"false\",\"false\",\"false\",\"false\",\"false\",\"false\",\"false\",\"false\",\"false\",\"false\",\"false\",\"false\",\"false\",\"false\",\"false\",\"false\",\"false\",\"false\",\"false\",\"false\",\"false\",\"false\",\"false\",\"false\",\"false\",\"false\",\"false\",\"false\",\"false\",\"false\",\"false\",\"false\",\"false\",\"false\",\"false\",\"false\",\"false\",\"false\",\"false\",\"false\",\"false\",\"false\",\"false\",\"false\",\"false\",\"false\",\"false\",\"false\",\"false\",\"false\",\"false\",\"false\",\"false\",\"false\",\"false\",\"false\",\"false\",\"false\",\"false\",\"false\",\"false\",\"false\",\"false\",\"false\",\"false\",\"false\",\"false\",\"false\",\"false\",\"false\",\"false\",\"false\",\"false\",\"false\",\"false\",\"false\",\"false\",\"false\",\"false\",\"false\",\"false\",\"false\",\"false\",\"false\",\"false\",\"false\",\"false\",\"false\",\"false\",\"false\",\"false\",\"false\",\"false\",\"false\",\"false\",\"false\",\"false\",\"false\",\"false\",\"false\",\"false\",\"false\",\"false\",\"false\",\"false\",\"false\",\"false\",\"false\",\"false\",\"false\",\"false\",\"false\",\"false\",\"false\",\"false\",\"false\",\"false\",\"true\",\"false\",\"false\",\"false\",\"false\",\"false\",\"false\",\"false\",\"false\",\"false\",\"false\",\"false\",\"false\",\"false\",\"false\",\"false\",\"false\",\"false\",\"false\",\"false\",\"false\",\"false\",\"false\",\"false\",\"false\",\"false\",\"false\",\"false\",\"false\",\"false\",\"false\",\"false\",\"false\",\"false\",\"false\",\"false\",\"false\",\"false\",\"false\",\"false\",\"false\",\"false\",\"false\",\"false\",\"false\",\"false\",\"false\",\"false\",\"false\",\"false\",\"false\",\"false\",\"false\",\"false\",\"false\",\"false\",\"false\",\"false\",\"false\",\"false\",\"false\",\"false\",\"false\",\"false\",\"false\",\"false\",\"false\",\"false\",\"false\",\"false\",\"false\",\"false\",\"false\",\"false\",\"false\",\"false\",\"false\",\"false\",\"false\",\"false\",\"false\",\"false\",\"false\",\"false\",\"false\",\"false\",\"false\",\"false\",\"false\",\"false\",\"false\",\"false\",\"false\",\"false\",\"false\",\"false\",\"false\",\"false\",\"false\",\"false\",\"false\",\"false\",\"false\",\"false\",\"false\",\"false\",\"false\",\"false\",\"false\",\"false\",\"false\",\"false\",\"false\",\"false\",\"false\",\"false\",\"false\",\"false\",\"false\",\"false\",\"false\",\"false\",\"false\",\"false\",\"false\",\"false\",\"false\",\"false\"],\"x\":{\"__ndarray__\":\"dtut7/N4MUBfTXbRGYYxQJK0xMjTiDFAYk/YE/aEMUC3XvjSaokxQA27FWTKiDFAhpxCikuJMUDutpwo/YkxQLBw4jDagzFAmFYpaH+PMUDNtlfU1JMxQMSkUrCOjzFA5yw+MDqUMUD4kJvdjJQxQLNdzmJqkjFAy3aVE5aSMUBlH6nU948xQNFgnBiElDFAt904T+KOMUCOKLpX+ZcxQFkhyZ9rnDFA3kA101uYMUDWwNxd35UxQDaM+fahmzFAG3ik0GGYMUBTuSyi8pcxQAsNsGz6mzFAEU2zXd6YMUCTThGxwJgxQCX3XUqLmDFAQWCp73CaMUB/q/kzvaAxQCRj3tHroDFAcbN65K+gMUC8SzWaW6YxQIyj1Ml+oTFAsJ6Tl1ahMUBzi/ScUqUxQGJkAA1ipTFAgN1Gxp2nMUA7ogwtEqgxQAfCs63epDFAkTC76XKmMUDmdTE4TqQxQK3tH7D4ojFAY9x5pIikMUAfd4CoT6UxQPkIIM6SpTFAclw616emMUAgnMOojKAxQAOeGyjjoDFALvdv0+emMUCUUMQ5HaMxQB/fo9GvpjFAyh1cFSioMUDuKRXFRKUxQMtwBPc6oDFAbMbi8p6jMUDUSvely6IxQArON+dqpjFA/ZLHK/apMUAq7KrXJKkxQKBGf25/rDFAlAStI+KpMUDZRxcR7a8xQGHBVYy5sDFAZYFPtOurMUDkSyLS9bAxQIao+JqnqTFA62dc+PisMUDlN4as4K8xQEx/0STDrDFARSh5qPOtMUCTt+JeqK8xQDGSMhj8qzFAAuzFnv+vMUByu+JeaKgxQIk1Ye9bqjFAmIFjmUioMUCl/QDdwq4xQNEKZaBErDFAGW0Zcr2uMUDsRMAOo7ExQAWW2SZHsTFAEP9fYUysMUB3abyy860xQIIOyyL8rDFAMuvAKWqpMUAn42cXsrAxQBJP1DWkrzFA59flbZ6oMUBi9lG6+LAxQJiiuMCisTFAuw4rNzS0MUA4foOGK7kxQK0EtBLQujFArhFQxVa3MUA/uz8h6LExQL1RB97+sjFADlCIQUi0MUAZTUIuzbUxQG5aggVjszFAr+icYIWzMUBehWXU7LYxQAPks7CSuTFAHzpqAUK1MUAU1COfLLUxQJYr9A/HsjFAd1XazEmzMUC1qef8WbgxQCLiD+YHsjFAcHh121+1MUD1vuxdm7cxQC3e/dQYtzFAVS83xXKyMUARaJMrvrQxQIS0eGTJujFAjDU2xMC3MUCg1YMIeLkxQFOh88f3tTFAMOjiQMqxMUARRzO8mbIxQK3kSmJTuzFAueOv5FmzMUDeO6ZaD7oxQIqEscLesjFAkXTLrFC3MUBrqv6wtbcxQBOqPEODtTFAAarPKDa6MUCwZzRDFLgxQH/8DFePtTFAjs77w7e+MUDEyr/N17wxQBgAUdIOvTFA6dVJJT7CMUA8UM9BHcIxQFItCoGVwjFAsopSJ5DEMUDw9Z1ryr0xQFWhkkp0wzFAg5NO9pDCMUCpg6YueMMxQHbRZSTHwDFAyPZTIOzBMUCUrioQ28IxQDmdw6dovjFAhKIaS9q9MUBWvi08GMExQAF2h9PbvDFAXYa87ne+MUBW2R5K3b4xQASPp8U5vzFAsg8MTI7AMUBEbAK237wxQIsjjlALvjFAHY/r20y/MUBwWHxyVcMxQEyvsRkivDFAOnTdwMfBMUCejfrORr0xQIklPBGkwjFAvCu7NCrAMUCBGkvPcsExQGq07tmZxDFAU+nzDJfCMUC0m3tabb8xQIEK89rjvzFAgUx3Zxi/MUBOAO6wZ8MxQGwe3eWWxDFAiw3ghT7AMUBKZrv7AcMxQI6zu2ObwjFAcF4IIGC/MUB/JDWyZcExQO0eoS6vvzFASN7vbgvCMUA4HDJYr8QxQCPuej7zvjFARuHS2Fi8MUDTDujkXL0xQLSEKyLjvTFAawk4GUvMMUB3CUr08ssxQIAX9YjvzDFAO6yU3cbJMUA5Du09rMsxQNyeAv73zDFANgQvK27IMUBUMg5muMwxQBsgf0v2yzFAF2aCg4nHMUApySZecskxQK6/NnhtyTFAH8+Xgn7FMUDStTbK6scxQDk78gUcyzFA5m5g0c/LMUBmpHnTycgxQGAJaUF8xzFATDOiHR/JMUATs68YyM0xQM++Ug/qyDFAGMIpyUTHMUAX4XJVpsYxQLgjxMv+yzFAXuap0cbLMUC6hHjgXsgxQAgIBOeIzjFAVQ4sICLIMUCrU9QIDMwxQD8RvhtJyTFAutobIxjNMUDUqy3g7MgxQKL/vVsczTFAavz2JvPFMUCnaaOMaswxQLRDCbXNzTFAw0faiqPIMUDwAtcKycgxQO9cf9BIyzFAHzFCORDJMUBj+PiG1soxQKUoY9NSxTFAML8iq2bNMUCCF5yiAcoxQNF7oJt6xTFAP1iPh0XNMUA2zUPhWMkxQC/P6m9mzjFASg+N5hPLMUAGJ1b8pMoxQE/Zv10VxjFA+dqwtM7PMUACcg37GdExQKr/ZxYg0zFAKCGJCIPXMUB2arz9NdUxQBykeo5/1jFAsl1++lXXMUAwP43hKM8xQJbIs7ErzzFAauKdWUnVMUA14uRqadYxQA1KXNro1jFARulo37/UMUANva3nKM8xQCG4HzkV1jFA9XhhFNvOMUBn1VF/wNIxQI5+8xlK1zFAS+P28B3VMUAFprTL9dExQOBHITht1DFAKuCYX83SMUAALQxCptUxQF2zjO8m0TFARHZtm9/XMUBlcfJCndExQHYEKodD0zFAOAJGaNrUMUA4DGy9ddUxQLk1bpAi1DFANW/8tHXXMUAR9wjUMdcxQCHA0weh1TFAue9CntTWMUCvLYsUENUxQKcMZ1c80DFALtJAK8HXMUCTOCn4NdIxQOKN+S4d0DFARFqgUwvRMUDSpmSsmNMxQMImNGXUzjFAjGKuSHzVMUDm1g3jddQxQFmL4j+o1DFAz5eYnJvWMUBC87Ov69AxQHiwjN/MzzFALxhiMxXXMUBFWJGNNc8xQMHY2tgG1TFA8U0Ep1LUMUBEB5LtJtAxQOvdT6lY1DFA24llfFbUMUB+d3rQndYxQLGOT5mE1jFAnW8iGBXUMUCwOwutrdAxQGoDnvKy4DFAfdfNcw7ZMUAdvCy5XuAxQJVrVq5Z2TFAZ9f9vOTcMUCGSl88K9gxQE2vRIgd3DFAUAs8ebHeMUCb6LUqX+AxQO48PIDr3TFAIcUZwNrbMUCtCGGdGNwxQPtLlwbf2TFA0LBRGYbfMUDlXDZHh+AxQCBjI61y3DFAEwoFmG7cMUB6S/oYdd8xQEUWnRMq3zFAaPw/JGjbMUCo6TAXOtsxQCuBDoKU3DFAGtPll6nYMUC3c5H73t4xQJPTsDmh3zFAsr6DvWvgMUADtPwb9OAxQJ9A8IB42TFA5keT8KXhMUAMHr3v7t8xQN4yJVSp2TFABMu3+nvhMUDXUUYL0N8xQMl7K/+02DFAQ9dKMj7YMUBoijbpZ9oxQOfCNUIb2TFA0AB1keTeMUBDfif+gdsxQI8TclT52zFAwP+jkTXbMUBFFGEWZ90xQBu0aUll3DFA0/50/SvZMUAOjBiLgdkxQJw6e1Vo3jFAQJHleO/aMUC+nGVT7eAxQIhMiWGA2jFAFfHIGjHZMUA4zZym4OAxQKjl7xpb3DFAVDhWzUPbMUBKwFX9MdoxQIjrP3Dv3zFA4TO2B43ZMUCv2tRDJtwxQLRoUt1D6DFAYUEDSH3kMUAiHDbJROgxQDyvdS1V6DFAYwGZfU7nMUAierh0w+oxQOTLF+js5DFAaOLS9g7rMUAq3/Kpd+QxQOHkS1WG4jFAduc4jAzmMUADH4bGWuYxQNV0Ixnn4jFAgQlD+NDkMUBevTZSPOoxQJRdByay6DFAVpo9dlnlMUDG4VZfKOcxQIc7jTpb5jFA+6fLNQblMUClAdEMK+oxQF+XSPWc5zFAHGDv0wnkMUBQ0BW/P+kxQGtm7gNT6TFAAgccHZfiMUClGOuU5egxQCx92vb64jFAi+WgXTrqMUA20RNbpuYxQNWkZrWI5jFAvgf4WfPiMUAzLBb4UeUxQFQNmfql6TFAXzBY+qziMUBa4NOObOMxQLLxsz875jFA4MvlO+blMUCYpqWKNOYxQJqdX/424zFAFcRK4fnnMUCn1Ks3TeYxQO8tqawz5zFAjjen2ffnMUDlM5CWpOcxQLRkSQ565TFA33X7/2jmMUDv+9t33OkxQOFkNU7G4jFA5yS0YWXqMUArk5AhIuUxQNWjorRy6DFA+nBBuzzpMUDHsqDRIuwxQCabYioQ8TFAF5nH7EftMUBVRkVR5u4xQK4G93VZ7TFAzdZrKXryMUCwrmBckfQxQBVKlUkm7DFA2jO4E2fvMUBe7OhQh+wxQMIsrolR7jFAN9CXjur0MUD6+Y2TAO8xQEdp0sOr7TFACVpkNHjyMUBxO0LPLewxQPAvp9uU7DFASYGTTMbwMUA6/JSlrOwxQI1BeuS18jFA0eEwVJbtMUChhMHGDu0xQHlBnCdy7TFAgmLvreDuMUAg3LJNb/MxQCs5h+Z+6zFAvANHjxryMUD+pqnY1fExQHDy4gXB6zFA20Bc1dXwMUAC108k7O0xQL1A31NA7zFAAXtGH/vtMUAnC1u/OPAxQDq00NQj8DFA0ghyt4HsMUCWlZDQefExQPNBji7D7DFATuUJrVD0MUCopklr7ewxQHLn6z4Q8DFAG4mOU5HsMUC/EkwNfO8xQLQuEmvd6zFAr7TlYrLtMUCdOHwZ1/MxQJG3Frsq8TFAR/ArWkTyMUCArZFbqesxQGHiY/ti+zFAEyGcEzf1MUDr/SzqGvwxQAzlZ8CG/DFAA7LpHp/5MUCNDu8LKvcxQKlfjwTQ9jFALMOiuL36MUBBCxVDmfYxQJtJd7iZ+zFA5u01rTv3MUB6uqOJu/sxQIL28PyR9TFA0bB5pKT7MUCC/T4bxfkxQEBK4tUm9zFAUM4Ibmr7MUAZQdUT+fwxQCXpX0l/9zFAE30A8436MUBHWyQgiPcxQMVh4veI9TFACfQDChr+MUCZ5EDVTfgxQPPWqjyB/jFAv2W+rY/1MUCEioCwafoxQBwFIJwH+TFACmJKQ1z7MUDzFdPXifYxQH8d35YP/DFAMJxpVoP8MUCKHhOfhfgxQLoJHVq7/DFAObc8/cL4MUCrklgQcPUxQFmVQ7M29TFAPl+t5Wb2MUDdZePXff4xQHHSvxKV+jFAa5+mpVD2MUCnz2aoi/sxQB3+nZIb+TFAnLTxOqD6MUDEP8u+HPoxQGzDcE6g+jFAamYLFkf6MUCW+3Y39PgxQH/OPso2/DFAim8qL0b7MUBWC4yy8PcxQHP7BsLY9TFAHRZaGpz/MUBdgJhvNwMyQOhIs2b5BzJAkpf+Kq0EMkC0xo5bpP4xQMk3WtImAzJAQaGpFnMGMkCrkue/jwUyQNXrR9zuATJAG5v8i8gHMkDynvJi3AEyQIL/rk2P/zFAYQpO1BkHMkBpIzkriwEyQK0Fio9FBDJACyOAumkCMkA5RJaumgQyQG1wVYi+BTJA2uo3lSkHMkDmaqEGZgEyQCRtRdrPAzJA/umjTY4DMkDYPXlI6QIyQPUWtx8hBjJAhDOGMPYHMkAq4DaARQIyQAq3ouWJAjJAoOfP2XsFMkCHB5p6a/8xQMvMacnL/jFAxnDweTkBMkAspte0GgcyQKetW3cXBjJAWoYclDsBMkDT5OOLOP8xQM+HWefMBTJAZUkDy44CMkBUy40RxgAyQFgOgaf9BDJApnuo8WcDMkCtsdD0tgIyQH3FY2bj/zFAOzUh2nIHMkACa/q1YAYyQDs29GulBzJAdQ6/qK3/MUAwy4xRDAQyQNfGXHmhADJAgY/KoqoKMkDt3gl/pQkyQPpC0Ym6CzJAyCmuUfgMMkA3ZBU0oAsyQOXnORBpCTJAJ17+n30KMkBKFNie1wwyQCdMqXUFDTJAJLznCcwQMkCkAv6CMwwyQDmUcXf4DjJARegs7AkLMkBGqg+a7g0yQIdO6n/zDTJAuY64WHAPMkAX2bsirg8yQJTHvmJ3DDJAjI4mYpQNMkBks9P7NQwyQPLu3FGsDjJAFhij320OMkA2A7/lTAsyQOQn2NHTDTJAgngYBLYPMkC14nGC6QgyQM4F55jDDzJAG38mBhELMkAo78rFPQwyQNCBCblhDjJAvtGqU6ERMkCGJOCPRA4yQEZ2/codEDJAwVYXaLsMMkABNXGf8ggyQOUA8etiDjJAk9CUskAMMkDO0hPwjQsyQPTs8DIDETJAR/+GlE4NMkCQHihPOwwyQN0O1AkRCjJAaiCtjGQMMkDkd/qlywwyQDmcDpykDDJAyjH/B5wQMkCsZ0DCVgsyQEtUiiEJEDJAfxJxP88MMkCjvRpDkgkyQEsPyrSNDzJAOoI3qTcNMkDcGItmLw0yQPAsylAWCTJA+wWyQIIOMkAIgERLgxMyQFjJG1eAFTJAss5Ye6gTMkBpXri1dRoyQKcehGcZGDJA9l1Fej4aMkAeg+j0JxUyQEbicvLwFzJAVKV0vf8aMkCozHKXRBkyQHKYevn6GDJAzCVqKVgSMkD+TFhyTxIyQMbFAauAGTJA+Or9JYYTMkAa8GMAQBoyQALEKsgBEzJAlL3Xiy8TMkDHQlnYdhIyQJdRqA56FzJAbFOp7MkXMkBAz6ITNxkyQM8ZOP5FGjJA0EQN8RUXMkAsgb4arBgyQNwSTZDCFzJAXZg5TlgWMkBSiYxt9BUyQL6ar/R2EzJA86I3DbcaMkACql2voRQyQJPgmYYGFjJAEzEisBEXMkDWL86FAxUyQOPaaNAIEjJAElqnEYkUMkDZDI+xNhsyQO+O9MqDEzJAaTTz2bMaMkBoRYWSGxUyQGhxwdvLGjJAY//igG8ZMkCb7YPk3BcyQAYmTwYjFDJA9f/AEs8VMkC2aKi+lhUyQDUbH9reFzJAh9NAsJcTMkBpL3EQ+BIyQEqQN8qbFzJA7S3uVy4ZMkB/PTl0ZxgyQJ9cGtmGGTJAWQnjKKAWMkD5+bDFZhIyQNkfKHKdEjJAqs4OVfciMkDH4Py9+CMyQHh0BlzAIjJAJPeG9e4bMkCF41cdaxsyQIo43XM5HjJAxawTiO4iMkB+BDabCh8yQMYSlCm0IzJAYzJWSm0kMkDwPht2pCQyQP8/5tzLIDJATalfxMEkMkBz8lPM3R0yQB3zWghgHTJAU2/GW9kkMkDue/h7vSIyQAYzcqpuIjJA6r6TkPwgMkBDTtMNWyQyQJ/qPmTtHzJAByeh5vYfMkCrm4bZcCMyQN+JRVRcIzJAapfwhm4iMkDscFGB6CAyQMnTuU60IzJAQAbNrzwdMkD9dJpYrCIyQDiGhpTSHTJAkO0yCKYjMkArJapHWR0yQF5z3xIYHTJAkaroT5giMkBXZ2aVMR4yQNBTZER/GzJAWVgaNLoeMkCnVTW8vBwyQP6H/WnUHjJAL+oLyYggMkCTjqxxBBwyQJkzLB3FHTJAKyZknTkcMkCdlOQoiR8yQPk7A/34GzJACUJmfnYhMkAyDwwYpCMyQLsmnC0SJTJAjmwI65MlMkA1aTNvkSwyQK6RRVPAJjJAT+wuA0AoMkAX4kT8+ioyQOCMa5GgJjJA3ONFx6clMkAOUGzqsCcyQAFcwkSvKjJAKtnLOa0rMkBURN8hLykyQAWpWsOoKTJAmWzX8QwmMkAqb15z5CUyQI2y9VuqKDJAZM9E4JQlMkAQzo6dHC0yQIJFbQvDKTJA9igLwo8oMkC7c+O75ysyQIV6rWOoJjJAFQO+jzwtMkBg7Iu3CSkyQD23fZkyLjJAHsTZKyUpMkDxSInCeSUyQGQE+f1RKDJAkyxBgw0oMkDm00s2SC4yQJKh7vRfKzJAGg0gDsopMkCGEnsx6CYyQJNqegrIJTJAandQTCctMkAPdNjl7CkyQNs5utPrJzJAprmBJsclMkB7J3zCoCgyQJkzxbyELTJApYpIBL0oMkAoHW59iSoyQGzEIvK5LzJA5OaqFpYuMkBpo+jpDTMyQMSSzPdtMDJA+DzXjy00MkCtnk3nKzcyQOdwZwVqNzJA/MvtZg0yMkCYXy89JzQyQC39T/hwLzJAk0nsL7w3MkAzJTmB7S4yQKaqPA1wMTJAS45AyrU3MkDgQd/EpDIyQBjbFVDKMDJAKrtV4dsxMkCFXEwQ9jMyQBjBOQEsNjJAUB6u8oQwMkCM+uXqFTYyQP7FSMhUNDJAmvGRsvU0MkAh9UC3wTAyQLHLaWjtMjJAWZil1vUuMkC4J5Y3cDYyQL6STtHcMTJA8zOMOk0xMkANFKSl6TEyQIYTSMXALjJAqoXS+5IxMkAYoimNLy8yQFj2e7fJNTJAzMLhGLI0MkCONi9xojEyQEQxIz76LzJAlMpW0Rk3MkBmcu2O1i8yQH570MFKNzJAkhD+M7cuMkBsIll4bDUyQCjAwxgdODJAd/MxEAE1MkDYykacJTcyQCb0KZ26NjJANmjAKzI0MkBqQ+G+mDYyQC+xM2WnLzJAR6mxfhA3MkDBxVwjUjIyQIYOqf4bPTJAip0isTM4MkAVbqbBmj8yQB6QStI3OjJAU1GtHCQ7MkC5vULE0j0yQAEzNW44QTJADqy5VQRAMkABbhW1GDoyQEj7FRU4PzJA6RAZN5M+MkDaBCJCAUEyQB9s7qXyOTJAW6C2Qj8/MkBnXPuE6zsyQFKPaNxnPDJA0TCNTCA+MkCO3ordZjoyQLqy7RD4OjJAkoOQETxBMkCWd4euFj8yQFf+w+ubQDJAxwYv1kZAMkAHT0tutT4yQAglknAYQTJAxgnAwQI7MkCa9XSt2j0yQCAsE4nDPzJAPhmBPos7MkAyQDyVzTsyQGQcnKsbQDJAbaiXANNAMkC5vNRPbzsyQJz9hx06ODJAAQl4j4I5MkDH30CT3jsyQH9b/+DgODJAkploiaQ+MkAOzSrhFUEyQF4FL0rCOjJAsSQJhPBAMkCsHFqdojoyQCosTNBgODJAHESsmzg5MkABiM/T7jkyQDJng25nOzJAwpAvqbVBMkCIRlTuHTkyQNJ4KSR7OTJA2GNxXDVHMkDgJGWIGEsyQADncyZGRDJAk41snZRKMkDwmceVBkgyQIPUd0EWSjJA81ED9U1LMkAJwT5opUkyQLSCqttpRDJA4n6v259IMkCAUG218kQyQBryy+20SDJAo6VP/jlGMkBlKqVEA0kyQBq0E4hBQjJALAJ4/h9DMkBoEmvyT0oyQPKYAH/gRzJAMnVctg5DMkDClblh+0UyQNzx9r3iRTJAY6ijWkdJMkBcoOiV8koyQIDUZr4URzJAlRF81GdDMkB3tR3NBEYyQCncKWg4SzJATfxH+DVGMkBpwLdUDEsyQPD9ZotfQjJAKntlS1xIMkCC/bT3VkcyQInj2SD+QTJAzvs/HjZLMkDlVF6c00EyQOoS6C+ERjJAE07N5yZIMkCe0xFeGEUyQPCQjammUTJAisMgaydUMkBqltHV0VEyQCvEHXgvTTJARURzca1RMkB5rNGtv0wyQDahfeaMSzJAzhGD7q9MMkCD7Ga96EsyQJtrJRyTTDJAG67nPgVOMkBZlNNxzVEyQLaWaZvATDJAW8QbskNRMkDqh5zs8E8yQHKqvcw2UDJAfqd04vxPMkAGF+uAMlIyQKbDRQg6VDJAyLiw5SBOMkCtWzCf/k4yQOfVjfCkSzJAwAn2kl1MMkD3xk+XTU8yQNA66A/2UDJARiV6VRdQMkCy5VPhPVMyQDwLZ3ywTzJASjgzULxNMkAJspv0L1EyQBExLf3cTTJA9vD/hctTMkBkKrsgklIyQEvYkj3MUTJAktNWHQ9SMkA+0WNTXVAyQICc+/UOTDJADoDQzwlMMkCvR+d2iksyQN3+AkPhUTJAUfYqKyBaMkCyBU0QGFgyQK3FI6W5VjJAcmKEbi9dMkC3KgT0DVkyQLbwN6orVzJA4FusxGJbMkCJU3/S+1gyQHORReg4WjJA+nDSCWBbMkCWTEhDE1syQI8c7mo9WzJAP1AZnGdVMkDf7kLy4VwyQEOpVocXWDJAFcd2xGlXMkDY8YxaEF4yQAJ4g/PTXTJAHq4uuSxeMkDi2sxJ+1kyQPwl91+zWDJAt0b8hKdZMkCqco2tA1oyQGwU6EhTWDJAb2Kgs/RWMkCkEjCN91cyQIocboOgVTJAypb6ny1VMkAS3mjq/FoyQDAG3NUHXzJALJKpCv1fMkBJtbbbyV4yQNvl+SlXYjJAel6WClBhMkBo9suh9WAyQOYtSAqMZjJAQRHUsEFgMkCGyfKgLmIyQC2FRqTHYzJAh5/9rWNgMkDREL6B6WMyQEJl6Gn9XzJAiuRHjbFeMkDQhQJf+2YyQMq3ZHYiXzJAJhpS3BZmMkCiQeG8FWQyQBbMPmpGZjJAce49zLxjMkDaGvIcSmcyQCebAUSBYzJA+8ss3J9hMkAInZvchV4yQGq1WXTxXjJArvQewq9eMkDO5oDk2WsyQJIKN7lIcDJAwgbnnGhtMkDFQemoYGkyQPhePa+9ajJAVva9D79sMkCZw/aMdmoyQCo0dzBXcTJAwzT86r5yMkBNKn6RFXkyQL+OMrxIdjJAbeAbmHB1MkBpoMEoXnUyQK3xbBy5ejJAKIRMhLp2MkDgbLa4f3IyQAArrbUgeTJAmg3thxJ4MkCdPnVC+YAyQOr5piOefDJA8qai+4R9MkAR625ZnX0yQK8w4n0BfDJANaDizfuLMkBI+9WA+owyQPXEaS0WjzJArx9LDpyXMkCdjVwWR5YyQBYdqaGsoDJAASRcFM+nMkCKw2Erx7QyQIFTTmN5vjJA\",\"dtype\":\"float64\",\"shape\":[1017]},\"y\":{\"__ndarray__\":\"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\",\"dtype\":\"float64\",\"shape\":[1017]}},\"selected\":{\"id\":\"1172\",\"type\":\"Selection\"},\"selection_policy\":{\"id\":\"1173\",\"type\":\"UnionRenderers\"}},\"id\":\"1139\",\"type\":\"ColumnDataSource\"},{\"attributes\":{\"fill_alpha\":{\"value\":0.1},\"fill_color\":{\"value\":\"#1f77b4\"},\"line_alpha\":{\"value\":0.1},\"line_color\":{\"value\":\"#1f77b4\"},\"x\":{\"field\":\"x\"},\"y\":{\"field\":\"y\"}},\"id\":\"1151\",\"type\":\"Circle\"},{\"attributes\":{\"label\":{\"value\":\"false\"},\"renderers\":[{\"id\":\"1146\",\"type\":\"GlyphRenderer\"}]},\"id\":\"1153\",\"type\":\"LegendItem\"},{\"attributes\":{},\"id\":\"1168\",\"type\":\"BasicTickFormatter\"},{\"attributes\":{},\"id\":\"1110\",\"type\":\"LinearScale\"}],\"root_ids\":[\"1104\"]},\"title\":\"Bokeh Application\",\"version\":\"1.4.0\"}};\n",
       "  var render_items = [{\"docid\":\"d5a67aa9-3619-40d8-8d19-d41fa0b2d996\",\"roots\":{\"1104\":\"0d0c5d94-3e86-45e4-ace7-df6dd3cf51df\"}}];\n",
       "  root.Bokeh.embed.embed_items_notebook(docs_json, render_items);\n",
       "\n",
       "  }\n",
       "  if (root.Bokeh !== undefined) {\n",
       "    embed_document(root);\n",
       "  } else {\n",
       "    var attempts = 0;\n",
       "    var timer = setInterval(function(root) {\n",
       "      if (root.Bokeh !== undefined) {\n",
       "        clearInterval(timer);\n",
       "        embed_document(root);\n",
       "      } else {\n",
       "        attempts++;\n",
       "        if (attempts > 100) {\n",
       "          clearInterval(timer);\n",
       "          console.log(\"Bokeh: ERROR: Unable to run BokehJS code because BokehJS library is missing\");\n",
       "        }\n",
       "      }\n",
       "    }, 10, root)\n",
       "  }\n",
       "})(window);"
      ],
      "application/vnd.bokehjs_exec.v0+json": ""
     },
     "metadata": {
      "application/vnd.bokehjs_exec.v0+json": {
       "id": "1104"
      }
     },
     "output_type": "display_data"
    }
   ],
   "source": [
    "p = hl.plot.scatter(mt1.col.het,1-mt1.col.sample_qc.call_rate,\n",
    "                    xlabel = \"Heterozygosity rate\",ylabel= \"Missing rate\",\n",
    "                    label=mt1.col.sample_qc.call_rate <= 0.97)\n",
    "show(p)"
   ]
  },
  {
   "cell_type": "code",
   "execution_count": 17,
   "id": "e7c53b71-22bb-4646-b8ab-6a7711bcc164",
   "metadata": {},
   "outputs": [
    {
     "name": "stdout",
     "output_type": "stream",
     "text": [
      "Before filter, 1864 samples.\n"
     ]
    },
    {
     "name": "stderr",
     "output_type": "stream",
     "text": [
      "2023-02-24 10:24:12.215 Hail: INFO: Ordering unsorted dataset with network shuffle\n",
      "2023-02-24 10:24:13.495 Hail: INFO: Coerced sorted dataset          (0 + 1) / 1]\n",
      "2023-02-24 10:24:21.385 Hail: INFO: Ordering unsorted dataset with network shuffle\n",
      "[Stage 85:===========================================>            (18 + 5) / 23]\r"
     ]
    },
    {
     "name": "stdout",
     "output_type": "stream",
     "text": [
      "After filter, 1863 samples remain.\n"
     ]
    }
   ],
   "source": [
    "print('Before filter, %d samples.' % mt.count_cols())\n",
    "mt = mt.filter_cols((mt.sample_qc.call_rate >= 0.97))\n",
    "#mt = mt.filter_cols((mt.sample_qc.dp_stats.mean >= 4) & (mt.sample_qc.call_rate >= 0.97))\n",
    "print('After filter, %d samples remain.' % mt.count_cols())"
   ]
  },
  {
   "cell_type": "code",
   "execution_count": 18,
   "id": "05905e2d-8b27-4c47-abbb-a758be775340",
   "metadata": {},
   "outputs": [
    {
     "name": "stderr",
     "output_type": "stream",
     "text": [
      "2023-02-24 10:24:46.462 Hail: INFO: Ordering unsorted dataset with network shuffle\n",
      "2023-02-24 10:24:47.959 Hail: INFO: Coerced sorted dataset          (0 + 1) / 1]\n",
      "2023-02-24 10:24:56.063 Hail: INFO: Ordering unsorted dataset with network shuffle\n",
      "2023-02-24 10:25:18.986 Hail: INFO: Ordering unsorted dataset with network shuffle\n",
      "2023-02-24 10:25:20.387 Hail: INFO: Coerced sorted dataset          (0 + 1) / 1]\n",
      "2023-02-24 10:25:28.791 Hail: INFO: Ordering unsorted dataset with network shuffle\n",
      "2023-02-24 10:25:49.221 Hail: INFO: hwe_normalize: found 719577 variants after filtering out monomorphic sites.\n",
      "2023-02-24 10:25:53.902 Hail: INFO: Ordering unsorted dataset with network shuffle\n",
      "2023-02-24 10:25:55.280 Hail: INFO: Coerced sorted dataset          (0 + 1) / 1]\n",
      "2023-02-24 10:26:02.902 Hail: INFO: Ordering unsorted dataset with network shuffle\n",
      "2023-02-24 10:26:28.291 Hail: INFO: Ordering unsorted dataset with network shuffle\n",
      "2023-02-24 10:26:29.729 Hail: INFO: Coerced sorted dataset          (0 + 1) / 1]\n",
      "2023-02-24 10:26:52.453 Hail: INFO: Ordering unsorted dataset with network shuffle\n",
      "2023-02-24 10:27:15.302 Hail: INFO: pca: running PCA with 10 components... / 23]\n",
      "[Stage 334:===================>                                    (8 + 8) / 23]\r"
     ]
    },
    {
     "ename": "KeyboardInterrupt",
     "evalue": "",
     "output_type": "error",
     "traceback": [
      "\u001b[0;31m---------------------------------------------------------------------------\u001b[0m",
      "\u001b[0;31mKeyboardInterrupt\u001b[0m                         Traceback (most recent call last)",
      "Cell \u001b[0;32mIn[18], line 1\u001b[0m\n\u001b[0;32m----> 1\u001b[0m eigenvalues, pcs, _ \u001b[38;5;241m=\u001b[39m \u001b[43mhl\u001b[49m\u001b[38;5;241;43m.\u001b[39;49m\u001b[43mhwe_normalized_pca\u001b[49m\u001b[43m(\u001b[49m\u001b[43mmt\u001b[49m\u001b[38;5;241;43m.\u001b[39;49m\u001b[43mGT\u001b[49m\u001b[43m)\u001b[49m\n",
      "File \u001b[0;32m<decorator-gen-1688>:2\u001b[0m, in \u001b[0;36mhwe_normalized_pca\u001b[0;34m(call_expr, k, compute_loadings)\u001b[0m\n",
      "File \u001b[0;32m/opt/homebrew/lib/python3.9/site-packages/hail/typecheck/check.py:577\u001b[0m, in \u001b[0;36m_make_dec.<locals>.wrapper\u001b[0;34m(__original_func, *args, **kwargs)\u001b[0m\n\u001b[1;32m    574\u001b[0m \u001b[38;5;129m@decorator\u001b[39m\n\u001b[1;32m    575\u001b[0m \u001b[38;5;28;01mdef\u001b[39;00m \u001b[38;5;21mwrapper\u001b[39m(__original_func, \u001b[38;5;241m*\u001b[39margs, \u001b[38;5;241m*\u001b[39m\u001b[38;5;241m*\u001b[39mkwargs):\n\u001b[1;32m    576\u001b[0m     args_, kwargs_ \u001b[38;5;241m=\u001b[39m check_all(__original_func, args, kwargs, checkers, is_method\u001b[38;5;241m=\u001b[39mis_method)\n\u001b[0;32m--> 577\u001b[0m     \u001b[38;5;28;01mreturn\u001b[39;00m \u001b[43m__original_func\u001b[49m\u001b[43m(\u001b[49m\u001b[38;5;241;43m*\u001b[39;49m\u001b[43margs_\u001b[49m\u001b[43m,\u001b[49m\u001b[43m \u001b[49m\u001b[38;5;241;43m*\u001b[39;49m\u001b[38;5;241;43m*\u001b[39;49m\u001b[43mkwargs_\u001b[49m\u001b[43m)\u001b[49m\n",
      "File \u001b[0;32m/opt/homebrew/lib/python3.9/site-packages/hail/methods/pca.py:100\u001b[0m, in \u001b[0;36mhwe_normalized_pca\u001b[0;34m(call_expr, k, compute_loadings)\u001b[0m\n\u001b[1;32m     97\u001b[0m \u001b[38;5;28;01mif\u001b[39;00m \u001b[38;5;28misinstance\u001b[39m(hl\u001b[38;5;241m.\u001b[39mcurrent_backend(), ServiceBackend):\n\u001b[1;32m     98\u001b[0m     \u001b[38;5;28;01mreturn\u001b[39;00m _hwe_normalized_blanczos(call_expr, k, compute_loadings)\n\u001b[0;32m--> 100\u001b[0m \u001b[38;5;28;01mreturn\u001b[39;00m \u001b[43mpca\u001b[49m\u001b[43m(\u001b[49m\u001b[43mhwe_normalize\u001b[49m\u001b[43m(\u001b[49m\u001b[43mcall_expr\u001b[49m\u001b[43m)\u001b[49m\u001b[43m,\u001b[49m\n\u001b[1;32m    101\u001b[0m \u001b[43m           \u001b[49m\u001b[43mk\u001b[49m\u001b[43m,\u001b[49m\n\u001b[1;32m    102\u001b[0m \u001b[43m           \u001b[49m\u001b[43mcompute_loadings\u001b[49m\u001b[43m)\u001b[49m\n",
      "File \u001b[0;32m<decorator-gen-1690>:2\u001b[0m, in \u001b[0;36mpca\u001b[0;34m(entry_expr, k, compute_loadings)\u001b[0m\n",
      "File \u001b[0;32m/opt/homebrew/lib/python3.9/site-packages/hail/typecheck/check.py:577\u001b[0m, in \u001b[0;36m_make_dec.<locals>.wrapper\u001b[0;34m(__original_func, *args, **kwargs)\u001b[0m\n\u001b[1;32m    574\u001b[0m \u001b[38;5;129m@decorator\u001b[39m\n\u001b[1;32m    575\u001b[0m \u001b[38;5;28;01mdef\u001b[39;00m \u001b[38;5;21mwrapper\u001b[39m(__original_func, \u001b[38;5;241m*\u001b[39margs, \u001b[38;5;241m*\u001b[39m\u001b[38;5;241m*\u001b[39mkwargs):\n\u001b[1;32m    576\u001b[0m     args_, kwargs_ \u001b[38;5;241m=\u001b[39m check_all(__original_func, args, kwargs, checkers, is_method\u001b[38;5;241m=\u001b[39mis_method)\n\u001b[0;32m--> 577\u001b[0m     \u001b[38;5;28;01mreturn\u001b[39;00m \u001b[43m__original_func\u001b[49m\u001b[43m(\u001b[49m\u001b[38;5;241;43m*\u001b[39;49m\u001b[43margs_\u001b[49m\u001b[43m,\u001b[49m\u001b[43m \u001b[49m\u001b[38;5;241;43m*\u001b[39;49m\u001b[38;5;241;43m*\u001b[39;49m\u001b[43mkwargs_\u001b[49m\u001b[43m)\u001b[49m\n",
      "File \u001b[0;32m/opt/homebrew/lib/python3.9/site-packages/hail/methods/pca.py:205\u001b[0m, in \u001b[0;36mpca\u001b[0;34m(entry_expr, k, compute_loadings)\u001b[0m\n\u001b[1;32m    202\u001b[0m     mt \u001b[38;5;241m=\u001b[39m mt\u001b[38;5;241m.\u001b[39mselect_entries(\u001b[38;5;241m*\u001b[39m\u001b[38;5;241m*\u001b[39m{field: entry_expr})\n\u001b[1;32m    203\u001b[0m mt \u001b[38;5;241m=\u001b[39m mt\u001b[38;5;241m.\u001b[39mselect_cols()\u001b[38;5;241m.\u001b[39mselect_rows()\u001b[38;5;241m.\u001b[39mselect_globals()\n\u001b[0;32m--> 205\u001b[0m t \u001b[38;5;241m=\u001b[39m (\u001b[43mTable\u001b[49m\u001b[43m(\u001b[49m\u001b[43mir\u001b[49m\u001b[38;5;241;43m.\u001b[39;49m\u001b[43mMatrixToTableApply\u001b[49m\u001b[43m(\u001b[49m\u001b[43mmt\u001b[49m\u001b[38;5;241;43m.\u001b[39;49m\u001b[43m_mir\u001b[49m\u001b[43m,\u001b[49m\u001b[43m \u001b[49m\u001b[43m{\u001b[49m\n\u001b[1;32m    206\u001b[0m \u001b[43m    \u001b[49m\u001b[38;5;124;43m'\u001b[39;49m\u001b[38;5;124;43mname\u001b[39;49m\u001b[38;5;124;43m'\u001b[39;49m\u001b[43m:\u001b[49m\u001b[43m \u001b[49m\u001b[38;5;124;43m'\u001b[39;49m\u001b[38;5;124;43mPCA\u001b[39;49m\u001b[38;5;124;43m'\u001b[39;49m\u001b[43m,\u001b[49m\n\u001b[1;32m    207\u001b[0m \u001b[43m    \u001b[49m\u001b[38;5;124;43m'\u001b[39;49m\u001b[38;5;124;43mentryField\u001b[39;49m\u001b[38;5;124;43m'\u001b[39;49m\u001b[43m:\u001b[49m\u001b[43m \u001b[49m\u001b[43mfield\u001b[49m\u001b[43m,\u001b[49m\n\u001b[1;32m    208\u001b[0m \u001b[43m    \u001b[49m\u001b[38;5;124;43m'\u001b[39;49m\u001b[38;5;124;43mk\u001b[39;49m\u001b[38;5;124;43m'\u001b[39;49m\u001b[43m:\u001b[49m\u001b[43m \u001b[49m\u001b[43mk\u001b[49m\u001b[43m,\u001b[49m\n\u001b[1;32m    209\u001b[0m \u001b[43m    \u001b[49m\u001b[38;5;124;43m'\u001b[39;49m\u001b[38;5;124;43mcomputeLoadings\u001b[39;49m\u001b[38;5;124;43m'\u001b[39;49m\u001b[43m:\u001b[49m\u001b[43m \u001b[49m\u001b[43mcompute_loadings\u001b[49m\n\u001b[1;32m    210\u001b[0m \u001b[43m\u001b[49m\u001b[43m}\u001b[49m\u001b[43m)\u001b[49m\u001b[43m)\u001b[49m\u001b[38;5;241;43m.\u001b[39;49m\u001b[43mpersist\u001b[49m\u001b[43m(\u001b[49m\u001b[43m)\u001b[49m)\n\u001b[1;32m    212\u001b[0m g \u001b[38;5;241m=\u001b[39m t\u001b[38;5;241m.\u001b[39mindex_globals()\n\u001b[1;32m    213\u001b[0m scores \u001b[38;5;241m=\u001b[39m hl\u001b[38;5;241m.\u001b[39mTable\u001b[38;5;241m.\u001b[39mparallelize(g\u001b[38;5;241m.\u001b[39mscores, key\u001b[38;5;241m=\u001b[39m\u001b[38;5;28mlist\u001b[39m(mt\u001b[38;5;241m.\u001b[39mcol_key))\n",
      "File \u001b[0;32m<decorator-gen-1110>:2\u001b[0m, in \u001b[0;36mpersist\u001b[0;34m(self, storage_level)\u001b[0m\n",
      "File \u001b[0;32m/opt/homebrew/lib/python3.9/site-packages/hail/typecheck/check.py:577\u001b[0m, in \u001b[0;36m_make_dec.<locals>.wrapper\u001b[0;34m(__original_func, *args, **kwargs)\u001b[0m\n\u001b[1;32m    574\u001b[0m \u001b[38;5;129m@decorator\u001b[39m\n\u001b[1;32m    575\u001b[0m \u001b[38;5;28;01mdef\u001b[39;00m \u001b[38;5;21mwrapper\u001b[39m(__original_func, \u001b[38;5;241m*\u001b[39margs, \u001b[38;5;241m*\u001b[39m\u001b[38;5;241m*\u001b[39mkwargs):\n\u001b[1;32m    576\u001b[0m     args_, kwargs_ \u001b[38;5;241m=\u001b[39m check_all(__original_func, args, kwargs, checkers, is_method\u001b[38;5;241m=\u001b[39mis_method)\n\u001b[0;32m--> 577\u001b[0m     \u001b[38;5;28;01mreturn\u001b[39;00m \u001b[43m__original_func\u001b[49m\u001b[43m(\u001b[49m\u001b[38;5;241;43m*\u001b[39;49m\u001b[43margs_\u001b[49m\u001b[43m,\u001b[49m\u001b[43m \u001b[49m\u001b[38;5;241;43m*\u001b[39;49m\u001b[38;5;241;43m*\u001b[39;49m\u001b[43mkwargs_\u001b[49m\u001b[43m)\u001b[49m\n",
      "File \u001b[0;32m/opt/homebrew/lib/python3.9/site-packages/hail/table.py:2068\u001b[0m, in \u001b[0;36mTable.persist\u001b[0;34m(self, storage_level)\u001b[0m\n\u001b[1;32m   2032\u001b[0m \u001b[38;5;129m@typecheck_method\u001b[39m(storage_level\u001b[38;5;241m=\u001b[39mstorage_level)\n\u001b[1;32m   2033\u001b[0m \u001b[38;5;28;01mdef\u001b[39;00m \u001b[38;5;21mpersist\u001b[39m(\u001b[38;5;28mself\u001b[39m, storage_level\u001b[38;5;241m=\u001b[39m\u001b[38;5;124m'\u001b[39m\u001b[38;5;124mMEMORY_AND_DISK\u001b[39m\u001b[38;5;124m'\u001b[39m) \u001b[38;5;241m-\u001b[39m\u001b[38;5;241m>\u001b[39m \u001b[38;5;124m'\u001b[39m\u001b[38;5;124mTable\u001b[39m\u001b[38;5;124m'\u001b[39m:\n\u001b[1;32m   2034\u001b[0m     \u001b[38;5;124;03m\"\"\"Persist this table in memory or on disk.\u001b[39;00m\n\u001b[1;32m   2035\u001b[0m \n\u001b[1;32m   2036\u001b[0m \u001b[38;5;124;03m    Examples\u001b[39;00m\n\u001b[0;32m   (...)\u001b[0m\n\u001b[1;32m   2066\u001b[0m \u001b[38;5;124;03m        Persisted table.\u001b[39;00m\n\u001b[1;32m   2067\u001b[0m \u001b[38;5;124;03m    \"\"\"\u001b[39;00m\n\u001b[0;32m-> 2068\u001b[0m     \u001b[38;5;28;01mreturn\u001b[39;00m \u001b[43mEnv\u001b[49m\u001b[38;5;241;43m.\u001b[39;49m\u001b[43mbackend\u001b[49m\u001b[43m(\u001b[49m\u001b[43m)\u001b[49m\u001b[38;5;241;43m.\u001b[39;49m\u001b[43mpersist_table\u001b[49m\u001b[43m(\u001b[49m\u001b[38;5;28;43mself\u001b[39;49m\u001b[43m)\u001b[49m\n",
      "File \u001b[0;32m/opt/homebrew/lib/python3.9/site-packages/hail/backend/backend.py:133\u001b[0m, in \u001b[0;36mBackend.persist_table\u001b[0;34m(self, t)\u001b[0m\n\u001b[1;32m    131\u001b[0m tf \u001b[38;5;241m=\u001b[39m TemporaryFilename(prefix\u001b[38;5;241m=\u001b[39m\u001b[38;5;124m'\u001b[39m\u001b[38;5;124mpersist_table\u001b[39m\u001b[38;5;124m'\u001b[39m)\n\u001b[1;32m    132\u001b[0m \u001b[38;5;28mself\u001b[39m\u001b[38;5;241m.\u001b[39m_persisted_locations[t] \u001b[38;5;241m=\u001b[39m tf\n\u001b[0;32m--> 133\u001b[0m \u001b[38;5;28;01mreturn\u001b[39;00m \u001b[43mt\u001b[49m\u001b[38;5;241;43m.\u001b[39;49m\u001b[43mcheckpoint\u001b[49m\u001b[43m(\u001b[49m\u001b[43mtf\u001b[49m\u001b[38;5;241;43m.\u001b[39;49m\u001b[38;5;21;43m__enter__\u001b[39;49m\u001b[43m(\u001b[49m\u001b[43m)\u001b[49m\u001b[43m)\u001b[49m\n",
      "File \u001b[0;32m<decorator-gen-1100>:2\u001b[0m, in \u001b[0;36mcheckpoint\u001b[0;34m(self, output, overwrite, stage_locally, _codec_spec, _read_if_exists, _intervals, _filter_intervals)\u001b[0m\n",
      "File \u001b[0;32m/opt/homebrew/lib/python3.9/site-packages/hail/typecheck/check.py:577\u001b[0m, in \u001b[0;36m_make_dec.<locals>.wrapper\u001b[0;34m(__original_func, *args, **kwargs)\u001b[0m\n\u001b[1;32m    574\u001b[0m \u001b[38;5;129m@decorator\u001b[39m\n\u001b[1;32m    575\u001b[0m \u001b[38;5;28;01mdef\u001b[39;00m \u001b[38;5;21mwrapper\u001b[39m(__original_func, \u001b[38;5;241m*\u001b[39margs, \u001b[38;5;241m*\u001b[39m\u001b[38;5;241m*\u001b[39mkwargs):\n\u001b[1;32m    576\u001b[0m     args_, kwargs_ \u001b[38;5;241m=\u001b[39m check_all(__original_func, args, kwargs, checkers, is_method\u001b[38;5;241m=\u001b[39mis_method)\n\u001b[0;32m--> 577\u001b[0m     \u001b[38;5;28;01mreturn\u001b[39;00m \u001b[43m__original_func\u001b[49m\u001b[43m(\u001b[49m\u001b[38;5;241;43m*\u001b[39;49m\u001b[43margs_\u001b[49m\u001b[43m,\u001b[49m\u001b[43m \u001b[49m\u001b[38;5;241;43m*\u001b[39;49m\u001b[38;5;241;43m*\u001b[39;49m\u001b[43mkwargs_\u001b[49m\u001b[43m)\u001b[49m\n",
      "File \u001b[0;32m/opt/homebrew/lib/python3.9/site-packages/hail/table.py:1291\u001b[0m, in \u001b[0;36mTable.checkpoint\u001b[0;34m(self, output, overwrite, stage_locally, _codec_spec, _read_if_exists, _intervals, _filter_intervals)\u001b[0m\n\u001b[1;32m   1275\u001b[0m             _codec_spec \u001b[38;5;241m=\u001b[39m \u001b[38;5;124m\"\"\"\u001b[39m\u001b[38;5;124m{\u001b[39m\n\u001b[1;32m   1276\u001b[0m \u001b[38;5;124m  \u001b[39m\u001b[38;5;124m\"\u001b[39m\u001b[38;5;124mname\u001b[39m\u001b[38;5;124m\"\u001b[39m\u001b[38;5;124m: \u001b[39m\u001b[38;5;124m\"\u001b[39m\u001b[38;5;124mLEB128BufferSpec\u001b[39m\u001b[38;5;124m\"\u001b[39m\u001b[38;5;124m,\u001b[39m\n\u001b[1;32m   1277\u001b[0m \u001b[38;5;124m  \u001b[39m\u001b[38;5;124m\"\u001b[39m\u001b[38;5;124mchild\u001b[39m\u001b[38;5;124m\"\u001b[39m\u001b[38;5;124m: \u001b[39m\u001b[38;5;124m{\u001b[39m\n\u001b[0;32m   (...)\u001b[0m\n\u001b[1;32m   1287\u001b[0m \u001b[38;5;124m  }\u001b[39m\n\u001b[1;32m   1288\u001b[0m \u001b[38;5;124m}\u001b[39m\u001b[38;5;124m\"\"\"\u001b[39m\n\u001b[1;32m   1290\u001b[0m         \u001b[38;5;28;01mif\u001b[39;00m \u001b[38;5;129;01mnot\u001b[39;00m _read_if_exists \u001b[38;5;129;01mor\u001b[39;00m \u001b[38;5;129;01mnot\u001b[39;00m hl\u001b[38;5;241m.\u001b[39mhadoop_exists(\u001b[38;5;124mf\u001b[39m\u001b[38;5;124m'\u001b[39m\u001b[38;5;132;01m{\u001b[39;00moutput\u001b[38;5;132;01m}\u001b[39;00m\u001b[38;5;124m/_SUCCESS\u001b[39m\u001b[38;5;124m'\u001b[39m):\n\u001b[0;32m-> 1291\u001b[0m             \u001b[38;5;28;43mself\u001b[39;49m\u001b[38;5;241;43m.\u001b[39;49m\u001b[43mwrite\u001b[49m\u001b[43m(\u001b[49m\u001b[43moutput\u001b[49m\u001b[38;5;241;43m=\u001b[39;49m\u001b[43moutput\u001b[49m\u001b[43m,\u001b[49m\u001b[43m \u001b[49m\u001b[43moverwrite\u001b[49m\u001b[38;5;241;43m=\u001b[39;49m\u001b[43moverwrite\u001b[49m\u001b[43m,\u001b[49m\u001b[43m \u001b[49m\u001b[43mstage_locally\u001b[49m\u001b[38;5;241;43m=\u001b[39;49m\u001b[43mstage_locally\u001b[49m\u001b[43m,\u001b[49m\u001b[43m \u001b[49m\u001b[43m_codec_spec\u001b[49m\u001b[38;5;241;43m=\u001b[39;49m\u001b[43m_codec_spec\u001b[49m\u001b[43m)\u001b[49m\n\u001b[1;32m   1292\u001b[0m             _assert_type \u001b[38;5;241m=\u001b[39m \u001b[38;5;28mself\u001b[39m\u001b[38;5;241m.\u001b[39m_type\n\u001b[1;32m   1293\u001b[0m             _load_refs \u001b[38;5;241m=\u001b[39m \u001b[38;5;28;01mFalse\u001b[39;00m\n",
      "File \u001b[0;32m<decorator-gen-1102>:2\u001b[0m, in \u001b[0;36mwrite\u001b[0;34m(self, output, overwrite, stage_locally, _codec_spec)\u001b[0m\n",
      "File \u001b[0;32m/opt/homebrew/lib/python3.9/site-packages/hail/typecheck/check.py:577\u001b[0m, in \u001b[0;36m_make_dec.<locals>.wrapper\u001b[0;34m(__original_func, *args, **kwargs)\u001b[0m\n\u001b[1;32m    574\u001b[0m \u001b[38;5;129m@decorator\u001b[39m\n\u001b[1;32m    575\u001b[0m \u001b[38;5;28;01mdef\u001b[39;00m \u001b[38;5;21mwrapper\u001b[39m(__original_func, \u001b[38;5;241m*\u001b[39margs, \u001b[38;5;241m*\u001b[39m\u001b[38;5;241m*\u001b[39mkwargs):\n\u001b[1;32m    576\u001b[0m     args_, kwargs_ \u001b[38;5;241m=\u001b[39m check_all(__original_func, args, kwargs, checkers, is_method\u001b[38;5;241m=\u001b[39mis_method)\n\u001b[0;32m--> 577\u001b[0m     \u001b[38;5;28;01mreturn\u001b[39;00m \u001b[43m__original_func\u001b[49m\u001b[43m(\u001b[49m\u001b[38;5;241;43m*\u001b[39;49m\u001b[43margs_\u001b[49m\u001b[43m,\u001b[49m\u001b[43m \u001b[49m\u001b[38;5;241;43m*\u001b[39;49m\u001b[38;5;241;43m*\u001b[39;49m\u001b[43mkwargs_\u001b[49m\u001b[43m)\u001b[49m\n",
      "File \u001b[0;32m/opt/homebrew/lib/python3.9/site-packages/hail/table.py:1335\u001b[0m, in \u001b[0;36mTable.write\u001b[0;34m(self, output, overwrite, stage_locally, _codec_spec)\u001b[0m\n\u001b[1;32m   1305\u001b[0m \u001b[38;5;129m@typecheck_method\u001b[39m(output\u001b[38;5;241m=\u001b[39m\u001b[38;5;28mstr\u001b[39m,\n\u001b[1;32m   1306\u001b[0m                   overwrite\u001b[38;5;241m=\u001b[39m\u001b[38;5;28mbool\u001b[39m,\n\u001b[1;32m   1307\u001b[0m                   stage_locally\u001b[38;5;241m=\u001b[39m\u001b[38;5;28mbool\u001b[39m,\n\u001b[1;32m   1308\u001b[0m                   _codec_spec\u001b[38;5;241m=\u001b[39mnullable(\u001b[38;5;28mstr\u001b[39m))\n\u001b[1;32m   1309\u001b[0m \u001b[38;5;28;01mdef\u001b[39;00m \u001b[38;5;21mwrite\u001b[39m(\u001b[38;5;28mself\u001b[39m, output: \u001b[38;5;28mstr\u001b[39m, overwrite\u001b[38;5;241m=\u001b[39m\u001b[38;5;28;01mFalse\u001b[39;00m, stage_locally: \u001b[38;5;28mbool\u001b[39m \u001b[38;5;241m=\u001b[39m \u001b[38;5;28;01mFalse\u001b[39;00m,\n\u001b[1;32m   1310\u001b[0m           _codec_spec: Optional[\u001b[38;5;28mstr\u001b[39m] \u001b[38;5;241m=\u001b[39m \u001b[38;5;28;01mNone\u001b[39;00m):\n\u001b[1;32m   1311\u001b[0m     \u001b[38;5;124;03m\"\"\"Write to disk.\u001b[39;00m\n\u001b[1;32m   1312\u001b[0m \n\u001b[1;32m   1313\u001b[0m \u001b[38;5;124;03m    Examples\u001b[39;00m\n\u001b[0;32m   (...)\u001b[0m\n\u001b[1;32m   1332\u001b[0m \u001b[38;5;124;03m        If ``True``, overwrite an existing file at the destination.\u001b[39;00m\n\u001b[1;32m   1333\u001b[0m \u001b[38;5;124;03m    \"\"\"\u001b[39;00m\n\u001b[0;32m-> 1335\u001b[0m     \u001b[43mEnv\u001b[49m\u001b[38;5;241;43m.\u001b[39;49m\u001b[43mbackend\u001b[49m\u001b[43m(\u001b[49m\u001b[43m)\u001b[49m\u001b[38;5;241;43m.\u001b[39;49m\u001b[43mexecute\u001b[49m\u001b[43m(\u001b[49m\u001b[43mir\u001b[49m\u001b[38;5;241;43m.\u001b[39;49m\u001b[43mTableWrite\u001b[49m\u001b[43m(\u001b[49m\u001b[38;5;28;43mself\u001b[39;49m\u001b[38;5;241;43m.\u001b[39;49m\u001b[43m_tir\u001b[49m\u001b[43m,\u001b[49m\u001b[43m \u001b[49m\u001b[43mir\u001b[49m\u001b[38;5;241;43m.\u001b[39;49m\u001b[43mTableNativeWriter\u001b[49m\u001b[43m(\u001b[49m\u001b[43moutput\u001b[49m\u001b[43m,\u001b[49m\u001b[43m \u001b[49m\u001b[43moverwrite\u001b[49m\u001b[43m,\u001b[49m\u001b[43m \u001b[49m\u001b[43mstage_locally\u001b[49m\u001b[43m,\u001b[49m\u001b[43m \u001b[49m\u001b[43m_codec_spec\u001b[49m\u001b[43m)\u001b[49m\u001b[43m)\u001b[49m\u001b[43m)\u001b[49m\n",
      "File \u001b[0;32m/opt/homebrew/lib/python3.9/site-packages/hail/backend/py4j_backend.py:99\u001b[0m, in \u001b[0;36mPy4JBackend.execute\u001b[0;34m(self, ir, timed)\u001b[0m\n\u001b[1;32m     97\u001b[0m \u001b[38;5;66;03m# print(self._hail_package.expr.ir.Pretty.apply(jir, True, -1))\u001b[39;00m\n\u001b[1;32m     98\u001b[0m \u001b[38;5;28;01mtry\u001b[39;00m:\n\u001b[0;32m---> 99\u001b[0m     result_tuple \u001b[38;5;241m=\u001b[39m \u001b[38;5;28;43mself\u001b[39;49m\u001b[38;5;241;43m.\u001b[39;49m\u001b[43m_jbackend\u001b[49m\u001b[38;5;241;43m.\u001b[39;49m\u001b[43mexecuteEncode\u001b[49m\u001b[43m(\u001b[49m\u001b[43mjir\u001b[49m\u001b[43m,\u001b[49m\u001b[43m \u001b[49m\u001b[43mstream_codec\u001b[49m\u001b[43m,\u001b[49m\u001b[43m \u001b[49m\u001b[43mtimed\u001b[49m\u001b[43m)\u001b[49m\n\u001b[1;32m    100\u001b[0m     (result, timings) \u001b[38;5;241m=\u001b[39m (result_tuple\u001b[38;5;241m.\u001b[39m_1(), result_tuple\u001b[38;5;241m.\u001b[39m_2())\n\u001b[1;32m    101\u001b[0m     value \u001b[38;5;241m=\u001b[39m ir\u001b[38;5;241m.\u001b[39mtyp\u001b[38;5;241m.\u001b[39m_from_encoding(result)\n",
      "File \u001b[0;32m/opt/homebrew/lib/python3.9/site-packages/py4j/java_gateway.py:1303\u001b[0m, in \u001b[0;36mJavaMember.__call__\u001b[0;34m(self, *args)\u001b[0m\n\u001b[1;32m   1296\u001b[0m args_command, temp_args \u001b[38;5;241m=\u001b[39m \u001b[38;5;28mself\u001b[39m\u001b[38;5;241m.\u001b[39m_build_args(\u001b[38;5;241m*\u001b[39margs)\n\u001b[1;32m   1298\u001b[0m command \u001b[38;5;241m=\u001b[39m proto\u001b[38;5;241m.\u001b[39mCALL_COMMAND_NAME \u001b[38;5;241m+\u001b[39m\\\n\u001b[1;32m   1299\u001b[0m     \u001b[38;5;28mself\u001b[39m\u001b[38;5;241m.\u001b[39mcommand_header \u001b[38;5;241m+\u001b[39m\\\n\u001b[1;32m   1300\u001b[0m     args_command \u001b[38;5;241m+\u001b[39m\\\n\u001b[1;32m   1301\u001b[0m     proto\u001b[38;5;241m.\u001b[39mEND_COMMAND_PART\n\u001b[0;32m-> 1303\u001b[0m answer \u001b[38;5;241m=\u001b[39m \u001b[38;5;28;43mself\u001b[39;49m\u001b[38;5;241;43m.\u001b[39;49m\u001b[43mgateway_client\u001b[49m\u001b[38;5;241;43m.\u001b[39;49m\u001b[43msend_command\u001b[49m\u001b[43m(\u001b[49m\u001b[43mcommand\u001b[49m\u001b[43m)\u001b[49m\n\u001b[1;32m   1304\u001b[0m return_value \u001b[38;5;241m=\u001b[39m get_return_value(\n\u001b[1;32m   1305\u001b[0m     answer, \u001b[38;5;28mself\u001b[39m\u001b[38;5;241m.\u001b[39mgateway_client, \u001b[38;5;28mself\u001b[39m\u001b[38;5;241m.\u001b[39mtarget_id, \u001b[38;5;28mself\u001b[39m\u001b[38;5;241m.\u001b[39mname)\n\u001b[1;32m   1307\u001b[0m \u001b[38;5;28;01mfor\u001b[39;00m temp_arg \u001b[38;5;129;01min\u001b[39;00m temp_args:\n",
      "File \u001b[0;32m/opt/homebrew/lib/python3.9/site-packages/py4j/java_gateway.py:1033\u001b[0m, in \u001b[0;36mGatewayClient.send_command\u001b[0;34m(self, command, retry, binary)\u001b[0m\n\u001b[1;32m   1031\u001b[0m connection \u001b[38;5;241m=\u001b[39m \u001b[38;5;28mself\u001b[39m\u001b[38;5;241m.\u001b[39m_get_connection()\n\u001b[1;32m   1032\u001b[0m \u001b[38;5;28;01mtry\u001b[39;00m:\n\u001b[0;32m-> 1033\u001b[0m     response \u001b[38;5;241m=\u001b[39m \u001b[43mconnection\u001b[49m\u001b[38;5;241;43m.\u001b[39;49m\u001b[43msend_command\u001b[49m\u001b[43m(\u001b[49m\u001b[43mcommand\u001b[49m\u001b[43m)\u001b[49m\n\u001b[1;32m   1034\u001b[0m     \u001b[38;5;28;01mif\u001b[39;00m binary:\n\u001b[1;32m   1035\u001b[0m         \u001b[38;5;28;01mreturn\u001b[39;00m response, \u001b[38;5;28mself\u001b[39m\u001b[38;5;241m.\u001b[39m_create_connection_guard(connection)\n",
      "File \u001b[0;32m/opt/homebrew/lib/python3.9/site-packages/py4j/java_gateway.py:1200\u001b[0m, in \u001b[0;36mGatewayConnection.send_command\u001b[0;34m(self, command)\u001b[0m\n\u001b[1;32m   1196\u001b[0m     \u001b[38;5;28;01mraise\u001b[39;00m Py4JNetworkError(\n\u001b[1;32m   1197\u001b[0m         \u001b[38;5;124m\"\u001b[39m\u001b[38;5;124mError while sending\u001b[39m\u001b[38;5;124m\"\u001b[39m, e, proto\u001b[38;5;241m.\u001b[39mERROR_ON_SEND)\n\u001b[1;32m   1199\u001b[0m \u001b[38;5;28;01mtry\u001b[39;00m:\n\u001b[0;32m-> 1200\u001b[0m     answer \u001b[38;5;241m=\u001b[39m smart_decode(\u001b[38;5;28;43mself\u001b[39;49m\u001b[38;5;241;43m.\u001b[39;49m\u001b[43mstream\u001b[49m\u001b[38;5;241;43m.\u001b[39;49m\u001b[43mreadline\u001b[49m\u001b[43m(\u001b[49m\u001b[43m)\u001b[49m[:\u001b[38;5;241m-\u001b[39m\u001b[38;5;241m1\u001b[39m])\n\u001b[1;32m   1201\u001b[0m     logger\u001b[38;5;241m.\u001b[39mdebug(\u001b[38;5;124m\"\u001b[39m\u001b[38;5;124mAnswer received: \u001b[39m\u001b[38;5;132;01m{0}\u001b[39;00m\u001b[38;5;124m\"\u001b[39m\u001b[38;5;241m.\u001b[39mformat(answer))\n\u001b[1;32m   1202\u001b[0m     \u001b[38;5;28;01mif\u001b[39;00m answer\u001b[38;5;241m.\u001b[39mstartswith(proto\u001b[38;5;241m.\u001b[39mRETURN_MESSAGE):\n",
      "File \u001b[0;32m/opt/homebrew/Cellar/python@3.9/3.9.16/Frameworks/Python.framework/Versions/3.9/lib/python3.9/socket.py:704\u001b[0m, in \u001b[0;36mSocketIO.readinto\u001b[0;34m(self, b)\u001b[0m\n\u001b[1;32m    702\u001b[0m \u001b[38;5;28;01mwhile\u001b[39;00m \u001b[38;5;28;01mTrue\u001b[39;00m:\n\u001b[1;32m    703\u001b[0m     \u001b[38;5;28;01mtry\u001b[39;00m:\n\u001b[0;32m--> 704\u001b[0m         \u001b[38;5;28;01mreturn\u001b[39;00m \u001b[38;5;28;43mself\u001b[39;49m\u001b[38;5;241;43m.\u001b[39;49m\u001b[43m_sock\u001b[49m\u001b[38;5;241;43m.\u001b[39;49m\u001b[43mrecv_into\u001b[49m\u001b[43m(\u001b[49m\u001b[43mb\u001b[49m\u001b[43m)\u001b[49m\n\u001b[1;32m    705\u001b[0m     \u001b[38;5;28;01mexcept\u001b[39;00m timeout:\n\u001b[1;32m    706\u001b[0m         \u001b[38;5;28mself\u001b[39m\u001b[38;5;241m.\u001b[39m_timeout_occurred \u001b[38;5;241m=\u001b[39m \u001b[38;5;28;01mTrue\u001b[39;00m\n",
      "\u001b[0;31mKeyboardInterrupt\u001b[0m: "
     ]
    },
    {
     "name": "stderr",
     "output_type": "stream",
     "text": [
      "[Stage 339:>                                                       (0 + 8) / 23]\r"
     ]
    }
   ],
   "source": [
    "eigenvalues, pcs, _ = hl.hwe_normalized_pca(mt.GT)"
   ]
  },
  {
   "cell_type": "code",
   "execution_count": null,
   "id": "e8c7b109-01a8-4e87-9089-4e1a56e4d63a",
   "metadata": {},
   "outputs": [],
   "source": [
    "mt = mt.annotate_cols(scores = pcs[mt.s].scores)"
   ]
  },
  {
   "cell_type": "code",
   "execution_count": null,
   "id": "5ad5a22a-39ef-4f18-abe3-9ae01a3bc4fe",
   "metadata": {},
   "outputs": [],
   "source": [
    "mt.col.scores.show(5)"
   ]
  },
  {
   "cell_type": "code",
   "execution_count": null,
   "id": "956cf01e-f478-4708-8add-dee83f5d016d",
   "metadata": {},
   "outputs": [],
   "source": [
    "p = hl.plot.scatter(mt.scores[0],\n",
    "                    mt.scores[1],\n",
    "                    label=mt.pheno.SuperPopulation,\n",
    "                    title='PCA', xlabel='PC1', ylabel='PC2')\n",
    "show(p)"
   ]
  },
  {
   "cell_type": "code",
   "execution_count": 20,
   "id": "1eb425c7-ae2c-4fb3-8bce-a95613bcfb8e",
   "metadata": {},
   "outputs": [
    {
     "name": "stderr",
     "output_type": "stream",
     "text": [
      "2023-02-24 10:47:28.896 Hail: INFO: Ordering unsorted dataset with network shuffle\n",
      "2023-02-24 10:47:49.277 Hail: INFO: Coerced sorted dataset          (0 + 1) / 1]\n",
      "2023-02-24 10:48:12.618 Hail: INFO: Ordering unsorted dataset with network shuffle\n",
      "2023-02-24 10:48:57.812 Hail: INFO: ld_prune: running local pruning stage with max queue size of 130056 variants\n",
      "2023-02-24 10:49:17.150 Hail: INFO: Ordering unsorted dataset with network shuffle\n",
      "2023-02-24 10:49:39.045 Hail: INFO: Coerced sorted dataset          (0 + 1) / 1]\n",
      "2023-02-24 10:50:00.010 Hail: INFO: Ordering unsorted dataset with network shuffle\n",
      "2023-02-24 10:51:03.970 Hail: INFO: Ordering unsorted dataset with network shuffle\n",
      "2023-02-24 10:51:24.900 Hail: INFO: Coerced sorted dataset          (0 + 1) / 1]\n",
      "2023-02-24 10:51:45.426 Hail: INFO: Ordering unsorted dataset with network shuffle\n",
      "2023-02-24 10:52:50.903 Hail: INFO: wrote table with 376884 rows in 23 partitions to /tmp/persist_tableJqbSmfSMCt\n",
      "2023-02-24 10:53:02.200 Hail: INFO: wrote table with 376884 rows in 23 partitions to /tmp/TwJjiPiQC3uQba3myHnRn7\n",
      "2023-02-24 10:53:10.068 Hail: INFO: Ordering unsorted dataset with network shuffle\n",
      "2023-02-24 10:53:31.630 Hail: INFO: Coerced sorted dataset          (0 + 1) / 1]\n",
      "2023-02-24 10:53:52.704 Hail: INFO: Ordering unsorted dataset with network shuffle\n",
      "2023-02-24 10:54:56.613 Hail: INFO: Ordering unsorted dataset with network shuffle\n",
      "2023-02-24 10:55:17.930 Hail: INFO: Coerced sorted dataset          (0 + 1) / 1]\n",
      "2023-02-24 10:56:01.486 Hail: INFO: Ordering unsorted dataset with network shuffle\n",
      "2023-02-24 10:57:43.162 Hail: INFO: Wrote all 93 blocks of 376884 x 1863 matrix with block size 4096.\n",
      "[Stage 473:======================================>                (16 + 7) / 23]\r"
     ]
    },
    {
     "name": "stdout",
     "output_type": "stream",
     "text": [
      "[2472.303s][warning][gc,alloc] Executor task launch worker for task 0.0 in stage 477.0 (TID 4107): Retried waiting for GCLocker too often allocating 7630850 words\n"
     ]
    },
    {
     "name": "stderr",
     "output_type": "stream",
     "text": [
      "[Stage 473:==========>    (16 + 7) / 23][Stage 477:>              (0 + 1) / 185]\r"
     ]
    },
    {
     "ename": "FatalError",
     "evalue": "OutOfMemoryError: Java heap space\n\nJava stack trace:\norg.apache.spark.SparkException: Job aborted due to stage failure: Task 0 in stage 477.0 failed 1 times, most recent failure: Lost task 0.0 in stage 477.0 (TID 4107) (192.168.nate.com executor driver): java.lang.OutOfMemoryError: Java heap space\n\tat is.hail.utils.richUtils.RichDenseMatrixDouble$.read(RichDenseMatrixDouble.scala:34)\n\tat is.hail.linalg.BlockMatrix$.readBlock$1(BlockMatrix.scala:175)\n\tat is.hail.linalg.BlockMatrix$.$anonfun$read$1(BlockMatrix.scala:181)\n\tat is.hail.linalg.BlockMatrix$.$anonfun$read$1$adapted(BlockMatrix.scala:181)\n\tat is.hail.linalg.BlockMatrix$$$Lambda$6328/0x00000008017ff840.apply(Unknown Source)\n\tat is.hail.HailContext$$anon$1.compute(HailContext.scala:174)\n\tat org.apache.spark.rdd.RDD.computeOrReadCheckpoint(RDD.scala:373)\n\tat org.apache.spark.rdd.RDD.iterator(RDD.scala:337)\n\tat is.hail.linalg.BlockMatrixTransposeRDD.compute(BlockMatrix.scala:1749)\n\tat org.apache.spark.rdd.RDD.computeOrReadCheckpoint(RDD.scala:373)\n\tat org.apache.spark.rdd.RDD.iterator(RDD.scala:337)\n\tat is.hail.linalg.BlockMatrix$.block(BlockMatrix.scala:194)\n\tat is.hail.linalg.BlockMatrixMultiplyRDD.compute(BlockMatrix.scala:1858)\n\tat org.apache.spark.rdd.RDD.computeOrReadCheckpoint(RDD.scala:373)\n\tat org.apache.spark.rdd.RDD.iterator(RDD.scala:337)\n\tat org.apache.spark.rdd.MapPartitionsRDD.compute(MapPartitionsRDD.scala:52)\n\tat is.hail.utils.richUtils.RichRDD$$anon$1.compute(RichRDD.scala:152)\n\tat org.apache.spark.rdd.RDD.computeOrReadCheckpoint(RDD.scala:373)\n\tat org.apache.spark.rdd.RDD.iterator(RDD.scala:337)\n\tat org.apache.spark.rdd.MapPartitionsRDD.compute(MapPartitionsRDD.scala:52)\n\tat org.apache.spark.rdd.RDD.computeOrReadCheckpoint(RDD.scala:373)\n\tat org.apache.spark.rdd.RDD.iterator(RDD.scala:337)\n\tat org.apache.spark.rdd.MapPartitionsRDD.compute(MapPartitionsRDD.scala:52)\n\tat org.apache.spark.rdd.RDD.computeOrReadCheckpoint(RDD.scala:373)\n\tat org.apache.spark.rdd.RDD.iterator(RDD.scala:337)\n\tat org.apache.spark.rdd.MapPartitionsRDD.compute(MapPartitionsRDD.scala:52)\n\tat org.apache.spark.rdd.RDD.computeOrReadCheckpoint(RDD.scala:373)\n\tat org.apache.spark.rdd.RDD.iterator(RDD.scala:337)\n\tat org.apache.spark.rdd.MapPartitionsRDD.compute(MapPartitionsRDD.scala:52)\n\tat org.apache.spark.rdd.RDD.computeOrReadCheckpoint(RDD.scala:373)\n\tat org.apache.spark.rdd.RDD.iterator(RDD.scala:337)\n\tat org.apache.spark.rdd.MapPartitionsRDD.compute(MapPartitionsRDD.scala:52)\n\nDriver stacktrace:\n\tat org.apache.spark.scheduler.DAGScheduler.failJobAndIndependentStages(DAGScheduler.scala:2303)\n\tat org.apache.spark.scheduler.DAGScheduler.$anonfun$abortStage$2(DAGScheduler.scala:2252)\n\tat org.apache.spark.scheduler.DAGScheduler.$anonfun$abortStage$2$adapted(DAGScheduler.scala:2251)\n\tat scala.collection.mutable.ResizableArray.foreach(ResizableArray.scala:62)\n\tat scala.collection.mutable.ResizableArray.foreach$(ResizableArray.scala:55)\n\tat scala.collection.mutable.ArrayBuffer.foreach(ArrayBuffer.scala:49)\n\tat org.apache.spark.scheduler.DAGScheduler.abortStage(DAGScheduler.scala:2251)\n\tat org.apache.spark.scheduler.DAGScheduler.$anonfun$handleTaskSetFailed$1(DAGScheduler.scala:1124)\n\tat org.apache.spark.scheduler.DAGScheduler.$anonfun$handleTaskSetFailed$1$adapted(DAGScheduler.scala:1124)\n\tat scala.Option.foreach(Option.scala:407)\n\tat org.apache.spark.scheduler.DAGScheduler.handleTaskSetFailed(DAGScheduler.scala:1124)\n\tat org.apache.spark.scheduler.DAGSchedulerEventProcessLoop.doOnReceive(DAGScheduler.scala:2490)\n\tat org.apache.spark.scheduler.DAGSchedulerEventProcessLoop.onReceive(DAGScheduler.scala:2432)\n\tat org.apache.spark.scheduler.DAGSchedulerEventProcessLoop.onReceive(DAGScheduler.scala:2421)\n\tat org.apache.spark.util.EventLoop$$anon$1.run(EventLoop.scala:49)\n\tat org.apache.spark.scheduler.DAGScheduler.runJob(DAGScheduler.scala:902)\n\tat org.apache.spark.SparkContext.runJob(SparkContext.scala:2196)\n\tat org.apache.spark.SparkContext.runJob(SparkContext.scala:2217)\n\tat org.apache.spark.SparkContext.runJob(SparkContext.scala:2236)\n\tat org.apache.spark.SparkContext.runJob(SparkContext.scala:2261)\n\tat org.apache.spark.rdd.RDD.$anonfun$collect$1(RDD.scala:1030)\n\tat org.apache.spark.rdd.RDDOperationScope$.withScope(RDDOperationScope.scala:151)\n\tat org.apache.spark.rdd.RDDOperationScope$.withScope(RDDOperationScope.scala:112)\n\tat org.apache.spark.rdd.RDD.withScope(RDD.scala:414)\n\tat org.apache.spark.rdd.RDD.collect(RDD.scala:1029)\n\tat is.hail.sparkextras.ContextRDD.collect(ContextRDD.scala:176)\n\tat is.hail.utils.richUtils.RichContextRDD.writePartitions(RichContextRDD.scala:105)\n\tat is.hail.io.RichContextRDDLong$.writeRows$extension(RichContextRDDRegionValue.scala:230)\n\tat is.hail.rvd.RVD.write(RVD.scala:767)\n\tat is.hail.expr.ir.TableNativeWriter.apply(TableWriter.scala:124)\n\tat is.hail.expr.ir.Interpret$.run(Interpret.scala:864)\n\tat is.hail.expr.ir.Interpret$.alreadyLowered(Interpret.scala:58)\n\tat is.hail.expr.ir.LowerOrInterpretNonCompilable$.evaluate$1(LowerOrInterpretNonCompilable.scala:20)\n\tat is.hail.expr.ir.LowerOrInterpretNonCompilable$.rewrite$1(LowerOrInterpretNonCompilable.scala:67)\n\tat is.hail.expr.ir.LowerOrInterpretNonCompilable$.apply(LowerOrInterpretNonCompilable.scala:72)\n\tat is.hail.expr.ir.lowering.LowerOrInterpretNonCompilablePass$.transform(LoweringPass.scala:69)\n\tat is.hail.expr.ir.lowering.LoweringPass.$anonfun$apply$3(LoweringPass.scala:16)\n\tat is.hail.utils.ExecutionTimer.time(ExecutionTimer.scala:81)\n\tat is.hail.expr.ir.lowering.LoweringPass.$anonfun$apply$1(LoweringPass.scala:16)\n\tat is.hail.utils.ExecutionTimer.time(ExecutionTimer.scala:81)\n\tat is.hail.expr.ir.lowering.LoweringPass.apply(LoweringPass.scala:14)\n\tat is.hail.expr.ir.lowering.LoweringPass.apply$(LoweringPass.scala:13)\n\tat is.hail.expr.ir.lowering.LowerOrInterpretNonCompilablePass$.apply(LoweringPass.scala:64)\n\tat is.hail.expr.ir.lowering.LoweringPipeline.$anonfun$apply$1(LoweringPipeline.scala:22)\n\tat is.hail.expr.ir.lowering.LoweringPipeline.$anonfun$apply$1$adapted(LoweringPipeline.scala:20)\n\tat scala.collection.IndexedSeqOptimized.foreach(IndexedSeqOptimized.scala:36)\n\tat scala.collection.IndexedSeqOptimized.foreach$(IndexedSeqOptimized.scala:33)\n\tat scala.collection.mutable.WrappedArray.foreach(WrappedArray.scala:38)\n\tat is.hail.expr.ir.lowering.LoweringPipeline.apply(LoweringPipeline.scala:20)\n\tat is.hail.expr.ir.CompileAndEvaluate$._apply(CompileAndEvaluate.scala:47)\n\tat is.hail.backend.spark.SparkBackend._execute(SparkBackend.scala:453)\n\tat is.hail.backend.spark.SparkBackend.$anonfun$executeEncode$2(SparkBackend.scala:489)\n\tat is.hail.backend.ExecuteContext$.$anonfun$scoped$3(ExecuteContext.scala:73)\n\tat is.hail.utils.package$.using(package.scala:635)\n\tat is.hail.backend.ExecuteContext$.$anonfun$scoped$2(ExecuteContext.scala:73)\n\tat is.hail.utils.package$.using(package.scala:635)\n\tat is.hail.annotations.RegionPool$.scoped(RegionPool.scala:17)\n\tat is.hail.backend.ExecuteContext$.scoped(ExecuteContext.scala:61)\n\tat is.hail.backend.spark.SparkBackend.withExecuteContext(SparkBackend.scala:341)\n\tat is.hail.backend.spark.SparkBackend.$anonfun$executeEncode$1(SparkBackend.scala:486)\n\tat is.hail.utils.ExecutionTimer$.time(ExecutionTimer.scala:52)\n\tat is.hail.backend.spark.SparkBackend.executeEncode(SparkBackend.scala:485)\n\tat java.base/jdk.internal.reflect.NativeMethodAccessorImpl.invoke0(Native Method)\n\tat java.base/jdk.internal.reflect.NativeMethodAccessorImpl.invoke(NativeMethodAccessorImpl.java:62)\n\tat java.base/jdk.internal.reflect.DelegatingMethodAccessorImpl.invoke(DelegatingMethodAccessorImpl.java:43)\n\tat java.base/java.lang.reflect.Method.invoke(Method.java:566)\n\tat py4j.reflection.MethodInvoker.invoke(MethodInvoker.java:244)\n\tat py4j.reflection.ReflectionEngine.invoke(ReflectionEngine.java:357)\n\tat py4j.Gateway.invoke(Gateway.java:282)\n\tat py4j.commands.AbstractCommand.invokeMethod(AbstractCommand.java:132)\n\tat py4j.commands.CallCommand.execute(CallCommand.java:79)\n\tat py4j.GatewayConnection.run(GatewayConnection.java:238)\n\tat java.base/java.lang.Thread.run(Thread.java:829)\n\njava.lang.OutOfMemoryError: Java heap space\n\tat is.hail.utils.richUtils.RichDenseMatrixDouble$.read(RichDenseMatrixDouble.scala:34)\n\tat is.hail.linalg.BlockMatrix$.readBlock$1(BlockMatrix.scala:175)\n\tat is.hail.linalg.BlockMatrix$.$anonfun$read$1(BlockMatrix.scala:181)\n\tat is.hail.linalg.BlockMatrix$.$anonfun$read$1$adapted(BlockMatrix.scala:181)\n\tat is.hail.linalg.BlockMatrix$$$Lambda$6328/0x00000008017ff840.apply(Unknown Source)\n\tat is.hail.HailContext$$anon$1.compute(HailContext.scala:174)\n\tat org.apache.spark.rdd.RDD.computeOrReadCheckpoint(RDD.scala:373)\n\tat org.apache.spark.rdd.RDD.iterator(RDD.scala:337)\n\tat is.hail.linalg.BlockMatrixTransposeRDD.compute(BlockMatrix.scala:1749)\n\tat org.apache.spark.rdd.RDD.computeOrReadCheckpoint(RDD.scala:373)\n\tat org.apache.spark.rdd.RDD.iterator(RDD.scala:337)\n\tat is.hail.linalg.BlockMatrix$.block(BlockMatrix.scala:194)\n\tat is.hail.linalg.BlockMatrixMultiplyRDD.compute(BlockMatrix.scala:1858)\n\tat org.apache.spark.rdd.RDD.computeOrReadCheckpoint(RDD.scala:373)\n\tat org.apache.spark.rdd.RDD.iterator(RDD.scala:337)\n\tat org.apache.spark.rdd.MapPartitionsRDD.compute(MapPartitionsRDD.scala:52)\n\tat is.hail.utils.richUtils.RichRDD$$anon$1.compute(RichRDD.scala:152)\n\tat org.apache.spark.rdd.RDD.computeOrReadCheckpoint(RDD.scala:373)\n\tat org.apache.spark.rdd.RDD.iterator(RDD.scala:337)\n\tat org.apache.spark.rdd.MapPartitionsRDD.compute(MapPartitionsRDD.scala:52)\n\tat org.apache.spark.rdd.RDD.computeOrReadCheckpoint(RDD.scala:373)\n\tat org.apache.spark.rdd.RDD.iterator(RDD.scala:337)\n\tat org.apache.spark.rdd.MapPartitionsRDD.compute(MapPartitionsRDD.scala:52)\n\tat org.apache.spark.rdd.RDD.computeOrReadCheckpoint(RDD.scala:373)\n\tat org.apache.spark.rdd.RDD.iterator(RDD.scala:337)\n\tat org.apache.spark.rdd.MapPartitionsRDD.compute(MapPartitionsRDD.scala:52)\n\tat org.apache.spark.rdd.RDD.computeOrReadCheckpoint(RDD.scala:373)\n\tat org.apache.spark.rdd.RDD.iterator(RDD.scala:337)\n\tat org.apache.spark.rdd.MapPartitionsRDD.compute(MapPartitionsRDD.scala:52)\n\tat org.apache.spark.rdd.RDD.computeOrReadCheckpoint(RDD.scala:373)\n\tat org.apache.spark.rdd.RDD.iterator(RDD.scala:337)\n\tat org.apache.spark.rdd.MapPartitionsRDD.compute(MapPartitionsRDD.scala:52)\n\n\n\n\nHail version: 0.2.109-b71b065e4bb6\nError summary: OutOfMemoryError: Java heap space",
     "output_type": "error",
     "traceback": [
      "\u001b[0;31m---------------------------------------------------------------------------\u001b[0m",
      "\u001b[0;31mFatalError\u001b[0m                                Traceback (most recent call last)",
      "Cell \u001b[0;32mIn[20], line 3\u001b[0m\n\u001b[1;32m      1\u001b[0m \u001b[38;5;66;03m# pruning\u001b[39;00m\n\u001b[1;32m      2\u001b[0m biallelic_mt \u001b[38;5;241m=\u001b[39m mt\u001b[38;5;241m.\u001b[39mfilter_rows(hl\u001b[38;5;241m.\u001b[39mlen(mt\u001b[38;5;241m.\u001b[39malleles) \u001b[38;5;241m==\u001b[39m \u001b[38;5;241m2\u001b[39m)\n\u001b[0;32m----> 3\u001b[0m pruned_variant_table \u001b[38;5;241m=\u001b[39m \u001b[43mhl\u001b[49m\u001b[38;5;241;43m.\u001b[39;49m\u001b[43mld_prune\u001b[49m\u001b[43m(\u001b[49m\u001b[43mmt\u001b[49m\u001b[38;5;241;43m.\u001b[39;49m\u001b[43mGT\u001b[49m\u001b[43m,\u001b[49m\u001b[43m \u001b[49m\u001b[43mr2\u001b[49m\u001b[38;5;241;43m=\u001b[39;49m\u001b[38;5;241;43m0.2\u001b[39;49m\u001b[43m,\u001b[49m\u001b[43m \u001b[49m\u001b[43mbp_window_size\u001b[49m\u001b[38;5;241;43m=\u001b[39;49m\u001b[38;5;241;43m500000\u001b[39;49m\u001b[43m)\u001b[49m\n\u001b[1;32m      4\u001b[0m filtered_mt \u001b[38;5;241m=\u001b[39m mt\u001b[38;5;241m.\u001b[39mfilter_rows(hl\u001b[38;5;241m.\u001b[39mis_defined(pruned_variant_table[mt\u001b[38;5;241m.\u001b[39mrow_key]))\n",
      "File \u001b[0;32m<decorator-gen-1750>:2\u001b[0m, in \u001b[0;36mld_prune\u001b[0;34m(call_expr, r2, bp_window_size, memory_per_core, keep_higher_maf, block_size)\u001b[0m\n",
      "File \u001b[0;32m/opt/homebrew/lib/python3.9/site-packages/hail/typecheck/check.py:577\u001b[0m, in \u001b[0;36m_make_dec.<locals>.wrapper\u001b[0;34m(__original_func, *args, **kwargs)\u001b[0m\n\u001b[1;32m    574\u001b[0m \u001b[38;5;129m@decorator\u001b[39m\n\u001b[1;32m    575\u001b[0m \u001b[38;5;28;01mdef\u001b[39;00m \u001b[38;5;21mwrapper\u001b[39m(__original_func, \u001b[38;5;241m*\u001b[39margs, \u001b[38;5;241m*\u001b[39m\u001b[38;5;241m*\u001b[39mkwargs):\n\u001b[1;32m    576\u001b[0m     args_, kwargs_ \u001b[38;5;241m=\u001b[39m check_all(__original_func, args, kwargs, checkers, is_method\u001b[38;5;241m=\u001b[39mis_method)\n\u001b[0;32m--> 577\u001b[0m     \u001b[38;5;28;01mreturn\u001b[39;00m \u001b[43m__original_func\u001b[49m\u001b[43m(\u001b[49m\u001b[38;5;241;43m*\u001b[39;49m\u001b[43margs_\u001b[49m\u001b[43m,\u001b[49m\u001b[43m \u001b[49m\u001b[38;5;241;43m*\u001b[39;49m\u001b[38;5;241;43m*\u001b[39;49m\u001b[43mkwargs_\u001b[49m\u001b[43m)\u001b[49m\n",
      "File \u001b[0;32m/opt/homebrew/lib/python3.9/site-packages/hail/methods/statgen.py:3900\u001b[0m, in \u001b[0;36mld_prune\u001b[0;34m(call_expr, r2, bp_window_size, memory_per_core, keep_higher_maf, block_size)\u001b[0m\n\u001b[1;32m   3897\u001b[0m \u001b[38;5;28;01melse\u001b[39;00m:\n\u001b[1;32m   3898\u001b[0m     tie_breaker \u001b[38;5;241m=\u001b[39m \u001b[38;5;28;01mNone\u001b[39;00m\n\u001b[0;32m-> 3900\u001b[0m variants_to_remove \u001b[38;5;241m=\u001b[39m \u001b[43mhl\u001b[49m\u001b[38;5;241;43m.\u001b[39;49m\u001b[43mmaximal_independent_set\u001b[49m\u001b[43m(\u001b[49m\n\u001b[1;32m   3901\u001b[0m \u001b[43m    \u001b[49m\u001b[43mentries\u001b[49m\u001b[38;5;241;43m.\u001b[39;49m\u001b[43mi\u001b[49m\u001b[43m,\u001b[49m\u001b[43m \u001b[49m\u001b[43mentries\u001b[49m\u001b[38;5;241;43m.\u001b[39;49m\u001b[43mj\u001b[49m\u001b[43m,\u001b[49m\u001b[43m \u001b[49m\u001b[43mkeep\u001b[49m\u001b[38;5;241;43m=\u001b[39;49m\u001b[38;5;28;43;01mFalse\u001b[39;49;00m\u001b[43m,\u001b[49m\u001b[43m \u001b[49m\u001b[43mtie_breaker\u001b[49m\u001b[38;5;241;43m=\u001b[39;49m\u001b[43mtie_breaker\u001b[49m\u001b[43m,\u001b[49m\u001b[43m \u001b[49m\u001b[43mkeyed\u001b[49m\u001b[38;5;241;43m=\u001b[39;49m\u001b[38;5;28;43;01mFalse\u001b[39;49;00m\u001b[43m)\u001b[49m\n\u001b[1;32m   3903\u001b[0m locally_pruned_table \u001b[38;5;241m=\u001b[39m locally_pruned_table\u001b[38;5;241m.\u001b[39mannotate_globals(\n\u001b[1;32m   3904\u001b[0m     variants_to_remove\u001b[38;5;241m=\u001b[39mvariants_to_remove\u001b[38;5;241m.\u001b[39maggregate(\n\u001b[1;32m   3905\u001b[0m         hl\u001b[38;5;241m.\u001b[39magg\u001b[38;5;241m.\u001b[39mcollect_as_set(variants_to_remove\u001b[38;5;241m.\u001b[39mnode\u001b[38;5;241m.\u001b[39midx), _localize\u001b[38;5;241m=\u001b[39m\u001b[38;5;28;01mFalse\u001b[39;00m))\n\u001b[1;32m   3906\u001b[0m \u001b[38;5;28;01mreturn\u001b[39;00m locally_pruned_table\u001b[38;5;241m.\u001b[39mfilter(\n\u001b[1;32m   3907\u001b[0m     locally_pruned_table\u001b[38;5;241m.\u001b[39mvariants_to_remove\u001b[38;5;241m.\u001b[39mcontains(hl\u001b[38;5;241m.\u001b[39mint32(locally_pruned_table\u001b[38;5;241m.\u001b[39midx)),\n\u001b[1;32m   3908\u001b[0m     keep\u001b[38;5;241m=\u001b[39m\u001b[38;5;28;01mFalse\u001b[39;00m\n\u001b[1;32m   3909\u001b[0m )\u001b[38;5;241m.\u001b[39mselect()\u001b[38;5;241m.\u001b[39mpersist()\n",
      "File \u001b[0;32m<decorator-gen-1392>:2\u001b[0m, in \u001b[0;36mmaximal_independent_set\u001b[0;34m(i, j, keep, tie_breaker, keyed)\u001b[0m\n",
      "File \u001b[0;32m/opt/homebrew/lib/python3.9/site-packages/hail/typecheck/check.py:577\u001b[0m, in \u001b[0;36m_make_dec.<locals>.wrapper\u001b[0;34m(__original_func, *args, **kwargs)\u001b[0m\n\u001b[1;32m    574\u001b[0m \u001b[38;5;129m@decorator\u001b[39m\n\u001b[1;32m    575\u001b[0m \u001b[38;5;28;01mdef\u001b[39;00m \u001b[38;5;21mwrapper\u001b[39m(__original_func, \u001b[38;5;241m*\u001b[39margs, \u001b[38;5;241m*\u001b[39m\u001b[38;5;241m*\u001b[39mkwargs):\n\u001b[1;32m    576\u001b[0m     args_, kwargs_ \u001b[38;5;241m=\u001b[39m check_all(__original_func, args, kwargs, checkers, is_method\u001b[38;5;241m=\u001b[39mis_method)\n\u001b[0;32m--> 577\u001b[0m     \u001b[38;5;28;01mreturn\u001b[39;00m \u001b[43m__original_func\u001b[49m\u001b[43m(\u001b[49m\u001b[38;5;241;43m*\u001b[39;49m\u001b[43margs_\u001b[49m\u001b[43m,\u001b[49m\u001b[43m \u001b[49m\u001b[38;5;241;43m*\u001b[39;49m\u001b[38;5;241;43m*\u001b[39;49m\u001b[43mkwargs_\u001b[49m\u001b[43m)\u001b[49m\n",
      "File \u001b[0;32m/opt/homebrew/lib/python3.9/site-packages/hail/methods/misc.py:151\u001b[0m, in \u001b[0;36mmaximal_independent_set\u001b[0;34m(i, j, keep, tie_breaker, keyed)\u001b[0m\n\u001b[1;32m    149\u001b[0m edges \u001b[38;5;241m=\u001b[39m t\u001b[38;5;241m.\u001b[39mselect(__i\u001b[38;5;241m=\u001b[39mi, __j\u001b[38;5;241m=\u001b[39mj)\u001b[38;5;241m.\u001b[39mkey_by()\u001b[38;5;241m.\u001b[39mselect(\u001b[38;5;124m'\u001b[39m\u001b[38;5;124m__i\u001b[39m\u001b[38;5;124m'\u001b[39m, \u001b[38;5;124m'\u001b[39m\u001b[38;5;124m__j\u001b[39m\u001b[38;5;124m'\u001b[39m)\n\u001b[1;32m    150\u001b[0m edges_path \u001b[38;5;241m=\u001b[39m new_temp_file()\n\u001b[0;32m--> 151\u001b[0m \u001b[43medges\u001b[49m\u001b[38;5;241;43m.\u001b[39;49m\u001b[43mwrite\u001b[49m\u001b[43m(\u001b[49m\u001b[43medges_path\u001b[49m\u001b[43m)\u001b[49m\n\u001b[1;32m    152\u001b[0m edges \u001b[38;5;241m=\u001b[39m hl\u001b[38;5;241m.\u001b[39mread_table(edges_path)\n\u001b[1;32m    154\u001b[0m mis_nodes \u001b[38;5;241m=\u001b[39m construct_expr(\n\u001b[1;32m    155\u001b[0m     ir\u001b[38;5;241m.\u001b[39mJavaIR(Env\u001b[38;5;241m.\u001b[39mhail()\u001b[38;5;241m.\u001b[39mutils\u001b[38;5;241m.\u001b[39mGraph\u001b[38;5;241m.\u001b[39mpyMaximalIndependentSet(\n\u001b[1;32m    156\u001b[0m         Env\u001b[38;5;241m.\u001b[39mspark_backend(\u001b[38;5;124m'\u001b[39m\u001b[38;5;124mmaximal_independent_set\u001b[39m\u001b[38;5;124m'\u001b[39m)\u001b[38;5;241m.\u001b[39m_to_java_value_ir(edges\u001b[38;5;241m.\u001b[39mcollect(_localize\u001b[38;5;241m=\u001b[39m\u001b[38;5;28;01mFalse\u001b[39;00m)\u001b[38;5;241m.\u001b[39m_ir),\n\u001b[1;32m    157\u001b[0m         node_t\u001b[38;5;241m.\u001b[39m_parsable_string(),\n\u001b[1;32m    158\u001b[0m         tie_breaker_str)),\n\u001b[1;32m    159\u001b[0m     hl\u001b[38;5;241m.\u001b[39mtset(node_t))\n",
      "File \u001b[0;32m<decorator-gen-1102>:2\u001b[0m, in \u001b[0;36mwrite\u001b[0;34m(self, output, overwrite, stage_locally, _codec_spec)\u001b[0m\n",
      "File \u001b[0;32m/opt/homebrew/lib/python3.9/site-packages/hail/typecheck/check.py:577\u001b[0m, in \u001b[0;36m_make_dec.<locals>.wrapper\u001b[0;34m(__original_func, *args, **kwargs)\u001b[0m\n\u001b[1;32m    574\u001b[0m \u001b[38;5;129m@decorator\u001b[39m\n\u001b[1;32m    575\u001b[0m \u001b[38;5;28;01mdef\u001b[39;00m \u001b[38;5;21mwrapper\u001b[39m(__original_func, \u001b[38;5;241m*\u001b[39margs, \u001b[38;5;241m*\u001b[39m\u001b[38;5;241m*\u001b[39mkwargs):\n\u001b[1;32m    576\u001b[0m     args_, kwargs_ \u001b[38;5;241m=\u001b[39m check_all(__original_func, args, kwargs, checkers, is_method\u001b[38;5;241m=\u001b[39mis_method)\n\u001b[0;32m--> 577\u001b[0m     \u001b[38;5;28;01mreturn\u001b[39;00m \u001b[43m__original_func\u001b[49m\u001b[43m(\u001b[49m\u001b[38;5;241;43m*\u001b[39;49m\u001b[43margs_\u001b[49m\u001b[43m,\u001b[49m\u001b[43m \u001b[49m\u001b[38;5;241;43m*\u001b[39;49m\u001b[38;5;241;43m*\u001b[39;49m\u001b[43mkwargs_\u001b[49m\u001b[43m)\u001b[49m\n",
      "File \u001b[0;32m/opt/homebrew/lib/python3.9/site-packages/hail/table.py:1335\u001b[0m, in \u001b[0;36mTable.write\u001b[0;34m(self, output, overwrite, stage_locally, _codec_spec)\u001b[0m\n\u001b[1;32m   1305\u001b[0m \u001b[38;5;129m@typecheck_method\u001b[39m(output\u001b[38;5;241m=\u001b[39m\u001b[38;5;28mstr\u001b[39m,\n\u001b[1;32m   1306\u001b[0m                   overwrite\u001b[38;5;241m=\u001b[39m\u001b[38;5;28mbool\u001b[39m,\n\u001b[1;32m   1307\u001b[0m                   stage_locally\u001b[38;5;241m=\u001b[39m\u001b[38;5;28mbool\u001b[39m,\n\u001b[1;32m   1308\u001b[0m                   _codec_spec\u001b[38;5;241m=\u001b[39mnullable(\u001b[38;5;28mstr\u001b[39m))\n\u001b[1;32m   1309\u001b[0m \u001b[38;5;28;01mdef\u001b[39;00m \u001b[38;5;21mwrite\u001b[39m(\u001b[38;5;28mself\u001b[39m, output: \u001b[38;5;28mstr\u001b[39m, overwrite\u001b[38;5;241m=\u001b[39m\u001b[38;5;28;01mFalse\u001b[39;00m, stage_locally: \u001b[38;5;28mbool\u001b[39m \u001b[38;5;241m=\u001b[39m \u001b[38;5;28;01mFalse\u001b[39;00m,\n\u001b[1;32m   1310\u001b[0m           _codec_spec: Optional[\u001b[38;5;28mstr\u001b[39m] \u001b[38;5;241m=\u001b[39m \u001b[38;5;28;01mNone\u001b[39;00m):\n\u001b[1;32m   1311\u001b[0m     \u001b[38;5;124;03m\"\"\"Write to disk.\u001b[39;00m\n\u001b[1;32m   1312\u001b[0m \n\u001b[1;32m   1313\u001b[0m \u001b[38;5;124;03m    Examples\u001b[39;00m\n\u001b[0;32m   (...)\u001b[0m\n\u001b[1;32m   1332\u001b[0m \u001b[38;5;124;03m        If ``True``, overwrite an existing file at the destination.\u001b[39;00m\n\u001b[1;32m   1333\u001b[0m \u001b[38;5;124;03m    \"\"\"\u001b[39;00m\n\u001b[0;32m-> 1335\u001b[0m     \u001b[43mEnv\u001b[49m\u001b[38;5;241;43m.\u001b[39;49m\u001b[43mbackend\u001b[49m\u001b[43m(\u001b[49m\u001b[43m)\u001b[49m\u001b[38;5;241;43m.\u001b[39;49m\u001b[43mexecute\u001b[49m\u001b[43m(\u001b[49m\u001b[43mir\u001b[49m\u001b[38;5;241;43m.\u001b[39;49m\u001b[43mTableWrite\u001b[49m\u001b[43m(\u001b[49m\u001b[38;5;28;43mself\u001b[39;49m\u001b[38;5;241;43m.\u001b[39;49m\u001b[43m_tir\u001b[49m\u001b[43m,\u001b[49m\u001b[43m \u001b[49m\u001b[43mir\u001b[49m\u001b[38;5;241;43m.\u001b[39;49m\u001b[43mTableNativeWriter\u001b[49m\u001b[43m(\u001b[49m\u001b[43moutput\u001b[49m\u001b[43m,\u001b[49m\u001b[43m \u001b[49m\u001b[43moverwrite\u001b[49m\u001b[43m,\u001b[49m\u001b[43m \u001b[49m\u001b[43mstage_locally\u001b[49m\u001b[43m,\u001b[49m\u001b[43m \u001b[49m\u001b[43m_codec_spec\u001b[49m\u001b[43m)\u001b[49m\u001b[43m)\u001b[49m\u001b[43m)\u001b[49m\n",
      "File \u001b[0;32m/opt/homebrew/lib/python3.9/site-packages/hail/backend/py4j_backend.py:105\u001b[0m, in \u001b[0;36mPy4JBackend.execute\u001b[0;34m(self, ir, timed)\u001b[0m\n\u001b[1;32m    103\u001b[0m     \u001b[38;5;28;01mreturn\u001b[39;00m (value, timings) \u001b[38;5;28;01mif\u001b[39;00m timed \u001b[38;5;28;01melse\u001b[39;00m value\n\u001b[1;32m    104\u001b[0m \u001b[38;5;28;01mexcept\u001b[39;00m FatalError \u001b[38;5;28;01mas\u001b[39;00m e:\n\u001b[0;32m--> 105\u001b[0m     \u001b[38;5;28;01mraise\u001b[39;00m e\u001b[38;5;241m.\u001b[39mmaybe_user_error(ir) \u001b[38;5;28;01mfrom\u001b[39;00m \u001b[38;5;28mNone\u001b[39m\n",
      "File \u001b[0;32m/opt/homebrew/lib/python3.9/site-packages/hail/backend/py4j_backend.py:99\u001b[0m, in \u001b[0;36mPy4JBackend.execute\u001b[0;34m(self, ir, timed)\u001b[0m\n\u001b[1;32m     97\u001b[0m \u001b[38;5;66;03m# print(self._hail_package.expr.ir.Pretty.apply(jir, True, -1))\u001b[39;00m\n\u001b[1;32m     98\u001b[0m \u001b[38;5;28;01mtry\u001b[39;00m:\n\u001b[0;32m---> 99\u001b[0m     result_tuple \u001b[38;5;241m=\u001b[39m \u001b[38;5;28;43mself\u001b[39;49m\u001b[38;5;241;43m.\u001b[39;49m\u001b[43m_jbackend\u001b[49m\u001b[38;5;241;43m.\u001b[39;49m\u001b[43mexecuteEncode\u001b[49m\u001b[43m(\u001b[49m\u001b[43mjir\u001b[49m\u001b[43m,\u001b[49m\u001b[43m \u001b[49m\u001b[43mstream_codec\u001b[49m\u001b[43m,\u001b[49m\u001b[43m \u001b[49m\u001b[43mtimed\u001b[49m\u001b[43m)\u001b[49m\n\u001b[1;32m    100\u001b[0m     (result, timings) \u001b[38;5;241m=\u001b[39m (result_tuple\u001b[38;5;241m.\u001b[39m_1(), result_tuple\u001b[38;5;241m.\u001b[39m_2())\n\u001b[1;32m    101\u001b[0m     value \u001b[38;5;241m=\u001b[39m ir\u001b[38;5;241m.\u001b[39mtyp\u001b[38;5;241m.\u001b[39m_from_encoding(result)\n",
      "File \u001b[0;32m/opt/homebrew/lib/python3.9/site-packages/py4j/java_gateway.py:1304\u001b[0m, in \u001b[0;36mJavaMember.__call__\u001b[0;34m(self, *args)\u001b[0m\n\u001b[1;32m   1298\u001b[0m command \u001b[38;5;241m=\u001b[39m proto\u001b[38;5;241m.\u001b[39mCALL_COMMAND_NAME \u001b[38;5;241m+\u001b[39m\\\n\u001b[1;32m   1299\u001b[0m     \u001b[38;5;28mself\u001b[39m\u001b[38;5;241m.\u001b[39mcommand_header \u001b[38;5;241m+\u001b[39m\\\n\u001b[1;32m   1300\u001b[0m     args_command \u001b[38;5;241m+\u001b[39m\\\n\u001b[1;32m   1301\u001b[0m     proto\u001b[38;5;241m.\u001b[39mEND_COMMAND_PART\n\u001b[1;32m   1303\u001b[0m answer \u001b[38;5;241m=\u001b[39m \u001b[38;5;28mself\u001b[39m\u001b[38;5;241m.\u001b[39mgateway_client\u001b[38;5;241m.\u001b[39msend_command(command)\n\u001b[0;32m-> 1304\u001b[0m return_value \u001b[38;5;241m=\u001b[39m \u001b[43mget_return_value\u001b[49m\u001b[43m(\u001b[49m\n\u001b[1;32m   1305\u001b[0m \u001b[43m    \u001b[49m\u001b[43manswer\u001b[49m\u001b[43m,\u001b[49m\u001b[43m \u001b[49m\u001b[38;5;28;43mself\u001b[39;49m\u001b[38;5;241;43m.\u001b[39;49m\u001b[43mgateway_client\u001b[49m\u001b[43m,\u001b[49m\u001b[43m \u001b[49m\u001b[38;5;28;43mself\u001b[39;49m\u001b[38;5;241;43m.\u001b[39;49m\u001b[43mtarget_id\u001b[49m\u001b[43m,\u001b[49m\u001b[43m \u001b[49m\u001b[38;5;28;43mself\u001b[39;49m\u001b[38;5;241;43m.\u001b[39;49m\u001b[43mname\u001b[49m\u001b[43m)\u001b[49m\n\u001b[1;32m   1307\u001b[0m \u001b[38;5;28;01mfor\u001b[39;00m temp_arg \u001b[38;5;129;01min\u001b[39;00m temp_args:\n\u001b[1;32m   1308\u001b[0m     temp_arg\u001b[38;5;241m.\u001b[39m_detach()\n",
      "File \u001b[0;32m/opt/homebrew/lib/python3.9/site-packages/hail/backend/py4j_backend.py:31\u001b[0m, in \u001b[0;36mhandle_java_exception.<locals>.deco\u001b[0;34m(*args, **kwargs)\u001b[0m\n\u001b[1;32m     29\u001b[0m     tpl \u001b[38;5;241m=\u001b[39m Env\u001b[38;5;241m.\u001b[39mjutils()\u001b[38;5;241m.\u001b[39mhandleForPython(e\u001b[38;5;241m.\u001b[39mjava_exception)\n\u001b[1;32m     30\u001b[0m     deepest, full, error_id \u001b[38;5;241m=\u001b[39m tpl\u001b[38;5;241m.\u001b[39m_1(), tpl\u001b[38;5;241m.\u001b[39m_2(), tpl\u001b[38;5;241m.\u001b[39m_3()\n\u001b[0;32m---> 31\u001b[0m     \u001b[38;5;28;01mraise\u001b[39;00m fatal_error_from_java_error_triplet(deepest, full, error_id) \u001b[38;5;28;01mfrom\u001b[39;00m \u001b[38;5;28mNone\u001b[39m\n\u001b[1;32m     32\u001b[0m \u001b[38;5;28;01mexcept\u001b[39;00m pyspark\u001b[38;5;241m.\u001b[39msql\u001b[38;5;241m.\u001b[39mutils\u001b[38;5;241m.\u001b[39mCapturedException \u001b[38;5;28;01mas\u001b[39;00m e:\n\u001b[1;32m     33\u001b[0m     \u001b[38;5;28;01mraise\u001b[39;00m FatalError(\u001b[38;5;124m'\u001b[39m\u001b[38;5;132;01m%s\u001b[39;00m\u001b[38;5;130;01m\\n\u001b[39;00m\u001b[38;5;130;01m\\n\u001b[39;00m\u001b[38;5;124mJava stack trace:\u001b[39m\u001b[38;5;130;01m\\n\u001b[39;00m\u001b[38;5;132;01m%s\u001b[39;00m\u001b[38;5;130;01m\\n\u001b[39;00m\u001b[38;5;124m'\u001b[39m\n\u001b[1;32m     34\u001b[0m                      \u001b[38;5;124m'\u001b[39m\u001b[38;5;124mHail version: \u001b[39m\u001b[38;5;132;01m%s\u001b[39;00m\u001b[38;5;130;01m\\n\u001b[39;00m\u001b[38;5;124m'\u001b[39m\n\u001b[1;32m     35\u001b[0m                      \u001b[38;5;124m'\u001b[39m\u001b[38;5;124mError summary: \u001b[39m\u001b[38;5;132;01m%s\u001b[39;00m\u001b[38;5;124m'\u001b[39m \u001b[38;5;241m%\u001b[39m (e\u001b[38;5;241m.\u001b[39mdesc, e\u001b[38;5;241m.\u001b[39mstackTrace, hail\u001b[38;5;241m.\u001b[39m__version__, e\u001b[38;5;241m.\u001b[39mdesc)) \u001b[38;5;28;01mfrom\u001b[39;00m \u001b[38;5;28mNone\u001b[39m\n",
      "\u001b[0;31mFatalError\u001b[0m: OutOfMemoryError: Java heap space\n\nJava stack trace:\norg.apache.spark.SparkException: Job aborted due to stage failure: Task 0 in stage 477.0 failed 1 times, most recent failure: Lost task 0.0 in stage 477.0 (TID 4107) (192.168.nate.com executor driver): java.lang.OutOfMemoryError: Java heap space\n\tat is.hail.utils.richUtils.RichDenseMatrixDouble$.read(RichDenseMatrixDouble.scala:34)\n\tat is.hail.linalg.BlockMatrix$.readBlock$1(BlockMatrix.scala:175)\n\tat is.hail.linalg.BlockMatrix$.$anonfun$read$1(BlockMatrix.scala:181)\n\tat is.hail.linalg.BlockMatrix$.$anonfun$read$1$adapted(BlockMatrix.scala:181)\n\tat is.hail.linalg.BlockMatrix$$$Lambda$6328/0x00000008017ff840.apply(Unknown Source)\n\tat is.hail.HailContext$$anon$1.compute(HailContext.scala:174)\n\tat org.apache.spark.rdd.RDD.computeOrReadCheckpoint(RDD.scala:373)\n\tat org.apache.spark.rdd.RDD.iterator(RDD.scala:337)\n\tat is.hail.linalg.BlockMatrixTransposeRDD.compute(BlockMatrix.scala:1749)\n\tat org.apache.spark.rdd.RDD.computeOrReadCheckpoint(RDD.scala:373)\n\tat org.apache.spark.rdd.RDD.iterator(RDD.scala:337)\n\tat is.hail.linalg.BlockMatrix$.block(BlockMatrix.scala:194)\n\tat is.hail.linalg.BlockMatrixMultiplyRDD.compute(BlockMatrix.scala:1858)\n\tat org.apache.spark.rdd.RDD.computeOrReadCheckpoint(RDD.scala:373)\n\tat org.apache.spark.rdd.RDD.iterator(RDD.scala:337)\n\tat org.apache.spark.rdd.MapPartitionsRDD.compute(MapPartitionsRDD.scala:52)\n\tat is.hail.utils.richUtils.RichRDD$$anon$1.compute(RichRDD.scala:152)\n\tat org.apache.spark.rdd.RDD.computeOrReadCheckpoint(RDD.scala:373)\n\tat org.apache.spark.rdd.RDD.iterator(RDD.scala:337)\n\tat org.apache.spark.rdd.MapPartitionsRDD.compute(MapPartitionsRDD.scala:52)\n\tat org.apache.spark.rdd.RDD.computeOrReadCheckpoint(RDD.scala:373)\n\tat org.apache.spark.rdd.RDD.iterator(RDD.scala:337)\n\tat org.apache.spark.rdd.MapPartitionsRDD.compute(MapPartitionsRDD.scala:52)\n\tat org.apache.spark.rdd.RDD.computeOrReadCheckpoint(RDD.scala:373)\n\tat org.apache.spark.rdd.RDD.iterator(RDD.scala:337)\n\tat org.apache.spark.rdd.MapPartitionsRDD.compute(MapPartitionsRDD.scala:52)\n\tat org.apache.spark.rdd.RDD.computeOrReadCheckpoint(RDD.scala:373)\n\tat org.apache.spark.rdd.RDD.iterator(RDD.scala:337)\n\tat org.apache.spark.rdd.MapPartitionsRDD.compute(MapPartitionsRDD.scala:52)\n\tat org.apache.spark.rdd.RDD.computeOrReadCheckpoint(RDD.scala:373)\n\tat org.apache.spark.rdd.RDD.iterator(RDD.scala:337)\n\tat org.apache.spark.rdd.MapPartitionsRDD.compute(MapPartitionsRDD.scala:52)\n\nDriver stacktrace:\n\tat org.apache.spark.scheduler.DAGScheduler.failJobAndIndependentStages(DAGScheduler.scala:2303)\n\tat org.apache.spark.scheduler.DAGScheduler.$anonfun$abortStage$2(DAGScheduler.scala:2252)\n\tat org.apache.spark.scheduler.DAGScheduler.$anonfun$abortStage$2$adapted(DAGScheduler.scala:2251)\n\tat scala.collection.mutable.ResizableArray.foreach(ResizableArray.scala:62)\n\tat scala.collection.mutable.ResizableArray.foreach$(ResizableArray.scala:55)\n\tat scala.collection.mutable.ArrayBuffer.foreach(ArrayBuffer.scala:49)\n\tat org.apache.spark.scheduler.DAGScheduler.abortStage(DAGScheduler.scala:2251)\n\tat org.apache.spark.scheduler.DAGScheduler.$anonfun$handleTaskSetFailed$1(DAGScheduler.scala:1124)\n\tat org.apache.spark.scheduler.DAGScheduler.$anonfun$handleTaskSetFailed$1$adapted(DAGScheduler.scala:1124)\n\tat scala.Option.foreach(Option.scala:407)\n\tat org.apache.spark.scheduler.DAGScheduler.handleTaskSetFailed(DAGScheduler.scala:1124)\n\tat org.apache.spark.scheduler.DAGSchedulerEventProcessLoop.doOnReceive(DAGScheduler.scala:2490)\n\tat org.apache.spark.scheduler.DAGSchedulerEventProcessLoop.onReceive(DAGScheduler.scala:2432)\n\tat org.apache.spark.scheduler.DAGSchedulerEventProcessLoop.onReceive(DAGScheduler.scala:2421)\n\tat org.apache.spark.util.EventLoop$$anon$1.run(EventLoop.scala:49)\n\tat org.apache.spark.scheduler.DAGScheduler.runJob(DAGScheduler.scala:902)\n\tat org.apache.spark.SparkContext.runJob(SparkContext.scala:2196)\n\tat org.apache.spark.SparkContext.runJob(SparkContext.scala:2217)\n\tat org.apache.spark.SparkContext.runJob(SparkContext.scala:2236)\n\tat org.apache.spark.SparkContext.runJob(SparkContext.scala:2261)\n\tat org.apache.spark.rdd.RDD.$anonfun$collect$1(RDD.scala:1030)\n\tat org.apache.spark.rdd.RDDOperationScope$.withScope(RDDOperationScope.scala:151)\n\tat org.apache.spark.rdd.RDDOperationScope$.withScope(RDDOperationScope.scala:112)\n\tat org.apache.spark.rdd.RDD.withScope(RDD.scala:414)\n\tat org.apache.spark.rdd.RDD.collect(RDD.scala:1029)\n\tat is.hail.sparkextras.ContextRDD.collect(ContextRDD.scala:176)\n\tat is.hail.utils.richUtils.RichContextRDD.writePartitions(RichContextRDD.scala:105)\n\tat is.hail.io.RichContextRDDLong$.writeRows$extension(RichContextRDDRegionValue.scala:230)\n\tat is.hail.rvd.RVD.write(RVD.scala:767)\n\tat is.hail.expr.ir.TableNativeWriter.apply(TableWriter.scala:124)\n\tat is.hail.expr.ir.Interpret$.run(Interpret.scala:864)\n\tat is.hail.expr.ir.Interpret$.alreadyLowered(Interpret.scala:58)\n\tat is.hail.expr.ir.LowerOrInterpretNonCompilable$.evaluate$1(LowerOrInterpretNonCompilable.scala:20)\n\tat is.hail.expr.ir.LowerOrInterpretNonCompilable$.rewrite$1(LowerOrInterpretNonCompilable.scala:67)\n\tat is.hail.expr.ir.LowerOrInterpretNonCompilable$.apply(LowerOrInterpretNonCompilable.scala:72)\n\tat is.hail.expr.ir.lowering.LowerOrInterpretNonCompilablePass$.transform(LoweringPass.scala:69)\n\tat is.hail.expr.ir.lowering.LoweringPass.$anonfun$apply$3(LoweringPass.scala:16)\n\tat is.hail.utils.ExecutionTimer.time(ExecutionTimer.scala:81)\n\tat is.hail.expr.ir.lowering.LoweringPass.$anonfun$apply$1(LoweringPass.scala:16)\n\tat is.hail.utils.ExecutionTimer.time(ExecutionTimer.scala:81)\n\tat is.hail.expr.ir.lowering.LoweringPass.apply(LoweringPass.scala:14)\n\tat is.hail.expr.ir.lowering.LoweringPass.apply$(LoweringPass.scala:13)\n\tat is.hail.expr.ir.lowering.LowerOrInterpretNonCompilablePass$.apply(LoweringPass.scala:64)\n\tat is.hail.expr.ir.lowering.LoweringPipeline.$anonfun$apply$1(LoweringPipeline.scala:22)\n\tat is.hail.expr.ir.lowering.LoweringPipeline.$anonfun$apply$1$adapted(LoweringPipeline.scala:20)\n\tat scala.collection.IndexedSeqOptimized.foreach(IndexedSeqOptimized.scala:36)\n\tat scala.collection.IndexedSeqOptimized.foreach$(IndexedSeqOptimized.scala:33)\n\tat scala.collection.mutable.WrappedArray.foreach(WrappedArray.scala:38)\n\tat is.hail.expr.ir.lowering.LoweringPipeline.apply(LoweringPipeline.scala:20)\n\tat is.hail.expr.ir.CompileAndEvaluate$._apply(CompileAndEvaluate.scala:47)\n\tat is.hail.backend.spark.SparkBackend._execute(SparkBackend.scala:453)\n\tat is.hail.backend.spark.SparkBackend.$anonfun$executeEncode$2(SparkBackend.scala:489)\n\tat is.hail.backend.ExecuteContext$.$anonfun$scoped$3(ExecuteContext.scala:73)\n\tat is.hail.utils.package$.using(package.scala:635)\n\tat is.hail.backend.ExecuteContext$.$anonfun$scoped$2(ExecuteContext.scala:73)\n\tat is.hail.utils.package$.using(package.scala:635)\n\tat is.hail.annotations.RegionPool$.scoped(RegionPool.scala:17)\n\tat is.hail.backend.ExecuteContext$.scoped(ExecuteContext.scala:61)\n\tat is.hail.backend.spark.SparkBackend.withExecuteContext(SparkBackend.scala:341)\n\tat is.hail.backend.spark.SparkBackend.$anonfun$executeEncode$1(SparkBackend.scala:486)\n\tat is.hail.utils.ExecutionTimer$.time(ExecutionTimer.scala:52)\n\tat is.hail.backend.spark.SparkBackend.executeEncode(SparkBackend.scala:485)\n\tat java.base/jdk.internal.reflect.NativeMethodAccessorImpl.invoke0(Native Method)\n\tat java.base/jdk.internal.reflect.NativeMethodAccessorImpl.invoke(NativeMethodAccessorImpl.java:62)\n\tat java.base/jdk.internal.reflect.DelegatingMethodAccessorImpl.invoke(DelegatingMethodAccessorImpl.java:43)\n\tat java.base/java.lang.reflect.Method.invoke(Method.java:566)\n\tat py4j.reflection.MethodInvoker.invoke(MethodInvoker.java:244)\n\tat py4j.reflection.ReflectionEngine.invoke(ReflectionEngine.java:357)\n\tat py4j.Gateway.invoke(Gateway.java:282)\n\tat py4j.commands.AbstractCommand.invokeMethod(AbstractCommand.java:132)\n\tat py4j.commands.CallCommand.execute(CallCommand.java:79)\n\tat py4j.GatewayConnection.run(GatewayConnection.java:238)\n\tat java.base/java.lang.Thread.run(Thread.java:829)\n\njava.lang.OutOfMemoryError: Java heap space\n\tat is.hail.utils.richUtils.RichDenseMatrixDouble$.read(RichDenseMatrixDouble.scala:34)\n\tat is.hail.linalg.BlockMatrix$.readBlock$1(BlockMatrix.scala:175)\n\tat is.hail.linalg.BlockMatrix$.$anonfun$read$1(BlockMatrix.scala:181)\n\tat is.hail.linalg.BlockMatrix$.$anonfun$read$1$adapted(BlockMatrix.scala:181)\n\tat is.hail.linalg.BlockMatrix$$$Lambda$6328/0x00000008017ff840.apply(Unknown Source)\n\tat is.hail.HailContext$$anon$1.compute(HailContext.scala:174)\n\tat org.apache.spark.rdd.RDD.computeOrReadCheckpoint(RDD.scala:373)\n\tat org.apache.spark.rdd.RDD.iterator(RDD.scala:337)\n\tat is.hail.linalg.BlockMatrixTransposeRDD.compute(BlockMatrix.scala:1749)\n\tat org.apache.spark.rdd.RDD.computeOrReadCheckpoint(RDD.scala:373)\n\tat org.apache.spark.rdd.RDD.iterator(RDD.scala:337)\n\tat is.hail.linalg.BlockMatrix$.block(BlockMatrix.scala:194)\n\tat is.hail.linalg.BlockMatrixMultiplyRDD.compute(BlockMatrix.scala:1858)\n\tat org.apache.spark.rdd.RDD.computeOrReadCheckpoint(RDD.scala:373)\n\tat org.apache.spark.rdd.RDD.iterator(RDD.scala:337)\n\tat org.apache.spark.rdd.MapPartitionsRDD.compute(MapPartitionsRDD.scala:52)\n\tat is.hail.utils.richUtils.RichRDD$$anon$1.compute(RichRDD.scala:152)\n\tat org.apache.spark.rdd.RDD.computeOrReadCheckpoint(RDD.scala:373)\n\tat org.apache.spark.rdd.RDD.iterator(RDD.scala:337)\n\tat org.apache.spark.rdd.MapPartitionsRDD.compute(MapPartitionsRDD.scala:52)\n\tat org.apache.spark.rdd.RDD.computeOrReadCheckpoint(RDD.scala:373)\n\tat org.apache.spark.rdd.RDD.iterator(RDD.scala:337)\n\tat org.apache.spark.rdd.MapPartitionsRDD.compute(MapPartitionsRDD.scala:52)\n\tat org.apache.spark.rdd.RDD.computeOrReadCheckpoint(RDD.scala:373)\n\tat org.apache.spark.rdd.RDD.iterator(RDD.scala:337)\n\tat org.apache.spark.rdd.MapPartitionsRDD.compute(MapPartitionsRDD.scala:52)\n\tat org.apache.spark.rdd.RDD.computeOrReadCheckpoint(RDD.scala:373)\n\tat org.apache.spark.rdd.RDD.iterator(RDD.scala:337)\n\tat org.apache.spark.rdd.MapPartitionsRDD.compute(MapPartitionsRDD.scala:52)\n\tat org.apache.spark.rdd.RDD.computeOrReadCheckpoint(RDD.scala:373)\n\tat org.apache.spark.rdd.RDD.iterator(RDD.scala:337)\n\tat org.apache.spark.rdd.MapPartitionsRDD.compute(MapPartitionsRDD.scala:52)\n\n\n\n\nHail version: 0.2.109-b71b065e4bb6\nError summary: OutOfMemoryError: Java heap space"
     ]
    }
   ],
   "source": [
    "# pruning\n",
    "biallelic_mt = mt.filter_rows(hl.len(mt.alleles) == 2)\n",
    "pruned_variant_table = hl.ld_prune(mt.GT, r2=0.2, bp_window_size=500000)\n",
    "filtered_mt = mt.filter_rows(hl.is_defined(pruned_variant_table[mt.row_key]))"
   ]
  },
  {
   "cell_type": "code",
   "execution_count": null,
   "id": "2409bc40-37d0-45be-9601-7f395adc3c7c",
   "metadata": {},
   "outputs": [],
   "source": []
  }
 ],
 "metadata": {
  "kernelspec": {
   "display_name": "Python 3 (ipykernel)",
   "language": "python",
   "name": "python3"
  },
  "language_info": {
   "codemirror_mode": {
    "name": "ipython",
    "version": 3
   },
   "file_extension": ".py",
   "mimetype": "text/x-python",
   "name": "python",
   "nbconvert_exporter": "python",
   "pygments_lexer": "ipython3",
   "version": "3.9.16"
  }
 },
 "nbformat": 4,
 "nbformat_minor": 5
}
