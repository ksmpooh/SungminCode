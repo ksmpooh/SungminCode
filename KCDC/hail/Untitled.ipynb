{
 "cells": [
  {
   "cell_type": "code",
   "execution_count": 1,
   "id": "35c60711",
   "metadata": {},
   "outputs": [],
   "source": [
    "## hail VEP"
   ]
  },
  {
   "cell_type": "code",
   "execution_count": 1,
   "id": "6974328a",
   "metadata": {},
   "outputs": [],
   "source": [
    "import hail as hl"
   ]
  },
  {
   "cell_type": "code",
   "execution_count": 2,
   "id": "85f416e3",
   "metadata": {},
   "outputs": [
    {
     "data": {
      "text/plain": [
       "\u001b[0;31mSignature:\u001b[0m\n",
       "\u001b[0mhl\u001b[0m\u001b[0;34m.\u001b[0m\u001b[0minit_local\u001b[0m\u001b[0;34m(\u001b[0m\u001b[0;34m\u001b[0m\n",
       "\u001b[0;34m\u001b[0m    \u001b[0mlog\u001b[0m\u001b[0;34m=\u001b[0m\u001b[0;32mNone\u001b[0m\u001b[0;34m,\u001b[0m\u001b[0;34m\u001b[0m\n",
       "\u001b[0;34m\u001b[0m    \u001b[0mquiet\u001b[0m\u001b[0;34m=\u001b[0m\u001b[0;32mFalse\u001b[0m\u001b[0;34m,\u001b[0m\u001b[0;34m\u001b[0m\n",
       "\u001b[0;34m\u001b[0m    \u001b[0mappend\u001b[0m\u001b[0;34m=\u001b[0m\u001b[0;32mFalse\u001b[0m\u001b[0;34m,\u001b[0m\u001b[0;34m\u001b[0m\n",
       "\u001b[0;34m\u001b[0m    \u001b[0mbranching_factor\u001b[0m\u001b[0;34m=\u001b[0m\u001b[0;36m50\u001b[0m\u001b[0;34m,\u001b[0m\u001b[0;34m\u001b[0m\n",
       "\u001b[0;34m\u001b[0m    \u001b[0mtmpdir\u001b[0m\u001b[0;34m=\u001b[0m\u001b[0;32mNone\u001b[0m\u001b[0;34m,\u001b[0m\u001b[0;34m\u001b[0m\n",
       "\u001b[0;34m\u001b[0m    \u001b[0mdefault_reference\u001b[0m\u001b[0;34m=\u001b[0m\u001b[0;34m'GRCh37'\u001b[0m\u001b[0;34m,\u001b[0m\u001b[0;34m\u001b[0m\n",
       "\u001b[0;34m\u001b[0m    \u001b[0mglobal_seed\u001b[0m\u001b[0;34m=\u001b[0m\u001b[0;36m6348563392232659379\u001b[0m\u001b[0;34m,\u001b[0m\u001b[0;34m\u001b[0m\n",
       "\u001b[0;34m\u001b[0m    \u001b[0mskip_logging_configuration\u001b[0m\u001b[0;34m=\u001b[0m\u001b[0;32mFalse\u001b[0m\u001b[0;34m,\u001b[0m\u001b[0;34m\u001b[0m\n",
       "\u001b[0;34m\u001b[0m    \u001b[0m_optimizer_iterations\u001b[0m\u001b[0;34m=\u001b[0m\u001b[0;32mNone\u001b[0m\u001b[0;34m,\u001b[0m\u001b[0;34m\u001b[0m\n",
       "\u001b[0;34m\u001b[0m\u001b[0;34m)\u001b[0m\u001b[0;34m\u001b[0m\u001b[0;34m\u001b[0m\u001b[0m\n",
       "\u001b[0;31mDocstring:\u001b[0m <no docstring>\n",
       "\u001b[0;31mFile:\u001b[0m      /opt/homebrew/lib/python3.9/site-packages/hail/context.py\n",
       "\u001b[0;31mType:\u001b[0m      function\n"
      ]
     },
     "metadata": {},
     "output_type": "display_data"
    }
   ],
   "source": [
    "?hl.init_local"
   ]
  },
  {
   "cell_type": "code",
   "execution_count": 4,
   "id": "4ef10094-286f-4344-b58b-8da20c800026",
   "metadata": {},
   "outputs": [
    {
     "data": {
      "text/plain": [
       "\u001b[0;31mSignature:\u001b[0m\n",
       "\u001b[0mhl\u001b[0m\u001b[0;34m.\u001b[0m\u001b[0minit\u001b[0m\u001b[0;34m(\u001b[0m\u001b[0;34m\u001b[0m\n",
       "\u001b[0;34m\u001b[0m    \u001b[0msc\u001b[0m\u001b[0;34m=\u001b[0m\u001b[0;32mNone\u001b[0m\u001b[0;34m,\u001b[0m\u001b[0;34m\u001b[0m\n",
       "\u001b[0;34m\u001b[0m    \u001b[0mapp_name\u001b[0m\u001b[0;34m=\u001b[0m\u001b[0;32mNone\u001b[0m\u001b[0;34m,\u001b[0m\u001b[0;34m\u001b[0m\n",
       "\u001b[0;34m\u001b[0m    \u001b[0mmaster\u001b[0m\u001b[0;34m=\u001b[0m\u001b[0;32mNone\u001b[0m\u001b[0;34m,\u001b[0m\u001b[0;34m\u001b[0m\n",
       "\u001b[0;34m\u001b[0m    \u001b[0mlocal\u001b[0m\u001b[0;34m=\u001b[0m\u001b[0;34m'local[*]'\u001b[0m\u001b[0;34m,\u001b[0m\u001b[0;34m\u001b[0m\n",
       "\u001b[0;34m\u001b[0m    \u001b[0mlog\u001b[0m\u001b[0;34m=\u001b[0m\u001b[0;32mNone\u001b[0m\u001b[0;34m,\u001b[0m\u001b[0;34m\u001b[0m\n",
       "\u001b[0;34m\u001b[0m    \u001b[0mquiet\u001b[0m\u001b[0;34m=\u001b[0m\u001b[0;32mFalse\u001b[0m\u001b[0;34m,\u001b[0m\u001b[0;34m\u001b[0m\n",
       "\u001b[0;34m\u001b[0m    \u001b[0mappend\u001b[0m\u001b[0;34m=\u001b[0m\u001b[0;32mFalse\u001b[0m\u001b[0;34m,\u001b[0m\u001b[0;34m\u001b[0m\n",
       "\u001b[0;34m\u001b[0m    \u001b[0mmin_block_size\u001b[0m\u001b[0;34m=\u001b[0m\u001b[0;36m0\u001b[0m\u001b[0;34m,\u001b[0m\u001b[0;34m\u001b[0m\n",
       "\u001b[0;34m\u001b[0m    \u001b[0mbranching_factor\u001b[0m\u001b[0;34m=\u001b[0m\u001b[0;36m50\u001b[0m\u001b[0;34m,\u001b[0m\u001b[0;34m\u001b[0m\n",
       "\u001b[0;34m\u001b[0m    \u001b[0mtmp_dir\u001b[0m\u001b[0;34m=\u001b[0m\u001b[0;32mNone\u001b[0m\u001b[0;34m,\u001b[0m\u001b[0;34m\u001b[0m\n",
       "\u001b[0;34m\u001b[0m    \u001b[0mdefault_reference\u001b[0m\u001b[0;34m=\u001b[0m\u001b[0;34m'GRCh37'\u001b[0m\u001b[0;34m,\u001b[0m\u001b[0;34m\u001b[0m\n",
       "\u001b[0;34m\u001b[0m    \u001b[0midempotent\u001b[0m\u001b[0;34m=\u001b[0m\u001b[0;32mFalse\u001b[0m\u001b[0;34m,\u001b[0m\u001b[0;34m\u001b[0m\n",
       "\u001b[0;34m\u001b[0m    \u001b[0mglobal_seed\u001b[0m\u001b[0;34m=\u001b[0m\u001b[0;36m6348563392232659379\u001b[0m\u001b[0;34m,\u001b[0m\u001b[0;34m\u001b[0m\n",
       "\u001b[0;34m\u001b[0m    \u001b[0mspark_conf\u001b[0m\u001b[0;34m=\u001b[0m\u001b[0;32mNone\u001b[0m\u001b[0;34m,\u001b[0m\u001b[0;34m\u001b[0m\n",
       "\u001b[0;34m\u001b[0m    \u001b[0mskip_logging_configuration\u001b[0m\u001b[0;34m=\u001b[0m\u001b[0;32mFalse\u001b[0m\u001b[0;34m,\u001b[0m\u001b[0;34m\u001b[0m\n",
       "\u001b[0;34m\u001b[0m    \u001b[0mlocal_tmpdir\u001b[0m\u001b[0;34m=\u001b[0m\u001b[0;32mNone\u001b[0m\u001b[0;34m,\u001b[0m\u001b[0;34m\u001b[0m\n",
       "\u001b[0;34m\u001b[0m    \u001b[0m_optimizer_iterations\u001b[0m\u001b[0;34m=\u001b[0m\u001b[0;32mNone\u001b[0m\u001b[0;34m,\u001b[0m\u001b[0;34m\u001b[0m\n",
       "\u001b[0;34m\u001b[0m    \u001b[0;34m*\u001b[0m\u001b[0;34m,\u001b[0m\u001b[0;34m\u001b[0m\n",
       "\u001b[0;34m\u001b[0m    \u001b[0mbackend\u001b[0m\u001b[0;34m=\u001b[0m\u001b[0;32mNone\u001b[0m\u001b[0;34m,\u001b[0m\u001b[0;34m\u001b[0m\n",
       "\u001b[0;34m\u001b[0m    \u001b[0mdriver_cores\u001b[0m\u001b[0;34m=\u001b[0m\u001b[0;32mNone\u001b[0m\u001b[0;34m,\u001b[0m\u001b[0;34m\u001b[0m\n",
       "\u001b[0;34m\u001b[0m    \u001b[0mdriver_memory\u001b[0m\u001b[0;34m=\u001b[0m\u001b[0;32mNone\u001b[0m\u001b[0;34m,\u001b[0m\u001b[0;34m\u001b[0m\n",
       "\u001b[0;34m\u001b[0m    \u001b[0mworker_cores\u001b[0m\u001b[0;34m=\u001b[0m\u001b[0;32mNone\u001b[0m\u001b[0;34m,\u001b[0m\u001b[0;34m\u001b[0m\n",
       "\u001b[0;34m\u001b[0m    \u001b[0mworker_memory\u001b[0m\u001b[0;34m=\u001b[0m\u001b[0;32mNone\u001b[0m\u001b[0;34m,\u001b[0m\u001b[0;34m\u001b[0m\n",
       "\u001b[0;34m\u001b[0m\u001b[0;34m)\u001b[0m\u001b[0;34m\u001b[0m\u001b[0;34m\u001b[0m\u001b[0m\n",
       "\u001b[0;31mDocstring:\u001b[0m\n",
       "Initialize and configure Hail.\n",
       "\n",
       "This function will be called with default arguments if any Hail functionality is used. If you\n",
       "need custom configuration, you must explicitly call this function before using Hail. For\n",
       "example, to set the default reference genome to GRCh38, import Hail and immediately call\n",
       ":func:`.init`:\n",
       "\n",
       ">>> import hail as hl\n",
       ">>> hl.init(default_reference='GRCh38')  # doctest: +SKIP\n",
       "\n",
       "Hail has two backends, ``spark`` and ``batch``. Hail selects a backend by consulting, in order,\n",
       "these configuration locations:\n",
       "\n",
       "1. The ``backend`` parameter of this function.\n",
       "2. The ``HAIL_QUERY_BACKEND`` environment variable.\n",
       "3. The value of ``hailctl config get query/backend``.\n",
       "\n",
       "If no configuration is found, Hail will select the Spark backend.\n",
       "\n",
       "Examples\n",
       "--------\n",
       "Configure Hail to use the Batch backend:\n",
       "\n",
       ">>> import hail as hl\n",
       ">>> hl.init(backend='batch')  # doctest: +SKIP\n",
       "\n",
       "If a :class:`pyspark.SparkContext` is already running, then Hail must be\n",
       "initialized with it as an argument:\n",
       "\n",
       ">>> hl.init(sc=sc)  # doctest: +SKIP\n",
       "\n",
       "See Also\n",
       "--------\n",
       ":func:`.stop`\n",
       "\n",
       "Parameters\n",
       "----------\n",
       "sc : pyspark.SparkContext, optional\n",
       "    Spark Backend only. Spark context. If not specified, the Spark backend will create a new\n",
       "    Spark context.\n",
       "app_name : :class:`str`\n",
       "    A name for this pipeline. In the Spark backend, this becomes the Spark application name. In\n",
       "    the Batch backend, this is a prefix for the name of every Batch.\n",
       "master : :class:`str`, optional\n",
       "    Spark Backend only. URL identifying the Spark leader (master) node or `local[N]` for local\n",
       "    clusters.\n",
       "local : :class:`str`\n",
       "    Spark Backend only. Local-mode core limit indicator. Must either be `local[N]` where N is a\n",
       "    positive integer or `local[*]`. The latter indicates Spark should use all cores\n",
       "    available. `local[*]` does not respect most containerization CPU limits. This option is only\n",
       "    used if `master` is unset and `spark.master` is not set in the Spark configuration.\n",
       "log : :class:`str`\n",
       "    Local path for Hail log file. Does not currently support distributed file systems like\n",
       "    Google Storage, S3, or HDFS.\n",
       "quiet : :obj:`bool`\n",
       "    Print fewer log messages.\n",
       "append : :obj:`bool`\n",
       "    Append to the end of the log file.\n",
       "min_block_size : :obj:`int`\n",
       "    Minimum file block size in MB.\n",
       "branching_factor : :obj:`int`\n",
       "    Branching factor for tree aggregation.\n",
       "tmp_dir : :class:`str`, optional\n",
       "    Networked temporary directory.  Must be a network-visible file\n",
       "    path.  Defaults to /tmp in the default scheme.\n",
       "default_reference : :class:`str`\n",
       "    Default reference genome. Either ``'GRCh37'``, ``'GRCh38'``,\n",
       "    ``'GRCm38'``, or ``'CanFam3'``.\n",
       "idempotent : :obj:`bool`\n",
       "    If ``True``, calling this function is a no-op if Hail has already been initialized.\n",
       "global_seed : :obj:`int`, optional\n",
       "    Global random seed.\n",
       "spark_conf : :obj:`dict` of :class:`str` to :class`str`, optional\n",
       "    Spark backend only. Spark configuration parameters.\n",
       "skip_logging_configuration : :obj:`bool`\n",
       "    Spark Backend only. Skip logging configuration in java and python.\n",
       "local_tmpdir : :class:`str`, optional\n",
       "    Local temporary directory.  Used on driver and executor nodes.\n",
       "    Must use the file scheme.  Defaults to TMPDIR, or /tmp.\n",
       "driver_cores : :class:`str` or :class:`int`, optional\n",
       "    Batch backend only. Number of cores to use for the driver process. May be 1 or 8. Default is\n",
       "    1.\n",
       "driver_memory : :class:`str`, optional\n",
       "    Batch backend only. Memory tier to use for the driver process. May be standard or\n",
       "    highmem. Default is standard.\n",
       "worker_cores : :class:`str` or :class:`int`, optional\n",
       "    Batch backend only. Number of cores to use for the worker processes. May be 1 or 8. Default is\n",
       "    1.\n",
       "worker_memory : :class:`str`, optional\n",
       "    Batch backend only. Memory tier to use for the worker processes. May be standard or\n",
       "    highmem. Default is standard.\n",
       "\u001b[0;31mFile:\u001b[0m      /opt/homebrew/lib/python3.9/site-packages/hail/context.py\n",
       "\u001b[0;31mType:\u001b[0m      function\n"
      ]
     },
     "metadata": {},
     "output_type": "display_data"
    }
   ],
   "source": [
    "?hl.init"
   ]
  },
  {
   "cell_type": "code",
   "execution_count": null,
   "id": "f8209f93-2afc-4be5-9bf3-4d4216c6e4f0",
   "metadata": {},
   "outputs": [],
   "source": []
  }
 ],
 "metadata": {
  "kernelspec": {
   "display_name": "Python 3 (ipykernel)",
   "language": "python",
   "name": "python3"
  },
  "language_info": {
   "codemirror_mode": {
    "name": "ipython",
    "version": 3
   },
   "file_extension": ".py",
   "mimetype": "text/x-python",
   "name": "python",
   "nbconvert_exporter": "python",
   "pygments_lexer": "ipython3",
   "version": "3.9.16"
  }
 },
 "nbformat": 4,
 "nbformat_minor": 5
}
