{
 "cells": [
  {
   "cell_type": "code",
   "execution_count": 10,
   "metadata": {},
   "outputs": [],
   "source": [
    "SnpEff_summary_genome20 <- read.table(\"E:/질병관리본부/cf/SnpEff_result/SnpEff/SnpEff_genome20/snpEff_summary_genome20.genes.txt\",header = T,sep = \"\\t\")"
   ]
  },
  {
   "cell_type": "code",
   "execution_count": 11,
   "metadata": {},
   "outputs": [
    {
     "data": {
      "text/html": [
       "<table>\n",
       "<thead><tr><th scope=col>AAR2</th><th scope=col>AAR2.1</th><th scope=col>NM_001271874.1</th><th scope=col>protein_coding</th><th scope=col>X6</th><th scope=col>X33</th><th scope=col>X58</th><th scope=col>X2419</th><th scope=col>X0</th><th scope=col>X95</th><th scope=col>...</th><th scope=col>X1.3</th><th scope=col>X0.8</th><th scope=col>X8</th><th scope=col>X0.9</th><th scope=col>X1.4</th><th scope=col>X0.10</th><th scope=col>X0.11</th><th scope=col>X0.12</th><th scope=col>X24</th><th scope=col>X372</th></tr></thead>\n",
       "<tbody>\n",
       "\t<tr><td>AAR2          </td><td>AAR2          </td><td>NM_015511.4   </td><td>protein_coding</td><td> 7            </td><td>34            </td><td>58            </td><td> 2419         </td><td>0             </td><td>95            </td><td>...           </td><td>1             </td><td>1             </td><td> 5            </td><td>0             </td><td>1             </td><td>0             </td><td>0             </td><td>0             </td><td>24            </td><td>372           </td></tr>\n",
       "\t<tr><td>ABALON        </td><td>ABALON        </td><td>NR_131907.1   </td><td>              </td><td> 0            </td><td> 0            </td><td> 0            </td><td>  995         </td><td>0             </td><td> 0            </td><td>...           </td><td>0             </td><td>0             </td><td> 0            </td><td>0             </td><td>0             </td><td>0             </td><td>0             </td><td>0             </td><td> 0            </td><td>360           </td></tr>\n",
       "\t<tr><td>ABHD12        </td><td>ABHD12        </td><td>NM_001042472.2</td><td>protein_coding</td><td>13            </td><td>60            </td><td>69            </td><td> 9980         </td><td>0             </td><td>58            </td><td>...           </td><td>1             </td><td>2             </td><td>24            </td><td>0             </td><td>4             </td><td>1             </td><td>0             </td><td>0             </td><td>37            </td><td>630           </td></tr>\n",
       "\t<tr><td>ABHD12        </td><td>ABHD12        </td><td>NM_015600.4   </td><td>protein_coding</td><td>13            </td><td>60            </td><td>70            </td><td>10575         </td><td>0             </td><td>22            </td><td>...           </td><td>2             </td><td>2             </td><td>23            </td><td>0             </td><td>5             </td><td>0             </td><td>0             </td><td>0             </td><td>37            </td><td>630           </td></tr>\n",
       "\t<tr><td>ABHD16B       </td><td>ABHD16B       </td><td>NM_080622.3   </td><td>protein_coding</td><td>12            </td><td>56            </td><td>92            </td><td> 1175         </td><td>0             </td><td> 2            </td><td>...           </td><td>0             </td><td>0             </td><td> 0            </td><td>0             </td><td>6             </td><td>0             </td><td>0             </td><td>0             </td><td>54            </td><td>538           </td></tr>\n",
       "\t<tr><td>ACOT8         </td><td>ACOT8         </td><td>NM_005469.3   </td><td>protein_coding</td><td>13            </td><td>28            </td><td>59            </td><td> 2124         </td><td>0             </td><td>11            </td><td>...           </td><td>0             </td><td>1             </td><td> 9            </td><td>1             </td><td>5             </td><td>1             </td><td>0             </td><td>0             </td><td>22            </td><td>448           </td></tr>\n",
       "</tbody>\n",
       "</table>\n"
      ],
      "text/latex": [
       "\\begin{tabular}{r|llllllllllllllllllllllllllllllllllll}\n",
       " AAR2 & AAR2.1 & NM\\_001271874.1 & protein\\_coding & X6 & X33 & X58 & X2419 & X0 & X95 & ... & X1.3 & X0.8 & X8 & X0.9 & X1.4 & X0.10 & X0.11 & X0.12 & X24 & X372\\\\\n",
       "\\hline\n",
       "\t AAR2             & AAR2             & NM\\_015511.4    & protein\\_coding &  7               & 34               & 58               &  2419            & 0                & 95               & ...              & 1                & 1                &  5               & 0                & 1                & 0                & 0                & 0                & 24               & 372             \\\\\n",
       "\t ABALON           & ABALON           & NR\\_131907.1    &                  &  0               &  0               &  0               &   995            & 0                &  0               & ...              & 0                & 0                &  0               & 0                & 0                & 0                & 0                & 0                &  0               & 360             \\\\\n",
       "\t ABHD12           & ABHD12           & NM\\_001042472.2 & protein\\_coding & 13               & 60               & 69               &  9980            & 0                & 58               & ...              & 1                & 2                & 24               & 0                & 4                & 1                & 0                & 0                & 37               & 630             \\\\\n",
       "\t ABHD12           & ABHD12           & NM\\_015600.4    & protein\\_coding & 13               & 60               & 70               & 10575            & 0                & 22               & ...              & 2                & 2                & 23               & 0                & 5                & 0                & 0                & 0                & 37               & 630             \\\\\n",
       "\t ABHD16B          & ABHD16B          & NM\\_080622.3    & protein\\_coding & 12               & 56               & 92               &  1175            & 0                &  2               & ...              & 0                & 0                &  0               & 0                & 6                & 0                & 0                & 0                & 54               & 538             \\\\\n",
       "\t ACOT8            & ACOT8            & NM\\_005469.3    & protein\\_coding & 13               & 28               & 59               &  2124            & 0                & 11               & ...              & 0                & 1                &  9               & 1                & 5                & 1                & 0                & 0                & 22               & 448             \\\\\n",
       "\\end{tabular}\n"
      ],
      "text/markdown": [
       "\n",
       "| AAR2 | AAR2.1 | NM_001271874.1 | protein_coding | X6 | X33 | X58 | X2419 | X0 | X95 | ... | X1.3 | X0.8 | X8 | X0.9 | X1.4 | X0.10 | X0.11 | X0.12 | X24 | X372 |\n",
       "|---|---|---|---|---|---|---|---|---|---|---|---|---|---|---|---|---|---|---|---|---|\n",
       "| AAR2           | AAR2           | NM_015511.4    | protein_coding |  7             | 34             | 58             |  2419          | 0              | 95             | ...            | 1              | 1              |  5             | 0              | 1              | 0              | 0              | 0              | 24             | 372            |\n",
       "| ABALON         | ABALON         | NR_131907.1    |                |  0             |  0             |  0             |   995          | 0              |  0             | ...            | 0              | 0              |  0             | 0              | 0              | 0              | 0              | 0              |  0             | 360            |\n",
       "| ABHD12         | ABHD12         | NM_001042472.2 | protein_coding | 13             | 60             | 69             |  9980          | 0              | 58             | ...            | 1              | 2              | 24             | 0              | 4              | 1              | 0              | 0              | 37             | 630            |\n",
       "| ABHD12         | ABHD12         | NM_015600.4    | protein_coding | 13             | 60             | 70             | 10575          | 0              | 22             | ...            | 2              | 2              | 23             | 0              | 5              | 0              | 0              | 0              | 37             | 630            |\n",
       "| ABHD16B        | ABHD16B        | NM_080622.3    | protein_coding | 12             | 56             | 92             |  1175          | 0              |  2             | ...            | 0              | 0              |  0             | 0              | 6              | 0              | 0              | 0              | 54             | 538            |\n",
       "| ACOT8          | ACOT8          | NM_005469.3    | protein_coding | 13             | 28             | 59             |  2124          | 0              | 11             | ...            | 0              | 1              |  9             | 1              | 5              | 1              | 0              | 0              | 22             | 448            |\n",
       "\n"
      ],
      "text/plain": [
       "  AAR2    AAR2.1  NM_001271874.1 protein_coding X6 X33 X58 X2419 X0 X95 ...\n",
       "1 AAR2    AAR2    NM_015511.4    protein_coding  7 34  58   2419 0  95  ...\n",
       "2 ABALON  ABALON  NR_131907.1                    0  0   0    995 0   0  ...\n",
       "3 ABHD12  ABHD12  NM_001042472.2 protein_coding 13 60  69   9980 0  58  ...\n",
       "4 ABHD12  ABHD12  NM_015600.4    protein_coding 13 60  70  10575 0  22  ...\n",
       "5 ABHD16B ABHD16B NM_080622.3    protein_coding 12 56  92   1175 0   2  ...\n",
       "6 ACOT8   ACOT8   NM_005469.3    protein_coding 13 28  59   2124 0  11  ...\n",
       "  X1.3 X0.8 X8 X0.9 X1.4 X0.10 X0.11 X0.12 X24 X372\n",
       "1 1    1     5 0    1    0     0     0     24  372 \n",
       "2 0    0     0 0    0    0     0     0      0  360 \n",
       "3 1    2    24 0    4    1     0     0     37  630 \n",
       "4 2    2    23 0    5    0     0     0     37  630 \n",
       "5 0    0     0 0    6    0     0     0     54  538 \n",
       "6 0    1     9 1    5    1     0     0     22  448 "
      ]
     },
     "metadata": {},
     "output_type": "display_data"
    }
   ],
   "source": [
    "head(SnpEff_summary_genome20)"
   ]
  },
  {
   "cell_type": "code",
   "execution_count": null,
   "metadata": {},
   "outputs": [],
   "source": []
  }
 ],
 "metadata": {
  "kernelspec": {
   "display_name": "R",
   "language": "R",
   "name": "ir"
  },
  "language_info": {
   "codemirror_mode": "r",
   "file_extension": ".r",
   "mimetype": "text/x-r-source",
   "name": "R",
   "pygments_lexer": "r",
   "version": "3.6.0"
  }
 },
 "nbformat": 4,
 "nbformat_minor": 2
}
