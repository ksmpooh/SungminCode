{
 "cells": [
  {
   "cell_type": "markdown",
   "metadata": {},
   "source": [
    "#imput4 -no_amf_align -buffer 1000 -int 1 12345(Imputation_Pos 칼럼)\\\n",
    "#-h reference.hap.gz(Ref_Pos 칼럼) -l reference.legend.gz(Ref_Pos 칼럼) \\\n",
    "#-m genetic_map(공개용 사용) -g phasing.haps.gz -o_gz -o chr1_12345"
   ]
  },
  {
   "cell_type": "code",
   "execution_count": 7,
   "metadata": {},
   "outputs": [],
   "source": [
    "import os,glob"
   ]
  },
  {
   "cell_type": "code",
   "execution_count": 2,
   "metadata": {},
   "outputs": [],
   "source": [
    "inDir = \"/DATA/smkim/Gastric/Imputation/INPUTs/\"\n",
    "outDir = \"/DATA/smkim/Gastric/\"\n",
    "RDATA = \"/RDATA9/smkim/Gastric/\"\n",
    "tools = \"/DATA/smkim/Gastric/TOOLs/impute4.1.2_r300.2\""
   ]
  },
  {
   "cell_type": "code",
   "execution_count": 6,
   "metadata": {},
   "outputs": [
    {
     "ename": "SyntaxError",
     "evalue": "unexpected EOF while parsing (<ipython-input-6-a2da5cc24a0a>, line 2)",
     "output_type": "error",
     "traceback": [
      "\u001b[1;36m  File \u001b[1;32m\"<ipython-input-6-a2da5cc24a0a>\"\u001b[1;36m, line \u001b[1;32m2\u001b[0m\n\u001b[1;33m    \u001b[0m\n\u001b[1;37m    ^\u001b[0m\n\u001b[1;31mSyntaxError\u001b[0m\u001b[1;31m:\u001b[0m unexpected EOF while parsing\n"
     ]
    }
   ],
   "source": [
    "def sh_write():\n",
    "    print(\"write sh\")\n",
    "    for chr in range(1,22+1):"
   ]
  },
  {
   "cell_type": "code",
   "execution_count": null,
   "metadata": {},
   "outputs": [],
   "source": [
    "def main():\n",
    "    print(\"main : \")\n",
    "    h"
   ]
  }
 ],
 "metadata": {
  "kernelspec": {
   "display_name": "Python 3",
   "language": "python",
   "name": "python3"
  },
  "language_info": {
   "codemirror_mode": {
    "name": "ipython",
    "version": 3
   },
   "file_extension": ".py",
   "mimetype": "text/x-python",
   "name": "python",
   "nbconvert_exporter": "python",
   "pygments_lexer": "ipython3",
   "version": "3.6.8"
  }
 },
 "nbformat": 4,
 "nbformat_minor": 2
}
