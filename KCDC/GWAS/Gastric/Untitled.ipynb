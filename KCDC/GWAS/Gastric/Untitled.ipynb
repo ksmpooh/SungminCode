{
 "cells": [
  {
   "cell_type": "markdown",
   "metadata": {},
   "source": [
    "### ref file match and change \n",
    "plink bim 파일에서 A1, A2를 ref 파일내에 있는 allele과 비교하여 매칭되는 allele이 ref allele입니다.\n",
    "매칭 후 chr:pos_ref/alt 로 bim 파일내에 있는 affy id 를 변환하여\n",
    "1KG P3와 공통인 마커만 추려 합친 후 PCA 분석을 진행하면 됩니다.\n",
    "<분석과정>\n",
    "1. plink bim 파일 A1, A2에서 ref allele 확인\n",
    "2. bim 파일 내 affy id를 new id(chr:pos_ref/alt)로 변환\n",
    "3. 1KG P3와 공통인 마커 추린 후 두 데이터를 합치기\n",
    "4. PCA 분석하기\n",
    "5. 인종별 색을 다르게 하여 plot 그리기 (1000GP_Phase3.sample에서 인종별 ID 확인)"
   ]
  },
  {
   "cell_type": "code",
   "execution_count": 4,
   "metadata": {},
   "outputs": [],
   "source": [
    "import os\n",
    "import pandas as pd"
   ]
  },
  {
   "cell_type": "code",
   "execution_count": 5,
   "metadata": {},
   "outputs": [],
   "source": [
    "wdir = \"c:/Users/user/Desktop/KCDC/Gastric/Ref/\""
   ]
  },
  {
   "cell_type": "code",
   "execution_count": 6,
   "metadata": {},
   "outputs": [],
   "source": [
    "def fileRead(fileIn):\n",
    "    f = open(fileIn,'r')\n",
    "    inData = [r.replac(\"r\",\"\").replace(\"\\n\",\"\").replace(\"\\t\",\"\") for r in f]\n",
    "    return inData"
   ]
  },
  {
   "cell_type": "code",
   "execution_count": 37,
   "metadata": {},
   "outputs": [],
   "source": [
    "\n",
    "bim = pd.read_csv(wdir+\"Case_Control_merge_rmfreq.bim\",delim_whitespace = True,header = None)\n",
    "ref = pd.read_csv(wdir+\"Axiom_KOR.annot.extract.addINDEL.Final.REF.txt\",delim_whitespace = True,header = None)"
   ]
  },
  {
   "cell_type": "code",
   "execution_count": 8,
   "metadata": {},
   "outputs": [
    {
     "name": "stdout",
     "output_type": "stream",
     "text": [
      "   0            1  2       3  4  5\n",
      "0  1  AX-83277131  0  762485  A  C\n",
      "1  1  AX-64175821  0  792643  G  A\n",
      "2  1  AX-32415015  0  834956  A  G\n",
      "3  1  AX-32416607  0  835499  G  A\n",
      "4  1  AX-32429231  0  839461  C  T\n",
      "                 0  1\n",
      "0  AFFX-KIT-000001  T\n",
      "1  AFFX-KIT-000002  G\n",
      "2  AFFX-KIT-000003  T\n",
      "3  AFFX-KIT-000004  G\n",
      "4  AFFX-KIT-000005  T\n"
     ]
    }
   ],
   "source": [
    "print(bim.head())\n",
    "print(ref.head())"
   ]
  },
  {
   "cell_type": "code",
   "execution_count": 9,
   "metadata": {},
   "outputs": [
    {
     "name": "stdout",
     "output_type": "stream",
     "text": [
      "                  0  1\n",
      "859061  AX-64175821  A\n",
      "                  0  1\n",
      "670128  AX-32415015  G\n"
     ]
    }
   ],
   "source": [
    "print(ref.loc[ref[0] == bim[1][1]])\n",
    "print(ref.loc[ref[0] == bim[1][2]])\n",
    "\n"
   ]
  },
  {
   "cell_type": "code",
   "execution_count": 10,
   "metadata": {},
   "outputs": [
    {
     "data": {
      "text/plain": [
       "(486508, 903111)"
      ]
     },
     "execution_count": 10,
     "metadata": {},
     "output_type": "execute_result"
    }
   ],
   "source": [
    "len(bim),len(ref)"
   ]
  },
  {
   "cell_type": "code",
   "execution_count": null,
   "metadata": {},
   "outputs": [],
   "source": [
    "new_id = []\n",
    "for i in range(0,len(bim)):\n",
    "    index = ref.loc[ref[0] == bim[1][i]]\n",
    "    if (index[1] == bim[4][i]).bool():\n",
    "        new_id.append(str(bim[0][i]) + \":\" + str(bim[3][i]) +\"_\"+str(bim[4][i])+\"/\"+str(bim[5][i]))\n",
    "    else:\n",
    "        new_id.append(str(bim[0][i]) + \":\" + str(bim[3][i]) +\"_\"+str(bim[5][i])+\"/\"+str(bim[4][i]))\n",
    "        tmp = bim[5][i]\n",
    "        bim[5][i] = bim[4][i]\n",
    "        bim[4][i] = tmp\n",
    "bim.loc[:,1] = new_id\n",
    "bim.to_csv(wdir+\"match_ref_merge.bim\",header=False,index = False,sep='\\t')\n"
   ]
  },
  {
   "cell_type": "code",
   "execution_count": null,
   "metadata": {},
   "outputs": [],
   "source": []
  },
  {
   "cell_type": "code",
   "execution_count": 38,
   "metadata": {},
   "outputs": [
    {
     "name": "stdout",
     "output_type": "stream",
     "text": [
      "   0             1  2       3  4  5\n",
      "0  1   AX-83277131  0  762485  A  C\n",
      "1  1   AX-64175821  0  792643  G  A\n",
      "2  1   AX-32415015  0  834956  A  G\n",
      "3  1   AX-32416607  0  835499  G  A\n",
      "4  1   AX-32429231  0  839461  C  T\n",
      "5  1   AX-32455597  0  848456  G  A\n",
      "6  1   AX-32460873  0  850371  G  T\n",
      "7  1   AX-32461903  0  850780  C  T\n",
      "8  1  AX-113228954  0  852820  C  T\n",
      "9  1   AX-32469373  0  852964  T  G\n"
     ]
    },
    {
     "name": "stderr",
     "output_type": "stream",
     "text": [
      "C:\\Users\\user\\Python\\Anaconda\\lib\\site-packages\\ipykernel_launcher.py:16: SettingWithCopyWarning: \n",
      "A value is trying to be set on a copy of a slice from a DataFrame\n",
      "\n",
      "See the caveats in the documentation: http://pandas.pydata.org/pandas-docs/stable/indexing.html#indexing-view-versus-copy\n",
      "  app.launch_new_instance()\n",
      "C:\\Users\\user\\Python\\Anaconda\\lib\\site-packages\\IPython\\core\\interactiveshell.py:3296: SettingWithCopyWarning: \n",
      "A value is trying to be set on a copy of a slice from a DataFrame\n",
      "\n",
      "See the caveats in the documentation: http://pandas.pydata.org/pandas-docs/stable/indexing.html#indexing-view-versus-copy\n",
      "  exec(code_obj, self.user_global_ns, self.user_ns)\n",
      "C:\\Users\\user\\Python\\Anaconda\\lib\\site-packages\\ipykernel_launcher.py:17: SettingWithCopyWarning: \n",
      "A value is trying to be set on a copy of a slice from a DataFrame\n",
      "\n",
      "See the caveats in the documentation: http://pandas.pydata.org/pandas-docs/stable/indexing.html#indexing-view-versus-copy\n"
     ]
    },
    {
     "name": "stdout",
     "output_type": "stream",
     "text": [
      "['1:762485_C/A', '1:792643_A/G', '1:834956_G/A', '1:835499_A/G', '1:839461_T/C', '1:848456_A/G', '1:850371_G/T', '1:850780_C/T', '1:852820_T/C', '1:852964_T/G']\n"
     ]
    },
    {
     "data": {
      "text/html": [
       "<div>\n",
       "<style scoped>\n",
       "    .dataframe tbody tr th:only-of-type {\n",
       "        vertical-align: middle;\n",
       "    }\n",
       "\n",
       "    .dataframe tbody tr th {\n",
       "        vertical-align: top;\n",
       "    }\n",
       "\n",
       "    .dataframe thead th {\n",
       "        text-align: right;\n",
       "    }\n",
       "</style>\n",
       "<table border=\"1\" class=\"dataframe\">\n",
       "  <thead>\n",
       "    <tr style=\"text-align: right;\">\n",
       "      <th></th>\n",
       "      <th>0</th>\n",
       "      <th>1</th>\n",
       "      <th>2</th>\n",
       "      <th>3</th>\n",
       "      <th>4</th>\n",
       "      <th>5</th>\n",
       "    </tr>\n",
       "  </thead>\n",
       "  <tbody>\n",
       "    <tr>\n",
       "      <th>0</th>\n",
       "      <td>1</td>\n",
       "      <td>1:762485_C/A</td>\n",
       "      <td>0</td>\n",
       "      <td>762485</td>\n",
       "      <td>C</td>\n",
       "      <td>A</td>\n",
       "    </tr>\n",
       "    <tr>\n",
       "      <th>1</th>\n",
       "      <td>1</td>\n",
       "      <td>1:792643_A/G</td>\n",
       "      <td>0</td>\n",
       "      <td>792643</td>\n",
       "      <td>A</td>\n",
       "      <td>G</td>\n",
       "    </tr>\n",
       "    <tr>\n",
       "      <th>2</th>\n",
       "      <td>1</td>\n",
       "      <td>1:834956_G/A</td>\n",
       "      <td>0</td>\n",
       "      <td>834956</td>\n",
       "      <td>G</td>\n",
       "      <td>A</td>\n",
       "    </tr>\n",
       "    <tr>\n",
       "      <th>3</th>\n",
       "      <td>1</td>\n",
       "      <td>1:835499_A/G</td>\n",
       "      <td>0</td>\n",
       "      <td>835499</td>\n",
       "      <td>A</td>\n",
       "      <td>G</td>\n",
       "    </tr>\n",
       "    <tr>\n",
       "      <th>4</th>\n",
       "      <td>1</td>\n",
       "      <td>1:839461_T/C</td>\n",
       "      <td>0</td>\n",
       "      <td>839461</td>\n",
       "      <td>T</td>\n",
       "      <td>C</td>\n",
       "    </tr>\n",
       "    <tr>\n",
       "      <th>5</th>\n",
       "      <td>1</td>\n",
       "      <td>1:848456_A/G</td>\n",
       "      <td>0</td>\n",
       "      <td>848456</td>\n",
       "      <td>A</td>\n",
       "      <td>G</td>\n",
       "    </tr>\n",
       "    <tr>\n",
       "      <th>6</th>\n",
       "      <td>1</td>\n",
       "      <td>1:850371_G/T</td>\n",
       "      <td>0</td>\n",
       "      <td>850371</td>\n",
       "      <td>G</td>\n",
       "      <td>T</td>\n",
       "    </tr>\n",
       "    <tr>\n",
       "      <th>7</th>\n",
       "      <td>1</td>\n",
       "      <td>1:850780_C/T</td>\n",
       "      <td>0</td>\n",
       "      <td>850780</td>\n",
       "      <td>C</td>\n",
       "      <td>T</td>\n",
       "    </tr>\n",
       "    <tr>\n",
       "      <th>8</th>\n",
       "      <td>1</td>\n",
       "      <td>1:852820_T/C</td>\n",
       "      <td>0</td>\n",
       "      <td>852820</td>\n",
       "      <td>T</td>\n",
       "      <td>C</td>\n",
       "    </tr>\n",
       "    <tr>\n",
       "      <th>9</th>\n",
       "      <td>1</td>\n",
       "      <td>1:852964_T/G</td>\n",
       "      <td>0</td>\n",
       "      <td>852964</td>\n",
       "      <td>T</td>\n",
       "      <td>G</td>\n",
       "    </tr>\n",
       "  </tbody>\n",
       "</table>\n",
       "</div>"
      ],
      "text/plain": [
       "   0             1  2       3  4  5\n",
       "0  1  1:762485_C/A  0  762485  C  A\n",
       "1  1  1:792643_A/G  0  792643  A  G\n",
       "2  1  1:834956_G/A  0  834956  G  A\n",
       "3  1  1:835499_A/G  0  835499  A  G\n",
       "4  1  1:839461_T/C  0  839461  T  C\n",
       "5  1  1:848456_A/G  0  848456  A  G\n",
       "6  1  1:850371_G/T  0  850371  G  T\n",
       "7  1  1:850780_C/T  0  850780  C  T\n",
       "8  1  1:852820_T/C  0  852820  T  C\n",
       "9  1  1:852964_T/G  0  852964  T  G"
      ]
     },
     "execution_count": 38,
     "metadata": {},
     "output_type": "execute_result"
    }
   ],
   "source": [
    "new_id = []\n",
    "toy = bim[0:10]\n",
    "print(toy)\n",
    "for i in range(0,len(toy)):\n",
    "    #try:\n",
    "        #print(ref.loc[ref[0] == bim[1][i]])\n",
    "        index = ref.loc[ref[0] == toy[1][i]]\n",
    "       # print(index[1] == toy[4][i])\n",
    "        #index[1] == bim[4][i]\n",
    "        \n",
    "        if (index[1] == toy[4][i]).bool():\n",
    "            new_id.append(str(toy[0][i]) + \":\" + str(toy[3][i]) +\"_\"+str(toy[4][i])+\"/\"+str(toy[5][i]))\n",
    "        else:\n",
    "            new_id.append(str(toy[0][i]) + \":\" + str(toy[3][i]) +\"_\"+str(toy[5][i])+\"/\"+str(toy[4][i])) \n",
    "            temp = toy[5][i]\n",
    "            toy[5][i] = toy[4][i]\n",
    "            toy[4][i] = temp\n",
    "    #except KeyError as error:\n",
    "    #    continue\n",
    "print(new_id)\n",
    "toy.loc[:,1] = new_id\n",
    "toy"
   ]
  },
  {
   "cell_type": "code",
   "execution_count": 30,
   "metadata": {},
   "outputs": [],
   "source": [
    "toy.to_csv(wdir+\"toy.bim\",sep = \"\\t\",index = False,header = False)"
   ]
  },
  {
   "cell_type": "code",
   "execution_count": 28,
   "metadata": {},
   "outputs": [
    {
     "name": "stdout",
     "output_type": "stream",
     "text": [
      "Help on method to_csv in module pandas.core.generic:\n",
      "\n",
      "to_csv(path_or_buf=None, sep=',', na_rep='', float_format=None, columns=None, header=True, index=True, index_label=None, mode='w', encoding=None, compression='infer', quoting=None, quotechar='\"', line_terminator=None, chunksize=None, tupleize_cols=None, date_format=None, doublequote=True, escapechar=None, decimal='.') method of pandas.core.frame.DataFrame instance\n",
      "    Write object to a comma-separated values (csv) file.\n",
      "    \n",
      "    .. versionchanged:: 0.24.0\n",
      "        The order of arguments for Series was changed.\n",
      "    \n",
      "    Parameters\n",
      "    ----------\n",
      "    path_or_buf : str or file handle, default None\n",
      "        File path or object, if None is provided the result is returned as\n",
      "        a string.  If a file object is passed it should be opened with\n",
      "        `newline=''`, disabling universal newlines.\n",
      "    \n",
      "        .. versionchanged:: 0.24.0\n",
      "    \n",
      "           Was previously named \"path\" for Series.\n",
      "    \n",
      "    sep : str, default ','\n",
      "        String of length 1. Field delimiter for the output file.\n",
      "    na_rep : str, default ''\n",
      "        Missing data representation.\n",
      "    float_format : str, default None\n",
      "        Format string for floating point numbers.\n",
      "    columns : sequence, optional\n",
      "        Columns to write.\n",
      "    header : bool or list of str, default True\n",
      "        Write out the column names. If a list of strings is given it is\n",
      "        assumed to be aliases for the column names.\n",
      "    \n",
      "        .. versionchanged:: 0.24.0\n",
      "    \n",
      "           Previously defaulted to False for Series.\n",
      "    \n",
      "    index : bool, default True\n",
      "        Write row names (index).\n",
      "    index_label : str or sequence, or False, default None\n",
      "        Column label for index column(s) if desired. If None is given, and\n",
      "        `header` and `index` are True, then the index names are used. A\n",
      "        sequence should be given if the object uses MultiIndex. If\n",
      "        False do not print fields for index names. Use index_label=False\n",
      "        for easier importing in R.\n",
      "    mode : str\n",
      "        Python write mode, default 'w'.\n",
      "    encoding : str, optional\n",
      "        A string representing the encoding to use in the output file,\n",
      "        defaults to 'ascii' on Python 2 and 'utf-8' on Python 3.\n",
      "    compression : str, default 'infer'\n",
      "        Compression mode among the following possible values: {'infer',\n",
      "        'gzip', 'bz2', 'zip', 'xz', None}. If 'infer' and `path_or_buf`\n",
      "        is path-like, then detect compression from the following\n",
      "        extensions: '.gz', '.bz2', '.zip' or '.xz'. (otherwise no\n",
      "        compression).\n",
      "    \n",
      "        .. versionchanged:: 0.24.0\n",
      "    \n",
      "           'infer' option added and set to default.\n",
      "    \n",
      "    quoting : optional constant from csv module\n",
      "        Defaults to csv.QUOTE_MINIMAL. If you have set a `float_format`\n",
      "        then floats are converted to strings and thus csv.QUOTE_NONNUMERIC\n",
      "        will treat them as non-numeric.\n",
      "    quotechar : str, default '\\\"'\n",
      "        String of length 1. Character used to quote fields.\n",
      "    line_terminator : string, optional\n",
      "        The newline character or character sequence to use in the output\n",
      "        file. Defaults to `os.linesep`, which depends on the OS in which\n",
      "        this method is called ('\\n' for linux, '\\r\\n' for Windows, i.e.).\n",
      "    \n",
      "        .. versionchanged:: 0.24.0\n",
      "    chunksize : int or None\n",
      "        Rows to write at a time.\n",
      "    tupleize_cols : bool, default False\n",
      "        Write MultiIndex columns as a list of tuples (if True) or in\n",
      "        the new, expanded format, where each MultiIndex column is a row\n",
      "        in the CSV (if False).\n",
      "    \n",
      "        .. deprecated:: 0.21.0\n",
      "           This argument will be removed and will always write each row\n",
      "           of the multi-index as a separate row in the CSV file.\n",
      "    date_format : str, default None\n",
      "        Format string for datetime objects.\n",
      "    doublequote : bool, default True\n",
      "        Control quoting of `quotechar` inside a field.\n",
      "    escapechar : str, default None\n",
      "        String of length 1. Character used to escape `sep` and `quotechar`\n",
      "        when appropriate.\n",
      "    decimal : str, default '.'\n",
      "        Character recognized as decimal separator. E.g. use ',' for\n",
      "        European data.\n",
      "    \n",
      "    Returns\n",
      "    -------\n",
      "    None or str\n",
      "        If path_or_buf is None, returns the resulting csv format as a\n",
      "        string. Otherwise returns None.\n",
      "    \n",
      "    See Also\n",
      "    --------\n",
      "    read_csv : Load a CSV file into a DataFrame.\n",
      "    to_excel : Load an Excel file into a DataFrame.\n",
      "    \n",
      "    Examples\n",
      "    --------\n",
      "    >>> df = pd.DataFrame({'name': ['Raphael', 'Donatello'],\n",
      "    ...                    'mask': ['red', 'purple'],\n",
      "    ...                    'weapon': ['sai', 'bo staff']})\n",
      "    >>> df.to_csv(index=False)\n",
      "    'name,mask,weapon\\nRaphael,red,sai\\nDonatello,purple,bo staff\\n'\n",
      "\n"
     ]
    }
   ],
   "source": [
    "help(toy.to_csv)"
   ]
  },
  {
   "cell_type": "code",
   "execution_count": 62,
   "metadata": {},
   "outputs": [
    {
     "name": "stdout",
     "output_type": "stream",
     "text": [
      "false\n"
     ]
    }
   ],
   "source": [
    "i = 1\n",
    "index = ref.loc[ref[0] == bim[1][i]]\n",
    "#print(index[1] == bim[4][i])\n",
    "#(index[1] == bim[4][i])\n",
    "if (index[1] == bim[4][i]).bool():\n",
    "    print(\"true\")\n",
    "else:\n",
    "    print(\"false\")"
   ]
  }
 ],
 "metadata": {
  "kernelspec": {
   "display_name": "Python 3",
   "language": "python",
   "name": "python3"
  },
  "language_info": {
   "codemirror_mode": {
    "name": "ipython",
    "version": 3
   },
   "file_extension": ".py",
   "mimetype": "text/x-python",
   "name": "python",
   "nbconvert_exporter": "python",
   "pygments_lexer": "ipython3",
   "version": "3.6.8"
  }
 },
 "nbformat": 4,
 "nbformat_minor": 2
}
