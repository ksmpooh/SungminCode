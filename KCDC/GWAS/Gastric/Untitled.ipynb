{
 "cells": [
  {
   "cell_type": "markdown",
   "metadata": {},
   "source": [
    "### 500K random selection"
   ]
  },
  {
   "cell_type": "code",
   "execution_count": 1,
   "metadata": {},
   "outputs": [],
   "source": [
    "import os,glob,random"
   ]
  },
  {
   "cell_type": "code",
   "execution_count": 2,
   "metadata": {},
   "outputs": [],
   "source": [
    "wdir = \"c:/Users/user/Desktop/KCDC/Gastric/ref/\""
   ]
  },
  {
   "cell_type": "code",
   "execution_count": 3,
   "metadata": {},
   "outputs": [],
   "source": [
    "def fileRead(fileIn):\n",
    "    f = open(fileIn,\"r\")\n",
    "    inData = [r.replace(\"\\n\",\"\") for r in f]\n",
    "    return inData"
   ]
  },
  {
   "cell_type": "code",
   "execution_count": 4,
   "metadata": {},
   "outputs": [],
   "source": [
    "#bim = open(wdir + \"Case_Control_merge_rmfreq.bim\",\"r\")\n",
    "randomID_list = open(wdir + \"randomID_list.txt\",\"w\")"
   ]
  },
  {
   "cell_type": "code",
   "execution_count": 5,
   "metadata": {},
   "outputs": [],
   "source": [
    "windowSize = 500000\n"
   ]
  },
  {
   "cell_type": "code",
   "execution_count": 6,
   "metadata": {},
   "outputs": [],
   "source": [
    "bim = fileRead(wdir + \"Case_Control_merge_rmfreq.bim\") "
   ]
  },
  {
   "cell_type": "code",
   "execution_count": 14,
   "metadata": {},
   "outputs": [],
   "source": [
    "### random selection\n",
    "\n",
    "before_chrom = '0'\n",
    "matrix = []\n",
    "profile = []\n",
    "index = []\n",
    "for i,line in enumerate(bim):\n",
    "    chrom,ID,trash,position,ref,alt = line.split(\"\\t\")\n",
    "    if before_chrom != chrom:\n",
    "        front = int(position)\n",
    "        front_index = i\n",
    "        before_chrom = chrom\n",
    "        continue\n",
    "    if int(position) >= (front + windowSize):\n",
    "        profile = [chrom,front,int(position),front_index,i-1]\n",
    "        index.append(random.randrange(front_index,i))\n",
    "        front_index = i\n",
    "        front = int(position)\n",
    "        matrix.append(profile)\n",
    "        \n",
    "        "
   ]
  },
  {
   "cell_type": "code",
   "execution_count": 18,
   "metadata": {},
   "outputs": [],
   "source": [
    "############no random selection\n",
    "before_chrom = '0'\n",
    "index = []\n",
    "for i,line in enumerate(bim):\n",
    "    chrom,ID,trash,position,ref,alt = line.split('\\t')\n",
    "    if before_chrom != chrom:\n",
    "        front = int(position)\n",
    "        index.append(i)\n",
    "        before_chrom = chrom\n",
    "    if int(position) >= (front + windowSize):\n",
    "        index.append(i)\n",
    "        front_index = i\n",
    "        front = int(position)\n",
    "        "
   ]
  },
  {
   "cell_type": "code",
   "execution_count": 19,
   "metadata": {},
   "outputs": [
    {
     "data": {
      "text/plain": [
       "[0, 86, 151, 271, 355, 501, 647, 775, 920, 1060]"
      ]
     },
     "execution_count": 19,
     "metadata": {},
     "output_type": "execute_result"
    }
   ],
   "source": [
    "index[0:10]"
   ]
  },
  {
   "cell_type": "code",
   "execution_count": 9,
   "metadata": {},
   "outputs": [
    {
     "data": {
      "text/plain": [
       "[['1', 762485, 1269554, 0, 85],\n",
       " ['1', 1269554, 1779230, 86, 150],\n",
       " ['1', 1779230, 2280423, 151, 270],\n",
       " ['1', 2280423, 2785829, 271, 354],\n",
       " ['1', 2785829, 3286551, 355, 500],\n",
       " ['1', 3286551, 3788499, 501, 646],\n",
       " ['1', 3788499, 4289935, 647, 774],\n",
       " ['1', 4289935, 4789974, 775, 919],\n",
       " ['1', 4789974, 5303446, 920, 1059],\n",
       " ['1', 5303446, 5805386, 1060, 1197]]"
      ]
     },
     "execution_count": 9,
     "metadata": {},
     "output_type": "execute_result"
    }
   ],
   "source": [
    "matrix[0:10]"
   ]
  },
  {
   "cell_type": "code",
   "execution_count": 10,
   "metadata": {},
   "outputs": [],
   "source": [
    "for i in index[1:10]:\n",
    "    randomID_list.write(bim[i].split(\"\\t\")[1]+\"\\n\")"
   ]
  },
  {
   "cell_type": "code",
   "execution_count": 11,
   "metadata": {},
   "outputs": [
    {
     "data": {
      "text/plain": [
       "'AX-64175821'"
      ]
     },
     "execution_count": 11,
     "metadata": {},
     "output_type": "execute_result"
    }
   ],
   "source": [
    "bim[1].split(\"\\t\")[1]"
   ]
  },
  {
   "cell_type": "code",
   "execution_count": 12,
   "metadata": {},
   "outputs": [],
   "source": [
    "randomID_list.close()"
   ]
  },
  {
   "cell_type": "code",
   "execution_count": null,
   "metadata": {},
   "outputs": [],
   "source": []
  }
 ],
 "metadata": {
  "kernelspec": {
   "display_name": "Python 3",
   "language": "python",
   "name": "python3"
  },
  "language_info": {
   "codemirror_mode": {
    "name": "ipython",
    "version": 3
   },
   "file_extension": ".py",
   "mimetype": "text/x-python",
   "name": "python",
   "nbconvert_exporter": "python",
   "pygments_lexer": "ipython3",
   "version": "3.6.8"
  }
 },
 "nbformat": 4,
 "nbformat_minor": 2
}
