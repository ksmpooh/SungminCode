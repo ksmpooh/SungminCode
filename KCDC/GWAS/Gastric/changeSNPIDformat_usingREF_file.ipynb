{
 "cells": [
  {
   "cell_type": "code",
   "execution_count": 1,
   "metadata": {},
   "outputs": [],
   "source": [
    "## reverse match SNP ID \n",
    "## AX_1234283918 --> 10:2131513_C/G using reference panel"
   ]
  },
  {
   "cell_type": "code",
   "execution_count": 7,
   "metadata": {},
   "outputs": [],
   "source": [
    "wdir = \"c:/Users/user/Desktop/KCDC/Gastric/Ref/\""
   ]
  },
  {
   "cell_type": "code",
   "execution_count": 12,
   "metadata": {},
   "outputs": [],
   "source": [
    "bim = open(wdir+\"CASE_CONTROL_MERGE_rmfreq.bim\",\"r\")\n",
    "ref = open(wdir+\"Axiom_KOR.annot.extract.addINDEL.Final.REF.txt\",\"r\")\n",
    "#out = open(wdir+\"new_Case_Control.bim\",\"w\")\n",
    "trash = open(wdir+\"make_New_snpID_ref_trash.txt\",\"w\")\n",
    "out = open(wdir + \"New_SNPID_REF.txt\",\"w\")"
   ]
  },
  {
   "cell_type": "code",
   "execution_count": 13,
   "metadata": {},
   "outputs": [],
   "source": [
    "ref_dic = {}"
   ]
  },
  {
   "cell_type": "code",
   "execution_count": 14,
   "metadata": {},
   "outputs": [],
   "source": [
    "while True:\n",
    "    line = ref.readline().replace(\"\\n\",\"\")\n",
    "    if not line : break\n",
    "    col = line.split(\"\\t\")\n",
    "    ref_dic[col[0]] = col[1]"
   ]
  },
  {
   "cell_type": "code",
   "execution_count": 16,
   "metadata": {},
   "outputs": [],
   "source": [
    "while True:\n",
    "    line = bim.readline().replace(\"\\n\",\"\")\n",
    "    if not line : break\n",
    "    col = line.split('\\t')\n",
    "    key = col[1]\n",
    "    A1 = col[4]\n",
    "    A2 = col[5]\n",
    "    if key in ref_dic:\n",
    "        if ref_dic[key] == A1:\n",
    "            out.write(col[0]+\":\"+col[3]+\"_\"+col[4]+\"/\"+col[5]+\"\\t\"+ref_dic[key]+\"\\n\")\n",
    "        elif ref_dic[key] == A2:\n",
    "            out.write(col[0]+\":\"+col[3]+\"_\"+col[5]+\"/\"+col[4]+\"\\t\"+ref_dic[key]+\"\\n\")\n",
    "        else:\n",
    "            trash.write(line + \"\\n\")\n",
    "            \n",
    "bim.close()\n",
    "ref.close()\n",
    "out.close()\n",
    "trash.close()"
   ]
  },
  {
   "cell_type": "code",
   "execution_count": null,
   "metadata": {},
   "outputs": [],
   "source": []
  }
 ],
 "metadata": {
  "kernelspec": {
   "display_name": "Python 3",
   "language": "python",
   "name": "python3"
  },
  "language_info": {
   "codemirror_mode": {
    "name": "ipython",
    "version": 3
   },
   "file_extension": ".py",
   "mimetype": "text/x-python",
   "name": "python",
   "nbconvert_exporter": "python",
   "pygments_lexer": "ipython3",
   "version": "3.6.8"
  }
 },
 "nbformat": 4,
 "nbformat_minor": 2
}
