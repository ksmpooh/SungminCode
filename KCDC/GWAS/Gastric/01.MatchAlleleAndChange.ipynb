{
 "cells": [
  {
   "cell_type": "markdown",
   "metadata": {},
   "source": [
    "## Match Allele and change using Dictionary\n",
    "#### 2019 09 21 by sm\n",
    "처음에 pandas를 이용해서 match하고 변경 하려 했는데..\n",
    "(486508, 903111) row 가 되는 두개의 파일을 가지고 search 하려니... 시간이 반나절이 걸렸다.\n",
    "\n",
    "그래서 선생님들의 도움으로 dictionary를 사용하면(hash tag) 시간이 절약되는 것을 확인 하였다.\n",
    "내 컴퓨터에서도 3초.. 정도 걸릴듯 하다. 이래서... Data structure 와 algorithm을 잘 배워야 하는듯.."
   ]
  },
  {
   "cell_type": "code",
   "execution_count": 30,
   "metadata": {},
   "outputs": [],
   "source": [
    "import time"
   ]
  },
  {
   "cell_type": "code",
   "execution_count": 31,
   "metadata": {},
   "outputs": [],
   "source": [
    "wdir = \"c:/Users/user/Desktop/KCDC/Gastric/Ref/\""
   ]
  },
  {
   "cell_type": "code",
   "execution_count": 32,
   "metadata": {},
   "outputs": [],
   "source": [
    "bim = open(wdir+\"CASE_CONTROL_MERGE_rmfreq.bim\",\"r\")\n",
    "ref = open(wdir+\"Axiom_KOR.annot.extract.addINDEL.Final.REF.txt\",\"r\")\n",
    "out = open(wdir+\"new_Case_Control.bim\",\"w\")\n",
    "trash = open(wdir+\"trash.txt\",\"w\")"
   ]
  },
  {
   "cell_type": "code",
   "execution_count": 33,
   "metadata": {},
   "outputs": [],
   "source": [
    "ref_dic = {}"
   ]
  },
  {
   "cell_type": "code",
   "execution_count": 34,
   "metadata": {},
   "outputs": [],
   "source": [
    "while True:\n",
    "    line = ref.readline().replace(\"\\n\",\"\")\n",
    "    if not line : break\n",
    "    col  = line.split(\"\\t\")\n",
    "    ref_dic[col[0]] = col[1]\n"
   ]
  },
  {
   "cell_type": "code",
   "execution_count": 35,
   "metadata": {},
   "outputs": [
    {
     "name": "stdout",
     "output_type": "stream",
     "text": [
      "Mon Sep 23 09:31:58 2019\n",
      "Mon Sep 23 09:32:01 2019\n"
     ]
    }
   ],
   "source": [
    "print(time.ctime())\n",
    "while True:\n",
    "    line = bim.readline().replace(\"\\n\",\"\")\n",
    "    if not line : break\n",
    "    col =  line.split('\\t')\n",
    "    key = col[1]\n",
    "    A1 = col[4]\n",
    "    A2 = col[5]\n",
    "    if key in ref_dic:\n",
    "        if ref_dic[key] == A1:\n",
    "            out.write(col[0]+\"\\t\"+col[0]+\":\"+col[3]+\"_\"+col[4]+\"/\"+col[5]+\"\\t\"+col[2]+\"\\t\"+col[3]+\"\\t\"+col[4]+\"\\t\"+col[5]+\"\\n\")\n",
    "        elif ref_dic[key] == A2:\n",
    "            out.write(col[0]+\"\\t\"+col[0]+\":\"+col[3]+\"_\"+col[5]+\"/\"+col[4]+\"\\t\"+col[2]+\"\\t\"+col[3]+\"\\t\"+col[5]+\"\\t\"+col[4]+\"\\n\")\n",
    "        else:\n",
    "            trash.write(line + \"\\n\")\n",
    "bim.close()\n",
    "out.close()\n",
    "trash.close()\n",
    "ref.close()\n",
    "print(time.ctime())"
   ]
  },
  {
   "cell_type": "code",
   "execution_count": 37,
   "metadata": {},
   "outputs": [
    {
     "name": "stdout",
     "output_type": "stream",
     "text": [
      "bye\n"
     ]
    }
   ],
   "source": [
    "print(\"bye\")"
   ]
  },
  {
   "cell_type": "code",
   "execution_count": null,
   "metadata": {},
   "outputs": [],
   "source": []
  },
  {
   "cell_type": "code",
   "execution_count": null,
   "metadata": {},
   "outputs": [],
   "source": []
  }
 ],
 "metadata": {
  "kernelspec": {
   "display_name": "Python 3",
   "language": "python",
   "name": "python3"
  },
  "language_info": {
   "codemirror_mode": {
    "name": "ipython",
    "version": 3
   },
   "file_extension": ".py",
   "mimetype": "text/x-python",
   "name": "python",
   "nbconvert_exporter": "python",
   "pygments_lexer": "ipython3",
   "version": "3.6.8"
  }
 },
 "nbformat": 4,
 "nbformat_minor": 2
}
