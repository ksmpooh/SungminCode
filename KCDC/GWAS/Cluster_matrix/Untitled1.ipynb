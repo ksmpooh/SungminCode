{
 "cells": [
  {
   "cell_type": "code",
   "execution_count": 1,
   "metadata": {},
   "outputs": [],
   "source": [
    "import pandas as pd\n",
    "wdir = \"C:/Users/user/Desktop/cluster_matrix/\"\n"
   ]
  },
  {
   "cell_type": "code",
   "execution_count": 9,
   "metadata": {},
   "outputs": [],
   "source": [
    "file = open(wdir+\"v1id_to_v2id.txt\",\"r\")\n"
   ]
  },
  {
   "cell_type": "code",
   "execution_count": 10,
   "metadata": {},
   "outputs": [
    {
     "data": {
      "text/plain": [
       "['AX-117445578\\tAX-12430727\\n',\n",
       " 'AX-106717204\\tAX-12523475\\n',\n",
       " 'AX-106777060\\tAX-11257890\\n',\n",
       " 'AX-117445395\\tAX-12467354\\n',\n",
       " 'AX-117445468\\tAX-16897471\\n',\n",
       " 'AX-106718618\\tAX-16985938\\n',\n",
       " 'AX-117446423\\tAX-11696306\\n',\n",
       " 'AX-117446417\\tAX-12418714\\n',\n",
       " 'AX-117446162\\tAX-11325878\\n',\n",
       " 'AX-117448026\\tAX-16450646\\n',\n",
       " 'AX-117448034\\tAX-16456296\\n',\n",
       " 'AX-117446181\\tAX-12828402\\n',\n",
       " 'AX-117446095\\tAX-12410700\\n',\n",
       " 'AX-106718071\\tAX-13959854\\n',\n",
       " 'AX-106713789\\tAX-11275552\\n',\n",
       " 'AX-117446577\\tAX-11209627\\n',\n",
       " 'AX-106785621\\tAX-14237607\\n',\n",
       " 'AX-117447236\\tAX-11504731\\n',\n",
       " 'AX-106716083\\tAX-11574667\\n',\n",
       " 'AX-117446161\\tAX-15049172\\n',\n",
       " 'AX-117446725\\tAX-12430357\\n',\n",
       " 'AX-82916932\\tAX-11359352\\n',\n",
       " 'AX-106774856\\tAX-11594215\\n',\n",
       " 'AX-106774871\\tAX-11675490\\n',\n",
       " 'AX-11435031\\tAX-50990710\\n',\n",
       " 'AX-11365741\\tAX-50933236\\n',\n",
       " 'AX-106715374\\tAX-11475819\\n',\n",
       " 'AX-106774895\\tAX-11475814\\n',\n",
       " 'AX-11427373\\tAX-50984368\\n',\n",
       " 'AX-106719003\\tAX-51298233\\n',\n",
       " 'AX-106774900\\tAX-11408821\\n',\n",
       " 'AX-106774905\\tAX-11642285\\n',\n",
       " 'AX-106774906\\tAX-11408190\\n',\n",
       " 'AX-106774910\\tAX-11278801\\n',\n",
       " 'AX-106774913\\tAX-11678694\\n',\n",
       " 'AX-11498348\\tAX-51033711\\n',\n",
       " 'AX-84630624\\tAX-50990482\\n',\n",
       " 'AX-106716508\\tAX-11676077\\n',\n",
       " 'AX-106717313\\tAX-12531192\\n',\n",
       " 'AX-106774986\\tAX-11397356\\n',\n",
       " 'AX-106774994\\tAX-11196054\\n',\n",
       " 'AX-83356671\\tAX-122924751\\n',\n",
       " 'AX-106718972\\tAX-51295133\\n',\n",
       " 'AX-106775093\\tAX-11676515\\n',\n",
       " 'AX-106775096\\tAX-11676541\\n',\n",
       " 'AX-106775102\\tAX-11676557\\n',\n",
       " 'AX-106775104\\tAX-11543703\\n',\n",
       " 'AX-106775116\\tAX-11425422\\n',\n",
       " 'AX-106775124\\tAX-11676637\\n',\n",
       " 'AX-117446635\\tAX-11519947\\n',\n",
       " 'AX-106775135\\tAX-11676924\\n',\n",
       " 'AX-106775155\\tAX-11677215\\n',\n",
       " 'AX-106775159\\tAX-11420178\\n',\n",
       " 'AX-106715020\\tAX-11425770\\n',\n",
       " 'AX-106714989\\tAX-11419704\\n',\n",
       " 'AX-106775182\\tAX-11100127\\n',\n",
       " 'AX-106775186\\tAX-11274447\\n',\n",
       " 'AX-106716329\\tAX-11635126\\n',\n",
       " 'AX-106715736\\tAX-11506964\\n',\n",
       " 'AX-117446287\\tAX-11212662\\n',\n",
       " 'AX-106718328\\tAX-15614481\\n',\n",
       " 'AX-117446541\\tAX-11103754\\n',\n",
       " 'AX-117446439\\tAX-12583336\\n',\n",
       " 'AX-117445900\\tAX-15956624\\n',\n",
       " 'AX-117445493\\tAX-12566486\\n',\n",
       " 'AX-117446581\\tAX-50578837\\n',\n",
       " 'AX-117446727\\tAX-12486980\\n',\n",
       " 'AX-106823524\\tAX-122924065\\n',\n",
       " 'AX-117446733\\tAX-11135003\\n',\n",
       " 'AX-113429365\\tAX-122924158\\n',\n",
       " 'AX-117445771\\tAX-11508333\\n']"
      ]
     },
     "execution_count": 10,
     "metadata": {},
     "output_type": "execute_result"
    }
   ],
   "source": [
    "a = [r for r in file]\n",
    "a"
   ]
  },
  {
   "cell_type": "code",
   "execution_count": 15,
   "metadata": {},
   "outputs": [],
   "source": [
    "b = [r.replace(\"\\t\",\" \").replace(\"\\n\",\"\") for r in a]\n",
    "file.close()"
   ]
  },
  {
   "cell_type": "code",
   "execution_count": 24,
   "metadata": {},
   "outputs": [],
   "source": [
    "fileout = open(wdir+\"first.txt\",'w')\n",
    "\n",
    "fileout.close()"
   ]
  },
  {
   "cell_type": "code",
   "execution_count": null,
   "metadata": {},
   "outputs": [],
   "source": []
  }
 ],
 "metadata": {
  "kernelspec": {
   "display_name": "Python 3",
   "language": "python",
   "name": "python3"
  },
  "language_info": {
   "codemirror_mode": {
    "name": "ipython",
    "version": 3
   },
   "file_extension": ".py",
   "mimetype": "text/x-python",
   "name": "python",
   "nbconvert_exporter": "python",
   "pygments_lexer": "ipython3",
   "version": "3.6.8"
  }
 },
 "nbformat": 4,
 "nbformat_minor": 2
}
