{
 "cells": [
  {
   "cell_type": "code",
   "execution_count": 3,
   "metadata": {},
   "outputs": [],
   "source": [
    "##file Io 후에 Dictionary를 이용하여 중복된 값을 제거 하는 코드"
   ]
  },
  {
   "cell_type": "code",
   "execution_count": 3,
   "metadata": {},
   "outputs": [],
   "source": [
    "import os,gzip,glob"
   ]
  },
  {
   "cell_type": "code",
   "execution_count": 4,
   "metadata": {},
   "outputs": [],
   "source": [
    "class fileIO():\n",
    "    \n",
    "    '''\n",
    "    def __init__(self,wdir):\n",
    "        if os.path.exists(wdir) & os.path.isdir(wdir):\n",
    "            print(\"Directory exist\")\n",
    "            return\n",
    "        else:\n",
    "            print(\"mkdir\")\n",
    "            #os.system(\"mkdir \" + wdir)\n",
    "            os.mkdir(wdir)\n",
    "    '''\n",
    "    \n",
    "    def fileRead(self, fileIn):\n",
    "        fileList = open(fileIn, 'r')\n",
    "        inData = [f.replace('\\r','').replace('\\n','') for f in fileList]\n",
    "        \n",
    "        return inData\n",
    "    \n",
    "    def gzRead(self,fileIn):\n",
    "        \n",
    "        fileList = gzip.open(fileIn,'r')\n",
    "        inData = [f.replace('\\r','').replace('\\n','') for f in fileList]\n",
    "        \n",
    "        return inData\n",
    "    \n",
    "    def fileWrite(self,writeData, fileOut):\n",
    "        outFile = open(fileOut,'w')\n",
    "        \n",
    "        for i in writeData:\n",
    "            outFile.write(i + '\\n')\n",
    "        outFile.close()\n",
    "        \n",
    "fileIO = fileIO()"
   ]
  },
  {
   "cell_type": "code",
   "execution_count": 5,
   "metadata": {},
   "outputs": [
    {
     "data": {
      "text/plain": [
       "['only_error_AS_V1_B1_2nd.txt',\n",
       " 'only_error_AS_V1_B2_2nd.txt',\n",
       " 'only_error_DS_V1_B1_2nd.txt',\n",
       " 'only_error_DS_V1_B2_2nd.txt',\n",
       " 'only_error_DS_V1_B3_2nd.txt',\n",
       " 'only_error_DS_V1_B4_2nd.txt',\n",
       " 'only_error_DS_V2_B10_2nd.txt',\n",
       " 'only_error_DS_V2_B11_2nd.txt',\n",
       " 'only_error_DS_V2_B12_2nd.txt',\n",
       " 'only_error_DS_V2_B13_2nd.txt',\n",
       " 'only_error_DS_V2_B1_2nd.txt',\n",
       " 'only_error_DS_V2_B2_2nd.txt',\n",
       " 'only_error_DS_V2_B3_2nd.txt',\n",
       " 'only_error_DS_V2_B4_2nd.txt',\n",
       " 'only_error_DS_V2_B5_2nd.txt',\n",
       " 'only_error_DS_V2_B6_2nd.txt',\n",
       " 'only_error_DS_V2_B7_2nd.txt',\n",
       " 'only_error_DS_V2_B8_2nd.txt',\n",
       " 'only_error_DS_V2_B9_2nd.txt',\n",
       " 'only_error_NC_V1_11K_B1_2nd.txt',\n",
       " 'only_error_NC_V1_11K_B2_2nd.txt',\n",
       " 'only_error_NC_V1_7K_B1_2nd.txt',\n",
       " 'only_error_NC_V1_7K_B2_2nd.txt',\n",
       " 'only_error_NC_V1_7K_B3_2nd.txt',\n",
       " 'only_error_NC_V2_B1_2nd.txt']"
      ]
     },
     "execution_count": 5,
     "metadata": {},
     "output_type": "execute_result"
    }
   ],
   "source": [
    "wkdir = \"/Users/user/Desktop/cluster_matrix/only_error_set/\"\n",
    "theme = \"\" \n",
    "\n",
    "file_list = os.listdir(wkdir)\n",
    "file_list"
   ]
  },
  {
   "cell_type": "code",
   "execution_count": 94,
   "metadata": {},
   "outputs": [
    {
     "name": "stdout",
     "output_type": "stream",
     "text": [
      "only_error_AS_V1_B1_2nd.txt  :  22287\n",
      "only_error_AS_V1_B2_2nd.txt  :  33195\n",
      "only_error_DS_V1_B1_2nd.txt  :  57192\n",
      "only_error_DS_V1_B2_2nd.txt  :  66036\n",
      "only_error_DS_V1_B3_2nd.txt  :  76862\n",
      "only_error_DS_V1_B4_2nd.txt  :  81851\n",
      "only_error_DS_V2_B10_2nd.txt  :  92085\n",
      "only_error_DS_V2_B11_2nd.txt  :  98510\n",
      "only_error_DS_V2_B12_2nd.txt  :  103530\n",
      "only_error_DS_V2_B13_2nd.txt  :  123903\n",
      "only_error_DS_V2_B1_2nd.txt  :  151676\n",
      "only_error_DS_V2_B2_2nd.txt  :  168892\n",
      "only_error_DS_V2_B3_2nd.txt  :  182131\n",
      "only_error_DS_V2_B4_2nd.txt  :  192664\n",
      "only_error_DS_V2_B5_2nd.txt  :  200771\n",
      "only_error_DS_V2_B6_2nd.txt  :  209236\n",
      "only_error_DS_V2_B7_2nd.txt  :  216028\n",
      "only_error_DS_V2_B8_2nd.txt  :  219569\n",
      "only_error_DS_V2_B9_2nd.txt  :  222113\n",
      "only_error_NC_V1_11K_B1_2nd.txt  :  227921\n",
      "only_error_NC_V1_11K_B2_2nd.txt  :  232228\n",
      "only_error_NC_V1_7K_B1_2nd.txt  :  239394\n",
      "only_error_NC_V1_7K_B2_2nd.txt  :  260643\n",
      "only_error_NC_V1_7K_B3_2nd.txt  :  263438\n",
      "only_error_NC_V2_B1_2nd.txt  :  270537\n"
     ]
    }
   ],
   "source": [
    "union = {}\n",
    "for f in file_list:\n",
    "    file = f\n",
    "    f = fileIO.fileRead(wkdir+str(f))\n",
    "    for i in f[1:]:\n",
    "        a = i.split(\" \")\n",
    "        b = {a[0] :a[1]}\n",
    "        union.update(b)\n",
    "    print(file, \" : \", len(union))"
   ]
  },
  {
   "cell_type": "code",
   "execution_count": 96,
   "metadata": {},
   "outputs": [],
   "source": [
    "fileIO.fileWrite(union,\"/Users/user/Desktop/error_union.txt\")"
   ]
  }
 ],
 "metadata": {
  "kernelspec": {
   "display_name": "Python 3",
   "language": "python",
   "name": "python3"
  },
  "language_info": {
   "codemirror_mode": {
    "name": "ipython",
    "version": 3
   },
   "file_extension": ".py",
   "mimetype": "text/x-python",
   "name": "python",
   "nbconvert_exporter": "python",
   "pygments_lexer": "ipython3",
   "version": "3.6.8"
  }
 },
 "nbformat": 4,
 "nbformat_minor": 2
}
