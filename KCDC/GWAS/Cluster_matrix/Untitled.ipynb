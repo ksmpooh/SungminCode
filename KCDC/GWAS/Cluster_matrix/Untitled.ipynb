{
 "cells": [
  {
   "cell_type": "code",
   "execution_count": 1,
   "metadata": {},
   "outputs": [],
   "source": [
    "import pandas as pd"
   ]
  },
  {
   "cell_type": "code",
   "execution_count": 2,
   "metadata": {},
   "outputs": [],
   "source": [
    "wdir = \"C:/Users/user/Desktop/cluster_matrix/\"\n",
    "#wdir = \"Desktop/cluster_matrix/\"\n",
    "v1tov2 = pd.read_csv(wdir+\"v1id_to_v2id.txt\",delim_whitespace = True, header = None)\n",
    "v1_probe_count = pd.read_csv(wdir+\"Axiom_KORV1.0.na34.annot.probe_count.txt\",delim_whitespace = True)"
   ]
  },
  {
   "cell_type": "code",
   "execution_count": 3,
   "metadata": {},
   "outputs": [],
   "source": [
    "for i,j in zip(v1tov2[0],v1tov2[1]):\n",
    "    v1_probe_count.replace(to_replace=i,value=j,inplace = True)"
   ]
  },
  {
   "cell_type": "code",
   "execution_count": 6,
   "metadata": {},
   "outputs": [],
   "source": [
    "v1_probe_count.to_csv(wdir+\"Axiom_KORV1.0.na34.annot.probe_count_change_v1.1ID.txt\",index = False,sep='\\t',quotechar=\"\\\"\")"
   ]
  },
  {
   "cell_type": "code",
   "execution_count": null,
   "metadata": {},
   "outputs": [],
   "source": []
  }
 ],
 "metadata": {
  "kernelspec": {
   "display_name": "Python 3",
   "language": "python",
   "name": "python3"
  },
  "language_info": {
   "codemirror_mode": {
    "name": "ipython",
    "version": 3
   },
   "file_extension": ".py",
   "mimetype": "text/x-python",
   "name": "python",
   "nbconvert_exporter": "python",
   "pygments_lexer": "ipython3",
   "version": "3.6.8"
  }
 },
 "nbformat": 4,
 "nbformat_minor": 2
}
