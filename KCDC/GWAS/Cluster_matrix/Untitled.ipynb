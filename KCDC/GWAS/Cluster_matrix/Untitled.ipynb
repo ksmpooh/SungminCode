{
 "cells": [
  {
   "cell_type": "code",
   "execution_count": 29,
   "metadata": {},
   "outputs": [],
   "source": [
    "import os,gzip,glob"
   ]
  },
  {
   "cell_type": "code",
   "execution_count": 30,
   "metadata": {},
   "outputs": [],
   "source": [
    "class fileIO():\n",
    "    \n",
    "    '''\n",
    "    def __init__(self,wdir):\n",
    "        if os.path.exists(wdir) & os.path.isdir(wdir):\n",
    "            print(\"Directory exist\")\n",
    "            return\n",
    "        else:\n",
    "            print(\"mkdir\")\n",
    "            #os.system(\"mkdir \" + wdir)\n",
    "            os.mkdir(wdir)\n",
    "    '''\n",
    "    \n",
    "    def fileRead(self, fileIn):\n",
    "        fileList = open(fileIn, 'r')\n",
    "        inData = [f.replace('\\r','').replace('\\n','') for f in fileList]\n",
    "        \n",
    "        return inData\n",
    "    \n",
    "    def gzRead(self,fileIn):\n",
    "        \n",
    "        fileList = gzip.open(fileIn,'r')\n",
    "        inData = [f.replace('\\r','').replace('\\n','') for f in fileList]\n",
    "        \n",
    "        return inData\n",
    "    \n",
    "    def fileWrite(self,writeData, fileOut):\n",
    "        outFile = open(fileOut,'w')\n",
    "        \n",
    "        for i in writeData:\n",
    "            outFile.write(i + '\\n')\n",
    "        outFile.close()\n",
    "        \n",
    "fileIO = fileIO()"
   ]
  },
  {
   "cell_type": "code",
   "execution_count": 31,
   "metadata": {},
   "outputs": [
    {
     "data": {
      "text/plain": [
       "['only_error_AS_V1_B1_2nd.txt',\n",
       " 'only_error_AS_V1_B2_2nd.txt',\n",
       " 'only_error_DS_V1_B1_2nd.txt',\n",
       " 'only_error_DS_V1_B2_2nd.txt',\n",
       " 'only_error_DS_V1_B3_2nd.txt',\n",
       " 'only_error_DS_V1_B4_2nd.txt',\n",
       " 'only_error_DS_V2_B10_2nd.txt',\n",
       " 'only_error_DS_V2_B11_2nd.txt',\n",
       " 'only_error_DS_V2_B12_2nd.txt',\n",
       " 'only_error_DS_V2_B13_2nd.txt',\n",
       " 'only_error_DS_V2_B1_2nd.txt',\n",
       " 'only_error_DS_V2_B2_2nd.txt',\n",
       " 'only_error_DS_V2_B3_2nd.txt',\n",
       " 'only_error_DS_V2_B4_2nd.txt',\n",
       " 'only_error_DS_V2_B5_2nd.txt',\n",
       " 'only_error_DS_V2_B6_2nd.txt',\n",
       " 'only_error_DS_V2_B7_2nd.txt',\n",
       " 'only_error_DS_V2_B8_2nd.txt',\n",
       " 'only_error_DS_V2_B9_2nd.txt',\n",
       " 'only_error_NC_V1_11K_B1_2nd.txt',\n",
       " 'only_error_NC_V1_11K_B2_2nd.txt',\n",
       " 'only_error_NC_V1_7K_B1_2nd.txt',\n",
       " 'only_error_NC_V1_7K_B2_2nd.txt',\n",
       " 'only_error_NC_V1_7K_B3_2nd.txt',\n",
       " 'only_error_NC_V2_B1_2nd.txt']"
      ]
     },
     "execution_count": 31,
     "metadata": {},
     "output_type": "execute_result"
    }
   ],
   "source": [
    "wkdir = \"/Users/user/Desktop/cluster_matrix/only_error_set/\"\n",
    "theme = \"\" \n",
    "\n",
    "file_list = os.listdir(wkdir)\n",
    "file_list"
   ]
  },
  {
   "cell_type": "code",
   "execution_count": 38,
   "metadata": {},
   "outputs": [
    {
     "name": "stdout",
     "output_type": "stream",
     "text": [
      "['AX-88797415 OTV']\n"
     ]
    }
   ],
   "source": [
    "for f in file_list[0:1]:\n",
    "    f = fileIO.fileRead(wkdir+str(f))\n",
    "    \n",
    "    "
   ]
  },
  {
   "cell_type": "code",
   "execution_count": 45,
   "metadata": {},
   "outputs": [
    {
     "data": {
      "text/plain": [
       "['AX-88797415', 'OTV']"
      ]
     },
     "execution_count": 45,
     "metadata": {},
     "output_type": "execute_result"
    }
   ],
   "source": [
    "a = f[1].split(\" \")\n",
    "a"
   ]
  },
  {
   "cell_type": "code",
   "execution_count": 48,
   "metadata": {},
   "outputs": [
    {
     "data": {
      "text/plain": [
       "'AX-88797415'"
      ]
     },
     "execution_count": 48,
     "metadata": {},
     "output_type": "execute_result"
    }
   ],
   "source": [
    "a[0]\n"
   ]
  }
 ],
 "metadata": {
  "kernelspec": {
   "display_name": "Python 3",
   "language": "python",
   "name": "python3"
  },
  "language_info": {
   "codemirror_mode": {
    "name": "ipython",
    "version": 3
   },
   "file_extension": ".py",
   "mimetype": "text/x-python",
   "name": "python",
   "nbconvert_exporter": "python",
   "pygments_lexer": "ipython3",
   "version": "3.6.8"
  }
 },
 "nbformat": 4,
 "nbformat_minor": 2
}
