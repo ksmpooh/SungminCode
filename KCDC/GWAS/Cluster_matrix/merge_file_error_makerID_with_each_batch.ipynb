{
 "cells": [
  {
   "cell_type": "code",
   "execution_count": 133,
   "metadata": {},
   "outputs": [],
   "source": [
    "import os\n",
    "import pandas as pd"
   ]
  },
  {
   "cell_type": "code",
   "execution_count": 135,
   "metadata": {},
   "outputs": [],
   "source": [
    "wdir = \"/Users/user/Desktop/cluster_matrix/\"\n",
    "inputdir = \"only_error_set/\""
   ]
  },
  {
   "cell_type": "code",
   "execution_count": 136,
   "metadata": {},
   "outputs": [],
   "source": [
    "file_list = [f for f in os.listdir(wdir+inputdir)]"
   ]
  },
  {
   "cell_type": "code",
   "execution_count": 137,
   "metadata": {},
   "outputs": [
    {
     "data": {
      "text/plain": [
       "['only_error_AS_V1_B1_2nd.txt',\n",
       " 'only_error_AS_V1_B2_2nd.txt',\n",
       " 'only_error_DS_V1_B1_2nd.txt',\n",
       " 'only_error_DS_V1_B2_2nd.txt',\n",
       " 'only_error_DS_V1_B3_2nd.txt',\n",
       " 'only_error_DS_V1_B4_2nd.txt',\n",
       " 'only_error_DS_V2_B10_2nd.txt',\n",
       " 'only_error_DS_V2_B11_2nd.txt',\n",
       " 'only_error_DS_V2_B12_2nd.txt',\n",
       " 'only_error_DS_V2_B13_2nd.txt',\n",
       " 'only_error_DS_V2_B1_2nd.txt',\n",
       " 'only_error_DS_V2_B2_2nd.txt',\n",
       " 'only_error_DS_V2_B3_2nd.txt',\n",
       " 'only_error_DS_V2_B4_2nd.txt',\n",
       " 'only_error_DS_V2_B5_2nd.txt',\n",
       " 'only_error_DS_V2_B6_2nd.txt',\n",
       " 'only_error_DS_V2_B7_2nd.txt',\n",
       " 'only_error_DS_V2_B8_2nd.txt',\n",
       " 'only_error_DS_V2_B9_2nd.txt',\n",
       " 'only_error_NC_V1_11K_B1_2nd.txt',\n",
       " 'only_error_NC_V1_11K_B2_2nd.txt',\n",
       " 'only_error_NC_V1_7K_B1_2nd.txt',\n",
       " 'only_error_NC_V1_7K_B2_2nd.txt',\n",
       " 'only_error_NC_V1_7K_B3_2nd.txt',\n",
       " 'only_error_NC_V2_B1_2nd.txt']"
      ]
     },
     "execution_count": 137,
     "metadata": {},
     "output_type": "execute_result"
    }
   ],
   "source": [
    "file_list"
   ]
  },
  {
   "cell_type": "code",
   "execution_count": 129,
   "metadata": {},
   "outputs": [],
   "source": [
    "file = file_list[0]\n",
    "df = pd.read_csv(wdir+inputdir+file,delim_whitespace = True )\n",
    "df.columns = ['probeset_id',str(file.replace('only_error_',\"\").replace(\".txt\",\"\"))]\n",
    "for file in file_list[1:]:\n",
    "    a = pd.read_csv(wdir+inputdir+file,delim_whitespace = True )\n",
    "    a.columns = ['probeset_id',str(file.replace('only_error_',\"\").replace(\".txt\",\"\"))]\n",
    "    \n",
    "    df = pd.merge(df,a,how = 'outer', on = 'probeset_id')"
   ]
  },
  {
   "cell_type": "code",
   "execution_count": 130,
   "metadata": {},
   "outputs": [],
   "source": [
    "df.to_csv(wdir+\"df.txt\",index = False,sep='\\t',quotechar=\"\\\"\")"
   ]
  },
  {
   "cell_type": "code",
   "execution_count": 132,
   "metadata": {},
   "outputs": [
    {
     "name": "stdout",
     "output_type": "stream",
     "text": [
      "286194 286194\n"
     ]
    }
   ],
   "source": [
    "len(df)\n",
    "\n",
    "error = pd.read_csv(wdir+\"merge_error_marker_id.txt\",delim_whitespace = True)\n",
    "\n",
    "print(len(df),len(error))"
   ]
  },
  {
   "cell_type": "code",
   "execution_count": null,
   "metadata": {},
   "outputs": [],
   "source": []
  }
 ],
 "metadata": {
  "kernelspec": {
   "display_name": "Python 3",
   "language": "python",
   "name": "python3"
  },
  "language_info": {
   "codemirror_mode": {
    "name": "ipython",
    "version": 3
   },
   "file_extension": ".py",
   "mimetype": "text/x-python",
   "name": "python",
   "nbconvert_exporter": "python",
   "pygments_lexer": "ipython3",
   "version": "3.6.8"
  }
 },
 "nbformat": 4,
 "nbformat_minor": 2
}
