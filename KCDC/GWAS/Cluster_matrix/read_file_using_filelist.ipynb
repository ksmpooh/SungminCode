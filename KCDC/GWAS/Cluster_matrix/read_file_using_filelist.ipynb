{
 "cells": [
  {
   "cell_type": "code",
   "execution_count": 2,
   "metadata": {},
   "outputs": [],
   "source": [
    "import os, gzip,pandas,glob"
   ]
  },
  {
   "cell_type": "code",
   "execution_count": 3,
   "metadata": {},
   "outputs": [],
   "source": [
    "class fileInOut():\n",
    "\t#print \"CLASS: fileInOut\"\n",
    "\t\n",
    "\tdef makeDir(self, outDir):   \n",
    "\t\t#print \"METHOD: makeDir()...\"\n",
    "\t\t\n",
    "\t\tos.system(\"mkdir \" + outDir)\n",
    "\t\n",
    "\tdef fileRead(self, fileIn):\n",
    "\t\t#print \"METHOD: fileRead()...\"\n",
    "\t\t\n",
    "\t\tfileList = open(fileIn, 'r')\n",
    "\t\tinData = [r.replace('\\r', '').replace('\\n', '') for r in fileList]\n",
    "\t\t\n",
    "\t\treturn inData\n",
    "\t\n",
    "\tdef gzRead(self, fileIn):\n",
    "\t\t#print \"METHOD: gzRead()...\"\n",
    "\t\t\n",
    "\t\tfileList = gzip.open(fileIn, 'r')\n",
    "\t\tinData = [r.replace('\\r', '').replace('\\n', '') for r in fileList]\n",
    "\t\t\n",
    "\t\treturn inData\n",
    "\t\t\n",
    "\tdef fileWrite(self, writeData, fileOut):\n",
    "\t\t#print \"METHOD: fileWrite()...\"\n",
    "\t\t\n",
    "\t\toutFile = open(fileOut, 'w')\n",
    "\t\t\n",
    "\t\tfor i in writeData:\n",
    "\t\t\toutFile.write(i + '\\n')\n",
    "\t\toutFile.close()\n",
    "\t\n",
    "\t\n",
    "\tdef makeTemp(self, tempDir, dataType):\n",
    "\t\t#print \"METHOD: makeTemp()...\"\n",
    "\t\t\n",
    "\t\ttempDir = tempDir + dataType + '/'\n",
    "\t\tself.makeDir(tempDir)\n",
    "\t\t\n",
    "\t\treturn tempDir\t"
   ]
  },
  {
   "cell_type": "code",
   "execution_count": 4,
   "metadata": {},
   "outputs": [],
   "source": [
    "wdir = \"/Users/user/Desktop/cluster_matrix/\"\n",
    "fileIO = fileInOut()\n"
   ]
  },
  {
   "cell_type": "code",
   "execution_count": 5,
   "metadata": {},
   "outputs": [],
   "source": [
    "#file_list = fileIO.fileRead(wdir)"
   ]
  },
  {
   "cell_type": "code",
   "execution_count": 6,
   "metadata": {},
   "outputs": [],
   "source": [
    "file_list = [f for f in os.listdir(wdir) if \"2nd\" in f]"
   ]
  },
  {
   "cell_type": "code",
   "execution_count": null,
   "metadata": {},
   "outputs": [],
   "source": [
    "\n",
    "    "
   ]
  },
  {
   "cell_type": "code",
   "execution_count": null,
   "metadata": {},
   "outputs": [],
   "source": []
  }
 ],
 "metadata": {
  "kernelspec": {
   "display_name": "Python 3",
   "language": "python",
   "name": "python3"
  },
  "language_info": {
   "codemirror_mode": {
    "name": "ipython",
    "version": 3
   },
   "file_extension": ".py",
   "mimetype": "text/x-python",
   "name": "python",
   "nbconvert_exporter": "python",
   "pygments_lexer": "ipython3",
   "version": "3.6.8"
  }
 },
 "nbformat": 4,
 "nbformat_minor": 2
}
