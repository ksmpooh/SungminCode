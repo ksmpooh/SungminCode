{
 "cells": [
  {
   "cell_type": "code",
   "execution_count": 4,
   "metadata": {},
   "outputs": [],
   "source": [
    "import math"
   ]
  },
  {
   "cell_type": "code",
   "execution_count": 5,
   "metadata": {},
   "outputs": [],
   "source": [
    "df = open(\"/Users/ksmpooh/Desktop/KCDC/KKY/01.1stQC_clusterplot/summary_for.cluster_transposon.txt\",\"r\")\n",
    "out = open(\"/Users/ksmpooh/Desktop/KCDC/KKY/01.1stQC_clusterplot/clusterplot.data.x.y.txt\",\"w\")"
   ]
  },
  {
   "cell_type": "code",
   "execution_count": 6,
   "metadata": {},
   "outputs": [],
   "source": [
    "#Original signal intensity에서 transformed signal intensity로 변환할 수 있는 공식\n",
    "#x축: Contrast = log2(SNP-A / SNP-B)\n",
    "#y축: Size = (log2(SNP-A) + log2(SNP-B))/2\n",
    "#ref <- io\n",
    "def main():\n",
    "    col= df.readline().replace(\"-A\",\"-contrast\").replace(\"-B\",\"-size\")  \n",
    "    ncol = len(col.replace(\"\\n\",\"\").split())\n",
    "    out.write(col)\n",
    "    #print(col)   \n",
    "    while True:\n",
    "        line = df.readline()\n",
    "        if not line:\n",
    "            break\n",
    "        #for i in range(1,int((ncol-1)/2)):\n",
    "        lines = line.replace(\"\\n\",\"\").split()\n",
    "        out.write(\"%s\"%lines.pop(0))\n",
    "        while len(lines) !=0:\n",
    "            a = float(lines.pop(0))\n",
    "            b = float(lines.pop(0))\n",
    "            contrast = math.log2(a/b)\n",
    "            size = (math.log2(a) + math.log2(a))/2\n",
    "            out.write(\" %s %s\"%(str(contrast),str(size)))\n",
    "        out.write(\"\\n\")\n",
    "        \n",
    "main()"
   ]
  },
  {
   "cell_type": "code",
   "execution_count": 7,
   "metadata": {},
   "outputs": [],
   "source": [
    "df.close()\n",
    "out.close()"
   ]
  },
  {
   "cell_type": "code",
   "execution_count": 23,
   "metadata": {},
   "outputs": [],
   "source": [
    "### row for AA AB BB\n",
    "df = open(\"/Users/ksmpooh/Desktop/KCDC/KKY/01.1stQC_clusterplot/TEST2_raw.raw\",\"r\")\n",
    "#out =open(\"/Users/ksmpooh/Desktop/KCDC/KKY/01.1stQC_clusterplot/TEST2_raw_processing.AAABBB.txt\",\"w\")"
   ]
  },
  {
   "cell_type": "code",
   "execution_count": 24,
   "metadata": {},
   "outputs": [
    {
     "name": "stdout",
     "output_type": "stream",
     "text": [
      "['AX-11373064', 'AX-12588615', 'AX-113848361', 'AX-11531229', 'AX-11348402', 'AX-83123992', 'AX-30118673', 'AX-50054529', 'AX-30421355', 'AX-11347233', 'AX-30695933', 'AX-30705655', 'AX-13604306', 'AX-40746967', 'AX-40750417', 'AX-33444267', 'AX-33760141', 'AX-13927256', 'AX-13988322', 'AX-11495391', 'AX-11579977', 'AX-14039661', 'AX-11424568', 'AX-11580181', 'AX-11180455', 'AX-13572091', 'AX-40623575', 'AX-11208169', 'AX-13661697', 'AX-12544415', 'AX-11400529', 'AX-40906785', 'AX-40918689', 'AX-14364539', 'AX-41080435', 'AX-11479669', 'AX-11219709', 'AX-14237164', 'AX-11378422', 'AX-34862497', 'AX-113219975', 'AX-41322355', 'AX-11211418', 'AX-34561219', 'AX-34581809', 'AX-41384401', 'AX-34713983', 'AX-11404562', 'AX-41718209', 'AX-35424275', 'AX-41563445', 'AX-11242865', 'AX-11479865', 'AX-14943299', 'AX-14991016', 'AX-11698356', 'AX-106718326', 'AX-11406883', 'AX-11520857', 'AX-11520992', 'AX-15714072', 'AX-15715407', 'AX-15716595', 'AX-11338138', 'AX-42227599', 'AX-15768280', 'AX-15784216', 'AX-42282081', 'AX-11574510', 'AX-15968489', 'AX-11401572', 'AX-15970916', 'AX-42445253', 'AX-16009413', 'AX-42397345', 'AX-15941141', 'AX-11398197', 'AX-107888743', 'AX-11246624', 'AX-36460837', 'AX-11175033', 'AX-11260871', 'AX-37007309', 'AX-11124481', 'AX-83123348', 'AX-83440879', 'AX-38844443', 'AX-11125092', 'AX-11411531', 'AX-38800229', 'AX-38734675', 'AX-11121839', 'AX-38743309', 'AX-39044455', 'AX-39074209', 'AX-16985525', 'AX-39443823', 'AX-12441247', 'AX-11379570', 'AX-30944953', 'AX-12529195', 'AX-30525391', 'AX-17126756', 'AX-114112550', 'AX-17112107', 'AX-39869323', 'AX-11612041', 'AX-12622965', 'AX-11661880', 'AX-12997082', 'AX-12997564', 'AX-31789047', 'AX-31790417', 'AX-12648204', 'AX-50201775', 'AX-31900071', 'AX-31931725', 'AX-83262114', 'AX-40056123', 'AX-13071463', 'AX-96947649', 'AX-32165319', 'AX-11663678', 'AX-40191845', 'AX-11526832', 'AX-11480557', 'AX-32295741', 'AX-32301699', 'AX-40238325', 'AX-11193380', 'AX-32394489', 'AX-13289455', 'AX-40334511', 'AX-12532208', 'AX-11147367', 'AX-11616554', 'AX-83503127', 'AX-40412457', 'AX-40439331', 'AX-40462983', 'AX-40467619', 'AX-40475107', 'AX-11556075', 'AX-11555692', 'AX-33046905', 'AX-13581409', 'AX-33248213', 'AX-33278755', 'AX-11512247', 'AX-40910089', 'AX-40910419', 'AX-33656409', 'AX-33663335']\n"
     ]
    },
    {
     "ename": "IndexError",
     "evalue": "pop from empty list",
     "output_type": "error",
     "traceback": [
      "\u001b[0;31m---------------------------------------------------------------------------\u001b[0m",
      "\u001b[0;31mIndexError\u001b[0m                                Traceback (most recent call last)",
      "\u001b[0;32m<ipython-input-24-94cab3fcbe30>\u001b[0m in \u001b[0;36m<module>\u001b[0;34m\u001b[0m\n\u001b[1;32m     12\u001b[0m         \u001b[0mout\u001b[0m\u001b[0;34m.\u001b[0m\u001b[0mwrite\u001b[0m\u001b[0;34m(\u001b[0m\u001b[0;34m\" %s\"\u001b[0m\u001b[0;34m%\u001b[0m\u001b[0mid1\u001b[0m\u001b[0;34m)\u001b[0m\u001b[0;34m\u001b[0m\u001b[0;34m\u001b[0m\u001b[0m\n\u001b[1;32m     13\u001b[0m     \u001b[0mprint\u001b[0m\u001b[0;34m(\u001b[0m\u001b[0mid1\u001b[0m\u001b[0;34m)\u001b[0m\u001b[0;34m\u001b[0m\u001b[0;34m\u001b[0m\u001b[0m\n\u001b[0;32m---> 14\u001b[0;31m \u001b[0mmain\u001b[0m\u001b[0;34m(\u001b[0m\u001b[0;34m)\u001b[0m\u001b[0;34m\u001b[0m\u001b[0;34m\u001b[0m\u001b[0m\n\u001b[0m",
      "\u001b[0;32m<ipython-input-24-94cab3fcbe30>\u001b[0m in \u001b[0;36mmain\u001b[0;34m()\u001b[0m\n\u001b[1;32m      9\u001b[0m     \u001b[0;32mwhile\u001b[0m \u001b[0mlen\u001b[0m\u001b[0;34m(\u001b[0m\u001b[0mcols\u001b[0m\u001b[0;34m)\u001b[0m \u001b[0;34m!=\u001b[0m\u001b[0;36m0\u001b[0m\u001b[0;34m:\u001b[0m\u001b[0;34m\u001b[0m\u001b[0;34m\u001b[0m\u001b[0m\n\u001b[1;32m     10\u001b[0m         \u001b[0mid1\u001b[0m \u001b[0;34m=\u001b[0m \u001b[0mcols\u001b[0m\u001b[0;34m.\u001b[0m\u001b[0mpop\u001b[0m\u001b[0;34m(\u001b[0m\u001b[0;36m0\u001b[0m\u001b[0;34m)\u001b[0m\u001b[0;34m\u001b[0m\u001b[0;34m\u001b[0m\u001b[0m\n\u001b[0;32m---> 11\u001b[0;31m         \u001b[0mid1\u001b[0m \u001b[0;34m=\u001b[0m \u001b[0mcols\u001b[0m\u001b[0;34m.\u001b[0m\u001b[0mpop\u001b[0m\u001b[0;34m(\u001b[0m\u001b[0;36m0\u001b[0m\u001b[0;34m)\u001b[0m\u001b[0;34m\u001b[0m\u001b[0;34m\u001b[0m\u001b[0m\n\u001b[0m\u001b[1;32m     12\u001b[0m         \u001b[0mout\u001b[0m\u001b[0;34m.\u001b[0m\u001b[0mwrite\u001b[0m\u001b[0;34m(\u001b[0m\u001b[0;34m\" %s\"\u001b[0m\u001b[0;34m%\u001b[0m\u001b[0mid1\u001b[0m\u001b[0;34m)\u001b[0m\u001b[0;34m\u001b[0m\u001b[0;34m\u001b[0m\u001b[0m\n\u001b[1;32m     13\u001b[0m     \u001b[0mprint\u001b[0m\u001b[0;34m(\u001b[0m\u001b[0mid1\u001b[0m\u001b[0;34m)\u001b[0m\u001b[0;34m\u001b[0m\u001b[0;34m\u001b[0m\u001b[0m\n",
      "\u001b[0;31mIndexError\u001b[0m: pop from empty list"
     ]
    }
   ],
   "source": [
    "#ID IID PAT MAT SEX PHENOTYPE AX-11373064_A AX-12588615_B AX-113848361_B AX-11531229_B\n",
    "def main():\n",
    "    col = df.readline().replace(\"_A\",\"\").replace('_B','')\n",
    "    out.write(\"ID\")\n",
    "    cols = col.replace(\"\\n\",'').split()\n",
    "    for i in range(1,6+1):\n",
    "        cols.pop(0)\n",
    "    print(cols)\n",
    "    while len(cols) !=0:\n",
    "        id1 = cols.pop(0)\n",
    "        id1 = cols.pop(0)\n",
    "        out.write(\" %s\"%id1)\n",
    "    print(id1)\n",
    "main()"
   ]
  },
  {
   "cell_type": "code",
   "execution_count": 25,
   "metadata": {},
   "outputs": [],
   "source": [
    "df.close()\n",
    "out.close()"
   ]
  },
  {
   "cell_type": "code",
   "execution_count": null,
   "metadata": {},
   "outputs": [],
   "source": []
  }
 ],
 "metadata": {
  "kernelspec": {
   "display_name": "Python 3",
   "language": "python",
   "name": "python3"
  },
  "language_info": {
   "codemirror_mode": {
    "name": "ipython",
    "version": 3
   },
   "file_extension": ".py",
   "mimetype": "text/x-python",
   "name": "python",
   "nbconvert_exporter": "python",
   "pygments_lexer": "ipython3",
   "version": "3.8.5"
  }
 },
 "nbformat": 4,
 "nbformat_minor": 4
}
