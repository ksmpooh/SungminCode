{
 "cells": [
  {
   "cell_type": "code",
   "execution_count": 3,
   "metadata": {},
   "outputs": [],
   "source": [
    "### frq"
   ]
  },
  {
   "cell_type": "code",
   "execution_count": 1,
   "metadata": {},
   "outputs": [],
   "source": [
    "import os,glob,pandas"
   ]
  },
  {
   "cell_type": "code",
   "execution_count": 11,
   "metadata": {},
   "outputs": [],
   "source": [
    "def fileRead(fileIn):\n",
    "    f = open(fileIn,'r')\n",
    "    inData = [r.replace(\"\\r\",\"\").replace(\"\\n\",\"\").split(\"\\t\") for r in f]\n",
    "    return inData\n",
    "def fileWrite(writeData,outPath):\n",
    "    outFile = open(outPath,'w')\n",
    "    \n",
    "    for i in writeData:\n",
    "        outFile.write(i + '\\n')\n",
    "        \n",
    "    outFile.close()\n",
    "    "
   ]
  },
  {
   "cell_type": "code",
   "execution_count": 12,
   "metadata": {},
   "outputs": [],
   "source": [
    "V1_file_list = glob.glob(\"C:/Users/user/Desktop/KCDC/BMI_association/freq/*V1*\")\n",
    "V2_file_list = glob.glob(\"C:/Users/user/Desktop/KCDC/BMI_association/freq/*V2*\")\n",
    "outDir = \"C:/Users/user/Desktop/KCDC/BMI_association/freq/outDir/\""
   ]
  },
  {
   "cell_type": "code",
   "execution_count": 4,
   "metadata": {},
   "outputs": [],
   "source": [
    "chr1 = fileRead(V1_file_list[1])"
   ]
  },
  {
   "cell_type": "code",
   "execution_count": 5,
   "metadata": {},
   "outputs": [
    {
     "data": {
      "text/plain": [
       "['11', '11:123350_C/T', '123350', 'T', 'C', '0.325726', '96572']"
      ]
     },
     "execution_count": 5,
     "metadata": {},
     "output_type": "execute_result"
    }
   ],
   "source": [
    "chr1[1]"
   ]
  },
  {
   "cell_type": "code",
   "execution_count": 6,
   "metadata": {},
   "outputs": [],
   "source": [
    "os.makedirs(outDir)"
   ]
  },
  {
   "cell_type": "code",
   "execution_count": 7,
   "metadata": {},
   "outputs": [
    {
     "data": {
      "text/plain": [
       "True"
      ]
     },
     "execution_count": 7,
     "metadata": {},
     "output_type": "execute_result"
    }
   ],
   "source": [
    "\n"
   ]
  },
  {
   "cell_type": "code",
   "execution_count": 8,
   "metadata": {},
   "outputs": [],
   "source": [
    "for file in V1_file_list:\n",
    "    df = fileRead(file)\n",
    "    df[0].append(\"Frq\")\n",
    "    df[0].append(\"OX\")\n",
    "    for i in range(1,len(df)+1):\n",
    "        try:\n",
    "            if df[i][1].split(\"/\")[1] == df[i][3]:\n",
    "                df[i].append(df[i][5])\n",
    "                df[i].append('TRUE')\n",
    "            else:\n",
    "                df[i].append(1-float(df[i][5]))\n",
    "                df[i].append('FALSE')\n",
    "        except IndexError as error:\n",
    "            break\n",
    "    fileWrite(df,outDir+\"frq_\"+file)"
   ]
  },
  {
   "cell_type": "code",
   "execution_count": null,
   "metadata": {},
   "outputs": [],
   "source": []
  },
  {
   "cell_type": "code",
   "execution_count": 13,
   "metadata": {},
   "outputs": [],
   "source": [
    "os.makedirs(outDir)"
   ]
  },
  {
   "cell_type": "code",
   "execution_count": 18,
   "metadata": {},
   "outputs": [
    {
     "data": {
      "text/plain": [
       "541274"
      ]
     },
     "execution_count": 18,
     "metadata": {},
     "output_type": "execute_result"
    }
   ],
   "source": []
  },
  {
   "cell_type": "code",
   "execution_count": null,
   "metadata": {},
   "outputs": [],
   "source": []
  }
 ],
 "metadata": {
  "kernelspec": {
   "display_name": "Python 3",
   "language": "python",
   "name": "python3"
  },
  "language_info": {
   "codemirror_mode": {
    "name": "ipython",
    "version": 3
   },
   "file_extension": ".py",
   "mimetype": "text/x-python",
   "name": "python",
   "nbconvert_exporter": "python",
   "pygments_lexer": "ipython3",
   "version": "3.6.8"
  }
 },
 "nbformat": 4,
 "nbformat_minor": 2
}
