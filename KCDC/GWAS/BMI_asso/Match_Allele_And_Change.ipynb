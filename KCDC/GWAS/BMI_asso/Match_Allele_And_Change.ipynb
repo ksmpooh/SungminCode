{
 "cells": [
  {
   "cell_type": "code",
   "execution_count": 3,
   "metadata": {},
   "outputs": [],
   "source": [
    "'''\n",
    "match allele and change allele\n",
    "add frq\n",
    "and merge V1, V2\n",
    "and match orginal file to add frq\n",
    "'''"
   ]
  },
  {
   "cell_type": "code",
   "execution_count": 92,
   "metadata": {},
   "outputs": [],
   "source": [
    "import os,glob\n",
    "import pandas as pd"
   ]
  },
  {
   "cell_type": "code",
   "execution_count": 44,
   "metadata": {},
   "outputs": [],
   "source": [
    "def fileRead(fileIn):\n",
    "    f = open(fileIn,'r')\n",
    "    inData = [r.replace(\"\\r\",\"\").replace(\"\\n\",\"\").split(\"\\t\") for r in f]\n",
    "    return inData\n",
    "\n",
    "\n",
    "def fileWrite(writeData,outPath):\n",
    "    outFile = open(outPath,'w')\n",
    "    \n",
    "    for i in writeData:\n",
    "        j = \"\\t\".join(str(r) for r in  i )\n",
    "        outFile.write(j + '\\n')\n",
    "        \n",
    "    outFile.close()\n",
    "\n",
    "def makeDir(makePath):\n",
    "    if os.path.isdir(makePath):\n",
    "        print(\"already exist Directory\")\n",
    "        return\n",
    "    else:\n",
    "        os.makeDir(makePath)\n",
    "        print(\"make Dir\")\n",
    "    "
   ]
  },
  {
   "cell_type": "code",
   "execution_count": 45,
   "metadata": {},
   "outputs": [
    {
     "name": "stdout",
     "output_type": "stream",
     "text": [
      "already exist Directory\n"
     ]
    }
   ],
   "source": [
    "V1_file_list = glob.glob(\"C:/Users/user/Desktop/KCDC/BMI_association/freq/*V1*\")\n",
    "V2_file_list = glob.glob(\"C:/Users/user/Desktop/KCDC/BMI_association/freq/*V2*\")\n",
    "outDir = \"C:/Users/user/Desktop/KCDC/BMI_association/freq/outDir/\"\n",
    "makeDir(outDir)"
   ]
  },
  {
   "cell_type": "code",
   "execution_count": null,
   "metadata": {},
   "outputs": [],
   "source": []
  },
  {
   "cell_type": "code",
   "execution_count": 97,
   "metadata": {},
   "outputs": [],
   "source": [
    "def checkAlleleAndChange(file_list):\n",
    "    for file in file_list:\n",
    "        df = fileRead(file)\n",
    "        outpath = file.replace(\"C:/Users/user/Desktop/KCDC/BMI_association/freq\\\\\",\"\").replace(\"20190102\",\"20190902\")\n",
    "                           \n",
    "        df[0].append(\"Frq\")\n",
    "        df[0].append(\"OX\")\n",
    "        for i in range(1,len(df)+1):\n",
    "            try:\n",
    "                if df[i][1].split(\"/\")[1] == df[i][3]:\n",
    "                    df[i].append(df[i][5])\n",
    "                    df[i].append('TRUE')\n",
    "                else:\n",
    "                    df[i].append(1-float(df[i][5]))\n",
    "                    df[i].append('FALSE')\n",
    "            except IndexError as error:\n",
    "                break\n",
    "        \n"
   ]
  },
  {
   "cell_type": "code",
   "execution_count": 100,
   "metadata": {},
   "outputs": [],
   "source": [
    "def merge(file_list, concept):\n",
    "    df = pd.DataFrame()\n",
    "    for file in file_list:\n",
    "        df1 = pd.read_csv(file,delim_whitespace = True)\n",
    "        df = pd.concat([df,df1])\n",
    "    df.to_csv(outDir + \"merge_\"+concept+\".txt\",index = False,sep = '\\t',quotechar = \"\\\"\")\n"
   ]
  },
  {
   "cell_type": "code",
   "execution_count": 98,
   "metadata": {},
   "outputs": [],
   "source": [
    "fre_V1_list = glob.glob(\"c:/Users/user/Desktop/KCDC/BMI_association/freq/outDir/*V1*\")\n",
    "fre_V2_list = glob.glob(\"c:/Users/user/Desktop/KCDC/BMI_association/freq/outDir/*V2*\")"
   ]
  },
  {
   "cell_type": "code",
   "execution_count": null,
   "metadata": {},
   "outputs": [],
   "source": []
  },
  {
   "cell_type": "code",
   "execution_count": 101,
   "metadata": {},
   "outputs": [],
   "source": [
    "merge(fre_V2_list,\"V2\")\n"
   ]
  },
  {
   "cell_type": "code",
   "execution_count": 94,
   "metadata": {},
   "outputs": [],
   "source": [
    "#checkAlleleAndChange(V1_file_list)\n",
    "#checkAlleleAndChange(V2_file_list)"
   ]
  },
  {
   "cell_type": "code",
   "execution_count": 84,
   "metadata": {},
   "outputs": [],
   "source": []
  },
  {
   "cell_type": "code",
   "execution_count": 90,
   "metadata": {},
   "outputs": [
    {
     "data": {
      "text/plain": [
       "469149"
      ]
     },
     "execution_count": 90,
     "metadata": {},
     "output_type": "execute_result"
    }
   ],
   "source": []
  },
  {
   "cell_type": "code",
   "execution_count": null,
   "metadata": {},
   "outputs": [],
   "source": []
  },
  {
   "cell_type": "code",
   "execution_count": null,
   "metadata": {},
   "outputs": [],
   "source": []
  }
 ],
 "metadata": {
  "kernelspec": {
   "display_name": "Python 3",
   "language": "python",
   "name": "python3"
  },
  "language_info": {
   "codemirror_mode": {
    "name": "ipython",
    "version": 3
   },
   "file_extension": ".py",
   "mimetype": "text/x-python",
   "name": "python",
   "nbconvert_exporter": "python",
   "pygments_lexer": "ipython3",
   "version": "3.6.8"
  }
 },
 "nbformat": 4,
 "nbformat_minor": 2
}
