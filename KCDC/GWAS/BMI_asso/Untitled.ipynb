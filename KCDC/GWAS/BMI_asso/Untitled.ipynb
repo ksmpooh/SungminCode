{
 "cells": [
  {
   "cell_type": "code",
   "execution_count": 12,
   "metadata": {},
   "outputs": [
    {
     "data": {
      "text/plain": [
       "'\\nBMI association 20190820\\n\\nKCHIP 136K\\n\\nDM noDM for V1, V2\\n'"
      ]
     },
     "execution_count": 12,
     "metadata": {},
     "output_type": "execute_result"
    }
   ],
   "source": [
    "'''\n",
    "BMI association 20190820\n",
    "\n",
    "KCHIP 136K\n",
    "\n",
    "DM noDM for V1, V2\n",
    "'''"
   ]
  },
  {
   "cell_type": "code",
   "execution_count": 49,
   "metadata": {},
   "outputs": [],
   "source": [
    "import glob, os\n",
    "wdir = \"C:/Users/user/Desktop/KCDC/BMI_association/\"\n",
    "InputData = \"LaCie/ghyoon/OAS\"\n",
    "#vcf file = chr1_999999_999999_V1_annoINFO_fileINFO0.8.vcf.gz\n",
    "DM = \"KCHIP130K_BMI_adj_DM_20190809.txt\"\n",
    "noDM = \"KCHIP130K_BMI_adj_noDM_20190809.txt\"\n",
    "Chunk = \"imputation.IMPUTE4.POS.50K_20181114_Final.txt\"\n",
    "version = [\"V1\",\"V2\"]\n",
    "CHR = [a for a in range(1,23)]"
   ]
  },
  {
   "cell_type": "code",
   "execution_count": 42,
   "metadata": {},
   "outputs": [],
   "source": [
    "#function \n",
    "def fileRead(fileIn):\n",
    "    fileIO = open(fileIn,'r')\n",
    "    InData = [f.replace('/r','').replace('\\n',\"\").replace('\\t',' ') for f in fileIO]\n",
    "    \n",
    "    fileIO.close()\n",
    "    return InData\n"
   ]
  },
  {
   "cell_type": "code",
   "execution_count": 35,
   "metadata": {},
   "outputs": [],
   "source": [
    "#file Read\n",
    "chunk = [f.split(\" \") for f in fileRead(wdir + Chunk)]\n",
    "\n",
    "vcfData = glob.glob(InputData+)"
   ]
  },
  {
   "cell_type": "code",
   "execution_count": 51,
   "metadata": {},
   "outputs": [
    {
     "data": {
      "text/plain": [
       "['V1', 'V2']"
      ]
     },
     "execution_count": 51,
     "metadata": {},
     "output_type": "execute_result"
    }
   ],
   "source": []
  },
  {
   "cell_type": "code",
   "execution_count": null,
   "metadata": {},
   "outputs": [],
   "source": []
  }
 ],
 "metadata": {
  "kernelspec": {
   "display_name": "Python 3",
   "language": "python",
   "name": "python3"
  },
  "language_info": {
   "codemirror_mode": {
    "name": "ipython",
    "version": 3
   },
   "file_extension": ".py",
   "mimetype": "text/x-python",
   "name": "python",
   "nbconvert_exporter": "python",
   "pygments_lexer": "ipython3",
   "version": "3.6.8"
  }
 },
 "nbformat": 4,
 "nbformat_minor": 2
}
