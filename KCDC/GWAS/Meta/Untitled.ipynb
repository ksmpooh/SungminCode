{
 "cells": [
  {
   "cell_type": "code",
   "execution_count": 1,
   "metadata": {},
   "outputs": [],
   "source": [
    "### 20201005 meta"
   ]
  },
  {
   "cell_type": "code",
   "execution_count": 52,
   "metadata": {},
   "outputs": [],
   "source": [
    "###ref\n",
    "wdir = \"c:/Users/user/Downloads/\"\n",
    "import gzip,glob,os"
   ]
  },
  {
   "cell_type": "code",
   "execution_count": 53,
   "metadata": {},
   "outputs": [],
   "source": [
    "## function\n",
    "\t#print \"CLASS: fileInOut\"\n",
    "def makeDir(outDir):\n",
    "#\tprint \"METHOD: makeDir()...\"\n",
    "\tos.system(\"mkdir \" + outDir)\n",
    "\n",
    "def fileRead(fileIn):\n",
    "#\tprint \"METHOD: fileRead()...\"\"\n",
    "\tfileList = open(fileIn, 'r')\n",
    "\tinData = [r.replace('\\r', '').replace('\\n', '') for r in fileList]\n",
    "\treturn inData\n",
    "\n",
    "def gzRead(fileIn):\n",
    "#\tprint \"METHOD: gzRead()...\"\n",
    "\tfileList = gzip.open(fileIn, 'r')\n",
    "\tinData = [r.replace('\\r', '').replace('\\n', '') for r in fileList]\n",
    "\treturn inData\n",
    "\t\n",
    "def fileWrite(writeData, fileOut):\n",
    "#\tprint \"METHOD: fileWrite()...\"\n",
    "\toutFile = open(fileOut, 'w')\t\n",
    "\tfor i in writeData:\n",
    "\t\toutFile.write(i + '\\n')\n",
    "\toutFile.close()\n"
   ]
  },
  {
   "cell_type": "code",
   "execution_count": 92,
   "metadata": {},
   "outputs": [],
   "source": [
    "traits = [\"MCV\",\"Plt\",\"RBC\",\"WBC\",\"AG\",\"NAP\",\"TP\",\"MCH\",\"MCHC\",\"Ht\",\"Hb\",\"BMI\",\"Height\"]\n",
    "def main():\n",
    "    for trait in traits:\n",
    "        print(trait)\n",
    "        df = glob.glob(wdir + trait)\n",
    "        print(df)\n",
    "        \n",
    "        \n",
    "    #    df = gzip.open(i,'rt')\n",
    "    #    for i in range(1,3):\n",
    "    #        a = df.readline()\n",
    "        \n",
    "     #       print(a.split())\n",
    "      #      print(a)\n",
    "        \n",
    "    "
   ]
  },
  {
   "cell_type": "code",
   "execution_count": 93,
   "metadata": {},
   "outputs": [
    {
     "name": "stdout",
     "output_type": "stream",
     "text": [
      "MCV\n",
      "[]\n",
      "Plt\n",
      "[]\n",
      "RBC\n",
      "[]\n",
      "WBC\n",
      "[]\n",
      "AG\n",
      "[]\n",
      "NAP\n",
      "[]\n",
      "TP\n",
      "[]\n",
      "MCH\n",
      "[]\n",
      "MCHC\n",
      "[]\n",
      "Ht\n",
      "[]\n",
      "Hb\n",
      "[]\n",
      "BMI\n",
      "[]\n",
      "Height\n",
      "[]\n"
     ]
    }
   ],
   "source": [
    "main()"
   ]
  },
  {
   "cell_type": "code",
   "execution_count": 86,
   "metadata": {},
   "outputs": [
    {
     "name": "stdout",
     "output_type": "stream",
     "text": [
      "['c:/Users/user/Downloads\\\\2019_BBJ_Height_autosomes_BOLT.txt.gz', 'c:/Users/user/Downloads\\\\All_2017_BMI_BBJ_autosome.txt.gz', 'c:/Users/user/Downloads\\\\BBJ.AG.autosome.txt.gz', 'c:/Users/user/Downloads\\\\BBJ.Hb.autosome.txt.gz', 'c:/Users/user/Downloads\\\\BBJ.Ht.autosome.txt.gz', 'c:/Users/user/Downloads\\\\BBJ.MCH.autosome.txt.gz', 'c:/Users/user/Downloads\\\\BBJ.MCHC.autosome.txt.gz', 'c:/Users/user/Downloads\\\\BBJ.MCV.autosome.txt.gz', 'c:/Users/user/Downloads\\\\BBJ.NAP.autosome.txt.gz', 'c:/Users/user/Downloads\\\\BBJ.Plt.autosome.txt.gz', 'c:/Users/user/Downloads\\\\BBJ.RBC.autosome.txt.gz', 'c:/Users/user/Downloads\\\\BBJ.TP.autosome.txt.gz', 'c:/Users/user/Downloads\\\\BBJ.WBC.autosome.txt.gz']\n"
     ]
    }
   ],
   "source": [
    "fileList = glob.glob(wdir+\"*BBJ*\")\n",
    "print(fileList)"
   ]
  },
  {
   "cell_type": "code",
   "execution_count": null,
   "metadata": {},
   "outputs": [],
   "source": []
  }
 ],
 "metadata": {
  "kernelspec": {
   "display_name": "Python 3",
   "language": "python",
   "name": "python3"
  },
  "language_info": {
   "codemirror_mode": {
    "name": "ipython",
    "version": 3
   },
   "file_extension": ".py",
   "mimetype": "text/x-python",
   "name": "python",
   "nbconvert_exporter": "python",
   "pygments_lexer": "ipython3",
   "version": "3.6.8"
  }
 },
 "nbformat": 4,
 "nbformat_minor": 2
}
