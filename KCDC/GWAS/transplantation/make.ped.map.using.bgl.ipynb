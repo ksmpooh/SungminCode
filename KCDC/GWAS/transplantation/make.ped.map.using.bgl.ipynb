{
 "cells": [
  {
   "cell_type": "code",
   "execution_count": 1,
   "metadata": {},
   "outputs": [],
   "source": [
    "######## bgl to plink 하는 파일"
   ]
  },
  {
   "cell_type": "code",
   "execution_count": 36,
   "metadata": {},
   "outputs": [],
   "source": [
    "wdir = \"c:/Users/user/Desktop/KCDC/HLAimputation/Ref/\""
   ]
  },
  {
   "cell_type": "code",
   "execution_count": 43,
   "metadata": {},
   "outputs": [],
   "source": [
    "def newID(df,n):\n",
    "    for i in range(1,n+1):\n",
    "        if i < 10:\n",
    "            a = \"0000\" + str(i)\n",
    "        elif i < 100:\n",
    "            a = \"000\" + str(i)\n",
    "        elif i < 1000:\n",
    "            a = \"00\" + str(i)\n",
    "        elif i < 10000:\n",
    "            a = \"0\" + str(i)\n",
    "        elif i < 100000:\n",
    "            a = str(i)\n",
    "        df.append(\"HAN\" + a)\n",
    "        df.append(\"HAN\" + a)\n",
    "    return df\n",
    "def add_zero(df,n):\n",
    "    for i in range(0,n):\n",
    "        df.append(0)\n",
    "    return df\n",
    "\n",
    "def fileout(df,path):\n",
    "    outfile = open(path,\"w\")\n",
    "    for i in df:\n",
    "        outfile.write(\" \".join(str(s) for s in i) + '\\n')\n",
    "    outfile.close()"
   ]
  },
  {
   "cell_type": "code",
   "execution_count": 50,
   "metadata": {},
   "outputs": [],
   "source": [
    "### add sample imformation to bgl\n",
    "\n",
    "n_samples = 10689\n",
    "p = ['P','pedigree']\n",
    "p = newID(p,n_samples)\n",
    "i = [\"I\",\"id\"]\n",
    "i = newID(i,n_samples)\n",
    "fid = [\"fID\",\"father\"]\n",
    "fid = add_zero(fid,n_samples*2)\n",
    "mid = [\"mID\",\"mather\"]\n",
    "mid = add_zero(mid,n_samples*2)\n",
    "gen = [\"C\",\"gender\"]\n",
    "gen = add_zero(gen,n_samples*2)"
   ]
  },
  {
   "cell_type": "code",
   "execution_count": 51,
   "metadata": {},
   "outputs": [],
   "source": [
    "df = []\n",
    "df.append(p)\n",
    "df.append(i)\n",
    "df.append(fid)\n",
    "df.append(mid)\n",
    "df.append(gen)"
   ]
  },
  {
   "cell_type": "code",
   "execution_count": 52,
   "metadata": {},
   "outputs": [
    {
     "data": {
      "text/plain": [
       "['I', 'id', 'HAN00001', 'HAN00001', 'HAN00002']"
      ]
     },
     "execution_count": 52,
     "metadata": {},
     "output_type": "execute_result"
    }
   ],
   "source": [
    "df[1][0:5]"
   ]
  },
  {
   "cell_type": "code",
   "execution_count": 53,
   "metadata": {},
   "outputs": [],
   "source": [
    "fileout(df,wdir + \"preprocessing.for.bgl.txt\")\n"
   ]
  },
  {
   "cell_type": "code",
   "execution_count": null,
   "metadata": {},
   "outputs": [],
   "source": []
  }
 ],
 "metadata": {
  "kernelspec": {
   "display_name": "Python 3",
   "language": "python",
   "name": "python3"
  },
  "language_info": {
   "codemirror_mode": {
    "name": "ipython",
    "version": 3
   },
   "file_extension": ".py",
   "mimetype": "text/x-python",
   "name": "python",
   "nbconvert_exporter": "python",
   "pygments_lexer": "ipython3",
   "version": "3.6.8"
  }
 },
 "nbformat": 4,
 "nbformat_minor": 2
}
