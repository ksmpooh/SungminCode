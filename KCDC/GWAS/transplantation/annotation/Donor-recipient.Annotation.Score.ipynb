{
 "cells": [
  {
   "cell_type": "code",
   "execution_count": 2,
   "id": "suburban-satellite",
   "metadata": {},
   "outputs": [],
   "source": [
    "# pair table score\n",
    "import os,glob,sys,re"
   ]
  },
  {
   "cell_type": "code",
   "execution_count": 11,
   "id": "rational-grammar",
   "metadata": {},
   "outputs": [],
   "source": [
    "wDir = \"/Users/ksmpooh/Desktop/KCDC/transplantation/02.annotation/allogenomic/score/\"\n"
   ]
  },
  {
   "cell_type": "code",
   "execution_count": 13,
   "id": "clinical-nature",
   "metadata": {},
   "outputs": [],
   "source": [
    "#theme = [\"ALL\",\"HIGH\",\"MODERATE\"]\n",
    "theme = \"HIGH\"\n"
   ]
  },
  {
   "cell_type": "code",
   "execution_count": 51,
   "id": "incredible-adjustment",
   "metadata": {},
   "outputs": [
    {
     "name": "stdout",
     "output_type": "stream",
     "text": [
      "ALL\n",
      "['KBA_ID.y', 'KBA_ID.x', 'X1_739132_A_C_C.x', 'X1_865694_C_T_T.x', 'X1_888659_T_C_T.x']\n",
      "KBA_ID.KD\tKBA_ID.KR\t10_100017453_T_G_T\t10_10001753\n"
     ]
    }
   ],
   "source": [
    "def give_score(a):\n",
    "    #print(a)\n",
    "    if a[0] == a[1]:\n",
    "        return \"\\t2\"\n",
    "    elif abs(int(a[0]) - int(a[1])) == 1:\n",
    "        return \"\\t1\"\n",
    "    else:\n",
    "        return \"\\t0\"\n",
    "\n",
    "    \n",
    "#ref  df\n",
    "    \n",
    "def main2(theme):\n",
    "    #theme = \"ALL\"\n",
    "    refs = open(wDir + theme + \".KCHIPSNPID.txt\",\"r\")\n",
    "    refs = [s.replace(\"\\n\",\"\") for s in refs]\n",
    "    df = open(wDir + \"PairTable/KR.KD.\"+theme+\".recode.txt\",\"r\")\n",
    "    out = open(wDir + \"PairTable/KR.KD.\"+theme+\".recode_dataproScore.txt\",\"w\")\n",
    "    ori_header= df.readline().replace(\"\\n\",\"\").split(\"\\t\")\n",
    "    print(ori_header[0:5])\n",
    "    \n",
    "    new_header = \"KBA_ID.KD\\tKBA_ID.KR\"\n",
    "    \n",
    "    for ref in refs:\n",
    "        a = [x for x in ori_header if ref in x]\n",
    "        new_header = new_header + \"\\t\" + a[0].replace(\"X\",\"\").replace(\".x\",\"\")\n",
    "    new_header = new_header + \"\\n\"\n",
    "    out.write(new_header)\n",
    "    print(new_header[0:50])\n",
    "    \n",
    "    ref_dict = {}\n",
    "    for ref in refs:\n",
    "        a = [x for x in ori_header if ref in x]\n",
    "        ref_dic.setdefault(ref,[ori_header.index(a[0]),ori_header.index(a[1])])\n",
    "    \n",
    "        \n",
    "    #for i in range(1,10):\n",
    "    while 1:\n",
    "        line = df.readline()\n",
    "        if not line:\n",
    "            break\n",
    "        line =line.replace(\"\\n\",\"\").split(\"\\t\")\n",
    "        out.write(\"%s\\t%s\"%(line[0],line[1]))\n",
    "        for ref in refs:\n",
    "            i1,i2 = ref_dic[ref]\n",
    "            out.write(give_score([line[i1],line[i2]]))\n",
    "        out.write(\"\\n\")    \n",
    "\n",
    "def main(theme):\n",
    "    #theme = \"ALL\"\n",
    "    refs = open(wDir + theme + \".KCHIPSNPID.txt\",\"r\")\n",
    "    refs = [s.replace(\"\\n\",\"\") for s in refs]\n",
    "    df = open(wDir + \"PairTable/KR.KD.\"+theme+\".recode.txt\",\"r\")\n",
    "    out = open(wDir + \"PairTable/KR.KD.\"+theme+\".recode_dataproScore.txt\",\"w\")\n",
    "    ori_header= df.readline().replace(\"\\n\",\"\").split(\"\\t\")\n",
    "    print(ori_header[0:5])\n",
    "    \n",
    "    new_header = \"KBA_ID.KD\\tKBA_ID.KR\"\n",
    "    \n",
    "    for ref in refs:\n",
    "        a = [x for x in ori_header if ref in x]\n",
    "        new_header = new_header + \"\\t\" + a[0].replace(\"X\",\"\").replace(\".x\",\"\")\n",
    "    new_header = new_header + \"\\n\"\n",
    "    out.write(new_header)\n",
    "    print(new_header[0:50])\n",
    "    #for i in range(1,10):\n",
    "    while 1:\n",
    "        line = df.readline()\n",
    "        if not line:\n",
    "            break\n",
    "        line =line.replace(\"\\n\",\"\").split(\"\\t\")\n",
    "    #    print(line[0:5])\n",
    "        out.write(\"%s\\t%s\"%(line[0],line[1]))\n",
    "        #for ref in refs[0:5]:\n",
    "        for ref in refs:\n",
    "            a = [x for x in ori_header if ref in x]\n",
    "            #print(a)\n",
    "            out.write(give_score([line[ori_header.index(a[0])],line[ori_header.index(a[1])]]))\n",
    "        out.write(\"\\n\")\n",
    "\n",
    "        \n",
    "#for i in theme:\n",
    "theme = \"ALL\"\n",
    "#theme = \"MODERATE\"\n",
    "#theme = \"HIGH\"\n",
    "print(theme)\n",
    "main2(theme)\n",
    "    "
   ]
  },
  {
   "cell_type": "code",
   "execution_count": 14,
   "id": "supposed-jackson",
   "metadata": {},
   "outputs": [
    {
     "data": {
      "text/plain": [
       "['KBA_ID.y',\n",
       " 'KBA_ID.x',\n",
       " 'X1_998582_G_C_G.x',\n",
       " 'X1_4632528_A_G_G.x',\n",
       " 'X1_5935162_A_T_A.x']"
      ]
     },
     "execution_count": 14,
     "metadata": {},
     "output_type": "execute_result"
    }
   ],
   "source": [
    "ref = open(wDir + theme + \".KCHIPSNPID.txt\",\"r\")\n",
    "ref = [s.replace(\"\\n\",\"\") for s in ref]\n",
    "\n",
    "df = open(wDir + \"PairTable/KR.KD.\"+theme+\".recode.txt\",\"r\")\n",
    "line = df.readline().split(\"\\t\")\n",
    "line[0:5]"
   ]
  },
  {
   "cell_type": "code",
   "execution_count": 35,
   "id": "continuous-governor",
   "metadata": {},
   "outputs": [
    {
     "name": "stdout",
     "output_type": "stream",
     "text": [
      "10_19820222_T_C\n",
      "['X10_19820222_T_C_C.x', 'X10_19820222_T_C_C.y']\n"
     ]
    },
    {
     "data": {
      "text/plain": [
       "38"
      ]
     },
     "execution_count": 35,
     "metadata": {},
     "output_type": "execute_result"
    }
   ],
   "source": [
    "#matchers = ['abc','def']\n",
    "#matching = [s for s in my_list if any(xs in s for xs in matchers)]\n",
    "print(ref[1])\n",
    "#[s for s in line if any(xs in s for xs in ref[1])]\n",
    "a = [x for x in line if ref[1] in x]\n",
    "print(a)\n",
    "line.index(a[0])\n",
    "#line.index(s for s in line if any(xs in s for xs in \"%s\"%ref[1]))"
   ]
  },
  {
   "cell_type": "code",
   "execution_count": 15,
   "id": "beautiful-newcastle",
   "metadata": {},
   "outputs": [
    {
     "data": {
      "text/plain": [
       "['10_102261409_G_C',\n",
       " '10_118387282_A_G',\n",
       " '10_121578998_G_A',\n",
       " '10_124214355_C_T',\n",
       " '10_135273309_G_C']"
      ]
     },
     "execution_count": 15,
     "metadata": {},
     "output_type": "execute_result"
    }
   ],
   "source": [
    "ref[0:5]\n",
    "ref_dic = {}"
   ]
  },
  {
   "cell_type": "code",
   "execution_count": 21,
   "id": "continental-postage",
   "metadata": {},
   "outputs": [
    {
     "data": {
      "text/plain": [
       "{'a': [1, 4], 'b': [2, 3]}"
      ]
     },
     "execution_count": 21,
     "metadata": {},
     "output_type": "execute_result"
    }
   ],
   "source": [
    "ref_dic = {\"a\":[1,4],\"b\":[2,3]}\n",
    "ref_dic"
   ]
  },
  {
   "cell_type": "code",
   "execution_count": 26,
   "id": "embedded-chuck",
   "metadata": {},
   "outputs": [
    {
     "data": {
      "text/plain": [
       "[1, 4]"
      ]
     },
     "execution_count": 26,
     "metadata": {},
     "output_type": "execute_result"
    }
   ],
   "source": [
    "ref_dic.get(\"a\")"
   ]
  },
  {
   "cell_type": "code",
   "execution_count": 30,
   "id": "amino-journalist",
   "metadata": {},
   "outputs": [
    {
     "data": {
      "text/plain": [
       "[1]"
      ]
     },
     "execution_count": 30,
     "metadata": {},
     "output_type": "execute_result"
    }
   ],
   "source": [
    "ref_dic.setdefault(\"c\",[1])"
   ]
  },
  {
   "cell_type": "code",
   "execution_count": 31,
   "id": "blind-router",
   "metadata": {},
   "outputs": [
    {
     "data": {
      "text/plain": [
       "{'a': [1, 4], 'b': [2, 3], 'c': [1]}"
      ]
     },
     "execution_count": 31,
     "metadata": {},
     "output_type": "execute_result"
    }
   ],
   "source": [
    "ref_dic"
   ]
  },
  {
   "cell_type": "code",
   "execution_count": 44,
   "id": "independent-respondent",
   "metadata": {},
   "outputs": [],
   "source": [
    "#ref  df\n",
    "header = line\n",
    "ref_dic = {}\n",
    "a = [x for x in line if ref[1] in x]\n",
    "for i in ref:\n",
    "    a = [x for x in line if i in x]\n",
    "    ref_dic.setdefault(i,[header.index(a[0]),header.index(a[1])])"
   ]
  },
  {
   "cell_type": "code",
   "execution_count": 45,
   "id": "improved-actor",
   "metadata": {},
   "outputs": [
    {
     "data": {
      "text/plain": [
       "[('10_102261409_G_C', [551, 1605]),\n",
       " ('10_118387282_A_G', [552, 1606]),\n",
       " ('10_121578998_G_A', [553, 1607])]"
      ]
     },
     "execution_count": 45,
     "metadata": {},
     "output_type": "execute_result"
    }
   ],
   "source": [
    "list(ref_dic.items())[:3]"
   ]
  },
  {
   "cell_type": "code",
   "execution_count": 46,
   "id": "viral-british",
   "metadata": {},
   "outputs": [],
   "source": [
    "a,b=[1,2]"
   ]
  },
  {
   "cell_type": "code",
   "execution_count": 48,
   "id": "tough-sandwich",
   "metadata": {},
   "outputs": [
    {
     "data": {
      "text/plain": [
       "2"
      ]
     },
     "execution_count": 48,
     "metadata": {},
     "output_type": "execute_result"
    }
   ],
   "source": [
    "a\n",
    "b"
   ]
  },
  {
   "cell_type": "code",
   "execution_count": null,
   "id": "younger-influence",
   "metadata": {},
   "outputs": [],
   "source": []
  }
 ],
 "metadata": {
  "kernelspec": {
   "display_name": "Python 3",
   "language": "python",
   "name": "python3"
  },
  "language_info": {
   "codemirror_mode": {
    "name": "ipython",
    "version": 3
   },
   "file_extension": ".py",
   "mimetype": "text/x-python",
   "name": "python",
   "nbconvert_exporter": "python",
   "pygments_lexer": "ipython3",
   "version": "3.8.5"
  }
 },
 "nbformat": 4,
 "nbformat_minor": 5
}
