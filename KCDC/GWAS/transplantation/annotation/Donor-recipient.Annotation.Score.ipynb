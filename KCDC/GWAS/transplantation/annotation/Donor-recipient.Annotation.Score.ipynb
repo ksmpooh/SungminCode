{
 "cells": [
  {
   "cell_type": "code",
   "execution_count": 13,
   "id": "artistic-avatar",
   "metadata": {},
   "outputs": [],
   "source": [
    "# pair table score\n",
    "import os,glob,sys,re"
   ]
  },
  {
   "cell_type": "code",
   "execution_count": 104,
   "id": "occupied-timeline",
   "metadata": {},
   "outputs": [],
   "source": [
    "wDir = \"/Users/ksmpooh/Desktop/KCDC/transplantation/02.annotation/allogenomic/score/\"\n"
   ]
  },
  {
   "cell_type": "code",
   "execution_count": 105,
   "id": "raised-genre",
   "metadata": {},
   "outputs": [],
   "source": [
    "theme = [\"ALL\",\"HIGH\",\"MODERATE\"]\n",
    "#theme = \"ALL\"\n"
   ]
  },
  {
   "cell_type": "code",
   "execution_count": null,
   "id": "banned-audio",
   "metadata": {},
   "outputs": [
    {
     "name": "stdout",
     "output_type": "stream",
     "text": [
      "ALL\n",
      "['KBA_ID.y', 'KBA_ID.x', 'X1_26644537_C_A_A.x', 'X1_45800146_C_T_T.x', 'X1_47280859_G_A_A.x']\n",
      "KBA_ID.KD\tKBA_ID.KR\t10_13542069_T_A_A\t10_19820222_\n",
      "HIGH\n",
      "['KBA_ID.y', 'KBA_ID.x', 'X1_998582_G_C_G.x', 'X1_4632528_A_G_G.x', 'X1_5935162_A_T_A.x']\n",
      "KBA_ID.KD\tKBA_ID.KR\t10_102261409_G_C_C\t10_11838728\n",
      "MODERATE\n",
      "['KBA_ID.y', 'KBA_ID.x', 'X1_739132_A_C_C.x', 'X1_865694_C_T_T.x', 'X1_888659_T_C_T.x']\n",
      "KBA_ID.KD\tKBA_ID.KR\t10_100017453_T_G_T\t10_10001753\n"
     ]
    }
   ],
   "source": [
    "def give_score(a):\n",
    "    #print(a)\n",
    "    if a.count(\"0\") > 0:\n",
    "        return \"\\t0\"\n",
    "    elif a.count(\"1\") > 0:\n",
    "        return \"\\t1\"\n",
    "    else:\n",
    "        return \"\\t2\"\n",
    "        \n",
    "\n",
    "def main(theme):\n",
    "    #theme = \"ALL\"\n",
    "    refs = open(wDir + theme + \".KCHIPSNPID.txt\",\"r\")\n",
    "    refs = [s.replace(\"\\n\",\"\") for s in refs]\n",
    "    #print(ref[1:5])\n",
    "    df = open(wDir + \"PairTable/KR.KD.\"+theme+\".recode.txt\",\"r\")\n",
    "    out = open(wDir + \"PairTable/KR.KD.\"+theme+\".recode_dataproScore.txt\",\"w\")\n",
    "    \n",
    "    #print(new_header[0:50])    \n",
    "    #print(refs[0:5])\n",
    "    ori_header= df.readline().replace(\"\\n\",\"\").split(\"\\t\")\n",
    "    print(ori_header[0:5])\n",
    "    \n",
    "    new_header = \"KBA_ID.KD\\tKBA_ID.KR\"\n",
    "    \n",
    "    for ref in refs:\n",
    "        a = [x for x in ori_header if ref in x]\n",
    "        new_header = new_header + \"\\t\" + a[0].replace(\"X\",\"\").replace(\".x\",\"\")\n",
    "        #new_header = new_header + \"\\t\" + a[0].replace(\".x\",\"\")[1:]\n",
    "    new_header = new_header + \"\\n\"\n",
    "    out.write(new_header)\n",
    "    print(new_header[0:50])\n",
    "    #for i in range(1,10):\n",
    "    while 1:\n",
    "        line = df.readline()\n",
    "        if not line:\n",
    "            break\n",
    "        line =line.replace(\"\\n\",\"\").split(\"\\t\")\n",
    "    #    print(line[0:5])\n",
    "        out.write(\"%s\\t%s\"%(line[0],line[1]))\n",
    "        #for ref in refs[0:5]:\n",
    "        for ref in refs:\n",
    "            a = [x for x in ori_header if ref in x]\n",
    "            #print(a)\n",
    "            out.write(give_score([line[ori_header.index(a[0])],line[ori_header.index(a[1])]]))\n",
    "        out.write(\"\\n\")\n",
    "\n",
    "        \n",
    "for i in theme:\n",
    "    print(i)\n",
    "    main(i)\n",
    "    "
   ]
  },
  {
   "cell_type": "code",
   "execution_count": 10,
   "id": "handled-brake",
   "metadata": {},
   "outputs": [
    {
     "data": {
      "text/plain": [
       "['KBA_ID.y',\n",
       " 'KBA_ID.x',\n",
       " 'X1_26644537_C_A_A.x',\n",
       " 'X1_45800146_C_T_T.x',\n",
       " 'X1_47280859_G_A_A.x']"
      ]
     },
     "execution_count": 10,
     "metadata": {},
     "output_type": "execute_result"
    }
   ],
   "source": [
    "ref = open(wDir + theme + \".KCHIPSNPID.txt\",\"r\")\n",
    "ref = [s.replace(\"\\n\",\"\") for s in ref]\n",
    "\n",
    "df = open(wDir + \"PairTable/KR.KD.\"+theme+\".recode.txt\",\"r\")\n",
    "line = df.readline().split(\"\\t\")\n",
    "line[0:5]"
   ]
  },
  {
   "cell_type": "code",
   "execution_count": 35,
   "id": "pregnant-cleaning",
   "metadata": {},
   "outputs": [
    {
     "name": "stdout",
     "output_type": "stream",
     "text": [
      "10_19820222_T_C\n",
      "['X10_19820222_T_C_C.x', 'X10_19820222_T_C_C.y']\n"
     ]
    },
    {
     "data": {
      "text/plain": [
       "38"
      ]
     },
     "execution_count": 35,
     "metadata": {},
     "output_type": "execute_result"
    }
   ],
   "source": [
    "#matchers = ['abc','def']\n",
    "#matching = [s for s in my_list if any(xs in s for xs in matchers)]\n",
    "print(ref[1])\n",
    "#[s for s in line if any(xs in s for xs in ref[1])]\n",
    "a = [x for x in line if ref[1] in x]\n",
    "print(a)\n",
    "line.index(a[0])\n",
    "#line.index(s for s in line if any(xs in s for xs in \"%s\"%ref[1]))"
   ]
  },
  {
   "cell_type": "code",
   "execution_count": 36,
   "id": "atmospheric-active",
   "metadata": {},
   "outputs": [
    {
     "data": {
      "text/plain": [
       "['X10_19820222_T_C_C.x', 'X10_19820222_T_C_C.y']"
      ]
     },
     "execution_count": 36,
     "metadata": {},
     "output_type": "execute_result"
    }
   ],
   "source": [
    "a"
   ]
  },
  {
   "cell_type": "code",
   "execution_count": 37,
   "id": "friendly-catalyst",
   "metadata": {},
   "outputs": [
    {
     "data": {
      "text/plain": [
       "3"
      ]
     },
     "execution_count": 37,
     "metadata": {},
     "output_type": "execute_result"
    }
   ],
   "source": [
    "b = [\"1\",\"1\",\"3\",\"1\",\"5\"]\n",
    "b.count(\"1\")\n"
   ]
  },
  {
   "cell_type": "code",
   "execution_count": 47,
   "id": "incident-skill",
   "metadata": {},
   "outputs": [
    {
     "ename": "NameError",
     "evalue": "name 'refs' is not defined",
     "output_type": "error",
     "traceback": [
      "\u001b[0;31m---------------------------------------------------------------------------\u001b[0m",
      "\u001b[0;31mNameError\u001b[0m                                 Traceback (most recent call last)",
      "\u001b[0;32m<ipython-input-47-db9a89a438f1>\u001b[0m in \u001b[0;36m<module>\u001b[0;34m\u001b[0m\n\u001b[0;32m----> 1\u001b[0;31m \u001b[0mprint\u001b[0m\u001b[0;34m(\u001b[0m\u001b[0mrefs\u001b[0m\u001b[0;34m[\u001b[0m\u001b[0;36m0\u001b[0m\u001b[0;34m:\u001b[0m\u001b[0;36m5\u001b[0m\u001b[0;34m]\u001b[0m\u001b[0;34m)\u001b[0m\u001b[0;34m\u001b[0m\u001b[0;34m\u001b[0m\u001b[0m\n\u001b[0m",
      "\u001b[0;31mNameError\u001b[0m: name 'refs' is not defined"
     ]
    }
   ],
   "source": []
  },
  {
   "cell_type": "code",
   "execution_count": null,
   "id": "powerful-importance",
   "metadata": {},
   "outputs": [],
   "source": []
  }
 ],
 "metadata": {
  "kernelspec": {
   "display_name": "Python 3",
   "language": "python",
   "name": "python3"
  },
  "language_info": {
   "codemirror_mode": {
    "name": "ipython",
    "version": 3
   },
   "file_extension": ".py",
   "mimetype": "text/x-python",
   "name": "python",
   "nbconvert_exporter": "python",
   "pygments_lexer": "ipython3",
   "version": "3.8.5"
  }
 },
 "nbformat": 4,
 "nbformat_minor": 5
}
