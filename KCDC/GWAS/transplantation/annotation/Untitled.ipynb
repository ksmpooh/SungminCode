{
 "cells": [
  {
   "cell_type": "code",
   "execution_count": 1,
   "id": "veterinary-bulgaria",
   "metadata": {},
   "outputs": [],
   "source": [
    "## snpEFF 결과 정리"
   ]
  },
  {
   "cell_type": "code",
   "execution_count": 2,
   "id": "urban-merchant",
   "metadata": {},
   "outputs": [],
   "source": [
    "import os,glob,sys"
   ]
  },
  {
   "cell_type": "code",
   "execution_count": null,
   "id": "abstract-cooking",
   "metadata": {},
   "outputs": [],
   "source": [
    "one = \"# Change rate by chromosome\"\n",
    "two =  \"# Variantss by type\n",
    "three = \"# Effects by impact\"\n",
    "four = \"# Effects by functional class\"\n",
    "five = \"# Count by effects\"\n",
    "six"
   ]
  }
 ],
 "metadata": {
  "kernelspec": {
   "display_name": "Python 3",
   "language": "python",
   "name": "python3"
  },
  "language_info": {
   "codemirror_mode": {
    "name": "ipython",
    "version": 3
   },
   "file_extension": ".py",
   "mimetype": "text/x-python",
   "name": "python",
   "nbconvert_exporter": "python",
   "pygments_lexer": "ipython3",
   "version": "3.8.5"
  }
 },
 "nbformat": 4,
 "nbformat_minor": 5
}
