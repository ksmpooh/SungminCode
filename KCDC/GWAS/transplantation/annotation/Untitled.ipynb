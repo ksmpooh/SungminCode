{
 "cells": [
  {
   "cell_type": "code",
   "execution_count": 1,
   "metadata": {},
   "outputs": [],
   "source": [
    "## snpEFF 결과 정리"
   ]
  },
  {
   "cell_type": "code",
   "execution_count": 2,
   "metadata": {},
   "outputs": [],
   "source": []
  },
  {
   "cell_type": "code",
   "execution_count": 1,
   "metadata": {},
   "outputs": [],
   "source": [
    "a = ['@HD\\tVN:1.5\\tSO:unknown\\tpb:3.0.1\\n', '@RG\\tID:6bbea546/0--0\\tPL:PACBIO\\tDS:READTYPE=CCS;BINDINGKIT=101-789-500;SEQUENCINGKIT=101-826-100;BASECALLERVERSION=5.0.0;FRAMERATEHZ=100.000000;BarcodeFile=/denovo/workspace.bsy/bin/bin/sequel_report/Sequel_96_barcodes_v1.fasta;BarcodeHash=c7bb8c22c94e0982d3f06eb7665823d5;BarcodeCount=96;BarcodeMode=Symmetric;BarcodeQuality=Score\\tLB:HLA_Pac_set3\\tPU:m64224e_211223_091137\\tSM:test123\\tPM:SEQUELII\\tBC:CACATATCAGAGTGCG\\tCM:S/P4-C2/5.0-8M\\n', '@PG\\tID:ccs-6.2.0\\tPN:ccs\\tVN:6.2.0\\tDS:Generate circular consensus sequences (ccs) from subreads.\\tCL:ccs ccs -j 32 m64224e_211223_091137.subreads.bam m64224e_211223_091137.ccs.bam\\n', '@PG\\tID:lima\\tVN:1.11.0 (commit v1.11.0)\\tCL:lima m64224e_211223_091137.ccs.bam /denovo/workspace.bsy/bin/bin/sequel_report/Sequel_96_barcodes_v1.fasta Samples.bam --split-bam-named --peek-guess --same --dump-removed --min-score 0 --num-threads 32\\n']\n"
   ]
  },
  {
   "cell_type": "code",
   "execution_count": 3,
   "metadata": {},
   "outputs": [
    {
     "data": {
      "text/plain": [
       "['@RG',\n",
       " 'ID:6bbea546/0--0',\n",
       " 'PL:PACBIO',\n",
       " 'DS:READTYPE=CCS;BINDINGKIT=101-789-500;SEQUENCINGKIT=101-826-100;BASECALLERVERSION=5.0.0;FRAMERATEHZ=100.000000;BarcodeFile=/denovo/workspace.bsy/bin/bin/sequel_report/Sequel_96_barcodes_v1.fasta;BarcodeHash=c7bb8c22c94e0982d3f06eb7665823d5;BarcodeCount=96;BarcodeMode=Symmetric;BarcodeQuality=Score',\n",
       " 'LB:HLA_Pac_set3',\n",
       " 'PU:m64224e_211223_091137',\n",
       " 'SM:test123',\n",
       " 'PM:SEQUELII',\n",
       " 'BC:CACATATCAGAGTGCG',\n",
       " 'CM:S/P4-C2/5.0-8M\\n']"
      ]
     },
     "execution_count": 3,
     "metadata": {},
     "output_type": "execute_result"
    }
   ],
   "source": [
    "tmp = a[1].split(\"\\t\")\n",
    "tmp"
   ]
  },
  {
   "cell_type": "code",
   "execution_count": 7,
   "metadata": {},
   "outputs": [
    {
     "name": "stdout",
     "output_type": "stream",
     "text": [
      "SM:test123\n"
     ]
    }
   ],
   "source": [
    "for i in tmp:\n",
    "    if \"SM:\" in i:\n",
    "        print(i)"
   ]
  },
  {
   "cell_type": "code",
   "execution_count": 9,
   "metadata": {},
   "outputs": [
    {
     "data": {
      "text/plain": [
       "False"
      ]
     },
     "execution_count": 9,
     "metadata": {},
     "output_type": "execute_result"
    }
   ],
   "source": [
    "\"SM:\" in tmp"
   ]
  },
  {
   "cell_type": "code",
   "execution_count": 12,
   "metadata": {},
   "outputs": [],
   "source": [
    "a = {\"king\":1,\"queen\":2}"
   ]
  },
  {
   "cell_type": "code",
   "execution_count": 13,
   "metadata": {},
   "outputs": [
    {
     "data": {
      "text/plain": [
       "1"
      ]
     },
     "execution_count": 13,
     "metadata": {},
     "output_type": "execute_result"
    }
   ],
   "source": [
    "a[\"king\"]"
   ]
  },
  {
   "cell_type": "code",
   "execution_count": 14,
   "metadata": {},
   "outputs": [
    {
     "data": {
      "text/plain": [
       "2"
      ]
     },
     "execution_count": 14,
     "metadata": {},
     "output_type": "execute_result"
    }
   ],
   "source": [
    "a[\"queen\"]"
   ]
  },
  {
   "cell_type": "code",
   "execution_count": null,
   "metadata": {},
   "outputs": [],
   "source": []
  }
 ],
 "metadata": {
  "kernelspec": {
   "display_name": "Python 3",
   "language": "python",
   "name": "python3"
  },
  "language_info": {
   "codemirror_mode": {
    "name": "ipython",
    "version": 3
   },
   "file_extension": ".py",
   "mimetype": "text/x-python",
   "name": "python",
   "nbconvert_exporter": "python",
   "pygments_lexer": "ipython3",
   "version": "3.8.5"
  }
 },
 "nbformat": 4,
 "nbformat_minor": 5
}
