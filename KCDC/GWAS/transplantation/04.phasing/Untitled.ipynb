{
 "cells": [
  {
   "cell_type": "code",
   "execution_count": 1,
   "metadata": {},
   "outputs": [],
   "source": [
    "## sample split\n"
   ]
  },
  {
   "cell_type": "code",
   "execution_count": 6,
   "metadata": {},
   "outputs": [],
   "source": [
    "import os, glob"
   ]
  },
  {
   "cell_type": "code",
   "execution_count": 17,
   "metadata": {},
   "outputs": [],
   "source": [
    "##example .fam\n",
    "fam = \"c:/Users/user/Desktop/KCDC/Gastric/plink/KNIH.RAW.Gastric.2nd_rmSNP_rmSample_rmaffy_rmdup_fil_convert_indel_intersect.fam\"\n",
    "\n",
    "windsowSize = 5000"
   ]
  },
  {
   "cell_type": "code",
   "execution_count": 23,
   "metadata": {},
   "outputs": [],
   "source": [
    "def fileRead(filein):\n",
    "    a = open(filein, 'r')\n",
    "    #out = [b.replace(\"\\n\",\"\").split(\" \") for b in a]\n",
    "    out = [b.replace(\"\\n\",\"\").split(\" \") for b in a]\n",
    "    return out"
   ]
  },
  {
   "cell_type": "code",
   "execution_count": 28,
   "metadata": {},
   "outputs": [
    {
     "data": {
      "text/plain": [
       "['200201100601',\n",
       " '200401102616',\n",
       " '200501100015',\n",
       " '200501100016',\n",
       " '200501100059']"
      ]
     },
     "execution_count": 28,
     "metadata": {},
     "output_type": "execute_result"
    }
   ],
   "source": [
    "df = fileRead(fam)\n",
    "sampleID = [b[0] for b in df]\n",
    "sampleID[0:5]"
   ]
  },
  {
   "cell_type": "code",
   "execution_count": null,
   "metadata": {},
   "outputs": [],
   "source": [
    "df = open()"
   ]
  },
  {
   "cell_type": "code",
   "execution_count": 13,
   "metadata": {},
   "outputs": [
    {
     "name": "stdout",
     "output_type": "stream",
     "text": [
      "<_io.TextIOWrapper name='c:/Users/user/Desktop/KCDC/Gastric/plink/KNIH.RAW.Gastric.2nd_rmSNP_rmSample_rmaffy_rmdup_fil_convert_indel_intersect.fam' mode='r' encoding='cp949'>\n"
     ]
    }
   ],
   "source": [
    "for i in range(0,length(sampleID)):\n",
    "    front = i + 1\n",
    "    tail = i + 5000\n",
    "    if tail > length(sampleID):\n",
    "        tail = length(sampleID)\n",
    "    outpath = \"%s/%s_%s.sampleID\"%(outDir,front,tail)\n",
    "    with open(outpath,'w') as out:\n",
    "        out.write(\"\")"
   ]
  },
  {
   "cell_type": "code",
   "execution_count": null,
   "metadata": {},
   "outputs": [],
   "source": [
    "def main():\n",
    "    fam = argv[1]\n",
    "    outDir = argv[2]\n",
    "    \n",
    "    df = fileRead(fam)\n",
    "    "
   ]
  },
  {
   "cell_type": "code",
   "execution_count": null,
   "metadata": {},
   "outputs": [],
   "source": []
  }
 ],
 "metadata": {
  "kernelspec": {
   "display_name": "Python 3",
   "language": "python",
   "name": "python3"
  },
  "language_info": {
   "codemirror_mode": {
    "name": "ipython",
    "version": 3
   },
   "file_extension": ".py",
   "mimetype": "text/x-python",
   "name": "python",
   "nbconvert_exporter": "python",
   "pygments_lexer": "ipython3",
   "version": "3.6.8"
  }
 },
 "nbformat": 4,
 "nbformat_minor": 2
}
