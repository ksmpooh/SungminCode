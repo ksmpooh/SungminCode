{
 "cells": [
  {
   "cell_type": "code",
   "execution_count": 1,
   "metadata": {},
   "outputs": [],
   "source": [
    "## sample split\n"
   ]
  },
  {
   "cell_type": "code",
   "execution_count": 6,
   "metadata": {},
   "outputs": [],
   "source": [
    "import os, glob"
   ]
  },
  {
   "cell_type": "code",
   "execution_count": 17,
   "metadata": {},
   "outputs": [],
   "source": [
    "##example .fam\n",
    "fam = \"c:/Users/user/Desktop/KCDC/Gastric/plink/KNIH.RAW.Gastric.2nd_rmSNP_rmSample_rmaffy_rmdup_fil_convert_indel_intersect.fam\"\n",
    "\n",
    "windsowSize = 5000"
   ]
  },
  {
   "cell_type": "code",
   "execution_count": 23,
   "metadata": {},
   "outputs": [],
   "source": [
    "def fileRead(filein):\n",
    "    a = open(filein, 'r')\n",
    "    #out = [b.replace(\"\\n\",\"\").split(\" \") for b in a]\n",
    "    out = [b.replace(\"\\n\",\"\").split(\" \") for b in a]\n",
    "    return out"
   ]
  },
  {
   "cell_type": "code",
   "execution_count": 28,
   "metadata": {},
   "outputs": [
    {
     "data": {
      "text/plain": [
       "['200201100601',\n",
       " '200401102616',\n",
       " '200501100015',\n",
       " '200501100016',\n",
       " '200501100059']"
      ]
     },
     "execution_count": 28,
     "metadata": {},
     "output_type": "execute_result"
    }
   ],
   "source": [
    "df = fileRead(fam)\n",
    "sampleID = [b[0] for b in df]\n",
    "sampleID[0:5]"
   ]
  },
  {
   "cell_type": "code",
   "execution_count": null,
   "metadata": {},
   "outputs": [],
   "source": [
    "df = open()"
   ]
  },
  {
   "cell_type": "code",
   "execution_count": 13,
   "metadata": {},
   "outputs": [
    {
     "name": "stdout",
     "output_type": "stream",
     "text": [
      "<_io.TextIOWrapper name='c:/Users/user/Desktop/KCDC/Gastric/plink/KNIH.RAW.Gastric.2nd_rmSNP_rmSample_rmaffy_rmdup_fil_convert_indel_intersect.fam' mode='r' encoding='cp949'>\n"
     ]
    }
   ],
   "source": [
    "for i in range(0,length(sampleID)):\n",
    "    front = i + 1\n",
    "    tail = i + 5000\n",
    "    if tail > length(sampleID):\n",
    "        tail = length(sampleID)\n",
    "    outpath = \"%s/%s_%s.sampleID\"%(outDir,front,tail)\n",
    "    with open(outpath,'w') as out:\n",
    "        out.write(\"\")"
   ]
  },
  {
   "cell_type": "code",
   "execution_count": null,
   "metadata": {},
   "outputs": [],
   "source": [
    "def main():\n",
    "    fam = argv[1]\n",
    "    outDir = argv[2]\n",
    "    \n",
    "    df = fileRead(fam)\n",
    "    "
   ]
  },
  {
   "cell_type": "code",
   "execution_count": 3,
   "metadata": {},
   "outputs": [],
   "source": [
    "def filein(datain):\n",
    "    a = open(datain,'r')\n",
    "    return [s.replace(\"\\n\",\"\") for s in a]\n",
    "def fileout(datain,path):\n",
    "    a = open(path,\"w\")\n",
    "    for i in datain:\n",
    "        a.write('\\t'.join(str(s) for s in i)+'\\n')\n",
    "    a.close()\n",
    "    return a\n",
    "\n",
    "def match_process(ori):\n",
    "    df = ori\n",
    "    for i in [\"match\",\"wrong\",\"empty\"]:\n",
    "        df[0].append(i) \n",
    "    for index,i in enumerate(df[1:]):\n",
    "        match = 0\n",
    "        wrong = 0\n",
    "        empty = 0\n",
    "        xxx = i[1:2+1]\n",
    "        yyy = i[3:4+1]\n",
    "        if (xxx.count(\"NA\") == 1) | (yyy.count(\"NA\") == 1):\n",
    "            empty = 1\n",
    "        elif (xxx.count(\"NA\") == 2) | (yyy.count(\"NA\") ==2):\n",
    "            empty = 2 \n",
    "        life = empty\n",
    "        for a in xxx:\n",
    "            if match + wrong + empty == 2:\n",
    "                break\n",
    "            if a in yyy:\n",
    "                match = match + 1\n",
    "                yyy.remove(a)\n",
    "            elif (a not in yj) & (life == 0):\n",
    "                wrong = wrong +  1\n",
    "            elif (a not in yyy) & (life == 1):\n",
    "                life = life -  1\n",
    "        df[index+1].append(match)\n",
    "        df[index+1].append(wrong)\n",
    "        df[index+1].append(empty)\n",
    "    return df\n",
    "            \n",
    "\n",
    "def filein(datain):\n",
    "    a = open(datain,'r')\n",
    "    return [s.replace(\"\\n\",\"\") for s in a]\n",
    "\n",
    "def fileout(datain,path):\n",
    "    a = open(path,\"w\")\n",
    "    for i in datain:\n",
    "        a.write('\\t'.join(str(s) for s in i)+'\\n')\n",
    "    a.close()\n",
    "    return a\n",
    "\n",
    "def final_processing(datain,dataout):\n",
    "    df = filein(datain)\n",
    "    df = [s.split(\"\\t\") for s in df]\n",
    "    df = match_process(df)\n",
    "    fileout(df,dataout)"
   ]
  },
  {
   "cell_type": "code",
   "execution_count": 4,
   "metadata": {},
   "outputs": [
    {
     "ename": "NameError",
     "evalue": "name 'wdir' is not defined",
     "output_type": "error",
     "traceback": [
      "\u001b[1;31m---------------------------------------------------------------------------\u001b[0m",
      "\u001b[1;31mNameError\u001b[0m                                 Traceback (most recent call last)",
      "\u001b[1;32m<ipython-input-4-b7bd74162eef>\u001b[0m in \u001b[0;36m<module>\u001b[1;34m\u001b[0m\n\u001b[0;32m      1\u001b[0m \u001b[1;31m####ngs vs sm\u001b[0m\u001b[1;33m\u001b[0m\u001b[1;33m\u001b[0m\u001b[1;33m\u001b[0m\u001b[0m\n\u001b[0;32m      2\u001b[0m \u001b[1;32mfor\u001b[0m \u001b[0mi\u001b[0m \u001b[1;32min\u001b[0m \u001b[1;33m[\u001b[0m\u001b[1;34m\"DRB\"\u001b[0m\u001b[1;33m,\u001b[0m\u001b[1;34m\"A\"\u001b[0m\u001b[1;33m,\u001b[0m\u001b[1;34m\"B\"\u001b[0m\u001b[1;33m]\u001b[0m\u001b[1;33m:\u001b[0m\u001b[1;33m\u001b[0m\u001b[1;33m\u001b[0m\u001b[0m\n\u001b[1;32m----> 3\u001b[1;33m     \u001b[0mfinal_processing\u001b[0m\u001b[1;33m(\u001b[0m\u001b[0mwdir\u001b[0m \u001b[1;33m+\u001b[0m \u001b[1;34m\"HLA_imputation_result_%s_allele.2digit.txt\"\u001b[0m\u001b[1;33m%\u001b[0m\u001b[0mi\u001b[0m \u001b[1;33m,\u001b[0m\u001b[0mwdir\u001b[0m \u001b[1;33m+\u001b[0m \u001b[1;34m\"HLA_imputation_result_campare_HLAtyping_%s_allele.2digit.txt\"\u001b[0m\u001b[1;33m%\u001b[0m\u001b[0mi\u001b[0m\u001b[1;33m)\u001b[0m\u001b[1;33m\u001b[0m\u001b[1;33m\u001b[0m\u001b[0m\n\u001b[0m\u001b[0;32m      4\u001b[0m \u001b[1;33m\u001b[0m\u001b[0m\n\u001b[0;32m      5\u001b[0m \u001b[1;33m\u001b[0m\u001b[0m\n",
      "\u001b[1;31mNameError\u001b[0m: name 'wdir' is not defined"
     ]
    }
   ],
   "source": [
    "####ngs vs sm 2digit\n",
    "for i in [\"DRB\",\"A\",\"B\"]:\n",
    "    final_processing(wdir + \"HLA_imputation_result_%s_allele.2digit.txt\"%i ,wdir + \"HLA_imputation_result_campare_HLAtyping_%s_allele.2digit.txt\"%i)\n",
    "\n",
    "####ngs vs sm 4digit\n",
    "for i in [\"DRB\",\"A\",\"B\"]:\n",
    "    final_processing(wdir + \"HLA_imputation_result_%s_allele.4digit.txt\"%i ,wdir + \"HLA_imputation_result_campare_HLAtyping_%s_allele.4digit.txt\"%i)\n"
   ]
  },
  {
   "cell_type": "code",
   "execution_count": null,
   "metadata": {},
   "outputs": [],
   "source": []
  }
 ],
 "metadata": {
  "kernelspec": {
   "display_name": "Python 3",
   "language": "python",
   "name": "python3"
  },
  "language_info": {
   "codemirror_mode": {
    "name": "ipython",
    "version": 3
   },
   "file_extension": ".py",
   "mimetype": "text/x-python",
   "name": "python",
   "nbconvert_exporter": "python",
   "pygments_lexer": "ipython3",
   "version": "3.6.8"
  }
 },
 "nbformat": 4,
 "nbformat_minor": 2
}
