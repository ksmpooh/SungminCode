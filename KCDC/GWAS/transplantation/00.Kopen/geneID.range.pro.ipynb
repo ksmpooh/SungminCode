{
 "cells": [
  {
   "cell_type": "code",
   "execution_count": 2,
   "metadata": {},
   "outputs": [],
   "source": [
    "### data gene 정리\n",
    "import os,sys\n"
   ]
  },
  {
   "cell_type": "code",
   "execution_count": 16,
   "metadata": {},
   "outputs": [
    {
     "name": "stdin",
     "output_type": "stream",
     "text": [
      " /Users/ksmpooh/Desktop/KCDC/transplantation/01.open/20220404/genelist.ref.txt\n"
     ]
    }
   ],
   "source": [
    "#wDir = \"/Users/ksmpooh/Desktop/KCDC/transplantation/01.open/20220125/\"\n",
    "wDir = \"/Users/ksmpooh/Desktop/KCDC/transplantation/01.open/20220404/\"\n",
    "#indata = wDir + \"geneID.withinfo.forESRD.txt\"\n",
    "#outdata = wDir + \"geneID.withinfo.forESRD_info.txt\"\n",
    "#/Users/ksmpooh/Desktop/KCDC/transplantation/01.open/20220404/genelist.ref.txt\n",
    "\n",
    "indata = input()\n",
    "outdata = indata.replace(\".txt\",\"_info.txt\")"
   ]
  },
  {
   "cell_type": "code",
   "execution_count": 17,
   "metadata": {},
   "outputs": [
    {
     "name": "stdout",
     "output_type": "stream",
     "text": [
      "<_io.TextIOWrapper name='/Users/ksmpooh/Desktop/KCDC/transplantation/01.open/20220404/genelist.ref_info.txt' mode='w' encoding='UTF-8'>\n"
     ]
    }
   ],
   "source": [
    "def main():\n",
    "    df = open(indata,\"r\")\n",
    "    out = open(outdata,\"w\")\n",
    "    print(out)\n",
    "    tmp_chrom = \"\"\n",
    "    tmp_gene = \"\"\n",
    "    tmp_range = []\n",
    "    \n",
    "    while True:\n",
    "        line = df.readline().replace(\"\\n\",\"\")\n",
    "        if not line:\n",
    "            break\n",
    "        line_split = line.split()\n",
    "        chrom = line_split[0]\n",
    "        start = line_split[1]\n",
    "        end = line_split[2]\n",
    "        gene = line_split[12]\n",
    "        if tmp_gene != gene:\n",
    "            if tmp_gene == \"\":\n",
    "                out.write(\"gene chrom start end\\n\")\n",
    "                #print(tmp_gene)\n",
    "            else:\n",
    "                out.write(\"%s %s %s %s\\n\"%(tmp_gene,tmp_chrom,tmp_range[0],tmp_range[1]))\n",
    "                #print(1)\n",
    "            tmp_gene = gene\n",
    "            tmp_chrom = chrom\n",
    "            tmp_range=[start,end]\n",
    "        else:\n",
    "            if start < tmp_range[0]:\n",
    "                tmp_range[0] = start\n",
    "            if end > tmp_range[1]:\n",
    "                tmp_range[1] = end\n",
    "        #print(line_split[12])\n",
    "        #print(tmp_range)\n",
    "        #print(tmp_gene)\n",
    "    \n",
    "    out.close()\n",
    "\n",
    "main()\n",
    "        \n",
    "        \n",
    "        \n",
    "        \n",
    "    "
   ]
  },
  {
   "cell_type": "code",
   "execution_count": 18,
   "metadata": {},
   "outputs": [],
   "source": [
    "wDir = \"/Users/ksmpooh/Desktop/KCDC/transplantation/01.open/20220125/\"\n",
    "#indata = wDir + \"geneID.withinfo.forESRD.txt\"\n",
    "indata = wDir + \"geneID.withinfo.forESRD_info.txt\"\n",
    "refdata = wDir + \"merge_rmking_rmfrq_rmMissingtest_rmethnic_rmScreeningFailure.bim\"\n",
    "#outdata = wDir + \"geneID.withinfo.forESRD_snp.inbim.txt\"\n",
    "\n",
    "indata = outdata\n",
    "outdata = indata.replace(\".txt\",\"_snp.inbim.txt\")\n",
    "outdata2 = indata.replace(\".txt\",\"_snp.inbim_onlySNPID.txt\")"
   ]
  },
  {
   "cell_type": "code",
   "execution_count": 19,
   "metadata": {},
   "outputs": [],
   "source": [
    "def main():\n",
    "    df = open(indata,'r')\n",
    "#    ref = open(refdata,'r')\n",
    "    out = open(outdata,'w')\n",
    "    out2 = open(outdata2,\"w\")\n",
    "    header = df.readline()\n",
    "    out.write(\"gene chrom start end ID pos a1 a2\\n\")\n",
    "    while 1:\n",
    "        line = df.readline().replace(\"\\n\",\"\")\n",
    "        if not line:\n",
    "            break\n",
    "        gene,chrom,start,end = line.split()\n",
    "        \n",
    "        ref = open(refdata,'r')\n",
    "        while 1:\n",
    "            ref_line = ref.readline().replace(\"\\n\",\"\")\n",
    "            if not ref_line:\n",
    "                break\n",
    "            #print(ref_line)\n",
    "            ref_chrom,ref_ID,ref_zero,ref_pos,ref_a1,ref_a2 = ref_line.split()\n",
    "            ref_chrom = \"chr\" + ref_chrom\n",
    "            if ref_chrom == chrom:\n",
    "                if int(ref_pos) >= int(start) and int(ref_pos) <= int(end):\n",
    "                    out.write(\"%s %s %s %s %s\\n\"%(line,ref_ID,ref_pos,ref_a1,ref_a2))\n",
    "                    out2.write(\"%s\\n\"%ref_ID)\n",
    "\n",
    "                else:\n",
    "                    continue\n",
    "\n",
    "    out.close()\n",
    "    out2.close()\n",
    "    \n",
    "main()"
   ]
  },
  {
   "cell_type": "code",
   "execution_count": null,
   "metadata": {},
   "outputs": [],
   "source": []
  }
 ],
 "metadata": {
  "kernelspec": {
   "display_name": "Python 3",
   "language": "python",
   "name": "python3"
  },
  "language_info": {
   "codemirror_mode": {
    "name": "ipython",
    "version": 3
   },
   "file_extension": ".py",
   "mimetype": "text/x-python",
   "name": "python",
   "nbconvert_exporter": "python",
   "pygments_lexer": "ipython3",
   "version": "3.8.5-final"
  }
 },
 "nbformat": 4,
 "nbformat_minor": 5
}