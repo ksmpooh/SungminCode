{
 "cells": [
  {
   "cell_type": "code",
   "execution_count": 1,
   "metadata": {},
   "outputs": [],
   "source": [
    "##### convert CSV 20220308 : 양재석교수님"
   ]
  },
  {
   "cell_type": "code",
   "execution_count": 2,
   "metadata": {},
   "outputs": [],
   "source": [
    "import os,sys,glob"
   ]
  },
  {
   "cell_type": "code",
   "execution_count": 7,
   "metadata": {},
   "outputs": [
    {
     "name": "stdin",
     "output_type": "stream",
     "text": [
      " /Users/ksmpooh/Desktop/KCDC/transplantation/01.open/20220404/s3a/ESRD.QCed_onlyKR_s3a_updateID_raw\n"
     ]
    }
   ],
   "source": [
    "#theme = \"s1\"\n",
    "#theme = \"s2\"\n",
    "#wdir = \"/Users/ksmpooh/Desktop/KCDC/transplantation/01.open/20220125/\"+theme + \"/\"\n",
    "#wdir = \"/Users/ksmpooh/Desktop/KCDC/transplantation/01.open/20220125/KD_dis/\"+theme + \"/\"\n",
    "#/Users/ksmpooh/Desktop/KCDC/transplantation/01.open/20220125/KD_dis\n",
    "#/Users/ksmpooh/Desktop/KCDC/transplantation/01.open/20220125/s1/CSV\n",
    "#outPath = wdir + \"CSV/S1.csv\"\n",
    "#outPath = wdir + \"CSV/S2.csv\"\n",
    "datain = input()\n",
    "outPath = datain + \"_convert.csv\""
   ]
  },
  {
   "cell_type": "code",
   "execution_count": 8,
   "metadata": {},
   "outputs": [
    {
     "data": {
      "text/plain": [
       "['rs187006659', 'rs117253888', 'rs3779543', 'rs121909046', 'rs2299444']"
      ]
     },
     "execution_count": 8,
     "metadata": {},
     "output_type": "execute_result"
    }
   ],
   "source": [
    "#header = open(wdir+\"CSV/test.map\",\"r\")\n",
    "header = open(datain + \".map\",'r')\n",
    "header = [s.replace(\"\\n\",\"\").split(\"\\t\")[1] for s in header]\n",
    "header[0:5]"
   ]
  },
  {
   "cell_type": "code",
   "execution_count": 9,
   "metadata": {},
   "outputs": [],
   "source": [
    "#df = open(wdir+\"CSV/test.ped\",\"r\")\n",
    "df = open(datain + \".ped\",'r')\n",
    "#02336697DNA01102\t02336697DNA01102\t0\t0\t2\t1\tA A\tC C\tA G\tC T\tT C\tG A\tA A\tA A\tT T\tG G\tT C\tG A\t0 0\tA G\tT T\tT G"
   ]
  },
  {
   "cell_type": "code",
   "execution_count": 10,
   "metadata": {},
   "outputs": [],
   "source": [
    "def main():\n",
    "    out = open(outPath,\"w\")\n",
    "    out.write(\"BarcodeID\")\n",
    "    for i in header:\n",
    "        out.write(\",%s\"%(i))\n",
    "    out.write(\"\\n\")\n",
    "    while 1:\n",
    "        line = df.readline().replace(\"\\n\",\"\")\n",
    "        if not line:\n",
    "            break\n",
    "        a = line.split()\n",
    "        out.write(a[0])\n",
    "        a2 = a[6:]\n",
    "        while 1:\n",
    "            if not a2:\n",
    "                break\n",
    "            out.write(\",%s%s\"%(a2.pop(0),a2.pop(0)))\n",
    "        out.write('\\n')\n",
    "    out.close()\n",
    "    \n",
    "main()\n",
    "    "
   ]
  },
  {
   "cell_type": "code",
   "execution_count": null,
   "metadata": {},
   "outputs": [],
   "source": []
  }
 ],
 "metadata": {
  "kernelspec": {
   "display_name": "Python 3",
   "language": "python",
   "name": "python3"
  },
  "language_info": {
   "codemirror_mode": {
    "name": "ipython",
    "version": 3
   },
   "file_extension": ".py",
   "mimetype": "text/x-python",
   "name": "python",
   "nbconvert_exporter": "python",
   "pygments_lexer": "ipython3",
   "version": "3.8.5"
  }
 },
 "nbformat": 4,
 "nbformat_minor": 5
}
