{
 "cells": [
  {
   "cell_type": "code",
   "execution_count": 1,
   "metadata": {},
   "outputs": [],
   "source": [
    "#### 결과 값 확인 및 비교 \n",
    "#### compare sungmin's with YJ's "
   ]
  },
  {
   "cell_type": "code",
   "execution_count": 6,
   "metadata": {},
   "outputs": [],
   "source": [
    "wdir = \"C:/Users/user/Desktop/KCDC/\""
   ]
  },
  {
   "cell_type": "code",
   "execution_count": 177,
   "metadata": {},
   "outputs": [],
   "source": [
    "def filein(datain):\n",
    "    a = open(datain,'r')\n",
    "    return [s.replace(\"\\n\",\"\") for s in a]\n",
    "\n",
    "def df_split_index(datain,front,tail):\n",
    "    out = {}\n",
    "    for s in datain[1:]:\n",
    "        i = s[0]\n",
    "        j = s[front:(tail+1)]\n",
    "        out[i] = j\n",
    "    return out\n",
    "\n",
    "def df_extract_ID(datain):\n",
    "    #out = []\n",
    "    #for s in datain[1:]:\n",
    "    #    out.append(s[0])\n",
    "    return [s[0] for s in datain[1:]]\n",
    "\n",
    "def match_df(a,b,front,tail):\n",
    "    index = df_extract_ID(a)\n",
    "    colname = a[0]\n",
    "    a = df_split_index(a[1:],front,tail)\n",
    "    b = df_split_index(b[1:],front,tail)\n",
    "    \n",
    "    df =[]\n",
    "    df.append([colname[0],\"yj_\"+colname[front],\"yj_\"+colname[tail],\"sm_\"+colname[front],\"sm_\"+colname[tail],\"match\",\"wrong\",\"empty\"])\n",
    "    print(df)\n",
    "    for i in index:\n",
    "        match = 0\n",
    "        wrong = 0\n",
    "        empty = 0\n",
    "        out = []\n",
    "        out.append(i)    \n",
    "        #out.append(b[i][0])\n",
    "        #out.append(b[i][1])\n",
    "        #out.append(a[i])    \n",
    "        #if \"NA\" in a[i]:\n",
    "        #    empty = 1+0\n",
    "\n",
    "        #\"NA\" in sm_a['NIH19KT0003']\n",
    "\n",
    "        #if a[i].pop() in b[i]:\n",
    "            "
   ]
  },
  {
   "cell_type": "code",
   "execution_count": 178,
   "metadata": {},
   "outputs": [
    {
     "name": "stdout",
     "output_type": "stream",
     "text": [
      "[['IID', 'yj_DRB1', 'yj_DRB2', 'sm_DRB1', 'sm_DRB2', 'match', 'wrong', 'empty']]\n"
     ]
    },
    {
     "ename": "KeyError",
     "evalue": "'NIH19KT0001'",
     "output_type": "error",
     "traceback": [
      "\u001b[1;31m---------------------------------------------------------------------------\u001b[0m",
      "\u001b[1;31mKeyError\u001b[0m                                  Traceback (most recent call last)",
      "\u001b[1;32m<ipython-input-178-07c040dacd51>\u001b[0m in \u001b[0;36m<module>\u001b[1;34m\u001b[0m\n\u001b[1;32m----> 1\u001b[1;33m \u001b[0mmatch_df\u001b[0m\u001b[1;33m(\u001b[0m\u001b[0msm\u001b[0m\u001b[1;33m[\u001b[0m\u001b[1;36m0\u001b[0m\u001b[1;33m:\u001b[0m\u001b[1;36m5\u001b[0m\u001b[1;33m]\u001b[0m\u001b[1;33m,\u001b[0m\u001b[0myj\u001b[0m\u001b[1;33m[\u001b[0m\u001b[1;36m0\u001b[0m\u001b[1;33m:\u001b[0m\u001b[1;36m5\u001b[0m\u001b[1;33m]\u001b[0m\u001b[1;33m,\u001b[0m\u001b[1;36m5\u001b[0m\u001b[1;33m,\u001b[0m\u001b[1;36m6\u001b[0m\u001b[1;33m)\u001b[0m\u001b[1;33m\u001b[0m\u001b[1;33m\u001b[0m\u001b[0m\n\u001b[0m\u001b[0;32m      2\u001b[0m \u001b[1;33m\u001b[0m\u001b[0m\n\u001b[0;32m      3\u001b[0m \u001b[0ma\u001b[0m \u001b[1;33m=\u001b[0m \u001b[1;33m[\u001b[0m\u001b[1;34m\"123\"\u001b[0m\u001b[1;33m,\u001b[0m\u001b[1;34m\"456\"\u001b[0m\u001b[1;33m]\u001b[0m\u001b[1;33m\u001b[0m\u001b[1;33m\u001b[0m\u001b[0m\n\u001b[0;32m      4\u001b[0m \u001b[0mprint\u001b[0m\u001b[1;33m(\u001b[0m\u001b[0ma\u001b[0m\u001b[1;33m[\u001b[0m\u001b[1;36m1\u001b[0m\u001b[1;33m]\u001b[0m\u001b[1;33m)\u001b[0m\u001b[1;33m\u001b[0m\u001b[1;33m\u001b[0m\u001b[0m\n",
      "\u001b[1;32m<ipython-input-177-aa22abe78f0e>\u001b[0m in \u001b[0;36mmatch_df\u001b[1;34m(a, b, front, tail)\u001b[0m\n\u001b[0;32m     32\u001b[0m         \u001b[0mout\u001b[0m \u001b[1;33m=\u001b[0m \u001b[1;33m[\u001b[0m\u001b[1;33m]\u001b[0m\u001b[1;33m\u001b[0m\u001b[1;33m\u001b[0m\u001b[0m\n\u001b[0;32m     33\u001b[0m         \u001b[0mout\u001b[0m\u001b[1;33m.\u001b[0m\u001b[0mappend\u001b[0m\u001b[1;33m(\u001b[0m\u001b[0mi\u001b[0m\u001b[1;33m)\u001b[0m\u001b[1;33m\u001b[0m\u001b[1;33m\u001b[0m\u001b[0m\n\u001b[1;32m---> 34\u001b[1;33m         \u001b[0mprint\u001b[0m\u001b[1;33m(\u001b[0m\u001b[0ma\u001b[0m\u001b[1;33m[\u001b[0m\u001b[0mi\u001b[0m\u001b[1;33m]\u001b[0m\u001b[1;33m)\u001b[0m\u001b[1;33m\u001b[0m\u001b[1;33m\u001b[0m\u001b[0m\n\u001b[0m\u001b[0;32m     35\u001b[0m \u001b[1;33m\u001b[0m\u001b[0m\n\u001b[0;32m     36\u001b[0m \u001b[1;33m\u001b[0m\u001b[0m\n",
      "\u001b[1;31mKeyError\u001b[0m: 'NIH19KT0001'"
     ]
    }
   ],
   "source": [
    "match_df(sm[0:5],yj[0:5],5,6)\n",
    "\n",
    "a = [\"123\",\"456\"]\n",
    "print(a[1])"
   ]
  },
  {
   "cell_type": "code",
   "execution_count": 109,
   "metadata": {},
   "outputs": [
    {
     "name": "stdout",
     "output_type": "stream",
     "text": [
      "['ID\\tA1\\tA2\\tB1\\tB2\\tDRB1\\tDRB2', 'NIH19KT0001\\t2\\t33\\t40\\t44\\t8\\t13', 'NIH19KT0003\\t2\\t24\\t7\\t15\\t1\\t11', 'NIH19KT0004\\t2\\t24\\t44\\t48\\t11\\t13', 'NIH19KT0005\\t24\\t33\\t15\\t46\\t1\\t4']\n",
      "['IID A1 A2 B1 B2 DRB1 DRB2', 'NIH19KT0001 02 33 40 44 08 13', 'NIH19KT0003 24 24 07 15 01 NA', 'NIH19KT0004 02 02 44 48 09 13', 'NIH19KT0005 02 33 15 46 01 04']\n"
     ]
    }
   ],
   "source": [
    "yj = filein(wdir+\"transplantation/HLAtyping/HLA_JG_2DGT_imputed.txt\")\n",
    "sm = filein(wdir+\"HLAimputation/Result/HLA_imptation_2d_without_3_alleles.txt\")\n",
    "print(yj[0:5])\n",
    "print(sm[0:5])"
   ]
  },
  {
   "cell_type": "code",
   "execution_count": 110,
   "metadata": {},
   "outputs": [
    {
     "name": "stdout",
     "output_type": "stream",
     "text": [
      "YJ : \n",
      "[['ID', 'A1', 'A2', 'B1', 'B2', 'DRB1', 'DRB2'], ['NIH19KT0001', '2', '33', '40', '44', '8', '13'], ['NIH19KT0003', '2', '24', '7', '15', '1', '11'], ['NIH19KT0004', '2', '24', '44', '48', '11', '13'], ['NIH19KT0005', '24', '33', '15', '46', '1', '4']]\n",
      "sm : \n",
      "[['IID', 'A1', 'A2', 'B1', 'B2', 'DRB1', 'DRB2'], ['NIH19KT0001', '02', '33', '40', '44', '08', '13'], ['NIH19KT0003', '24', '24', '07', '15', '01', 'NA'], ['NIH19KT0004', '02', '02', '44', '48', '09', '13'], ['NIH19KT0005', '02', '33', '15', '46', '01', '04']]\n"
     ]
    }
   ],
   "source": [
    "yj = [s.split(\"\\t\") for s in yj]\n",
    "sm = [s.split(\" \") for s in sm]\n",
    "print(\"YJ : \")\n",
    "print(yj[0:5])\n",
    "print(\"sm : \")\n",
    "print(sm[0:5])"
   ]
  },
  {
   "cell_type": "code",
   "execution_count": 155,
   "metadata": {},
   "outputs": [
    {
     "name": "stdout",
     "output_type": "stream",
     "text": [
      "NA 01\n"
     ]
    }
   ],
   "source": [
    "sm_a = df_split_index(sm[0:10],5,6)\n",
    "yj_a = df_split_index(sm[0:5],5,6)\n",
    "sm_a\n",
    "\"NA\" in sm_a['NIH19KT0003']\n",
    "x = sm_a['NIH19KT0003'].pop()\n",
    "y = sm_a['NIH19KT0003'].pop()\n",
    "#match_df(sm[0:5],yj[0:5],5,6)\n",
    "print(x,y)\n"
   ]
  },
  {
   "cell_type": "code",
   "execution_count": 164,
   "metadata": {},
   "outputs": [
    {
     "name": "stdout",
     "output_type": "stream",
     "text": [
      "[['IID', 'yj_DRB1', 'yj_DRB2', 'sm_DRB1', 'sm_DRB2', 'match', 'wrong', 'empty']]\n",
      "{'NIH19KT0003': ['1', '11'], 'NIH19KT0004': ['11', '13'], 'NIH19KT0005': ['1', '4']}\n",
      "['NIH19KT0001']\n",
      "{'NIH19KT0003': ['1', '11'], 'NIH19KT0004': ['11', '13'], 'NIH19KT0005': ['1', '4']}\n",
      "['NIH19KT0003']\n",
      "{'NIH19KT0003': ['1', '11'], 'NIH19KT0004': ['11', '13'], 'NIH19KT0005': ['1', '4']}\n",
      "['NIH19KT0004']\n",
      "{'NIH19KT0003': ['1', '11'], 'NIH19KT0004': ['11', '13'], 'NIH19KT0005': ['1', '4']}\n",
      "['NIH19KT0005']\n"
     ]
    }
   ],
   "source": [
    "match_df(sm[0:5],yj[0:5],5,6)\n"
   ]
  },
  {
   "cell_type": "code",
   "execution_count": 151,
   "metadata": {},
   "outputs": [
    {
     "data": {
      "text/plain": [
       "['01', 'NA', 'hi']"
      ]
     },
     "execution_count": 151,
     "metadata": {},
     "output_type": "execute_result"
    }
   ],
   "source": [
    "sm_a = df_split_index(sm[0:10],5,6)\n",
    "sm_a\n",
    "out =[]\n",
    "out.append(sm_a['NIH19KT0003'][0])\n",
    "out.append(sm_a['NIH19KT0003'][1])\n",
    "out.append(\"hi\")\n",
    "out"
   ]
  },
  {
   "cell_type": "code",
   "execution_count": 76,
   "metadata": {},
   "outputs": [],
   "source": [
    "out = []\n",
    "out.append([\"1\",\"kim\",\"lee\"])"
   ]
  },
  {
   "cell_type": "code",
   "execution_count": 77,
   "metadata": {},
   "outputs": [
    {
     "data": {
      "text/plain": [
       "[['1', 'kim', 'lee']]"
      ]
     },
     "execution_count": 77,
     "metadata": {},
     "output_type": "execute_result"
    }
   ],
   "source": [
    "out"
   ]
  },
  {
   "cell_type": "code",
   "execution_count": null,
   "metadata": {},
   "outputs": [],
   "source": []
  },
  {
   "cell_type": "code",
   "execution_count": null,
   "metadata": {},
   "outputs": [],
   "source": []
  }
 ],
 "metadata": {
  "kernelspec": {
   "display_name": "Python 3",
   "language": "python",
   "name": "python3"
  },
  "language_info": {
   "codemirror_mode": {
    "name": "ipython",
    "version": 3
   },
   "file_extension": ".py",
   "mimetype": "text/x-python",
   "name": "python",
   "nbconvert_exporter": "python",
   "pygments_lexer": "ipython3",
   "version": "3.6.8"
  }
 },
 "nbformat": 4,
 "nbformat_minor": 2
}
