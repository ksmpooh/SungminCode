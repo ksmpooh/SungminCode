{
 "cells": [
  {
   "cell_type": "code",
   "execution_count": 1,
   "metadata": {},
   "outputs": [],
   "source": [
    "#### 결과 값 확인 및 비교 \n",
    "#### compare sungmin's with YJ's "
   ]
  },
  {
   "cell_type": "code",
   "execution_count": 2,
   "metadata": {},
   "outputs": [],
   "source": [
    "wdir = \"C:/Users/user/Desktop/KCDC/\""
   ]
  },
  {
   "cell_type": "code",
   "execution_count": 54,
   "metadata": {},
   "outputs": [],
   "source": [
    "def filein(datain):\n",
    "    a = open(datain,'r')\n",
    "    return [s.replace(\"\\n\",\"\").split(\"\\t\") for s in a]\n",
    "\n",
    "def df_split_index(datain,front,tail):\n",
    "    out = {}\n",
    "    for s in datain[1:]:\n",
    "        i = s[0]\n",
    "        j = s[front:(tail+1)]\n",
    "        out[i] = j\n",
    "    return out\n",
    "\n"
   ]
  },
  {
   "cell_type": "code",
   "execution_count": 65,
   "metadata": {},
   "outputs": [
    {
     "data": {
      "text/plain": [
       "[['NIH19KT0001 NIH19KT0001 02 33 40 44 NA 08 13 NA'],\n",
       " ['NIH19KT0003 NIH19KT0003 24 24 07 15 NA 01 NA NA'],\n",
       " ['NIH19KT0004 NIH19KT0004 02 02 44 48 NA 09 13 NA'],\n",
       " ['NIH19KT0005 NIH19KT0005 02 33 15 46 NA 01 04 NA']]"
      ]
     },
     "execution_count": 65,
     "metadata": {},
     "output_type": "execute_result"
    }
   ],
   "source": [
    "yj = filein(wdir+\"transplantation/HLAtyping/HLA_JG_2DGT_imputed.txt\")\n",
    "sm = filein(wdir+\"HLAimputation/Result/HLA_imptation_2d.txt\")\n",
    "sm[1:5]"
   ]
  },
  {
   "cell_type": "code",
   "execution_count": 63,
   "metadata": {},
   "outputs": [],
   "source": [
    "a = df_split_index(sm[0:5],3,5)"
   ]
  },
  {
   "cell_type": "code",
   "execution_count": 66,
   "metadata": {},
   "outputs": [
    {
     "data": {
      "text/plain": [
       "[['NIH19KT0001 NIH19KT0001 02 33 40 44 NA 08 13 NA'],\n",
       " ['NIH19KT0003 NIH19KT0003 24 24 07 15 NA 01 NA NA'],\n",
       " ['NIH19KT0004 NIH19KT0004 02 02 44 48 NA 09 13 NA'],\n",
       " ['NIH19KT0005 NIH19KT0005 02 33 15 46 NA 01 04 NA']]"
      ]
     },
     "execution_count": 66,
     "metadata": {},
     "output_type": "execute_result"
    }
   ],
   "source": [
    "sm[1:5]"
   ]
  },
  {
   "cell_type": "code",
   "execution_count": 13,
   "metadata": {},
   "outputs": [
    {
     "data": {
      "text/plain": [
       "[['FID IID A1 A2 B1 B2 B3 DRB1 DRB2 DRB3'],\n",
       " ['NIH19KT0001 NIH19KT0001 02 33 40 44 NA 08 13 NA'],\n",
       " ['NIH19KT0003 NIH19KT0003 24 24 07 15 NA 01 NA NA'],\n",
       " ['NIH19KT0004 NIH19KT0004 02 02 44 48 NA 09 13 NA'],\n",
       " ['NIH19KT0005 NIH19KT0005 02 33 15 46 NA 01 04 NA']]"
      ]
     },
     "execution_count": 13,
     "metadata": {},
     "output_type": "execute_result"
    }
   ],
   "source": []
  },
  {
   "cell_type": "code",
   "execution_count": 55,
   "metadata": {},
   "outputs": [],
   "source": []
  },
  {
   "cell_type": "code",
   "execution_count": 56,
   "metadata": {},
   "outputs": [
    {
     "data": {
      "text/plain": [
       "{'NIH19KT0001': ['2', '33'],\n",
       " 'NIH19KT0003': ['2', '24'],\n",
       " 'NIH19KT0004': ['2', '24'],\n",
       " 'NIH19KT0005': ['24', '33']}"
      ]
     },
     "execution_count": 56,
     "metadata": {},
     "output_type": "execute_result"
    }
   ],
   "source": [
    "a"
   ]
  },
  {
   "cell_type": "code",
   "execution_count": 41,
   "metadata": {},
   "outputs": [
    {
     "name": "stdout",
     "output_type": "stream",
     "text": [
      "ID\n",
      "['A1', 'A2']\n",
      "NIH19KT0001\n",
      "['2', '33']\n",
      "NIH19KT0003\n",
      "['2', '24']\n",
      "NIH19KT0004\n",
      "['2', '24']\n",
      "NIH19KT0005\n",
      "['24', '33']\n"
     ]
    }
   ],
   "source": []
  },
  {
   "cell_type": "code",
   "execution_count": null,
   "metadata": {},
   "outputs": [],
   "source": []
  }
 ],
 "metadata": {
  "kernelspec": {
   "display_name": "Python 3",
   "language": "python",
   "name": "python3"
  },
  "language_info": {
   "codemirror_mode": {
    "name": "ipython",
    "version": 3
   },
   "file_extension": ".py",
   "mimetype": "text/x-python",
   "name": "python",
   "nbconvert_exporter": "python",
   "pygments_lexer": "ipython3",
   "version": "3.6.8"
  }
 },
 "nbformat": 4,
 "nbformat_minor": 2
}
