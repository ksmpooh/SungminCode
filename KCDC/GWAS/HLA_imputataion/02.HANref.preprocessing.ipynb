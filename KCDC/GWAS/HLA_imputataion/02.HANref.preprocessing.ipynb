{
 "cells": [
  {
   "cell_type": "code",
   "execution_count": 1,
   "metadata": {},
   "outputs": [],
   "source": [
    "#### HAN reference panel (bgl, markers) preprocessing"
   ]
  },
  {
   "cell_type": "code",
   "execution_count": 48,
   "metadata": {},
   "outputs": [],
   "source": [
    "wdir = \"c:/Users/user/Desktop/KCDC/HLAimputation/HAN.ref/\""
   ]
  },
  {
   "cell_type": "code",
   "execution_count": 86,
   "metadata": {},
   "outputs": [],
   "source": [
    "####makers file\n",
    "df = open(wdir + 'HAN.MHC.reference.panel.markers','r')\n",
    "out = open(wdir + 'HAN.MHC.reference.panel.fixed.markers','w')"
   ]
  },
  {
   "cell_type": "code",
   "execution_count": 87,
   "metadata": {},
   "outputs": [],
   "source": [
    "while 1:\n",
    "    a = df.readline()\n",
    "    if not a:\n",
    "        break\n",
    "    a = a.replace(\"\\n\",\"\").split(\" \")\n",
    "    if '+'  in a[2]:\n",
    "        a[2] = a[2].replace(\"+\",a[3])\n",
    "        out.write(' '.join(a) + \"\\n\")\n",
    "    elif '-'  in a[2]:\n",
    "        a[2] = a[2].replace(\"-\",a[3])\n",
    "        out.write(' '.join(a) + \"\\n\")\n",
    "    elif '+'  in a[3]:\n",
    "        a[3] = a[3].replace(\"+\",a[2])\n",
    "        out.write(' '.join(a) + \"\\n\")\n",
    "    elif '-'  in a[3]:\n",
    "        a[3] = a[3].replace(\"-\",a[2])\n",
    "        out.write(' '.join(a) + \"\\n\")\n",
    "    else:\n",
    "        out.write(' '.join(a) + \"\\n\")\n",
    "out.close()\n"
   ]
  },
  {
   "cell_type": "code",
   "execution_count": 109,
   "metadata": {},
   "outputs": [],
   "source": [
    "####bgl file\n",
    "df = open(wdir + 'HAN.MHC.reference.panel.bgl','r')\n",
    "out = open(wdir + 'HAN.MHC.reference.panel.fixed.bgl','w')"
   ]
  },
  {
   "cell_type": "code",
   "execution_count": 110,
   "metadata": {},
   "outputs": [],
   "source": [
    "while 1:\n",
    "    a = df.readline()\n",
    "    if not a:\n",
    "        break\n",
    "    a = a.replace(\"\\n\",\"\").split(\" \")\n",
    "    for count,value in enumerate(a):\n",
    "        if '-' in  value:\n",
    "            if count%2 == 0:\n",
    "                a[count] = a[count].replace('-',a[count + 1]) \n",
    "            else:\n",
    "                a[count] = a[count].replace('-',a[count - 1]) \n",
    "        elif '+' in value:\n",
    "            if count%2 == 0:\n",
    "                a[count] = a[count].replace('+',a[count + 1]) \n",
    "            else:\n",
    "                a[count] = a[count].replace('+',a[count - 1]) \n",
    "    out.write(' '.join(a) + \"\\n\")\n",
    "out.close()"
   ]
  },
  {
   "cell_type": "code",
   "execution_count": null,
   "metadata": {},
   "outputs": [],
   "source": []
  },
  {
   "cell_type": "code",
   "execution_count": 100,
   "metadata": {},
   "outputs": [
    {
     "name": "stdout",
     "output_type": "stream",
     "text": [
      "0 1\n",
      "2 3\n",
      "4 5\n"
     ]
    }
   ],
   "source": [
    "a = [1,2,3,4,5]\n",
    "for i,j in enumerate(a):\n",
    "    if i%2 == 0:\n",
    "        print(i,j)"
   ]
  },
  {
   "cell_type": "code",
   "execution_count": null,
   "metadata": {},
   "outputs": [],
   "source": []
  }
 ],
 "metadata": {
  "kernelspec": {
   "display_name": "Python 3",
   "language": "python",
   "name": "python3"
  },
  "language_info": {
   "codemirror_mode": {
    "name": "ipython",
    "version": 3
   },
   "file_extension": ".py",
   "mimetype": "text/x-python",
   "name": "python",
   "nbconvert_exporter": "python",
   "pygments_lexer": "ipython3",
   "version": "3.6.8"
  }
 },
 "nbformat": 4,
 "nbformat_minor": 2
}
