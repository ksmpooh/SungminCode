{
 "cells": [
  {
   "cell_type": "code",
   "execution_count": 1,
   "metadata": {},
   "outputs": [],
   "source": [
    "import pandas as pd"
   ]
  },
  {
   "cell_type": "code",
   "execution_count": 6,
   "metadata": {},
   "outputs": [],
   "source": [
    "def fileRead(fileIn):\n",
    "    f = open(fileIn,'r')\n",
    "    inData = [r.replace(\"\\r\",\"\").replace(\"\\n\",\"\").split(\"\\t\") for r in f]\n",
    "    return inData"
   ]
  },
  {
   "cell_type": "code",
   "execution_count": 35,
   "metadata": {},
   "outputs": [],
   "source": [
    "#meta_file = open(\"C:/Users/user/Desktop/KCDC/BMI_association/Meta/Meta_bmi_v1_dm.txt\",'r')"
   ]
  },
  {
   "cell_type": "code",
   "execution_count": 62,
   "metadata": {},
   "outputs": [],
   "source": [
    "#fre = open(\"C:/Users/user/Desktop/KCDC/BMI_association/freq/outDir/slim_v1.txt\",'r')"
   ]
  },
  {
   "cell_type": "code",
   "execution_count": 77,
   "metadata": {},
   "outputs": [],
   "source": [
    "fre = pd.read_csv(\"C:/Users/user/Desktop/KCDC/BMI_association/freq/outDir/slim_v1.txt\",delim_whitespace = True)"
   ]
  },
  {
   "cell_type": "code",
   "execution_count": 42,
   "metadata": {},
   "outputs": [
    {
     "name": "stdout",
     "output_type": "stream",
     "text": [
      "1:569374_T/C_1:569374 ['SNP', 'Frq']\n",
      "1:569714_T/C_1:569714 ['10:61372_CA/C_10:61372', '0.40566599999999997']\n",
      "1:592088_T/C_1:592088 ['10:65087_T/C_10:65087', '0.224527']\n",
      "1:702216_G/T_1:702216 ['10:65878_C/G_10:65878', '0.384822']\n"
     ]
    }
   ],
   "source": [
    "for i,f in enumerate(meta_file):\n",
    "    a = f.replace('r','').replace('\\n','').split(\"\\t\")\n",
    "    print(a[0],fre[i])\n",
    "    \n",
    "    if i == 3:\n",
    "        break\n",
    "    "
   ]
  },
  {
   "cell_type": "code",
   "execution_count": 79,
   "metadata": {},
   "outputs": [],
   "source": [
    "meta = pd.read_csv(\"c:/Users/user/Desktop/KCDC/BMI_association/Meta/Meta_bmi_v1_dm.txt\",delim_whitespace = True)"
   ]
  },
  {
   "cell_type": "code",
   "execution_count": 64,
   "metadata": {},
   "outputs": [
    {
     "data": {
      "text/html": [
       "<div>\n",
       "<style scoped>\n",
       "    .dataframe tbody tr th:only-of-type {\n",
       "        vertical-align: middle;\n",
       "    }\n",
       "\n",
       "    .dataframe tbody tr th {\n",
       "        vertical-align: top;\n",
       "    }\n",
       "\n",
       "    .dataframe thead th {\n",
       "        text-align: right;\n",
       "    }\n",
       "</style>\n",
       "<table border=\"1\" class=\"dataframe\">\n",
       "  <thead>\n",
       "    <tr style=\"text-align: right;\">\n",
       "      <th></th>\n",
       "      <th>SNP</th>\n",
       "      <th>REF</th>\n",
       "      <th>ALT</th>\n",
       "      <th>BETA</th>\n",
       "      <th>P</th>\n",
       "      <th>SE</th>\n",
       "      <th>N</th>\n",
       "      <th>MAF</th>\n",
       "    </tr>\n",
       "  </thead>\n",
       "  <tbody>\n",
       "    <tr>\n",
       "      <th>0</th>\n",
       "      <td>1:61822_C/A_1:61822</td>\n",
       "      <td>C</td>\n",
       "      <td>A</td>\n",
       "      <td>-0.027579</td>\n",
       "      <td>0.716880</td>\n",
       "      <td>0.076050</td>\n",
       "      <td>39855</td>\n",
       "      <td>0.002431</td>\n",
       "    </tr>\n",
       "    <tr>\n",
       "      <th>1</th>\n",
       "      <td>1:70594_G/C_1:70594</td>\n",
       "      <td>G</td>\n",
       "      <td>C</td>\n",
       "      <td>-0.296420</td>\n",
       "      <td>0.062866</td>\n",
       "      <td>0.159350</td>\n",
       "      <td>39855</td>\n",
       "      <td>0.000602</td>\n",
       "    </tr>\n",
       "    <tr>\n",
       "      <th>2</th>\n",
       "      <td>1:88714_T/A_1:88714</td>\n",
       "      <td>T</td>\n",
       "      <td>A</td>\n",
       "      <td>-0.053743</td>\n",
       "      <td>0.442240</td>\n",
       "      <td>0.069939</td>\n",
       "      <td>39855</td>\n",
       "      <td>0.003241</td>\n",
       "    </tr>\n",
       "    <tr>\n",
       "      <th>3</th>\n",
       "      <td>1:99665_C/A_1:99665</td>\n",
       "      <td>C</td>\n",
       "      <td>A</td>\n",
       "      <td>-0.295500</td>\n",
       "      <td>0.063707</td>\n",
       "      <td>0.159360</td>\n",
       "      <td>39855</td>\n",
       "      <td>0.000598</td>\n",
       "    </tr>\n",
       "    <tr>\n",
       "      <th>4</th>\n",
       "      <td>1:135135_C/T_1:135135</td>\n",
       "      <td>C</td>\n",
       "      <td>T</td>\n",
       "      <td>-0.293260</td>\n",
       "      <td>0.065763</td>\n",
       "      <td>0.159370</td>\n",
       "      <td>39855</td>\n",
       "      <td>0.000592</td>\n",
       "    </tr>\n",
       "  </tbody>\n",
       "</table>\n",
       "</div>"
      ],
      "text/plain": [
       "                     SNP REF ALT      BETA         P        SE      N  \\\n",
       "0    1:61822_C/A_1:61822   C   A -0.027579  0.716880  0.076050  39855   \n",
       "1    1:70594_G/C_1:70594   G   C -0.296420  0.062866  0.159350  39855   \n",
       "2    1:88714_T/A_1:88714   T   A -0.053743  0.442240  0.069939  39855   \n",
       "3    1:99665_C/A_1:99665   C   A -0.295500  0.063707  0.159360  39855   \n",
       "4  1:135135_C/T_1:135135   C   T -0.293260  0.065763  0.159370  39855   \n",
       "\n",
       "        MAF  \n",
       "0  0.002431  \n",
       "1  0.000602  \n",
       "2  0.003241  \n",
       "3  0.000598  \n",
       "4  0.000592  "
      ]
     },
     "execution_count": 64,
     "metadata": {},
     "output_type": "execute_result"
    }
   ],
   "source": [
    "meta.head()"
   ]
  },
  {
   "cell_type": "code",
   "execution_count": 78,
   "metadata": {},
   "outputs": [
    {
     "data": {
      "text/html": [
       "<div>\n",
       "<style scoped>\n",
       "    .dataframe tbody tr th:only-of-type {\n",
       "        vertical-align: middle;\n",
       "    }\n",
       "\n",
       "    .dataframe tbody tr th {\n",
       "        vertical-align: top;\n",
       "    }\n",
       "\n",
       "    .dataframe thead th {\n",
       "        text-align: right;\n",
       "    }\n",
       "</style>\n",
       "<table border=\"1\" class=\"dataframe\">\n",
       "  <thead>\n",
       "    <tr style=\"text-align: right;\">\n",
       "      <th></th>\n",
       "      <th>SNP</th>\n",
       "      <th>Frq</th>\n",
       "    </tr>\n",
       "  </thead>\n",
       "  <tbody>\n",
       "    <tr>\n",
       "      <th>0</th>\n",
       "      <td>10:61372_CA/C_10:61372</td>\n",
       "      <td>0.405666</td>\n",
       "    </tr>\n",
       "    <tr>\n",
       "      <th>1</th>\n",
       "      <td>10:65087_T/C_10:65087</td>\n",
       "      <td>0.224527</td>\n",
       "    </tr>\n",
       "    <tr>\n",
       "      <th>2</th>\n",
       "      <td>10:65878_C/G_10:65878</td>\n",
       "      <td>0.384822</td>\n",
       "    </tr>\n",
       "    <tr>\n",
       "      <th>3</th>\n",
       "      <td>10:66326_A/G_10:66326</td>\n",
       "      <td>0.066634</td>\n",
       "    </tr>\n",
       "    <tr>\n",
       "      <th>4</th>\n",
       "      <td>10:66627_TAAAC/T_10:66627</td>\n",
       "      <td>0.408120</td>\n",
       "    </tr>\n",
       "  </tbody>\n",
       "</table>\n",
       "</div>"
      ],
      "text/plain": [
       "                         SNP       Frq\n",
       "0     10:61372_CA/C_10:61372  0.405666\n",
       "1      10:65087_T/C_10:65087  0.224527\n",
       "2      10:65878_C/G_10:65878  0.384822\n",
       "3      10:66326_A/G_10:66326  0.066634\n",
       "4  10:66627_TAAAC/T_10:66627  0.408120"
      ]
     },
     "execution_count": 78,
     "metadata": {},
     "output_type": "execute_result"
    }
   ],
   "source": [
    "fre.head()"
   ]
  },
  {
   "cell_type": "code",
   "execution_count": 83,
   "metadata": {},
   "outputs": [],
   "source": [
    "#df = pd.concat([meta,fre],axis = 1,sort = False)"
   ]
  },
  {
   "cell_type": "code",
   "execution_count": 91,
   "metadata": {},
   "outputs": [],
   "source": [
    "for version in [\"v1\",\"v2\"]:\n",
    "    fre = pd.read_csv(\"C:/Users/user/Desktop/KCDC/BMI_association/freq/outDir/slim_\"+version+\".txt\",delim_whitespace = True)\n",
    "    for concept in [\"dm\",\"nodm\"]:\n",
    "        meta = pd.read_csv(\"c:/Users/user/Desktop/KCDC/BMI_association/Meta/Meta_bmi_\"+version+\"_\"+concept+\".txt\",delim_whitespace = True)\n",
    "        pd.merge(meta,fre,on = 'SNP').to_csv(\"c:/Users/user/Desktop/KCDC/BMI_association/Meta/Final_Bmi_meta_form_\"+version+\"_\"+concept+\".txt\", index = False,sep = '\\t',quotechar = \"\\\"\")"
   ]
  },
  {
   "cell_type": "code",
   "execution_count": 90,
   "metadata": {},
   "outputs": [],
   "source": [
    "fre = []\n",
    "meta = []"
   ]
  },
  {
   "cell_type": "code",
   "execution_count": 2,
   "metadata": {},
   "outputs": [],
   "source": [
    "Final = pd.read_csv(\"c:/Users/user/Desktop/KCDC/BMI_association/Meta/Final_Bmi_meta_form_v1_dm.txt\",delim_whitespace = True)"
   ]
  },
  {
   "cell_type": "code",
   "execution_count": 3,
   "metadata": {},
   "outputs": [
    {
     "data": {
      "text/html": [
       "<div>\n",
       "<style scoped>\n",
       "    .dataframe tbody tr th:only-of-type {\n",
       "        vertical-align: middle;\n",
       "    }\n",
       "\n",
       "    .dataframe tbody tr th {\n",
       "        vertical-align: top;\n",
       "    }\n",
       "\n",
       "    .dataframe thead th {\n",
       "        text-align: right;\n",
       "    }\n",
       "</style>\n",
       "<table border=\"1\" class=\"dataframe\">\n",
       "  <thead>\n",
       "    <tr style=\"text-align: right;\">\n",
       "      <th></th>\n",
       "      <th>SNP</th>\n",
       "      <th>REF</th>\n",
       "      <th>ALT</th>\n",
       "      <th>BETA</th>\n",
       "      <th>P</th>\n",
       "      <th>SE</th>\n",
       "      <th>N</th>\n",
       "      <th>MAF</th>\n",
       "      <th>Frq</th>\n",
       "    </tr>\n",
       "  </thead>\n",
       "  <tbody>\n",
       "    <tr>\n",
       "      <th>0</th>\n",
       "      <td>1:61822_C/A_1:61822</td>\n",
       "      <td>C</td>\n",
       "      <td>A</td>\n",
       "      <td>-0.027579</td>\n",
       "      <td>0.716880</td>\n",
       "      <td>0.076050</td>\n",
       "      <td>39855.0</td>\n",
       "      <td>0.002431</td>\n",
       "      <td>0.002309</td>\n",
       "    </tr>\n",
       "    <tr>\n",
       "      <th>1</th>\n",
       "      <td>1:70594_G/C_1:70594</td>\n",
       "      <td>G</td>\n",
       "      <td>C</td>\n",
       "      <td>-0.296420</td>\n",
       "      <td>0.062866</td>\n",
       "      <td>0.159350</td>\n",
       "      <td>39855.0</td>\n",
       "      <td>0.000602</td>\n",
       "      <td>0.000559</td>\n",
       "    </tr>\n",
       "    <tr>\n",
       "      <th>2</th>\n",
       "      <td>1:88714_T/A_1:88714</td>\n",
       "      <td>T</td>\n",
       "      <td>A</td>\n",
       "      <td>-0.053743</td>\n",
       "      <td>0.442240</td>\n",
       "      <td>0.069939</td>\n",
       "      <td>39855.0</td>\n",
       "      <td>0.003241</td>\n",
       "      <td>0.002734</td>\n",
       "    </tr>\n",
       "    <tr>\n",
       "      <th>3</th>\n",
       "      <td>1:99665_C/A_1:99665</td>\n",
       "      <td>C</td>\n",
       "      <td>A</td>\n",
       "      <td>-0.295500</td>\n",
       "      <td>0.063707</td>\n",
       "      <td>0.159360</td>\n",
       "      <td>39855.0</td>\n",
       "      <td>0.000598</td>\n",
       "      <td>0.000559</td>\n",
       "    </tr>\n",
       "    <tr>\n",
       "      <th>4</th>\n",
       "      <td>1:135135_C/T_1:135135</td>\n",
       "      <td>C</td>\n",
       "      <td>T</td>\n",
       "      <td>-0.293260</td>\n",
       "      <td>0.065763</td>\n",
       "      <td>0.159370</td>\n",
       "      <td>39855.0</td>\n",
       "      <td>0.000592</td>\n",
       "      <td>0.000559</td>\n",
       "    </tr>\n",
       "  </tbody>\n",
       "</table>\n",
       "</div>"
      ],
      "text/plain": [
       "                     SNP REF ALT      BETA         P        SE        N  \\\n",
       "0    1:61822_C/A_1:61822   C   A -0.027579  0.716880  0.076050  39855.0   \n",
       "1    1:70594_G/C_1:70594   G   C -0.296420  0.062866  0.159350  39855.0   \n",
       "2    1:88714_T/A_1:88714   T   A -0.053743  0.442240  0.069939  39855.0   \n",
       "3    1:99665_C/A_1:99665   C   A -0.295500  0.063707  0.159360  39855.0   \n",
       "4  1:135135_C/T_1:135135   C   T -0.293260  0.065763  0.159370  39855.0   \n",
       "\n",
       "        MAF       Frq  \n",
       "0  0.002431  0.002309  \n",
       "1  0.000602  0.000559  \n",
       "2  0.003241  0.002734  \n",
       "3  0.000598  0.000559  \n",
       "4  0.000592  0.000559  "
      ]
     },
     "execution_count": 3,
     "metadata": {},
     "output_type": "execute_result"
    }
   ],
   "source": [
    "Final.head()"
   ]
  },
  {
   "cell_type": "code",
   "execution_count": null,
   "metadata": {},
   "outputs": [],
   "source": []
  }
 ],
 "metadata": {
  "kernelspec": {
   "display_name": "Python 3",
   "language": "python",
   "name": "python3"
  },
  "language_info": {
   "codemirror_mode": {
    "name": "ipython",
    "version": 3
   },
   "file_extension": ".py",
   "mimetype": "text/x-python",
   "name": "python",
   "nbconvert_exporter": "python",
   "pygments_lexer": "ipython3",
   "version": "3.6.8"
  }
 },
 "nbformat": 4,
 "nbformat_minor": 2
}
