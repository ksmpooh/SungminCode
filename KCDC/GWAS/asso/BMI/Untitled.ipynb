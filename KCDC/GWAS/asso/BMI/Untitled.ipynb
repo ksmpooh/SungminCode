{
 "cells": [
  {
   "cell_type": "code",
   "execution_count": 10,
   "metadata": {},
   "outputs": [],
   "source": [
    "import pandas as pd"
   ]
  },
  {
   "cell_type": "code",
   "execution_count": 1,
   "metadata": {},
   "outputs": [],
   "source": [
    "import glob"
   ]
  },
  {
   "cell_type": "code",
   "execution_count": 3,
   "metadata": {},
   "outputs": [],
   "source": [
    "pedIn = pd.read_csv(\"C:/Users/user/Desktop/KCDC/association/KCHIP130K_transformation_hematological_20190903.ped\",delim_whitespace = True)"
   ]
  },
  {
   "cell_type": "code",
   "execution_count": 7,
   "metadata": {},
   "outputs": [
    {
     "data": {
      "text/plain": [
       "Index(['FAM_ID', 'IND_ID', 'FAT_ID', 'MOT_ID', 'age', 'sex', 'cohort', 'wbc',\n",
       "       'rbc', 'hb', 'hct', 'plat', 'mcv', 'mch', 'mchc', 'smk', 'WBC_res',\n",
       "       'WBC_z', 'RBC_res', 'RBC_z', 'PLAT_res', 'PLAT_z', 'HB_res', 'HB_z',\n",
       "       'HCT_res', 'HCT_z', 'MCV_res', 'MCV_z', 'MCH_res', 'MCH_z', 'MCHC_res',\n",
       "       'MCHC_z'],\n",
       "      dtype='object')"
      ]
     },
     "execution_count": 7,
     "metadata": {},
     "output_type": "execute_result"
    }
   ],
   "source": [
    "pedIn.columns"
   ]
  },
  {
   "cell_type": "code",
   "execution_count": 11,
   "metadata": {},
   "outputs": [
    {
     "data": {
      "text/plain": [
       "(125872, 32)"
      ]
     },
     "execution_count": 11,
     "metadata": {},
     "output_type": "execute_result"
    }
   ],
   "source": [
    "pedIn.shape"
   ]
  },
  {
   "cell_type": "code",
   "execution_count": 1,
   "metadata": {},
   "outputs": [],
   "source": [
    "a = 1\n",
    "b = 2"
   ]
  },
  {
   "cell_type": "code",
   "execution_count": 2,
   "metadata": {},
   "outputs": [],
   "source": [
    "df = [a,b]"
   ]
  },
  {
   "cell_type": "code",
   "execution_count": 3,
   "metadata": {},
   "outputs": [
    {
     "name": "stdout",
     "output_type": "stream",
     "text": [
      "1\n",
      "2\n"
     ]
    }
   ],
   "source": [
    "for i in df:\n",
    "    print(i)"
   ]
  },
  {
   "cell_type": "code",
   "execution_count": 7,
   "metadata": {},
   "outputs": [
    {
     "data": {
      "text/plain": [
       "['c:/Users/user/Desktop/KCDC/BMI_association\\\\a.txt',\n",
       " 'c:/Users/user/Desktop/KCDC/BMI_association\\\\imputation.IMPUTE4.POS.50K_20181114_Final.txt',\n",
       " 'c:/Users/user/Desktop/KCDC/BMI_association\\\\KCHIP130K_BMI_adj_DM_20190809.txt',\n",
       " 'c:/Users/user/Desktop/KCDC/BMI_association\\\\KCHIP130K_BMI_adj_noDM_20190809.txt']"
      ]
     },
     "execution_count": 7,
     "metadata": {},
     "output_type": "execute_result"
    }
   ],
   "source": [
    "glob.glob(\"c:/Users/user/Desktop/KCDC/BMI_association/*txt\")"
   ]
  },
  {
   "cell_type": "code",
   "execution_count": 9,
   "metadata": {},
   "outputs": [],
   "source": [
    "file_list = glob.glob(\"c:/Users/user/Desktop/KCDC/BMI_association/*txt\")"
   ]
  },
  {
   "cell_type": "code",
   "execution_count": 16,
   "metadata": {},
   "outputs": [
    {
     "name": "stdout",
     "output_type": "stream",
     "text": [
      "0 c:/Users/user/Desktop/KCDC/BMI_association\\a.txt\n",
      "1 c:/Users/user/Desktop/KCDC/BMI_association\\imputation.IMPUTE4.POS.50K_20181114_Final.txt\n",
      "2 c:/Users/user/Desktop/KCDC/BMI_association\\KCHIP130K_BMI_adj_DM_20190809.txt\n",
      "3 c:/Users/user/Desktop/KCDC/BMI_association\\KCHIP130K_BMI_adj_noDM_20190809.txt\n"
     ]
    }
   ],
   "source": [
    "for i,file in enumerate(file_list):\n",
    "    print(i,file)"
   ]
  },
  {
   "cell_type": "code",
   "execution_count": null,
   "metadata": {},
   "outputs": [],
   "source": [
    "    "
   ]
  },
  {
   "cell_type": "code",
   "execution_count": null,
   "metadata": {},
   "outputs": [],
   "source": []
  },
  {
   "cell_type": "code",
   "execution_count": 19,
   "metadata": {},
   "outputs": [],
   "source": [
    "class a:\n",
    "    def sum(b,c):\n",
    "        return b+c"
   ]
  },
  {
   "cell_type": "code",
   "execution_count": null,
   "metadata": {},
   "outputs": [],
   "source": []
  },
  {
   "cell_type": "code",
   "execution_count": 21,
   "metadata": {},
   "outputs": [
    {
     "ename": "TypeError",
     "evalue": "sum() takes 2 positional arguments but 3 were given",
     "output_type": "error",
     "traceback": [
      "\u001b[1;31m---------------------------------------------------------------------------\u001b[0m",
      "\u001b[1;31mTypeError\u001b[0m                                 Traceback (most recent call last)",
      "\u001b[1;32m<ipython-input-21-43a3e499ab0c>\u001b[0m in \u001b[0;36m<module>\u001b[1;34m\u001b[0m\n\u001b[1;32m----> 1\u001b[1;33m \u001b[0ma\u001b[0m\u001b[1;33m.\u001b[0m\u001b[0msum\u001b[0m\u001b[1;33m(\u001b[0m\u001b[1;36m4\u001b[0m\u001b[1;33m,\u001b[0m\u001b[1;36m1\u001b[0m\u001b[1;33m)\u001b[0m\u001b[1;33m\u001b[0m\u001b[1;33m\u001b[0m\u001b[0m\n\u001b[0m",
      "\u001b[1;31mTypeError\u001b[0m: sum() takes 2 positional arguments but 3 were given"
     ]
    }
   ],
   "source": [
    "a.sum(4,1)"
   ]
  },
  {
   "cell_type": "code",
   "execution_count": null,
   "metadata": {},
   "outputs": [],
   "source": []
  }
 ],
 "metadata": {
  "kernelspec": {
   "display_name": "Python 3",
   "language": "python",
   "name": "python3"
  },
  "language_info": {
   "codemirror_mode": {
    "name": "ipython",
    "version": 3
   },
   "file_extension": ".py",
   "mimetype": "text/x-python",
   "name": "python",
   "nbconvert_exporter": "python",
   "pygments_lexer": "ipython3",
   "version": "3.6.8"
  }
 },
 "nbformat": 4,
 "nbformat_minor": 2
}
