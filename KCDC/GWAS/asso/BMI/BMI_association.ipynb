{
 "cells": [
  {
   "cell_type": "code",
   "execution_count": 116,
   "metadata": {},
   "outputs": [
    {
     "data": {
      "text/plain": [
       "'\\nBMI association 20190820\\n\\nKCHIP 136K\\n\\nDM noDM for V1, V2\\n'"
      ]
     },
     "execution_count": 116,
     "metadata": {},
     "output_type": "execute_result"
    }
   ],
   "source": [
    "'''\n",
    "BMI association 20190820\n",
    "\n",
    "KCHIP 136K\n",
    "\n",
    "DM noDM for V1, V2\n",
    "\n",
    "\n",
    "ipython nbconvert notebook.ipynb --to script\n",
    "\n",
    "'''"
   ]
  },
  {
   "cell_type": "code",
   "execution_count": 145,
   "metadata": {},
   "outputs": [],
   "source": [
    "import glob, os,gzip\n"
   ]
  },
  {
   "cell_type": "code",
   "execution_count": 2,
   "metadata": {},
   "outputs": [],
   "source": [
    "#function \n",
    "def fileRead(fileIn):\n",
    "    fileIO = open(fileIn,'r')\n",
    "    InData = [f.replace('/r','').replace('\\n',\"\").replace('\\t',' ') for f in fileIO]\n",
    "    \n",
    "    fileIO.close()\n",
    "    return InData\n",
    "\n",
    "def make_dir(path):\n",
    "    if not os.path.exists(path):\n",
    "        os.makedirs(path)\n",
    "\n",
    "def gzRead(fileIn):\n",
    "\t\n",
    "\t\n",
    "\tfileIO = gzip.open(fileIn, 'r')\n",
    "\tinData = [r.replace('\\r', '').replace('\\n', '') for r in fileIO]\n",
    "\t\n",
    "\treturn inData"
   ]
  },
  {
   "cell_type": "code",
   "execution_count": 2,
   "metadata": {},
   "outputs": [],
   "source": [
    "def merge_asso(version,chunks,traitDir,mergeDir,phenotype,concept):\n",
    "    print(\"merge_asso...\\n\")\n",
    "    mergeOut = mergeDir + phenotype+'_'+version+'_'+concept+\".txt\"\n",
    "    with open(mergeOut,'w') as mergeWrite:\n",
    "        for i,chunk in enumerate(chunks):\n",
    "            epactsIn = traitDir + chunk + \"_\" +version+\"_q.linear_\"+phenotype+\"_\"+concept+\".epacts.gz\" \n",
    "            if i == 0 :\n",
    "                mergeData = gzRead(epactsIn)\n",
    "                mergeWrite.write(\"\\n\".join(mergeData[0:])+\"\\n\")\n",
    "                \n",
    "            if os.path.isfile(epactsIn):\n",
    "                mergeData = gzRead(epactsIn)\n",
    "                mergeWrite.write(\"\\n\".join(mergeData[1:])+\"\\n\")\n",
    "            else:\n",
    "                os.system(\"rm -rf \" +mergeOut)\n",
    "                break\n"
   ]
  },
  {
   "cell_type": "code",
   "execution_count": 4,
   "metadata": {},
   "outputs": [],
   "source": [
    "def make_assoSh(version,pedIn,chunksSplit,traitDir,shDir,phenotype,concept,vcfDir):\n",
    "    for region_list in chunksSplit:\n",
    "        region = region_list[0].replace(\"chr\",\"\")+\":\"+region_list[1]+\"-\"+region_list[2]\n",
    "        vcfData = vcfDir + region_list[0]+ \"_\"+region_list[1] +\"_\"+region_list[2]+\"_\"+version+\"_annoINFO_filINFO0.8.vcf.gz\"\n",
    "        runType = \"_q.linear_\" + phenotype+\"_\"+concept\n",
    "        \n",
    "        assoOut = vcfData.replace(vcfDir,traitDir).replace(\"_annoINFO_filINFO0.8.vcf.gz\",runType)\n",
    "        shOut = vcfData.replace(vcfDir,shDir).replace(\"_annoINFO_filINFO0.8.vcf.gz\",runType + \"_assoEPACTs.sh\")\n",
    "\n",
    "        \n",
    "        with open(shOut, 'w') as shWrite:\n",
    "            shWrite.write(\"epacts-single --vcf \"+ vcfData + \" --ped \" + pedIn +\n",
    "                          \" --pheno \"+ phenotype + \" --test q.linear --run 8 --field DS --min-mac 5 -min-callrate 0.95 -no-plot\"+\n",
    "                          \" --region \" + region +\n",
    "                           \" --missing NA --out \"+ assoOut + \" \\n\")"
   ]
  },
  {
   "cell_type": "code",
   "execution_count": 2,
   "metadata": {},
   "outputs": [
    {
     "ename": "SyntaxError",
     "evalue": "positional argument follows keyword argument (<ipython-input-2-cfceff99f89c>, line 34)",
     "output_type": "error",
     "traceback": [
      "\u001b[1;36m  File \u001b[1;32m\"<ipython-input-2-cfceff99f89c>\"\u001b[1;36m, line \u001b[1;32m34\u001b[0m\n\u001b[1;33m    make_assoSh(version=\"V1\",pedIn,chunkSplit,traitDir,shDir,pedIn,phenotype,concept,vcfDir)\u001b[0m\n\u001b[1;37m                            ^\u001b[0m\n\u001b[1;31mSyntaxError\u001b[0m\u001b[1;31m:\u001b[0m positional argument follows keyword argument\n"
     ]
    }
   ],
   "source": [
    "def main():\n",
    "    wdir = \"/DATA/smkim/KCHIP_130K/BMI_asso/\"\n",
    "    #wdir = os.getcwd().replace('\\\\','/')\n",
    "    vcfDir = \"/LaCie/ghyoon/OAS/\"\n",
    "    outDir = wdir+\"RESULTs/\"\n",
    "    inDir = wdir+\"INPUTs/\"\n",
    "    scriptDir = wdir+ \"SCRIPTs/\"\n",
    "    #vcf file = chr1_999999_999999_V1_annoINFO_fileINFO0.8.vcf.gz\n",
    "    DM = \"KCHIP130K_BMI_adj_DM_20190820\"\n",
    "    noDM = \"KCHIP130K_BMI_adj_noDM_20190820\"\n",
    "    Chunk = inDir+\"imputation.IMPUTE4.POS.50K_20181114_Final.txt\"\n",
    "    \n",
    "    \n",
    "    phenotype = \"bmi_inv\"\n",
    "    \n",
    "    \n",
    "    Ori_chunksfile = [f.split(\" \") for f in fileRead(Chunk)]\n",
    "    chunks = [r[1] for r in Ori_chunksfile[1:]]\n",
    "    chunksSplit = [r.split(\"_\") for r in chunks]\n",
    "    \n",
    "    versions = [\"V1\",\"V2\"]\n",
    "    concepts = [\"DM\",\"noDM\"]\n",
    "    #concept = \"DM\"\n",
    "    \n",
    "    #traitDir = outDir+\"assoRESULTs/\"+concept+phenotype+\"/\"\n",
    "#    make_dir(traitDir)\n",
    "    shDir = scriptDir+\"assoQT_\"+phenotype+\"/\"\n",
    "#    make_dir(shDir)\n",
    "    \n",
    "    \n",
    "    \n",
    "#    pedfile = \"KCHIP130K_BMI_adj_\"+concept+\"_20190820\"\n",
    "#    pedIn = inDir + pedfile\n",
    "    \n",
    "    \n",
    "#    make_assoSh(version=\"V1\",pedIn,chunksSplit,traitDir,shDir,phenotype,concept,vcfDir)\n",
    "    \n",
    "    mergeDir = outDir + \"assoMERGEs/\"\n",
    "    make_dir(mergeDir)\n",
    "\n",
    "    for version in versions:\n",
    "        for concept in concepts:\n",
    "            traitDir = outDir+\"assoRESULTs/\"+version+\"_\"+concept+\"_\"+phenotype + \"/\"\n",
    "            merge_asso(version,chunks,traitDir,mergeDir,phenotype,concept)\n",
    "\n",
    "            \n",
    "main()\n"
   ]
  }
 ],
 "metadata": {
  "kernelspec": {
   "display_name": "Python 3",
   "language": "python",
   "name": "python3"
  },
  "language_info": {
   "codemirror_mode": {
    "name": "ipython",
    "version": 3
   },
   "file_extension": ".py",
   "mimetype": "text/x-python",
   "name": "python",
   "nbconvert_exporter": "python",
   "pygments_lexer": "ipython3",
   "version": "3.6.8"
  }
 },
 "nbformat": 4,
 "nbformat_minor": 2
}
