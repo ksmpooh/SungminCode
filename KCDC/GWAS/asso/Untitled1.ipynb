{
 "cells": [
  {
   "cell_type": "code",
   "execution_count": 3,
   "metadata": {},
   "outputs": [],
   "source": [
    "#association"
   ]
  },
  {
   "cell_type": "code",
   "execution_count": 7,
   "metadata": {},
   "outputs": [],
   "source": [
    "import os,glob,gzip\n",
    "import pandas as pd"
   ]
  },
  {
   "cell_type": "code",
   "execution_count": 8,
   "metadata": {},
   "outputs": [
    {
     "ename": "NameError",
     "evalue": "name 'w' is not defined",
     "output_type": "error",
     "traceback": [
      "\u001b[1;31m---------------------------------------------------------------------------\u001b[0m",
      "\u001b[1;31mNameError\u001b[0m                                 Traceback (most recent call last)",
      "\u001b[1;32m<ipython-input-8-03e257465a6f>\u001b[0m in \u001b[0;36m<module>\u001b[1;34m\u001b[0m\n\u001b[0;32m      3\u001b[0m \u001b[0mvcfDir\u001b[0m \u001b[1;33m=\u001b[0m \u001b[1;34m\"/LaCie/ghyoon/OAS/\"\u001b[0m\u001b[1;33m\u001b[0m\u001b[1;33m\u001b[0m\u001b[0m\n\u001b[0;32m      4\u001b[0m \u001b[0moutdir\u001b[0m \u001b[1;33m=\u001b[0m  \u001b[0mwDir\u001b[0m \u001b[1;33m+\u001b[0m \u001b[1;34m\"RESULTs/\"\u001b[0m\u001b[1;33m\u001b[0m\u001b[1;33m\u001b[0m\u001b[0m\n\u001b[1;32m----> 5\u001b[1;33m \u001b[0minDir\u001b[0m \u001b[1;33m=\u001b[0m \u001b[0mw\u001b[0m\u001b[1;33m\u001b[0m\u001b[1;33m\u001b[0m\u001b[0m\n\u001b[0m",
      "\u001b[1;31mNameError\u001b[0m: name 'w' is not defined"
     ]
    }
   ],
   "source": [
    "#dir\n",
    "wDir = \"/DATA/smkim/KCHIP_130K/BMI_asso/\"\n",
    "vcfDir = \"/LaCie/ghyoon/OAS/\"\n",
    "outdir =  wDir + \"RESULTs/\"\n",
    "inDir = wDir + \"INPUTs/\"\n",
    "scriptDir = wDir +\"SCRIPTs/\"\n",
    "versions = [\"V1\",\"V2\"]\n",
    "concepts = []"
   ]
  },
  {
   "cell_type": "code",
   "execution_count": null,
   "metadata": {},
   "outputs": [],
   "source": [
    "def fileRead(fileIn):\n",
    "    fileIO = open(fileIn,'r')\n",
    "    inData = [f.replace(\"\\t\",\"\").replace(\"\\n\",\"\").replace(\"\\r\",\"\") for f in fileIO]\n",
    "    \n",
    "    fileIO.close()\n",
    "    return InData\n",
    "def make_dir(path):\n",
    "    if not os.path.exists(path):\n",
    "        os.makedirs(path)\n",
    "        \n",
    "def gzRead(fileIn)\n"
   ]
  },
  {
   "cell_type": "code",
   "execution_count": null,
   "metadata": {},
   "outputs": [],
   "source": [
    "#dir\n",
    "vcfDir\n",
    "outdir = \n",
    "inDir =\n",
    "wDir = "
   ]
  }
 ],
 "metadata": {
  "kernelspec": {
   "display_name": "Python 3",
   "language": "python",
   "name": "python3"
  },
  "language_info": {
   "codemirror_mode": {
    "name": "ipython",
    "version": 3
   },
   "file_extension": ".py",
   "mimetype": "text/x-python",
   "name": "python",
   "nbconvert_exporter": "python",
   "pygments_lexer": "ipython3",
   "version": "3.6.8"
  }
 },
 "nbformat": 4,
 "nbformat_minor": 2
}
