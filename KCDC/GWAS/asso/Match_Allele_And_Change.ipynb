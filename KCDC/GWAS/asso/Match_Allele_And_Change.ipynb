{
 "cells": [
  {
   "cell_type": "code",
   "execution_count": 2,
   "metadata": {},
   "outputs": [
    {
     "data": {
      "text/plain": [
       "'\\nmatch allele and change allele\\nadd frq\\nand merge V1, V2\\nand match orginal file to add frq\\n'"
      ]
     },
     "execution_count": 2,
     "metadata": {},
     "output_type": "execute_result"
    }
   ],
   "source": [
    "'''\n",
    "match allele and change allele\n",
    "add frq\n",
    "and merge V1, V2\n",
    "and match orginal file to add frq\n",
    "'''"
   ]
  },
  {
   "cell_type": "code",
   "execution_count": 1,
   "metadata": {},
   "outputs": [],
   "source": [
    "import os,glob\n",
    "import pandas as pd"
   ]
  },
  {
   "cell_type": "code",
   "execution_count": 2,
   "metadata": {},
   "outputs": [],
   "source": [
    "def fileRead(fileIn):\n",
    "    f = open(fileIn,'r')\n",
    "    inData = [r.replace(\"\\r\",\"\").replace(\"\\n\",\"\").split(\"\\t\") for r in f]\n",
    "    return inData\n",
    "\n",
    "\n",
    "def fileWrite(writeData,outPath):\n",
    "    outFile = open(outPath,'w')\n",
    "    \n",
    "    for i in writeData:\n",
    "        j = \"\\t\".join(str(r) for r in  i )\n",
    "        outFile.write(j + '\\n')\n",
    "        \n",
    "    outFile.close()\n",
    "\n",
    "def makeDir(makePath):\n",
    "    if os.path.isdir(makePath):\n",
    "        print(\"already exist Directory\")\n",
    "        return\n",
    "    else:\n",
    "        os.makeDir(makePath)\n",
    "        print(\"make Dir\")\n",
    "    "
   ]
  },
  {
   "cell_type": "code",
   "execution_count": 3,
   "metadata": {},
   "outputs": [
    {
     "name": "stdout",
     "output_type": "stream",
     "text": [
      "already exist Directory\n"
     ]
    }
   ],
   "source": [
    "V1_file_list = glob.glob(\"C:/Users/user/Desktop/KCDC/BMI_association/freq/*V1*\")\n",
    "V2_file_list = glob.glob(\"C:/Users/user/Desktop/KCDC/BMI_association/freq/*V2*\")\n",
    "outDir = \"C:/Users/user/Desktop/KCDC/BMI_association/freq/outDir/\"\n",
    "makeDir(outDir)"
   ]
  },
  {
   "cell_type": "code",
   "execution_count": null,
   "metadata": {},
   "outputs": [],
   "source": []
  },
  {
   "cell_type": "code",
   "execution_count": 4,
   "metadata": {},
   "outputs": [],
   "source": [
    "def checkAlleleAndChange(file_list):\n",
    "    for file in file_list:\n",
    "        df = fileRead(file)\n",
    "        outpath = file.replace(\"C:/Users/user/Desktop/KCDC/BMI_association/freq\\\\\",\"\").replace(\"20190102\",\"20190902\")\n",
    "                           \n",
    "        df[0].append(\"Frq\")\n",
    "        df[0].append(\"OX\")\n",
    "        for i in range(1,len(df)+1):\n",
    "            try:\n",
    "                if df[i][1].split(\"/\")[1] == df[i][3]:\n",
    "                    df[i].append(df[i][5])\n",
    "                    df[i].append('TRUE')\n",
    "                else:\n",
    "                    df[i].append(1-float(df[i][5]))\n",
    "                    df[i].append('FALSE')\n",
    "            except IndexError as error:\n",
    "                break\n",
    "        \n"
   ]
  },
  {
   "cell_type": "code",
   "execution_count": 5,
   "metadata": {},
   "outputs": [],
   "source": [
    "def merge(file_list, concept):\n",
    "    df = pd.DataFrame()\n",
    "    for file in file_list:\n",
    "        df1 = pd.read_csv(file,delim_whitespace = True)\n",
    "        df = pd.concat([df,df1])\n",
    "    df.to_csv(outDir + \"merge_\"+concept+\".txt\",index = False,sep = '\\t',quotechar = \"\\\"\")\n"
   ]
  },
  {
   "cell_type": "code",
   "execution_count": 6,
   "metadata": {},
   "outputs": [],
   "source": [
    "fre_V1_list = glob.glob(\"c:/Users/user/Desktop/KCDC/BMI_association/freq/outDir/*V1*\")\n",
    "fre_V2_list = glob.glob(\"c:/Users/user/Desktop/KCDC/BMI_association/freq/outDir/*V2*\")"
   ]
  },
  {
   "cell_type": "code",
   "execution_count": null,
   "metadata": {},
   "outputs": [],
   "source": []
  },
  {
   "cell_type": "code",
   "execution_count": 7,
   "metadata": {},
   "outputs": [],
   "source": [
    "#merge(fre_V2_list,\"V2\")\n"
   ]
  },
  {
   "cell_type": "code",
   "execution_count": 8,
   "metadata": {},
   "outputs": [],
   "source": [
    "#checkAlleleAndChange(V1_file_list)\n",
    "#checkAlleleAndChange(V2_file_list)"
   ]
  },
  {
   "cell_type": "code",
   "execution_count": 9,
   "metadata": {},
   "outputs": [
    {
     "data": {
      "text/plain": [
       "'\\nadd frq from frq merge data to meta form data\\n'"
      ]
     },
     "execution_count": 9,
     "metadata": {},
     "output_type": "execute_result"
    }
   ],
   "source": [
    "'''\n",
    "add frq from frq merge data to meta form data\n",
    "'''"
   ]
  },
  {
   "cell_type": "code",
   "execution_count": 10,
   "metadata": {},
   "outputs": [],
   "source": [
    "meta = fileRead('c:/Users/user/Desktop/KCDC/BMI_association/Meta/Meta_bmi_v1_dm.txt')"
   ]
  },
  {
   "cell_type": "code",
   "execution_count": 11,
   "metadata": {},
   "outputs": [],
   "source": [
    "#fre = fileRead(outDir + 'merge_V1.txt')\n",
    "fre = pd.read_csv(outDir + \"merge_V1.txt\",delim_whitespace = True)"
   ]
  },
  {
   "cell_type": "code",
   "execution_count": 14,
   "metadata": {},
   "outputs": [
    {
     "data": {
      "text/html": [
       "<div>\n",
       "<style scoped>\n",
       "    .dataframe tbody tr th:only-of-type {\n",
       "        vertical-align: middle;\n",
       "    }\n",
       "\n",
       "    .dataframe tbody tr th {\n",
       "        vertical-align: top;\n",
       "    }\n",
       "\n",
       "    .dataframe thead th {\n",
       "        text-align: right;\n",
       "    }\n",
       "</style>\n",
       "<table border=\"1\" class=\"dataframe\">\n",
       "  <thead>\n",
       "    <tr style=\"text-align: right;\">\n",
       "      <th></th>\n",
       "      <th>CHR</th>\n",
       "      <th>SNP</th>\n",
       "      <th>POS</th>\n",
       "      <th>A1</th>\n",
       "      <th>A2</th>\n",
       "      <th>AF</th>\n",
       "      <th>NCHROBS</th>\n",
       "      <th>Frq</th>\n",
       "      <th>OX</th>\n",
       "    </tr>\n",
       "  </thead>\n",
       "  <tbody>\n",
       "    <tr>\n",
       "      <th>1</th>\n",
       "      <td>10</td>\n",
       "      <td>10:65087_T/C</td>\n",
       "      <td>65087</td>\n",
       "      <td>C</td>\n",
       "      <td>T</td>\n",
       "      <td>0.224527</td>\n",
       "      <td>96572</td>\n",
       "      <td>0.224527</td>\n",
       "      <td>True</td>\n",
       "    </tr>\n",
       "    <tr>\n",
       "      <th>2</th>\n",
       "      <td>10</td>\n",
       "      <td>10:65878_C/G</td>\n",
       "      <td>65878</td>\n",
       "      <td>G</td>\n",
       "      <td>C</td>\n",
       "      <td>0.384822</td>\n",
       "      <td>96572</td>\n",
       "      <td>0.384822</td>\n",
       "      <td>True</td>\n",
       "    </tr>\n",
       "  </tbody>\n",
       "</table>\n",
       "</div>"
      ],
      "text/plain": [
       "   CHR           SNP    POS A1 A2        AF  NCHROBS       Frq    OX\n",
       "1   10  10:65087_T/C  65087  C  T  0.224527    96572  0.224527  True\n",
       "2   10  10:65878_C/G  65878  G  C  0.384822    96572  0.384822  True"
      ]
     },
     "execution_count": 14,
     "metadata": {},
     "output_type": "execute_result"
    }
   ],
   "source": [
    "fre[1:3]"
   ]
  },
  {
   "cell_type": "code",
   "execution_count": null,
   "metadata": {},
   "outputs": [],
   "source": []
  },
  {
   "cell_type": "code",
   "execution_count": 25,
   "metadata": {},
   "outputs": [
    {
     "name": "stdout",
     "output_type": "stream",
     "text": [
      "C/A\n",
      "G/C\n",
      "['C', 'A']\n",
      "['G', 'C']\n",
      "C\n",
      "G\n",
      "['1:61822', 'C/A']\n",
      "['1:70594', 'G/C']\n",
      "1:61822_C/A\n",
      "1:70594_G/C\n"
     ]
    }
   ],
   "source": [
    "for i in meta[1:3]:\n",
    "    print(i[0].split(\"_\")[1])\n",
    "for i in meta[1:3]:\n",
    "    print(i[0].split(\"_\")[1].split(\"/\"))\n",
    "for i in meta[1:3]:\n",
    "    print(i[0].split(\"_\")[1].split(\"/\")[0])\n",
    "for i in meta[1:3]:\n",
    "    print(i[0].split(\"_\")[0:2])\n",
    "for i in meta[1:3]:\n",
    "    print(\"_\".join(i[0].split(\"_\")[0:2]))\n",
    "    a = \"_\".join(i[0].split(\"_\")[0:2])"
   ]
  },
  {
   "cell_type": "code",
   "execution_count": 26,
   "metadata": {},
   "outputs": [
    {
     "data": {
      "text/plain": [
       "'1:70594_G/C'"
      ]
     },
     "execution_count": 26,
     "metadata": {},
     "output_type": "execute_result"
    }
   ],
   "source": [
    "a"
   ]
  },
  {
   "cell_type": "code",
   "execution_count": 38,
   "metadata": {},
   "outputs": [
    {
     "name": "stdout",
     "output_type": "stream",
     "text": [
      "         CHR          SNP    POS A1 A2        AF  NCHROBS       Frq    OX\n",
      "3832115    1  1:70594_G/C  70594  C  G  0.000559    96572  0.000559  True\n",
      "3832115    0.000559\n",
      "Name: Frq, dtype: float64\n",
      "3832115    0.000559\n",
      "Name: Frq, dtype: float64\n"
     ]
    }
   ],
   "source": [
    "print(fre.loc[fre['SNP']==a])\n",
    "print(fre.loc[fre['SNP']==a][\"Frq\"])\n",
    "print(fre.loc[fre['SNP']==a][\"Frq\"])"
   ]
  },
  {
   "cell_type": "code",
   "execution_count": null,
   "metadata": {},
   "outputs": [],
   "source": [
    "fre['SNP'].ipynb_checkpoints/"
   ]
  },
  {
   "cell_type": "code",
   "execution_count": 39,
   "metadata": {},
   "outputs": [],
   "source": [
    "b = []"
   ]
  },
  {
   "cell_type": "code",
   "execution_count": 41,
   "metadata": {},
   "outputs": [
    {
     "ename": "TypeError",
     "evalue": "string indices must be integers",
     "output_type": "error",
     "traceback": [
      "\u001b[1;31m---------------------------------------------------------------------------\u001b[0m",
      "\u001b[1;31mTypeError\u001b[0m                                 Traceback (most recent call last)",
      "\u001b[1;32m<ipython-input-41-1efa3e294e31>\u001b[0m in \u001b[0;36m<module>\u001b[1;34m\u001b[0m\n\u001b[1;32m----> 1\u001b[1;33m \u001b[0mb\u001b[0m\u001b[1;33m.\u001b[0m\u001b[0mappend\u001b[0m\u001b[1;33m(\u001b[0m\u001b[0mstr\u001b[0m\u001b[1;33m(\u001b[0m\u001b[0mfre\u001b[0m\u001b[1;33m.\u001b[0m\u001b[0mloc\u001b[0m\u001b[1;33m[\u001b[0m\u001b[0mfre\u001b[0m\u001b[1;33m[\u001b[0m\u001b[1;34m'SNP'\u001b[0m\u001b[1;33m]\u001b[0m\u001b[1;33m==\u001b[0m\u001b[0ma\u001b[0m\u001b[1;33m[\u001b[0m\u001b[1;34m\"Frq\"\u001b[0m\u001b[1;33m]\u001b[0m\u001b[1;33m]\u001b[0m\u001b[1;33m)\u001b[0m\u001b[1;33m)\u001b[0m\u001b[1;33m\u001b[0m\u001b[1;33m\u001b[0m\u001b[0m\n\u001b[0m",
      "\u001b[1;31mTypeError\u001b[0m: string indices must be integers"
     ]
    }
   ],
   "source": [
    "b.append(fre.loc[fre['SNP']==a[\"Frq\"]])"
   ]
  },
  {
   "cell_type": "code",
   "execution_count": null,
   "metadata": {},
   "outputs": [],
   "source": []
  }
 ],
 "metadata": {
  "kernelspec": {
   "display_name": "Python 3",
   "language": "python",
   "name": "python3"
  },
  "language_info": {
   "codemirror_mode": {
    "name": "ipython",
    "version": 3
   },
   "file_extension": ".py",
   "mimetype": "text/x-python",
   "name": "python",
   "nbconvert_exporter": "python",
   "pygments_lexer": "ipython3",
   "version": "3.6.8"
  }
 },
 "nbformat": 4,
 "nbformat_minor": 2
}
