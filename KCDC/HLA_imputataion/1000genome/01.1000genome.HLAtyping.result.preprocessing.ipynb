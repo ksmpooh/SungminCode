{
 "cells": [
  {
   "cell_type": "code",
   "execution_count": 1,
   "metadata": {},
   "outputs": [],
   "source": [
    "###### 1000 genome project phasing 3 HLA typing result preprocessing"
   ]
  },
  {
   "cell_type": "code",
   "execution_count": 56,
   "metadata": {},
   "outputs": [],
   "source": [
    "wdir = \"c:/Users/user/Desktop/KCDC/HLAimputation/1000genome/\""
   ]
  },
  {
   "cell_type": "code",
   "execution_count": 57,
   "metadata": {},
   "outputs": [],
   "source": [
    "df = open(wdir + \"HLAtyping.1000genomePhase3.rouph.txt\",\"r\")"
   ]
  },
  {
   "cell_type": "code",
   "execution_count": 58,
   "metadata": {},
   "outputs": [],
   "source": [
    "a = [i.replace(\"\\n\",\"\").replace(\"*\",\"\").replace(\"None\",\"0\").replace(\":\",\"\").split(\"\\t\") for i in df]"
   ]
  },
  {
   "cell_type": "code",
   "execution_count": 41,
   "metadata": {},
   "outputs": [
    {
     "data": {
      "text/plain": [
       "[['NA20320',\n",
       "  'NA20320',\n",
       "  '0',\n",
       "  '0',\n",
       "  '0',\n",
       "  '0',\n",
       "  '0',\n",
       "  '0',\n",
       "  '5301',\n",
       "  '5301',\n",
       "  '0401',\n",
       "  '0602',\n",
       "  '0',\n",
       "  '0',\n",
       "  '0',\n",
       "  '0',\n",
       "  '0',\n",
       "  '0',\n",
       "  '0501',\n",
       "  '0602',\n",
       "  '1201',\n",
       "  '1503']]"
      ]
     },
     "execution_count": 41,
     "metadata": {},
     "output_type": "execute_result"
    }
   ],
   "source": [
    "# * None 확인\n",
    "a[146:147]"
   ]
  },
  {
   "cell_type": "code",
   "execution_count": 42,
   "metadata": {},
   "outputs": [
    {
     "data": {
      "text/plain": [
       "['NA19038',\n",
       " 'NA19038',\n",
       " '0',\n",
       " '0',\n",
       " '0',\n",
       " '0',\n",
       " '2902',\n",
       " '7401',\n",
       " '15220',\n",
       " '3501',\n",
       " '0401',\n",
       " '1203',\n",
       " '0',\n",
       " '0',\n",
       " '0',\n",
       " '0',\n",
       " '0',\n",
       " '0',\n",
       " '0202',\n",
       " '0602',\n",
       " '0901',\n",
       " '1503']"
      ]
     },
     "execution_count": 42,
     "metadata": {},
     "output_type": "execute_result"
    }
   ],
   "source": [
    "# *확인\n",
    "a[412]"
   ]
  },
  {
   "cell_type": "code",
   "execution_count": 43,
   "metadata": {},
   "outputs": [
    {
     "data": {
      "text/plain": [
       "['NA19315',\n",
       " 'NA19315',\n",
       " '0',\n",
       " '0',\n",
       " '0',\n",
       " '0',\n",
       " '0101/04N/22N/32/34N/37',\n",
       " '0201',\n",
       " '5801',\n",
       " '4507',\n",
       " '0302',\n",
       " '1601',\n",
       " '0',\n",
       " '0',\n",
       " '0',\n",
       " '0',\n",
       " '0',\n",
       " '0',\n",
       " '0301',\n",
       " '0501',\n",
       " '1102',\n",
       " '1301']"
      ]
     },
     "execution_count": 43,
     "metadata": {},
     "output_type": "execute_result"
    }
   ],
   "source": [
    "# / 확인\n",
    "a[425]"
   ]
  },
  {
   "cell_type": "code",
   "execution_count": 46,
   "metadata": {},
   "outputs": [
    {
     "data": {
      "text/plain": [
       "['NA19315',\n",
       " 'NA19315',\n",
       " '0',\n",
       " '0',\n",
       " '0',\n",
       " '0',\n",
       " '0101/04N/22N/32/34N/37',\n",
       " '0201',\n",
       " '5801',\n",
       " '4507',\n",
       " '0302',\n",
       " '1601',\n",
       " '0',\n",
       " '0',\n",
       " '0',\n",
       " '0',\n",
       " '0',\n",
       " '0',\n",
       " '0301',\n",
       " '0501',\n",
       " '1102',\n",
       " '1301']"
      ]
     },
     "execution_count": 46,
     "metadata": {},
     "output_type": "execute_result"
    }
   ],
   "source": [
    "b = a[425]\n",
    "b"
   ]
  },
  {
   "cell_type": "code",
   "execution_count": 50,
   "metadata": {},
   "outputs": [
    {
     "name": "stdout",
     "output_type": "stream",
     "text": [
      "0101/04N/22N/32/34N/37\n",
      "0101\n"
     ]
    }
   ],
   "source": [
    "for j in b:\n",
    "    if \"/\" in j:\n",
    "        print(j)\n",
    "        print(j.split(\"/\")[0])"
   ]
  },
  {
   "cell_type": "code",
   "execution_count": 59,
   "metadata": {},
   "outputs": [],
   "source": [
    "a = [[j.split(\"/\")[0] if \"/\" in j else j for j in i ]for i in a] "
   ]
  },
  {
   "cell_type": "code",
   "execution_count": 60,
   "metadata": {},
   "outputs": [],
   "source": [
    "out = open(wdir + \"HLAtyping.1000genomePhase3.rouph.modify.txt\",\"w\")\n",
    "for i in a:\n",
    "    out.write('\\t'.join(str(s) for s in i)+'\\n')\n",
    "out.close()"
   ]
  },
  {
   "cell_type": "code",
   "execution_count": null,
   "metadata": {},
   "outputs": [],
   "source": []
  }
 ],
 "metadata": {
  "kernelspec": {
   "display_name": "Python 3",
   "language": "python",
   "name": "python3"
  },
  "language_info": {
   "codemirror_mode": {
    "name": "ipython",
    "version": 3
   },
   "file_extension": ".py",
   "mimetype": "text/x-python",
   "name": "python",
   "nbconvert_exporter": "python",
   "pygments_lexer": "ipython3",
   "version": "3.6.8"
  }
 },
 "nbformat": 4,
 "nbformat_minor": 2
}
