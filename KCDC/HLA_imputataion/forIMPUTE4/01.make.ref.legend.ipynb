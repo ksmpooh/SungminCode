{
 "cells": [
  {
   "cell_type": "code",
   "execution_count": 1,
   "metadata": {},
   "outputs": [],
   "source": [
    "######## ref allele for impute4"
   ]
  },
  {
   "cell_type": "code",
   "execution_count": 7,
   "metadata": {},
   "outputs": [],
   "source": [
    "#wdir = \"c:/Users/user/Desktop/KCDC/HLAimputation/IMPUTE4/Han.ref/\"\n",
    "wdir = \"c:/Users/user/Desktop/KCDC/HLAimputation/IMPUTE4/Pan.ref/\"\n"
   ]
  },
  {
   "cell_type": "code",
   "execution_count": 8,
   "metadata": {},
   "outputs": [
    {
     "ename": "SyntaxError",
     "evalue": "invalid syntax (<ipython-input-8-e0525fafe796>, line 2)",
     "output_type": "error",
     "traceback": [
      "\u001b[1;36m  File \u001b[1;32m\"<ipython-input-8-e0525fafe796>\"\u001b[1;36m, line \u001b[1;32m2\u001b[0m\n\u001b[1;33m    SNP_C_31347080_TG T G\u001b[0m\n\u001b[1;37m                      ^\u001b[0m\n\u001b[1;31mSyntaxError\u001b[0m\u001b[1;31m:\u001b[0m invalid syntax\n"
     ]
    }
   ],
   "source": [
    "SNP_A_30018780\n",
    "SNP_C_31347080_TG T G\n",
    "AA_A_83_30018759\n",
    "AA_A_77_30018741_D\n",
    "HLA_A_0101"
   ]
  },
  {
   "cell_type": "code",
   "execution_count": 9,
   "metadata": {},
   "outputs": [],
   "source": [
    "def filein(datain):\n",
    "    a = open(datain,'r')\n",
    "    return [s.replace(\"\\n\",\"\") for s in a]\n",
    "def fileout2(datain,path):\n",
    "    a = open(path,\"w\")\n",
    "    for i in datain:\n",
    "        a.write('\\t'.join(str(s) for s in i)+'\\n')\n",
    "    a.close()\n",
    "#    return a\n",
    "\n",
    "def fileout(datain,path):\n",
    "    a = open(path,\"w\")\n",
    "    for i in datain:\n",
    "        a.write(\"%s\\n\"%i)\n",
    "    a.close()\n",
    "\n",
    "\n",
    "def make_newID(ori):\n",
    "    out = []\n",
    "    trash = []\n",
    "    trash.append(\"id position a0 a1\")\n",
    "    out.append(\"id position a0 a1\")\n",
    "    for i,j in enumerate(ori[1:]):\n",
    "        chrom,ID,hg18,a1,a2,hg19,ref=j.split()\n",
    "        if 'SNP' in ID:\n",
    "            #SNP_A_30018780 aa aa\n",
    "            #SNP_C_31347080_TG P A\n",
    "            if len(ID.split(\"_\")) == 4:\n",
    "                out.append(\"%s:%s:A:P %s A P\"%(chrom,ID.replace(hg18,hg19),hg19))\n",
    "                #out.append(\"%s:%s:P:A %s P A\"%(chrom,ID.replace(hg18,hg19),hg19))\n",
    "            else:\n",
    "                out.append(\"%s:%s:%s:%s %s %s %s\"%(chrom,ID.replace(hg18,hg19),a2,a1,hg19,a2,a1))\n",
    "        elif 'AA' in ID:\n",
    "            #AA_A_83_30018759\n",
    "            #AA_A_77_30018741_D\n",
    "            if len(ID.split(\"_\")) == 5:\n",
    "                out.append(\"%s:%s:A:P %s A P\"%(chrom,ID.replace(hg18,hg19),hg19))\n",
    "                #out.append(\"%s:%s:P:A %s P A\"%(chrom,ID.replace(hg18,hg19),hg19))\n",
    "            else:\n",
    "                out.append(\"%s:%s:%s:%s %s %s %s\"%(chrom,ID.replace(hg18,hg19),a2,a1,hg19,a2,a1))\n",
    "        elif 'HLA' in ID:\n",
    "            out.append(\"%s:%s:A:P %s A P\"%(chrom,ID.replace(hg18,hg19),hg19))\n",
    "            #out.append(\"%s:%s:P:A %s P A\"%(chrom,ID.replace(hg18,hg19),hg19))\n",
    "        elif a1 == ref:\n",
    "            out.append(\"%s:%s:%s:%s %s %s %s\"%(chrom,hg19,a1,a2,hg19,a1,a2))\n",
    "            #continue\n",
    "        elif a2 == ref:\n",
    "            out.append(\"%s:%s:%s:%s %s %s %s\"%(chrom,hg19,a2,a1,hg19,a2,a1))\n",
    "            #continue\n",
    "        else:\n",
    "            trash.append(\"%s:%s:%s:%s %s %s %s\"%(chrom,hg19,a2,a1,hg19,a2,a1))\n",
    "    return out,trash\n",
    "\n",
    "def make_newID_PAN(ori):\n",
    "    out = []\n",
    "    trash = []\n",
    "    trash.append(\"id position a0 a1\")\n",
    "    out.append(\"id position a0 a1\")\n",
    "    for i,j in enumerate(ori[1:]):\n",
    "        #print(j)\n",
    "        chrom,ID,hg19,a1,a2,ref = j.split()\n",
    "        if 'SNP' in ID:\n",
    "            #SNP_A_30018780 aa aa\n",
    "            #SNP_C_31347080_TG P A\n",
    "            if len(ID.split(\"_\")) == 4:\n",
    "                out.append(\"%s:%s:A:P %s A P\"%(chrom,ID,hg19))\n",
    "                #out.append(\"%s:%s:P:A %s P A\"%(chrom,ID,hg19))\n",
    "            else:\n",
    "                out.append(\"%s:%s:%s:%s %s %s %s\"%(chrom,ID,a2,a1,hg19,a2,a1))\n",
    "        elif 'AA' in ID:\n",
    "            #AA_A_83_30018759\n",
    "            #AA_A_77_30018741_D\n",
    "            if len(ID.split(\"_\")) == 5:\n",
    "                out.append(\"%s:%s:A:P %s A P\"%(chrom,ID,hg19))\n",
    "                #out.append(\"%s:%s:P:A %s P A\"%(chrom,ID,hg19))\n",
    "            else:\n",
    "                out.append(\"%s:%s:%s:%s %s %s %s\"%(chrom,ID,a2,a1,hg19,a2,a1))\n",
    "        elif 'HLA' in ID:\n",
    "            out.append(\"%s:%s:A:P %s A P\"%(chrom,ID,hg19))\n",
    "            #out.append(\"%s:%s:P:A %s P A\"%(chrom,ID,hg19))\n",
    "        elif a1 == ref:\n",
    "            out.append(\"%s:%s:%s:%s %s %s %s\"%(chrom,ID,a1,a2,hg19,a1,a2))\n",
    "            #continue\n",
    "        elif a2 == ref:\n",
    "            out.append(\"%s:%s:%s:%s %s %s %s\"%(chrom,ID,a2,a1,hg19,a2,a1))\n",
    "            #continue\n",
    "        else:\n",
    "            trash.append(\"%s:%s:%s:%s %s %s %s\"%(chrom,ID,a2,a1,hg19,a2,a1))\n",
    "    return out,trash"
   ]
  },
  {
   "cell_type": "code",
   "execution_count": 10,
   "metadata": {},
   "outputs": [
    {
     "data": {
      "text/plain": [
       "['chr ID hg19 a1 a2 hg17 ref',\n",
       " '6 rs17671350 24898856 C T 25006835 T',\n",
       " '6 rs2817722 24899069 A G 25007048 G',\n",
       " '6 rs2817725 24901350 T C 25009329 C',\n",
       " '6 rs2747676 24913789 T G 25021768 G']"
      ]
     },
     "execution_count": 10,
     "metadata": {},
     "output_type": "execute_result"
    }
   ],
   "source": [
    "####HAN\n",
    "df = filein(wdir + 'ref.allele.txt')\n",
    "df[0:5]"
   ]
  },
  {
   "cell_type": "code",
   "execution_count": 11,
   "metadata": {},
   "outputs": [
    {
     "ename": "ValueError",
     "evalue": "too many values to unpack (expected 6)",
     "output_type": "error",
     "traceback": [
      "\u001b[1;31m---------------------------------------------------------------------------\u001b[0m",
      "\u001b[1;31mValueError\u001b[0m                                Traceback (most recent call last)",
      "\u001b[1;32m<ipython-input-11-955263235ae3>\u001b[0m in \u001b[0;36m<module>\u001b[1;34m\u001b[0m\n\u001b[1;32m----> 1\u001b[1;33m \u001b[0ma\u001b[0m\u001b[1;33m,\u001b[0m\u001b[0mb\u001b[0m\u001b[1;33m,\u001b[0m\u001b[0mc\u001b[0m\u001b[1;33m,\u001b[0m\u001b[0md\u001b[0m\u001b[1;33m,\u001b[0m\u001b[0me\u001b[0m\u001b[1;33m,\u001b[0m\u001b[0mf\u001b[0m \u001b[1;33m=\u001b[0m \u001b[0mdf\u001b[0m\u001b[1;33m[\u001b[0m\u001b[1;36m1\u001b[0m\u001b[1;33m]\u001b[0m\u001b[1;33m.\u001b[0m\u001b[0msplit\u001b[0m\u001b[1;33m(\u001b[0m\u001b[1;33m)\u001b[0m\u001b[1;33m\u001b[0m\u001b[1;33m\u001b[0m\u001b[0m\n\u001b[0m",
      "\u001b[1;31mValueError\u001b[0m: too many values to unpack (expected 6)"
     ]
    }
   ],
   "source": [
    "a,b,c,d,e,f = df[1].split()"
   ]
  },
  {
   "cell_type": "code",
   "execution_count": 12,
   "metadata": {},
   "outputs": [
    {
     "data": {
      "text/plain": [
       "['id position a0 a1',\n",
       " '6:25006835:T:C 25006835 T C',\n",
       " '6:25007048:G:A 25007048 G A',\n",
       " '6:25009329:C:T 25009329 C T',\n",
       " '6:25021768:G:T 25021768 G T']"
      ]
     },
     "execution_count": 12,
     "metadata": {},
     "output_type": "execute_result"
    }
   ],
   "source": [
    "out,trash = make_newID(df)\n",
    "#out,trash = make_newID_PAN(df)\n",
    "out[0:5]"
   ]
  },
  {
   "cell_type": "code",
   "execution_count": null,
   "metadata": {},
   "outputs": [],
   "source": []
  },
  {
   "cell_type": "code",
   "execution_count": 13,
   "metadata": {},
   "outputs": [],
   "source": [
    "fileout(out,wdir + \"Pan.legend\")\n",
    "#fileout(out,wdir + \"Han.legend\")"
   ]
  },
  {
   "cell_type": "code",
   "execution_count": null,
   "metadata": {},
   "outputs": [],
   "source": []
  },
  {
   "cell_type": "code",
   "execution_count": null,
   "metadata": {},
   "outputs": [],
   "source": []
  },
  {
   "cell_type": "code",
   "execution_count": null,
   "metadata": {},
   "outputs": [],
   "source": []
  },
  {
   "cell_type": "code",
   "execution_count": 78,
   "metadata": {},
   "outputs": [
    {
     "data": {
      "text/plain": [
       "True"
      ]
     },
     "execution_count": 78,
     "metadata": {},
     "output_type": "execute_result"
    }
   ],
   "source": [
    "a = 'SNP_C_31347080_TG'\n",
    "'SNP' in a"
   ]
  },
  {
   "cell_type": "code",
   "execution_count": null,
   "metadata": {},
   "outputs": [],
   "source": []
  }
 ],
 "metadata": {
  "kernelspec": {
   "display_name": "Python 3",
   "language": "python",
   "name": "python3"
  },
  "language_info": {
   "codemirror_mode": {
    "name": "ipython",
    "version": 3
   },
   "file_extension": ".py",
   "mimetype": "text/x-python",
   "name": "python",
   "nbconvert_exporter": "python",
   "pygments_lexer": "ipython3",
   "version": "3.6.8"
  }
 },
 "nbformat": 4,
 "nbformat_minor": 2
}
