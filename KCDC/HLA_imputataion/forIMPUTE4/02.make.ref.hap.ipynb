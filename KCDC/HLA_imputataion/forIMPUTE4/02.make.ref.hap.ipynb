{
 "cells": [
  {
   "cell_type": "code",
   "execution_count": 1,
   "metadata": {},
   "outputs": [],
   "source": [
    "##### make ref hap for HAN\n",
    " \n",
    "wdir = \"c:/Users/user/Desktop/KCDC/HLAimputation/IMPUTE4/HAN.ref/\"\n",
    "#wdir = \"c:/Users/user/Desktop/KCDC/HLAimputation/IMPUTE4/PAN.ref/\""
   ]
  },
  {
   "cell_type": "code",
   "execution_count": null,
   "metadata": {},
   "outputs": [],
   "source": []
  },
  {
   "cell_type": "code",
   "execution_count": 7,
   "metadata": {},
   "outputs": [],
   "source": [
    "def filein(datain):\n",
    "    a = open(datain,'r')\n",
    "    return [s.replace(\"\\n\",\"\") for s in a]\n",
    "def fileout2(datain,path):\n",
    "    a = open(path,\"w\")\n",
    "    for i in datain:\n",
    "        a.write('\\t'.join(str(s) for s in i)+'\\n')\n",
    "    a.close()\n",
    "#    return a\n",
    "\n",
    "def fileout(datain,path):\n",
    "    a = open(path,\"w\")\n",
    "    for i in datain:\n",
    "        a.write(\"%s\\n\"%i)\n",
    "    a.close()\n"
   ]
  },
  {
   "cell_type": "code",
   "execution_count": 5,
   "metadata": {},
   "outputs": [
    {
     "data": {
      "text/plain": [
       "['id position a0 a1',\n",
       " '6:24898856:T:C 24898856 T C',\n",
       " '6:24899069:G:A 24899069 G A',\n",
       " '6:24901350:C:T 24901350 C T',\n",
       " '6:24913789:G:T 24913789 G T']"
      ]
     },
     "execution_count": 5,
     "metadata": {},
     "output_type": "execute_result"
    }
   ],
   "source": [
    "df = filein(wdir + 'Han.legend')\n",
    "#df = filein(wdir + 'Pan.legend')\n",
    "df[0:5]"
   ]
  },
  {
   "cell_type": "code",
   "execution_count": 6,
   "metadata": {},
   "outputs": [],
   "source": [
    "def main():\n",
    "    phased = open(wdir + 'HAN.MHC.reference.panel.fixed.bgl.phased',\"r\")\n",
    "    #phased =open(wdir + 'Merge_panel.bgl.phased',\"r\")\n",
    "    count = 1\n",
    "    pedigree = phased.readline()\n",
    "    pID = phased.readline()\n",
    "    ncol = len(pID.split()) - 2\n",
    "    #while 1:\n",
    "     #   i = phased.readline()\n",
    "      #  if not i:\n",
    "       #     break\n",
    "        #print(i.split()[2:5])\n",
    "        #print(ncol)\n",
    "    #with open(wdir + \"Han.hap\",\"w\") as out:    \n",
    "    with open(wdir + \"Pan.hap\",\"w\") as out:\n",
    "        for ref in df[1:]:\n",
    "            i = phased.readline()\n",
    "            \n",
    "            ID,postion,a0,a1 = ref.split()\n",
    "            for sample_count,allele in enumerate(i.split()[2:]):\n",
    "                if allele == a0:\n",
    "                    out.write(\"0\")\n",
    "                else:\n",
    "                    out.write(\"1\")\n",
    "                if sample_count < ncol - 1:\n",
    "                    out.write(\" \")\n",
    "            out.write(\"\\n\")\n",
    "            #for allele in i.split()[2:]:\n",
    "                    #print(allele)\n",
    "            #out.write\n",
    "main()"
   ]
  },
  {
   "cell_type": "code",
   "execution_count": 16,
   "metadata": {},
   "outputs": [
    {
     "data": {
      "text/plain": [
       "2"
      ]
     },
     "execution_count": 16,
     "metadata": {},
     "output_type": "execute_result"
    }
   ],
   "source": [
    "a = \"CT\"\n",
    "len(a)"
   ]
  },
  {
   "cell_type": "code",
   "execution_count": 25,
   "metadata": {},
   "outputs": [
    {
     "name": "stdout",
     "output_type": "stream",
     "text": [
      "0 3\n",
      "1 3\n",
      "2 3\n"
     ]
    }
   ],
   "source": [
    "for i,j in enumerate([3,3,3]):\n",
    "    print(i,j)\n"
   ]
  },
  {
   "cell_type": "code",
   "execution_count": null,
   "metadata": {},
   "outputs": [],
   "source": []
  }
 ],
 "metadata": {
  "kernelspec": {
   "display_name": "Python 3",
   "language": "python",
   "name": "python3"
  },
  "language_info": {
   "codemirror_mode": {
    "name": "ipython",
    "version": 3
   },
   "file_extension": ".py",
   "mimetype": "text/x-python",
   "name": "python",
   "nbconvert_exporter": "python",
   "pygments_lexer": "ipython3",
   "version": "3.6.8"
  }
 },
 "nbformat": 4,
 "nbformat_minor": 2
}
