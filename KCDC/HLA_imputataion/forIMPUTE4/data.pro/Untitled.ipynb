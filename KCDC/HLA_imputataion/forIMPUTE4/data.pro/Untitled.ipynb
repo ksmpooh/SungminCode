{
 "cells": [
  {
   "cell_type": "code",
   "execution_count": 1,
   "id": "floating-adventure",
   "metadata": {},
   "outputs": [],
   "source": [
    "### gen file NA result preprocessing\n",
    "\n",
    "#wdir = \"/Users/ksmpooh/Desktop/KCDC/HLAimputation/IMPUTE4/gen.calling.test/\"\n",
    "#6:HLA_A_01:A:P 6:HLA_A_01:A:P 29911991 A P 1.00000 0.00000 0.00000"
   ]
  },
  {
   "cell_type": "code",
   "execution_count": 8,
   "id": "formal-latest",
   "metadata": {},
   "outputs": [],
   "source": [
    "import os,glob\n",
    "wDir = \"/Users/ksmpooh/Desktop/KCDC/HLAimputation/IMPUTE4/gen.calling.test/\"\n",
    "\n",
    "fileName =\"test.pro.gen\"\n"
   ]
  },
  {
   "cell_type": "code",
   "execution_count": 41,
   "id": "altered-trinidad",
   "metadata": {},
   "outputs": [],
   "source": [
    "def sampleData(dataIn):\n",
    "    sample = open(dataIn,\"r\")\n",
    "    index1 = sample.readline()\n",
    "    index2 = sample.readline()\n",
    "    return [a.replace(\"\\n\",\"\").split(\" \")[0] for a in sample]\n",
    "\n",
    "def main():\n",
    "    dataIn = open(wDir + fileName,\"r\")\n",
    "    sample = sampleData(wDir + \"test.sample\")\n",
    "    window = 3\n",
    "    out = open(wDir + \"change.0.5.gen\",\"w\")\n",
    "    while 1:\n",
    "        a = dataIn.readline()\n",
    "        if not a:\n",
    "            break\n",
    "        a = a.split()\n",
    "        tmp = []\n",
    "        for i in range(1,6+1):\n",
    "            out.write(a.pop(0)+\" \")\n",
    "            \n",
    "        for b in a[0:5]:\n",
    "            tmp.append(b)\n",
    "        \n",
    "        \n",
    "        "
   ]
  },
  {
   "cell_type": "code",
   "execution_count": 44,
   "id": "european-caribbean",
   "metadata": {},
   "outputs": [
    {
     "data": {
      "text/plain": [
       "['6:HLA_A_01:A:P',\n",
       " '6:HLA_A_01:A:P',\n",
       " '29911991',\n",
       " 'A',\n",
       " 'P',\n",
       " '1.00000',\n",
       " '0.00000',\n",
       " '0.00000',\n",
       " '1.00000',\n",
       " '0.00000']"
      ]
     },
     "execution_count": 44,
     "metadata": {},
     "output_type": "execute_result"
    }
   ],
   "source": [
    "dataIn = open(wDir + fileName,\"r\")\n",
    "a = dataIn.readline()\n",
    "b = a.split()\n",
    "b[0:10]"
   ]
  },
  {
   "cell_type": "code",
   "execution_count": 66,
   "id": "adjustable-pipeline",
   "metadata": {},
   "outputs": [
    {
     "name": "stdout",
     "output_type": "stream",
     "text": [
      "False\n",
      "True\n",
      "True\n",
      "1.00\n",
      "0.5\n",
      "0.0001\n",
      "count : 2\n",
      "index : 0\n"
     ]
    }
   ],
   "source": [
    "a = [\"1\",\"1.0\",\"1.00\",\"0.5\",\"0.500\",\"0.0001\"]\n",
    "print(a[1] == a[0])\n",
    "print(float(a[1]) == float(a[0]))\n",
    "print(float(a[3]) == float(a[4]))\n",
    "print(max(a))\n",
    "b = [\"0.5\",\"0.500\",\"0.0001\"]\n",
    "b = [float(s) for s in b]\n",
    "print(max(b))\n",
    "print(min(b))\n",
    "print(\"count : \" + str(b.count(0.5)))\n",
    "print(\"index : \" + str(b.index(0.5)))\n"
   ]
  },
  {
   "cell_type": "code",
   "execution_count": 77,
   "id": "union-sociology",
   "metadata": {},
   "outputs": [
    {
     "name": "stdout",
     "output_type": "stream",
     "text": [
      "[1, 2, 3, 4]\n"
     ]
    }
   ],
   "source": [
    "a = [1,2,3,4,5]\n",
    "a.pop(4)\n",
    "print(a)"
   ]
  },
  {
   "cell_type": "code",
   "execution_count": null,
   "id": "combined-closure",
   "metadata": {},
   "outputs": [],
   "source": []
  },
  {
   "cell_type": "code",
   "execution_count": null,
   "id": "danish-thirty",
   "metadata": {},
   "outputs": [],
   "source": []
  }
 ],
 "metadata": {
  "kernelspec": {
   "display_name": "Python 3",
   "language": "python",
   "name": "python3"
  },
  "language_info": {
   "codemirror_mode": {
    "name": "ipython",
    "version": 3
   },
   "file_extension": ".py",
   "mimetype": "text/x-python",
   "name": "python",
   "nbconvert_exporter": "python",
   "pygments_lexer": "ipython3",
   "version": "3.8.5"
  }
 },
 "nbformat": 4,
 "nbformat_minor": 5
}
