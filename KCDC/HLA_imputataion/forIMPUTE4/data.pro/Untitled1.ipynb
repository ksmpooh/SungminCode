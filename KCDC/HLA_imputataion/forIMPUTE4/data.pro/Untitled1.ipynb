{
 "cells": [
  {
   "cell_type": "code",
   "execution_count": 1,
   "id": "public-johnston",
   "metadata": {},
   "outputs": [],
   "source": [
    "###### 2021111  HLA imputation result procssing using .raw"
   ]
  },
  {
   "cell_type": "code",
   "execution_count": 8,
   "id": "dynamic-green",
   "metadata": {},
   "outputs": [],
   "source": [
    "import os, sys"
   ]
  },
  {
   "cell_type": "code",
   "execution_count": 9,
   "id": "unique-infection",
   "metadata": {},
   "outputs": [],
   "source": [
    "test = open(\"/Users/ksmpooh/Desktop/KCDC/HLAimputation/00.KOTRY_HLAimp/JG.KD_2019/JG.KD_afterHardcall_raw.raw\",\"r\")\n",
    "col = test.readline()\n",
    "row1 = test.readline()"
   ]
  },
  {
   "cell_type": "code",
   "execution_count": 10,
   "id": "scenic-palmer",
   "metadata": {},
   "outputs": [
    {
     "name": "stdout",
     "output_type": "stream",
     "text": [
      "['FID', 'IID', 'PAT', 'MAT', 'SEX', 'PHENOTYPE', '6:HLA_A_01:A:P_P', '6:HLA_A_02:A:P_P', '6:HLA_A_03:A:P_P', '6:HLA_A_11:A:P_P']\n",
      "6:HLA_A_01:A:P_P\n"
     ]
    }
   ],
   "source": [
    "col1 = col.split()\n",
    "col2 = col1[6:]\n",
    "#col2\n",
    "#row1\n",
    "print(col1[0:10])\n",
    "print(col1[6])\n"
   ]
  },
  {
   "cell_type": "code",
   "execution_count": 37,
   "id": "voluntary-witch",
   "metadata": {},
   "outputs": [],
   "source": [
    "#6:HLA_A_01:A:P_P\n",
    "def find_gene_index_td(colnames,genes):\n",
    "    digit = 2\n",
    "    colnames1 = colnames.split()\n",
    "    start_index=6\n",
    "    out = []\n",
    "    for gene in genes:\n",
    "        gene_index = []\n",
    "        gene_index.append(gene)\n",
    "        for i,preHLA in enumerate(colnames1[start_index:]):\n",
    "            #print(i,preHLA)\n",
    "            a,pretyping,b,c = preHLA.split(\":\")\n",
    "            HLA,imp_gene,typing = pretyping.split(\"_\")\n",
    "            if (imp_gene == gene) or (len(typing) != digit):\n",
    "                continue\n",
    "            else:\n",
    "                gene_index.append(i+start_index)\n",
    "        out.append(gene_index)\n",
    "    return out\n",
    "\n",
    "#6:HLA_A_01:A:P_P\n",
    "def find_gene_index_fd(colnames,genes):\n",
    "    digit = 4\n",
    "    colnames1 = colnames.split()\n",
    "    start_index=6\n",
    "    out = []\n",
    "    for gene in genes:\n",
    "        gene_index = []\n",
    "        gene_index.append(gene)\n",
    "        for i,preHLA in enumerate(colnames1[start_index:]):\n",
    "            #print(i,preHLA)\n",
    "            a,pretyping,b,c = preHLA.split(\":\")\n",
    "            HLA,imp_gene,typing = pretyping.split(\"_\")\n",
    "            if (imp_gene == gene) or (len(typing) < digit):\n",
    "                continue\n",
    "            else:\n",
    "                gene_index.append(i+start_index)\n",
    "        out.append(gene_index)\n",
    "    return out\n",
    "\n"
   ]
  },
  {
   "cell_type": "code",
   "execution_count": 39,
   "id": "moved-skiing",
   "metadata": {},
   "outputs": [
    {
     "name": "stdout",
     "output_type": "stream",
     "text": [
      "['B', 6, 7, 8, 9, 10, 11, 12, 13, 14, 15, 16, 17, 18, 19, 20, 21, 22, 23, 57, 58, 59, 60, 61, 62, 63, 64, 65, 66, 67, 68, 69, 70, 71, 72, 73, 74, 75, 76, 77, 78, 79, 80, 81, 82, 83, 84, 85, 86, 87, 88, 89, 90, 91, 92, 93, 94, 95, 96, 97, 98, 99, 100, 101, 102, 103, 104, 105, 106, 107, 108, 109, 110, 111, 112, 113, 114, 115, 116, 117, 118]\n",
      "['B', 119, 120, 121, 122, 123, 124, 125, 126, 127, 128, 129, 130, 131, 132, 133, 134, 135, 136, 137, 138, 139, 140, 141, 142, 143, 144, 145, 146, 147, 148, 149, 150, 151, 152, 153, 154, 155, 156, 157, 158, 159, 160, 161, 162, 163, 164, 165, 166, 167, 168, 169, 170, 171, 172, 273, 274, 275, 276, 277, 278, 279, 280, 281, 282, 283, 284, 285, 286, 287, 288, 289, 290, 291, 292, 293, 294, 295, 296, 297, 298, 299, 300, 301, 302, 303, 304, 305, 306, 307, 308, 309, 310, 311, 312, 313, 314, 315, 316, 317, 318, 319, 320, 321, 322, 323, 324, 325, 326, 327, 328, 329, 330, 331, 332, 333, 334, 335, 336, 337, 338, 339, 340, 341, 342, 343, 344, 345, 346, 347, 348, 349, 350, 351, 352, 353, 354, 355, 356, 357, 358, 359, 360, 361, 362, 363, 364, 365, 366, 367, 368, 369, 370, 371, 372, 373, 374, 375, 376, 377, 378, 379, 380, 381, 382, 383, 384, 385, 386, 387, 388, 389, 390, 391, 392, 393, 394, 395, 396, 397, 398, 399, 400, 401, 402, 403, 404, 405, 406, 407, 408, 409, 410, 411, 412, 413, 414, 415, 416, 417, 418, 419, 420, 421, 422, 423, 424, 425, 426, 427, 428, 429, 430, 431, 432, 433, 434, 435, 436]\n"
     ]
    }
   ],
   "source": [
    "def main():\n",
    "    #digit = sys.args[1]\n",
    "    test = open(\"/Users/ksmpooh/Desktop/KCDC/HLAimputation/00.KOTRY_HLAimp/JG.KD_2019/JG.KD_afterHardcall_raw.raw\",\"r\")\n",
    "    col = test.readline()\n",
    "    genes = [\"A\",\"B\",\"C\",\"DRB1\",\"DPA1\",\"DPB1\",\"DQA1\",\"DQB1\"]\n",
    "    out = find_gene_index_td(col,genes)\n",
    "    print(out[1])\n",
    "    out = find_gene_index_fd(col,genes)\n",
    "    print(out[1])\n",
    "main()"
   ]
  },
  {
   "cell_type": "code",
   "execution_count": 18,
   "id": "controversial-satin",
   "metadata": {},
   "outputs": [
    {
     "name": "stdout",
     "output_type": "stream",
     "text": [
      "OK\n"
     ]
    }
   ],
   "source": [
    "a = 1\n",
    "b = 2\n",
    "if a == 0 or b == 2:\n",
    "    print(\"OK\")"
   ]
  },
  {
   "cell_type": "code",
   "execution_count": 34,
   "id": "banner-hello",
   "metadata": {},
   "outputs": [
    {
     "data": {
      "text/plain": [
       "2"
      ]
     },
     "execution_count": 34,
     "metadata": {},
     "output_type": "execute_result"
    }
   ],
   "source": [
    "len(\"24\")"
   ]
  },
  {
   "cell_type": "code",
   "execution_count": null,
   "id": "massive-independence",
   "metadata": {},
   "outputs": [],
   "source": []
  }
 ],
 "metadata": {
  "kernelspec": {
   "display_name": "Python 3",
   "language": "python",
   "name": "python3"
  },
  "language_info": {
   "codemirror_mode": {
    "name": "ipython",
    "version": 3
   },
   "file_extension": ".py",
   "mimetype": "text/x-python",
   "name": "python",
   "nbconvert_exporter": "python",
   "pygments_lexer": "ipython3",
   "version": "3.8.5"
  }
 },
 "nbformat": 4,
 "nbformat_minor": 5
}
