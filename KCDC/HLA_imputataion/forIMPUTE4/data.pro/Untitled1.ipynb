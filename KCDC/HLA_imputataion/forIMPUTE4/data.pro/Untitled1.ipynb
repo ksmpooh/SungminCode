{
 "cells": [
  {
   "cell_type": "code",
   "execution_count": 16,
   "id": "comic-place",
   "metadata": {},
   "outputs": [],
   "source": [
    "### gen file NA result preprocessing\n",
    "\n",
    "#wdir = \"/Users/ksmpooh/Desktop/KCDC/HLAimputation/IMPUTE4/gen.calling.test/\"\n",
    "#6:HLA_A_01:A:P 6:HLA_A_01:A:P 29911991 A P 1.00000 0.00000 0.00000"
   ]
  },
  {
   "cell_type": "code",
   "execution_count": 32,
   "id": "severe-artwork",
   "metadata": {},
   "outputs": [],
   "source": [
    "import os,glob\n",
    "wDir = \"/Users/ksmpooh/Desktop/KCDC/HLAimputation/IMPUTE4/gen.calling.test/\"\n",
    "\n",
    "fileName =\"test.pro.gen\""
   ]
  },
  {
   "cell_type": "code",
   "execution_count": 42,
   "id": "competitive-sussex",
   "metadata": {},
   "outputs": [],
   "source": [
    "def check(df):\n",
    "    tmp = []\n",
    "    #print(df)\n",
    "    for i in df:\n",
    "        tmp.append(float(i))\n",
    "    if tmp.count(0.5) == 2:\n",
    "        #print(tmp)\n",
    "        index1 = tmp.index(0.5)\n",
    "        tmp[index1] = \"1.0000\"\n",
    "        index2 = tmp.index(0.5)\n",
    "        tmp[index2] = \"0.0000\"\n",
    "        #print(tmp)\n",
    "        return [str(i) for i in tmp]\n",
    "    else:\n",
    "        return df\n",
    "    \n",
    "def main():\n",
    "    dataIn = open(wDir + fileName,\"r\")\n",
    "    #sample = sampleData(wDir + \"test.sample\")\n",
    "    window = 3\n",
    "    out = open(wDir + \"change.0.5.gen\",\"w\")\n",
    "    while 1:\n",
    "    #for i in range(1,5):\n",
    "        a = dataIn.readline()\n",
    "        if not a:\n",
    "            break\n",
    "        a = a.split()\n",
    "        for i in range(1,5+1):\n",
    "            if i == 1:\n",
    "                out.write(a.pop(0))\n",
    "            else:\n",
    "                out.write(\" \" + a.pop(0))\n",
    "        #print(out)\n",
    "        while 1:\n",
    "        #for x in range(1,10):\n",
    "            if not a:\n",
    "                break\n",
    "            tmp = []\n",
    "            tmp.append(a.pop(0))\n",
    "            tmp.append(a.pop(0))\n",
    "            tmp.append(a.pop(0))\n",
    "            \n",
    "            #tmp1 = check(tmp)\n",
    "            tmp = check(tmp)\n",
    "            #if tmp1 != tmp:\n",
    "            #    print(\"after : %s, befere : %s\"%(\" \".join(tmp1),\" \".join(tmp)))\n",
    "            for j in tmp:\n",
    "                out.write(\" \" + j)\n",
    "        out.write(\"\\n\")\n",
    "    out.close()\n",
    "\n",
    "main()\n",
    "                    \n",
    "            \n",
    "        "
   ]
  },
  {
   "cell_type": "code",
   "execution_count": null,
   "id": "expressed-penguin",
   "metadata": {},
   "outputs": [],
   "source": []
  }
 ],
 "metadata": {
  "kernelspec": {
   "display_name": "Python 3",
   "language": "python",
   "name": "python3"
  },
  "language_info": {
   "codemirror_mode": {
    "name": "ipython",
    "version": 3
   },
   "file_extension": ".py",
   "mimetype": "text/x-python",
   "name": "python",
   "nbconvert_exporter": "python",
   "pygments_lexer": "ipython3",
   "version": "3.8.5"
  }
 },
 "nbformat": 4,
 "nbformat_minor": 5
}
