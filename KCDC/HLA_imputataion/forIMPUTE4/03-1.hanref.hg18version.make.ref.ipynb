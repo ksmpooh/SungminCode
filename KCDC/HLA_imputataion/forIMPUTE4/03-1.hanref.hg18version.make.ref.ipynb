{
 "cells": [
  {
   "cell_type": "markdown",
   "metadata": {},
   "source": [
    "# make .ref for hg18 han legend,hap"
   ]
  },
  {
   "cell_type": "code",
   "execution_count": 1,
   "metadata": {},
   "outputs": [],
   "source": [
    "### ref allele for impute4"
   ]
  },
  {
   "cell_type": "code",
   "execution_count": 3,
   "metadata": {},
   "outputs": [],
   "source": [
    "wdir = \"c:/Users/user/Desktop/KCDC/HLAimputation/IMPUTE4/Han.ref_1st/\""
   ]
  },
  {
   "cell_type": "code",
   "execution_count": 20,
   "metadata": {},
   "outputs": [],
   "source": [
    "def filein(datain):\n",
    "    a = open(datain,'r')\n",
    "    return [s.replace(\"\\n\",\"\") for s in a]\n",
    "def fileout2(datain,path):\n",
    "    a = open(path,\"w\")\n",
    "    for i in datain:\n",
    "        a.write('\\t'.join(str(s) for s in i)+'\\n')\n",
    "    a.close()\n",
    "\n",
    "def fileout(datain,path):\n",
    "    a = open(path,\"w\")\n",
    "    for i in datain:\n",
    "        a.write(\"%s\\n\"%i)\n",
    "    a.close()\n",
    "\n",
    "        \n",
    "    \n",
    "def make_newID(ori):\n",
    "    out = []\n",
    "    trash = []\n",
    "    trash.append(\"id position a0 a1\")\n",
    "    out.append(\"id position a0 a1\")\n",
    "    for i,j in enumerate(ori[1:]):\n",
    "        chrom,ID,hg18,a1,a2,hg19,ref=j.split()\n",
    "        if 'SNP' in ID:\n",
    "            #SNP_A_30018780 aa aa\n",
    "            #SNP_C_31347080_TG P A\n",
    "            if len(ID.split(\"_\")) == 4:\n",
    "                out.append(\"%s:%s:A:P %s A P\"%(chrom,ID,hg18))\n",
    "                #out.append(\"%s:%s:P:A %s P A\"%(chrom,ID.replace(hg18,hg19),hg19))\n",
    "            else:\n",
    "                out.append(\"%s:%s:%s:%s %s %s %s\"%(chrom,ID,a2,a1,hg18,a2,a1))\n",
    "        elif 'AA' in ID:\n",
    "            #AA_A_83_30018759\n",
    "            #AA_A_77_30018741_D\n",
    "            if len(ID.split(\"_\")) == 5:\n",
    "                out.append(\"%s:%s:A:P %s A P\"%(chrom,ID,hg18))\n",
    "                #out.append(\"%s:%s:P:A %s P A\"%(chrom,ID.replace(hg18,hg19),hg19))\n",
    "            else:\n",
    "                out.append(\"%s:%s:%s:%s %s %s %s\"%(chrom,ID,a2,a1,hg18,a2,a1))\n",
    "        elif 'HLA' in ID:\n",
    "            out.append(\"%s:%s:A:P %s A P\"%(chrom,ID,hg18))\n",
    "            #out.append(\"%s:%s:P:A %s P A\"%(chrom,ID.replace(hg18,hg19),hg19))\n",
    "        elif a1 == ref:\n",
    "            out.append(\"%s:%s:%s:%s %s %s %s\"%(chrom,hg18,a1,a2,hg18,a1,a2))\n",
    "        elif a2 == ref:\n",
    "            out.append(\"%s:%s:%s:%s %s %s %s\"%(chrom,hg18,a2,a1,hg18,a2,a1))\n",
    "        else:\n",
    "            trash.append(\"%s:%s:%s:%s %s %s %s\"%(chrom,hg18,a2,a1,hg18,a2,a1))\n",
    "    return out,trash\n",
    "\n",
    "\n",
    "    "
   ]
  },
  {
   "cell_type": "code",
   "execution_count": 21,
   "metadata": {},
   "outputs": [
    {
     "data": {
      "text/plain": [
       "['chr ID hg18 a1 a2 hg19 ref',\n",
       " '6 28585812 28585812 C G 28477833 G',\n",
       " '6 28585874 28585874 T C 28477895 T',\n",
       " '6 28586273 28586273 A T 28478294 T',\n",
       " '6 28586591 28586591 G A 28478612 A']"
      ]
     },
     "execution_count": 21,
     "metadata": {},
     "output_type": "execute_result"
    }
   ],
   "source": [
    "####HAN\n",
    "df = filein(wdir + 'ref.allele.txt')\n",
    "df[0:5]"
   ]
  },
  {
   "cell_type": "code",
   "execution_count": 22,
   "metadata": {},
   "outputs": [],
   "source": [
    "out,trash = make_newID(df)"
   ]
  },
  {
   "cell_type": "code",
   "execution_count": 23,
   "metadata": {},
   "outputs": [],
   "source": [
    "fileout(out,wdir + \"Han.hg18.legend.\")"
   ]
  },
  {
   "cell_type": "code",
   "execution_count": 18,
   "metadata": {},
   "outputs": [],
   "source": [
    "##### to make hap"
   ]
  },
  {
   "cell_type": "code",
   "execution_count": 24,
   "metadata": {},
   "outputs": [],
   "source": [
    "df = filein(wdir + 'Han.hg18.legend')"
   ]
  },
  {
   "cell_type": "code",
   "execution_count": 30,
   "metadata": {},
   "outputs": [],
   "source": [
    "def main():\n",
    "    phased = open('c:/Users/user/Desktop/KCDC/HLAimputation/IMPUTE4/Han.ref_1st/HAN.MHC.reference.panel.fixed.bgl.phased',\"r\")\n",
    "    #phased =open(wdir + 'Merge_panel.bgl.phased',\"r\")\n",
    "    count = 1\n",
    "    pedigree = phased.readline()\n",
    "    pID = phased.readline()\n",
    "    ncol = len(pID.split()) - 2\n",
    "    with open(\"c:/Users/user/Desktop/KCDC/HLAimputation/IMPUTE4/Han.ref_1st/Han.hg18.hap\",\"w\") as out:    \n",
    "    #with open(wdir + \"Pan.hap\",\"w\") as out:\n",
    "        for ref in df[1:]:\n",
    "            i = phased.readline()\n",
    "            \n",
    "            ID,postion,a0,a1 = ref.split()\n",
    "            for sample_count,allele in enumerate(i.split()[2:]):\n",
    "                if allele == a0:\n",
    "                    out.write(\"0\")\n",
    "                else:\n",
    "                    out.write(\"1\")\n",
    "                if sample_count < ncol - 1:\n",
    "                    out.write(\" \")\n",
    "            out.write(\"\\n\")\n",
    "            #for allele in i.split()[2:]:\n",
    "                    #print(allele)\n",
    "            #out.write\n",
    "main()"
   ]
  },
  {
   "cell_type": "code",
   "execution_count": null,
   "metadata": {},
   "outputs": [],
   "source": []
  }
 ],
 "metadata": {
  "kernelspec": {
   "display_name": "Python 3",
   "language": "python",
   "name": "python3"
  },
  "language_info": {
   "codemirror_mode": {
    "name": "ipython",
    "version": 3
   },
   "file_extension": ".py",
   "mimetype": "text/x-python",
   "name": "python",
   "nbconvert_exporter": "python",
   "pygments_lexer": "ipython3",
   "version": "3.6.8"
  }
 },
 "nbformat": 4,
 "nbformat_minor": 2
}
