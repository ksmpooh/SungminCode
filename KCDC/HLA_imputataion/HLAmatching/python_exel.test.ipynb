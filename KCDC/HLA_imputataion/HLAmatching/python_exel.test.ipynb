{
 "cells": [
  {
   "cell_type": "code",
   "execution_count": 1,
   "id": "supposed-establishment",
   "metadata": {},
   "outputs": [],
   "source": [
    "# python 에서 exel 다루는 코딩하기\n",
    "# pip install openpyxl"
   ]
  },
  {
   "cell_type": "code",
   "execution_count": 2,
   "id": "historical-junior",
   "metadata": {},
   "outputs": [],
   "source": [
    "import openpyxl as oxl"
   ]
  },
  {
   "cell_type": "code",
   "execution_count": 3,
   "id": "weighted-psychiatry",
   "metadata": {},
   "outputs": [],
   "source": [
    "load_wb = oxl.load_workbook(\"/Users/ksmpooh/Desktop/KCDC/HLAimputation/02.HLAmatching/excl_test/sum_test.xlsx\", data_only=True)\n",
    "load_wb = oxl.load_workbook(\"/Users/ksmpooh/Desktop/KCDC/HLAimputation/02.HLAmatching/excl_test/sum_test.xlsx\")\n",
    "\n"
   ]
  },
  {
   "cell_type": "code",
   "execution_count": 4,
   "id": "comprehensive-brooklyn",
   "metadata": {},
   "outputs": [
    {
     "data": {
      "text/plain": [
       "['Sheet1', 'Sheet2']"
      ]
     },
     "execution_count": 4,
     "metadata": {},
     "output_type": "execute_result"
    }
   ],
   "source": [
    "load_wb.sheetnames\n"
   ]
  },
  {
   "cell_type": "code",
   "execution_count": 5,
   "id": "offensive-reconstruction",
   "metadata": {},
   "outputs": [],
   "source": [
    "ws = load_wb['Sheet1']\n",
    "ws2 = load_wb['Sheet2']"
   ]
  },
  {
   "cell_type": "code",
   "execution_count": 6,
   "id": "drawn-herald",
   "metadata": {},
   "outputs": [
    {
     "name": "stdout",
     "output_type": "stream",
     "text": [
      "A\n",
      "B\n",
      "SUM\n",
      "None\n",
      "None\n",
      "=A2+B2\n",
      "None\n",
      "None\n",
      "=A3+B3\n",
      "None\n",
      "None\n",
      "=A4+B4\n",
      "None\n",
      "None\n",
      "=A5+B5\n",
      "None\n",
      "None\n",
      "=A6+B6\n",
      "None\n",
      "None\n",
      "=A7+B7\n",
      "None\n",
      "None\n",
      "=A8+B8\n",
      "None\n",
      "None\n",
      "=A9+B9\n",
      "None\n",
      "None\n",
      "=A10+B10\n"
     ]
    }
   ],
   "source": [
    "for row in ws.values:\n",
    "    for cell in row:\n",
    "        print(cell)"
   ]
  },
  {
   "cell_type": "code",
   "execution_count": 7,
   "id": "polar-encyclopedia",
   "metadata": {},
   "outputs": [],
   "source": [
    "ws['A2'] = 1\n",
    "ws['B2'] = 2"
   ]
  },
  {
   "cell_type": "code",
   "execution_count": 9,
   "id": "gross-special",
   "metadata": {},
   "outputs": [
    {
     "name": "stdout",
     "output_type": "stream",
     "text": [
      "A\n",
      "B\n",
      "SUM\n",
      "1\n",
      "2\n",
      "=A2+B2\n",
      "None\n",
      "None\n",
      "=A3+B3\n",
      "None\n",
      "None\n",
      "=A4+B4\n",
      "None\n",
      "None\n",
      "=A5+B5\n",
      "None\n",
      "None\n",
      "=A6+B6\n",
      "None\n",
      "None\n",
      "=A7+B7\n",
      "None\n",
      "None\n",
      "=A8+B8\n",
      "None\n",
      "None\n",
      "=A9+B9\n",
      "None\n",
      "None\n",
      "=A10+B10\n"
     ]
    }
   ],
   "source": [
    "for row in ws.values:\n",
    "    for cell in row:\n",
    "        print(cell)"
   ]
  },
  {
   "cell_type": "code",
   "execution_count": 11,
   "id": "celtic-rapid",
   "metadata": {},
   "outputs": [
    {
     "name": "stdout",
     "output_type": "stream",
     "text": [
      "A\n",
      "B\n",
      "C\n",
      "sum\n",
      "None\n",
      "None\n",
      "None\n",
      "=A2+B2+C2\n",
      "None\n",
      "None\n",
      "None\n",
      "=A3+B3+C3\n",
      "None\n",
      "None\n",
      "None\n",
      "=A4+B4+C4\n",
      "None\n",
      "None\n",
      "None\n",
      "=A5+B5+C5\n",
      "None\n",
      "None\n",
      "None\n",
      "=A6+B6+C6\n",
      "None\n",
      "None\n",
      "None\n",
      "=A7+B7+C7\n",
      "None\n",
      "None\n",
      "None\n",
      "=A8+B8+C8\n",
      "None\n",
      "None\n",
      "None\n",
      "=A9+B9+C9\n",
      "None\n",
      "None\n",
      "None\n",
      "=A10+B10+C10\n"
     ]
    }
   ],
   "source": [
    "for row in ws2.values:\n",
    "    for cell in row:\n",
    "        print(cell)\n",
    "ws2[\"A2\"] = 3\n",
    "ws2[\"B2\"] = 3\n",
    "ws2[\"C2\"] = 44\n",
    "ws2[\"A3\"] = 3\n",
    "\n",
    "\n"
   ]
  },
  {
   "cell_type": "code",
   "execution_count": 12,
   "id": "absolute-antarctica",
   "metadata": {},
   "outputs": [],
   "source": [
    "load_wb.save(\"/Users/ksmpooh/Desktop/KCDC/HLAimputation/02.HLAmatching/excl_test/test.output.xlsx\")"
   ]
  },
  {
   "cell_type": "code",
   "execution_count": null,
   "id": "offensive-identification",
   "metadata": {},
   "outputs": [],
   "source": []
  }
 ],
 "metadata": {
  "kernelspec": {
   "display_name": "Python 3 (ipykernel)",
   "language": "python",
   "name": "python3"
  },
  "language_info": {
   "codemirror_mode": {
    "name": "ipython",
    "version": 3
   },
   "file_extension": ".py",
   "mimetype": "text/x-python",
   "name": "python",
   "nbconvert_exporter": "python",
   "pygments_lexer": "ipython3",
   "version": "3.9.16"
  }
 },
 "nbformat": 4,
 "nbformat_minor": 5
}
