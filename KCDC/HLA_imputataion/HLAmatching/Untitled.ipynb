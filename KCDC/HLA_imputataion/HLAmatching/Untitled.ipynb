{
 "cells": [
  {
   "cell_type": "code",
   "execution_count": 6,
   "id": "fatty-baltimore",
   "metadata": {},
   "outputs": [],
   "source": [
    "import os,glob"
   ]
  },
  {
   "cell_type": "code",
   "execution_count": 7,
   "id": "single-immigration",
   "metadata": {},
   "outputs": [],
   "source": [
    "df = open(\"/Users/ksmpooh/Desktop/KCDC/HLAimputation/HLAtyping_Final_20211126/HLA.typing_4digit.txt\",\"r\")"
   ]
  },
  {
   "cell_type": "code",
   "execution_count": 8,
   "id": "royal-wages",
   "metadata": {},
   "outputs": [],
   "source": [
    "df = [s.replace(\"\\n\",\"\") for s in df]"
   ]
  },
  {
   "cell_type": "code",
   "execution_count": 11,
   "id": "satellite-speaker",
   "metadata": {},
   "outputs": [
    {
     "data": {
      "text/plain": [
       "['HLAID\\tKBA_ID\\tOriID\\tA.1\\tA.2\\tB.1\\tB.2\\tC.1\\tC.2\\tDRB1.1\\tDRB1.2\\tDRB3.1\\tDRB3.2\\tDQA1.1\\tDQA1.2\\tDQB1.1\\tDQB1.2\\tDPA1.1\\tDPA1.2\\tDPB1.1\\tDPB1.2',\n",
       " '2020KDCA001\\tNIH19KT6295\\tLR00635\\t0201\\t2402\\t0702\\t4002\\t0304\\t0702\\t0803\\t1405\\t0202\\t\\t0103\\t0302\\t0303\\t0601\\t0103\\t0103\\t0201\\t0402',\n",
       " '2020KDCA002\\tNIH19KT6296\\tLR00572\\t0201\\t0207\\t1501\\t5401\\t0102\\t0401\\t0405\\t0406\\t\\t\\t0301\\t0303\\t0302\\t0401\\t0103\\t0202\\t0201\\t0501',\n",
       " '2020KDCA003\\tNIH19KT6334\\tLR00637\\t0206\\t2402\\t1501\\t5101\\t0482\\t1402\\t1101\\t1201\\t0101\\t0202\\t0301\\t0505\\t0301\\t0302\\t0202\\t0202\\t0501\\t0501',\n",
       " '2020KDCA004\\tNIH19KT6335\\tLR00638\\t0206\\t2601\\t1501\\t4801\\t0102\\t0801\\t1201\\t1501\\t0202\\t\\t0102\\t0505\\t0301\\t0602\\t0103\\t0202\\t0401\\t0501']"
      ]
     },
     "execution_count": 11,
     "metadata": {},
     "output_type": "execute_result"
    }
   ],
   "source": [
    "df[0:5]\n",
    "#len(df)"
   ]
  },
  {
   "cell_type": "code",
   "execution_count": 12,
   "id": "applied-syracuse",
   "metadata": {},
   "outputs": [
    {
     "data": {
      "text/plain": [
       "['2020KDCA001\\tNIH19KT6295\\tLR00635\\t0201\\t2402\\t0702\\t4002\\t0304\\t0702\\t0803\\t1405\\t0202\\t\\t0103\\t0302\\t0303\\t0601\\t0103\\t0103\\t0201\\t0402',\n",
       " '2020KDCA002\\tNIH19KT6296\\tLR00572\\t0201\\t0207\\t1501\\t5401\\t0102\\t0401\\t0405\\t0406\\t\\t\\t0301\\t0303\\t0302\\t0401\\t0103\\t0202\\t0201\\t0501',\n",
       " '2020KDCA003\\tNIH19KT6334\\tLR00637\\t0206\\t2402\\t1501\\t5101\\t0482\\t1402\\t1101\\t1201\\t0101\\t0202\\t0301\\t0505\\t0301\\t0302\\t0202\\t0202\\t0501\\t0501',\n",
       " '2020KDCA004\\tNIH19KT6335\\tLR00638\\t0206\\t2601\\t1501\\t4801\\t0102\\t0801\\t1201\\t1501\\t0202\\t\\t0102\\t0505\\t0301\\t0602\\t0103\\t0202\\t0401\\t0501',\n",
       " '2020KDCA005\\tNIH19KT6338\\tLR00649\\t1101\\t3303\\t1502\\t4601\\t0102\\t0801\\t0101\\t1201\\t0101\\t\\t0101\\t0506\\t0301\\t0501\\t0103\\t0202\\t0402\\t0501']"
      ]
     },
     "execution_count": 12,
     "metadata": {},
     "output_type": "execute_result"
    }
   ],
   "source": [
    "header = df.pop(0)\n",
    "df[0:5]"
   ]
  },
  {
   "cell_type": "code",
   "execution_count": null,
   "id": "cooked-cartoon",
   "metadata": {},
   "outputs": [],
   "source": [
    "new = []\n",
    "new.append(header)\n",
    "for a in df:\n",
    "    line = a.split(\"\\t\")\n",
    "    \n",
    "    "
   ]
  }
 ],
 "metadata": {
  "kernelspec": {
   "display_name": "Python 3 (ipykernel)",
   "language": "python",
   "name": "python3"
  },
  "language_info": {
   "codemirror_mode": {
    "name": "ipython",
    "version": 3
   },
   "file_extension": ".py",
   "mimetype": "text/x-python",
   "name": "python",
   "nbconvert_exporter": "python",
   "pygments_lexer": "ipython3",
   "version": "3.9.16"
  }
 },
 "nbformat": 4,
 "nbformat_minor": 5
}
