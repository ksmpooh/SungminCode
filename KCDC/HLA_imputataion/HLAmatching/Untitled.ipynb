{
 "cells": [
  {
   "cell_type": "code",
   "execution_count": 6,
   "metadata": {},
   "outputs": [],
   "source": [
    "import os,glob"
   ]
  },
  {
   "cell_type": "code",
   "execution_count": 7,
   "metadata": {},
   "outputs": [],
   "source": [
    "df = open(\"/Users/ksmpooh/Desktop/KCDC/HLAimputation/HLAtyping_Final_20211126/HLA.typing_4digit.txt\",\"r\")"
   ]
  },
  {
   "cell_type": "code",
   "execution_count": 8,
   "metadata": {},
   "outputs": [],
   "source": [
    "df = [s.replace(\"\\n\",\"\") for s in df]"
   ]
  },
  {
   "cell_type": "code",
   "execution_count": 11,
   "metadata": {},
   "outputs": [
    {
     "data": {
      "text/plain": [
       "['HLAID\\tKBA_ID\\tOriID\\tA.1\\tA.2\\tB.1\\tB.2\\tC.1\\tC.2\\tDRB1.1\\tDRB1.2\\tDRB3.1\\tDRB3.2\\tDQA1.1\\tDQA1.2\\tDQB1.1\\tDQB1.2\\tDPA1.1\\tDPA1.2\\tDPB1.1\\tDPB1.2',\n",
       " '2020KDCA001\\tNIH19KT6295\\tLR00635\\t0201\\t2402\\t0702\\t4002\\t0304\\t0702\\t0803\\t1405\\t0202\\t\\t0103\\t0302\\t0303\\t0601\\t0103\\t0103\\t0201\\t0402',\n",
       " '2020KDCA002\\tNIH19KT6296\\tLR00572\\t0201\\t0207\\t1501\\t5401\\t0102\\t0401\\t0405\\t0406\\t\\t\\t0301\\t0303\\t0302\\t0401\\t0103\\t0202\\t0201\\t0501',\n",
       " '2020KDCA003\\tNIH19KT6334\\tLR00637\\t0206\\t2402\\t1501\\t5101\\t0482\\t1402\\t1101\\t1201\\t0101\\t0202\\t0301\\t0505\\t0301\\t0302\\t0202\\t0202\\t0501\\t0501',\n",
       " '2020KDCA004\\tNIH19KT6335\\tLR00638\\t0206\\t2601\\t1501\\t4801\\t0102\\t0801\\t1201\\t1501\\t0202\\t\\t0102\\t0505\\t0301\\t0602\\t0103\\t0202\\t0401\\t0501']"
      ]
     },
     "execution_count": 11,
     "metadata": {},
     "output_type": "execute_result"
    }
   ],
   "source": [
    "df[0:5]\n",
    "#len(df)"
   ]
  },
  {
   "cell_type": "code",
   "execution_count": 12,
   "metadata": {},
   "outputs": [
    {
     "data": {
      "text/plain": [
       "['2020KDCA001\\tNIH19KT6295\\tLR00635\\t0201\\t2402\\t0702\\t4002\\t0304\\t0702\\t0803\\t1405\\t0202\\t\\t0103\\t0302\\t0303\\t0601\\t0103\\t0103\\t0201\\t0402',\n",
       " '2020KDCA002\\tNIH19KT6296\\tLR00572\\t0201\\t0207\\t1501\\t5401\\t0102\\t0401\\t0405\\t0406\\t\\t\\t0301\\t0303\\t0302\\t0401\\t0103\\t0202\\t0201\\t0501',\n",
       " '2020KDCA003\\tNIH19KT6334\\tLR00637\\t0206\\t2402\\t1501\\t5101\\t0482\\t1402\\t1101\\t1201\\t0101\\t0202\\t0301\\t0505\\t0301\\t0302\\t0202\\t0202\\t0501\\t0501',\n",
       " '2020KDCA004\\tNIH19KT6335\\tLR00638\\t0206\\t2601\\t1501\\t4801\\t0102\\t0801\\t1201\\t1501\\t0202\\t\\t0102\\t0505\\t0301\\t0602\\t0103\\t0202\\t0401\\t0501',\n",
       " '2020KDCA005\\tNIH19KT6338\\tLR00649\\t1101\\t3303\\t1502\\t4601\\t0102\\t0801\\t0101\\t1201\\t0101\\t\\t0101\\t0506\\t0301\\t0501\\t0103\\t0202\\t0402\\t0501']"
      ]
     },
     "execution_count": 12,
     "metadata": {},
     "output_type": "execute_result"
    }
   ],
   "source": [
    "header = df.pop(0)\n",
    "df[0:5]"
   ]
  },
  {
   "cell_type": "code",
   "execution_count": 1,
   "metadata": {},
   "outputs": [
    {
     "ename": "NameError",
     "evalue": "name 'header' is not defined",
     "output_type": "error",
     "traceback": [
      "\u001b[0;31m---------------------------------------------------------------------------\u001b[0m",
      "\u001b[0;31mNameError\u001b[0m                                 Traceback (most recent call last)",
      "Input \u001b[0;32mIn [1]\u001b[0m, in \u001b[0;36m<cell line: 2>\u001b[0;34m()\u001b[0m\n\u001b[1;32m      1\u001b[0m new \u001b[38;5;241m=\u001b[39m []\n\u001b[0;32m----> 2\u001b[0m new\u001b[38;5;241m.\u001b[39mappend(\u001b[43mheader\u001b[49m)\n\u001b[1;32m      3\u001b[0m \u001b[38;5;28;01mfor\u001b[39;00m a \u001b[38;5;129;01min\u001b[39;00m df:\n\u001b[1;32m      4\u001b[0m     line \u001b[38;5;241m=\u001b[39m a\u001b[38;5;241m.\u001b[39msplit(\u001b[38;5;124m\"\u001b[39m\u001b[38;5;130;01m\\t\u001b[39;00m\u001b[38;5;124m\"\u001b[39m)\n",
      "\u001b[0;31mNameError\u001b[0m: name 'header' is not defined"
     ]
    }
   ],
   "source": [
    "new = []\n",
    "new.append(header)\n",
    "for a in df:\n",
    "    line = a.split(\"\\t\")\n",
    "    \n",
    "    "
   ]
  },
  {
   "cell_type": "code",
   "execution_count": 28,
   "metadata": {},
   "outputs": [
    {
     "data": {
      "text/plain": "'\\nwb = pyxlsb.load_workbook(file_out)\\nsheet_name = \"EnterData\"\\nws = wb[sheet_name]\\n\\nstart_row = 3\\nfor i, row in df.iterrows()[0:3]:\\n    print(i,row)\\n'"
     },
     "execution_count": 28,
     "metadata": {},
     "output_type": "execute_result"
    }
   ],
   "source": [
    "## HLa eplet matching data inout\n",
    "## HLA input\n",
    "##\n",
    "## python 00.eplet.matching.excel.inout.py [class 1 or 2] [input] \n",
    "## ex) python 00.eplet.matching.excel.inout.py 1 HLA_classI for eplet\n",
    "## class I/II\n",
    "## input : no header file \n",
    "import os,sys,glob\n",
    "import pyxlsb\n",
    "import openpyxl as oxl\n",
    "import pandas as pd\n",
    "from shutil import copyfile\n",
    "\n",
    "\n",
    "mhc_class = \"1\"\n",
    "hla_df = \"/Users/ksmpooh/Desktop/KCDC/HLAimputation/02.HLAepitope_matching/KR.KD.HLAimp.foreplet.class1.xlsx\"\n",
    "file_out = \"/Users/ksmpooh/Desktop/KCDC/HLAimputation/02.HLAepitope_matching/test_output.xlsb\"\n",
    "lamatchmaker = \"/Users/ksmpooh/Desktop/KCDC/HLAimputation/02.HLAepitope_matching/20230420_eplet/ABC_Eplet_Matching_4.0.xlsb\"\n",
    "\n",
    "\n",
    "#useCol = \n",
    "\n",
    "hla_df = pd.read_excel(hla_df,engine='openpyxl',header=None)\n",
    "\n",
    "#copyfile(lamatchmaker,file_out)\n",
    "\n",
    "#file_path = \"HLAmatchmaker_file.xlsx\"\n",
    "\n",
    "df = pd.read_excel(file_out, engine='pyxlsb',header=1,sheet_name =\"EnterData\")\n",
    "\n",
    "'''\n",
    "wb = pyxlsb.load_workbook(file_out)\n",
    "sheet_name = \"EnterData\"\n",
    "ws = wb[sheet_name]\n",
    "\n",
    "start_row = 3\n",
    "for i, row in df.iterrows()[0:3]:\n",
    "    print(i,row)\n",
    "'''\n",
    "\n",
    "\n"
   ]
  },
  {
   "cell_type": "code",
   "execution_count": 29,
   "metadata": {},
   "outputs": [
    {
     "name": "stdout",
     "output_type": "stream",
     "text": [
      "  RecInfo Rec1stA Rec2ndA Rec1stB Rec2ndB Rec1stC Rec2ndC DonorInfo Don1stA  \\\n",
      "0       -       x       x       x       x       x       x         -       x   \n",
      "1       -       x       x       x       x       x       x         -       x   \n",
      "2       -       x       x       x       x       x       x         -       x   \n",
      "\n",
      "  Don2ndA  ... 35.5 36.5 37.5 38.5 39.5  40.5  41.5  42.5  43.5  44.5  \n",
      "0       x  ...  NaN  NaN  NaN  NaN  NaN   NaN   NaN   NaN   NaN   NaN  \n",
      "1       x  ...  NaN  NaN  NaN  NaN  NaN   NaN   NaN   NaN   NaN   NaN  \n",
      "2       x  ...  NaN  NaN  NaN  NaN  NaN   NaN   NaN   NaN   NaN   NaN  \n",
      "\n",
      "[3 rows x 484 columns]\n",
      "               0        1        2        3        4        5        6   \\\n",
      "0     NIH19KT0023  A*24:02  A*02:01  B*35:01  B*44:03  C*03:03  C*01:02   \n",
      "1     NIH19KT0024  A*03:01  A*02:01  B*27:05  B*54:01  C*01:02  C*02:02   \n",
      "2     NIH19KT0025  A*26:01  A*33:03  B*44:03  B*54:01  C*01:02  C*14:03   \n",
      "3     NIH19KT0026  A*33:03  A*02:06  B*48:01  B*44:03  C*14:03  C*03:04   \n",
      "4     NIH19KT0029  A*26:02  A*11:02  B*40:01  B*35:01  C*03:03  C*04:01   \n",
      "...           ...      ...      ...      ...      ...      ...      ...   \n",
      "1142  NIH19KT6611  A*33:03  A*11:01  B*54:01  B*58:01  C*01:02  C*03:02   \n",
      "1143  NIH19KT6616  A*02:06  A*02:07  B*51:01  B*51:01  C*14:02  C*14:02   \n",
      "1144  NIH19KT6621  A*02:06  A*24:02  B*54:01  B*57:01  C*01:02  C*01:02   \n",
      "1145  NIH19KT6399  A*24:02  A*33:03  B*40:01  B*44:03  C*14:03  C*04:01   \n",
      "1146  NIH19KT6810  A*02:01  A*11:01  B*39:01  B*48:01  C*07:02  C*08:22   \n",
      "\n",
      "               7        8        9        10       11       12       13  \n",
      "0     NIH19KT0267  A*33:03  A*02:07  B*44:03  B*44:03  C*14:03  C*01:02  \n",
      "1     NIH19KT0268  A*03:01  A*02:01  B*27:05  B*15:11  C*02:02  C*03:03  \n",
      "2     NIH19KT0269  A*26:01  A*33:03  B*44:03  B*54:01  C*01:02  C*14:03  \n",
      "3     NIH19KT0270  A*24:02  A*02:06  B*48:01  B*56:01  C*01:02  C*03:04  \n",
      "4     NIH19KT0271  A*26:02  A*24:02  B*40:01  B*54:01  C*01:02  C*04:01  \n",
      "...           ...      ...      ...      ...      ...      ...      ...  \n",
      "1142  NIH19KT6802  A*24:02  A*30:01  B*13:02  B*51:01  C*06:02  C*14:02  \n",
      "1143  NIH19KT6803  A*02:06  A*02:07  B*51:01  B*51:01  C*14:02  C*14:02  \n",
      "1144  NIH19KT6804  A*24:02  A*24:02  B*54:01  B*40:02  C*01:02  C*03:04  \n",
      "1145  NIH19KT6805  A*30:01  A*24:02  B*13:02  B*52:01  C*06:02  C*07:02  \n",
      "1146  NIH19KT6806  A*24:02  A*02:07  B*27:05  B*54:01  C*01:02  C*01:02  \n",
      "\n",
      "[1147 rows x 14 columns]\n"
     ]
    }
   ],
   "source": [
    "print(df[0:3])\n",
    "print(hla_df)"
   ]
  },
  {
   "cell_type": "code",
   "execution_count": 35,
   "metadata": {},
   "outputs": [
    {
     "name": "stdout",
     "output_type": "stream",
     "text": [
      "16058\n",
      "(1147, 14)\n",
      "1147\n",
      "14\n",
      "1147\n"
     ]
    }
   ],
   "source": [
    "print(hla_df.size)\n",
    "print(hla_df.shape)\n",
    "print(hla_df.shape[0])\n",
    "print(hla_df.shape[1])\n",
    "print(len(hla_df))"
   ]
  },
  {
   "cell_type": "code",
   "execution_count": 17,
   "metadata": {},
   "outputs": [
    {
     "ename": "AttributeError",
     "evalue": "'Worksheet' object has no attribute 'cell'",
     "output_type": "error",
     "traceback": [
      "\u001b[0;31m---------------------------------------------------------------------------\u001b[0m",
      "\u001b[0;31mAttributeError\u001b[0m                            Traceback (most recent call last)",
      "Input \u001b[0;32mIn [17]\u001b[0m, in \u001b[0;36m<cell line: 42>\u001b[0;34m()\u001b[0m\n\u001b[1;32m     46\u001b[0m         \u001b[38;5;28;01mfor\u001b[39;00m row_idx, row \u001b[38;5;129;01min\u001b[39;00m \u001b[38;5;28menumerate\u001b[39m(df_new\u001b[38;5;241m.\u001b[39mvalues):\n\u001b[1;32m     47\u001b[0m             \u001b[38;5;66;03m#print(row_idx,row)\u001b[39;00m\n\u001b[1;32m     48\u001b[0m             \u001b[38;5;28;01mfor\u001b[39;00m col_idx, val \u001b[38;5;129;01min\u001b[39;00m \u001b[38;5;28menumerate\u001b[39m(row):\n\u001b[1;32m     49\u001b[0m                 \u001b[38;5;66;03m#print(val)\u001b[39;00m\n\u001b[0;32m---> 50\u001b[0m                 \u001b[43msheet\u001b[49m\u001b[38;5;241;43m.\u001b[39;49m\u001b[43mcell\u001b[49m(row\u001b[38;5;241m=\u001b[39mrow_start\u001b[38;5;241m+\u001b[39mrow_idx,column\u001b[38;5;241m=\u001b[39mcol_start\u001b[38;5;241m+\u001b[39mcol_idx)\u001b[38;5;241m.\u001b[39mvalue \u001b[38;5;241m=\u001b[39m val\n\u001b[1;32m     51\u001b[0m                 \u001b[38;5;66;03m#sheet[row_start+row_idx][col_start+col_idx].value = val\u001b[39;00m\n\u001b[1;32m     52\u001b[0m \n\u001b[1;32m     53\u001b[0m \u001b[38;5;66;03m# 업데이트된 내용 저장\u001b[39;00m\n\u001b[1;32m     54\u001b[0m wb\u001b[38;5;241m.\u001b[39msave(file_path)\n",
      "\u001b[0;31mAttributeError\u001b[0m: 'Worksheet' object has no attribute 'cell'"
     ]
    }
   ],
   "source": [
    "import os,sys,glob\n",
    "import pyxlsb\n",
    "import openpyxl\n",
    "import pandas as pd\n",
    "from pyxlsb import open_workbook as open_xlsb\n",
    "\n",
    "from shutil import copyfile\n",
    "\n",
    "\n",
    "#import pandas as pd\n",
    "from openpyxl import load_workbook\n",
    "\n",
    "hla_df = \"/Users/ksmpooh/Desktop/KCDC/HLAimputation/02.HLAepitope_matching/KR.KD.HLAimp.foreplet.class1.xlsx\"\n",
    "file_out = \"/Users/ksmpooh/Desktop/KCDC/HLAimputation/02.HLAepitope_matching/test_output.xlsb\"\n",
    "lamatchmaker = \"/Users/ksmpooh/Desktop/KCDC/HLAimputation/02.HLAepitope_matching/20230420_eplet/ABC_Eplet_Matching_4.0.xlsb\"\n",
    "\n",
    "#copyfile(lamatchmaker,file_out)\n",
    "\n",
    "# 엑셀 파일 읽어오기\n",
    "excel_file = file_out\n",
    "sheet_name = 'EnterData'\n",
    "df = pd.read_excel(excel_file, sheet_name=sheet_name, engine='pyxlsb',header=None)\n",
    "\n",
    "# 덮어쓸 데이터프레임 생성\n",
    "#hla_df = pd.read_excel(hla_df,engine='openpyxl',header=None)\n",
    "#new_data = pd.DataFrame({'Name': ['John', 'Jane'], 'Age': [30, 25]})\n",
    "#new_data = hla_df\n",
    "# 데이터프레임 덮어쓰기\n",
    "#df_new = pd.DataFrame({'A': [1, 2, 3], 'B': [4, 5, 6]})\n",
    "\n",
    "df_new = pd.read_excel(hla_df,engine='openpyxl',header=None)\n",
    "\n",
    "# 업데이트할 위치 지정\n",
    "row_start = 3\n",
    "col_start = 1\n",
    "\n",
    "# 파일 경로 설정\n",
    "\n",
    "file_path = '/Users/ksmpooh/Desktop/KCDC/HLAimputation/02.HLAepitope_matching/example.xlsb'\n",
    "#copyfile(lamatchmaker,file_path)\n",
    "# pyxlsb를 사용하여 원본 엑셀 파일 열기\n",
    "'''\n",
    "with open_xlsb(file_path) as wb:\n",
    "    # 덮어쓸 sheet 선택\n",
    "    with wb.get_sheet(sheet_name) as sheet:\n",
    "        # 원하는 위치에 데이터프레임 덮어쓰기\n",
    "        for row_idx, row in enumerate(df_new.values):\n",
    "            #print(row_idx,row)\n",
    "            for col_idx, val in enumerate(row):\n",
    "                #print(val)\n",
    "                sheet.cell(row=row_start+row_idx,column=col_start+col_idx).value = val\n",
    "                #sheet[row_start+row_idx][col_start+col_idx].value = val\n",
    "\n",
    "# 업데이트된 내용 저장\n",
    "wb.save(file_path)\n",
    "'''\n",
    "\n",
    "wb \n",
    "\n"
   ]
  },
  {
   "cell_type": "code",
   "execution_count": 16,
   "metadata": {},
   "outputs": [
    {
     "ename": "AttributeError",
     "evalue": "'Workbook' object has no attribute 'sheetnames'",
     "output_type": "error",
     "traceback": [
      "\u001b[0;31m---------------------------------------------------------------------------\u001b[0m",
      "\u001b[0;31mAttributeError\u001b[0m                            Traceback (most recent call last)",
      "Input \u001b[0;32mIn [16]\u001b[0m, in \u001b[0;36m<cell line: 3>\u001b[0;34m()\u001b[0m\n\u001b[1;32m      1\u001b[0m \u001b[38;5;66;03m#print(sheet)\u001b[39;00m\n\u001b[1;32m      2\u001b[0m wb \u001b[38;5;241m=\u001b[39m open_xlsb(file_path)\n\u001b[0;32m----> 3\u001b[0m \u001b[38;5;28mprint\u001b[39m(\u001b[43mwb\u001b[49m\u001b[38;5;241;43m.\u001b[39;49m\u001b[43msheetnames\u001b[49m())\n",
      "\u001b[0;31mAttributeError\u001b[0m: 'Workbook' object has no attribute 'sheetnames'"
     ]
    }
   ],
   "source": [
    "#print(sheet)\n",
    "wb = open_xlsb(file_path)\n",
    "print(wb.sheetnames())"
   ]
  },
  {
   "cell_type": "code",
   "execution_count": null,
   "metadata": {},
   "outputs": [],
   "source": []
  }
 ],
 "metadata": {
  "kernelspec": {
   "display_name": "Python 3 (ipykernel)",
   "language": "python",
   "name": "python3"
  },
  "language_info": {
   "codemirror_mode": {
    "name": "ipython",
    "version": 3
   },
   "file_extension": ".py",
   "mimetype": "text/x-python",
   "name": "python",
   "nbconvert_exporter": "python",
   "pygments_lexer": "ipython3",
   "version": "3.8.13"
  }
 },
 "nbformat": 4,
 "nbformat_minor": 5
}