{
 "cells": [
  {
   "cell_type": "code",
   "execution_count": 169,
   "id": "wrong-camel",
   "metadata": {},
   "outputs": [],
   "source": [
    "## recipient Donor HLA typing matching count\n",
    "## 20211215\n",
    "\n",
    "# R 에서 작업후 가지고 오기\n",
    "# [1] \"ref\"         \"KR_KBA_ID\"   \"KR_OriID\"    \"KR_A.1\"      \"KR_A_B.1\"    \"KR_B.1\"      \"KR_B_B.1\"    \"KR_C.1\"      \"KR_C_B.1\"   \n",
    "#[10] \"KR_DRB1.1\"   \"KR_DRB1_B.1\" \"KR_DPA1.1\"   \"KR_DPA1_B.1\" \"KR_DPB1.1\"   \"KR_DPB1_B.1\" \"KR_DQA1.1\"   \"KR_DQA1_B.1\" \"KR_DQB1.1\"  \n",
    "#[19] \"KR_DQB1_B.1\" \"KD_KBA_ID\"   \"KD_OriID\"    \"KD_A.1\"      \"KD_A_B.1\"    \"KD_B.1\"      \"KD_B_B.1\"    \"KD_C.1\"      \"KD_C_B.1\"   \n",
    "#[28] \"KD_DRB1.1\"   \"KD_DRB1_B.1\" \"KD_DPA1.1\"   \"KD_DPA1_B.1\" \"KD_DPB1.1\"   \"KD_DPB1_B.1\" \"KD_DQA1.1\"   \"KD_DQA1_B.1\" \"KD_DQB1.1\"  \n",
    "#[37] \"KD_DQB1_B.1\""
   ]
  },
  {
   "cell_type": "code",
   "execution_count": 9,
   "id": "checked-smooth",
   "metadata": {},
   "outputs": [],
   "source": [
    "wdir = \"/Users/ksmpooh/Desktop/KCDC/HLAimputation/03.HLA_matching/\"\n",
    "#fileIn = wdir + \"2019_Kidney_HLAmathing_table_2digit_changeNGStyping.txt\"\n",
    "fileIn = wdir + \"2019_Kidney_HLAmathing_table_4digit_changeNGStyping.txt\"\n",
    "fileOut = fileIn.replace(\".txt\",\"_score_A.B.DRB1.txt\")\n",
    "\n"
   ]
  },
  {
   "cell_type": "code",
   "execution_count": 10,
   "id": "damaged-correction",
   "metadata": {},
   "outputs": [],
   "source": [
    "def filein(datain):\n",
    "    a = open(datain,'r')\n",
    "    return [s.replace(\"\\n\",\"\") for s in a]\n",
    "\n",
    "def fileout(datain,path):\n",
    "    a = open(path,\"w\")\n",
    "    for i in datain:\n",
    "        a.write('\\t'.join(str(s) for s in i)+'\\n')\n",
    "    a.close()\n",
    "    return a\n",
    "\n",
    "def match_process(ori,gene):\n",
    "    df = ori\n",
    "    #print(df)\n",
    "    #for i in [\"match\",\"wrong\",\"empty\"]:\n",
    "    #    df[0].append(i)\n",
    "    #print(df) \n",
    "    df[0].append(gene+\"_match\")\n",
    "    for index,i in enumerate(df[1:]):\n",
    "        #print(index,i)\n",
    "        match = 0\n",
    "        wrong = 0\n",
    "        empty = 0\n",
    "        sm = i[0:1+1]\n",
    "        ngs = i[2:3+1]\n",
    "        #print(sm)\n",
    "        #print(ngs)\n",
    "        if (sm.count(\"NA\") == 1) | (ngs.count(\"NA\") == 1):\n",
    "            empty = 1\n",
    "        elif (sm.count(\"NA\") == 2) | (ngs.count(\"NA\") ==2):\n",
    "            empty = 2 \n",
    "        #print(\"count : empty %s\"%str(empty))\n",
    "        life = empty\n",
    "        for a in sm:\n",
    "            #if a == \"NA\":\n",
    "            #    continue\n",
    "            #print(\"a : %s\"%int(a))\n",
    "            if match + wrong + empty == 2:\n",
    "            #    print(\"Break\")\n",
    "                break\n",
    "            if a in ngs:\n",
    "            #    print(\"match\")\n",
    "                match = match + 1\n",
    "                ngs.remove(a)\n",
    "            elif (a not in ngs) & (life == 0):\n",
    "            #    print(\"wrong\")\n",
    "                wrong = wrong +  1\n",
    "            elif (a not in ngs) & (life == 1):\n",
    "                life = life -  1\n",
    "        #print(\"last\")\n",
    "        df[index+1].append(match)\n",
    "        #df[index+1].append(wrong)\n",
    "        #df[index+1].append(empty)\n",
    "        #print(df[index+1])\n",
    "    return df\n",
    "            \n",
    "def gene_df(ori,a1,a2,a3,a4):\n",
    "    outdf = []\n",
    "    for i in ori:\n",
    "        x = []\n",
    "        x.append(i[int(a1)])\n",
    "        x.append(i[int(a2)])\n",
    "        x.append(i[int(a3)])\n",
    "        x.append(i[int(a4)])\n",
    "        outdf.append(x)\n",
    "        #print(x)\n",
    "    return outdf \n",
    "\n",
    "\n",
    "\n",
    "\n",
    "def final_processing(datain,dataout):\n",
    "    df = filein(datain)\n",
    "    df = [s.split(\"\\t\") for s in df]\n",
    "    df = match_process(df)\n",
    "    fileout(df,dataout)"
   ]
  },
  {
   "cell_type": "code",
   "execution_count": 11,
   "id": "narrative-jamaica",
   "metadata": {},
   "outputs": [],
   "source": [
    "genes = [\"A\",\"B\",\"C\",\"DRB1\",\"DPA1\",\"DPB1\",\"DQA1\",\"DQB1\"]\n",
    "in_df = filein(fileIn)"
   ]
  },
  {
   "cell_type": "code",
   "execution_count": 12,
   "id": "twelve-convert",
   "metadata": {},
   "outputs": [
    {
     "data": {
      "text/plain": [
       "['ref\\tKR_KBA_ID\\tKR_OriID\\tKD_KBA_ID\\tKD_OriID\\tKR_A.1\\tKR_A.2\\tKR_B.1\\tKR_B.2\\tKR_C.1\\tKR_C.2\\tKR_DRB1.1\\tKR_DRB1.2\\tKR_DPA1.1\\tKR_DPA1.2\\tKR_DPB1.1\\tKR_DPB1.2\\tKR_DQA1.1\\tKR_DQA1.2\\tKR_DQB1.1\\tKR_DQB1.2\\tKD_A.1\\tKD_A.2\\tKD_B.1\\tKD_B.2\\tKD_C.1\\tKD_C.2\\tKD_DRB1.1\\tKD_DRB1.2\\tKD_DPA1.1\\tKD_DPA1.2\\tKD_DPB1.1\\tKD_DPB1.2\\tKD_DQA1.1\\tKD_DQA1.2\\tKD_DQB1.1\\tKD_DQB1.2',\n",
       " '00033\\tNIH19KT5591\\tKR00033\\tNIH19KT5659\\tKD00033\\t0302\\t2402\\t0801\\t4002\\t0304\\t0702\\t0301\\t0802\\t0103\\t0202\\t0301\\t0501\\t0401\\t0501\\t0201\\t0302\\t0302\\t1101\\t0801\\t5101\\t0702\\t1402\\t0301\\t0803\\t0103\\t0202\\t0201\\t0301\\t0103\\t0501\\t0201\\t0601',\n",
       " '00052\\tNIH19KT5595\\tKR00052\\tNIH19KT5660\\tKD00052\\t0206\\t2402\\tNA\\tNA\\t0303\\t0822\\tNA\\tNA\\t0103\\t0202\\t0402\\t0501\\t0302\\t0303\\t0303\\tNA\\t0201\\t0206\\t1501\\t4001\\t0304\\t0401\\t0406\\t0901\\t0103\\t0103\\t0201\\t0402\\t0301\\t0302\\t0302\\t0303']"
      ]
     },
     "execution_count": 12,
     "metadata": {},
     "output_type": "execute_result"
    }
   ],
   "source": [
    "in_df[0:3]"
   ]
  },
  {
   "cell_type": "code",
   "execution_count": 13,
   "id": "square-choir",
   "metadata": {},
   "outputs": [
    {
     "data": {
      "text/plain": [
       "['ref',\n",
       " 'KR_KBA_ID',\n",
       " 'KR_OriID',\n",
       " 'KD_KBA_ID',\n",
       " 'KD_OriID',\n",
       " 'KR_A.1',\n",
       " 'KR_A.2',\n",
       " 'KR_B.1',\n",
       " 'KR_B.2',\n",
       " 'KR_C.1',\n",
       " 'KR_C.2',\n",
       " 'KR_DRB1.1',\n",
       " 'KR_DRB1.2',\n",
       " 'KR_DPA1.1',\n",
       " 'KR_DPA1.2',\n",
       " 'KR_DPB1.1',\n",
       " 'KR_DPB1.2',\n",
       " 'KR_DQA1.1',\n",
       " 'KR_DQA1.2',\n",
       " 'KR_DQB1.1',\n",
       " 'KR_DQB1.2',\n",
       " 'KD_A.1',\n",
       " 'KD_A.2',\n",
       " 'KD_B.1',\n",
       " 'KD_B.2',\n",
       " 'KD_C.1',\n",
       " 'KD_C.2',\n",
       " 'KD_DRB1.1',\n",
       " 'KD_DRB1.2',\n",
       " 'KD_DPA1.1',\n",
       " 'KD_DPA1.2',\n",
       " 'KD_DPB1.1',\n",
       " 'KD_DPB1.2',\n",
       " 'KD_DQA1.1',\n",
       " 'KD_DQA1.2',\n",
       " 'KD_DQB1.1',\n",
       " 'KD_DQB1.2']"
      ]
     },
     "execution_count": 13,
     "metadata": {},
     "output_type": "execute_result"
    }
   ],
   "source": [
    "index = in_df[0].split(\"\\t\")\n",
    "index"
   ]
  },
  {
   "cell_type": "code",
   "execution_count": 14,
   "id": "massive-antarctica",
   "metadata": {},
   "outputs": [
    {
     "data": {
      "text/plain": [
       "[['ref', 'KR_KBA_ID', 'KR_OriID', 'KD_KBA_ID', 'KD_OriID'],\n",
       " ['00033', 'NIH19KT5591', 'KR00033', 'NIH19KT5659', 'KD00033'],\n",
       " ['00052', 'NIH19KT5595', 'KR00052', 'NIH19KT5660', 'KD00052']]"
      ]
     },
     "execution_count": 14,
     "metadata": {},
     "output_type": "execute_result"
    }
   ],
   "source": [
    "out = []\n",
    "in_df = [s.split(\"\\t\") for s in in_df]\n",
    "for i in in_df:\n",
    "    #print(i.split(\",\")[0:2])\n",
    "    out.append(i[0:5])\n",
    "out[0:3]"
   ]
  },
  {
   "cell_type": "code",
   "execution_count": 15,
   "id": "decimal-baghdad",
   "metadata": {},
   "outputs": [],
   "source": [
    "organ = \"K\"\n",
    "genes = [\"A\",\"B\",\"DRB1\"]\n",
    "for gene in genes:\n",
    "    \n",
    "    #print(gene)\n",
    "    R_allele1 = index.index(\"%sR_%s.1\"%(organ,gene))\n",
    "    R_allele2 = index.index(\"%sR_%s.2\"%(organ,gene))\n",
    "    #print(IMP_allele1,IMP_allele2)\n",
    "    D_allele1 = index.index(\"%sD_%s.1\"%(organ,gene))\n",
    "    D_allele2 = index.index(\"%sD_%s.2\"%(organ,gene))\n",
    "    #print(D_allele1)\n",
    "    #print(D_allele2)\n",
    "    #print(in_df[0:5])\n",
    "    pre_df = gene_df(in_df,R_allele1,R_allele2,D_allele1,D_allele2)\n",
    "    pre_df = match_process(pre_df,gene)\n",
    "    #print(pre_df[0:5])    \n",
    "    for i,j in enumerate(pre_df):\n",
    "        for k in j:\n",
    "            out[i].append(k)\n",
    "    #print(pre_df)\n",
    "\n"
   ]
  },
  {
   "cell_type": "code",
   "execution_count": 16,
   "id": "signal-saskatchewan",
   "metadata": {},
   "outputs": [
    {
     "data": {
      "text/plain": [
       "<_io.TextIOWrapper name='/Users/ksmpooh/Desktop/KCDC/HLAimputation/03.HLA_matching/2019_Kidney_HLAmathing_table_4digit_changeNGStyping_score_A.B.DRB1.txt' mode='w' encoding='UTF-8'>"
      ]
     },
     "execution_count": 16,
     "metadata": {},
     "output_type": "execute_result"
    }
   ],
   "source": [
    "fileout(out,fileOut)"
   ]
  },
  {
   "cell_type": "code",
   "execution_count": null,
   "id": "innovative-cream",
   "metadata": {},
   "outputs": [],
   "source": []
  }
 ],
 "metadata": {
  "kernelspec": {
   "display_name": "Python 3",
   "language": "python",
   "name": "python3"
  },
  "language_info": {
   "codemirror_mode": {
    "name": "ipython",
    "version": 3
   },
   "file_extension": ".py",
   "mimetype": "text/x-python",
   "name": "python",
   "nbconvert_exporter": "python",
   "pygments_lexer": "ipython3",
   "version": "3.8.5"
  }
 },
 "nbformat": 4,
 "nbformat_minor": 5
}
