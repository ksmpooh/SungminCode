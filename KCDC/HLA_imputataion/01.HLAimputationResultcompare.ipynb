{
 "cells": [
  {
   "cell_type": "code",
   "execution_count": 1,
   "metadata": {},
   "outputs": [],
   "source": [
    "#### 결과 값 확인 및 비교 \n",
    "#### compare sungmin's with YJ's "
   ]
  },
  {
   "cell_type": "code",
   "execution_count": 12,
   "metadata": {},
   "outputs": [],
   "source": [
    "wdir = \"C:/Users/user/Desktop/KCDC/\"\n",
    "#wdir = wdir + \"HLAimputation/UsingHan/\"\n",
    "wdir = wdir + \"HLAimputation/Result2/\""
   ]
  },
  {
   "cell_type": "code",
   "execution_count": 6,
   "metadata": {},
   "outputs": [],
   "source": [
    "def filein(datain):\n",
    "    a = open(datain,'r')\n",
    "    return [s.replace(\"\\n\",\"\") for s in a]\n",
    "\n",
    "def fileout(datain,path):\n",
    "    a = open(path,\"w\")\n",
    "    for i in datain:\n",
    "        a.write('\\t'.join(str(s) for s in i)+'\\n')\n",
    "    a.close()\n",
    "    return a\n",
    "\n",
    "def match_process(ori):\n",
    "    df = ori\n",
    "    #print(df)\n",
    "    for i in [\"match\",\"wrong\",\"empty\"]:\n",
    "        df[0].append(i)\n",
    "    #print(df) \n",
    "\n",
    "    for index,i in enumerate(df[1:]):\n",
    "        #print(index,i)\n",
    "        match = 0\n",
    "        wrong = 0\n",
    "        empty = 0\n",
    "        sm = i[1:2+1]\n",
    "        yj = i[3:4+1]\n",
    "        #print(yj)\n",
    "        if (sm.count(\"NA\") == 1) | (yj.count(\"NA\") == 1):\n",
    "            empty = 1\n",
    "        elif (sm.count(\"NA\") == 2) | (yj.count(\"NA\") ==2):\n",
    "            empty = 2 \n",
    "        #print(\"count : empty %s\"%str(empty))\n",
    "        life = empty\n",
    "        for a in sm:\n",
    "            #if a == \"NA\":\n",
    "            #    continue\n",
    "            #print(\"a : %s\"%int(a))\n",
    "            if match + wrong + empty == 2:\n",
    "            #    print(\"Break\")\n",
    "                break\n",
    "            if a in yj:\n",
    "            #    print(\"match\")\n",
    "                match = match + 1\n",
    "                yj.remove(a)\n",
    "            elif (a not in yj) & (life == 0):\n",
    "            #    print(\"wrong\")\n",
    "                wrong = wrong +  1\n",
    "            elif (a not in yj) & (life == 1):\n",
    "                life = life -  1\n",
    "        #print(\"last\")\n",
    "        df[index+1].append(match)\n",
    "        df[index+1].append(wrong)\n",
    "        df[index+1].append(empty)\n",
    "        #print(df[index+1])\n",
    "    return df\n",
    "            \n",
    "\n",
    "def final_processing(datain,dataout):\n",
    "    df = filein(datain)\n",
    "    df = [s.split(\"\\t\") for s in df]\n",
    "    df = match_process(df)\n",
    "    fileout(df,dataout)"
   ]
  },
  {
   "cell_type": "code",
   "execution_count": 24,
   "metadata": {},
   "outputs": [
    {
     "data": {
      "text/plain": [
       "[['NIH19KT0407', '2', '2', '2', '2', 'match', 'wrong', 'empty'],\n",
       " ['NIH19KT0408', '33', 'NA', '2', '33', 1, 0, 1],\n",
       " ['NIH19KT0409', '2', '33', '24', '33', 1, 1, 0],\n",
       " ['NIH19KT0410', '2', '2', '2', '2', 2, 0, 0],\n",
       " ['NIH19KT0411', '2', '31', '2', '31', 2, 0, 0],\n",
       " ['NIH19KT0412', '2', '2', '2', '2', 2, 0, 0],\n",
       " ['NIH19KT0413', '24', '33', '2', '33', 1, 1, 0],\n",
       " ['NIH19KT0414', '11', '26', '11', '26', 2, 0, 0],\n",
       " ['NIH19KT0415', '2', '2', '2', '2', 2, 0, 0],\n",
       " ['NIH19KT0416', '24', '30', '24', '30', 2, 0, 0]]"
      ]
     },
     "execution_count": 24,
     "metadata": {},
     "output_type": "execute_result"
    }
   ],
   "source": [
    "##teststest# impute vs impute\n",
    "\n",
    "allele_A = filein(wdir + \"HLA_imputation_A_allele_2d_without.3.allele.txt\")\n",
    "allele_A = [s.split(\"\\t\") for s in allele_A[390:400]]\n",
    "a = match_process(allele_A)\n",
    "a\n",
    "#fileout(a,wdir + \"HLAimputation/Result/HLA.imputation.B_allele.2digit.without.3.allele.compare.sm.and.yj.txt\")"
   ]
  },
  {
   "cell_type": "code",
   "execution_count": 4,
   "metadata": {},
   "outputs": [
    {
     "ename": "NameError",
     "evalue": "name 'filein' is not defined",
     "output_type": "error",
     "traceback": [
      "\u001b[1;31m---------------------------------------------------------------------------\u001b[0m",
      "\u001b[1;31mNameError\u001b[0m                                 Traceback (most recent call last)",
      "\u001b[1;32m<ipython-input-4-cd242177cd23>\u001b[0m in \u001b[0;36m<module>\u001b[1;34m\u001b[0m\n\u001b[0;32m      1\u001b[0m \u001b[1;31m###test impute vs ngs\u001b[0m\u001b[1;33m\u001b[0m\u001b[1;33m\u001b[0m\u001b[1;33m\u001b[0m\u001b[0m\n\u001b[0;32m      2\u001b[0m \u001b[0mi\u001b[0m \u001b[1;33m=\u001b[0m\u001b[1;34m'A'\u001b[0m\u001b[1;33m\u001b[0m\u001b[1;33m\u001b[0m\u001b[0m\n\u001b[1;32m----> 3\u001b[1;33m \u001b[0mallele_A\u001b[0m \u001b[1;33m=\u001b[0m \u001b[0mfilein\u001b[0m\u001b[1;33m(\u001b[0m\u001b[0mwdir\u001b[0m \u001b[1;33m+\u001b[0m \u001b[1;34m\"ngs.vs.sm.compare/HLA_imputation_%s_allele_2d_without.3.allele.txt\"\u001b[0m\u001b[1;33m%\u001b[0m\u001b[0mi\u001b[0m\u001b[1;33m)\u001b[0m\u001b[1;33m\u001b[0m\u001b[1;33m\u001b[0m\u001b[0m\n\u001b[0m\u001b[0;32m      4\u001b[0m \u001b[0mallele_A\u001b[0m \u001b[1;33m=\u001b[0m \u001b[1;33m[\u001b[0m\u001b[0ms\u001b[0m\u001b[1;33m.\u001b[0m\u001b[0msplit\u001b[0m\u001b[1;33m(\u001b[0m\u001b[1;34m\"\\t\"\u001b[0m\u001b[1;33m)\u001b[0m \u001b[1;32mfor\u001b[0m \u001b[0ms\u001b[0m \u001b[1;32min\u001b[0m \u001b[0mallele_A\u001b[0m\u001b[1;33m[\u001b[0m\u001b[1;36m21\u001b[0m\u001b[1;33m:\u001b[0m\u001b[1;36m23\u001b[0m\u001b[1;33m]\u001b[0m\u001b[1;33m]\u001b[0m\u001b[1;33m\u001b[0m\u001b[1;33m\u001b[0m\u001b[0m\n\u001b[0;32m      5\u001b[0m \u001b[0ma\u001b[0m \u001b[1;33m=\u001b[0m \u001b[0mmatch_process\u001b[0m\u001b[1;33m(\u001b[0m\u001b[0mallele_A\u001b[0m\u001b[1;33m)\u001b[0m\u001b[1;33m\u001b[0m\u001b[1;33m\u001b[0m\u001b[0m\n",
      "\u001b[1;31mNameError\u001b[0m: name 'filein' is not defined"
     ]
    }
   ],
   "source": [
    "###test impute vs ngs\n",
    "i ='A'\n",
    "allele_A = filein(wdir + \"ngs.vs.sm.compare/HLA_imputation_%s_allele_2d_without.3.allele.txt\"%i)\n",
    "allele_A = [s.split(\"\\t\") for s in allele_A[21:23]]\n",
    "a = match_process(allele_A)\n",
    "a\n"
   ]
  },
  {
   "cell_type": "code",
   "execution_count": 206,
   "metadata": {},
   "outputs": [
    {
     "data": {
      "text/plain": [
       "<_io.TextIOWrapper name='C:/Users/user/Desktop/KCDC/HLAimputation/Result/HLA.imputation.B_allele.2digit.without.3.allele.compare.sm.and.yj.txt' mode='w' encoding='cp949'>"
      ]
     },
     "execution_count": 206,
     "metadata": {},
     "output_type": "execute_result"
    }
   ],
   "source": [
    "allele_A = filein(wdir + \"HLA_imputation_B_allele_2d_without.3.allele.txt\")\n",
    "allele_A = [s.split(\"\\t\") for s in allele_A]\n",
    "a = match_process(allele_A)\n",
    "fileout(a,wdir + \"HLA.imputation.B_allele.2digit.without.3.allele.compare.sm.and.yj.txt\")"
   ]
  },
  {
   "cell_type": "code",
   "execution_count": 207,
   "metadata": {},
   "outputs": [
    {
     "data": {
      "text/plain": [
       "<_io.TextIOWrapper name='C:/Users/user/Desktop/KCDC/HLAimputation/Result/HLA.imputation.DRB_allele.2digit.without.3.allele.compare.sm.and.yj.txt' mode='w' encoding='cp949'>"
      ]
     },
     "execution_count": 207,
     "metadata": {},
     "output_type": "execute_result"
    }
   ],
   "source": [
    "allele_A = filein(wdir + \"HLA_imputation_DRB_allele_2d_without.3.allele.txt\")\n",
    "allele_A = [s.split(\"\\t\") for s in allele_A]\n",
    "a = match_process(allele_A)\n",
    "fileout(a,wdir + \"HLA.imputation.DRB_allele.2digit.without.3.allele.compare.sm.and.yj.txt\")"
   ]
  },
  {
   "cell_type": "code",
   "execution_count": 8,
   "metadata": {},
   "outputs": [],
   "source": [
    "#2 digit \n",
    "for i in [\"DRB\",\"A\",\"B\"]:\n",
    "    final_processing(wdir + \"HLA_imputation_%s_allele_2d_without.3.allele.txt\"%i ,wdir + \"HLA.imputation.%s_allele.2digit.without.3.allele.compare.sm.and.yj.txt\"%i)"
   ]
  },
  {
   "cell_type": "code",
   "execution_count": 9,
   "metadata": {},
   "outputs": [],
   "source": [
    "#4 digit \n",
    "for i in [\"DRB\",\"A\",\"B\"]:\n",
    "    final_processing(wdir + \"HLA_imputation_%s_allele_4d_without.3.allele.txt\"%i ,wdir + \"HLA.imputation.%s_allele.4digit.without.3.allele.compare.sm.and.yj.txt\"%i)"
   ]
  },
  {
   "cell_type": "code",
   "execution_count": 13,
   "metadata": {},
   "outputs": [],
   "source": [
    "####ngs vs sm\n",
    "for i in [\"DRB\",\"A\",\"B\"]:\n",
    "    final_processing(wdir + \"ngs.vs.sm.compare/HLA_imputation_%s_allele_4d_without.3.allele.txt\"%i ,wdir + \"ngs.vs.sm.compare/HLA.imputation.%s_allele.4digit.without.3.allele.compare.ngs.and.sm.txt\"%i)\n",
    "\n",
    "\n",
    "####ngs vs sm\n",
    "for i in [\"DRB\",\"A\",\"B\"]:\n",
    "    final_processing(wdir + \"ngs.vs.sm.compare/HLA_imputation_%s_allele_2d_without.3.allele.txt\"%i ,wdir + \"ngs.vs.sm.compare/HLA.imputation.%s_allele.2digit.without.3.allele.compare.ngs.and.sm.txt\"%i)\n"
   ]
  },
  {
   "cell_type": "code",
   "execution_count": null,
   "metadata": {},
   "outputs": [],
   "source": []
  },
  {
   "cell_type": "code",
   "execution_count": null,
   "metadata": {},
   "outputs": [],
   "source": []
  },
  {
   "cell_type": "code",
   "execution_count": null,
   "metadata": {},
   "outputs": [],
   "source": []
  },
  {
   "cell_type": "code",
   "execution_count": null,
   "metadata": {},
   "outputs": [],
   "source": []
  },
  {
   "cell_type": "code",
   "execution_count": null,
   "metadata": {},
   "outputs": [],
   "source": []
  },
  {
   "cell_type": "code",
   "execution_count": null,
   "metadata": {},
   "outputs": [],
   "source": []
  }
 ],
 "metadata": {
  "kernelspec": {
   "display_name": "Python 3",
   "language": "python",
   "name": "python3"
  },
  "language_info": {
   "codemirror_mode": {
    "name": "ipython",
    "version": 3
   },
   "file_extension": ".py",
   "mimetype": "text/x-python",
   "name": "python",
   "nbconvert_exporter": "python",
   "pygments_lexer": "ipython3",
   "version": "3.8.5"
  }
 },
 "nbformat": 4,
 "nbformat_minor": 4
}
