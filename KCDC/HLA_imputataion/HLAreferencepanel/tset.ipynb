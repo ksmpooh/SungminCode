{
 "cells": [
  {
   "cell_type": "code",
   "execution_count": 7,
   "metadata": {},
   "outputs": [],
   "source": [
    "tmp =\"HLA_A*01  NIH19KT0019_NIH19KT0019=0\tNIH19KT0013_NIH19KT0013=0\tNIH19KT0008_NIH19KT0008=0\""
   ]
  },
  {
   "cell_type": "code",
   "execution_count": 8,
   "metadata": {},
   "outputs": [
    {
     "data": {
      "text/plain": "'HLA_A*01'"
     },
     "execution_count": 8,
     "metadata": {},
     "output_type": "execute_result"
    }
   ],
   "source": [
    "i = tmp.split()\n",
    "out  = i[0]\n",
    "out"
   ]
  },
  {
   "cell_type": "code",
   "execution_count": 9,
   "metadata": {},
   "outputs": [
    {
     "name": "stdout",
     "output_type": "stream",
     "text": [
      "out\t0\t0\t0\n"
     ]
    }
   ],
   "source": [
    "j = [s.split(\"=\")[1] for s in i[1:]]\n",
    "print(\"out\\t%s\"%(\"\\t\".join(j)))"
   ]
  },
  {
   "cell_type": "code",
   "execution_count": 10,
   "metadata": {},
   "outputs": [
    {
     "name": "stdout",
     "output_type": "stream",
     "text": [
      "out\tNIH19KT0019\tNIH19KT0013\tNIH19KT0008\n"
     ]
    }
   ],
   "source": [
    "j = [s.split(\"_\")[0] for s in i[1:]]\n",
    "print(\"out\\t%s\"%(\"\\t\".join(j)))"
   ]
  },
  {
   "cell_type": "code",
   "execution_count": 34,
   "metadata": {},
   "outputs": [
    {
     "name": "stdout",
     "output_type": "stream",
     "text": [
      "ID\t\n",
      "ID\tNIH19KT0019\tNIH19KT0013\tNIH19KT0008\n",
      "['ID', 'NIH19KT0019', 'NIH19KT0013', 'NIH19KT0008']\n",
      "['HLA_A*01', 'NIH19KT0019_NIH19KT0019=0', 'NIH19KT0013_NIH19KT0013=0', 'NIH19KT0008_NIH19KT0008=0\\n']\n",
      "4\n",
      "ID\tHLA_A*01\tHLA_A*01:01:01:01\tHLA_A*01:01:13\tHLA_A*01:02\tHLA_A*01:12\tHLA_A*01:136\tHLA_A*02\tHLA_A*02:01:01:01\tHLA_A*02:01:02\tHLA_A*02:01:04\n",
      "NIH19KT0019\t0\t0\t0\t0\t0\t0\t0.001\t0.001\t0\t0\n",
      "NIH19KT0013\t0\t0\t0\t0\t0\t0\t0.004\t0.003\t0\t0\n",
      "NIH19KT0008\t0\t0\t0\t0\t0\t0\t0\t0\t0\t0\n"
     ]
    }
   ],
   "source": [
    "input_list = ['AAA\\ta\\n', 'BBB\\tb\\n', 'CCC\\tc\\n', 'DDD\\td\\n', 'EEE\\te\\n', 'FFF\\tf']\n",
    "input = open(\"/Users/ksmpooh/Desktop/KCDC/HLAimputation/MakeReferencePanel/test/michigan/t.test.txt\",\"r\")\n",
    "input_list = input.readlines()\n",
    "header = \"ID\\t\"\n",
    "i = input_list[0].split()\n",
    "j = [s.split(\"_\")[0] for s in i[1:]]\n",
    "print(header)\n",
    "header = header + '\\t'.join(j)\n",
    "print(header)\n",
    "\n",
    "#new_list\n",
    "\n",
    "new = [s for s in header.split(\"\\t\")]\n",
    "print(new)\n",
    "c = len(input_list[0].split(\"\\t\"))\n",
    "print(input_list[0].split(\"\\t\"))\n",
    "print(c)\n",
    "for i in input_list:\n",
    "    t = i.split()\n",
    "    for j in range(0,c):\n",
    "        if j ==0:\n",
    "            new[j] = new[j] +\"\\t\" + t[j]#.split(\"=\")\n",
    "        else:\n",
    "            new[j] = new[j] +\"\\t\" + t[j].split(\"=\")[1]\n",
    "\n",
    "\n",
    "for i in new:\n",
    "    print(i)\n",
    "\n",
    "\n"
   ]
  },
  {
   "cell_type": "code",
   "execution_count": 38,
   "metadata": {},
   "outputs": [
    {
     "name": "stdout",
     "output_type": "stream",
     "text": [
      "2\n",
      "6\n"
     ]
    }
   ],
   "source": [
    "a = [1,111,222,3,4,5,222]\n",
    "print(a.index(max(a)))\n",
    "\n",
    "a = [1,111,-1,3,4,5,222]\n",
    "print(a.index(max(a)))"
   ]
  },
  {
   "cell_type": "code",
   "execution_count": 12,
   "metadata": {},
   "outputs": [
    {
     "name": "stdout",
     "output_type": "stream",
     "text": [
      "[['HLA_A*01    NIH19KT0019_NIH19KT0019=0', 'NIH19KT0013_NIH19KT0013=0', 'NIH19KT0008_NIH19KT0008=0'], ['HLA_A*01:01:01:01   NIH19KT0019_NIH19KT0019=0', 'NIH19KT0013_NIH19KT0013=0', 'NIH19KT0008_NIH19KT0008=0'], ['HLA_A*01:01:13', 'NIH19KT0019_NIH19KT0019=0', 'NIH19KT0013_NIH19KT0013=0', 'NIH19KT0008_NIH19KT0008=0'], ['HLA_A*01:02 NIH19KT0019_NIH19KT0019=0', 'NIH19KT0013_NIH19KT0013=0', 'NIH19KT0008_NIH19KT0008=0'], ['HLA_A*01:12 NIH19KT0019_NIH19KT0019=0', 'NIH19KT0013_NIH19KT0013=0', 'NIH19KT0008_NIH19KT0008=0'], ['HLA_A*01:136    NIH19KT0019_NIH19KT0019=0', 'NIH19KT0013_NIH19KT0013=0', 'NIH19KT0008_NIH19KT0008=0'], ['HLA_A*02    NIH19KT0019_NIH19KT0019=0.001', 'NIH19KT0013_NIH19KT0013=0.004', 'NIH19KT0008_NIH19KT0008=0'], ['HLA_A*02:01:01:01   NIH19KT0019_NIH19KT0019=0.001', 'NIH19KT0013_NIH19KT0013=0.003', 'NIH19KT0008_NIH19KT0008=0'], ['HLA_A*02:01:02  NIH19KT0019_NIH19KT0019=0', 'NIH19KT0013_NIH19KT0013=0', 'NIH19KT0008_NIH19KT0008=0'], ['HLA_A*02:01:04  NIH19KT0019_NIH19KT0019=0', 'NIH19KT0013_NIH19KT0013=0', 'NIH19KT0008_NIH19KT0008=0']]\n"
     ]
    }
   ],
   "source": [
    "print(new_list)"
   ]
  },
  {
   "cell_type": "code",
   "execution_count": 1,
   "metadata": {},
   "outputs": [
    {
     "name": "stdout",
     "output_type": "stream",
     "text": [
      "HLA_A\tHLA_B\t123123\tHLA\n",
      "\n",
      "_A\t_B\t123123\t\n",
      "\n"
     ]
    }
   ],
   "source": [
    "a = \"HLA_A\\tHLA_B\\t123123\\tHLA\\n\"\n",
    "print(a)\n",
    "print(a.replace(\"HLA\",\"\"))"
   ]
  },
  {
   "cell_type": "code",
   "execution_count": 2,
   "metadata": {},
   "outputs": [
    {
     "name": "stdout",
     "output_type": "stream",
     "text": [
      "/Users/ksmpooh/Desktop/KCDC/HLAimputation/MakeReferencePanel/HLAtyping.vs.HLAimp.accuracy.check.NGStyping.DATA.txt\n",
      "['', 'Users', 'ksmpooh', 'Desktop', 'KCDC', 'HLAimputation', 'MakeReferencePanel', 'HLAtyping.vs.HLAimp.accuracy.check.NGStyping.DATA.txt']\n",
      "HLAtyping.vs.HLAimp.accuracy.check.NGStyping.DATA.txt\n"
     ]
    }
   ],
   "source": [
    "a = \"/Users/ksmpooh/Desktop/KCDC/HLAimputation/MakeReferencePanel/HLAtyping.vs.HLAimp.accuracy.check.NGStyping.DATA.txt\"\n",
    "print(a)\n",
    "print(a.split(\"/\"))\n",
    "print(a.split(\"/\")[-1])"
   ]
  },
  {
   "cell_type": "code",
   "execution_count": 6,
   "metadata": {},
   "outputs": [
    {
     "name": "stdout",
     "output_type": "stream",
     "text": [
      "5\n",
      "12\n",
      "345\n"
     ]
    },
    {
     "data": {
      "text/plain": "3"
     },
     "execution_count": 6,
     "metadata": {},
     "output_type": "execute_result"
    }
   ],
   "source": [
    "a = \"12345\"\n",
    "print(len(a))\n",
    "print(a[0:1+1])\n",
    "print(a[2:])\n",
    "a = [1,2,3]\n",
    "len(a)"
   ]
  },
  {
   "cell_type": "code",
   "execution_count": 12,
   "metadata": {},
   "outputs": [
    {
     "name": "stdout",
     "output_type": "stream",
     "text": [
      "SNP_123\tp\ts\n",
      "\n"
     ]
    }
   ],
   "source": [
    "a = \"SNP_123\\tp\\ta\\n\"\n",
    "b = \"HLA_222\"\n",
    "c = \"AA_222\"\n",
    "d = \"12341\"\n",
    "if \"\\ts\\n\" in a:\n",
    "    print(a)"
   ]
  },
  {
   "cell_type": "code",
   "execution_count": 33,
   "metadata": {},
   "outputs": [
    {
     "name": "stdout",
     "output_type": "stream",
     "text": [
      "Error occurred while getting the data from the API\n"
     ]
    }
   ],
   "source": [
    "import requests\n",
    "\n",
    "hla_type = \"HLA-A*01:01:01:01\" # HLA type 입력\n",
    "url = f\"https://www.ebi.ac.uk/ipd/api/allele/search/findByHla?hla={hla_type}\"\n",
    "\n",
    "response = requests.get(url)\n",
    "\n",
    "if response.ok:\n",
    "    data = response.json()\n",
    "    ipd_id = data[\"id\"]\n",
    "    print(f\"The IPD ID for {hla_type} is: {ipd_id}\")\n",
    "else:\n",
    "    print(\"Error occurred while getting the data from the API\")\n"
   ]
  },
  {
   "cell_type": "code",
   "execution_count": 25,
   "metadata": {},
   "outputs": [
    {
     "name": "stdout",
     "output_type": "stream",
     "text": [
      "None\n",
      "HLA type: HLA-A*01:01\n",
      "IPD accession: None\n",
      "G group: None\n",
      "P group: None\n",
      "Pre-2010 Nomenclature: None\n"
     ]
    }
   ],
   "source": [
    "hla_type = 'HLA-A*01:01'\n",
    "accession, g_group, p_group, pre_2010 = get_allele_info(hla_type)\n",
    "print('HLA type:', hla_type)\n",
    "print('IPD accession:', accession)\n",
    "print('G group:', g_group)\n",
    "print('P group:', p_group)\n",
    "print('Pre-2010 Nomenclature:', pre_2010)\n"
   ]
  },
  {
   "cell_type": "code",
   "execution_count": 45,
   "metadata": {},
   "outputs": [
    {
     "name": "stdout",
     "output_type": "stream",
     "text": [
      "2\n",
      "5\n"
     ]
    }
   ],
   "source": [
    "a = [1,3,4]\n",
    "for i in range(1,5+1):\n",
    "    if i in a:\n",
    "        #pass\n",
    "        continue\n",
    "        #print(\"pass\")\n",
    "    print(i)\n",
    "    #print(\"not pass\")\n"
   ]
  },
  {
   "cell_type": "code",
   "execution_count": 47,
   "metadata": {},
   "outputs": [
    {
     "name": "stdout",
     "output_type": "stream",
     "text": [
      "0 3\n",
      "1 4\n",
      "2 5\n"
     ]
    }
   ],
   "source": [
    "for ix,i in enumerate(range(3,5+1)):\n",
    "    print(ix,i)"
   ]
  },
  {
   "cell_type": "code",
   "execution_count": 52,
   "metadata": {},
   "outputs": [
    {
     "name": "stdout",
     "output_type": "stream",
     "text": [
      "0\n",
      "0\n"
     ]
    }
   ],
   "source": [
    "print(str(sum([0])))\n",
    "print(str(sum([])))"
   ]
  },
  {
   "cell_type": "code",
   "execution_count": null,
   "metadata": {},
   "outputs": [],
   "source": []
  }
 ],
 "metadata": {
  "kernelspec": {
   "display_name": "Python 3.8.13 64-bit ('base': conda)",
   "metadata": {
    "interpreter": {
     "hash": "0c6b25a2ab5e3205a444af4f5a64e29752114153bd45700a2f23b8ddc4fdb0ec"
    }
   },
   "name": "python3"
  },
  "language_info": {
   "codemirror_mode": {
    "name": "ipython",
    "version": 3
   },
   "file_extension": ".py",
   "mimetype": "text/x-python",
   "name": "python",
   "nbconvert_exporter": "python",
   "pygments_lexer": "ipython3",
   "version": "3.8.13"
  },
  "orig_nbformat": 2
 },
 "nbformat": 4,
 "nbformat_minor": 2
}