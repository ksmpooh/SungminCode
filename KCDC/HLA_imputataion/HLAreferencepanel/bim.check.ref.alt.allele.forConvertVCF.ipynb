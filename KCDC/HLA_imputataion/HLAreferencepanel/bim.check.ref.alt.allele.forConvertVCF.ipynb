{
 "cells": [
  {
   "cell_type": "code",
   "execution_count": 1,
   "metadata": {},
   "outputs": [],
   "source": [
    "import os,glob"
   ]
  },
  {
   "cell_type": "code",
   "execution_count": 2,
   "metadata": {},
   "outputs": [],
   "source": [
    "wdir = \"/Volumes/DATA/HLAreferencePanel/TEST.JG/KRKD/\""
   ]
  },
  {
   "cell_type": "code",
   "execution_count": null,
   "metadata": {},
   "outputs": [],
   "source": [
    "df = open(\"JG.KR.KD.merge_updateID_chr6_28Mto34M_rmdup_updateid_rmHLAtypesmaple.bim.ori\",\"r\")\n",
    "out = open(\"JG.KR.KD.merge_updateID_chr6_28Mto34M_rmdup_updateid_rmHLAtypesmaple.bim\",\"w\")\n",
    "\n",
    "while 1:\n",
    "    line = df.readline()\n",
    "    if not line:break\n",
    "    tmp = line.split()\n",
    "    if tmp[4] == \"0\" or tmp[5] == \"0\":\n",
    "\n",
    "    else:\n",
    "        out.write(tmp)\n",
    "\n",
    "out.close()\n"
   ]
  }
 ],
 "metadata": {
  "kernelspec": {
   "display_name": "Python 3.8.13 64-bit ('base': conda)",
   "metadata": {
    "interpreter": {
     "hash": "0c6b25a2ab5e3205a444af4f5a64e29752114153bd45700a2f23b8ddc4fdb0ec"
    }
   },
   "name": "python3"
  },
  "language_info": {
   "codemirror_mode": {
    "name": "ipython",
    "version": 3
   },
   "file_extension": ".py",
   "mimetype": "text/x-python",
   "name": "python",
   "nbconvert_exporter": "python",
   "pygments_lexer": "ipython3",
   "version": "3.8.13"
  },
  "orig_nbformat": 2
 },
 "nbformat": 4,
 "nbformat_minor": 2
}