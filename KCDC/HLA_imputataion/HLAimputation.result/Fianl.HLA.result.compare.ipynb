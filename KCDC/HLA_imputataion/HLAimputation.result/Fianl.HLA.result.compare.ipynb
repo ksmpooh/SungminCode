{
 "cells": [
  {
   "cell_type": "code",
   "execution_count": 4,
   "metadata": {},
   "outputs": [],
   "source": [
    "#### FINAL result compare NGS vs imputation\n",
    "### 20200803"
   ]
  },
  {
   "cell_type": "code",
   "execution_count": 1,
   "metadata": {},
   "outputs": [],
   "source": [
    "wdir = \"C:/Users/user/Desktop/KCDC/\"\n",
    "#wdir = wdir + \"HLAimputation/UsingHan/\"\n",
    "#wdir = wdir + \"HLAimputation/20200731/Han/\"\n",
    "wdir = wdir + \"HLAimputation/255sample/02.han/\"\n",
    "\n"
   ]
  },
  {
   "cell_type": "code",
   "execution_count": 2,
   "metadata": {},
   "outputs": [],
   "source": [
    "def filein(datain):\n",
    "    a = open(datain,'r')\n",
    "    return [s.replace(\"\\n\",\"\") for s in a]\n",
    "\n",
    "def fileout(datain,path):\n",
    "    a = open(path,\"w\")\n",
    "    for i in datain:\n",
    "        a.write('\\t'.join(str(s) for s in i)+'\\n')\n",
    "    a.close()\n",
    "    return a\n",
    "\n",
    "def match_process(ori):\n",
    "    df = ori\n",
    "    #print(df)\n",
    "    for i in [\"match\",\"wrong\",\"empty\"]:\n",
    "        df[0].append(i)\n",
    "    #print(df) \n",
    "\n",
    "    for index,i in enumerate(df[1:]):\n",
    "        #print(index,i)\n",
    "        match = 0\n",
    "        wrong = 0\n",
    "        empty = 0\n",
    "        sm = i[1:2+1]\n",
    "        ngs = i[3:4+1]\n",
    "        #print(ngs)\n",
    "        if (sm.count(\"NA\") == 1) | (ngs.count(\"NA\") == 1):\n",
    "            empty = 1\n",
    "        elif (sm.count(\"NA\") == 2) | (ngs.count(\"NA\") ==2):\n",
    "            empty = 2 \n",
    "        #print(\"count : empty %s\"%str(empty))\n",
    "        life = empty\n",
    "        for a in sm:\n",
    "            #if a == \"NA\":\n",
    "            #    continue\n",
    "            #print(\"a : %s\"%int(a))\n",
    "            if match + wrong + empty == 2:\n",
    "            #    print(\"Break\")\n",
    "                break\n",
    "            if a in ngs:\n",
    "            #    print(\"match\")\n",
    "                match = match + 1\n",
    "                ngs.remove(a)\n",
    "            elif (a not in ngs) & (life == 0):\n",
    "            #    print(\"wrong\")\n",
    "                wrong = wrong +  1\n",
    "            elif (a not in ngs) & (life == 1):\n",
    "                life = life -  1\n",
    "        #print(\"last\")\n",
    "        df[index+1].append(match)\n",
    "        df[index+1].append(wrong)\n",
    "        df[index+1].append(empty)\n",
    "        #print(df[index+1])\n",
    "    return df\n",
    "            \n",
    "\n",
    "def final_processing(datain,dataout):\n",
    "    df = filein(datain)\n",
    "    df = [s.split(\"\\t\") for s in df]\n",
    "    df = match_process(df)\n",
    "    fileout(df,dataout)"
   ]
  },
  {
   "cell_type": "code",
   "execution_count": 6,
   "metadata": {},
   "outputs": [],
   "source": [
    "####ngs vs sm\n",
    "for i in [\"DRB\",\"A\",\"B\"]:\n",
    "    final_processing(wdir + \"HLA_imputation_%s_allele_4d_without.3.allele.txt\"%i ,wdir + \"HLA.imputation.%s_allele.4digit.without.3.allele.compare.ngs.and.sm.txt\"%i)\n",
    "\n",
    "\n",
    "####ngs vs sm\n",
    "for i in [\"DRB\",\"A\",\"B\"]:\n",
    "    final_processing(wdir + \"HLA_imputation_%s_allele_2d_without.3.allele.txt\"%i ,wdir + \"HLA.imputation.%s_allele.2digit.without.3.allele.compare.ngs.and.sm.txt\"%i)\n"
   ]
  },
  {
   "cell_type": "code",
   "execution_count": null,
   "metadata": {},
   "outputs": [],
   "source": []
  }
 ],
 "metadata": {
  "kernelspec": {
   "display_name": "Python 3",
   "language": "python",
   "name": "python3"
  },
  "language_info": {
   "codemirror_mode": {
    "name": "ipython",
    "version": 3
   },
   "file_extension": ".py",
   "mimetype": "text/x-python",
   "name": "python",
   "nbconvert_exporter": "python",
   "pygments_lexer": "ipython3",
   "version": "3.6.8"
  }
 },
 "nbformat": 4,
 "nbformat_minor": 2
}
