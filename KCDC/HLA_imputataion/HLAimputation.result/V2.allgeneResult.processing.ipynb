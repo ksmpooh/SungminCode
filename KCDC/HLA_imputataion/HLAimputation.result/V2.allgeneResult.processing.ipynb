{
 "cells": [
  {
   "cell_type": "code",
   "execution_count": 73,
   "metadata": {},
   "outputs": [],
   "source": [
    "#### FINAL result compare NGS vs imputation\n",
    "### 20200803"
   ]
  },
  {
   "cell_type": "code",
   "execution_count": 10,
   "metadata": {},
   "outputs": [],
   "source": [
    "wdir = \"C:/Users/user/Desktop/KCDC/\"\n",
    "#wdir = wdir + \"HLAimputation/UsingHan/\"\n",
    "#wdir = wdir + \"HLAimputation/20200731/Han/\"\n",
    "HLAtypingDir = wdir + \"transplantation/HLAtyping/20200828/\"\n",
    "wdir = wdir + \"HLAimputation/255sample/02.han/\"\n",
    "#wdir = wdir + \"HLAimputation/255sample/01.pan/\"\n",
    "wdir = \"c:/Users/user/Desktop/KCDC/HLAimputation/20200731/Han/\"\n",
    "#wdir = \"c:/Users/user/Desktop/KCDC/HLAimputation/20200731/Pan/\"\n"
   ]
  },
  {
   "cell_type": "code",
   "execution_count": 17,
   "metadata": {},
   "outputs": [],
   "source": [
    "def filein(datain):\n",
    "    a = open(datain,'r')\n",
    "    return [s.replace(\"\\n\",\"\") for s in a]\n",
    "\n",
    "def fileout(datain,path):\n",
    "    a = open(path,\"w\")\n",
    "    for i in datain:\n",
    "        a.write(','.join(str(s) for s in i)+'\\n')\n",
    "    a.close()\n",
    "    return a\n",
    "\n",
    "def match_process(ori,gene):\n",
    "    df = ori\n",
    "    \n",
    "    #print(df)\n",
    "    for i in [gene+\".match\",gene+\".wrong\",gene+\".empty\"]:\n",
    "        df[0].append(i)\n",
    "    #print(df) \n",
    "\n",
    "    for index,i in enumerate(df[1:]):\n",
    "        #print(index,i)\n",
    "        match = 0\n",
    "        wrong = 0\n",
    "        empty = 0\n",
    "        sm = i[0:1+1]\n",
    "        ngs = i[2:3+1]\n",
    "        #print(ngs)\n",
    "        if (sm.count(\"NA\") == 1) | (ngs.count(\"NA\") == 1):\n",
    "            empty = 1\n",
    "        elif (sm.count(\"NA\") == 2) | (ngs.count(\"NA\") ==2):\n",
    "            empty = 2 \n",
    "        #print(\"count : empty %s\"%str(empty))\n",
    "        life = empty\n",
    "        for a in sm:\n",
    "            #if a == \"NA\":\n",
    "            #    continue\n",
    "            #print(\"a : %s\"%int(a))\n",
    "            if match + wrong + empty == 2:\n",
    "            #    print(\"Break\")\n",
    "                break\n",
    "            if a in ngs:\n",
    "            #    print(\"match\")\n",
    "                match = match + 1\n",
    "                ngs.remove(a)\n",
    "            elif (a not in ngs) & (life == 0):\n",
    "            #    print(\"wrong\")\n",
    "                wrong = wrong +  1\n",
    "            elif (a not in ngs) & (life == 1):\n",
    "                life = life -  1\n",
    "        #print(\"last\")\n",
    "        df[index+1].append(match)\n",
    "        df[index+1].append(wrong)\n",
    "        df[index+1].append(empty)\n",
    "        #print(df[index+1])\n",
    "    return df\n",
    "\n",
    "def gene_df(ori,a1,a2,a3,a4):\n",
    "    outdf = []\n",
    "    for i in ori:\n",
    "        x = []\n",
    "        x.append(i[int(a1)])\n",
    "        x.append(i[int(a2)])\n",
    "        x.append(i[int(a3)])\n",
    "        x.append(i[int(a4)])\n",
    "        outdf.append(x)\n",
    "        #print(x)\n",
    "    return outdf \n",
    "\n",
    "def final_processing(datain,dataout):\n",
    "    df = filein(datain)\n",
    "    df = [s.split(\"\\t\") for s in df]\n",
    "    df = match_process(df)\n",
    "    fileout(df,dataout)"
   ]
  },
  {
   "cell_type": "code",
   "execution_count": null,
   "metadata": {},
   "outputs": [],
   "source": []
  },
  {
   "cell_type": "code",
   "execution_count": 18,
   "metadata": {},
   "outputs": [],
   "source": [
    "genes = [\"A\",\"B\",\"C\",\"DRB1\",\"DPA1\",\"DPB1\",\"DQA1\",\"DQB1\"]\n",
    "in_df = filein(wdir + \"MERGE.impResult.hlatyping.all.gene.2digit.csv\")\n",
    "#in_df = filein(wdir + \"MERGE.impResult.hlatyping.all.gene.4digit.csv\")\n"
   ]
  },
  {
   "cell_type": "code",
   "execution_count": 19,
   "metadata": {},
   "outputs": [
    {
     "data": {
      "text/plain": [
       "['IID,YSample,IMP_A.1,IMP_A.2,IMP_B.1,IMP_B.2,IMP_C.1,IMP_C.2,IMP_DRB1.1,IMP_DRB1.2,IMP_DPA1.1,IMP_DPA1.2,IMP_DPB1.1,IMP_DPB1.2,IMP_DQA1.1,IMP_DQA1.2,IMP_DQB1.1,IMP_DQB1.2,NGS_A.1,NGS_A.2,NGS_B.1,NGS_B.2,NGS_C.1,NGS_C.2,NGS_DRB1.1,NGS_DRB1.2,NGS_DRB3.1,NGS_DRB3.2,NGS_DQA1.1,NGS_DQA1.2,NGS_DQB1.1,NGS_DQB1.2,NGS_DPA1.1,NGS_DPA1.2,NGS_DPB1.1,NGS_DPB1.2',\n",
       " 'NIH19KT0001,CDC001,2,33,40,44,3,14,8,13,1,1,4,4,NA,NA,6,6,2,33,40,44,3,14,8,13,3,3,1,1,6,6,1,1,4,4',\n",
       " 'NIH19KT0003,CDC003,2,24,7,15,4,7,1,11,1,2,4,5,1,5,3,5,24,2,7,15,7,4,NA,NA,2,2,1,1,5,3,1,2,5,4']"
      ]
     },
     "execution_count": 19,
     "metadata": {},
     "output_type": "execute_result"
    }
   ],
   "source": [
    "in_df[0:3]"
   ]
  },
  {
   "cell_type": "code",
   "execution_count": 20,
   "metadata": {},
   "outputs": [
    {
     "data": {
      "text/plain": [
       "['IID',\n",
       " 'YSample',\n",
       " 'IMP_A.1',\n",
       " 'IMP_A.2',\n",
       " 'IMP_B.1',\n",
       " 'IMP_B.2',\n",
       " 'IMP_C.1',\n",
       " 'IMP_C.2',\n",
       " 'IMP_DRB1.1',\n",
       " 'IMP_DRB1.2',\n",
       " 'IMP_DPA1.1',\n",
       " 'IMP_DPA1.2',\n",
       " 'IMP_DPB1.1',\n",
       " 'IMP_DPB1.2',\n",
       " 'IMP_DQA1.1',\n",
       " 'IMP_DQA1.2',\n",
       " 'IMP_DQB1.1',\n",
       " 'IMP_DQB1.2',\n",
       " 'NGS_A.1',\n",
       " 'NGS_A.2',\n",
       " 'NGS_B.1',\n",
       " 'NGS_B.2',\n",
       " 'NGS_C.1',\n",
       " 'NGS_C.2',\n",
       " 'NGS_DRB1.1',\n",
       " 'NGS_DRB1.2',\n",
       " 'NGS_DRB3.1',\n",
       " 'NGS_DRB3.2',\n",
       " 'NGS_DQA1.1',\n",
       " 'NGS_DQA1.2',\n",
       " 'NGS_DQB1.1',\n",
       " 'NGS_DQB1.2',\n",
       " 'NGS_DPA1.1',\n",
       " 'NGS_DPA1.2',\n",
       " 'NGS_DPB1.1',\n",
       " 'NGS_DPB1.2']"
      ]
     },
     "execution_count": 20,
     "metadata": {},
     "output_type": "execute_result"
    }
   ],
   "source": [
    "index = in_df[0].split(\",\")\n",
    "index"
   ]
  },
  {
   "cell_type": "code",
   "execution_count": 21,
   "metadata": {},
   "outputs": [
    {
     "data": {
      "text/plain": [
       "[['IID', 'YSample'], ['NIH19KT0001', 'CDC001'], ['NIH19KT0003', 'CDC003']]"
      ]
     },
     "execution_count": 21,
     "metadata": {},
     "output_type": "execute_result"
    }
   ],
   "source": [
    "out = []\n",
    "in_df = [s.split(\",\") for s in in_df]\n",
    "for i in in_df:\n",
    "    #print(i.split(\",\")[0:2])\n",
    "    out.append(i[0:2])\n",
    "out[0:3]\n",
    "    \n"
   ]
  },
  {
   "cell_type": "code",
   "execution_count": 22,
   "metadata": {},
   "outputs": [],
   "source": [
    "for gene in genes:\n",
    "    \n",
    "    #print(gene)\n",
    "    IMP_allele1 = index.index(\"IMP_%s.1\"%gene)\n",
    "    IMP_allele2 = index.index(\"IMP_%s.2\"%gene)\n",
    "    #print(IMP_allele1,IMP_allele2)\n",
    "    NGS_allele1 = index.index(\"NGS_%s.1\"%gene)\n",
    "    NGS_allele2 = index.index(\"NGS_%s.2\"%gene)\n",
    "    pre_df = gene_df(in_df,IMP_allele1,IMP_allele2,NGS_allele1,NGS_allele2)\n",
    "    pre_df = match_process(pre_df,gene)\n",
    "    #print(pre_df[0:5])    \n",
    "    for i,j in enumerate(pre_df):\n",
    "        for k in j:\n",
    "            out[i].append(k)\n"
   ]
  },
  {
   "cell_type": "code",
   "execution_count": 23,
   "metadata": {},
   "outputs": [
    {
     "data": {
      "text/plain": [
       "<_io.TextIOWrapper name='c:/Users/user/Desktop/KCDC/HLAimputation/20200731/Han/compare.IMPvsNGS.all.gene.2digit.csv' mode='w' encoding='cp949'>"
      ]
     },
     "execution_count": 23,
     "metadata": {},
     "output_type": "execute_result"
    }
   ],
   "source": [
    "digit = '2'\n",
    "#digit = '4'\n",
    "fileout(out,wdir + \"compare.IMPvsNGS.all.gene.%sdigit.csv\"%(digit))"
   ]
  },
  {
   "cell_type": "code",
   "execution_count": null,
   "metadata": {},
   "outputs": [],
   "source": []
  },
  {
   "cell_type": "code",
   "execution_count": 159,
   "metadata": {},
   "outputs": [
    {
     "data": {
      "text/plain": [
       "'A,B,C'"
      ]
     },
     "execution_count": 159,
     "metadata": {},
     "output_type": "execute_result"
    }
   ],
   "source": []
  },
  {
   "cell_type": "code",
   "execution_count": null,
   "metadata": {},
   "outputs": [],
   "source": []
  }
 ],
 "metadata": {
  "kernelspec": {
   "display_name": "Python 3",
   "language": "python",
   "name": "python3"
  },
  "language_info": {
   "codemirror_mode": {
    "name": "ipython",
    "version": 3
   },
   "file_extension": ".py",
   "mimetype": "text/x-python",
   "name": "python",
   "nbconvert_exporter": "python",
   "pygments_lexer": "ipython3",
   "version": "3.6.8"
  }
 },
 "nbformat": 4,
 "nbformat_minor": 2
}
