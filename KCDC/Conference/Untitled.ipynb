{
 "cells": [
  {
   "cell_type": "code",
   "execution_count": 3,
   "metadata": {},
   "outputs": [],
   "source": [
    "library(qqman)"
   ]
  },
  {
   "cell_type": "code",
   "execution_count": 6,
   "metadata": {},
   "outputs": [
    {
     "data": {
      "text/html": [
       "<table>\n",
       "<thead><tr><th scope=col>SNP</th><th scope=col>CHR</th><th scope=col>BP</th><th scope=col>P</th></tr></thead>\n",
       "<tbody>\n",
       "\t<tr><td>rs1      </td><td>1        </td><td>1        </td><td>0.9148060</td></tr>\n",
       "\t<tr><td>rs2      </td><td>1        </td><td>2        </td><td>0.9370754</td></tr>\n",
       "\t<tr><td>rs3      </td><td>1        </td><td>3        </td><td>0.2861395</td></tr>\n",
       "\t<tr><td>rs4      </td><td>1        </td><td>4        </td><td>0.8304476</td></tr>\n",
       "\t<tr><td>rs5      </td><td>1        </td><td>5        </td><td>0.6417455</td></tr>\n",
       "\t<tr><td>rs6      </td><td>1        </td><td>6        </td><td>0.5190959</td></tr>\n",
       "</tbody>\n",
       "</table>\n"
      ],
      "text/latex": [
       "\\begin{tabular}{r|llll}\n",
       " SNP & CHR & BP & P\\\\\n",
       "\\hline\n",
       "\t rs1       & 1         & 1         & 0.9148060\\\\\n",
       "\t rs2       & 1         & 2         & 0.9370754\\\\\n",
       "\t rs3       & 1         & 3         & 0.2861395\\\\\n",
       "\t rs4       & 1         & 4         & 0.8304476\\\\\n",
       "\t rs5       & 1         & 5         & 0.6417455\\\\\n",
       "\t rs6       & 1         & 6         & 0.5190959\\\\\n",
       "\\end{tabular}\n"
      ],
      "text/markdown": [
       "\n",
       "| SNP | CHR | BP | P |\n",
       "|---|---|---|---|\n",
       "| rs1       | 1         | 1         | 0.9148060 |\n",
       "| rs2       | 1         | 2         | 0.9370754 |\n",
       "| rs3       | 1         | 3         | 0.2861395 |\n",
       "| rs4       | 1         | 4         | 0.8304476 |\n",
       "| rs5       | 1         | 5         | 0.6417455 |\n",
       "| rs6       | 1         | 6         | 0.5190959 |\n",
       "\n"
      ],
      "text/plain": [
       "  SNP CHR BP P        \n",
       "1 rs1 1   1  0.9148060\n",
       "2 rs2 1   2  0.9370754\n",
       "3 rs3 1   3  0.2861395\n",
       "4 rs4 1   4  0.8304476\n",
       "5 rs5 1   5  0.6417455\n",
       "6 rs6 1   6  0.5190959"
      ]
     },
     "metadata": {},
     "output_type": "display_data"
    }
   ],
   "source": [
    "head(gwasResults)"
   ]
  },
  {
   "cell_type": "code",
   "execution_count": 18,
   "metadata": {},
   "outputs": [
    {
     "data": {
      "text/plain": [
       "     SNP                 CHR               BP               P         \n",
       " Length:16470       Min.   : 1.000   Min.   :   1.0   Min.   :0.0000  \n",
       " Class :character   1st Qu.: 4.000   1st Qu.: 188.0   1st Qu.:0.2401  \n",
       " Mode  :character   Median : 9.000   Median : 375.0   Median :0.4982  \n",
       "                    Mean   : 9.782   Mean   : 411.7   Mean   :0.4965  \n",
       "                    3rd Qu.:15.000   3rd Qu.: 565.0   3rd Qu.:0.7481  \n",
       "                    Max.   :22.000   Max.   :1500.0   Max.   :0.9999  "
      ]
     },
     "metadata": {},
     "output_type": "display_data"
    }
   ],
   "source": [
    "summary(gwasResults)"
   ]
  },
  {
   "cell_type": "code",
   "execution_count": 20,
   "metadata": {},
   "outputs": [
    {
     "ename": "ERROR",
     "evalue": "Error in table(gwasResults): attempt to make a table with >= 2^31 elements\n",
     "output_type": "error",
     "traceback": [
      "Error in table(gwasResults): attempt to make a table with >= 2^31 elements\nTraceback:\n",
      "1. table(gwasResults)",
      "2. stop(\"attempt to make a table with >= 2^31 elements\")"
     ]
    }
   ],
   "source": []
  }
 ],
 "metadata": {
  "kernelspec": {
   "display_name": "R",
   "language": "R",
   "name": "ir"
  },
  "language_info": {
   "codemirror_mode": "r",
   "file_extension": ".r",
   "mimetype": "text/x-r-source",
   "name": "R",
   "pygments_lexer": "r",
   "version": "3.6.0"
  }
 },
 "nbformat": 4,
 "nbformat_minor": 2
}
