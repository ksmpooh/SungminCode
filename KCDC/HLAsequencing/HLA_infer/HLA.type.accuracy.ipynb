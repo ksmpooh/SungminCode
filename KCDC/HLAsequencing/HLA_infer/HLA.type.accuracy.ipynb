{
 "cells": [
  {
   "cell_type": "code",
   "execution_count": 1,
   "metadata": {},
   "outputs": [],
   "source": [
    "#test"
   ]
  },
  {
   "cell_type": "code",
   "execution_count": 19,
   "metadata": {},
   "outputs": [],
   "source": [
    "a = {\"I1\":{\"A\":[1,2],\"B\":[3,4]}}"
   ]
  },
  {
   "cell_type": "code",
   "execution_count": 22,
   "metadata": {},
   "outputs": [
    {
     "name": "stdout",
     "output_type": "stream",
     "text": [
      "1\n",
      "4\n",
      "[1, 2]\n"
     ]
    }
   ],
   "source": [
    "print(a['I1']['A'][0])\n",
    "print(a['I1']['B'][1])\n",
    "tmp = a['I1']['A']\n",
    "print(tmp)"
   ]
  },
  {
   "cell_type": "code",
   "execution_count": 23,
   "metadata": {},
   "outputs": [
    {
     "name": "stdout",
     "output_type": "stream",
     "text": [
      "[1]\n"
     ]
    }
   ],
   "source": [
    "tmp.remove(2)\n",
    "print(tmp)"
   ]
  },
  {
   "cell_type": "code",
   "execution_count": 24,
   "metadata": {},
   "outputs": [
    {
     "name": "stdout",
     "output_type": "stream",
     "text": [
      "[1, 1, 3, 3, 2, 3]\n"
     ]
    }
   ],
   "source": [
    "tmp = [1,1,3,3,2,2,3]\n",
    "tmp.remove(2)\n",
    "print(tmp)"
   ]
  },
  {
   "cell_type": "code",
   "execution_count": 30,
   "metadata": {},
   "outputs": [
    {
     "name": "stdout",
     "output_type": "stream",
     "text": [
      "{'ID1': None}\n",
      "None\n"
     ]
    }
   ],
   "source": [
    "b = {}\n",
    "b.setdefault(\"ID1\")\n",
    "print(b)\n",
    "print(b[\"ID1\"])"
   ]
  },
  {
   "cell_type": "code",
   "execution_count": 10,
   "metadata": {},
   "outputs": [
    {
     "name": "stdout",
     "output_type": "stream",
     "text": [
      "{'ID1': {'A': [1, 2], 'B': [1, 2]}, 'ID2': {'A': [1, 2]}}\n",
      "ID1\n",
      "ID2\n",
      "{'A': [1, 2], 'B': [1, 2]}\n"
     ]
    }
   ],
   "source": [
    "b={}\n",
    "b[\"ID1\"] = {}\n",
    "b[\"ID1\"][\"A\"] = []\n",
    "b[\"ID1\"][\"A\"].append(1)\n",
    "b[\"ID1\"][\"A\"].append(2)\n",
    "b[\"ID1\"][\"B\"] = []\n",
    "b[\"ID1\"][\"B\"].append(1)\n",
    "b[\"ID1\"][\"B\"].append(2)\n",
    "\n",
    "b[\"ID2\"] = {}\n",
    "b[\"ID2\"][\"A\"] = []\n",
    "b[\"ID2\"][\"A\"].append(1)\n",
    "b[\"ID2\"][\"A\"].append(2)\n",
    "print(b)\n",
    "\n",
    "for i in b:\n",
    "    print(i)\n",
    "print(b['ID1'])"
   ]
  },
  {
   "cell_type": "code",
   "execution_count": 38,
   "metadata": {},
   "outputs": [
    {
     "name": "stdout",
     "output_type": "stream",
     "text": [
      "1\n"
     ]
    }
   ],
   "source": [
    "b =[1,2]\n",
    "b1 = b.pop(0)\n",
    "print(b1)"
   ]
  },
  {
   "cell_type": "code",
   "execution_count": 45,
   "metadata": {},
   "outputs": [
    {
     "name": "stdout",
     "output_type": "stream",
     "text": [
      "1\n",
      "2\n"
     ]
    }
   ],
   "source": [
    "a = [\"ID\",\"HLA-A_1\",\"HLA-A_2\",\"HLA-B_1\",\"HLA-B_2\"]\n",
    "print(a.index(\"HLA-A_1\"))\n",
    "print(a.index(\"HLA-A_2\"))"
   ]
  },
  {
   "cell_type": "code",
   "execution_count": 4,
   "metadata": {},
   "outputs": [
    {
     "name": "stdout",
     "output_type": "stream",
     "text": [
      "['24', '02', '01', '03']\n",
      "['51', '01', '05']\n",
      "3\n",
      "51:01:01\n"
     ]
    }
   ],
   "source": [
    "digit = [\"24:02:01:03\",\"51:01:05\",\"51:101\",\"51\"]\n",
    "print(digit[0].split(\":\"))\n",
    "print(digit[1].split(\":\"))\n",
    "print(len(digit[1].split(\":\")))\n",
    "t = digit[1].split(\":\")\n",
    "out = t[0] + \":\"+ t[1] + \":\" + \"01\"\n",
    "print(out)"
   ]
  },
  {
   "cell_type": "code",
   "execution_count": null,
   "metadata": {},
   "outputs": [],
   "source": [
    "header = [\"ID\",\"A.match\",\"A.wrong\",\"A.empty\",\"B.match\",\"B.wrong\",\"B.empty\",\"C.match\",\"C.wrong\",\"C.empty\",\n",
    "        \"DRB1.match\",\"DRB1.wrong\",\"DRB1.empty\",\"DPA1.match\",\"DPA1.wrong\",\"DPA1.empty\",\n",
    "        \"DPB1.match\",\"DPB1.wrong\",\"DPB1.empty\",\"DQA1.match\",\"DQA1.wrong\",\n",
    "        \"DQA1.empty\",\"DQB1.match\",\"DQB1.wrong\",\"DQB1.empty\",\"match_Sum\",\"wrong_Sum\",\"empty_Sum\"]\n",
    "genes = [\"HLA-A\",\"HLA-B\",\"HLA-C\",\"HLA-DRB1\",\"HLA-DPA1\",\"HLA-DPB1\",\"HLA-DQA1\",\"HLA-DQB1\"]\n",
    "\n",
    "for i in [\"match\",\"empty\",\"wrong\"]:\n",
    "    for gene in genes:\n",
    "        print(header.index[gene.reaplce(\"HLA-\".\"\") + \".\" + i])"
   ]
  },
  {
   "cell_type": "code",
   "execution_count": null,
   "metadata": {},
   "outputs": [],
   "source": [
    "print(\"hi\")"
   ]
  },
  {
   "cell_type": "code",
   "execution_count": null,
   "metadata": {},
   "outputs": [],
   "source": []
  }
 ],
 "metadata": {
  "kernelspec": {
   "display_name": "Python 3.8.5 64-bit ('anaconda3': virtualenv)",
   "metadata": {
    "interpreter": {
     "hash": "0c6b25a2ab5e3205a444af4f5a64e29752114153bd45700a2f23b8ddc4fdb0ec"
    }
   },
   "name": "python3"
  },
  "language_info": {
   "codemirror_mode": {
    "name": "ipython",
    "version": 3
   },
   "file_extension": ".py",
   "mimetype": "text/x-python",
   "name": "python",
   "nbconvert_exporter": "python",
   "pygments_lexer": "ipython3",
   "version": "3.8.5"
  },
  "orig_nbformat": 2
 },
 "nbformat": 4,
 "nbformat_minor": 2
}