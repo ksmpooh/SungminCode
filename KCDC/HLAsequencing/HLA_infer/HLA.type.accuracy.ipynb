{
 "cells": [
  {
   "cell_type": "code",
   "execution_count": 1,
   "metadata": {},
   "outputs": [],
   "source": [
    "#test"
   ]
  },
  {
   "cell_type": "code",
   "execution_count": 19,
   "metadata": {},
   "outputs": [],
   "source": [
    "a = {\"I1\":{\"A\":[1,2],\"B\":[3,4]}}"
   ]
  },
  {
   "cell_type": "code",
   "execution_count": 22,
   "metadata": {},
   "outputs": [
    {
     "name": "stdout",
     "output_type": "stream",
     "text": [
      "1\n",
      "4\n",
      "[1, 2]\n"
     ]
    }
   ],
   "source": [
    "print(a['I1']['A'][0])\n",
    "print(a['I1']['B'][1])\n",
    "tmp = a['I1']['A']\n",
    "print(tmp)"
   ]
  },
  {
   "cell_type": "code",
   "execution_count": 23,
   "metadata": {},
   "outputs": [
    {
     "name": "stdout",
     "output_type": "stream",
     "text": [
      "[1]\n"
     ]
    }
   ],
   "source": [
    "tmp.remove(2)\n",
    "print(tmp)"
   ]
  },
  {
   "cell_type": "code",
   "execution_count": 24,
   "metadata": {},
   "outputs": [
    {
     "name": "stdout",
     "output_type": "stream",
     "text": [
      "[1, 1, 3, 3, 2, 3]\n"
     ]
    }
   ],
   "source": [
    "tmp = [1,1,3,3,2,2,3]\n",
    "tmp.remove(2)\n",
    "print(tmp)"
   ]
  },
  {
   "cell_type": "code",
   "execution_count": 30,
   "metadata": {},
   "outputs": [
    {
     "name": "stdout",
     "output_type": "stream",
     "text": [
      "{'ID1': None}\n",
      "None\n"
     ]
    }
   ],
   "source": [
    "b = {}\n",
    "b.setdefault(\"ID1\")\n",
    "print(b)\n",
    "print(b[\"ID1\"])"
   ]
  },
  {
   "cell_type": "code",
   "execution_count": 36,
   "metadata": {},
   "outputs": [
    {
     "name": "stdout",
     "output_type": "stream",
     "text": [
      "{'ID1': {'A': [1, 2]}}\n"
     ]
    }
   ],
   "source": [
    "b={}\n",
    "b[\"ID1\"] = {}\n",
    "b[\"ID1\"][\"A\"] = []\n",
    "b[\"ID1\"][\"A\"].append(1)\n",
    "b[\"ID1\"][\"A\"].append(2)\n",
    "print(b)"
   ]
  },
  {
   "cell_type": "code",
   "execution_count": 38,
   "metadata": {},
   "outputs": [
    {
     "name": "stdout",
     "output_type": "stream",
     "text": [
      "1\n"
     ]
    }
   ],
   "source": [
    "b =[1,2]\n",
    "b1 = b.pop(0)\n",
    "print(b1)"
   ]
  },
  {
   "cell_type": "code",
   "execution_count": 45,
   "metadata": {},
   "outputs": [
    {
     "name": "stdout",
     "output_type": "stream",
     "text": [
      "1\n",
      "2\n"
     ]
    }
   ],
   "source": [
    "a = [\"ID\",\"HLA-A_1\",\"HLA-A_2\",\"HLA-B_1\",\"HLA-B_2\"]\n",
    "print(a.index(\"HLA-A_1\"))\n",
    "print(a.index(\"HLA-A_2\"))"
   ]
  },
  {
   "cell_type": "code",
   "execution_count": null,
   "metadata": {},
   "outputs": [],
   "source": [
    "digit = [\"24:02:01:03\",\"51:01:05\",\"51:101\",\"51\"]\n",
    "print()"
   ]
  }
 ],
 "metadata": {
  "kernelspec": {
   "display_name": "Python 3.8.5 64-bit ('anaconda3': virtualenv)",
   "metadata": {
    "interpreter": {
     "hash": "0c6b25a2ab5e3205a444af4f5a64e29752114153bd45700a2f23b8ddc4fdb0ec"
    }
   },
   "name": "python3"
  },
  "language_info": {
   "codemirror_mode": {
    "name": "ipython",
    "version": 3
   },
   "file_extension": ".py",
   "mimetype": "text/x-python",
   "name": "python",
   "nbconvert_exporter": "python",
   "pygments_lexer": "ipython3",
   "version": "3.8.5"
  },
  "orig_nbformat": 2
 },
 "nbformat": 4,
 "nbformat_minor": 2
}