{
 "cells": [
  {
   "cell_type": "code",
   "execution_count": 2,
   "metadata": {},
   "outputs": [],
   "source": [
    "# HLA typing VCF 데이터 merge"
   ]
  },
  {
   "cell_type": "code",
   "execution_count": 13,
   "metadata": {},
   "outputs": [],
   "source": [
    "import os,sys,glob"
   ]
  },
  {
   "cell_type": "code",
   "execution_count": 3,
   "metadata": {},
   "outputs": [],
   "source": [
    "#wDir = \"/Users/ksmpooh/Desktop/KCDC/일반용역/장기이식/2020_NGgene결과/2. CDC_dbSNP_files/\""
   ]
  },
  {
   "cell_type": "code",
   "execution_count": 17,
   "metadata": {},
   "outputs": [],
   "source": [
    "#refs = \"/Users/ksmpooh/Desktop/KCDC/일반용역/장기이식/HLAtypingIDmatching/2019.HLAtypingIDfolder.txt\"\n",
    "refs = \"/Users/ksmpooh/Desktop/KCDC/일반용역/장기이식/HLAtypingIDmatching/2020.HLAtypingIDfolder.txt\""
   ]
  },
  {
   "cell_type": "code",
   "execution_count": 18,
   "metadata": {},
   "outputs": [
    {
     "data": {
      "text/plain": [
       "['KBA_ID.2020\\tHLAID.2020\\tHLAtypingVCF.folder',\n",
       " 'NIH19KT0247\\t2020KDCA022\\tN2020KDCA022',\n",
       " 'NIH19KT0248\\t2020KDCA023\\tN2020KDCA023',\n",
       " 'NIH19KT0249\\t2020KDCA024\\tN2020KDCA024',\n",
       " 'NIH19KT0252\\t2020KDCA025\\tN2020KDCA025']"
      ]
     },
     "execution_count": 18,
     "metadata": {},
     "output_type": "execute_result"
    }
   ],
   "source": [
    "refs = open(refs,\"r\")\n",
    "refs = [s.replace(\"\\n\",\"\") for s in refs]\n",
    "refs[0:5]"
   ]
  },
  {
   "cell_type": "code",
   "execution_count": 19,
   "metadata": {},
   "outputs": [
    {
     "ename": "TypeError",
     "evalue": "expected str, bytes or os.PathLike object, not list",
     "output_type": "error",
     "traceback": [
      "\u001b[0;31m---------------------------------------------------------------------------\u001b[0m",
      "\u001b[0;31mTypeError\u001b[0m                                 Traceback (most recent call last)",
      "\u001b[0;32m<ipython-input-19-e887adbc62a5>\u001b[0m in \u001b[0;36m<module>\u001b[0;34m\u001b[0m\n\u001b[0;32m----> 1\u001b[0;31m \u001b[0mrefs\u001b[0m \u001b[0;34m=\u001b[0m \u001b[0mopen\u001b[0m\u001b[0;34m(\u001b[0m\u001b[0mrefs\u001b[0m\u001b[0;34m,\u001b[0m\u001b[0;34m\"r\"\u001b[0m\u001b[0;34m)\u001b[0m\u001b[0;34m\u001b[0m\u001b[0;34m\u001b[0m\u001b[0m\n\u001b[0m\u001b[1;32m      2\u001b[0m \u001b[0mrefs\u001b[0m \u001b[0;34m=\u001b[0m \u001b[0;34m[\u001b[0m\u001b[0ms\u001b[0m\u001b[0;34m.\u001b[0m\u001b[0mreplace\u001b[0m\u001b[0;34m(\u001b[0m\u001b[0;34m\"\\n\"\u001b[0m\u001b[0;34m,\u001b[0m\u001b[0;34m\"\"\u001b[0m\u001b[0;34m)\u001b[0m \u001b[0;32mfor\u001b[0m \u001b[0ms\u001b[0m \u001b[0;32min\u001b[0m \u001b[0mrefs\u001b[0m\u001b[0;34m]\u001b[0m\u001b[0;34m\u001b[0m\u001b[0;34m\u001b[0m\u001b[0m\n\u001b[1;32m      3\u001b[0m \u001b[0mrefs\u001b[0m\u001b[0;34m[\u001b[0m\u001b[0;36m0\u001b[0m\u001b[0;34m:\u001b[0m\u001b[0;36m5\u001b[0m\u001b[0;34m]\u001b[0m\u001b[0;34m\u001b[0m\u001b[0;34m\u001b[0m\u001b[0m\n\u001b[1;32m      4\u001b[0m \u001b[0mref_dic\u001b[0m \u001b[0;34m=\u001b[0m \u001b[0;34m{\u001b[0m\u001b[0;34m}\u001b[0m\u001b[0;34m\u001b[0m\u001b[0;34m\u001b[0m\u001b[0m\n\u001b[1;32m      5\u001b[0m \u001b[0;31m#for i in refs[1:]:\u001b[0m\u001b[0;34m\u001b[0m\u001b[0;34m\u001b[0m\u001b[0;34m\u001b[0m\u001b[0m\n",
      "\u001b[0;31mTypeError\u001b[0m: expected str, bytes or os.PathLike object, not list"
     ]
    }
   ],
   "source": [
    "refs = open(refs,\"r\")    \n",
    "refs = [s.replace(\"\\n\",\"\") for s in refs]\n",
    "refs[0:5]\n",
    "ref_dic = {}\n",
    "#for i in refs[1:]:\n",
    "#    line = i.split(\"\\t\")\n",
    "#    ref_dic.setdefault(line[2],line[0])\n",
    "    "
   ]
  },
  {
   "cell_type": "code",
   "execution_count": 14,
   "metadata": {},
   "outputs": [
    {
     "name": "stdout",
     "output_type": "stream",
     "text": [
      "['NIH19KT0406\\tH022\\tCDC022', 'NIH19KT0407\\tH023\\tCDC023', 'NIH19KT0408\\tH024\\tCDC024', 'NIH19KT0409\\tH025\\tCDC025']\n",
      "['/Users/ksmpooh/Desktop/KCDC/일반용역/장기이식/2019/CDC_dbSNP_files/CDC119', '/Users/ksmpooh/Desktop/KCDC/일반용역/장기이식/2019/CDC_dbSNP_files/CDC126', '/Users/ksmpooh/Desktop/KCDC/일반용역/장기이식/2019/CDC_dbSNP_files/CDC121', '/Users/ksmpooh/Desktop/KCDC/일반용역/장기이식/2019/CDC_dbSNP_files/CDC128', '/Users/ksmpooh/Desktop/KCDC/일반용역/장기이식/2019/CDC_dbSNP_files/CDC117']\n",
      "['NIH19KT0247\\t2020KDCA022\\tN2020KDCA022', 'NIH19KT0248\\t2020KDCA023\\tN2020KDCA023', 'NIH19KT0249\\t2020KDCA024\\tN2020KDCA024', 'NIH19KT0252\\t2020KDCA025\\tN2020KDCA025']\n",
      "['/Users/ksmpooh/Desktop/KCDC/일반용역/장기이식/2020_NGgene결과/2.2020_265samples_11locus_variants/N2020KDCA259', '/Users/ksmpooh/Desktop/KCDC/일반용역/장기이식/2020_NGgene결과/2.2020_265samples_11locus_variants/N2020KDCA266', '/Users/ksmpooh/Desktop/KCDC/일반용역/장기이식/2020_NGgene결과/2.2020_265samples_11locus_variants/N2020KDCA054', '/Users/ksmpooh/Desktop/KCDC/일반용역/장기이식/2020_NGgene결과/2.2020_265samples_11locus_variants/N2020KDCA098', '/Users/ksmpooh/Desktop/KCDC/일반용역/장기이식/2020_NGgene결과/2.2020_265samples_11locus_variants/N2020KDCA053']\n"
     ]
    }
   ],
   "source": [
    "def main():\n",
    "    outDir = \"/Users/ksmpooh/Desktop/KCDC/long_read/HLAtypingVCF/\"\n",
    "    years = [\"2019\",\"2020\"]\n",
    "    for year in years:\n",
    "        if year == '2019':\n",
    "            refs = \"/Users/ksmpooh/Desktop/KCDC/일반용역/장기이식/HLAtypingIDmatching/2019.HLAtypingIDfolder.txt\"\n",
    "            wDir = \"/Users/ksmpooh/Desktop/KCDC/일반용역/장기이식/2019/CDC_dbSNP_files/\"\n",
    "        else:\n",
    "            refs = \"/Users/ksmpooh/Desktop/KCDC/일반용역/장기이식/HLAtypingIDmatching/2020.HLAtypingIDfolder.txt\"\n",
    "            #wDir = \"/Users/ksmpooh/Desktop/KCDC/일반용역/장기이식/2020_NGgene결과/2.CDC_dbSNP_files/\"2.2020_265samples_11locus_variants\n",
    "            wDir = \"/Users/ksmpooh/Desktop/KCDC/일반용역/장기이식/2020_NGgene결과/2.2020_265samples_11locus_variants/\"\n",
    "        refs = open(refs,\"r\")    \n",
    "        refs = [s.replace(\"\\n\",\"\") for s in refs]\n",
    "        print(refs[1:5])\n",
    "        ref_dic = {}\n",
    "        for i in refs[1:]:\n",
    "            line = i.split(\"\\t\")\n",
    "            ref_dic.setdefault(line[2],line[0])\n",
    "        \n",
    "        dfs = glob.glob(wDir + \"*\")\n",
    "        print(dfs[0:5])\n",
    "        for df in dfs:\n",
    "            if ref_dic.get(df.replace(wDir,\"\")) == None:\n",
    "                continue\n",
    "            #output = outDir + \"HLAtyping.VCF.%s.vcf\"%(ref_dic[df.replace(wDir,\"\")])\n",
    "            #print(\"bcftools concat %s/*vcf > %s\"%(df,output))\n",
    "            #os.system(\"bcftools concat %s/*vcf > %s\"%(df,output))\n",
    "            pre_vcf_list = glob.glob(df + \"/*.vcf\")\n",
    "            post_vcf_list = [s for s in pre_vcf_list if os.path.getsize(s)!=0]  #os.path.getsize()\n",
    "            output = outDir + \"HLAtyping.VCF.%s.vcf\"%(ref_dic[df.replace(wDir,\"\")])\n",
    "            #print(\"bcftools concat %s/*vcf > %s\"%(df,output))\n",
    "            #os.system(\"bcftools concat %s/*vcf > %s\"%(df,output))\n",
    "            os.system(\"bcftools concat %s > %s\"%(' '.join(post_vcf_list),output))\n",
    "            \n",
    "            \n",
    "main()\n",
    "        "
   ]
  },
  {
   "cell_type": "code",
   "execution_count": 15,
   "metadata": {},
   "outputs": [],
   "source": [
    "def VCF_name_change():\n",
    "    wDir = \"/Users/ksmpooh/Desktop/KCDC/long_read/HLAtypingVCF/\"\n",
    "    inDir = wDir + \"01.HLAgeneMerge/\"\n",
    "    outDir = wDir + \"02.IDchange/\"\n",
    "    vcfs = glob.glob(inDir + \"*vcf\")\n",
    "    for vcf in vcfs:\n",
    "        #unknown\n",
    "        #HLAtyping.VCF.NIH19KT0252.vcf\n",
    "        newID = vcf.replace(inDir,\"\").replace(\"HLAtyping.VCF.\",\"\").replace(\".vcf\",\"\")\n",
    "        tmpOut = open(wDir + \"tmp.txt\",\"w\")\n",
    "        tmpOut.write(\"unknown\\t%s\"%newID)\n",
    "        #os.system(\"bcftools reheader --samples %s %s | bcftools sort - -Oz -o %s.gz\"%(wDir+\"tmp.txt\",vcf,vcf.replace(inDir,outDir)))\n",
    "        os.system(\"bcftools reheader --samples %s %s | bcftools sort -Oz -o %s.gz\"%(wDir+\"tmp.txt\",vcf,vcf.replace(inDir,outDir)))\n",
    "        #os.system(\"bcftools sort %s | bcftools reheader --samples %s -Oz -o %s\"%(vcf,wDir+\"tmp.txt\",vcf.replace(inDir,outDir)))\n",
    "VCF_name_change()"
   ]
  },
  {
   "cell_type": "code",
   "execution_count": 40,
   "metadata": {},
   "outputs": [
    {
     "data": {
      "text/plain": [
       "True"
      ]
     },
     "execution_count": 40,
     "metadata": {},
     "output_type": "execute_result"
    }
   ],
   "source": [
    "HLAtyping.VCF.NIH19KT2283.vcf.gz\n",
    "#HLAtyping.VCF.NIH19KT5898.vcf.gz\n",
    "HLAtyping.VCF.NIH19KT2283.vcf\n"
   ]
  },
  {
   "cell_type": "code",
   "execution_count": 52,
   "metadata": {},
   "outputs": [
    {
     "data": {
      "text/plain": [
       "False"
      ]
     },
     "execution_count": 52,
     "metadata": {},
     "output_type": "execute_result"
    }
   ],
   "source": [
    "CDC001.HLA-A.dbSNP.vcf : 29888534 30009310\n",
    "CDC001.HLA-B.dbSNP.vcf : 29888140 31357458\n",
    "CDC001.HLA-C.dbSNP.vcf : 29942719 31357458\n",
    "CDC001.HLA-DPA1.dbSNP.vcf : 33069422 33073411\n",
    "CDC001.HLA-DPB1.dbSNP.vcf : 33076379 33085204\n",
    "CDC001.HLA-DQA1.dbSNP.vcf : 32636848 32745916\n",
    "CDC001.HLA-DQB1.dbSNP.vcf : 32660136 32666628\n",
    "CDC001.HLA-DRB1.dbSNP.vcf : 32518905 32584930"
   ]
  },
  {
   "cell_type": "code",
   "execution_count": 27,
   "metadata": {},
   "outputs": [],
   "source": [
    "def VCFcheck():\n",
    "    wDir = \"/Users/ksmpooh/Desktop/KCDC/long_read/HLAtypingVCF/\"\n",
    "    inDir = wDir + \"01.HLAgeneMerge/\"\n",
    "    outDir = wDir + \"02.IDchange/\"\n",
    "    \n",
    "    inVCFs = glob.glob(inDir+\"*vcf.gz\")\n",
    "    outVCFs = glob.glob(outDir+\"*vcf.gz\")\n",
    "    \n",
    "    for vcfin in inVCFs:\n",
    "        if vcfin.replace(inDir,outDir) in outVCFs:\n",
    "            continue\n",
    "        else:\n",
    "            print(vcfin.replace(inDir,\"\"))\n",
    "    \n",
    "VCFcheck()"
   ]
  },
  {
   "cell_type": "code",
   "execution_count": 8,
   "metadata": {},
   "outputs": [
    {
     "name": "stdout",
     "output_type": "stream",
     "text": [
      "[1, 2, 3, 5]\n"
     ]
    }
   ],
   "source": [
    "a = [1,2,3,7,5,6]\n",
    "b = [s for s in a if s < 6 ]\n",
    "print(b)"
   ]
  },
  {
   "cell_type": "code",
   "execution_count": 11,
   "metadata": {},
   "outputs": [
    {
     "data": {
      "text/plain": [
       "'1 2 3 5'"
      ]
     },
     "execution_count": 11,
     "metadata": {},
     "output_type": "execute_result"
    }
   ],
   "source": [
    "b = [str(s) for s in b]\n",
    "' '.join(b)"
   ]
  },
  {
   "cell_type": "code",
   "execution_count": null,
   "metadata": {},
   "outputs": [],
   "source": []
  }
 ],
 "metadata": {
  "kernelspec": {
   "display_name": "Python 3 (ipykernel)",
   "language": "python",
   "name": "python3"
  },
  "language_info": {
   "codemirror_mode": {
    "name": "ipython",
    "version": 3
   },
   "file_extension": ".py",
   "mimetype": "text/x-python",
   "name": "python",
   "nbconvert_exporter": "python",
   "pygments_lexer": "ipython3",
   "version": "3.9.16"
  }
 },
 "nbformat": 4,
 "nbformat_minor": 4
}
