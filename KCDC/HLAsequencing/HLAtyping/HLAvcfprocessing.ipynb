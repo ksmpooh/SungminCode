{
 "cells": [
  {
   "cell_type": "code",
   "execution_count": 2,
   "metadata": {},
   "outputs": [],
   "source": [
    "# HLA typing VCF 데이터 merge"
   ]
  },
  {
   "cell_type": "code",
   "execution_count": 22,
   "metadata": {},
   "outputs": [],
   "source": [
    "import os,sys,glob"
   ]
  },
  {
   "cell_type": "code",
   "execution_count": 10,
   "metadata": {},
   "outputs": [],
   "source": [
    "#wDir = \"/Users/ksmpooh/Desktop/KCDC/일반용역/장기이식/2020_NGgene결과/2. CDC_dbSNP_files/\""
   ]
  },
  {
   "cell_type": "code",
   "execution_count": 17,
   "metadata": {},
   "outputs": [],
   "source": [
    "refs = \"/Users/ksmpooh/Desktop/KCDC/일반용역/장기이식/HLAtypingIDmatching/2019.HLAtypingIDfolder.txt\"\n",
    "#refs = \"/Users/ksmpooh/Desktop/KCDC/일반용역/장기이식/HLAtypingIDmatching/2020.HLAtypingIDfolder.txt\""
   ]
  },
  {
   "cell_type": "code",
   "execution_count": 19,
   "metadata": {},
   "outputs": [
    {
     "data": {
      "text/plain": [
       "['KBA_ID.2019\\tHLAID.2019\\tHLAtypingVCF.folder\\n',\n",
       " 'NIH19KT0406\\tH022\\tCDC022\\n',\n",
       " 'NIH19KT0407\\tH023\\tCDC023\\n',\n",
       " 'NIH19KT0408\\tH024\\tCDC024\\n',\n",
       " 'NIH19KT0409\\tH025\\tCDC025\\n']"
      ]
     },
     "execution_count": 19,
     "metadata": {},
     "output_type": "execute_result"
    }
   ],
   "source": [
    "refs = [s.replace(\"\\n\",\"\") for s in refs]\n",
    "ref_dic = {}\n",
    "for i in refs[1:]:\n",
    "    line = i.split(\"\\t\")\n",
    "    ref_dic.setdefault(line[2],line[0])\n",
    "    "
   ]
  },
  {
   "cell_type": "code",
   "execution_count": 55,
   "metadata": {},
   "outputs": [
    {
     "name": "stdout",
     "output_type": "stream",
     "text": [
      "['NIH19KT0406\\tH022\\tCDC022', 'NIH19KT0407\\tH023\\tCDC023', 'NIH19KT0408\\tH024\\tCDC024', 'NIH19KT0409\\tH025\\tCDC025']\n",
      "['/Users/ksmpooh/Desktop/KCDC/일반용역/장기이식/2019/CDC_dbSNP_files/CDC119', '/Users/ksmpooh/Desktop/KCDC/일반용역/장기이식/2019/CDC_dbSNP_files/CDC126', '/Users/ksmpooh/Desktop/KCDC/일반용역/장기이식/2019/CDC_dbSNP_files/CDC121', '/Users/ksmpooh/Desktop/KCDC/일반용역/장기이식/2019/CDC_dbSNP_files/CDC128', '/Users/ksmpooh/Desktop/KCDC/일반용역/장기이식/2019/CDC_dbSNP_files/CDC117']\n",
      "['NIH19KT0247\\t2020KDCA022\\tCDC022', 'NIH19KT0248\\t2020KDCA023\\tCDC023', 'NIH19KT0249\\t2020KDCA024\\tCDC024', 'NIH19KT0252\\t2020KDCA025\\tCDC025']\n",
      "['/Users/ksmpooh/Desktop/KCDC/일반용역/장기이식/2020_NGgene결과/2.CDC_dbSNP_files/CDC119', '/Users/ksmpooh/Desktop/KCDC/일반용역/장기이식/2020_NGgene결과/2.CDC_dbSNP_files/CDC126', '/Users/ksmpooh/Desktop/KCDC/일반용역/장기이식/2020_NGgene결과/2.CDC_dbSNP_files/CDC121', '/Users/ksmpooh/Desktop/KCDC/일반용역/장기이식/2020_NGgene결과/2.CDC_dbSNP_files/CDC128', '/Users/ksmpooh/Desktop/KCDC/일반용역/장기이식/2020_NGgene결과/2.CDC_dbSNP_files/CDC117']\n"
     ]
    }
   ],
   "source": [
    "def main():\n",
    "    outDir = \"/Users/ksmpooh/Desktop/KCDC/long_read/HLAtypingVCF/\"\n",
    "    years = [\"2019\",\"2020\"]\n",
    "    for year in years:\n",
    "        if year == '2019':\n",
    "            refs = \"/Users/ksmpooh/Desktop/KCDC/일반용역/장기이식/HLAtypingIDmatching/2019.HLAtypingIDfolder.txt\"\n",
    "            wDir = \"/Users/ksmpooh/Desktop/KCDC/일반용역/장기이식/2019/CDC_dbSNP_files/\"\n",
    "        else:\n",
    "            refs = \"/Users/ksmpooh/Desktop/KCDC/일반용역/장기이식/HLAtypingIDmatching/2020.HLAtypingIDfolder.txt\"\n",
    "            wDir = \"/Users/ksmpooh/Desktop/KCDC/일반용역/장기이식/2020_NGgene결과/2.CDC_dbSNP_files/\"\n",
    "        refs = open(refs,\"r\")    \n",
    "        refs = [s.replace(\"\\n\",\"\") for s in refs]\n",
    "        print(refs[1:5])\n",
    "        ref_dic = {}\n",
    "        for i in refs[1:]:\n",
    "            line = i.split(\"\\t\")\n",
    "            ref_dic.setdefault(line[2],line[0])\n",
    "        \n",
    "        dfs = glob.glob(wDir + \"CDC*\")\n",
    "        print(dfs[0:5])\n",
    "        for df in dfs:\n",
    "            if ref_dic.get(df.replace(wDir,\"\")) == None:\n",
    "                continue\n",
    "            output = outDir + \"HLAtyping.VCF.%s.vcf\"%(ref_dic[df.replace(wDir,\"\")])\n",
    "            #print(\"bcftools concat %s/*vcf > %s\"%(df,output))\n",
    "            os.system(\"bcftools concat %s/*vcf > %s\"%(df,output))\n",
    "            \n",
    "main()\n",
    "        "
   ]
  },
  {
   "cell_type": "code",
   "execution_count": 67,
   "metadata": {},
   "outputs": [],
   "source": [
    "def VCF_name_change():\n",
    "    wDir = \"/Users/ksmpooh/Desktop/KCDC/long_read/HLAtypingVCF/\"\n",
    "    inDir = wDir + \"01.HLAgeneMerge/\"\n",
    "    outDir = wDir + \"02.IDchange/\"\n",
    "    vcfs = glob.glob(inDir + \"*vcf\")\n",
    "    for vcf in vcfs:\n",
    "        #unknown\n",
    "        #HLAtyping.VCF.NIH19KT0252.vcf\n",
    "        newID = vcf.replace(inDir,\"\").replace(\"HLAtyping.VCF.\",\"\").replace(\".vcf\",\"\")\n",
    "        tmpOut = open(wDir + \"tmp.txt\",\"w\")\n",
    "        tmpOut.write(\"unknown\\t%s\"%newID)\n",
    "        os.system(\"bcftools reheader --samples %s %s | bcftools sort -Oz -o %s.gz\"%(wDir+\"tmp.txt\",vcf,vcf.replace(inDir,outDir)))\n",
    "        #os.system(\"bcftools sort %s | bcftools reheader --samples %s -Oz -o %s\"%(vcf,wDir+\"tmp.txt\",vcf.replace(inDir,outDir)))\n",
    "VCF_name_change()"
   ]
  },
  {
   "cell_type": "code",
   "execution_count": 40,
   "metadata": {},
   "outputs": [
    {
     "data": {
      "text/plain": [
       "True"
      ]
     },
     "execution_count": 40,
     "metadata": {},
     "output_type": "execute_result"
    }
   ],
   "source": [
    "HLAtyping.VCF.NIH19KT2283.vcf.gz\n",
    "#HLAtyping.VCF.NIH19KT5898.vcf.gz\n",
    "HLAtyping.VCF.NIH19KT2283.vcf\n"
   ]
  },
  {
   "cell_type": "code",
   "execution_count": 52,
   "metadata": {},
   "outputs": [
    {
     "data": {
      "text/plain": [
       "False"
      ]
     },
     "execution_count": 52,
     "metadata": {},
     "output_type": "execute_result"
    }
   ],
   "source": [
    "CDC001.HLA-A.dbSNP.vcf : 29888534 30009310\n",
    "CDC001.HLA-B.dbSNP.vcf : 29888140 31357458\n",
    "CDC001.HLA-C.dbSNP.vcf : 29942719 31357458\n",
    "CDC001.HLA-DPA1.dbSNP.vcf : 33069422 33073411\n",
    "CDC001.HLA-DPB1.dbSNP.vcf : 33076379 33085204\n",
    "CDC001.HLA-DQA1.dbSNP.vcf : 32636848 32745916\n",
    "CDC001.HLA-DQB1.dbSNP.vcf : 32660136 32666628\n",
    "CDC001.HLA-DRB1.dbSNP.vcf : 32518905 32584930"
   ]
  },
  {
   "cell_type": "code",
   "execution_count": null,
   "metadata": {},
   "outputs": [],
   "source": []
  }
 ],
 "metadata": {
  "kernelspec": {
   "display_name": "Python 3",
   "language": "python",
   "name": "python3"
  },
  "language_info": {
   "codemirror_mode": {
    "name": "ipython",
    "version": 3
   },
   "file_extension": ".py",
   "mimetype": "text/x-python",
   "name": "python",
   "nbconvert_exporter": "python",
   "pygments_lexer": "ipython3",
   "version": "3.8.5"
  }
 },
 "nbformat": 4,
 "nbformat_minor": 4
}
