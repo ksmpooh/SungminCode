######### IGV reference HLA gene list 정리
### 20221102
import os,glob


def main():


