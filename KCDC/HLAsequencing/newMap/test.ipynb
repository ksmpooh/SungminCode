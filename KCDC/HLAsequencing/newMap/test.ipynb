{
 "cells": [
  {
   "cell_type": "code",
   "execution_count": 2,
   "metadata": {},
   "outputs": [],
   "source": [
    "#import os,glob,sys"
   ]
  },
  {
   "cell_type": "code",
   "execution_count": 3,
   "metadata": {},
   "outputs": [],
   "source": [
    "#a = sys.argv[1]"
   ]
  },
  {
   "cell_type": "code",
   "execution_count": 7,
   "metadata": {},
   "outputs": [
    {
     "name": "stdout",
     "output_type": "stream",
     "text": [
      "['1281885', '1282416', '1287172', '']\n",
      "['1281885', '1282416', '1287172']\n",
      "['1287172', '1282416', '1281885']\n"
     ]
    }
   ],
   "source": [
    "a = \"1281885,1282416,1287172,\"\n",
    "a = a.split(\",\")\n",
    "print(a)\n",
    "a.pop(-1)\n",
    "print(a)\n",
    "a.reverse()\n",
    "print(a)"
   ]
  },
  {
   "cell_type": "code",
   "execution_count": null,
   "metadata": {},
   "outputs": [],
   "source": []
  }
 ],
 "metadata": {
  "kernelspec": {
   "display_name": "Python 3.8.13 64-bit ('anaconda3': virtualenv)",
   "metadata": {
    "interpreter": {
     "hash": "0c6b25a2ab5e3205a444af4f5a64e29752114153bd45700a2f23b8ddc4fdb0ec"
    }
   },
   "name": "python3"
  },
  "language_info": {
   "codemirror_mode": {
    "name": "ipython",
    "version": 3
   },
   "file_extension": ".py",
   "mimetype": "text/x-python",
   "name": "python",
   "nbconvert_exporter": "python",
   "pygments_lexer": "ipython3",
   "version": "3.8.13"
  },
  "orig_nbformat": 2
 },
 "nbformat": 4,
 "nbformat_minor": 2
}