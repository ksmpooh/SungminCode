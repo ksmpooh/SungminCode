{
 "cells": [
  {
   "cell_type": "code",
   "execution_count": 1,
   "metadata": {},
   "outputs": [],
   "source": [
    "import os,glob"
   ]
  },
  {
   "cell_type": "code",
   "execution_count": null,
   "metadata": {},
   "outputs": [],
   "source": []
  },
  {
   "cell_type": "code",
   "execution_count": 2,
   "metadata": {},
   "outputs": [],
   "source": [
    "datain = open(\"/Users/ksmpooh/Desktop/KCDC/HLA_seq/HLAinfer/HLA_scan/output.test.txt\",\"r\")\n",
    "df = datain.readlines()"
   ]
  },
  {
   "cell_type": "code",
   "execution_count": 10,
   "metadata": {},
   "outputs": [
    {
     "data": {
      "text/plain": "['NIH19KT0252\\n',\n '\\n',\n '=====================================================\\n',\n 'HLAscan v2.1\\n',\n 'Report created\\n',\n '2023. 2. 1.\\t17:40:16\\n',\n '========================================================\\n',\n 'HLA gene : HLA-A\\n',\n '# of considered types : 3182\\n',\n '\\n',\n '----------- HLA-Types -----------\\n',\n '[Type 1]\\t11:01:01:01\\tEX3_79.1522_100\\tEX2_92.3815_100\\tEX4_94.8225_100\\tEX5_65.1624_100\\n',\n '[Type 2]\\t26:01:01:01\\tEX3_81.4457_100\\tEX2_89.9407_100\\tEX4_84.4565_100\\tEX5_65.5385_100\\n',\n '\\n',\n '=====================================================\\n',\n 'HLAscan v2.1\\n',\n 'Report created\\n',\n '2023. 2. 1.\\t17:40:44\\n',\n '========================================================\\n',\n 'HLA gene : HLA-B\\n',\n '# of considered types : 3958\\n',\n '\\n',\n '----------- HLA-Types -----------\\n',\n '[Type 1]\\t15:01:01:02N\\tEX3_80.2319_100\\tEX2_81.4889_100\\tEX4_88.6594_100\\tEX5_74.7949_100\\n',\n '[Type 2]\\t59:01:01:02\\tEX3_81.9964_100\\tEX2_80.4444_100\\tEX4_88.1522_100\\tEX5_74.7949_100\\n',\n '\\n',\n '=====================================================\\n',\n 'HLAscan v2.1\\n',\n 'Report created\\n',\n '2023. 2. 1.\\t17:41:3\\n',\n '========================================================\\n',\n 'HLA gene : HLA-C\\n',\n '# of considered types : 2735\\n',\n '\\n',\n '----------- HLA-Types -----------\\n',\n '[Type 1]\\t04:01:01:01\\tEX3_84.8043_100\\tEX2_82.8407_100\\tEX4_91.6486_100\\tEX5_66.6417_100\\n',\n '[Type 2]\\t01:02:24\\tEX3_87.8333_100\\tEX2_83.7556_100\\tEX4_58.8297_50\\tEX5_64.3917_100\\n',\n '\\n',\n '=====================================================\\n',\n 'HLAscan v2.1\\n',\n 'Report created\\n',\n '2023. 2. 1.\\t17:41:26\\n',\n '========================================================\\n',\n 'HLA gene : HLA-DRB1\\n',\n '# of considered types : 1756\\n',\n '\\n',\n '----------- HLA-Types -----------\\n',\n '[Type 1]\\t04:06:02\\tEX2_71.5741_100\\tEX3_73.1596_81.6667\\tEX4_68.027_100\\n',\n '[Type 2]\\t04:05:01\\tEX2_68.0074_100\\tEX3_88.2163_100\\tEX4_68.027_100\\n',\n '\\n',\n '=====================================================\\n',\n 'HLAscan v2.1\\n',\n 'Report created\\n',\n '2023. 2. 1.\\t17:41:27\\n',\n '========================================================\\n',\n 'HLA gene : HLA-DPA1\\n',\n '# of considered types : 40\\n',\n '\\n',\n '----------- HLA-Types -----------\\n',\n '[Type 1]\\t01:03:01:02\\tEX2_58.0447_100\\tEX3_67.0745_100\\tEX4_58.8839_100\\n',\n '[Type 2]\\t02:02:02\\tEX2_58.3089_100\\tEX3_64.6241_100\\tEX4_55.3355_100\\n',\n '\\n',\n '=====================================================\\n',\n 'HLAscan v2.1\\n',\n 'Report created\\n',\n '2023. 2. 1.\\t17:41:34\\n',\n '========================================================\\n',\n 'HLA gene : HLA-DPB1\\n',\n '# of considered types : 550\\n',\n '\\n',\n '----------- HLA-Types -----------\\n',\n '[Type 1]\\t04:02:01:02\\tEX2_67.0152_100\\tEX3_71.5957_100\\tEX4_50.7568_100\\n',\n '[Type 2]\\t05:01:01\\tEX2_67.2992_100\\tEX3_73.3901_100\\tEX4_46.1081_100\\n',\n '\\n',\n '=====================================================\\n',\n 'HLAscan v2.1\\n',\n 'Report created\\n',\n '2023. 2. 1.\\t17:41:35\\n',\n '========================================================\\n',\n 'HLA gene : HLA-DQA1\\n',\n '# of considered types : 54\\n',\n '\\n',\n '----------- HLA-Types -----------\\n',\n '[Type 1]\\t03:03:02\\tEX2_63.7992_100\\tEX3_51.6028_50\\tEX4_73.0323_100\\n',\n '[Type 2]\\t03:01:01\\tEX2_63.7992_100\\tEX3_84.1489_100\\tEX4_73.0323_100\\n',\n '\\n',\n '=====================================================\\n',\n 'HLAscan v2.1\\n',\n 'Report created\\n',\n '2023. 2. 1.\\t17:41:46\\n',\n '========================================================\\n',\n 'HLA gene : HLA-DQB1\\n',\n '# of considered types : 806\\n',\n '\\n',\n '----------- HLA-Types -----------\\n',\n '[Type 1]\\t03:02:01\\tEX2_65.7111_100\\tEX3_90.5638_100\\tEX4_56.5045_100\\n',\n '[Type 2]\\t04:01:01\\tEX2_59.5222_100\\tEX3_90.5638_100\\tEX4_56.5045_100\\n',\n 'HLAscan End']"
     },
     "execution_count": 10,
     "metadata": {},
     "output_type": "execute_result"
    }
   ],
   "source": [
    "df.append('HLAscan End')\n",
    "df"
   ]
  },
  {
   "cell_type": "code",
   "execution_count": 19,
   "metadata": {},
   "outputs": [
    {
     "name": "stdout",
     "output_type": "stream",
     "text": [
      "ID : NIH19KT0252\n",
      "HLA-A\n",
      "11:01:01:01\n",
      "26:01:01:01\n",
      "HLA-B\n",
      "15:01:01:02N\n",
      "59:01:01:02\n",
      "HLA-C\n",
      "04:01:01:01\n",
      "01:02:24\n",
      "HLA-DRB1\n",
      "04:06:02\n",
      "04:05:01\n",
      "HLA-DPA1\n",
      "01:03:01:02\n",
      "02:02:02\n",
      "HLA-DPB1\n",
      "04:02:01:02\n",
      "05:01:01\n",
      "HLA-DQA1\n",
      "03:03:02\n",
      "03:01:01\n",
      "HLA-DQB1\n",
      "03:02:01\n",
      "04:01:01\n",
      "HLAscan End\n",
      "NIH19KT0252\t11:01:01:01\t26:01:01:01\t15:01:01:02N\t59:01:01:02\t04:01:01:01\t01:02:24\t04:06:02\t04:05:01\t01:03:01:02\t02:02:02\t04:02:01:02\t05:01:01\t03:03:02\t03:01:01\t03:02:01\t04:01:01\n"
     ]
    }
   ],
   "source": [
    "out = []\n",
    "header = \"ID\"\n",
    "gene = \"\"\n",
    "allele = []\n",
    "HLAscan_count = 0\n",
    "tmp = \"\"\n",
    "for i in df:\n",
    "    if \"HLAscan\" in i:\n",
    "        if HLAscan_count == 0: #시작\n",
    "            HLAscan_count = HLAscan_count + 1\n",
    "            continue\n",
    "        else:\n",
    "            header = header + \"\\t%s_1\\t%s_2\"%(gene,gene)\n",
    "            if len(allele) == 0:\n",
    "                tmp = tmp + \"\\tNA\\tNA\"\n",
    "            elif len(allele) == 1:\n",
    "                tmp = tmp + \"\\t%s\\tNA\"%allele[0]\n",
    "            else:\n",
    "                tmp = tmp + \"\\t%s\\t%s\"%(allele[0],allele[1])\n",
    "        if \"End\" in i:\n",
    "            print(i)\n",
    "            print(tmp)\n",
    "            out.append(header + \"\\n\")\n",
    "            out.append(tmp + \"\\n\")\n",
    "            break\n",
    "        allele_count = 0\n",
    "        gene = \"\"\n",
    "        allele = []\n",
    "        continue\n",
    "    if \"NIH\" in i:\n",
    "        ID = i.replace(\"\\n\",\"\")\n",
    "        print(\"ID : %s\"%ID)\n",
    "        #tmp = tmp + \"\\t%s\"%ID\n",
    "        tmp = \"%s\"%ID\n",
    "        continue\n",
    "    if 'HLA gene' in i:\n",
    "        #print(i.replace(\"\\n\",\"\"))\n",
    "        print(i.split(\":\")[1].strip())\n",
    "        gene = i.split(\":\")[1].strip()\n",
    "        continue\n",
    "    if \"[Type 1\" in i:\n",
    "        #print(i.replace(\"\\n\",\"\"))\n",
    "        print(i.split()[2])\n",
    "        #tmp = tmp + \"\\t\" + i.split()[2]\n",
    "        allele.append(i.split()[2])\n",
    "        continue\n",
    "    if \"[Type 2\" in i:\n",
    "        #print(i.replace(\"\\n\",\"\"))\n",
    "        print(i.split()[2])\n",
    "        allele.append(i.split()[2])\n",
    "        continue\n",
    "\n",
    "    \n"
   ]
  },
  {
   "cell_type": "code",
   "execution_count": 22,
   "metadata": {},
   "outputs": [
    {
     "name": "stdout",
     "output_type": "stream",
     "text": [
      "ID\tHLA-A_1\tHLA-A_2\tHLA-B_1\tHLA-B_2\tHLA-C_1\tHLA-C_2\tHLA-DRB1_1\tHLA-DRB1_2\tHLA-DPA1_1\tHLA-DPA1_2\tHLA-DPB1_1\tHLA-DPB1_2\tHLA-DQA1_1\tHLA-DQA1_2\tHLA-DQB1_1\tHLA-DQB1_2\n",
      "\n",
      "NIH19KT0252\t11:01:01:01\t26:01:01:01\t15:01:01:02N\t59:01:01:02\t04:01:01:01\t01:02:24\t04:06:02\t04:05:01\t01:03:01:02\t02:02:02\t04:02:01:02\t05:01:01\t03:03:02\t03:01:01\t03:02:01\t04:01:01\n",
      "\n"
     ]
    }
   ],
   "source": [
    "#print(out)\n",
    "for i in out:\n",
    "    print(i)"
   ]
  },
  {
   "cell_type": "code",
   "execution_count": 31,
   "metadata": {},
   "outputs": [],
   "source": [
    "new_df = []\n",
    "genes = [\"HLA-A\",\"HLA-B\",\"HLA-C\",\"HLA-DRB1\",\"HLA-DPA1\",\"HLA-DPB1\",\"HLA-DQA1\",\"HLA-DQB1\"]\n",
    "for i in out:\n",
    "    #print(len(i.split()))\n",
    "    sizeOfvalue = len(i.split())\n",
    "    if sizeOfvalue == 3:\n",
    "        HLAgene,t1,t2 = i.split()\n",
    "        continue\n",
    "    elif sizeOfvalue == 2:\n",
    "        HLAgene,t1 = i.split()\n",
    "        t2 = \"NA\"\n",
    "        continue\n",
    "    else:\n",
    "        HLAgene = i.split()\n",
    "        continue\n"
   ]
  },
  {
   "cell_type": "code",
   "execution_count": 32,
   "metadata": {},
   "outputs": [
    {
     "name": "stdout",
     "output_type": "stream",
     "text": [
      "['1']\n"
     ]
    }
   ],
   "source": [
    "i = \"1\\t\\t\"\n",
    "i.split()\n",
    "print(i.split())\n"
   ]
  },
  {
   "cell_type": "code",
   "execution_count": 12,
   "metadata": {},
   "outputs": [
    {
     "data": {
      "text/plain": "3"
     },
     "execution_count": 12,
     "metadata": {},
     "output_type": "execute_result"
    }
   ],
   "source": [
    "len([1,\"234\",3])"
   ]
  },
  {
   "cell_type": "code",
   "execution_count": null,
   "metadata": {},
   "outputs": [],
   "source": [
    "out = []\n",
    "header = \"ID\"\n",
    "gene = \"HLA-A\"\n",
    "allele_count = 0\n",
    "HLAscan_count = 0\n",
    "for i in df:\n",
    "    if \"HLAscan\" in i:\n",
    "        if HLAscan_count == 0: #시작\n",
    "            HLAscan_count = HLAscan_count + 1\n",
    "        elif allele_count == 0:\n",
    "            tmp = \"NA\"\n",
    "        elif allele_count == 1:\n",
    "            tmp = \"NA\"\n",
    "        else:\n",
    "            tmp = \"\"\n",
    "        allele_count = 0\n",
    "        continue\n",
    "    if \"NIH\" in i:\n",
    "        ID = i.replace(\"\\n\",\"\")\n",
    "        print(\"ID : %s\"%ID)\n",
    "        continue\n",
    "    if 'HLA gene' in i:\n",
    "        if gene != i.split(\":\")[1].strip():\n",
    "            out.append(tmp)\n",
    "        tmp = \"\"\n",
    "        #print(i.replace(\"\\n\",\"\"))\n",
    "        print(i.split(\":\")[1].strip())\n",
    "        gene = i.split(\":\")[1].strip()\n",
    "        tmp = tmp + gene\n",
    "        continue\n",
    "    if \"[Type 1\" in i:\n",
    "        #print(i.replace(\"\\n\",\"\"))\n",
    "        print(i.split()[2])\n",
    "        tmp = tmp + \"\\t\" + i.split()[2]\n",
    "        allele_count = allele_count + 1\n",
    "        continue\n",
    "    if \"[Type 2\" in i:\n",
    "        #print(i.replace(\"\\n\",\"\"))\n",
    "        print(i.split()[2])\n",
    "        tmp = tmp + \"\\t\" + i.split()[2]\n",
    "        allele_count = allele_count + 1\n",
    "        continue\n",
    "\n",
    "    \n"
   ]
  }
 ],
 "metadata": {
  "kernelspec": {
   "display_name": "Python 3.8.5 64-bit ('anaconda3': virtualenv)",
   "metadata": {
    "interpreter": {
     "hash": "0c6b25a2ab5e3205a444af4f5a64e29752114153bd45700a2f23b8ddc4fdb0ec"
    }
   },
   "name": "python3"
  },
  "language_info": {
   "codemirror_mode": {
    "name": "ipython",
    "version": 3
   },
   "file_extension": ".py",
   "mimetype": "text/x-python",
   "name": "python",
   "nbconvert_exporter": "python",
   "pygments_lexer": "ipython3",
   "version": "3.8.5"
  },
  "orig_nbformat": 2
 },
 "nbformat": 4,
 "nbformat_minor": 2
}