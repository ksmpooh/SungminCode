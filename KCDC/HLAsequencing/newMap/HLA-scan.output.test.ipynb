{
 "cells": [
  {
   "cell_type": "code",
   "execution_count": 1,
   "metadata": {},
   "outputs": [],
   "source": [
    "import os,glob"
   ]
  },
  {
   "cell_type": "code",
   "execution_count": 2,
   "metadata": {},
   "outputs": [],
   "source": [
    "datain = open(\"/Users/ksmpooh/Desktop/KCDC/HLA_seq/HLAinfer/HLA_scan/output.test.txt\",\"r\")\n",
    "df = datain.readlines()"
   ]
  },
  {
   "cell_type": "code",
   "execution_count": 3,
   "metadata": {},
   "outputs": [
    {
     "data": {
      "text/plain": "['=====================================================\\n',\n 'HLAscan v2.1\\n',\n 'Report created\\n',\n '2023. 1. 31.    15:38:33\\n',\n '========================================================\\n',\n 'HLA gene : HLA-A\\n',\n '# of considered types : 3182\\n',\n '\\n',\n '----------- HLA-Types -----------\\n',\n '[Type 1]        11:01:01:01     EX3_81.587_100  EX2_82.7444_100 EX4_88.9964_100 EX5_60.3675_100\\n',\n '[Type 2]        33:03:01        EX3_79.2681_100 EX2_85.1481_100 EX4_83.5942_100 EX5_63.0342_100\\n',\n '\\n',\n '=====================================================\\n',\n 'HLAscan v2.1\\n',\n 'Report created\\n',\n '2023. 1. 31.    15:41:49\\n',\n '========================================================\\n',\n 'HLA gene : HLA-B\\n',\n '# of considered types : 3958\\n',\n '\\n',\n '----------- HLA-Types -----------\\n',\n '[Type 1]        44:03:01        EX3_84.0725_100 EX2_80.4741_100 EX4_86.3478_100 EX5_57.094_100\\n',\n '[Type 2]        15:01:01:03     EX3_80.4058_100 EX2_79.9259_100 EX4_87.2101_100 EX5_62.4872_100\\n',\n '\\n',\n '=====================================================\\n',\n 'HLAscan v2.1\\n',\n 'Report created\\n',\n '2023. 1. 31.    15:44:5\\n',\n '========================================================\\n',\n 'HLA gene : HLA-C\\n',\n '# of considered types : 2735\\n',\n '\\n',\n '----------- HLA-Types -----------\\n',\n '[Type 1]        04:01:01:04     EX3_87.6703_100 EX2_79.3185_100 EX4_94.0942_100 EX5_60.85_100\\n',\n '[Type 2]        14:03   EX3_89.5254_100 EX2_81.637_100  EX4_94.2681_100 EX5_59.5083_100\\n',\n '\\n',\n '=====================================================\\n',\n 'HLAscan v2.1\\n',\n 'Report created\\n',\n '2023. 1. 31.    15:50:8\\n',\n '========================================================\\n',\n 'HLA gene : HLA-DPA1\\n',\n '# of considered types : 40\\n',\n '\\n',\n '----------- HLA-Types -----------\\n',\n '[Type 1]        01:03:01:02     EX2_58.1789_100 EX3_69.4291_100 EX4_55_100\\n',\n '[Type 2]        02:02:02        EX2_52.8211_100 EX3_71.5993_100 EX4_51.1161_100\\n',\n '\\n',\n '=====================================================\\n',\n 'HLAscan v2.1\\n',\n 'Report created\\n',\n '2023. 1. 31.    15:51:57\\n',\n '========================================================\\n',\n 'HLA gene : HLA-DPB1\\n',\n '# of considered types : 550\\n',\n '\\n',\n '----------- HLA-Types -----------\\n',\n '[Type 1]        02:02   EX2_73.7992_100 EX3_85.7128_100 EX4_58.9279_100\\n',\n '[Type 2]        04:02:01:02     EX2_70.9545_100 EX3_86.7943_100 EX4_58.9279_100\\n',\n '\\n',\n '=====================================================\\n',\n 'HLAscan v2.1\\n',\n 'Report created\\n',\n '2023. 1. 31.    15:52:10\\n',\n '========================================================\\n',\n 'HLA gene : HLA-DQA1\\n',\n '# of considered types : 54\\n',\n '\\n',\n '----------- HLA-Types -----------\\n',\n '[Type 1]        01:02:01:04     EX2_67.9438_100 EX3_82.0248_100 EX4_62.671_100\\n',\n '[Type 2]        03:01:01        EX2_45.2972_100 EX3_80.0106_100 EX4_58.129_100\\n',\n '\\n',\n '=====================================================\\n',\n 'HLAscan v2.1\\n',\n 'Report created\\n',\n '2023. 1. 31.    15:54:55\\n',\n '========================================================\\n',\n 'HLA gene : HLA-DQB1\\n',\n '# of considered types : 806\\n',\n '\\n',\n '----------- HLA-Types -----------\\n',\n '[Type 1]        06:04:01        EX2_75.6852_100 EX3_76.6844_100 EX4_57.3333_100\\n',\n '[Type 2]        03:02:01        EX2_66.7111_100 EX3_78.9574_100 EX4_46.7027_100\\n']"
     },
     "execution_count": 3,
     "metadata": {},
     "output_type": "execute_result"
    }
   ],
   "source": [
    "df"
   ]
  },
  {
   "cell_type": "code",
   "execution_count": 29,
   "metadata": {},
   "outputs": [
    {
     "name": "stdout",
     "output_type": "stream",
     "text": [
      "HLA-A\n",
      "11:01:01:01\n",
      "33:03:01\n",
      "HLA-B\n",
      "44:03:01\n",
      "15:01:01:03\n",
      "HLA-C\n",
      "04:01:01:04\n",
      "14:03\n",
      "HLA-DPA1\n",
      "01:03:01:02\n",
      "02:02:02\n",
      "HLA-DPB1\n",
      "02:02\n",
      "04:02:01:02\n",
      "HLA-DQA1\n",
      "01:02:01:04\n",
      "03:01:01\n",
      "HLA-DQB1\n",
      "06:04:01\n",
      "03:02:01\n"
     ]
    }
   ],
   "source": [
    "out = []\n",
    "gene = \"HLA-A\"\n",
    "for i in df:\n",
    "    if \"NIH\" in i:\n",
    "        ID = i.replace(\"\\n\",\"\")\n",
    "        continue\n",
    "    if 'HLA gene' in i:\n",
    "        if gene != i.split(\":\")[1].strip():\n",
    "            out.append(tmp)\n",
    "        tmp = \"\"\n",
    "        #print(i.replace(\"\\n\",\"\"))\n",
    "        print(i.split(\":\")[1].strip())\n",
    "        gene = i.split(\":\")[1].strip()\n",
    "        tmp = tmp + gene\n",
    "        continue\n",
    "    if \"[Type 1\" in i:\n",
    "        #print(i.replace(\"\\n\",\"\"))\n",
    "        print(i.split()[2])\n",
    "        tmp = tmp + \"\\t\" + i.split()[2]\n",
    "    if \"[Type 2\" in i:\n",
    "        #print(i.replace(\"\\n\",\"\"))\n",
    "        print(i.split()[2])\n",
    "        tmp = tmp + \"\\t\" + i.split()[2]\n",
    "    if \"\\n\" == i:\n",
    "        #print(\"nnnn\")\n",
    "        continue\n",
    "\n",
    "    \n"
   ]
  },
  {
   "cell_type": "code",
   "execution_count": 28,
   "metadata": {},
   "outputs": [
    {
     "name": "stdout",
     "output_type": "stream",
     "text": [
      "['HLA-A\\t11:01:01:01\\t33:03:01', 'HLA-B\\t44:03:01\\t15:01:01:03', 'HLA-C\\t04:01:01:04\\t14:03', 'HLA-DPA1\\t01:03:01:02\\t02:02:02', 'HLA-DPB1\\t02:02\\t04:02:01:02', 'HLA-DQA1\\t01:02:01:04\\t03:01:01']\n"
     ]
    }
   ],
   "source": [
    "print(out)"
   ]
  },
  {
   "cell_type": "code",
   "execution_count": 31,
   "metadata": {},
   "outputs": [],
   "source": [
    "new_df = []\n",
    "genes = [\"HLA-A\",\"HLA-B\",\"HLA-C\",\"HLA-DRB1\",\"HLA-DPA1\",\"HLA-DPB1\",\"HLA-DQA1\",\"HLA-DQB1\"]\n",
    "for i in out:\n",
    "    #print(len(i.split()))\n",
    "    sizeOfvalue = len(i.split())\n",
    "    if sizeOfvalue == 3:\n",
    "        HLAgene,t1,t2 = i.split()\n",
    "        continue\n",
    "    elif sizeOfvalue == 2:\n",
    "        HLAgene,t1 = i.split()\n",
    "        t2 = \"NA\"\n",
    "        continue\n",
    "    else:\n",
    "        HLAgene = i.split()\n",
    "        continue\n"
   ]
  },
  {
   "cell_type": "code",
   "execution_count": 32,
   "metadata": {},
   "outputs": [
    {
     "name": "stdout",
     "output_type": "stream",
     "text": [
      "['1']\n"
     ]
    }
   ],
   "source": [
    "i = \"1\\t\\t\"\n",
    "i.split()\n",
    "print(i.split())\n"
   ]
  },
  {
   "cell_type": "code",
   "execution_count": null,
   "metadata": {},
   "outputs": [],
   "source": []
  }
 ],
 "metadata": {
  "kernelspec": {
   "display_name": "Python 3.8.5 64-bit ('base': conda)",
   "metadata": {
    "interpreter": {
     "hash": "0c6b25a2ab5e3205a444af4f5a64e29752114153bd45700a2f23b8ddc4fdb0ec"
    }
   },
   "name": "python3"
  },
  "language_info": {
   "codemirror_mode": {
    "name": "ipython",
    "version": 3
   },
   "file_extension": ".py",
   "mimetype": "text/x-python",
   "name": "python",
   "nbconvert_exporter": "python",
   "pygments_lexer": "ipython3",
   "version": "3.8.5"
  },
  "orig_nbformat": 2
 },
 "nbformat": 4,
 "nbformat_minor": 2
}