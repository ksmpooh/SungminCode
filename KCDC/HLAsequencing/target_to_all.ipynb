{
 "cells": [
  {
   "cell_type": "code",
   "execution_count": 1,
   "metadata": {},
   "outputs": [],
   "source": [
    "### target pos to all pot"
   ]
  },
  {
   "cell_type": "code",
   "execution_count": 7,
   "metadata": {},
   "outputs": [],
   "source": [
    "df = open(\"/Users/ksmpooh/Desktop/KCDC/일반용역/장기이식/HLAseq/Selection Result/HLA_1104_capture_targets.bed\",\"r\")"
   ]
  },
  {
   "cell_type": "code",
   "execution_count": 8,
   "metadata": {},
   "outputs": [],
   "source": [
    "a = df.readlines()"
   ]
  },
  {
   "cell_type": "code",
   "execution_count": 9,
   "metadata": {},
   "outputs": [
    {
     "data": {
      "text/plain": "['chr6\\t28477798\\t28479690\\tchr6:28477797-33448354\\n',\n 'chr6\\t28479932\\t28480052\\tchr6:28477797-33448354\\n',\n 'chr6\\t28480328\\t28480464\\tchr6:28477797-33448354\\n',\n 'chr6\\t28480572\\t28481052\\tchr6:28477797-33448354\\n',\n 'chr6\\t28481098\\t28485948\\tchr6:28477797-33448354\\n']"
     },
     "execution_count": 9,
     "metadata": {},
     "output_type": "execute_result"
    }
   ],
   "source": [
    "a[0:5]"
   ]
  },
  {
   "cell_type": "code",
   "execution_count": 12,
   "metadata": {},
   "outputs": [],
   "source": [
    "out = open(\"/Users/ksmpooh/Desktop/KCDC/일반용역/장기이식/HLAseq/HLAseq.target.allPOS.txt\",\"w\")\n",
    "for i in a:\n",
    "    tmp = i.split(\"\\t\")\n",
    "    start = int(tmp[1])\n",
    "    end = int(tmp[2])\n",
    "    for j in range(start,end):\n",
    "        out.write(\"%s\\n\"%str(j))\n",
    "out.close()"
   ]
  },
  {
   "cell_type": "code",
   "execution_count": null,
   "metadata": {},
   "outputs": [],
   "source": []
  }
 ],
 "metadata": {
  "kernelspec": {
   "display_name": "Python 3",
   "name": "python3"
  },
  "language_info": {
   "codemirror_mode": {
    "name": "ipython",
    "version": 3
   },
   "file_extension": ".py",
   "mimetype": "text/x-python",
   "name": "python",
   "nbconvert_exporter": "python",
   "pygments_lexer": "ipython3",
   "version": "3.8.5"
  },
  "orig_nbformat": 2
 },
 "nbformat": 4,
 "nbformat_minor": 2
}