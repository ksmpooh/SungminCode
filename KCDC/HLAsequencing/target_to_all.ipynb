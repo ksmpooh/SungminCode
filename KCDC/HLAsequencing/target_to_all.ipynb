{
 "cells": [
  {
   "cell_type": "code",
   "execution_count": 1,
   "metadata": {},
   "outputs": [],
   "source": [
    "### target pos to all pot"
   ]
  },
  {
   "cell_type": "code",
   "execution_count": 1,
   "metadata": {},
   "outputs": [],
   "source": [
    "df = open(\"/Users/ksmpooh/Desktop/KCDC/일반용역/장기이식/HLAseq/Selection Result/HLA_1104_capture_targets.bed\",\"r\")"
   ]
  },
  {
   "cell_type": "code",
   "execution_count": 3,
   "metadata": {},
   "outputs": [],
   "source": [
    "a = df.readlines()"
   ]
  },
  {
   "cell_type": "code",
   "execution_count": 9,
   "metadata": {},
   "outputs": [
    {
     "data": {
      "text/plain": "['chr6\\t28477798\\t28479690\\tchr6:28477797-33448354\\n',\n 'chr6\\t28479932\\t28480052\\tchr6:28477797-33448354\\n',\n 'chr6\\t28480328\\t28480464\\tchr6:28477797-33448354\\n',\n 'chr6\\t28480572\\t28481052\\tchr6:28477797-33448354\\n',\n 'chr6\\t28481098\\t28485948\\tchr6:28477797-33448354\\n']"
     },
     "execution_count": 9,
     "metadata": {},
     "output_type": "execute_result"
    }
   ],
   "source": [
    "a[0:5]"
   ]
  },
  {
   "cell_type": "code",
   "execution_count": 12,
   "metadata": {},
   "outputs": [],
   "source": [
    "out = open(\"/Users/ksmpooh/Desktop/KCDC/일반용역/장기이식/HLAseq/HLAseq.target.allPOS.txt\",\"w\")\n",
    "for i in a:\n",
    "    tmp = i.split(\"\\t\")\n",
    "    start = int(tmp[1])\n",
    "    end = int(tmp[2])\n",
    "    for j in range(start,end):\n",
    "        out.write(\"%s\\n\"%str(j))\n",
    "out.close()"
   ]
  },
  {
   "cell_type": "code",
   "execution_count": 4,
   "metadata": {},
   "outputs": [],
   "source": [
    "out = open(\"/Users/ksmpooh/Desktop/KCDC/일반용역/장기이식/HLAseq/HLAseq.target.allPOS_PM50.txt\",\"w\")\n",
    "for i in a:\n",
    "    tmp = i.split(\"\\t\")\n",
    "    start = int(tmp[1])\n",
    "    end = int(tmp[2])\n",
    "    for j in range(start-50,end+50+1):\n",
    "        out.write(\"%s\\n\"%str(j))\n",
    "out.close()"
   ]
  },
  {
   "cell_type": "code",
   "execution_count": 1,
   "metadata": {},
   "outputs": [
    {
     "data": {
      "text/plain": "'\\n(base) ➜  DNAlink head hg38_target.txt\\nstartpos endpos\\n29942531 29942626\\n29942756 29943026\\n29943267 29943543\\n29944121 29944397\\n29944499 29944616\\n29945058 29945091\\n29945233 29945281\\n29945450 29945870\\n31353874 31354296\\n(base) ➜  DNAlink head hg38_accuracy.txt\\nhg38 Accuracy\\n28510517 1\\n28511107 1\\n28511955 0\\n28511961 0\\n28511972 0\\n28511973 0\\n'"
     },
     "execution_count": 1,
     "metadata": {},
     "output_type": "execute_result"
    }
   ],
   "source": [
    "######## target to pos accuracy Sum\n",
    "acc = open(\"/Users/ksmpooh/Desktop/KCDC/HLA_seq/DNAlink/hg38_accuracy.txt\",\"r\")\n",
    "target = open(\"/Users/ksmpooh/Desktop/KCDC/HLA_seq/DNAlink/hg38_target.txt\",\"r\")\n",
    "#out = open(\"/Users/ksmpooh/Desktop/KCDC/HLA_seq/DNAlink/hg38_target_accurac_regionSUM.txt\",\"w\")\n",
    "out = open(\"/Users/ksmpooh/Desktop/KCDC/HLA_seq/DNAlink/hg38_target_accurac_regionMean.txt\",\"w\")\n",
    "'''\n",
    "(base) ➜  DNAlink head hg38_target.txt\n",
    "startpos endpos\n",
    "29942531 29942626\n",
    "29942756 29943026\n",
    "29943267 29943543\n",
    "29944121 29944397\n",
    "29944499 29944616\n",
    "29945058 29945091\n",
    "29945233 29945281\n",
    "29945450 29945870\n",
    "31353874 31354296\n",
    "(base) ➜  DNAlink head hg38_accuracy.txt\n",
    "hg38 Accuracy\n",
    "28510517 1\n",
    "28511107 1\n",
    "28511955 0\n",
    "28511961 0\n",
    "28511972 0\n",
    "28511973 0\n",
    "'''"
   ]
  },
  {
   "cell_type": "code",
   "execution_count": 64,
   "metadata": {},
   "outputs": [],
   "source": [
    "t = acc.readlines()\n",
    "acc_dic = {}\n",
    "for i in t[1:]:\n",
    "    #print(i)\n",
    "    a,b = i.replace(\"\\n\",\"\").split()\n",
    "    #print(i,a,b)\n",
    "    if b == \"NA\":\n",
    "        #print(a,b)\n",
    "        continue\n",
    "    acc_dic[int(a)] = float(b)\n",
    "    \n",
    "t = target.readlines()\n",
    "out.write(\"startpos endpos accuracy_sum\\n\")\n",
    "for i in t[1:]:\n",
    "    a,b = i.replace(\"\\n\",\"\").split()\n",
    "    score_sum = 0\n",
    "    for j in range(int(a),int(b)+1):\n",
    "        if j in acc_dic.keys():\n",
    "            score_sum = score_sum + acc_dic[j]\n",
    "        else:\n",
    "            continue\n",
    "    out.write(\"%s %s %s\\n\"%(a,b,str(score_sum)))\n",
    "out.close()\n",
    "        \n",
    "        \n",
    "    \n"
   ]
  },
  {
   "cell_type": "code",
   "execution_count": 2,
   "metadata": {},
   "outputs": [],
   "source": [
    "t = acc.readlines()\n",
    "acc_dic = {}\n",
    "for i in t[1:]:\n",
    "    #print(i)\n",
    "    a,b = i.replace(\"\\n\",\"\").split()\n",
    "    #print(i,a,b)\n",
    "    if b == \"NA\":\n",
    "        #print(a,b)\n",
    "        continue\n",
    "    acc_dic[int(a)] = float(b)\n",
    "    \n",
    "t = target.readlines()\n",
    "out.write(\"startpos endpos accuracy_mean count\\n\")\n",
    "for i in t[1:]:\n",
    "    a,b = i.replace(\"\\n\",\"\").split()\n",
    "    score_sum = 0\n",
    "    count = 0\n",
    "    for j in range(int(a),int(b)+1):\n",
    "        if j in acc_dic.keys():\n",
    "            count = count + 1\n",
    "            score_sum = score_sum + acc_dic[j]\n",
    "        else:\n",
    "            continue\n",
    "    #print(count)\n",
    "    if count != 0:\n",
    "        score_sum = score_sum/count\n",
    "    out.write(\"%s %s %s %s\\n\"%(a,b,str(score_sum),count))\n",
    "out.close()\n",
    "        \n",
    "        \n",
    "    \n"
   ]
  },
  {
   "cell_type": "code",
   "execution_count": null,
   "metadata": {},
   "outputs": [],
   "source": []
  }
 ],
 "metadata": {
  "kernelspec": {
   "display_name": "Python 3",
   "language": "python",
   "name": "python3"
  },
  "language_info": {
   "codemirror_mode": {
    "name": "ipython",
    "version": 3
   },
   "file_extension": ".py",
   "mimetype": "text/x-python",
   "name": "python",
   "nbconvert_exporter": "python",
   "pygments_lexer": "ipython3",
   "version": "3.8.5"
  },
  "orig_nbformat": 2
 },
 "nbformat": 4,
 "nbformat_minor": 2
}