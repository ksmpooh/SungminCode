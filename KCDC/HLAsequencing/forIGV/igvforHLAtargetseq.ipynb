{
 "cells": [
  {
   "cell_type": "code",
   "execution_count": 1,
   "metadata": {},
   "outputs": [],
   "source": [
    "##### reference gene list for IGV in HLA region\n",
    "#zcat <  ncbiRefSeq.sorted.txt.gz|grep chr6 |awk '$5 >= 28477797 && $6 <= 33448354{print $0}' |less -NS\n",
    "#zcat <  ncbiRefSeq.sorted.txt.gz|grep chr6 |awk '$5 >= 28477797 && $7 <= 33448354{print $0}' |less -NS"
   ]
  },
  {
   "cell_type": "code",
   "execution_count": 1,
   "metadata": {},
   "outputs": [],
   "source": [
    "import os,glob,gzip"
   ]
  },
  {
   "cell_type": "code",
   "execution_count": 12,
   "metadata": {},
   "outputs": [],
   "source": [
    "#df = gzip.open(\"/Users/ksmpooh/Desktop/KCDC/long_read/ncbiRefSeq.sorted.txt.gz\",\"rt\")\n",
    "df = open(\"/Users/ksmpooh/Desktop/KCDC/long_read/ncbiRefSeq.sorted_onlyForHLA.txt\",\"r\")"
   ]
  },
  {
   "cell_type": "code",
   "execution_count": 16,
   "metadata": {},
   "outputs": [
    {
     "name": "stdout",
     "output_type": "stream",
     "text": [
      "802\tNR_144470.1\tchr6\t+\t28496107\t28502728\t28502728\t28502728\t4\t28496107,28497227,28500097,28501737,\t28496385,28497381,28500197,28502728,\t0\tGPX5\tnone\tnone\t-1,-1,-1,-1,\n",
      "\n",
      "0 802\n",
      "1 NR_144470.1\n",
      "2 chr6\n",
      "3 +\n",
      "4 28496107\n",
      "5 28502728\n",
      "6 28502728\n",
      "7 28502728\n",
      "8 4\n",
      "9 28496107,28497227,28500097,28501737,\n",
      "10 28496385,28497381,28500197,28502728,\n",
      "11 0\n",
      "12 GPX5\n",
      "13 none\n",
      "14 none\n",
      "15 -1,-1,-1,-1,\n",
      "\n"
     ]
    }
   ],
   "source": [
    "a = df.readline()\n",
    "print(a)\n",
    "b = a.split(\"\\t\")\n",
    "for i,j in enumerate(b):\n",
    "    print(i,j)\n",
    "#print(len(b))\n",
    "#print(b[])\n",
    "# 4,5,6,7,9,10\n",
    "# 6:28477797-33448354 "
   ]
  },
  {
   "cell_type": "code",
   "execution_count": 4,
   "metadata": {},
   "outputs": [],
   "source": [
    "##\n",
    "def hg_19_main():\n",
    "    df = open(\"/Users/ksmpooh/Desktop/KCDC/long_read/ncbiRefSeq.sorted_onlyForHLA.txt\",\"r\")\n",
    "    out = open(\"/Users/ksmpooh/Desktop/KCDC/long_read/ncbiRefSeq.sorted_onlyForHLA_forIGV.txt\",\"w\")\n",
    "    while 1:\n",
    "    #for i in range(1,2):\n",
    "        line = df.readline()\n",
    "        #print(line)\n",
    "        if not line: break\n",
    "        tmp = line.split(\"\\t\")\n",
    "        #print(tmp)\n",
    "        for index in [4,5,6,7,9,10]:\n",
    "            if index in [9,10]:\n",
    "                t1 = tmp[index]\n",
    "                t2 = t1[:-1].split(\",\")\n",
    "                for i,t in enumerate(t2):\n",
    "                    rep = str(int(t) - 28477797)\n",
    "                    #t1 = t1.replace(t,rep)\n",
    "                    t2[i] = rep\n",
    "                tmp[index] = ','.join(t2) + \",\"\n",
    "                #print(line)\n",
    "                #print(tmp[index])\n",
    "                #print(t1)\n",
    "                \n",
    "                #line = line.replace(tmp[index],t1)    \n",
    "                #print(line)\n",
    "                '''part2\n",
    "                if ',' in t1:\n",
    "                    t2 = t1[:-1].split(\",\")\n",
    "                    #print(t1)\n",
    "                    #print(t1[:-1])\n",
    "                    #print(t2)\n",
    "                    for t in t2:\n",
    "                        rep = str(int(t) - 28477797)\n",
    "                        t1 = t1.replace(t,rep)\n",
    "                    line = line.replace(tmp[index],t1)\n",
    "                else:\n",
    "                    rep = str(int(t1) - 28477797)\n",
    "                    line = line.replace(tmp[index],rep)\n",
    "                '''\n",
    "            else:\n",
    "                rep = str(int(tmp[index]) - 28477797)\n",
    "                tmp[index] = rep\n",
    "                #line = line.replace(tmp[index],rep)\n",
    "        line = '\\t'.join(tmp)\n",
    "        #print(tmp)\n",
    "        #print(line)\n",
    "        out.write(line.replace(\"chr6\",\"6:28477797-33448354\"))\n",
    "    out.close()\n",
    "\n",
    "hg_19_main    "
   ]
  },
  {
   "cell_type": "code",
   "execution_count": 3,
   "metadata": {},
   "outputs": [],
   "source": [
    "##hg38 chr6:28510020-33480577\n",
    "\n",
    "def hg_38_main():\n",
    "    df = open(\"/Users/ksmpooh/Desktop/KCDC/long_read/IGV/hg38/ncbiRefSeq_chr6_HLAregion.txt\",\"r\")\n",
    "    out = open(\"/Users/ksmpooh/Desktop/KCDC/long_read/IGV/hg38/ncbiRefSeq_chr6_HLAregion_processing.txt\",\"w\")\n",
    "    while 1:\n",
    "    #for i in range(1,2):\n",
    "        line = df.readline()\n",
    "        #print(line)\n",
    "        if not line: break\n",
    "        tmp = line.split(\"\\t\")\n",
    "        #print(tmp)\n",
    "        for index in [4,5,6,7,9,10]:\n",
    "            if index in [9,10]:\n",
    "                t1 = tmp[index]\n",
    "                t2 = t1[:-1].split(\",\")\n",
    "                for i,t in enumerate(t2):\n",
    "                    rep = str(int(t) - 28510020)\n",
    "                    #t1 = t1.replace(t,rep)\n",
    "                    t2[i] = rep\n",
    "                tmp[index] = ','.join(t2) + \",\"\n",
    "                #print(line)\n",
    "                #print(tmp[index])\n",
    "                #print(t1)\n",
    "                \n",
    "                #line = line.replace(tmp[index],t1)    \n",
    "                #print(line)\n",
    "                '''part2\n",
    "                if ',' in t1:\n",
    "                    t2 = t1[:-1].split(\",\")\n",
    "                    #print(t1)\n",
    "                    #print(t1[:-1])\n",
    "                    #print(t2)\n",
    "                    for t in t2:\n",
    "                        rep = str(int(t) - 28477797)\n",
    "                        t1 = t1.replace(t,rep)\n",
    "                    line = line.replace(tmp[index],t1)\n",
    "                else:\n",
    "                    rep = str(int(t1) - 28477797)\n",
    "                    line = line.replace(tmp[index],rep)\n",
    "                '''\n",
    "            else:\n",
    "                rep = str(int(tmp[index]) - 28510020)\n",
    "                tmp[index] = rep\n",
    "                #line = line.replace(tmp[index],rep)\n",
    "        line = '\\t'.join(tmp)\n",
    "        #print(tmp)\n",
    "        #print(line)\n",
    "        out.write(line.replace(\"chr6\",\"chr6:28510020-33480577\"))\n",
    "    out.close()\n",
    "\n",
    "hg_38_main()"
   ]
  },
  {
   "cell_type": "code",
   "execution_count": null,
   "metadata": {},
   "outputs": [],
   "source": []
  }
 ],
 "metadata": {
  "kernelspec": {
   "display_name": "Python 3.8.5 64-bit ('base': conda)",
   "metadata": {
    "interpreter": {
     "hash": "0c6b25a2ab5e3205a444af4f5a64e29752114153bd45700a2f23b8ddc4fdb0ec"
    }
   },
   "name": "python3"
  },
  "language_info": {
   "codemirror_mode": {
    "name": "ipython",
    "version": 3
   },
   "file_extension": ".py",
   "mimetype": "text/x-python",
   "name": "python",
   "nbconvert_exporter": "python",
   "pygments_lexer": "ipython3",
   "version": "3.8.5"
  },
  "orig_nbformat": 2
 },
 "nbformat": 4,
 "nbformat_minor": 2
}