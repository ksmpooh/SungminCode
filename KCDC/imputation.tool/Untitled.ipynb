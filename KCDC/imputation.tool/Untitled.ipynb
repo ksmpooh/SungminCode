{
 "cells": [
  {
   "cell_type": "code",
   "execution_count": 1,
   "metadata": {},
   "outputs": [],
   "source": [
    "### impute4 memory result, make header"
   ]
  },
  {
   "cell_type": "code",
   "execution_count": 2,
   "metadata": {},
   "outputs": [],
   "source": [
    "import os, glob, sys"
   ]
  },
  {
   "cell_type": "code",
   "execution_count": 6,
   "metadata": {},
   "outputs": [
    {
     "name": "stdout",
     "output_type": "stream",
     "text": [
      "c:/Users/user/Desktop/KCDC/imputation.tool/memory\\100000001_105000000.log\n",
      "c:/Users/user/Desktop/KCDC/imputation.tool/memory\\10000001_15000000.log\n",
      "c:/Users/user/Desktop/KCDC/imputation.tool/memory\\10177_5000000.log\n"
     ]
    }
   ],
   "source": [
    "wdir = \"c:/Users/user/Desktop/KCDC/imputation.tool/\"\n",
    "loglist = glob.glob(wdir + \"memory/*log\")\n",
    "header = wdir + \"SCRIPTs/header.txt\"\n",
    "outDir = wdir + \"memory.check/\"\n",
    "for i in loglist[0:3]:\n",
    "    os.system(\"cp %s %s\"%(header,outDir))\n",
    "    print(i)"
   ]
  },
  {
   "cell_type": "code",
   "execution_count": null,
   "metadata": {},
   "outputs": [],
   "source": []
  }
 ],
 "metadata": {
  "kernelspec": {
   "display_name": "Python 3",
   "language": "python",
   "name": "python3"
  },
  "language_info": {
   "codemirror_mode": {
    "name": "ipython",
    "version": 3
   },
   "file_extension": ".py",
   "mimetype": "text/x-python",
   "name": "python",
   "nbconvert_exporter": "python",
   "pygments_lexer": "ipython3",
   "version": "3.6.8"
  }
 },
 "nbformat": 4,
 "nbformat_minor": 2
}
