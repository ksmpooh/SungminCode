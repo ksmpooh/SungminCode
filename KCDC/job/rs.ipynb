{
 "cells": [
  {
   "cell_type": "code",
   "execution_count": 2,
   "metadata": {},
   "outputs": [],
   "source": [
    "# 나중에 colunm으로....\n",
    "#1:1234_C/G\n",
    "wdir = \"c:/Users/user/Desktop/KCDC/rs/\" "
   ]
  },
  {
   "cell_type": "code",
   "execution_count": 3,
   "metadata": {},
   "outputs": [],
   "source": [
    "import pandas as pd"
   ]
  },
  {
   "cell_type": "code",
   "execution_count": 4,
   "metadata": {},
   "outputs": [],
   "source": [
    "#kchip = pd.read_csv(\"c:/Users/user/Desktop/KCDC/rs/Axiom_KORV1_1.na35.annot.extract.txt\",sep = '\\t')\n",
    "kchip = pd.read_csv(\"c:/Users/user/Desktop/KCDC/rs/Axiom_KORV1_1.na35.annot.extract.txt\",sep = '\\t',index_col = 2,dtype = 'str')\n"
   ]
  },
  {
   "cell_type": "code",
   "execution_count": 5,
   "metadata": {},
   "outputs": [
    {
     "data": {
      "text/html": [
       "<div>\n",
       "<style scoped>\n",
       "    .dataframe tbody tr th:only-of-type {\n",
       "        vertical-align: middle;\n",
       "    }\n",
       "\n",
       "    .dataframe tbody tr th {\n",
       "        vertical-align: top;\n",
       "    }\n",
       "\n",
       "    .dataframe thead th {\n",
       "        text-align: right;\n",
       "    }\n",
       "</style>\n",
       "<table border=\"1\" class=\"dataframe\">\n",
       "  <thead>\n",
       "    <tr style=\"text-align: right;\">\n",
       "      <th></th>\n",
       "      <th>Probe_Set_ID</th>\n",
       "      <th>Affy_SNP_ID</th>\n",
       "      <th>Chromosome</th>\n",
       "      <th>Physical_Position</th>\n",
       "      <th>Strand</th>\n",
       "      <th>Cytoband</th>\n",
       "      <th>Allele_A</th>\n",
       "      <th>Allele_B</th>\n",
       "      <th>Ref_Allele</th>\n",
       "      <th>Alt_Allele</th>\n",
       "      <th>Position_End</th>\n",
       "      <th>Flank</th>\n",
       "    </tr>\n",
       "    <tr>\n",
       "      <th>dbSNP_RS_ID</th>\n",
       "      <th></th>\n",
       "      <th></th>\n",
       "      <th></th>\n",
       "      <th></th>\n",
       "      <th></th>\n",
       "      <th></th>\n",
       "      <th></th>\n",
       "      <th></th>\n",
       "      <th></th>\n",
       "      <th></th>\n",
       "      <th></th>\n",
       "      <th></th>\n",
       "    </tr>\n",
       "  </thead>\n",
       "  <tbody>\n",
       "    <tr>\n",
       "      <th>rs10007601</th>\n",
       "      <td>AFFX-KIT-000002</td>\n",
       "      <td>Affx-23811321</td>\n",
       "      <td>4</td>\n",
       "      <td>164934874</td>\n",
       "      <td>+</td>\n",
       "      <td>q32.3</td>\n",
       "      <td>A</td>\n",
       "      <td>G</td>\n",
       "      <td>G</td>\n",
       "      <td>A</td>\n",
       "      <td>164934874</td>\n",
       "      <td>CAGCAACTGTGCAGGTCACAAGGAAGTGAGATGAC[A/G]AAGTCA...</td>\n",
       "    </tr>\n",
       "    <tr>\n",
       "      <th>rs10056215</th>\n",
       "      <td>AFFX-KIT-000003</td>\n",
       "      <td>Affx-26018273</td>\n",
       "      <td>5</td>\n",
       "      <td>163542505</td>\n",
       "      <td>+</td>\n",
       "      <td>q34</td>\n",
       "      <td>T</td>\n",
       "      <td>G</td>\n",
       "      <td>T</td>\n",
       "      <td>G</td>\n",
       "      <td>163542505</td>\n",
       "      <td>GCAATTTAATTGAACATGGGCATAATAACCACCAA[G/T]AGCTGG...</td>\n",
       "    </tr>\n",
       "    <tr>\n",
       "      <th>rs10075407</th>\n",
       "      <td>AFFX-KIT-000004</td>\n",
       "      <td>Affx-26419011</td>\n",
       "      <td>5</td>\n",
       "      <td>2993645</td>\n",
       "      <td>+</td>\n",
       "      <td>p15.33</td>\n",
       "      <td>A</td>\n",
       "      <td>G</td>\n",
       "      <td>G</td>\n",
       "      <td>A</td>\n",
       "      <td>2993645</td>\n",
       "      <td>CAACGACTAGAGGCTGTTTCCGGAAGTCCTTGACC[A/G]TGTGTG...</td>\n",
       "    </tr>\n",
       "    <tr>\n",
       "      <th>rs10150378</th>\n",
       "      <td>AFFX-KIT-000005</td>\n",
       "      <td>Affx-10528637</td>\n",
       "      <td>14</td>\n",
       "      <td>44000834</td>\n",
       "      <td>+</td>\n",
       "      <td>q21.2</td>\n",
       "      <td>T</td>\n",
       "      <td>C</td>\n",
       "      <td>T</td>\n",
       "      <td>C</td>\n",
       "      <td>44000834</td>\n",
       "      <td>AATTCAGATGAAGTTAGCACTCCTTCACTGTGAAA[C/T]TGTAAA...</td>\n",
       "    </tr>\n",
       "  </tbody>\n",
       "</table>\n",
       "</div>"
      ],
      "text/plain": [
       "                Probe_Set_ID    Affy_SNP_ID Chromosome Physical_Position  \\\n",
       "dbSNP_RS_ID                                                                \n",
       "rs10007601   AFFX-KIT-000002  Affx-23811321          4         164934874   \n",
       "rs10056215   AFFX-KIT-000003  Affx-26018273          5         163542505   \n",
       "rs10075407   AFFX-KIT-000004  Affx-26419011          5           2993645   \n",
       "rs10150378   AFFX-KIT-000005  Affx-10528637         14          44000834   \n",
       "\n",
       "            Strand Cytoband Allele_A Allele_B Ref_Allele Alt_Allele  \\\n",
       "dbSNP_RS_ID                                                           \n",
       "rs10007601       +    q32.3        A        G          G          A   \n",
       "rs10056215       +      q34        T        G          T          G   \n",
       "rs10075407       +   p15.33        A        G          G          A   \n",
       "rs10150378       +    q21.2        T        C          T          C   \n",
       "\n",
       "            Position_End                                              Flank  \n",
       "dbSNP_RS_ID                                                                  \n",
       "rs10007601     164934874  CAGCAACTGTGCAGGTCACAAGGAAGTGAGATGAC[A/G]AAGTCA...  \n",
       "rs10056215     163542505  GCAATTTAATTGAACATGGGCATAATAACCACCAA[G/T]AGCTGG...  \n",
       "rs10075407       2993645  CAACGACTAGAGGCTGTTTCCGGAAGTCCTTGACC[A/G]TGTGTG...  \n",
       "rs10150378      44000834  AATTCAGATGAAGTTAGCACTCCTTCACTGTGAAA[C/T]TGTAAA...  "
      ]
     },
     "execution_count": 5,
     "metadata": {},
     "output_type": "execute_result"
    }
   ],
   "source": [
    "kchip[1:5]"
   ]
  },
  {
   "cell_type": "code",
   "execution_count": 6,
   "metadata": {},
   "outputs": [
    {
     "data": {
      "text/plain": [
       "Probe_Set_ID         object\n",
       "Affy_SNP_ID          object\n",
       "Chromosome           object\n",
       "Physical_Position    object\n",
       "Strand               object\n",
       "Cytoband             object\n",
       "Allele_A             object\n",
       "Allele_B             object\n",
       "Ref_Allele           object\n",
       "Alt_Allele           object\n",
       "Position_End         object\n",
       "Flank                object\n",
       "dtype: object"
      ]
     },
     "execution_count": 6,
     "metadata": {},
     "output_type": "execute_result"
    }
   ],
   "source": [
    "kchip.dtypes"
   ]
  },
  {
   "cell_type": "code",
   "execution_count": 7,
   "metadata": {},
   "outputs": [],
   "source": [
    "#col = ['Probe_Set_ID','dbSNP_RS_ID','Chromosome','Physical_Position','Ref_Allele','Alt_Allele']\n",
    "col = ['Probe_Set_ID','Chromosome','Physical_Position','Ref_Allele','Alt_Allele']\n",
    "kchip1 = kchip[col]"
   ]
  },
  {
   "cell_type": "code",
   "execution_count": 8,
   "metadata": {},
   "outputs": [
    {
     "data": {
      "text/html": [
       "<div>\n",
       "<style scoped>\n",
       "    .dataframe tbody tr th:only-of-type {\n",
       "        vertical-align: middle;\n",
       "    }\n",
       "\n",
       "    .dataframe tbody tr th {\n",
       "        vertical-align: top;\n",
       "    }\n",
       "\n",
       "    .dataframe thead th {\n",
       "        text-align: right;\n",
       "    }\n",
       "</style>\n",
       "<table border=\"1\" class=\"dataframe\">\n",
       "  <thead>\n",
       "    <tr style=\"text-align: right;\">\n",
       "      <th></th>\n",
       "      <th>Probe_Set_ID</th>\n",
       "      <th>Chromosome</th>\n",
       "      <th>Physical_Position</th>\n",
       "      <th>Ref_Allele</th>\n",
       "      <th>Alt_Allele</th>\n",
       "    </tr>\n",
       "    <tr>\n",
       "      <th>dbSNP_RS_ID</th>\n",
       "      <th></th>\n",
       "      <th></th>\n",
       "      <th></th>\n",
       "      <th></th>\n",
       "      <th></th>\n",
       "    </tr>\n",
       "  </thead>\n",
       "  <tbody>\n",
       "    <tr>\n",
       "      <th>rs10007601</th>\n",
       "      <td>AFFX-KIT-000002</td>\n",
       "      <td>4</td>\n",
       "      <td>164934874</td>\n",
       "      <td>G</td>\n",
       "      <td>A</td>\n",
       "    </tr>\n",
       "    <tr>\n",
       "      <th>rs10056215</th>\n",
       "      <td>AFFX-KIT-000003</td>\n",
       "      <td>5</td>\n",
       "      <td>163542505</td>\n",
       "      <td>T</td>\n",
       "      <td>G</td>\n",
       "    </tr>\n",
       "    <tr>\n",
       "      <th>rs10075407</th>\n",
       "      <td>AFFX-KIT-000004</td>\n",
       "      <td>5</td>\n",
       "      <td>2993645</td>\n",
       "      <td>G</td>\n",
       "      <td>A</td>\n",
       "    </tr>\n",
       "  </tbody>\n",
       "</table>\n",
       "</div>"
      ],
      "text/plain": [
       "                Probe_Set_ID Chromosome Physical_Position Ref_Allele  \\\n",
       "dbSNP_RS_ID                                                            \n",
       "rs10007601   AFFX-KIT-000002          4         164934874          G   \n",
       "rs10056215   AFFX-KIT-000003          5         163542505          T   \n",
       "rs10075407   AFFX-KIT-000004          5           2993645          G   \n",
       "\n",
       "            Alt_Allele  \n",
       "dbSNP_RS_ID             \n",
       "rs10007601           A  \n",
       "rs10056215           G  \n",
       "rs10075407           A  "
      ]
     },
     "execution_count": 8,
     "metadata": {},
     "output_type": "execute_result"
    }
   ],
   "source": [
    "kchip1[1:4]"
   ]
  },
  {
   "cell_type": "code",
   "execution_count": 9,
   "metadata": {},
   "outputs": [
    {
     "name": "stderr",
     "output_type": "stream",
     "text": [
      "C:\\Users\\user\\Python\\Anaconda\\lib\\site-packages\\ipykernel_launcher.py:2: SettingWithCopyWarning: \n",
      "A value is trying to be set on a copy of a slice from a DataFrame.\n",
      "Try using .loc[row_indexer,col_indexer] = value instead\n",
      "\n",
      "See the caveats in the documentation: http://pandas.pydata.org/pandas-docs/stable/indexing.html#indexing-view-versus-copy\n",
      "  \n"
     ]
    }
   ],
   "source": [
    "#kchip2 = kchip1.assign(ID = lambda x : str(x[\"Chromosome\"]) + \":\" + str(x[\"Physical_Position\"]) +\"_\"+ x[\"Ref_Allele\"]+\"/\"+x[\"Alt_Allele\"])\n",
    "kchip1['ID'] =  kchip1[\"Chromosome\"] + \":\" + kchip1[\"Physical_Position\"] +\"_\"+ kchip1[\"Ref_Allele\"]+\"/\"+kchip1[\"Alt_Allele\"]"
   ]
  },
  {
   "cell_type": "code",
   "execution_count": 10,
   "metadata": {},
   "outputs": [
    {
     "data": {
      "text/html": [
       "<div>\n",
       "<style scoped>\n",
       "    .dataframe tbody tr th:only-of-type {\n",
       "        vertical-align: middle;\n",
       "    }\n",
       "\n",
       "    .dataframe tbody tr th {\n",
       "        vertical-align: top;\n",
       "    }\n",
       "\n",
       "    .dataframe thead th {\n",
       "        text-align: right;\n",
       "    }\n",
       "</style>\n",
       "<table border=\"1\" class=\"dataframe\">\n",
       "  <thead>\n",
       "    <tr style=\"text-align: right;\">\n",
       "      <th></th>\n",
       "      <th>Probe_Set_ID</th>\n",
       "      <th>Chromosome</th>\n",
       "      <th>Physical_Position</th>\n",
       "      <th>Ref_Allele</th>\n",
       "      <th>Alt_Allele</th>\n",
       "      <th>ID</th>\n",
       "    </tr>\n",
       "    <tr>\n",
       "      <th>dbSNP_RS_ID</th>\n",
       "      <th></th>\n",
       "      <th></th>\n",
       "      <th></th>\n",
       "      <th></th>\n",
       "      <th></th>\n",
       "      <th></th>\n",
       "    </tr>\n",
       "  </thead>\n",
       "  <tbody>\n",
       "    <tr>\n",
       "      <th>rs10007601</th>\n",
       "      <td>AFFX-KIT-000002</td>\n",
       "      <td>4</td>\n",
       "      <td>164934874</td>\n",
       "      <td>G</td>\n",
       "      <td>A</td>\n",
       "      <td>4:164934874_G/A</td>\n",
       "    </tr>\n",
       "    <tr>\n",
       "      <th>rs10056215</th>\n",
       "      <td>AFFX-KIT-000003</td>\n",
       "      <td>5</td>\n",
       "      <td>163542505</td>\n",
       "      <td>T</td>\n",
       "      <td>G</td>\n",
       "      <td>5:163542505_T/G</td>\n",
       "    </tr>\n",
       "    <tr>\n",
       "      <th>rs10075407</th>\n",
       "      <td>AFFX-KIT-000004</td>\n",
       "      <td>5</td>\n",
       "      <td>2993645</td>\n",
       "      <td>G</td>\n",
       "      <td>A</td>\n",
       "      <td>5:2993645_G/A</td>\n",
       "    </tr>\n",
       "  </tbody>\n",
       "</table>\n",
       "</div>"
      ],
      "text/plain": [
       "                Probe_Set_ID Chromosome Physical_Position Ref_Allele  \\\n",
       "dbSNP_RS_ID                                                            \n",
       "rs10007601   AFFX-KIT-000002          4         164934874          G   \n",
       "rs10056215   AFFX-KIT-000003          5         163542505          T   \n",
       "rs10075407   AFFX-KIT-000004          5           2993645          G   \n",
       "\n",
       "            Alt_Allele               ID  \n",
       "dbSNP_RS_ID                              \n",
       "rs10007601           A  4:164934874_G/A  \n",
       "rs10056215           G  5:163542505_T/G  \n",
       "rs10075407           A    5:2993645_G/A  "
      ]
     },
     "execution_count": 10,
     "metadata": {},
     "output_type": "execute_result"
    }
   ],
   "source": [
    "kchip1[1:4]"
   ]
  },
  {
   "cell_type": "code",
   "execution_count": 11,
   "metadata": {},
   "outputs": [],
   "source": [
    "f = open(\"c:/Users/user/Desktop/KCDC/rs/rsNo.txt\",'r')\n",
    "rs = [s.replace('\\n','') for s in f]\n",
    "rs = rs[1:]"
   ]
  },
  {
   "cell_type": "code",
   "execution_count": 12,
   "metadata": {},
   "outputs": [
    {
     "name": "stderr",
     "output_type": "stream",
     "text": [
      "C:\\Users\\user\\Python\\Anaconda\\lib\\site-packages\\pandas\\core\\indexing.py:1494: FutureWarning: \n",
      "Passing list-likes to .loc or [] with any missing label will raise\n",
      "KeyError in the future, you can use .reindex() as an alternative.\n",
      "\n",
      "See the documentation here:\n",
      "https://pandas.pydata.org/pandas-docs/stable/indexing.html#deprecate-loc-reindex-listlike\n",
      "  return self._getitem_tuple(key)\n"
     ]
    }
   ],
   "source": [
    "out = kchip1.loc[rs,:]\n",
    "#out = kchip1[kchip1.dbSNP_RS_ID.isin(rs)]"
   ]
  },
  {
   "cell_type": "code",
   "execution_count": 13,
   "metadata": {},
   "outputs": [
    {
     "data": {
      "text/html": [
       "<div>\n",
       "<style scoped>\n",
       "    .dataframe tbody tr th:only-of-type {\n",
       "        vertical-align: middle;\n",
       "    }\n",
       "\n",
       "    .dataframe tbody tr th {\n",
       "        vertical-align: top;\n",
       "    }\n",
       "\n",
       "    .dataframe thead th {\n",
       "        text-align: right;\n",
       "    }\n",
       "</style>\n",
       "<table border=\"1\" class=\"dataframe\">\n",
       "  <thead>\n",
       "    <tr style=\"text-align: right;\">\n",
       "      <th></th>\n",
       "      <th>Probe_Set_ID</th>\n",
       "      <th>Chromosome</th>\n",
       "      <th>Physical_Position</th>\n",
       "      <th>Ref_Allele</th>\n",
       "      <th>Alt_Allele</th>\n",
       "      <th>ID</th>\n",
       "    </tr>\n",
       "    <tr>\n",
       "      <th>dbSNP_RS_ID</th>\n",
       "      <th></th>\n",
       "      <th></th>\n",
       "      <th></th>\n",
       "      <th></th>\n",
       "      <th></th>\n",
       "      <th></th>\n",
       "    </tr>\n",
       "  </thead>\n",
       "  <tbody>\n",
       "    <tr>\n",
       "      <th>exm2271636</th>\n",
       "      <td>NaN</td>\n",
       "      <td>NaN</td>\n",
       "      <td>NaN</td>\n",
       "      <td>NaN</td>\n",
       "      <td>NaN</td>\n",
       "      <td>NaN</td>\n",
       "    </tr>\n",
       "    <tr>\n",
       "      <th>rs10030552</th>\n",
       "      <td>AX-11088391</td>\n",
       "      <td>4</td>\n",
       "      <td>140972264</td>\n",
       "      <td>C</td>\n",
       "      <td>A</td>\n",
       "      <td>4:140972264_C/A</td>\n",
       "    </tr>\n",
       "    <tr>\n",
       "      <th>rs1004467</th>\n",
       "      <td>AX-38703695</td>\n",
       "      <td>10</td>\n",
       "      <td>104594507</td>\n",
       "      <td>A</td>\n",
       "      <td>G</td>\n",
       "      <td>10:104594507_A/G</td>\n",
       "    </tr>\n",
       "    <tr>\n",
       "      <th>rs10045504</th>\n",
       "      <td>AX-11089313</td>\n",
       "      <td>5</td>\n",
       "      <td>38762288</td>\n",
       "      <td>A</td>\n",
       "      <td>C</td>\n",
       "      <td>5:38762288_A/C</td>\n",
       "    </tr>\n",
       "  </tbody>\n",
       "</table>\n",
       "</div>"
      ],
      "text/plain": [
       "            Probe_Set_ID Chromosome Physical_Position Ref_Allele Alt_Allele  \\\n",
       "dbSNP_RS_ID                                                                   \n",
       "exm2271636           NaN        NaN               NaN        NaN        NaN   \n",
       "rs10030552   AX-11088391          4         140972264          C          A   \n",
       "rs1004467    AX-38703695         10         104594507          A          G   \n",
       "rs10045504   AX-11089313          5          38762288          A          C   \n",
       "\n",
       "                           ID  \n",
       "dbSNP_RS_ID                    \n",
       "exm2271636                NaN  \n",
       "rs10030552    4:140972264_C/A  \n",
       "rs1004467    10:104594507_A/G  \n",
       "rs10045504     5:38762288_A/C  "
      ]
     },
     "execution_count": 13,
     "metadata": {},
     "output_type": "execute_result"
    }
   ],
   "source": [
    "out[1:5]"
   ]
  },
  {
   "cell_type": "code",
   "execution_count": 180,
   "metadata": {},
   "outputs": [
    {
     "data": {
      "text/plain": [
       "Probe_Set_ID         object\n",
       "Chromosome           object\n",
       "Physical_Position    object\n",
       "Ref_Allele           object\n",
       "Alt_Allele           object\n",
       "ID                   object\n",
       "dtype: object"
      ]
     },
     "execution_count": 180,
     "metadata": {},
     "output_type": "execute_result"
    }
   ],
   "source": [
    "out.dtypes"
   ]
  },
  {
   "cell_type": "code",
   "execution_count": null,
   "metadata": {},
   "outputs": [],
   "source": []
  },
  {
   "cell_type": "code",
   "execution_count": 181,
   "metadata": {},
   "outputs": [],
   "source": [
    "#out.to_csv(wdir + \"01.rs.txt\",sep=\"\\t\")\n",
    "out.to_excel(wdir + \"01.rs.xlsx\")"
   ]
  },
  {
   "cell_type": "code",
   "execution_count": 38,
   "metadata": {},
   "outputs": [],
   "source": [
    "#### 교집합으로 찾기"
   ]
  },
  {
   "cell_type": "code",
   "execution_count": 39,
   "metadata": {},
   "outputs": [
    {
     "data": {
      "text/plain": [
       "['exm2271636', 'rs10030552', 'rs1004467', 'rs10045504']"
      ]
     },
     "execution_count": 39,
     "metadata": {},
     "output_type": "execute_result"
    }
   ],
   "source": [
    "rs[1:5]"
   ]
  },
  {
   "cell_type": "code",
   "execution_count": 34,
   "metadata": {},
   "outputs": [],
   "source": [
    "kchipId = kchip1.index"
   ]
  },
  {
   "cell_type": "code",
   "execution_count": 36,
   "metadata": {},
   "outputs": [
    {
     "data": {
      "text/plain": [
       "Index(['rs1000440', 'rs10007601', 'rs10056215', 'rs10075407', 'rs10150378',\n",
       "       'rs10196277', 'rs1021996', 'rs10266230', 'rs10505079', 'rs10507375',\n",
       "       ...\n",
       "       '---', 'rs377507907', '---', '---', '---', 'rs387907164', '---', '---',\n",
       "       'rs301797', '---'],\n",
       "      dtype='object', name='dbSNP_RS_ID', length=827783)"
      ]
     },
     "execution_count": 36,
     "metadata": {},
     "output_type": "execute_result"
    }
   ],
   "source": [
    "kchipId"
   ]
  },
  {
   "cell_type": "code",
   "execution_count": 42,
   "metadata": {},
   "outputs": [
    {
     "name": "stdout",
     "output_type": "stream",
     "text": [
      "rs10007601\n",
      "rs10056215\n",
      "rs10075407\n"
     ]
    }
   ],
   "source": [
    "for i in kchipId[1:4]:\n",
    "    print(i)"
   ]
  },
  {
   "cell_type": "code",
   "execution_count": 45,
   "metadata": {},
   "outputs": [],
   "source": [
    "def intersection(set1,set2):\n",
    "    return [v for v in set1 if v in set(set2)]"
   ]
  },
  {
   "cell_type": "code",
   "execution_count": 47,
   "metadata": {},
   "outputs": [],
   "source": [
    "# 시간이 오래 걸림.....\n",
    "#outID = intersection(rs,kchipId)"
   ]
  },
  {
   "cell_type": "code",
   "execution_count": 49,
   "metadata": {},
   "outputs": [
    {
     "data": {
      "text/plain": [
       "507"
      ]
     },
     "execution_count": 49,
     "metadata": {},
     "output_type": "execute_result"
    }
   ],
   "source": [
    "len(outID)"
   ]
  },
  {
   "cell_type": "code",
   "execution_count": 50,
   "metadata": {},
   "outputs": [],
   "source": [
    "output = open(wdir + \"notinKchipID.txt\",'w')\n",
    "for i in outID:\n",
    "    output.write(i + \"\\n\")\n",
    "output.close()"
   ]
  },
  {
   "cell_type": "code",
   "execution_count": null,
   "metadata": {},
   "outputs": [],
   "source": []
  }
 ],
 "metadata": {
  "kernelspec": {
   "display_name": "Python 3",
   "language": "python",
   "name": "python3"
  },
  "language_info": {
   "codemirror_mode": {
    "name": "ipython",
    "version": 3
   },
   "file_extension": ".py",
   "mimetype": "text/x-python",
   "name": "python",
   "nbconvert_exporter": "python",
   "pygments_lexer": "ipython3",
   "version": "3.6.8"
  }
 },
 "nbformat": 4,
 "nbformat_minor": 2
}
