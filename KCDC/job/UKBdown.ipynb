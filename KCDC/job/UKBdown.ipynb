{
 "cells": [
  {
   "cell_type": "code",
   "execution_count": 1,
   "metadata": {},
   "outputs": [],
   "source": [
    "#### UK exome seq 저장"
   ]
  },
  {
   "cell_type": "code",
   "execution_count": 20,
   "metadata": {},
   "outputs": [],
   "source": [
    "wDir = \"c:/Users/user/Desktop/KCDC/UKbiobank/code/\"\n",
    "#./gfetch 23156 -c22 -aref.data.set/k57705r44899.key"
   ]
  },
  {
   "cell_type": "code",
   "execution_count": 21,
   "metadata": {},
   "outputs": [],
   "source": [
    "def filein(datain):\n",
    "    a = open(datain,'r')\n",
    "    return [s.replace(\"\\n\",\"\") for s in a]\n",
    "\n",
    "def fileout(datain,path):\n",
    "    a = open(path,\"w\")\n",
    "    for i in datain:\n",
    "        a.write(','.join(str(s) for s in i)+'\\n')\n",
    "    a.close()\n",
    "    return a"
   ]
  },
  {
   "cell_type": "code",
   "execution_count": 22,
   "metadata": {},
   "outputs": [],
   "source": [
    "refs = filein(wDir + \"block.txt\" )"
   ]
  },
  {
   "cell_type": "code",
   "execution_count": 23,
   "metadata": {},
   "outputs": [
    {
     "data": {
      "text/plain": [
       "'977\\t2'"
      ]
     },
     "execution_count": 23,
     "metadata": {},
     "output_type": "execute_result"
    }
   ],
   "source": [
    "len(ref)\n",
    "ref[0:5]"
   ]
  },
  {
   "cell_type": "code",
   "execution_count": 24,
   "metadata": {},
   "outputs": [],
   "source": [
    "sh1 = open(wDir+\"exome.plink1.sh\",\"w\")\n",
    "sh2 = open(wDir+\"exome.plink2.sh\",\"w\")\n",
    "for ref in refs:\n",
    "    i,chrom,block,front,tail = ref.split()\n",
    "    if int(i) < 500:\n",
    "        sh1.write(\"./gfetch 23155 -c%s -b%s -aref.data.set/k57705r44899.key\\n\")\n",
    "    else:\n",
    "        sh2.write(\"./gfetch 23155 -c%s -b%s -aref.data.set/k57705r44899.key\\n\")\n",
    "    sh2.write(\"./gfetch 23156 -c%s -b%s -m -aref.data.set/k57705r44899.key\\n\")\n",
    "sh1.close()\n",
    "sh2.close()\n",
    "        "
   ]
  },
  {
   "cell_type": "code",
   "execution_count": 25,
   "metadata": {},
   "outputs": [],
   "source": [
    "sh1 = open(wDir+\"exome.pvcf1.sh\",\"w\")\n",
    "sh2 = open(wDir+\"exome.pvcf2.sh\",\"w\")\n",
    "for ref in refs:\n",
    "    i,chrom,block,front,tail = ref.split()\n",
    "    if int(i) < 500:\n",
    "        sh1.write(\"./gfetch 23156 -c%s -b%s -aref.data.set/k57705r44899.key\\n\")\n",
    "    else:\n",
    "        sh2.write(\"./gfetch 23156 -c%s -b%s -aref.data.set/k57705r44899.key\\n\")\n",
    "    sh2.write(\"./gfetch 23156 -c%s -b%s -m -aref.data.set/k57705r44899.key\\n\")\n",
    "sh1.close()\n",
    "sh2.close()\n",
    "        "
   ]
  },
  {
   "cell_type": "code",
   "execution_count": 27,
   "metadata": {},
   "outputs": [],
   "source": [
    "sh1 = open(wDir + \"50K.plink.sh\",\"w\")\n",
    "for i in range(1,22):\n",
    "    sh1.write(\"./ukbgene efe -c%s -aref.data.set/k57705r44899.key\\n\")\n",
    "    sh1.write(\"./ukbgene efe -c%s -m -aref.data.set/k57705r44899.key\\n\")\n",
    "sh1.close()"
   ]
  },
  {
   "cell_type": "code",
   "execution_count": null,
   "metadata": {},
   "outputs": [],
   "source": []
  }
 ],
 "metadata": {
  "kernelspec": {
   "display_name": "Python 3",
   "language": "python",
   "name": "python3"
  },
  "language_info": {
   "codemirror_mode": {
    "name": "ipython",
    "version": 3
   },
   "file_extension": ".py",
   "mimetype": "text/x-python",
   "name": "python",
   "nbconvert_exporter": "python",
   "pygments_lexer": "ipython3",
   "version": "3.6.8"
  }
 },
 "nbformat": 4,
 "nbformat_minor": 2
}
