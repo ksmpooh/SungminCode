{
 "cells": [
  {
   "cell_type": "code",
   "execution_count": 25,
   "id": "acting-shepherd",
   "metadata": {},
   "outputs": [],
   "source": [
    "wdir = \"/Users/ksmpooh/Desktop/KCDC/long_read/2022/VCF/\""
   ]
  },
  {
   "cell_type": "code",
   "execution_count": 29,
   "id": "micro-deployment",
   "metadata": {},
   "outputs": [],
   "source": [
    "import gzip,os\n",
    "count = 0\n",
    "with open(wdir + 'test.vcf','w') as fout:\n",
    "    with gzip.open(wdir + 'HLA.Longread.Seq.Q20.Deepvariant_Variantcalling.GLnexus_Jointcalling.vcf.gz','rt') as fin:\n",
    "        for line in fin:\n",
    "            if line[0] == \"#\":\n",
    "                fout.write(line)\n",
    "                continue\n",
    "            count = count + 1\n",
    "            if count == 10:\n",
    "                break\n",
    "            #print(line[0:200])\n",
    "            pos = line.split(\"\\t\")[1]\n",
    "            new_line = line.replace(\"\\t%s\\t\"%(pos),\"\\t%s\\t\"%(str(int(pos)+28477797 - 1)))\n",
    "            fout.write(new_line)\n",
    "            #print(line.replace(\"\\t104\\t\",\"\\ttest\\t\")[0:200])\n",
    "            #6:28477797-33448354\n",
    "            \n",
    "#os.system(\"bgzip -c %s)"
   ]
  },
  {
   "cell_type": "code",
   "execution_count": null,
   "id": "early-ivory",
   "metadata": {},
   "outputs": [],
   "source": []
  },
  {
   "cell_type": "code",
   "execution_count": 32,
   "id": "employed-surprise",
   "metadata": {},
   "outputs": [
    {
     "data": {
      "text/plain": [
       "'3,3,3,2'"
      ]
     },
     "execution_count": 32,
     "metadata": {},
     "output_type": "execute_result"
    }
   ],
   "source": [
    "a = '1,1,1,2'\n",
    "a.replace('1','3')"
   ]
  },
  {
   "cell_type": "code",
   "execution_count": null,
   "id": "efficient-bracelet",
   "metadata": {},
   "outputs": [],
   "source": []
  }
 ],
 "metadata": {
  "kernelspec": {
   "display_name": "Python 3",
   "language": "python",
   "name": "python3"
  },
  "language_info": {
   "codemirror_mode": {
    "name": "ipython",
    "version": 3
   },
   "file_extension": ".py",
   "mimetype": "text/x-python",
   "name": "python",
   "nbconvert_exporter": "python",
   "pygments_lexer": "ipython3",
   "version": "3.8.5"
  }
 },
 "nbformat": 4,
 "nbformat_minor": 5
}
