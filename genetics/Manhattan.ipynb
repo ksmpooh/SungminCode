{
 "cells": [
  {
   "cell_type": "code",
   "execution_count": 2,
   "metadata": {},
   "outputs": [
    {
     "name": "stderr",
     "output_type": "stream",
     "text": [
      "Warning message:\n",
      "\"package 'qqman' was built under R version 3.6.1\"\n",
      "For example usage please run: vignette('qqman')\n",
      "\n",
      "Citation appreciated but not required:\n",
      "Turner, S.D. qqman: an R package for visualizing GWAS results using Q-Q and manhattan plots. biorXiv DOI: 10.1101/005165 (2014).\n",
      "\n"
     ]
    }
   ],
   "source": [
    "#example manhattan\n",
    "library(qqman)"
   ]
  },
  {
   "cell_type": "code",
   "execution_count": 4,
   "metadata": {},
   "outputs": [
    {
     "data": {
      "text/html": [
       "<table>\n",
       "<thead><tr><th scope=col>SNP</th><th scope=col>CHR</th><th scope=col>BP</th><th scope=col>P</th></tr></thead>\n",
       "<tbody>\n",
       "\t<tr><td>rs1      </td><td>1        </td><td>1        </td><td>0.9148060</td></tr>\n",
       "\t<tr><td>rs2      </td><td>1        </td><td>2        </td><td>0.9370754</td></tr>\n",
       "\t<tr><td>rs3      </td><td>1        </td><td>3        </td><td>0.2861395</td></tr>\n",
       "\t<tr><td>rs4      </td><td>1        </td><td>4        </td><td>0.8304476</td></tr>\n",
       "\t<tr><td>rs5      </td><td>1        </td><td>5        </td><td>0.6417455</td></tr>\n",
       "\t<tr><td>rs6      </td><td>1        </td><td>6        </td><td>0.5190959</td></tr>\n",
       "</tbody>\n",
       "</table>\n"
      ],
      "text/latex": [
       "\\begin{tabular}{r|llll}\n",
       " SNP & CHR & BP & P\\\\\n",
       "\\hline\n",
       "\t rs1       & 1         & 1         & 0.9148060\\\\\n",
       "\t rs2       & 1         & 2         & 0.9370754\\\\\n",
       "\t rs3       & 1         & 3         & 0.2861395\\\\\n",
       "\t rs4       & 1         & 4         & 0.8304476\\\\\n",
       "\t rs5       & 1         & 5         & 0.6417455\\\\\n",
       "\t rs6       & 1         & 6         & 0.5190959\\\\\n",
       "\\end{tabular}\n"
      ],
      "text/markdown": [
       "\n",
       "| SNP | CHR | BP | P |\n",
       "|---|---|---|---|\n",
       "| rs1       | 1         | 1         | 0.9148060 |\n",
       "| rs2       | 1         | 2         | 0.9370754 |\n",
       "| rs3       | 1         | 3         | 0.2861395 |\n",
       "| rs4       | 1         | 4         | 0.8304476 |\n",
       "| rs5       | 1         | 5         | 0.6417455 |\n",
       "| rs6       | 1         | 6         | 0.5190959 |\n",
       "\n"
      ],
      "text/plain": [
       "  SNP CHR BP P        \n",
       "1 rs1 1   1  0.9148060\n",
       "2 rs2 1   2  0.9370754\n",
       "3 rs3 1   3  0.2861395\n",
       "4 rs4 1   4  0.8304476\n",
       "5 rs5 1   5  0.6417455\n",
       "6 rs6 1   6  0.5190959"
      ]
     },
     "metadata": {},
     "output_type": "display_data"
    }
   ],
   "source": [
    "#gwasResults is the example data in qqman\n",
    "head(gwasResults)"
   ]
  },
  {
   "cell_type": "code",
   "execution_count": 6,
   "metadata": {},
   "outputs": [
    {
     "ename": "ERROR",
     "evalue": "Error in chr %in% names(x): 기본값이 없는 인수 \"x\"가 누락되어 있습니다\n",
     "output_type": "error",
     "traceback": [
      "Error in chr %in% names(x): 기본값이 없는 인수 \"x\"가 누락되어 있습니다\nTraceback:\n",
      "1. manhattan()",
      "2. chr %in% names(x)"
     ]
    },
    {
     "data": {
      "image/png": "[encoded data removed]",
      "text/plain": [
       "plot without title"
      ]
     },
     "metadata": {},
     "output_type": "display_data"
    }
   ],
   "source": [
    "manhattan(gwasResults)\n",
    "manhattan()"
   ]
  },
  {
   "cell_type": "code",
   "execution_count": null,
   "metadata": {},
   "outputs": [],
   "source": []
  }
 ],
 "metadata": {
  "kernelspec": {
   "display_name": "R",
   "language": "R",
   "name": "ir"
  },
  "language_info": {
   "codemirror_mode": "r",
   "file_extension": ".r",
   "mimetype": "text/x-r-source",
   "name": "R",
   "pygments_lexer": "r",
   "version": "3.6.0"
  }
 },
 "nbformat": 4,
 "nbformat_minor": 2
}
